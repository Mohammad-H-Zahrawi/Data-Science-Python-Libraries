{
  "nbformat": 4,
  "nbformat_minor": 0,
  "metadata": {
    "colab": {
      "provenance": [],
      "collapsed_sections": [
        "Cqn4LdubTDUL",
        "XrNnFv9NmM9O",
        "ixDMCS7YnLKS",
        "EWRZq_36p18m"
      ],
      "authorship_tag": "ABX9TyMg0zGUmKl3RCNCQNtiB5NY",
      "include_colab_link": true
    },
    "kernelspec": {
      "name": "python3",
      "display_name": "Python 3"
    },
    "language_info": {
      "name": "python"
    }
  },
  "cells": [
    {
      "cell_type": "markdown",
      "metadata": {
        "id": "view-in-github",
        "colab_type": "text"
      },
      "source": [
        "<a href=\"https://colab.research.google.com/github/Mohammad-H-Zahrawi/Machine_Learning_Courses/blob/master/python%2Bnumpy%2Bpandas%2Bmatplotlib/python_crash_course_Mohammad_Zahrawi.ipynb\" target=\"_parent\"><img src=\"https://colab.research.google.com/assets/colab-badge.svg\" alt=\"Open In Colab\"/></a>"
      ]
    },
    {
      "cell_type": "markdown",
      "source": [
        "# Python"
      ],
      "metadata": {
        "id": "Ewz1lVhL-r89"
      }
    },
    {
      "cell_type": "markdown",
      "source": [
        "## strings"
      ],
      "metadata": {
        "id": "Cqn4LdubTDUL"
      }
    },
    {
      "cell_type": "code",
      "source": [
        "name = \"John\"\n",
        "age = \"35\""
      ],
      "metadata": {
        "id": "zS_CUVp-lE0w"
      },
      "execution_count": null,
      "outputs": []
    },
    {
      "cell_type": "code",
      "source": [
        "print('Hello World')\n",
        "print(\"There once was a man named \" + name + \",\")\n",
        "print(\"he was \" + age + \" years old,\")\n",
        "print(\"He really liked the name \" + name + \",\")\n",
        "print(\"but didn't like being \" + age + \".\")"
      ],
      "metadata": {
        "colab": {
          "base_uri": "https://localhost:8080/"
        },
        "id": "O0spQQGslGDK",
        "outputId": "0479b468-5c5b-4ac7-a8ea-fb87c529682f"
      },
      "execution_count": null,
      "outputs": [
        {
          "output_type": "stream",
          "name": "stdout",
          "text": [
            "Hello World\n",
            "There once was a man named John,\n",
            "he was 35 years old,\n",
            "He really liked the name John,\n",
            "but didn't like being 35.\n"
          ]
        }
      ]
    },
    {
      "cell_type": "code",
      "source": [
        "print('Hello \\nWorld')\n",
        "print('Hello \\\"World')"
      ],
      "metadata": {
        "colab": {
          "base_uri": "https://localhost:8080/"
        },
        "id": "ECmLKmHflL2z",
        "outputId": "30cfb8f9-edf3-422e-c3df-9a873584e4a8"
      },
      "execution_count": null,
      "outputs": [
        {
          "output_type": "stream",
          "name": "stdout",
          "text": [
            "Hello \n",
            "World\n",
            "Hello \"World\n"
          ]
        }
      ]
    },
    {
      "cell_type": "code",
      "source": [
        "name = \"United Arab Emirate\"\n",
        "print(name)\n",
        "print(name.lower())\n",
        "print(name.upper())"
      ],
      "metadata": {
        "colab": {
          "base_uri": "https://localhost:8080/"
        },
        "id": "nQxFitkllOZV",
        "outputId": "81c7739f-5533-46b6-ee54-faab3ce7be20"
      },
      "execution_count": null,
      "outputs": [
        {
          "output_type": "stream",
          "name": "stdout",
          "text": [
            "United Arab Emirate\n",
            "united arab emirate\n",
            "UNITED ARAB EMIRATE\n"
          ]
        }
      ]
    },
    {
      "cell_type": "markdown",
      "source": [
        "Find length of variable name"
      ],
      "metadata": {
        "id": "NUT3cVqYlSQn"
      }
    },
    {
      "cell_type": "code",
      "source": [
        "len(name)"
      ],
      "metadata": {
        "colab": {
          "base_uri": "https://localhost:8080/"
        },
        "id": "WXE4zIMGlcz-",
        "outputId": "9cf8a3f9-7d56-41dc-c0bd-73ac85af8f50"
      },
      "execution_count": null,
      "outputs": [
        {
          "output_type": "execute_result",
          "data": {
            "text/plain": [
              "20"
            ]
          },
          "metadata": {},
          "execution_count": 8
        }
      ]
    },
    {
      "cell_type": "markdown",
      "source": [
        "Find the first letter of variable name"
      ],
      "metadata": {
        "id": "L7_CCKOHlkZy"
      }
    },
    {
      "cell_type": "code",
      "source": [
        "print(name[0])"
      ],
      "metadata": {
        "colab": {
          "base_uri": "https://localhost:8080/"
        },
        "id": "VliAuc1tle-Q",
        "outputId": "88a2312d-fd17-44a8-f4c5-08f1935d436b"
      },
      "execution_count": null,
      "outputs": [
        {
          "output_type": "stream",
          "name": "stdout",
          "text": [
            "U\n"
          ]
        }
      ]
    },
    {
      "cell_type": "markdown",
      "source": [
        "Find the location of word \"Arab\""
      ],
      "metadata": {
        "id": "iJVA6Nhjl9CS"
      }
    },
    {
      "cell_type": "code",
      "source": [
        "print(name.index(\"Arab\"))"
      ],
      "metadata": {
        "colab": {
          "base_uri": "https://localhost:8080/"
        },
        "id": "TQ_nvIpEljoe",
        "outputId": "95d708f2-bd5d-4e62-882d-d3bc939f87d1"
      },
      "execution_count": null,
      "outputs": [
        {
          "output_type": "stream",
          "name": "stdout",
          "text": [
            "7\n"
          ]
        }
      ]
    },
    {
      "cell_type": "markdown",
      "source": [
        "Replace Emirate by Emirates"
      ],
      "metadata": {
        "id": "dKtiov5jmERJ"
      }
    },
    {
      "cell_type": "code",
      "source": [
        "print(name.replace('Emirate', 'Emirates'))"
      ],
      "metadata": {
        "colab": {
          "base_uri": "https://localhost:8080/"
        },
        "id": "MzeyVgeYl4Xj",
        "outputId": "4e40af6d-8949-4dff-954d-7910c68a4672"
      },
      "execution_count": null,
      "outputs": [
        {
          "output_type": "stream",
          "name": "stdout",
          "text": [
            "United Arab Emirates\n"
          ]
        }
      ]
    },
    {
      "cell_type": "markdown",
      "source": [
        "## Numbers"
      ],
      "metadata": {
        "id": "XrNnFv9NmM9O"
      }
    },
    {
      "cell_type": "code",
      "source": [
        "my_num = 5\n",
        "print(str(my_num)+\" my favorite number\")"
      ],
      "metadata": {
        "colab": {
          "base_uri": "https://localhost:8080/"
        },
        "id": "tt8iVMYumTJD",
        "outputId": "df0da48c-49fe-4bb1-cfb7-18b670988a3a"
      },
      "execution_count": null,
      "outputs": [
        {
          "output_type": "stream",
          "name": "stdout",
          "text": [
            "5 my favorite number\n"
          ]
        }
      ]
    },
    {
      "cell_type": "code",
      "source": [
        "print(10/3)\n",
        "print(10%3)"
      ],
      "metadata": {
        "colab": {
          "base_uri": "https://localhost:8080/"
        },
        "id": "2An_0VMjmXzh",
        "outputId": "3e7bf7b0-2b79-4f79-cf7a-ee515c3b210e"
      },
      "execution_count": null,
      "outputs": [
        {
          "output_type": "stream",
          "name": "stdout",
          "text": [
            "3.3333333333333335\n",
            "1\n"
          ]
        }
      ]
    },
    {
      "cell_type": "code",
      "source": [
        "num = -6\n",
        "print(abs(num))\n",
        "(print(pow(num,2)))"
      ],
      "metadata": {
        "colab": {
          "base_uri": "https://localhost:8080/"
        },
        "id": "qLiGJn8KmY_J",
        "outputId": "ec91f68a-b732-41e6-8689-33b4a8be7872"
      },
      "execution_count": null,
      "outputs": [
        {
          "output_type": "stream",
          "name": "stdout",
          "text": [
            "6\n",
            "36\n"
          ]
        }
      ]
    },
    {
      "cell_type": "code",
      "source": [
        "print(max(10,2,5,11,65,82,10))\n",
        "print('\\n')\n",
        "print(min(10,2,5,11,65,82,10))"
      ],
      "metadata": {
        "colab": {
          "base_uri": "https://localhost:8080/"
        },
        "id": "YqobqRLmmaUa",
        "outputId": "4ae71cfe-44dc-4ace-f229-4dc92a430c8e"
      },
      "execution_count": null,
      "outputs": [
        {
          "output_type": "stream",
          "name": "stdout",
          "text": [
            "82\n",
            "\n",
            "\n",
            "2\n"
          ]
        }
      ]
    },
    {
      "cell_type": "code",
      "source": [
        "print(round(3.4))\n",
        "print(round(3.7))\n",
        "print(round(4.5))"
      ],
      "metadata": {
        "colab": {
          "base_uri": "https://localhost:8080/"
        },
        "id": "BWAGHirsmeX6",
        "outputId": "f0c1cdd9-444f-4ed3-e881-6fc1225bcb6d"
      },
      "execution_count": null,
      "outputs": [
        {
          "output_type": "stream",
          "name": "stdout",
          "text": [
            "3\n",
            "4\n",
            "4\n"
          ]
        }
      ]
    },
    {
      "cell_type": "code",
      "source": [
        "from math import *\n",
        "print(ceil(3.1))\n",
        "print(floor(5.8))\n",
        "print(sqrt(64))"
      ],
      "metadata": {
        "colab": {
          "base_uri": "https://localhost:8080/"
        },
        "id": "ZZwfuqfsmgFy",
        "outputId": "94ebab65-dc6d-45a5-a8c3-8109903478c3"
      },
      "execution_count": null,
      "outputs": [
        {
          "output_type": "stream",
          "name": "stdout",
          "text": [
            "4\n",
            "5\n",
            "8.0\n"
          ]
        }
      ]
    },
    {
      "cell_type": "code",
      "source": [
        "name = input('enter your name')\n",
        "age = input('enter your age')\n",
        "print(\"Hello \"+name+\", \"+\"you are \"+age)"
      ],
      "metadata": {
        "colab": {
          "base_uri": "https://localhost:8080/"
        },
        "id": "wT7l0XkvmhtA",
        "outputId": "5a9389fe-04b4-4982-d415-c6b1a47f5790"
      },
      "execution_count": null,
      "outputs": [
        {
          "output_type": "stream",
          "name": "stdout",
          "text": [
            "enter your name bh\n",
            "enter your agejj\n",
            "Hello bh, you are jj\n"
          ]
        }
      ]
    },
    {
      "cell_type": "code",
      "source": [
        "num1 = input(\"enter a number\")\n",
        "num2 = input(\"enter another number\")\n",
        "result = float(num1)+float(num2)\n",
        "print(result)"
      ],
      "metadata": {
        "colab": {
          "base_uri": "https://localhost:8080/"
        },
        "id": "EceRLVCvmkP1",
        "outputId": "782e3df7-d3f9-4b66-c01d-c7051c22a16b"
      },
      "execution_count": null,
      "outputs": [
        {
          "output_type": "stream",
          "name": "stdout",
          "text": [
            "enter a number0.1\n",
            "enter another number0.2\n",
            "0.30000000000000004\n"
          ]
        }
      ]
    },
    {
      "cell_type": "code",
      "source": [
        "# Mad Libs Game\n",
        "color=input(\"enter a color: \")\n",
        "plural_noun=input(\"enter a plural noun: \")\n",
        "celebrity = input(\"enter a celebrity: \")\n",
        "\n",
        "print(\"Roses are \" + color)\n",
        "print(plural_noun + \" are blue\")\n",
        "print(\"I love \" + celebrity)"
      ],
      "metadata": {
        "colab": {
          "base_uri": "https://localhost:8080/"
        },
        "id": "xrn5ic1MmtPE",
        "outputId": "65238994-2bcd-433b-ae80-5c42336ec6c2"
      },
      "execution_count": null,
      "outputs": [
        {
          "output_type": "stream",
          "name": "stdout",
          "text": [
            "enter a color: red\n",
            "enter a plural noun: cars\n",
            "enter a celebrity: messi\n",
            "Roses are red\n",
            "cars are blue\n",
            "I love messi\n"
          ]
        }
      ]
    },
    {
      "cell_type": "code",
      "source": [
        "# Mad Libs Game\n",
        "color=input(\"ادخل لون \")\n",
        "plural_noun=input(\"ادخل اسم جمع \")\n",
        "celebrity = input(\"ادخل اسم شخصية مشهورة\")\n",
        "\n",
        "print(\"الورد لونه \" + color)\n",
        "print(plural_noun + \" جميلة\")\n",
        "print(\"انا احب \" + celebrity)"
      ],
      "metadata": {
        "id": "vokNmexfmxsf"
      },
      "execution_count": null,
      "outputs": []
    },
    {
      "cell_type": "markdown",
      "source": [
        "##Lists"
      ],
      "metadata": {
        "id": "ixDMCS7YnLKS"
      }
    },
    {
      "cell_type": "code",
      "source": [
        "friends= [\"Ahmad\", \"Omar\", \"Sarah\", \"Blaek\"]\n",
        "print(friends)\n",
        "print(friends[1])"
      ],
      "metadata": {
        "colab": {
          "base_uri": "https://localhost:8080/"
        },
        "id": "lS76qXDmnYMw",
        "outputId": "8823b2cb-5f02-4354-b8ec-b754f913355c"
      },
      "execution_count": null,
      "outputs": [
        {
          "output_type": "stream",
          "name": "stdout",
          "text": [
            "['Ahmad', 'Omar', 'Sarah', 'Blaek']\n",
            "Omar\n"
          ]
        }
      ]
    },
    {
      "cell_type": "markdown",
      "source": [
        "Print the last name in the list"
      ],
      "metadata": {
        "id": "G4mqTms8oBSq"
      }
    },
    {
      "cell_type": "code",
      "source": [
        "print(friends[-1])"
      ],
      "metadata": {
        "colab": {
          "base_uri": "https://localhost:8080/"
        },
        "id": "C4FXABg7oBFa",
        "outputId": "a5a33ef7-8ea6-4de3-e7b6-3a571a250596"
      },
      "execution_count": null,
      "outputs": [
        {
          "output_type": "stream",
          "name": "stdout",
          "text": [
            "Blaek\n"
          ]
        }
      ]
    },
    {
      "cell_type": "markdown",
      "source": [
        "Print the first three names in the list"
      ],
      "metadata": {
        "id": "d3Khgc4DoIJx"
      }
    },
    {
      "cell_type": "code",
      "source": [
        "print(friends[0:3])\n"
      ],
      "metadata": {
        "colab": {
          "base_uri": "https://localhost:8080/"
        },
        "id": "9MZLqlXun68g",
        "outputId": "7b8960e0-fb16-4f32-e042-4a82f7f4ffac"
      },
      "execution_count": null,
      "outputs": [
        {
          "output_type": "stream",
          "name": "stdout",
          "text": [
            "['Ahmad', 'Omar', 'Sarah']\n"
          ]
        }
      ]
    },
    {
      "cell_type": "code",
      "source": [
        "print(friends[2:])\n",
        "print(friends[1:2])"
      ],
      "metadata": {
        "colab": {
          "base_uri": "https://localhost:8080/"
        },
        "id": "TgJ2WA7doO3h",
        "outputId": "f1cb70b2-71f6-4bd3-8a54-5b6c20d1df3a"
      },
      "execution_count": null,
      "outputs": [
        {
          "output_type": "stream",
          "name": "stdout",
          "text": [
            "['Sarah', 'Blaek']\n",
            "['Omar']\n"
          ]
        }
      ]
    },
    {
      "cell_type": "markdown",
      "source": [
        "Change the first name in the list into Mike\n"
      ],
      "metadata": {
        "id": "_MZ92fYVoP-b"
      }
    },
    {
      "cell_type": "code",
      "source": [
        "friends[0]='Mike'\n",
        "print(friends)"
      ],
      "metadata": {
        "colab": {
          "base_uri": "https://localhost:8080/"
        },
        "id": "urwSdezcoXFh",
        "outputId": "38e32a98-c3cc-4cdc-d836-f8d9e875862c"
      },
      "execution_count": null,
      "outputs": [
        {
          "output_type": "stream",
          "name": "stdout",
          "text": [
            "['Mike', 'Omar', 'Sarah', 'Blaek']\n"
          ]
        }
      ]
    },
    {
      "cell_type": "code",
      "source": [
        "lucky_number=[1,5,8,4,2]\n",
        "cars = ['Ford','Dodge','BMW','Mercedes','Ferrari']\n",
        "cars.extend(lucky_number)\n",
        "print(cars)"
      ],
      "metadata": {
        "colab": {
          "base_uri": "https://localhost:8080/"
        },
        "id": "Af_t02etoXlO",
        "outputId": "91535a66-9783-4a90-e19a-ae1df87aeb70"
      },
      "execution_count": null,
      "outputs": [
        {
          "output_type": "stream",
          "name": "stdout",
          "text": [
            "['Ford', 'Dodge', 'BMW', 'Mercedes', 'Ferrari', 1, 5, 8, 4, 2]\n"
          ]
        }
      ]
    },
    {
      "cell_type": "markdown",
      "source": [
        "Add name \"Audi\" to the list"
      ],
      "metadata": {
        "id": "xKjg0GD8oamG"
      }
    },
    {
      "cell_type": "code",
      "source": [
        "cars.append('Audi')\n",
        "print(cars)"
      ],
      "metadata": {
        "colab": {
          "base_uri": "https://localhost:8080/"
        },
        "id": "ewxFHZUaogVJ",
        "outputId": "e5fa7741-123c-4d72-d274-b19a724f1172"
      },
      "execution_count": null,
      "outputs": [
        {
          "output_type": "stream",
          "name": "stdout",
          "text": [
            "['Ford', 'Dodge', 'BMW', 'Mercedes', 'Ferrari', 1, 5, 8, 4, 2, 'Audi']\n"
          ]
        }
      ]
    },
    {
      "cell_type": "markdown",
      "source": [
        "Insert name :Nissan at  the second in the list"
      ],
      "metadata": {
        "id": "KOkkOuVWogzc"
      }
    },
    {
      "cell_type": "code",
      "source": [
        "cars.insert(1,\"Nissan\")\n",
        "print(cars)"
      ],
      "metadata": {
        "colab": {
          "base_uri": "https://localhost:8080/"
        },
        "id": "yWzDF2tmomq4",
        "outputId": "b8ef2a30-1ab2-409a-f08d-4526df1bd723"
      },
      "execution_count": null,
      "outputs": [
        {
          "output_type": "stream",
          "name": "stdout",
          "text": [
            "['Ford', 'Nissan', 'Dodge', 'BMW', 'Mercedes', 'Ferrari', 1, 5, 8, 4, 2, 'Audi']\n"
          ]
        }
      ]
    },
    {
      "cell_type": "markdown",
      "source": [
        "Delete \"Nissan\" from the list"
      ],
      "metadata": {
        "id": "G4EV93s3onBn"
      }
    },
    {
      "cell_type": "code",
      "source": [
        "cars.remove('Nissan')\n",
        "print(cars)"
      ],
      "metadata": {
        "colab": {
          "base_uri": "https://localhost:8080/"
        },
        "id": "CUigb7d7ouro",
        "outputId": "f0c93a01-ac1e-4e58-9ade-49962355ecaf"
      },
      "execution_count": null,
      "outputs": [
        {
          "output_type": "stream",
          "name": "stdout",
          "text": [
            "['Ford', 'Dodge', 'BMW', 'Mercedes', 'Ferrari', 1, 5, 8, 4, 2, 'Audi']\n"
          ]
        }
      ]
    },
    {
      "cell_type": "markdown",
      "source": [
        "Delete last element"
      ],
      "metadata": {
        "id": "j7cT6UQ1oySW"
      }
    },
    {
      "cell_type": "code",
      "source": [
        "cars.pop()\n",
        "print(cars)"
      ],
      "metadata": {
        "colab": {
          "base_uri": "https://localhost:8080/"
        },
        "id": "no3i0Ebgo0pr",
        "outputId": "13a898b4-e952-4bea-c6fe-79307a700884"
      },
      "execution_count": null,
      "outputs": [
        {
          "output_type": "stream",
          "name": "stdout",
          "text": [
            "['Ford', 'Dodge', 'BMW', 'Mercedes', 'Ferrari', 1, 5, 8, 4, 2]\n"
          ]
        }
      ]
    },
    {
      "cell_type": "markdown",
      "source": [
        "Find the location of \"BMW\""
      ],
      "metadata": {
        "id": "BhpibnYXo2QX"
      }
    },
    {
      "cell_type": "code",
      "source": [
        "print(cars.index(\"BMW\"))"
      ],
      "metadata": {
        "colab": {
          "base_uri": "https://localhost:8080/"
        },
        "id": "vWGOF8Pto5ph",
        "outputId": "f96b9277-fa4c-4c68-b7b4-247d527868d3"
      },
      "execution_count": null,
      "outputs": [
        {
          "output_type": "stream",
          "name": "stdout",
          "text": [
            "2\n"
          ]
        }
      ]
    },
    {
      "cell_type": "code",
      "source": [
        "alphabet = ['a','b','c']\n",
        "print(alphabet)"
      ],
      "metadata": {
        "colab": {
          "base_uri": "https://localhost:8080/"
        },
        "id": "A2Drqb9ao7DJ",
        "outputId": "ad534491-18f8-4931-a34d-310dd328858c"
      },
      "execution_count": null,
      "outputs": [
        {
          "output_type": "stream",
          "name": "stdout",
          "text": [
            "['a', 'b', 'c']\n"
          ]
        }
      ]
    },
    {
      "cell_type": "markdown",
      "source": [
        "Delete all element from the list"
      ],
      "metadata": {
        "id": "V0G8Bc5Co-67"
      }
    },
    {
      "cell_type": "code",
      "source": [
        "alphabet.clear()\n",
        "print(alphabet)"
      ],
      "metadata": {
        "colab": {
          "base_uri": "https://localhost:8080/"
        },
        "id": "n3ySXu80pCpc",
        "outputId": "5a32175d-ced7-4cec-9503-c4b461e75403"
      },
      "execution_count": null,
      "outputs": [
        {
          "output_type": "stream",
          "name": "stdout",
          "text": [
            "[]\n"
          ]
        }
      ]
    },
    {
      "cell_type": "code",
      "source": [
        "alphabet = ['ali','book','zoo','BMW','19','ants','door','zoo']"
      ],
      "metadata": {
        "id": "u_XewihppNp6"
      },
      "execution_count": null,
      "outputs": []
    },
    {
      "cell_type": "markdown",
      "source": [
        "Sort the list"
      ],
      "metadata": {
        "id": "tOYAj0Z0pYhK"
      }
    },
    {
      "cell_type": "code",
      "source": [
        "alphabet.sort()\n",
        "alphabet"
      ],
      "metadata": {
        "colab": {
          "base_uri": "https://localhost:8080/"
        },
        "id": "uglSiIFspa3l",
        "outputId": "49adc4fd-2043-4b1e-b7c4-b9a19f31efd1"
      },
      "execution_count": null,
      "outputs": [
        {
          "output_type": "execute_result",
          "data": {
            "text/plain": [
              "['19', 'BMW', 'ali', 'ants', 'book', 'door', 'zoo', 'zoo']"
            ]
          },
          "metadata": {},
          "execution_count": 53
        }
      ]
    },
    {
      "cell_type": "markdown",
      "source": [
        "Count the word 'zoo'"
      ],
      "metadata": {
        "id": "25-LRKEJpccL"
      }
    },
    {
      "cell_type": "code",
      "source": [
        "print(alphabet.count('zoo'))"
      ],
      "metadata": {
        "colab": {
          "base_uri": "https://localhost:8080/"
        },
        "id": "Y8heK4WqpkKo",
        "outputId": "bd04d0a7-61bd-4792-ccf0-a0493c345b8f"
      },
      "execution_count": null,
      "outputs": [
        {
          "output_type": "stream",
          "name": "stdout",
          "text": [
            "2\n"
          ]
        }
      ]
    },
    {
      "cell_type": "markdown",
      "source": [
        "Sort the list in reverse"
      ],
      "metadata": {
        "id": "YcMOKoldplGZ"
      }
    },
    {
      "cell_type": "code",
      "source": [
        "alphabet.reverse()\n",
        "print(alphabet)"
      ],
      "metadata": {
        "colab": {
          "base_uri": "https://localhost:8080/"
        },
        "id": "scH-QAU9pqlv",
        "outputId": "df745a83-9701-48a9-dead-8e89e2215af6"
      },
      "execution_count": null,
      "outputs": [
        {
          "output_type": "stream",
          "name": "stdout",
          "text": [
            "['zoo', 'zoo', 'door', 'book', 'ants', 'ali', 'BMW', '19']\n"
          ]
        }
      ]
    },
    {
      "cell_type": "markdown",
      "source": [
        "Create a copy of the list and assign it to new variable \"alpha\""
      ],
      "metadata": {
        "id": "FRJWuJnApsD2"
      }
    },
    {
      "cell_type": "code",
      "source": [
        "alpha=alphabet.copy()\n",
        "print(alpha)"
      ],
      "metadata": {
        "colab": {
          "base_uri": "https://localhost:8080/"
        },
        "id": "Gf9jT7l4p0NZ",
        "outputId": "223735be-7843-43a4-da18-a4fbb378809e"
      },
      "execution_count": null,
      "outputs": [
        {
          "output_type": "stream",
          "name": "stdout",
          "text": [
            "['zoo', 'zoo', 'door', 'book', 'ants', 'ali', 'BMW', '19']\n"
          ]
        }
      ]
    },
    {
      "cell_type": "markdown",
      "source": [
        "## Tubles"
      ],
      "metadata": {
        "id": "EWRZq_36p18m"
      }
    },
    {
      "cell_type": "code",
      "source": [
        "coordinates = (4,5,6,'Num')\n",
        "print(coordinates)\n",
        "print(coordinates[2])"
      ],
      "metadata": {
        "colab": {
          "base_uri": "https://localhost:8080/"
        },
        "id": "XZbpHyMKp6WE",
        "outputId": "c101a4ed-6cd5-42b9-b2fa-aae9a38d58a2"
      },
      "execution_count": null,
      "outputs": [
        {
          "output_type": "stream",
          "name": "stdout",
          "text": [
            "(4, 5, 6, 'Num')\n",
            "6\n"
          ]
        }
      ]
    },
    {
      "cell_type": "code",
      "source": [
        "coordinates = [(1,2) , (3 , 4) , (5 , 6)]\n",
        "coordinates[1] = (9,16)\n",
        "\n",
        "print(coordinates)"
      ],
      "metadata": {
        "colab": {
          "base_uri": "https://localhost:8080/"
        },
        "id": "PY0oqfbfv0lB",
        "outputId": "f47845a3-d313-4a8a-ae1d-40d8b3537fec"
      },
      "execution_count": null,
      "outputs": [
        {
          "output_type": "stream",
          "name": "stdout",
          "text": [
            "[(1, 2), (9, 16), (5, 6)]\n"
          ]
        }
      ]
    },
    {
      "cell_type": "markdown",
      "source": [
        "##Dictionaries"
      ],
      "metadata": {
        "id": "srRSt3pYv1vm"
      }
    },
    {
      "cell_type": "code",
      "source": [
        "monthConversion ={\n",
        "    \"Sep\":\"September\",\n",
        "    \"Oct\":\"October\",\n",
        "    \"Nov\":\"November\",\n",
        "    \"Dec\":\"December\"\n",
        "}\n",
        "print(monthConversion)"
      ],
      "metadata": {
        "id": "5UH6pk0XwFYe",
        "colab": {
          "base_uri": "https://localhost:8080/"
        },
        "outputId": "0a515c47-b350-423a-fa63-f88aaad36a05"
      },
      "execution_count": null,
      "outputs": [
        {
          "output_type": "stream",
          "name": "stdout",
          "text": [
            "{'Sep': 'September', 'Oct': 'October', 'Nov': 'November', 'Dec': 'December'}\n"
          ]
        }
      ]
    },
    {
      "cell_type": "code",
      "source": [
        "print(monthConversion['Sep'])\n",
        "print(monthConversion.get('Dec','not a valid key'))\n",
        "print(monthConversion.get('Jann','not a valid key'))"
      ],
      "metadata": {
        "colab": {
          "base_uri": "https://localhost:8080/"
        },
        "id": "4uI-5qNt2QoG",
        "outputId": "8370ebf9-91ac-4115-a41c-5ce4d72cddeb"
      },
      "execution_count": null,
      "outputs": [
        {
          "output_type": "stream",
          "name": "stdout",
          "text": [
            "September\n",
            "December\n",
            "not a valid key\n"
          ]
        }
      ]
    },
    {
      "cell_type": "code",
      "source": [
        "monthConversion.keys()"
      ],
      "metadata": {
        "colab": {
          "base_uri": "https://localhost:8080/"
        },
        "id": "9ztuW1mV8Pqw",
        "outputId": "ece7ca00-a10e-4613-d060-3638b21bfd5d"
      },
      "execution_count": null,
      "outputs": [
        {
          "output_type": "execute_result",
          "data": {
            "text/plain": [
              "dict_keys(['Sep', 'Oct', 'Nov', 'Dec'])"
            ]
          },
          "metadata": {},
          "execution_count": 73
        }
      ]
    },
    {
      "cell_type": "code",
      "source": [
        "monthConversion.values()"
      ],
      "metadata": {
        "id": "bu2P9QRW8Ss2",
        "outputId": "21242b79-acbc-4867-b9fb-e8f841b88431",
        "colab": {
          "base_uri": "https://localhost:8080/"
        }
      },
      "execution_count": null,
      "outputs": [
        {
          "output_type": "execute_result",
          "data": {
            "text/plain": [
              "dict_values(['September', 'October', 'November', 'December'])"
            ]
          },
          "metadata": {},
          "execution_count": 74
        }
      ]
    },
    {
      "cell_type": "markdown",
      "source": [
        "## If Statement"
      ],
      "metadata": {
        "id": "I0cy7DYjVVUr"
      }
    },
    {
      "cell_type": "code",
      "source": [
        "is_male = True\n",
        "tall = True\n",
        "if is_male and tall:\n",
        "    print('you are a tall male')\n",
        "elif is_male and not(tall):\n",
        "    print('you are short male')\n",
        "elif not(is_male) and (tall):\n",
        "    print('you are tall female')\n",
        "else:\n",
        "    print('you are short female')"
      ],
      "metadata": {
        "colab": {
          "base_uri": "https://localhost:8080/"
        },
        "id": "L1fXV1ajVWC6",
        "outputId": "2dbd6fb0-b881-4b0b-e92f-05f18761cea4"
      },
      "execution_count": null,
      "outputs": [
        {
          "output_type": "stream",
          "name": "stdout",
          "text": [
            "you are a tall male\n"
          ]
        }
      ]
    },
    {
      "cell_type": "code",
      "source": [
        "def max_num(num1, num2,num3):\n",
        "    if num1 >= num2 and num1 >= num2:\n",
        "        return num1\n",
        "    elif num2>=num1 and num2 >= num3:\n",
        "        return num2\n",
        "    else:\n",
        "        return num3\n",
        "\n",
        "max_num(111 , 31 , 9)"
      ],
      "metadata": {
        "colab": {
          "base_uri": "https://localhost:8080/"
        },
        "id": "M7C0AZ6JVWAc",
        "outputId": "b2517895-466e-4737-ba02-94978647686b"
      },
      "execution_count": null,
      "outputs": [
        {
          "output_type": "execute_result",
          "data": {
            "text/plain": [
              "111"
            ]
          },
          "metadata": {},
          "execution_count": 88
        }
      ]
    },
    {
      "cell_type": "code",
      "source": [
        "num1 = float(input('Enter first number'))\n",
        "num2 = float(input('Enter second number'))\n",
        "op = input('Enter operator')\n",
        "\n",
        "if op=='+':\n",
        "    print (num1+num2)\n",
        "elif op==\"-\":\n",
        "    print (num1-num2)\n",
        "elif op=='/':\n",
        "    print(num1/num2)\n",
        "elif op=='*':\n",
        "    print(num1*num2)\n",
        "else:\n",
        "    print('Invalid operator')"
      ],
      "metadata": {
        "colab": {
          "base_uri": "https://localhost:8080/"
        },
        "id": "vCLwfLmCVV99",
        "outputId": "aa891dae-7e59-46ec-c2ac-f44d748a2345"
      },
      "execution_count": null,
      "outputs": [
        {
          "output_type": "stream",
          "name": "stdout",
          "text": [
            "Enter first number5\n",
            "Enter second number5\n",
            "Enter operator+\n",
            "10.0\n"
          ]
        }
      ]
    },
    {
      "cell_type": "code",
      "source": [],
      "metadata": {
        "id": "QYftZlwdVV7j"
      },
      "execution_count": null,
      "outputs": []
    },
    {
      "cell_type": "markdown",
      "source": [
        "## while Loop"
      ],
      "metadata": {
        "id": "1keYv5888TgO"
      }
    },
    {
      "cell_type": "code",
      "source": [
        "i = 1\n",
        "while i <= 10:\n",
        "    print(i)\n",
        "    i = i+2"
      ],
      "metadata": {
        "colab": {
          "base_uri": "https://localhost:8080/"
        },
        "id": "tQLninI3Ue2j",
        "outputId": "cd3d8fce-d208-407c-8f51-1b9742ee09b9"
      },
      "execution_count": null,
      "outputs": [
        {
          "output_type": "stream",
          "name": "stdout",
          "text": [
            "1\n",
            "3\n",
            "5\n",
            "7\n",
            "9\n"
          ]
        }
      ]
    },
    {
      "cell_type": "code",
      "source": [
        "secret_word = 'giraffe'\n",
        "guess=''\n",
        "count_guess = 0\n",
        "count_limits=3\n",
        "out_of_guesses = False\n",
        "while guess != secret_word and not(out_of_guesses):\n",
        "    count_guess = count_guess + 1\n",
        "    if count_guess<=count_limits:\n",
        "        guess = input('Enter a guess: ')\n",
        "    else:\n",
        "        out_of_guesses=True\n",
        "if out_of_guesses:\n",
        "    print(\"you lose!\")\n",
        "else:\n",
        "    print(\"you win!\")"
      ],
      "metadata": {
        "colab": {
          "base_uri": "https://localhost:8080/"
        },
        "id": "1xVqbeNfUsLz",
        "outputId": "47370fcd-df83-4646-c1b3-07463d41ff45"
      },
      "execution_count": null,
      "outputs": [
        {
          "output_type": "stream",
          "name": "stdout",
          "text": [
            "Enter a guess: h\n",
            "Enter a guess: g\n",
            "Enter a guess: i\n",
            "you lose!\n"
          ]
        }
      ]
    },
    {
      "cell_type": "code",
      "source": [
        "friends = ['John','Hennry', 'Mark']\n",
        "for name in friends:\n",
        "    print(name)"
      ],
      "metadata": {
        "colab": {
          "base_uri": "https://localhost:8080/"
        },
        "id": "wNTSrUpGUuQG",
        "outputId": "1249d82b-7796-46f1-9bfa-83413766724e"
      },
      "execution_count": null,
      "outputs": [
        {
          "output_type": "stream",
          "name": "stdout",
          "text": [
            "John\n",
            "Hennry\n",
            "Mark\n"
          ]
        }
      ]
    },
    {
      "cell_type": "code",
      "source": [
        "for index in range (5):\n",
        "    print(index)"
      ],
      "metadata": {
        "colab": {
          "base_uri": "https://localhost:8080/"
        },
        "id": "HbBDQTEeVAKp",
        "outputId": "e10b0a3e-3d26-4883-a837-7879e8c8ef7b"
      },
      "execution_count": null,
      "outputs": [
        {
          "output_type": "stream",
          "name": "stdout",
          "text": [
            "0\n",
            "1\n",
            "2\n",
            "3\n",
            "4\n"
          ]
        }
      ]
    },
    {
      "cell_type": "code",
      "source": [
        "for index in range (10 , 14):\n",
        "    print(index)"
      ],
      "metadata": {
        "colab": {
          "base_uri": "https://localhost:8080/"
        },
        "id": "7MluPsGcVBoP",
        "outputId": "13ac1c0d-89a9-4060-dcfd-82b38cab5eec"
      },
      "execution_count": null,
      "outputs": [
        {
          "output_type": "stream",
          "name": "stdout",
          "text": [
            "10\n",
            "11\n",
            "12\n",
            "13\n"
          ]
        }
      ]
    },
    {
      "cell_type": "code",
      "source": [
        "ABC=['A','B','C','D','E']\n",
        "for index in range(len(ABC)):\n",
        "    print(index)"
      ],
      "metadata": {
        "colab": {
          "base_uri": "https://localhost:8080/"
        },
        "id": "RYQVHhaVVDB1",
        "outputId": "e5190afd-a88b-406a-972c-bb8c277a78a9"
      },
      "execution_count": null,
      "outputs": [
        {
          "output_type": "stream",
          "name": "stdout",
          "text": [
            "0\n",
            "1\n",
            "2\n",
            "3\n",
            "4\n"
          ]
        }
      ]
    },
    {
      "cell_type": "code",
      "source": [
        "print(2**4)"
      ],
      "metadata": {
        "colab": {
          "base_uri": "https://localhost:8080/"
        },
        "id": "amk-Yx0PVEyB",
        "outputId": "7ef207a8-35e3-497d-b907-63e876dabfbe"
      },
      "execution_count": null,
      "outputs": [
        {
          "output_type": "stream",
          "name": "stdout",
          "text": [
            "16\n"
          ]
        }
      ]
    },
    {
      "cell_type": "code",
      "source": [
        "def raise_to_power(number,power):\n",
        "    result = 1\n",
        "    for index in range(power):\n",
        "        result = result *number\n",
        "    return result\n",
        "print(raise_to_power(2,5))"
      ],
      "metadata": {
        "colab": {
          "base_uri": "https://localhost:8080/"
        },
        "id": "GDh2s8DKVHQ9",
        "outputId": "07aac20f-b285-4d26-8909-1146660cfa75"
      },
      "execution_count": null,
      "outputs": [
        {
          "output_type": "stream",
          "name": "stdout",
          "text": [
            "32\n"
          ]
        }
      ]
    },
    {
      "cell_type": "markdown",
      "source": [
        "## 2D lists"
      ],
      "metadata": {
        "id": "qb4c1fMJVzVH"
      }
    },
    {
      "cell_type": "code",
      "source": [
        "number_grid=[\n",
        "    [1,2,3],\n",
        "    [4,5,6],\n",
        "    [7,8,9],\n",
        "    [0]\n",
        "]\n",
        "print(number_grid[0])\n",
        "print(number_grid[1][2])"
      ],
      "metadata": {
        "colab": {
          "base_uri": "https://localhost:8080/"
        },
        "id": "LLeKxLMvVJD8",
        "outputId": "d95ff474-d031-4ca8-915a-40c5023dfe86"
      },
      "execution_count": null,
      "outputs": [
        {
          "output_type": "stream",
          "name": "stdout",
          "text": [
            "[1, 2, 3]\n",
            "6\n"
          ]
        }
      ]
    },
    {
      "cell_type": "code",
      "source": [
        "number_grid=[\n",
        "    [1,2,3],\n",
        "    [4,5,6],\n",
        "    [7,8,9],\n",
        "    [0]\n",
        "]\n",
        "for row in number_grid:\n",
        "    for col in row:\n",
        "        print(col)"
      ],
      "metadata": {
        "colab": {
          "base_uri": "https://localhost:8080/"
        },
        "id": "ifcE7Fa9Vlop",
        "outputId": "8f4eddd4-efa3-4ece-e55a-6c51ecaad66a"
      },
      "execution_count": null,
      "outputs": [
        {
          "output_type": "stream",
          "name": "stdout",
          "text": [
            "1\n",
            "2\n",
            "3\n",
            "4\n",
            "5\n",
            "6\n",
            "7\n",
            "8\n",
            "9\n",
            "0\n"
          ]
        }
      ]
    },
    {
      "cell_type": "code",
      "source": [
        "def translate(phrase):\n",
        "    translation = ''\n",
        "    for letter in phrase:\n",
        "        if letter =='A':\n",
        "            translation = translation +'a'\n",
        "        elif letter =='B':\n",
        "            translation = translation +'b'\n",
        "        elif letter == 'C':\n",
        "                translation = translation + 'c'\n",
        "        else:\n",
        "            translation = translation + letter\n",
        "    return translation\n",
        "\n",
        "print(translate('MOHAMMAD HAS A NICE CAR'))"
      ],
      "metadata": {
        "colab": {
          "base_uri": "https://localhost:8080/"
        },
        "id": "YjKdwnADVhZq",
        "outputId": "81874686-bd00-4c55-b1ad-bb43fabb508a"
      },
      "execution_count": null,
      "outputs": [
        {
          "output_type": "stream",
          "name": "stdout",
          "text": [
            "MOHaMMaD HaS a NIcE caR\n"
          ]
        }
      ]
    },
    {
      "cell_type": "markdown",
      "source": [
        "## comments"
      ],
      "metadata": {
        "id": "QGDJgi43VlSH"
      }
    },
    {
      "cell_type": "code",
      "source": [
        "# this is a comment"
      ],
      "metadata": {
        "id": "_NwxlhLbWETL"
      },
      "execution_count": null,
      "outputs": []
    },
    {
      "cell_type": "code",
      "source": [
        "'''\n",
        "and this one\n",
        "'''"
      ],
      "metadata": {
        "colab": {
          "base_uri": "https://localhost:8080/",
          "height": 36
        },
        "id": "rIh_4OQzWHKn",
        "outputId": "e64f6b6f-c5cf-47fd-e8ad-629f561d4148"
      },
      "execution_count": null,
      "outputs": [
        {
          "output_type": "execute_result",
          "data": {
            "text/plain": [
              "'\\nand this one\\n'"
            ],
            "application/vnd.google.colaboratory.intrinsic+json": {
              "type": "string"
            }
          },
          "metadata": {},
          "execution_count": 94
        }
      ]
    },
    {
      "cell_type": "markdown",
      "source": [
        "## Functions"
      ],
      "metadata": {
        "id": "EzaaryvLXqG3"
      }
    },
    {
      "cell_type": "code",
      "source": [
        "def say_hi(name,age):\n",
        "    print('Hello '+name)\n",
        "    print('you are '+age)\n",
        "    \n",
        "say_hi('Mohammad','22')\n",
        "say_hi('Husni','50')"
      ],
      "metadata": {
        "colab": {
          "base_uri": "https://localhost:8080/"
        },
        "id": "gYY-uqN8XqDV",
        "outputId": "aa532a85-d59f-4a6f-812f-22e0ea828560"
      },
      "execution_count": null,
      "outputs": [
        {
          "output_type": "stream",
          "name": "stdout",
          "text": [
            "Hello Mohammad\n",
            "you are 22\n",
            "Hello Husni\n",
            "you are 50\n"
          ]
        }
      ]
    },
    {
      "cell_type": "code",
      "source": [
        "def sum():\n",
        "  x=input('first')\n",
        "  y=input('second')\n",
        "  return x+y\n",
        "\n",
        "sum()\n"
      ],
      "metadata": {
        "colab": {
          "base_uri": "https://localhost:8080/",
          "height": 70
        },
        "id": "QQPUUgyQXqAg",
        "outputId": "f804bee5-7cb7-43df-e271-3947ee9f51d3"
      },
      "execution_count": null,
      "outputs": [
        {
          "name": "stdout",
          "output_type": "stream",
          "text": [
            "first4\n",
            "second5\n"
          ]
        },
        {
          "output_type": "execute_result",
          "data": {
            "text/plain": [
              "'45'"
            ],
            "application/vnd.google.colaboratory.intrinsic+json": {
              "type": "string"
            }
          },
          "metadata": {},
          "execution_count": 115
        }
      ]
    },
    {
      "cell_type": "code",
      "source": [
        "def sum():\n",
        "  x=input('first')\n",
        "  y=input('second')\n",
        "  return int(x)+int(y)\n",
        "\n",
        "sum()"
      ],
      "metadata": {
        "colab": {
          "base_uri": "https://localhost:8080/"
        },
        "id": "W1pzhAP4Xp2q",
        "outputId": "0ea5564f-3200-41ad-f673-a0d6206683a5"
      },
      "execution_count": null,
      "outputs": [
        {
          "name": "stdout",
          "output_type": "stream",
          "text": [
            "first4\n",
            "second5\n"
          ]
        },
        {
          "output_type": "execute_result",
          "data": {
            "text/plain": [
              "9"
            ]
          },
          "metadata": {},
          "execution_count": 116
        }
      ]
    },
    {
      "cell_type": "markdown",
      "source": [
        "## TRY and EXCEPT"
      ],
      "metadata": {
        "id": "TBPkzvdGWHXF"
      }
    },
    {
      "cell_type": "code",
      "source": [
        "try:\n",
        "    number = int(input('Enter a number: '))\n",
        "    print(number)\n",
        "except:\n",
        "    print('invalid Input')"
      ],
      "metadata": {
        "colab": {
          "base_uri": "https://localhost:8080/"
        },
        "id": "yS2qItgaWPL0",
        "outputId": "68946ea8-759a-4e4f-defb-2af0965660c8"
      },
      "execution_count": null,
      "outputs": [
        {
          "output_type": "stream",
          "name": "stdout",
          "text": [
            "Enter a number: 10\n",
            "10\n"
          ]
        }
      ]
    },
    {
      "cell_type": "code",
      "source": [
        "try:\n",
        "    number = int(input(\"enter a number: \"))\n",
        "    print(number)\n",
        "    10/0\n",
        "except ValueError:\n",
        "    print('Invalid number')\n",
        "except ZeroDivisionError:\n",
        "    print('can not divide by zero')"
      ],
      "metadata": {
        "id": "-aPBGKbnWQxk"
      },
      "execution_count": null,
      "outputs": []
    },
    {
      "cell_type": "markdown",
      "source": [
        "## Modules and Pips"
      ],
      "metadata": {
        "id": "RI55kGhEWUUr"
      }
    },
    {
      "cell_type": "code",
      "source": [
        "import math\n",
        "print(math.pi)"
      ],
      "metadata": {
        "colab": {
          "base_uri": "https://localhost:8080/"
        },
        "id": "fVrPYZWVWfRy",
        "outputId": "be9bc81d-e15f-48e8-d6e5-438c5cbbe7f3"
      },
      "execution_count": null,
      "outputs": [
        {
          "output_type": "stream",
          "name": "stdout",
          "text": [
            "3.141592653589793\n"
          ]
        }
      ]
    },
    {
      "cell_type": "code",
      "source": [
        "math.exp(2)"
      ],
      "metadata": {
        "colab": {
          "base_uri": "https://localhost:8080/"
        },
        "id": "xPcjf4IDWfOd",
        "outputId": "bb6ac795-d68a-4c86-c14a-8918c02f7610"
      },
      "execution_count": null,
      "outputs": [
        {
          "output_type": "execute_result",
          "data": {
            "text/plain": [
              "7.38905609893065"
            ]
          },
          "metadata": {},
          "execution_count": 99
        }
      ]
    },
    {
      "cell_type": "code",
      "source": [
        "math.sin(math.pi/6)"
      ],
      "metadata": {
        "colab": {
          "base_uri": "https://localhost:8080/"
        },
        "id": "B2jNwbsFWxON",
        "outputId": "b8bc20ad-ea24-40ca-ea28-a1a83df71a36"
      },
      "execution_count": null,
      "outputs": [
        {
          "output_type": "execute_result",
          "data": {
            "text/plain": [
              "0.49999999999999994"
            ]
          },
          "metadata": {},
          "execution_count": 109
        }
      ]
    },
    {
      "cell_type": "code",
      "source": [
        "(math.degrees(math.pi/6))"
      ],
      "metadata": {
        "colab": {
          "base_uri": "https://localhost:8080/"
        },
        "id": "oDVSiJmoWz9v",
        "outputId": "a5847a53-ca77-4261-b0fe-19fcbac7409f"
      },
      "execution_count": null,
      "outputs": [
        {
          "output_type": "execute_result",
          "data": {
            "text/plain": [
              "29.999999999999996"
            ]
          },
          "metadata": {},
          "execution_count": 108
        }
      ]
    },
    {
      "cell_type": "markdown",
      "source": [
        "## sets"
      ],
      "metadata": {
        "id": "_PXau2yzlx3e"
      }
    },
    {
      "cell_type": "code",
      "source": [
        "l=[1,1,1,2,2,3,4,5,4,4,4]\n",
        "print(set(l))"
      ],
      "metadata": {
        "colab": {
          "base_uri": "https://localhost:8080/"
        },
        "id": "VSgxgOkjlx1G",
        "outputId": "011b002f-1ce6-45a8-856e-6e32c37e7dc0"
      },
      "execution_count": null,
      "outputs": [
        {
          "output_type": "stream",
          "name": "stdout",
          "text": [
            "{1, 2, 3, 4, 5}\n"
          ]
        }
      ]
    },
    {
      "cell_type": "code",
      "source": [
        "s = set([1,2,3,4,5,6,7,8,9])\n",
        "s.pop()   #removing first element\n",
        "s.remove(9)\n",
        "s.discard(8)\n",
        "s.discard(5)\n",
        "print(s)\n",
        "s"
      ],
      "metadata": {
        "colab": {
          "base_uri": "https://localhost:8080/"
        },
        "id": "KjPCjGmclxye",
        "outputId": "d9958757-693c-4a44-a29a-ec2731f335b9"
      },
      "execution_count": null,
      "outputs": [
        {
          "output_type": "stream",
          "name": "stdout",
          "text": [
            "{2, 3, 4, 6, 7}\n"
          ]
        },
        {
          "output_type": "execute_result",
          "data": {
            "text/plain": [
              "{2, 3, 4, 6, 7}"
            ]
          },
          "metadata": {},
          "execution_count": 154
        }
      ]
    },
    {
      "cell_type": "markdown",
      "source": [
        "## Others Notes"
      ],
      "metadata": {
        "id": "iKxBDH3JW-xE"
      }
    },
    {
      "cell_type": "code",
      "source": [
        "#enter string more than 5 words\n",
        "\n",
        "first,second,rest,*last = input().split()\n",
        "print(first)\n",
        "print(second)\n",
        "print(*last)\n",
        "print(rest)"
      ],
      "metadata": {
        "id": "sKxnTQJMXn8Y",
        "colab": {
          "base_uri": "https://localhost:8080/"
        },
        "outputId": "c4102e80-afc8-4045-8db6-68243343ec1d"
      },
      "execution_count": null,
      "outputs": [
        {
          "output_type": "stream",
          "name": "stdout",
          "text": [
            "I l O \n",
            "I\n",
            "l\n",
            "\n",
            "O\n"
          ]
        }
      ]
    },
    {
      "cell_type": "code",
      "source": [
        "for _ in range(3):\n",
        "    print('Mohammad')"
      ],
      "metadata": {
        "colab": {
          "base_uri": "https://localhost:8080/"
        },
        "id": "hAwGxw2gjO_H",
        "outputId": "50843116-de4d-4775-a7ca-e6fca695f350"
      },
      "execution_count": null,
      "outputs": [
        {
          "output_type": "stream",
          "name": "stdout",
          "text": [
            "Mohammad\n",
            "Mohammad\n",
            "Mohammad\n"
          ]
        }
      ]
    },
    {
      "cell_type": "code",
      "source": [
        "a='The Uae'\n",
        "for i in range (len(a)):\n",
        "    if a[i].islower():\n",
        "        print(a[i])"
      ],
      "metadata": {
        "colab": {
          "base_uri": "https://localhost:8080/"
        },
        "id": "y8yI6klXjo1Z",
        "outputId": "00a89725-f34b-4df0-865e-26df25c2d833"
      },
      "execution_count": null,
      "outputs": [
        {
          "output_type": "stream",
          "name": "stdout",
          "text": [
            "h\n",
            "e\n",
            "a\n",
            "e\n"
          ]
        }
      ]
    },
    {
      "cell_type": "code",
      "source": [
        "def swap_case(s):\n",
        "    new_string = ' '\n",
        "    for i in range(len(s)):\n",
        "        if s[i].isupper():\n",
        "            new_string=new_string+s[i].lower()\n",
        "        elif s[i].islower():\n",
        "            new_string=new_string+s[i].upper()\n",
        "        else:\n",
        "            new_string=new_string+s[i]\n",
        "            \n",
        "    return new_string\n",
        "\n",
        "\n",
        "\n",
        "swap_case('I love cats')"
      ],
      "metadata": {
        "colab": {
          "base_uri": "https://localhost:8080/",
          "height": 36
        },
        "id": "KagYQCKkkxnT",
        "outputId": "a7c1fb8c-e098-46ed-eb4c-94da920afa05"
      },
      "execution_count": null,
      "outputs": [
        {
          "output_type": "execute_result",
          "data": {
            "text/plain": [
              "' i LOVE CATS'"
            ],
            "application/vnd.google.colaboratory.intrinsic+json": {
              "type": "string"
            }
          },
          "metadata": {},
          "execution_count": 125
        }
      ]
    },
    {
      "cell_type": "code",
      "source": [
        "string = ' Mohammad has a nice car'\n",
        "split_str = string.split()\n",
        "print(split_str)\n",
        "joined_str = \"-\".join(split_str)\n",
        "print(joined_str)"
      ],
      "metadata": {
        "colab": {
          "base_uri": "https://localhost:8080/"
        },
        "id": "AdzCIa-dk1-l",
        "outputId": "9ad05921-57a4-4ff3-a157-4ecbde40cd39"
      },
      "execution_count": null,
      "outputs": [
        {
          "output_type": "stream",
          "name": "stdout",
          "text": [
            "['Mohammad', 'has', 'a', 'nice', 'car']\n",
            "Mohammad-has-a-nice-car\n"
          ]
        }
      ]
    },
    {
      "cell_type": "code",
      "source": [
        "txt = \",,,,,rrttgg..gg...banana.g...rgrr\"\n",
        "text = 'google,,,,'\n",
        "\n",
        "x = txt.strip(\"r.,gt\")\n",
        "xx = text.rstrip(',')\n",
        "\n",
        "print(x)\n",
        "print(xx)"
      ],
      "metadata": {
        "colab": {
          "base_uri": "https://localhost:8080/"
        },
        "id": "J5zva9UKk-m0",
        "outputId": "095f84dc-7651-4554-8727-006693d21f03"
      },
      "execution_count": null,
      "outputs": [
        {
          "output_type": "stream",
          "name": "stdout",
          "text": [
            "banana\n",
            "google\n"
          ]
        }
      ]
    },
    {
      "cell_type": "code",
      "source": [
        "width = 50\n",
        "print('Montaser'.ljust(width,'-'))\n",
        "print(\"Montaser\".rjust(width,'-'))\n",
        "print('Montaser'.center(width,'+'))"
      ],
      "metadata": {
        "colab": {
          "base_uri": "https://localhost:8080/"
        },
        "id": "rMYa8TSqlSRD",
        "outputId": "b01eb878-cf6f-490c-8535-364dc6a3dfe8"
      },
      "execution_count": null,
      "outputs": [
        {
          "output_type": "stream",
          "name": "stdout",
          "text": [
            "Montaser------------------------------------------\n",
            "------------------------------------------Montaser\n",
            "+++++++++++++++++++++Montaser+++++++++++++++++++++\n"
          ]
        }
      ]
    },
    {
      "cell_type": "code",
      "source": [
        "li=['M','O','H','A','M','M','A','D',' ','I','S',' ', 'A',' ','G','E','N','I', 'U','S']\n",
        "print(''.join(li))"
      ],
      "metadata": {
        "colab": {
          "base_uri": "https://localhost:8080/"
        },
        "id": "lVADrYxxlqAc",
        "outputId": "d5740fa2-ad5e-4155-91a8-015bbf1083bf"
      },
      "execution_count": null,
      "outputs": [
        {
          "output_type": "stream",
          "name": "stdout",
          "text": [
            "MOHAMMAD IS A GENIUS\n"
          ]
        }
      ]
    },
    {
      "cell_type": "code",
      "source": [
        "x  , k = list(map(int,input().split()))\n",
        "poly = input()\n",
        "print(eval(poly)==k)"
      ],
      "metadata": {
        "colab": {
          "base_uri": "https://localhost:8080/"
        },
        "id": "pOg7Dg-RltTO",
        "outputId": "fd8e5174-e577-4600-f36d-dc8d8296b8cf"
      },
      "execution_count": null,
      "outputs": [
        {
          "output_type": "stream",
          "name": "stdout",
          "text": [
            "3 10\n",
            "3*x+1\n",
            "True\n"
          ]
        }
      ]
    },
    {
      "cell_type": "markdown",
      "source": [
        "## zip function"
      ],
      "metadata": {
        "id": "RG76ldXkpCDn"
      }
    },
    {
      "cell_type": "code",
      "source": [
        "print(list(zip([1,2,3],['a','b','c'])))"
      ],
      "metadata": {
        "colab": {
          "base_uri": "https://localhost:8080/"
        },
        "id": "lLo0IweHpbBP",
        "outputId": "fc68b5a1-c136-4393-a649-863fe5537331"
      },
      "execution_count": null,
      "outputs": [
        {
          "output_type": "stream",
          "name": "stdout",
          "text": [
            "[(1, 'a'), (2, 'b'), (3, 'c')]\n"
          ]
        }
      ]
    },
    {
      "cell_type": "code",
      "source": [
        "print(list(zip([1,2,3],'zah','kkk')))"
      ],
      "metadata": {
        "colab": {
          "base_uri": "https://localhost:8080/"
        },
        "id": "8utwDbuspprQ",
        "outputId": "b0ee4a2e-efaf-421a-a7ea-ece84793778b"
      },
      "execution_count": null,
      "outputs": [
        {
          "output_type": "stream",
          "name": "stdout",
          "text": [
            "[(1, 'z', 'k'), (2, 'a', 'k'), (3, 'h', 'k')]\n"
          ]
        }
      ]
    },
    {
      "cell_type": "markdown",
      "source": [
        "## Map Fucnction & Lambda & filters"
      ],
      "metadata": {
        "id": "FwMJypycprCX"
      }
    },
    {
      "cell_type": "code",
      "source": [
        "our_list=['I','have','a nice car']\n",
        "length =list(map(len,our_list))\n",
        "print(length)"
      ],
      "metadata": {
        "colab": {
          "base_uri": "https://localhost:8080/"
        },
        "id": "FPd7b9Rxptbu",
        "outputId": "ab4342d0-4125-4254-9a44-a67ccd5b71ed"
      },
      "execution_count": null,
      "outputs": [
        {
          "output_type": "stream",
          "name": "stdout",
          "text": [
            "[1, 4, 10]\n"
          ]
        }
      ]
    },
    {
      "cell_type": "code",
      "source": [
        "our_list=[1,2,3,4,5,6]\n",
        "length =list(map(lambda i : i*i,our_list))\n",
        "print(length)"
      ],
      "metadata": {
        "colab": {
          "base_uri": "https://localhost:8080/"
        },
        "id": "_sW9Lg0kpvI8",
        "outputId": "94311c36-a5e9-4497-949a-a3808a1ff4d6"
      },
      "execution_count": null,
      "outputs": [
        {
          "output_type": "stream",
          "name": "stdout",
          "text": [
            "[1, 4, 9, 16, 25, 36]\n"
          ]
        }
      ]
    },
    {
      "cell_type": "code",
      "source": [
        "summ = lambda a, b, c: a + b + c\n",
        "print(summ(1,2,3))"
      ],
      "metadata": {
        "colab": {
          "base_uri": "https://localhost:8080/"
        },
        "id": "zITdO4cjqCLB",
        "outputId": "566391e4-9ff6-4374-dddf-3f42d9591f54"
      },
      "execution_count": null,
      "outputs": [
        {
          "output_type": "stream",
          "name": "stdout",
          "text": [
            "6\n"
          ]
        }
      ]
    },
    {
      "cell_type": "code",
      "source": [
        "summ(1,4,10)"
      ],
      "metadata": {
        "colab": {
          "base_uri": "https://localhost:8080/"
        },
        "id": "ISYevXYXqGA9",
        "outputId": "f46f6f58-da85-4341-b0ed-72b9309b59ec"
      },
      "execution_count": null,
      "outputs": [
        {
          "output_type": "execute_result",
          "data": {
            "text/plain": [
              "15"
            ]
          },
          "metadata": {},
          "execution_count": 166
        }
      ]
    },
    {
      "cell_type": "code",
      "source": [
        "l = [10 , 20 , 30 , 40 , 50 , 60 , 70 , 80 , 90]\n",
        "l = list(filter(lambda x: x > 10 and x < 80, l))\n",
        "print(l)"
      ],
      "metadata": {
        "colab": {
          "base_uri": "https://localhost:8080/"
        },
        "id": "9fFdaYnlqHn7",
        "outputId": "e723bc4f-135a-46aa-df55-4f56d4ac299d"
      },
      "execution_count": null,
      "outputs": [
        {
          "output_type": "stream",
          "name": "stdout",
          "text": [
            "[20, 30, 40, 50, 60, 70]\n"
          ]
        }
      ]
    },
    {
      "cell_type": "markdown",
      "source": [
        "## reduce function"
      ],
      "metadata": {
        "id": "yzl8HElAqOn1"
      }
    },
    {
      "cell_type": "code",
      "source": [
        "import functools\n",
        "fun = lambda x,y : x+y\n",
        "r = functools.reduce(fun,[1,2,3,4,5,6])\n",
        "print(r)"
      ],
      "metadata": {
        "colab": {
          "base_uri": "https://localhost:8080/"
        },
        "id": "6lnOr4eOqQF9",
        "outputId": "f385ea60-686e-465f-9c43-e27da82e862d"
      },
      "execution_count": null,
      "outputs": [
        {
          "output_type": "stream",
          "name": "stdout",
          "text": [
            "21\n"
          ]
        }
      ]
    },
    {
      "cell_type": "code",
      "source": [
        "import functools\n",
        "r = functools.reduce(lambda x,y:x*y,[1,2,3,4,5,6])\n",
        "print(r)"
      ],
      "metadata": {
        "colab": {
          "base_uri": "https://localhost:8080/"
        },
        "id": "Jxra902LqWfT",
        "outputId": "17bce7f5-c5bb-4b85-8592-e9b58b6b4ac6"
      },
      "execution_count": null,
      "outputs": [
        {
          "output_type": "stream",
          "name": "stdout",
          "text": [
            "720\n"
          ]
        }
      ]
    },
    {
      "cell_type": "code",
      "source": [
        "import functools\n",
        "fun = lambda x,y : x+y\n",
        "r = functools.reduce(fun,[1,2,3,4,5,6],-10)\n",
        "print(r)"
      ],
      "metadata": {
        "colab": {
          "base_uri": "https://localhost:8080/"
        },
        "id": "u4T1ZMjVqYpw",
        "outputId": "9fa747ee-4e01-4a40-ac30-b4aae117295c"
      },
      "execution_count": null,
      "outputs": [
        {
          "output_type": "stream",
          "name": "stdout",
          "text": [
            "11\n"
          ]
        }
      ]
    },
    {
      "cell_type": "code",
      "source": [
        "import functools\n",
        "from fractions import gcd\n",
        "#gcd : greatest common denominator\n",
        "r = functools.reduce(gcd,[40,5,60])\n",
        "print(r)"
      ],
      "metadata": {
        "colab": {
          "base_uri": "https://localhost:8080/"
        },
        "id": "rw6antaoqaVC",
        "outputId": "6498accd-ddd5-4c28-bb84-8d323ac6feac"
      },
      "execution_count": null,
      "outputs": [
        {
          "output_type": "stream",
          "name": "stdout",
          "text": [
            "5\n"
          ]
        },
        {
          "output_type": "stream",
          "name": "stderr",
          "text": [
            "/usr/local/lib/python3.7/dist-packages/ipykernel_launcher.py:4: DeprecationWarning: fractions.gcd() is deprecated. Use math.gcd() instead.\n",
            "  after removing the cwd from sys.path.\n"
          ]
        }
      ]
    },
    {
      "cell_type": "code",
      "source": [
        "#multiply fractions\n",
        "from functools import reduce\n",
        "from fractions import Fraction\n",
        "\n",
        "n = int(input('how many fractions you want to calculate?'))\n",
        "frac = []\n",
        "for i in range(n):\n",
        "    a,b = input('enter two numbers seperated by a space  ').split()\n",
        "    a=int(a)\n",
        "    b=int(b)\n",
        "    frac.append(Fraction(a,b))\n",
        "    \n",
        "print(reduce(lambda x,y:x*y , frac))"
      ],
      "metadata": {
        "colab": {
          "base_uri": "https://localhost:8080/"
        },
        "id": "7JsL_Vp2qbqf",
        "outputId": "2145e653-b2bb-434e-de2c-4e6873cf016e"
      },
      "execution_count": null,
      "outputs": [
        {
          "output_type": "stream",
          "name": "stdout",
          "text": [
            "how many fractions you want to calculate?3\n",
            "enter two numbers seperated by a space  1 6\n",
            "enter two numbers seperated by a space  1 7\n",
            "enter two numbers seperated by a space  1 8\n",
            "1/336\n"
          ]
        }
      ]
    },
    {
      "cell_type": "code",
      "source": [],
      "metadata": {
        "id": "9w5tH46xqfNL"
      },
      "execution_count": null,
      "outputs": []
    }
  ]
}