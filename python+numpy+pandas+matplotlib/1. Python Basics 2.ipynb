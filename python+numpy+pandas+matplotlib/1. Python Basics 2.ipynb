{
 "cells": [
  {
   "cell_type": "markdown",
   "metadata": {
    "collapsed": true
   },
   "source": [
    "# datetime"
   ]
  },
  {
   "cell_type": "code",
   "execution_count": 11,
   "metadata": {},
   "outputs": [
    {
     "name": "stdout",
     "output_type": "stream",
     "text": [
      "9999\n",
      "1996-12-19\n",
      "1996-12-19 23:55:59.000097\n"
     ]
    }
   ],
   "source": [
    "import datetime\n",
    "\n",
    "print(datetime.MAXYEAR)\n",
    "print(datetime.date(1996,12,19))\n",
    "birthday=datetime.datetime(1996,12,19,23,55,59,97)\n",
    "print(birthday)"
   ]
  },
  {
   "cell_type": "code",
   "execution_count": 13,
   "metadata": {},
   "outputs": [
    {
     "name": "stdout",
     "output_type": "stream",
     "text": [
      "2020-12-24 21:35:11.375277\n"
     ]
    }
   ],
   "source": [
    "#print time now\n",
    "from datetime import  timedelta  ,datetime\n",
    "p=(datetime.now())\n",
    "print(p)"
   ]
  },
  {
   "cell_type": "code",
   "execution_count": 5,
   "metadata": {},
   "outputs": [
    {
     "name": "stdout",
     "output_type": "stream",
     "text": [
      "259600.0\n"
     ]
    }
   ],
   "source": [
    "import datetime\n",
    "from datetime import timedelta\n",
    "delta1 = timedelta(minutes=10,days=1,weeks=1)\n",
    "delta2 = timedelta(seconds=200,days = 5)\n",
    "result=delta1-delta2\n",
    "print(result.total_seconds())"
   ]
  },
  {
   "cell_type": "code",
   "execution_count": 17,
   "metadata": {},
   "outputs": [
    {
     "name": "stdout",
     "output_type": "stream",
     "text": [
      "1996-12-19\n",
      "12:40:57\n"
     ]
    }
   ],
   "source": [
    "print(datetime.date(1996,12,19))\n",
    "print(datetime.time(12,40,57))"
   ]
  },
  {
   "cell_type": "markdown",
   "metadata": {},
   "source": [
    "# Except Try"
   ]
  },
  {
   "cell_type": "code",
   "execution_count": 1,
   "metadata": {},
   "outputs": [
    {
     "name": "stdout",
     "output_type": "stream",
     "text": [
      "10\n",
      "2\n",
      "5.0\n"
     ]
    }
   ],
   "source": [
    "a = int(input())\n",
    "b = int (input())\n",
    "\n",
    "try:\n",
    "    print(a/b)\n",
    "except ZeroDivisionError as zero:\n",
    "    print('error',zero)"
   ]
  },
  {
   "cell_type": "code",
   "execution_count": null,
   "metadata": {},
   "outputs": [
    {
     "name": "stdout",
     "output_type": "stream",
     "text": [
      "5\n",
      "1 0\n",
      "Error Code: integer division or modulo by zero\n"
     ]
    }
   ],
   "source": [
    "for i in range(int(input())):\n",
    "    x,y=list(input().split())    \n",
    "    try:\n",
    "        print(int(int(x)/int(y)))\n",
    "    except ZeroDivisionError as zero:\n",
    "        print('Error Code: integer division or modulo by zero')\n",
    "    except ValueError as val:\n",
    "        print('Error Code:',val)"
   ]
  },
  {
   "cell_type": "markdown",
   "metadata": {},
   "source": [
    "# Input Evaluation"
   ]
  },
  {
   "cell_type": "code",
   "execution_count": 1,
   "metadata": {},
   "outputs": [
    {
     "name": "stdout",
     "output_type": "stream",
     "text": [
      "1 4\n",
      "4*x+1\n",
      "False\n"
     ]
    }
   ],
   "source": [
    "x  , k = list(map(int,input().split()))\n",
    "poly = input()\n",
    "print(eval(poly)==k)"
   ]
  },
  {
   "cell_type": "code",
   "execution_count": 2,
   "metadata": {},
   "outputs": [
    {
     "name": "stdout",
     "output_type": "stream",
     "text": [
      "10\n"
     ]
    }
   ],
   "source": [
    "print(eval('1+9'))"
   ]
  },
  {
   "cell_type": "markdown",
   "metadata": {},
   "source": [
    "# zip function"
   ]
  },
  {
   "cell_type": "code",
   "execution_count": 1,
   "metadata": {},
   "outputs": [
    {
     "name": "stdout",
     "output_type": "stream",
     "text": [
      "[(1, 'a'), (2, 'b'), (3, 'c')]\n"
     ]
    }
   ],
   "source": [
    "print(list(zip([1,2,3],['a','b','c'])))"
   ]
  },
  {
   "cell_type": "code",
   "execution_count": 2,
   "metadata": {},
   "outputs": [
    {
     "name": "stdout",
     "output_type": "stream",
     "text": [
      "[(1, 'z', 'k'), (2, 'a', 'k'), (3, 'h', 'k')]\n"
     ]
    }
   ],
   "source": [
    "print(list(zip([1,2,3],'zah','kkk')))"
   ]
  },
  {
   "cell_type": "markdown",
   "metadata": {},
   "source": [
    "# Map Fucnction  & Lambda & filters"
   ]
  },
  {
   "cell_type": "code",
   "execution_count": 1,
   "metadata": {},
   "outputs": [
    {
     "name": "stdout",
     "output_type": "stream",
     "text": [
      "[8, 7, 14]\n"
     ]
    }
   ],
   "source": [
    "our_list=['Mohammad','Zahrawi','has a nice car']\n",
    "length =list(map(len,our_list))\n",
    "print(length)"
   ]
  },
  {
   "cell_type": "code",
   "execution_count": 2,
   "metadata": {},
   "outputs": [
    {
     "name": "stdout",
     "output_type": "stream",
     "text": [
      "[1, 4, 9, 16, 25, 36]\n"
     ]
    }
   ],
   "source": [
    "our_list=[1,2,3,4,5,6]\n",
    "length =list(map(lambda i : i*i,our_list))\n",
    "print(length)"
   ]
  },
  {
   "cell_type": "code",
   "execution_count": 4,
   "metadata": {},
   "outputs": [
    {
     "name": "stdout",
     "output_type": "stream",
     "text": [
      "6\n"
     ]
    }
   ],
   "source": [
    "summ = lambda a, b, c: a + b + c\n",
    "print(summ(1,2,3))"
   ]
  },
  {
   "cell_type": "code",
   "execution_count": 4,
   "metadata": {},
   "outputs": [
    {
     "name": "stdout",
     "output_type": "stream",
     "text": [
      "[20, 30, 40, 50, 60, 70]\n"
     ]
    }
   ],
   "source": [
    "l = [10 , 20 , 30 , 40 , 50 , 60 , 70 , 80 , 90]\n",
    "l = list(filter(lambda x: x > 10 and x < 80, l))\n",
    "print(l)"
   ]
  },
  {
   "cell_type": "markdown",
   "metadata": {},
   "source": [
    "# reduce function"
   ]
  },
  {
   "cell_type": "code",
   "execution_count": 8,
   "metadata": {},
   "outputs": [
    {
     "name": "stdout",
     "output_type": "stream",
     "text": [
      "21\n"
     ]
    }
   ],
   "source": [
    "import functools\n",
    "fun = lambda x,y : x+y\n",
    "r = functools.reduce(fun,[1,2,3,4,5,6])\n",
    "print(r)"
   ]
  },
  {
   "cell_type": "code",
   "execution_count": 9,
   "metadata": {},
   "outputs": [
    {
     "name": "stdout",
     "output_type": "stream",
     "text": [
      "720\n"
     ]
    }
   ],
   "source": [
    "import functools\n",
    "r = functools.reduce(lambda x,y:x*y,[1,2,3,4,5,6])\n",
    "print(r)"
   ]
  },
  {
   "cell_type": "code",
   "execution_count": 11,
   "metadata": {},
   "outputs": [
    {
     "name": "stdout",
     "output_type": "stream",
     "text": [
      "11\n"
     ]
    }
   ],
   "source": [
    "import functools\n",
    "fun = lambda x,y : x+y\n",
    "r = functools.reduce(fun,[1,2,3,4,5,6],-10)\n",
    "print(r)"
   ]
  },
  {
   "cell_type": "code",
   "execution_count": 14,
   "metadata": {},
   "outputs": [
    {
     "name": "stdout",
     "output_type": "stream",
     "text": [
      "5\n"
     ]
    },
    {
     "name": "stderr",
     "output_type": "stream",
     "text": [
      "/home/nbuser/anaconda3_501/lib/python3.6/site-packages/ipykernel/__main__.py:4: DeprecationWarning: fractions.gcd() is deprecated. Use math.gcd() instead.\n"
     ]
    }
   ],
   "source": [
    "import functools\n",
    "from fractions import gcd\n",
    "#gcd : greatest common denominator\n",
    "r = functools.reduce(gcd,[40,5,60])\n",
    "print(r)"
   ]
  },
  {
   "cell_type": "code",
   "execution_count": 1,
   "metadata": {},
   "outputs": [
    {
     "name": "stdout",
     "output_type": "stream",
     "text": [
      "2\n",
      "1 5\n",
      "100 1\n",
      "20\n"
     ]
    }
   ],
   "source": [
    "from functools import reduce\n",
    "from fractions import Fraction\n",
    "\n",
    "n = int(input())\n",
    "frac = []\n",
    "for i in range(n):\n",
    "    a,b = input().split()\n",
    "    a=int(a)\n",
    "    b=int(b)\n",
    "    frac.append(Fraction(a,b))\n",
    "    \n",
    "print(reduce(lambda x,y:x*y , frac))\n"
   ]
  },
  {
   "cell_type": "code",
   "execution_count": null,
   "metadata": {},
   "outputs": [],
   "source": []
  }
 ],
 "metadata": {
  "kernelspec": {
   "display_name": "Python 3",
   "language": "python",
   "name": "python3"
  },
  "language_info": {
   "codemirror_mode": {
    "name": "ipython",
    "version": 3
   },
   "file_extension": ".py",
   "mimetype": "text/x-python",
   "name": "python",
   "nbconvert_exporter": "python",
   "pygments_lexer": "ipython3",
   "version": "3.7.6"
  }
 },
 "nbformat": 4,
 "nbformat_minor": 2
}
