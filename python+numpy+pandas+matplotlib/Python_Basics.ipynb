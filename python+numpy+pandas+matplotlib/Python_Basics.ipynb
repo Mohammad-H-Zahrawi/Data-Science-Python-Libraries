{
  "nbformat": 4,
  "nbformat_minor": 0,
  "metadata": {
    "colab": {
      "name": "Python Basics.ipynb",
      "provenance": [],
      "collapsed_sections": [],
      "authorship_tag": "ABX9TyOxE5qHJtweDSLACs8vreLO",
      "include_colab_link": true
    },
    "kernelspec": {
      "name": "python3",
      "display_name": "Python 3"
    },
    "language_info": {
      "name": "python"
    }
  },
  "cells": [
    {
      "cell_type": "markdown",
      "metadata": {
        "id": "view-in-github",
        "colab_type": "text"
      },
      "source": [
        "<a href=\"https://colab.research.google.com/github/Mohammad-H-Zahrawi/Data-Science-Python-Libraries/blob/master/python%2Bnumpy%2Bpandas%2Bmatplotlib/Python_Basics.ipynb\" target=\"_parent\"><img src=\"https://colab.research.google.com/assets/colab-badge.svg\" alt=\"Open In Colab\"/></a>"
      ]
    },
    {
      "cell_type": "code",
      "execution_count": null,
      "metadata": {
        "id": "u6xMCfFEVIe7",
        "colab": {
          "base_uri": "https://localhost:8080/"
        },
        "outputId": "0571d090-c55c-4364-ed84-2934555efbe7"
      },
      "outputs": [
        {
          "output_type": "stream",
          "name": "stdout",
          "text": [
            "Hello World\n",
            "There once was a man named John,\n",
            "he was 35 years old,\n",
            "He really liked the name John,\n",
            "but didn't like being 35.\n"
          ]
        }
      ],
      "source": [
        "name = \"John\"\n",
        "age = \"35\"\n",
        "print('Hello World')\n",
        "print(\"There once was a man named \" + name + \",\")\n",
        "print(\"he was \" + age + \" years old,\")\n",
        "print(\"He really liked the name \" + name + \",\")\n",
        "print(\"but didn't like being \" + age + \".\")"
      ]
    },
    {
      "cell_type": "code",
      "source": [
        "print('Hello \\nWorld')\n",
        "print('Hello \\\"World')"
      ],
      "metadata": {
        "colab": {
          "base_uri": "https://localhost:8080/"
        },
        "id": "ag4ijHumVrb6",
        "outputId": "41ea8d2d-e5b4-4c7d-8538-1b2f9d7e6616"
      },
      "execution_count": null,
      "outputs": [
        {
          "output_type": "stream",
          "name": "stdout",
          "text": [
            "Hello \n",
            "World\n",
            "Hello \"World\n"
          ]
        }
      ]
    },
    {
      "cell_type": "code",
      "source": [
        "name = \"Mohammad Zahrawi\"\n",
        "print(name)\n",
        "print(name.lower())\n",
        "print(name.upper())"
      ],
      "metadata": {
        "colab": {
          "base_uri": "https://localhost:8080/"
        },
        "id": "GqGP7PsvVsxB",
        "outputId": "5d531c6f-f8ca-47b1-8369-c399c48ea74c"
      },
      "execution_count": null,
      "outputs": [
        {
          "output_type": "stream",
          "name": "stdout",
          "text": [
            "Mohammad Zahrawi\n",
            "mohammad zahrawi\n",
            "MOHAMMAD ZAHRAWI\n"
          ]
        }
      ]
    },
    {
      "cell_type": "code",
      "source": [
        "print(len(name))\n",
        "print(name[0])\n",
        "print(name.index(\"Mo\"))\n",
        "print(name.replace('Mohammad', 'Moayad'))"
      ],
      "metadata": {
        "colab": {
          "base_uri": "https://localhost:8080/"
        },
        "id": "S58OuNA1VuBG",
        "outputId": "ebfbadd2-0d25-4c9b-d0e2-19736d99cc7e"
      },
      "execution_count": null,
      "outputs": [
        {
          "output_type": "stream",
          "name": "stdout",
          "text": [
            "16\n",
            "M\n",
            "0\n",
            "Moayad Zahrawi\n"
          ]
        }
      ]
    },
    {
      "cell_type": "markdown",
      "source": [
        "## Numbers"
      ],
      "metadata": {
        "id": "7ElOW-hPVvqV"
      }
    },
    {
      "cell_type": "code",
      "source": [
        "my_num = 5\n",
        "print(str(my_num)+\" my favorite number\")"
      ],
      "metadata": {
        "colab": {
          "base_uri": "https://localhost:8080/"
        },
        "id": "Pm4HS_znVyaC",
        "outputId": "76c58893-dbd7-46b2-f94f-4e49b01aa7fd"
      },
      "execution_count": null,
      "outputs": [
        {
          "output_type": "stream",
          "name": "stdout",
          "text": [
            "5 my favorite number\n"
          ]
        }
      ]
    },
    {
      "cell_type": "code",
      "source": [
        "print(10/3)\n",
        "print(10%3)"
      ],
      "metadata": {
        "colab": {
          "base_uri": "https://localhost:8080/"
        },
        "id": "gUA4qgx4Vz-R",
        "outputId": "a3a789f3-bb6c-4122-deb5-e49ff86b1475"
      },
      "execution_count": null,
      "outputs": [
        {
          "output_type": "stream",
          "name": "stdout",
          "text": [
            "3.3333333333333335\n",
            "1\n"
          ]
        }
      ]
    },
    {
      "cell_type": "code",
      "source": [
        "num = -6\n",
        "print(abs(num))\n",
        "(print(pow(num,2)))"
      ],
      "metadata": {
        "colab": {
          "base_uri": "https://localhost:8080/"
        },
        "id": "32N2zpJ2V1JK",
        "outputId": "0ef887bf-cc4d-4a02-b4c8-ce4752476f3b"
      },
      "execution_count": null,
      "outputs": [
        {
          "output_type": "stream",
          "name": "stdout",
          "text": [
            "6\n",
            "36\n"
          ]
        }
      ]
    },
    {
      "cell_type": "code",
      "source": [
        "print(max(10,2,5,11,65,82,10))\n",
        "print(min(10,2,5,11,65,82,10))\n",
        "print(round(3.4))\n",
        "print(round(3.7))\n",
        "print(round(4.5))"
      ],
      "metadata": {
        "colab": {
          "base_uri": "https://localhost:8080/"
        },
        "id": "MCn2iBB2V2Nx",
        "outputId": "a5b26639-7b41-4eb6-9824-88118409a597"
      },
      "execution_count": null,
      "outputs": [
        {
          "output_type": "stream",
          "name": "stdout",
          "text": [
            "82\n",
            "2\n",
            "3\n",
            "4\n",
            "4\n"
          ]
        }
      ]
    },
    {
      "cell_type": "code",
      "source": [
        "from math import *\n",
        "print(ceil(3.1))\n",
        "print(floor(5.8))\n",
        "print(sqrt(64))"
      ],
      "metadata": {
        "colab": {
          "base_uri": "https://localhost:8080/"
        },
        "id": "UoFk5Q0aV3U7",
        "outputId": "e3661459-241a-48aa-d168-433a3939513b"
      },
      "execution_count": null,
      "outputs": [
        {
          "output_type": "stream",
          "name": "stdout",
          "text": [
            "4\n",
            "5\n",
            "8.0\n"
          ]
        }
      ]
    },
    {
      "cell_type": "code",
      "source": [
        "name = input('enter your name')\n",
        "age = input('enter your age')\n",
        "print(\"Hello \"+name+\", \"+\"you are \"+age)"
      ],
      "metadata": {
        "colab": {
          "base_uri": "https://localhost:8080/"
        },
        "id": "-wRkAG4_V4ns",
        "outputId": "bfdf8255-851c-4843-f117-69c1214e9223"
      },
      "execution_count": null,
      "outputs": [
        {
          "output_type": "stream",
          "name": "stdout",
          "text": [
            "enter your nameMohammad\n",
            "enter your age15\n",
            "Hello Mohammad, you are 15\n"
          ]
        }
      ]
    },
    {
      "cell_type": "code",
      "source": [
        "num1 = input(\"enter a number\")\n",
        "num2 = input(\"enter another number\")\n",
        "result = float(num1)+float(num2)\n",
        "print(result)"
      ],
      "metadata": {
        "colab": {
          "base_uri": "https://localhost:8080/"
        },
        "id": "yWBJCNiTV6RT",
        "outputId": "42750481-3b7f-49e5-f829-d312d789f04d"
      },
      "execution_count": null,
      "outputs": [
        {
          "output_type": "stream",
          "name": "stdout",
          "text": [
            "enter a number4\n",
            "enter another number5\n",
            "9.0\n"
          ]
        }
      ]
    },
    {
      "cell_type": "code",
      "source": [
        "# Mad Libs Game\n",
        "color=input(\"enter a color: \")\n",
        "plural_noun=input(\"enter a plural noun: \")\n",
        "celebrity = input(\"enter a celebrity: \")\n",
        "\n",
        "print(\"Roses are \" + color)\n",
        "print(plural_noun + \" are blue\")\n",
        "print(\"I love \" + celebrity)"
      ],
      "metadata": {
        "colab": {
          "base_uri": "https://localhost:8080/"
        },
        "id": "RFkatXH_V9Kd",
        "outputId": "67080c78-02f5-4766-932b-dcab59231767"
      },
      "execution_count": null,
      "outputs": [
        {
          "output_type": "stream",
          "name": "stdout",
          "text": [
            "enter a color: red\n",
            "enter a plural noun: people\n",
            "enter a celebrity: John\n",
            "Roses are red\n",
            "people are blue\n",
            "I love John\n"
          ]
        }
      ]
    },
    {
      "cell_type": "markdown",
      "source": [
        "##Lists"
      ],
      "metadata": {
        "id": "iGaP_46sWENv"
      }
    },
    {
      "cell_type": "code",
      "source": [
        "friends= [\"Ahmad\", \"Omar\", \"Sarah\", \"Blaek\"]\n",
        "print(friends)\n",
        "print(friends[1])"
      ],
      "metadata": {
        "colab": {
          "base_uri": "https://localhost:8080/"
        },
        "id": "vQdpIA82WKkM",
        "outputId": "1b2af3e0-ddef-4260-a589-4bab22b86595"
      },
      "execution_count": null,
      "outputs": [
        {
          "output_type": "stream",
          "name": "stdout",
          "text": [
            "['Ahmad', 'Omar', 'Sarah', 'Blaek']\n",
            "Omar\n"
          ]
        }
      ]
    },
    {
      "cell_type": "code",
      "source": [
        "print(friends[-1])\n",
        "print(friends[2])\n",
        "print(friends[2:])\n",
        "print(friends[1:2])"
      ],
      "metadata": {
        "colab": {
          "base_uri": "https://localhost:8080/"
        },
        "id": "KGToFKyYWLrr",
        "outputId": "b371f5d0-9535-4b07-d4f2-b4e61da6b234"
      },
      "execution_count": null,
      "outputs": [
        {
          "output_type": "stream",
          "name": "stdout",
          "text": [
            "Blaek\n",
            "Sarah\n",
            "['Sarah', 'Blaek']\n",
            "['Omar']\n"
          ]
        }
      ]
    },
    {
      "cell_type": "code",
      "source": [
        "friends[0]='Mike'\n",
        "print(friends)"
      ],
      "metadata": {
        "colab": {
          "base_uri": "https://localhost:8080/"
        },
        "id": "iMhjcbWiWM83",
        "outputId": "280501e5-1f83-48db-ac1d-30fa42514509"
      },
      "execution_count": null,
      "outputs": [
        {
          "output_type": "stream",
          "name": "stdout",
          "text": [
            "['Mike', 'Omar', 'Sarah', 'Blaek']\n"
          ]
        }
      ]
    },
    {
      "cell_type": "code",
      "source": [
        "lucky_number=[1,5,8,4,2]\n",
        "cars = ['Ford','Dodge','BMW','Mercedes','Ferrari']\n",
        "cars.extend(lucky_number)\n",
        "print(cars)"
      ],
      "metadata": {
        "colab": {
          "base_uri": "https://localhost:8080/"
        },
        "id": "vNmI8dbXWOTl",
        "outputId": "48c2caef-4543-45d2-e95e-4ed0aaf71c66"
      },
      "execution_count": null,
      "outputs": [
        {
          "output_type": "stream",
          "name": "stdout",
          "text": [
            "['Ford', 'Dodge', 'BMW', 'Mercedes', 'Ferrari', 1, 5, 8, 4, 2]\n"
          ]
        }
      ]
    },
    {
      "cell_type": "code",
      "source": [
        "cars.append('Audi')\n",
        "print(cars)"
      ],
      "metadata": {
        "colab": {
          "base_uri": "https://localhost:8080/"
        },
        "id": "uo_JCEF0WPRv",
        "outputId": "78aae06d-4e53-49a4-ee05-7094a8b645c0"
      },
      "execution_count": null,
      "outputs": [
        {
          "output_type": "stream",
          "name": "stdout",
          "text": [
            "['Ford', 'Dodge', 'BMW', 'Mercedes', 'Ferrari', 1, 5, 8, 4, 2, 'Audi']\n"
          ]
        }
      ]
    },
    {
      "cell_type": "code",
      "source": [
        "cars.insert(1,\"Nissan\")\n",
        "print(cars)"
      ],
      "metadata": {
        "colab": {
          "base_uri": "https://localhost:8080/"
        },
        "id": "iDsP2m4fWQGb",
        "outputId": "5c312ea2-6120-4b62-a996-b9251bce84ac"
      },
      "execution_count": null,
      "outputs": [
        {
          "output_type": "stream",
          "name": "stdout",
          "text": [
            "['Ford', 'Nissan', 'Dodge', 'BMW', 'Mercedes', 'Ferrari', 1, 5, 8, 4, 2, 'Audi']\n"
          ]
        }
      ]
    },
    {
      "cell_type": "code",
      "source": [
        "cars.remove('Nissan')\n",
        "print(cars)\n",
        "cars.pop()\n",
        "print(cars)\n",
        "print(cars.index(\"BMW\"))"
      ],
      "metadata": {
        "colab": {
          "base_uri": "https://localhost:8080/"
        },
        "id": "XwtlJKP6WQ7S",
        "outputId": "e189f289-f498-443b-9821-6a8d7696fbd0"
      },
      "execution_count": null,
      "outputs": [
        {
          "output_type": "stream",
          "name": "stdout",
          "text": [
            "['Ford', 'Dodge', 'BMW', 'Mercedes', 'Ferrari', 1, 5, 8, 4, 2, 'Audi']\n",
            "['Ford', 'Dodge', 'BMW', 'Mercedes', 'Ferrari', 1, 5, 8, 4, 2]\n",
            "2\n"
          ]
        }
      ]
    },
    {
      "cell_type": "code",
      "source": [
        "alphabet = ['a','b','c']\n",
        "print(alphabet)\n",
        "alphabet.clear()\n",
        "print(alphabet)"
      ],
      "metadata": {
        "colab": {
          "base_uri": "https://localhost:8080/"
        },
        "id": "-ej5vwjzWR7p",
        "outputId": "e5097b10-5df9-43bc-aeb2-33e35c0f1496"
      },
      "execution_count": null,
      "outputs": [
        {
          "output_type": "stream",
          "name": "stdout",
          "text": [
            "['a', 'b', 'c']\n",
            "[]\n"
          ]
        }
      ]
    },
    {
      "cell_type": "code",
      "source": [
        "alphabet = ['a','b','c','a','b','e','dd']\n",
        "alphabet.sort()\n",
        "print(alphabet)\n",
        "print(alphabet.count('a'))\n",
        "alphabet.reverse()\n",
        "print(alphabet)"
      ],
      "metadata": {
        "colab": {
          "base_uri": "https://localhost:8080/"
        },
        "id": "-O0F3gTeWWnI",
        "outputId": "4dc959f9-636f-4ac2-eb46-e8b0ed9f471d"
      },
      "execution_count": null,
      "outputs": [
        {
          "output_type": "stream",
          "name": "stdout",
          "text": [
            "['a', 'a', 'b', 'b', 'c', 'dd', 'e']\n",
            "2\n",
            "['e', 'dd', 'c', 'b', 'b', 'a', 'a']\n"
          ]
        }
      ]
    },
    {
      "cell_type": "code",
      "source": [
        "a2=alphabet.copy()\n",
        "print(a2)"
      ],
      "metadata": {
        "colab": {
          "base_uri": "https://localhost:8080/"
        },
        "id": "i-lv5DFMWY94",
        "outputId": "2f46ba5c-2a02-4743-931c-30a26097777e"
      },
      "execution_count": null,
      "outputs": [
        {
          "output_type": "stream",
          "name": "stdout",
          "text": [
            "['e', 'dd', 'c', 'b', 'b', 'a', 'a']\n"
          ]
        }
      ]
    },
    {
      "cell_type": "markdown",
      "source": [
        "##Tubles"
      ],
      "metadata": {
        "id": "5kaTYIVEWbWQ"
      }
    },
    {
      "cell_type": "code",
      "source": [
        "coordinates = (4,5,6,'Num')\n",
        "print(coordinates)\n",
        "print(coordinates[2])"
      ],
      "metadata": {
        "colab": {
          "base_uri": "https://localhost:8080/"
        },
        "id": "kzf4PEmJWhm9",
        "outputId": "e11f53b2-ba9a-42dd-af58-da60a0632a3d"
      },
      "execution_count": null,
      "outputs": [
        {
          "output_type": "stream",
          "name": "stdout",
          "text": [
            "(4, 5, 6, 'Num')\n",
            "6\n"
          ]
        }
      ]
    },
    {
      "cell_type": "code",
      "source": [
        "coordinates = [(1,2) , (3 , 4) , (5 , 6)]\n",
        "coordinates[1] = (9,16)\n",
        "\n",
        "print(coordinates)"
      ],
      "metadata": {
        "colab": {
          "base_uri": "https://localhost:8080/"
        },
        "id": "5KXHbqLvWh6D",
        "outputId": "cf71a5e8-d7ec-40b1-de75-9a7f4df5e8fc"
      },
      "execution_count": null,
      "outputs": [
        {
          "output_type": "stream",
          "name": "stdout",
          "text": [
            "[(1, 2), (9, 16), (5, 6)]\n"
          ]
        }
      ]
    },
    {
      "cell_type": "markdown",
      "source": [
        "##Functions & If Statement"
      ],
      "metadata": {
        "id": "xdS06nmnWjWH"
      }
    },
    {
      "cell_type": "code",
      "source": [
        "def say_hi(name,age):\n",
        "    print('Hello '+name)\n",
        "    print('you are '+age)\n",
        "    \n",
        "say_hi('Mohammad','22')\n",
        "say_hi('Husni','50')"
      ],
      "metadata": {
        "colab": {
          "base_uri": "https://localhost:8080/"
        },
        "id": "6-MzmarkWqrH",
        "outputId": "8084526e-f31e-40ae-eaa5-be4b1de857c5"
      },
      "execution_count": null,
      "outputs": [
        {
          "output_type": "stream",
          "name": "stdout",
          "text": [
            "Hello Mohammad\n",
            "you are 22\n",
            "Hello Husni\n",
            "you are 50\n"
          ]
        }
      ]
    },
    {
      "cell_type": "code",
      "source": [
        "def cube(num):\n",
        "    return num*num*num\n",
        "    \n",
        "print( cube(3) )"
      ],
      "metadata": {
        "colab": {
          "base_uri": "https://localhost:8080/"
        },
        "id": "0Cb-o-R5Wql2",
        "outputId": "32e5fb2a-e647-4ab3-e73c-4068bed2df2e"
      },
      "execution_count": null,
      "outputs": [
        {
          "output_type": "stream",
          "name": "stdout",
          "text": [
            "27\n"
          ]
        }
      ]
    },
    {
      "cell_type": "code",
      "source": [
        "is_male = True\n",
        "tall = True\n",
        "if is_male and tall:\n",
        "    print('you are a tall male')\n",
        "elif is_male and not(tall):\n",
        "    print('you are short male')\n",
        "elif not(is_male) and (tall):\n",
        "    print('you are tall female')\n",
        "else:\n",
        "    print('you are short female')"
      ],
      "metadata": {
        "colab": {
          "base_uri": "https://localhost:8080/"
        },
        "id": "RZEVhfAUWqfy",
        "outputId": "b96bd7d1-ca6d-463d-fe91-de0d16640041"
      },
      "execution_count": null,
      "outputs": [
        {
          "output_type": "stream",
          "name": "stdout",
          "text": [
            "you are a tall male\n"
          ]
        }
      ]
    },
    {
      "cell_type": "code",
      "source": [
        "def max_num(num1, num2,num3):\n",
        "    if num1 >= num2 and num1 >= num2:\n",
        "        return num1\n",
        "    elif num2>=num1 and num2 >= num3:\n",
        "        return num2\n",
        "    else:\n",
        "        return num3\n",
        "\n",
        "max_num(111 , 31 , 9)"
      ],
      "metadata": {
        "colab": {
          "base_uri": "https://localhost:8080/"
        },
        "id": "uGSaENOXWqWZ",
        "outputId": "6c7a7426-456e-4d2f-897c-48059866cf25"
      },
      "execution_count": null,
      "outputs": [
        {
          "output_type": "execute_result",
          "data": {
            "text/plain": [
              "111"
            ]
          },
          "metadata": {},
          "execution_count": 29
        }
      ]
    },
    {
      "cell_type": "code",
      "source": [
        "num1 = float(input('Enter first number'))\n",
        "num2 = float(input('Enter second number'))\n",
        "op = input('Enter operator')\n",
        "\n",
        "if op=='+':\n",
        "    print (num1+num2)\n",
        "elif op==\"-\":\n",
        "    print (num1-num2)\n",
        "elif op=='/':\n",
        "    print(num1/num2)\n",
        "elif op=='*':\n",
        "    print(num1*num2)\n",
        "else:\n",
        "    print('Invalid operator')"
      ],
      "metadata": {
        "colab": {
          "base_uri": "https://localhost:8080/"
        },
        "id": "FnS5NqvIW3bW",
        "outputId": "237d4a8a-4178-469a-ea76-583ae0d5e659"
      },
      "execution_count": null,
      "outputs": [
        {
          "output_type": "stream",
          "name": "stdout",
          "text": [
            "Enter first number4\n",
            "Enter second number44\n",
            "Enter operator+\n",
            "48.0\n"
          ]
        }
      ]
    },
    {
      "cell_type": "markdown",
      "source": [
        "##Dictionaries"
      ],
      "metadata": {
        "id": "2WXkze4AW3WE"
      }
    },
    {
      "cell_type": "code",
      "source": [
        "monthConversion ={\n",
        "    \"Sep\":\"September\",\n",
        "    \"Oct\":\"October\",\n",
        "    \"Nov\":\"November\",\n",
        "    \"Dec\":\"December\"\n",
        "}\n",
        "print(monthConversion)"
      ],
      "metadata": {
        "colab": {
          "base_uri": "https://localhost:8080/"
        },
        "id": "C9O49WSuW3Px",
        "outputId": "87b07cd8-b0d3-4875-b60c-e98c5dbdfd9f"
      },
      "execution_count": null,
      "outputs": [
        {
          "output_type": "stream",
          "name": "stdout",
          "text": [
            "{'Sep': 'September', 'Oct': 'October', 'Nov': 'November', 'Dec': 'December'}\n"
          ]
        }
      ]
    },
    {
      "cell_type": "code",
      "source": [
        "print(monthConversion['Sep'])\n",
        "print(monthConversion.get('Dec','not a valid key'))\n",
        "print(monthConversion.get('Jann','not a valid key'))"
      ],
      "metadata": {
        "colab": {
          "base_uri": "https://localhost:8080/"
        },
        "id": "tIejezjZXRxI",
        "outputId": "8ca77e1e-1d31-49fe-ec25-ca32079671e1"
      },
      "execution_count": null,
      "outputs": [
        {
          "output_type": "stream",
          "name": "stdout",
          "text": [
            "September\n",
            "December\n",
            "not a valid key\n"
          ]
        }
      ]
    },
    {
      "cell_type": "markdown",
      "source": [
        "##while Loop\n"
      ],
      "metadata": {
        "id": "oKlreGJZXR3h"
      }
    },
    {
      "cell_type": "code",
      "source": [
        "i = 1\n",
        "while i <= 10:\n",
        "    print(i)\n",
        "    i = i+2"
      ],
      "metadata": {
        "colab": {
          "base_uri": "https://localhost:8080/"
        },
        "id": "dgfoXHI1XR8o",
        "outputId": "43646957-4a92-4136-be34-4c9e339544be"
      },
      "execution_count": null,
      "outputs": [
        {
          "output_type": "stream",
          "name": "stdout",
          "text": [
            "1\n",
            "3\n",
            "5\n",
            "7\n",
            "9\n"
          ]
        }
      ]
    },
    {
      "cell_type": "code",
      "source": [
        "secret_word = 'giraffe'\n",
        "guess=''\n",
        "count_guess = 0\n",
        "count_limits=3\n",
        "out_of_guesses = False\n",
        "while guess != secret_word and not(out_of_guesses):\n",
        "    count_guess = count_guess + 1\n",
        "    if count_guess<=count_limits:\n",
        "        guess = input('Enter a guess: ')\n",
        "    else:\n",
        "        out_of_guesses=True\n",
        "if out_of_guesses:\n",
        "    print(\"you lose!\")\n",
        "else:\n",
        "    print(\"you win!\")"
      ],
      "metadata": {
        "colab": {
          "base_uri": "https://localhost:8080/"
        },
        "id": "oRmKBPgXXSBv",
        "outputId": "ef034b0c-316b-4201-bf43-22fff78685c1"
      },
      "execution_count": null,
      "outputs": [
        {
          "output_type": "stream",
          "name": "stdout",
          "text": [
            "Enter a guess: 4\n",
            "Enter a guess: 55\n",
            "Enter a guess: 4\n",
            "you lose!\n"
          ]
        }
      ]
    },
    {
      "cell_type": "code",
      "source": [
        "for letter in \"ABC Academy\":\n",
        "    print(letter)"
      ],
      "metadata": {
        "colab": {
          "base_uri": "https://localhost:8080/"
        },
        "id": "17UTfYMrXSGl",
        "outputId": "9991b943-1407-4dfc-b36f-c58680f73829"
      },
      "execution_count": null,
      "outputs": [
        {
          "output_type": "stream",
          "name": "stdout",
          "text": [
            "A\n",
            "B\n",
            "C\n",
            " \n",
            "A\n",
            "c\n",
            "a\n",
            "d\n",
            "e\n",
            "m\n",
            "y\n"
          ]
        }
      ]
    },
    {
      "cell_type": "code",
      "source": [
        "friends = ['John','Hennry', 'Mark']\n",
        "for name in friends:\n",
        "    print(name)"
      ],
      "metadata": {
        "colab": {
          "base_uri": "https://localhost:8080/"
        },
        "id": "3IjNtVf6Xjli",
        "outputId": "5678cd9e-636f-42c0-b028-f72ee61418a7"
      },
      "execution_count": null,
      "outputs": [
        {
          "output_type": "stream",
          "name": "stdout",
          "text": [
            "John\n",
            "Hennry\n",
            "Mark\n"
          ]
        }
      ]
    },
    {
      "cell_type": "code",
      "source": [
        "for index in range (5):\n",
        "    print(index)"
      ],
      "metadata": {
        "colab": {
          "base_uri": "https://localhost:8080/"
        },
        "id": "KyWTmG0EXlKe",
        "outputId": "41f146e1-8ebc-4355-d471-fb03ca69fc72"
      },
      "execution_count": null,
      "outputs": [
        {
          "output_type": "stream",
          "name": "stdout",
          "text": [
            "0\n",
            "1\n",
            "2\n",
            "3\n",
            "4\n"
          ]
        }
      ]
    },
    {
      "cell_type": "code",
      "source": [
        "for index in range (10 , 14):\n",
        "    print(index)"
      ],
      "metadata": {
        "colab": {
          "base_uri": "https://localhost:8080/"
        },
        "id": "lGFx8G0MXmhn",
        "outputId": "4d255069-4015-45a6-a5f5-123cf9408674"
      },
      "execution_count": null,
      "outputs": [
        {
          "output_type": "stream",
          "name": "stdout",
          "text": [
            "10\n",
            "11\n",
            "12\n",
            "13\n"
          ]
        }
      ]
    },
    {
      "cell_type": "code",
      "source": [
        "ABC=['A','B','C','D','E']\n",
        "for index in range(len(ABC)):\n",
        "    print(index)"
      ],
      "metadata": {
        "colab": {
          "base_uri": "https://localhost:8080/"
        },
        "id": "LOA53dSbXn4m",
        "outputId": "72cdc148-9dc5-463e-c800-e6351a910ce4"
      },
      "execution_count": null,
      "outputs": [
        {
          "output_type": "stream",
          "name": "stdout",
          "text": [
            "0\n",
            "1\n",
            "2\n",
            "3\n",
            "4\n"
          ]
        }
      ]
    },
    {
      "cell_type": "code",
      "source": [
        "print(2**4)"
      ],
      "metadata": {
        "colab": {
          "base_uri": "https://localhost:8080/"
        },
        "id": "Zwez4yKGXo73",
        "outputId": "2a81b78a-7ef0-49a2-e40c-bbe38683208b"
      },
      "execution_count": null,
      "outputs": [
        {
          "output_type": "stream",
          "name": "stdout",
          "text": [
            "16\n"
          ]
        }
      ]
    },
    {
      "cell_type": "code",
      "source": [
        "def raise_to_power(number,power):\n",
        "    result = 1\n",
        "    for index in range(power):\n",
        "        result = result *number\n",
        "    return result\n",
        "print(raise_to_power(2,5))"
      ],
      "metadata": {
        "colab": {
          "base_uri": "https://localhost:8080/"
        },
        "id": "C4JlqfJbXqFM",
        "outputId": "dba59f00-ad54-4bb8-f94a-ebfcf7662552"
      },
      "execution_count": null,
      "outputs": [
        {
          "output_type": "stream",
          "name": "stdout",
          "text": [
            "32\n"
          ]
        }
      ]
    },
    {
      "cell_type": "markdown",
      "source": [
        "##2D lists"
      ],
      "metadata": {
        "id": "Pc2h2GHNXrFc"
      }
    },
    {
      "cell_type": "code",
      "source": [
        "number_grid=[\n",
        "    [1,2,3],\n",
        "    [4,5,6],\n",
        "    [7,8,9],\n",
        "    [0]\n",
        "]\n",
        "print(number_grid[0])\n",
        "print(number_grid[1][2])"
      ],
      "metadata": {
        "colab": {
          "base_uri": "https://localhost:8080/"
        },
        "id": "nOsbNaK4XtEv",
        "outputId": "9bd62d68-9742-45e6-e583-0777424fd5ce"
      },
      "execution_count": null,
      "outputs": [
        {
          "output_type": "stream",
          "name": "stdout",
          "text": [
            "[1, 2, 3]\n",
            "6\n"
          ]
        }
      ]
    },
    {
      "cell_type": "code",
      "source": [
        "number_grid=[\n",
        "    [1,2,3],\n",
        "    [4,5,6],\n",
        "    [7,8,9],\n",
        "    [0]\n",
        "]\n",
        "for row in number_grid:\n",
        "    for col in row:\n",
        "        print(col)"
      ],
      "metadata": {
        "colab": {
          "base_uri": "https://localhost:8080/"
        },
        "id": "g1NNw3QBXvax",
        "outputId": "343e705a-4f39-46b2-a077-bbf860fb5744"
      },
      "execution_count": null,
      "outputs": [
        {
          "output_type": "stream",
          "name": "stdout",
          "text": [
            "1\n",
            "2\n",
            "3\n",
            "4\n",
            "5\n",
            "6\n",
            "7\n",
            "8\n",
            "9\n",
            "0\n"
          ]
        }
      ]
    },
    {
      "cell_type": "code",
      "source": [
        "def translate(phrase):\n",
        "    translation = ''\n",
        "    for letter in phrase:\n",
        "        if letter =='A':\n",
        "            translation = translation +'a'\n",
        "        elif letter =='B':\n",
        "            translation = translation +'b'\n",
        "        elif letter == 'C':\n",
        "                translation = translation + 'c'\n",
        "        else:\n",
        "            translation = translation + letter\n",
        "    return translation\n",
        "\n",
        "print(translate('MOHAMMAD HAS A NICE CAR'))"
      ],
      "metadata": {
        "colab": {
          "base_uri": "https://localhost:8080/"
        },
        "id": "_26GaTVTXviU",
        "outputId": "a1f2958f-5af6-460a-fdfd-97d93dbb2e09"
      },
      "execution_count": null,
      "outputs": [
        {
          "output_type": "stream",
          "name": "stdout",
          "text": [
            "MOHaMMaD HaS a NIcE caR\n"
          ]
        }
      ]
    },
    {
      "cell_type": "markdown",
      "source": [
        "##Comments"
      ],
      "metadata": {
        "id": "JVJz3fOzXvn7"
      }
    },
    {
      "cell_type": "code",
      "source": [
        "# this is a comment"
      ],
      "metadata": {
        "id": "uTkwUBnNXvt5"
      },
      "execution_count": null,
      "outputs": []
    },
    {
      "cell_type": "code",
      "source": [
        "'''\n",
        "and this one\n",
        "'''"
      ],
      "metadata": {
        "colab": {
          "base_uri": "https://localhost:8080/",
          "height": 35
        },
        "id": "syuWNmu1Xv1C",
        "outputId": "feac2098-0d2b-45de-a1f3-a9bd6c1b02ec"
      },
      "execution_count": null,
      "outputs": [
        {
          "output_type": "execute_result",
          "data": {
            "application/vnd.google.colaboratory.intrinsic+json": {
              "type": "string"
            },
            "text/plain": [
              "'\\nand this one\\n'"
            ]
          },
          "metadata": {},
          "execution_count": 47
        }
      ]
    },
    {
      "cell_type": "markdown",
      "source": [
        "##TRY and EXCEPT\n"
      ],
      "metadata": {
        "id": "0oTxieesYDxd"
      }
    },
    {
      "cell_type": "code",
      "source": [
        "try:\n",
        "    number = int(input('Enter a number: '))\n",
        "    print(number)\n",
        "except:\n",
        "    print('invalid Input')"
      ],
      "metadata": {
        "colab": {
          "base_uri": "https://localhost:8080/"
        },
        "id": "g7mDkSsTYG_-",
        "outputId": "ddc73fae-00f1-4813-e317-da329128d129"
      },
      "execution_count": null,
      "outputs": [
        {
          "output_type": "stream",
          "name": "stdout",
          "text": [
            "Enter a number: 5\n",
            "5\n"
          ]
        }
      ]
    },
    {
      "cell_type": "code",
      "source": [
        "try:\n",
        "    number = int(input(\"enter a number: \"))\n",
        "    print(number)\n",
        "    10/0\n",
        "except ValueError:\n",
        "    print('Invalid number')\n",
        "except ZeroDivisionError:\n",
        "    print('can not divide by zero')"
      ],
      "metadata": {
        "colab": {
          "base_uri": "https://localhost:8080/"
        },
        "id": "VNgOJ1QjYIvh",
        "outputId": "5746a7c1-cf8c-46b5-a980-b3e2aa19ca37"
      },
      "execution_count": null,
      "outputs": [
        {
          "output_type": "stream",
          "name": "stdout",
          "text": [
            "enter a number: 40\n",
            "40\n",
            "can not divide by zero\n"
          ]
        }
      ]
    },
    {
      "cell_type": "markdown",
      "source": [
        "##Reading Files\n"
      ],
      "metadata": {
        "id": "241RpmD_YMWs"
      }
    },
    {
      "cell_type": "code",
      "source": [
        "#employees = open(\"New Text Document.txt\", \"r\")\n",
        "#print(employees.readable())\n",
        "#employees.close()"
      ],
      "metadata": {
        "id": "PavYzVrrYjaa"
      },
      "execution_count": null,
      "outputs": []
    },
    {
      "cell_type": "code",
      "source": [
        "#employees = open(\"New Text Document.txt\", \"r\")\n",
        "#print(employees.readline())\n",
        "#print(employees.readline())\n",
        "#employees.close()"
      ],
      "metadata": {
        "id": "LxN0lzAFYl1n"
      },
      "execution_count": null,
      "outputs": []
    },
    {
      "cell_type": "code",
      "source": [
        "#employees = open(\"New Text Document.txt\", \"r\")\n",
        "#for employee in employees.readlines():\n",
        "#    print(employee)\n",
        "#employees.close()"
      ],
      "metadata": {
        "id": "3WTvJsL2Yl70"
      },
      "execution_count": null,
      "outputs": []
    },
    {
      "cell_type": "code",
      "source": [
        "#employees = open(\"New Text Document.txt\", \"a\")\n",
        "\n",
        "#employees.write(\"\\nRami is the best one there\")\n",
        "\n",
        "#employees.close()"
      ],
      "metadata": {
        "id": "8gJpTVqyYmBX"
      },
      "execution_count": null,
      "outputs": []
    },
    {
      "cell_type": "code",
      "source": [
        "#employees = open(\"New Text Document.txt\", \"w\")\n",
        "\n",
        "#employees.close()"
      ],
      "metadata": {
        "id": "gSBwOnf2YmGW"
      },
      "execution_count": null,
      "outputs": []
    },
    {
      "cell_type": "markdown",
      "source": [
        "##Modules and Pips"
      ],
      "metadata": {
        "id": "bEeMV521Yya5"
      }
    },
    {
      "cell_type": "code",
      "source": [
        "import math\n",
        "print(math.sin(math.pi))"
      ],
      "metadata": {
        "colab": {
          "base_uri": "https://localhost:8080/"
        },
        "id": "XQhPztN9Y0lT",
        "outputId": "928923b9-7ba5-481b-eb49-f569e754c09c"
      },
      "execution_count": null,
      "outputs": [
        {
          "output_type": "stream",
          "name": "stdout",
          "text": [
            "1.2246467991473532e-16\n"
          ]
        }
      ]
    },
    {
      "cell_type": "markdown",
      "source": [
        "##Others Notes"
      ],
      "metadata": {
        "id": "evr5fe4GY1jF"
      }
    },
    {
      "cell_type": "code",
      "source": [
        "#enter string more than 5 words\n",
        "\n",
        "first,second,*rest,last = input().split()\n",
        "print(first)\n",
        "print(second)\n",
        "print(last)\n",
        "print(*rest)"
      ],
      "metadata": {
        "colab": {
          "base_uri": "https://localhost:8080/"
        },
        "id": "VT09h9KgY38J",
        "outputId": "d5936d0e-99a2-4b6f-b089-5bd13642d1e9"
      },
      "execution_count": null,
      "outputs": [
        {
          "output_type": "stream",
          "name": "stdout",
          "text": [
            "I have a pretty cat\n",
            "I\n",
            "have\n",
            "cat\n",
            "a pretty\n"
          ]
        }
      ]
    },
    {
      "cell_type": "code",
      "source": [
        "for _ in range(3):\n",
        "    print('Mohammad')"
      ],
      "metadata": {
        "colab": {
          "base_uri": "https://localhost:8080/"
        },
        "id": "CwqxYHmyY5tE",
        "outputId": "af188d0f-7d1d-4ebf-b23e-562997ec1cdf"
      },
      "execution_count": null,
      "outputs": [
        {
          "output_type": "stream",
          "name": "stdout",
          "text": [
            "Mohammad\n",
            "Mohammad\n",
            "Mohammad\n"
          ]
        }
      ]
    },
    {
      "cell_type": "code",
      "source": [
        "a= 1.3\n",
        "print(\"{:.2f}\".format(a))"
      ],
      "metadata": {
        "colab": {
          "base_uri": "https://localhost:8080/"
        },
        "id": "13xupdswZCZL",
        "outputId": "942585b9-9345-4909-86b7-e84af424637d"
      },
      "execution_count": null,
      "outputs": [
        {
          "output_type": "stream",
          "name": "stdout",
          "text": [
            "1.30\n"
          ]
        }
      ]
    },
    {
      "cell_type": "code",
      "source": [
        "a='Moh Zah'\n",
        "for i in range (len(a)):\n",
        "    if a[i].islower():\n",
        "        print(a[i])"
      ],
      "metadata": {
        "colab": {
          "base_uri": "https://localhost:8080/"
        },
        "id": "_AUa0rkCZDb6",
        "outputId": "94eb5005-6a94-46f1-a22e-663e76401f7a"
      },
      "execution_count": null,
      "outputs": [
        {
          "output_type": "stream",
          "name": "stdout",
          "text": [
            "o\n",
            "h\n",
            "a\n",
            "h\n"
          ]
        }
      ]
    },
    {
      "cell_type": "code",
      "source": [
        "a='Moh Zah'\n",
        "print(a.lower())\n",
        "print(a.upper())"
      ],
      "metadata": {
        "colab": {
          "base_uri": "https://localhost:8080/"
        },
        "id": "gvAkAhaoZEch",
        "outputId": "9888cc70-4ec7-44b7-c20e-04fbd23f8672"
      },
      "execution_count": null,
      "outputs": [
        {
          "output_type": "stream",
          "name": "stdout",
          "text": [
            "moh zah\n",
            "MOH ZAH\n"
          ]
        }
      ]
    },
    {
      "cell_type": "code",
      "source": [
        "a= 'MMMrrr'\n",
        "string=' '\n",
        "for i in range(len(a)):    \n",
        "    if a[i].islower():\n",
        "        string=string+a[i].upper()\n",
        "    elif a[i].isupper():\n",
        "        string=string+a[i].lower()\n",
        "\n",
        "        \n",
        "print(string)"
      ],
      "metadata": {
        "colab": {
          "base_uri": "https://localhost:8080/"
        },
        "id": "tzHgTKm3ZFyF",
        "outputId": "590ebcf1-2d09-4a1d-b04a-5ac77614c4f8"
      },
      "execution_count": null,
      "outputs": [
        {
          "output_type": "stream",
          "name": "stdout",
          "text": [
            " mmmRRR\n"
          ]
        }
      ]
    },
    {
      "cell_type": "code",
      "source": [
        "def swap_case(s):\n",
        "    new_string = ' '\n",
        "    for i in range(len(s)):\n",
        "        if s[i].isupper():\n",
        "            new_string=new_string+s[i].lower()\n",
        "        elif s[i].islower():\n",
        "            new_string=new_string+s[i].upper()\n",
        "        else:\n",
        "            new_string=new_string+s[i]\n",
        "            \n",
        "    return new_string\n",
        "\n",
        "\n",
        "\n",
        "swap_case('Moh')"
      ],
      "metadata": {
        "colab": {
          "base_uri": "https://localhost:8080/",
          "height": 35
        },
        "id": "PaW9wXm7ZHkf",
        "outputId": "f8cfce4b-62b7-4721-c1e1-e61026d3b030"
      },
      "execution_count": null,
      "outputs": [
        {
          "output_type": "execute_result",
          "data": {
            "application/vnd.google.colaboratory.intrinsic+json": {
              "type": "string"
            },
            "text/plain": [
              "' mOH'"
            ]
          },
          "metadata": {},
          "execution_count": 67
        }
      ]
    },
    {
      "cell_type": "code",
      "source": [
        "string = ' Mohammad has a nice car'\n",
        "split_str = string.split()\n",
        "print(split_str)\n",
        "joined_str = \"-\".join(split_str)\n",
        "print(joined_str)"
      ],
      "metadata": {
        "colab": {
          "base_uri": "https://localhost:8080/"
        },
        "id": "wpP8fgW3ZNB_",
        "outputId": "6603b72a-610e-481a-de17-d5dec3b018dc"
      },
      "execution_count": null,
      "outputs": [
        {
          "output_type": "stream",
          "name": "stdout",
          "text": [
            "['Mohammad', 'has', 'a', 'nice', 'car']\n",
            "Mohammad-has-a-nice-car\n"
          ]
        }
      ]
    },
    {
      "cell_type": "code",
      "source": [
        "string = 'CDCABCDCDC'\n",
        "print(string.find('ABC'))"
      ],
      "metadata": {
        "colab": {
          "base_uri": "https://localhost:8080/"
        },
        "id": "48mAC3EmZPTN",
        "outputId": "9ed3c1cb-89ac-4b98-f1d8-236ce114fa3b"
      },
      "execution_count": null,
      "outputs": [
        {
          "output_type": "stream",
          "name": "stdout",
          "text": [
            "3\n"
          ]
        }
      ]
    },
    {
      "cell_type": "code",
      "source": [
        "txt = \",,,,,rrttgg..gg...banana.g...rgrr\"\n",
        "text = 'google,,,,'\n",
        "\n",
        "x = txt.strip(\",.grt\")\n",
        "xx = text.rstrip(',')\n",
        "\n",
        "print(x)\n",
        "print(xx)"
      ],
      "metadata": {
        "colab": {
          "base_uri": "https://localhost:8080/"
        },
        "id": "r9kDaZ4CZPY0",
        "outputId": "43f1fe68-35e1-4b1a-d56a-8b3a8fab1be6"
      },
      "execution_count": null,
      "outputs": [
        {
          "output_type": "stream",
          "name": "stdout",
          "text": [
            "banana\n",
            "google\n"
          ]
        }
      ]
    },
    {
      "cell_type": "code",
      "source": [
        "a = 'd'\n",
        "b='g'\n",
        "c='3'\n",
        "print(a.islower())\n",
        "print(b.isupper())\n",
        "print(a.isalpha())\n",
        "print(a.isalnum())\n",
        "print(c.isdigit())"
      ],
      "metadata": {
        "colab": {
          "base_uri": "https://localhost:8080/"
        },
        "id": "loYBlQhKZWH4",
        "outputId": "9bd9d590-95c2-4866-a384-ca4266ded9b6"
      },
      "execution_count": null,
      "outputs": [
        {
          "output_type": "stream",
          "name": "stdout",
          "text": [
            "True\n",
            "False\n",
            "True\n",
            "True\n",
            "True\n"
          ]
        }
      ]
    },
    {
      "cell_type": "code",
      "source": [
        "width = 50\n",
        "print('Alaa'.ljust(width,'-'))\n",
        "print(\"Alaa\".rjust(width,'-'))\n",
        "print('Alaa'.center(width,'+'))"
      ],
      "metadata": {
        "colab": {
          "base_uri": "https://localhost:8080/"
        },
        "id": "MHiI5rUIZXjn",
        "outputId": "9f0cdf16-8d71-449d-9252-7f96cd1ffe28"
      },
      "execution_count": null,
      "outputs": [
        {
          "output_type": "stream",
          "name": "stdout",
          "text": [
            "Alaa----------------------------------------------\n",
            "----------------------------------------------Alaa\n",
            "+++++++++++++++++++++++Alaa+++++++++++++++++++++++\n"
          ]
        }
      ]
    },
    {
      "cell_type": "code",
      "source": [
        "li=['M','O','H','A','M','M','A','D',' ','I','S',' ', 'A',' ','G','E','N','I', 'U','S']\n",
        "print(''.join(li))"
      ],
      "metadata": {
        "colab": {
          "base_uri": "https://localhost:8080/"
        },
        "id": "GPog6mwSZY-9",
        "outputId": "6afdf572-d71e-4197-adf3-230c1d38802e"
      },
      "execution_count": null,
      "outputs": [
        {
          "output_type": "stream",
          "name": "stdout",
          "text": [
            "MOHAMMAD IS A GENIUS\n"
          ]
        }
      ]
    },
    {
      "cell_type": "markdown",
      "source": [
        "##sets"
      ],
      "metadata": {
        "id": "3KHHTNNtZZ9z"
      }
    },
    {
      "cell_type": "code",
      "source": [
        "l=[1,1,1,2,2,3,4,5,4,4,4]\n",
        "print(set(l))"
      ],
      "metadata": {
        "colab": {
          "base_uri": "https://localhost:8080/"
        },
        "id": "rz8cMg8KZbfU",
        "outputId": "6a4b3eaf-eec3-445f-9f5a-5cf2bf445517"
      },
      "execution_count": null,
      "outputs": [
        {
          "output_type": "stream",
          "name": "stdout",
          "text": [
            "{1, 2, 3, 4, 5}\n"
          ]
        }
      ]
    },
    {
      "cell_type": "code",
      "source": [
        "s = set([1,2,3,4,5,6,7,8,9])\n",
        "s.pop()\n",
        "s.remove(9)\n",
        "s.discard(9)\n",
        "s.discard(5)\n",
        "print(s)"
      ],
      "metadata": {
        "colab": {
          "base_uri": "https://localhost:8080/"
        },
        "id": "2IvLEYBUZdK5",
        "outputId": "b419d09d-5979-48a3-b5ef-8a33362a4dd8"
      },
      "execution_count": null,
      "outputs": [
        {
          "output_type": "stream",
          "name": "stdout",
          "text": [
            "{2, 3, 4, 6, 7, 8}\n"
          ]
        }
      ]
    },
    {
      "cell_type": "code",
      "source": [
        "s1 = set('Mohammad')\n",
        "print(s1.union('Zahrawi'))\n",
        "print(s1 | set('jackson'))"
      ],
      "metadata": {
        "colab": {
          "base_uri": "https://localhost:8080/"
        },
        "id": "WgE6IRd5ZfY_",
        "outputId": "23b95133-ac9a-41e5-d2ff-37e72b0177f9"
      },
      "execution_count": null,
      "outputs": [
        {
          "output_type": "stream",
          "name": "stdout",
          "text": [
            "{'i', 'w', 'Z', 'm', 'a', 'o', 'd', 'M', 'r', 'h'}\n",
            "{'c', 's', 'n', 'd', 'j', 'M', 'm', 'h', 'a', 'k', 'o'}\n"
          ]
        }
      ]
    },
    {
      "cell_type": "code",
      "source": [
        "s1 = set([1,2,3,4,5,6,7,8,9])\n",
        "s2 = set([1,2,3,10,11,13])\n",
        "print(s1.intersection(s2))"
      ],
      "metadata": {
        "colab": {
          "base_uri": "https://localhost:8080/"
        },
        "id": "nFXrttXrZgQf",
        "outputId": "a27ed040-ca04-4fae-934c-361a7947306c"
      },
      "execution_count": null,
      "outputs": [
        {
          "output_type": "stream",
          "name": "stdout",
          "text": [
            "{1, 2, 3}\n"
          ]
        }
      ]
    },
    {
      "cell_type": "code",
      "source": [
        "s1 = set([1,2,3,4,5,6,7,8,9])\n",
        "s2 = set([1,2,3,10,11,13])\n",
        "print(s1.difference(s2))"
      ],
      "metadata": {
        "colab": {
          "base_uri": "https://localhost:8080/"
        },
        "id": "eDl6eTQcZhul",
        "outputId": "dbdece93-db89-4611-b909-ac38dfe173e2"
      },
      "execution_count": null,
      "outputs": [
        {
          "output_type": "stream",
          "name": "stdout",
          "text": [
            "{4, 5, 6, 7, 8, 9}\n"
          ]
        }
      ]
    },
    {
      "cell_type": "code",
      "source": [
        "s1 = set([1,2,3,4])\n",
        "s2 = set([1,2,3,10,11,13])\n",
        "print(s1.symmetric_difference(s2))"
      ],
      "metadata": {
        "colab": {
          "base_uri": "https://localhost:8080/"
        },
        "id": "npviVEjuZim2",
        "outputId": "83281dee-9585-4bfa-faef-8a78fb42a334"
      },
      "execution_count": null,
      "outputs": [
        {
          "output_type": "stream",
          "name": "stdout",
          "text": [
            "{4, 10, 11, 13}\n"
          ]
        }
      ]
    },
    {
      "cell_type": "markdown",
      "source": [
        "##Product and Permutations and Combinations\n"
      ],
      "metadata": {
        "id": "LtTZlUcDZjgE"
      }
    },
    {
      "cell_type": "code",
      "source": [
        "from itertools import product\n",
        "li=list(product([1,2,3],[4,5]))\n",
        "print(li)\n",
        "print(*li,sep='      ')"
      ],
      "metadata": {
        "colab": {
          "base_uri": "https://localhost:8080/"
        },
        "id": "SCnMgcVIZkxd",
        "outputId": "9ba648d4-b1f6-4804-8acc-6fb76f9fc719"
      },
      "execution_count": null,
      "outputs": [
        {
          "output_type": "stream",
          "name": "stdout",
          "text": [
            "[(1, 4), (1, 5), (2, 4), (2, 5), (3, 4), (3, 5)]\n",
            "(1, 4)      (1, 5)      (2, 4)      (2, 5)      (3, 4)      (3, 5)\n"
          ]
        }
      ]
    },
    {
      "cell_type": "code",
      "source": [
        "from itertools import permutations\n",
        "li = list(permutations([1,2,3]))\n",
        "second_li = list(permutations([1,2,3],2))\n",
        "print(li)\n",
        "print(second_li)\n",
        "print(list(permutations('MHZ',3)))"
      ],
      "metadata": {
        "id": "Lj5e8eR6Zl3h"
      },
      "execution_count": null,
      "outputs": []
    },
    {
      "cell_type": "code",
      "source": [
        "  from itertools import combinations\n",
        "print(list(combinations('1234',3)))"
      ],
      "metadata": {
        "colab": {
          "base_uri": "https://localhost:8080/"
        },
        "id": "fOs77bn_Zm9B",
        "outputId": "2ded568c-3054-4650-f9a4-1f0e6e65bdc1"
      },
      "execution_count": null,
      "outputs": [
        {
          "output_type": "stream",
          "name": "stdout",
          "text": [
            "[('1', '2', '3'), ('1', '2', '4'), ('1', '3', '4'), ('2', '3', '4')]\n"
          ]
        }
      ]
    },
    {
      "cell_type": "markdown",
      "source": [
        "##Collections"
      ],
      "metadata": {
        "id": "7kkaPH25ZodR"
      }
    },
    {
      "cell_type": "code",
      "source": [
        "from collections import Counter\n",
        "myList = [1,1,2,3,4,5,3,2,3,4,2,1,2,3]\n",
        "print(Counter(myList))\n",
        "print(Counter(myList).items())\n",
        "print(Counter(myList).keys())\n",
        "print(Counter(myList).values())"
      ],
      "metadata": {
        "colab": {
          "base_uri": "https://localhost:8080/"
        },
        "id": "myHBNfg5Zpvv",
        "outputId": "f5f92332-59c2-4712-e39c-a98e00fbff21"
      },
      "execution_count": null,
      "outputs": [
        {
          "output_type": "stream",
          "name": "stdout",
          "text": [
            "Counter({2: 4, 3: 4, 1: 3, 4: 2, 5: 1})\n",
            "dict_items([(1, 3), (2, 4), (3, 4), (4, 2), (5, 1)])\n",
            "dict_keys([1, 2, 3, 4, 5])\n",
            "dict_values([3, 4, 4, 2, 1])\n"
          ]
        }
      ]
    },
    {
      "cell_type": "code",
      "source": [
        "from collections import defaultdict\n",
        "d = defaultdict(list)\n",
        "d['python'].append(\"awesome\")\n",
        "d['something-else'].append(\"not relevant\")\n",
        "d['python'].append(\"language\")\n",
        "for i in d.items():\n",
        "    print (i)"
      ],
      "metadata": {
        "colab": {
          "base_uri": "https://localhost:8080/"
        },
        "id": "INihHOcEZqzA",
        "outputId": "1234094e-0eda-42b8-dd77-17c6a2a2b7dd"
      },
      "execution_count": null,
      "outputs": [
        {
          "output_type": "stream",
          "name": "stdout",
          "text": [
            "('python', ['awesome', 'language'])\n",
            "('something-else', ['not relevant'])\n"
          ]
        }
      ]
    },
    {
      "cell_type": "markdown",
      "source": [
        "##Collection namedtuple\n"
      ],
      "metadata": {
        "id": "482oLReuZrzd"
      }
    },
    {
      "cell_type": "code",
      "source": [
        "from collections import namedtuple\n",
        "\n",
        "point = namedtuple('Point','x , y')\n",
        "firstPoint=point(4,3)\n",
        "print(firstPoint[0]*firstPoint[1])\n",
        "print(a.x)"
      ],
      "metadata": {
        "colab": {
          "base_uri": "https://localhost:8080/"
        },
        "id": "9izgjOyKZt4D",
        "outputId": "16fd7749-6326-4107-bb69-fe1898926b4b"
      },
      "execution_count": null,
      "outputs": [
        {
          "output_type": "stream",
          "name": "stdout",
          "text": [
            "12\n",
            "100\n"
          ]
        }
      ]
    },
    {
      "cell_type": "code",
      "source": [
        "print(firstPoint._fields)\n",
        "print(firstPoint._asdict())"
      ],
      "metadata": {
        "colab": {
          "base_uri": "https://localhost:8080/"
        },
        "id": "o5Z_VvdAZwn6",
        "outputId": "63618830-f227-42d8-8a88-608c0a516281"
      },
      "execution_count": null,
      "outputs": [
        {
          "output_type": "stream",
          "name": "stdout",
          "text": [
            "('x', 'y')\n",
            "OrderedDict([('x', 4), ('y', 3)])\n"
          ]
        }
      ]
    },
    {
      "cell_type": "code",
      "source": [
        "a = firstPoint._replace(x=100)\n",
        "print(a)"
      ],
      "metadata": {
        "colab": {
          "base_uri": "https://localhost:8080/"
        },
        "id": "kzA4T2JmZxlY",
        "outputId": "37088670-f33d-45ed-d571-ef0c6ef41708"
      },
      "execution_count": null,
      "outputs": [
        {
          "output_type": "stream",
          "name": "stdout",
          "text": [
            "Point(x=100, y=3)\n"
          ]
        }
      ]
    },
    {
      "cell_type": "markdown",
      "source": [
        "##orderDict() Collections"
      ],
      "metadata": {
        "id": "XX6udtzjZyox"
      }
    },
    {
      "cell_type": "code",
      "source": [
        "from collections import OrderedDict\n",
        "ordered_d = OrderedDict()\n",
        "ordered_d['a']=1\n",
        "ordered_d['b']=2\n",
        "ordered_d['c']=3\n",
        "print(ordered_d)"
      ],
      "metadata": {
        "colab": {
          "base_uri": "https://localhost:8080/"
        },
        "id": "ViBjyVJRaIuU",
        "outputId": "b7bb4c65-1d5d-425b-c00e-61e59cc21e13"
      },
      "execution_count": null,
      "outputs": [
        {
          "output_type": "stream",
          "name": "stdout",
          "text": [
            "OrderedDict([('a', 1), ('b', 2), ('c', 3)])\n"
          ]
        }
      ]
    },
    {
      "cell_type": "code",
      "source": [
        "from collections import OrderedDict\n",
        "ordered = OrderedDict()\n",
        "n = int(input('enter number of items: '))\n",
        "for i in range(n):\n",
        "    item = list(input('enter item with its price').split())\n",
        "    x=' '.join(item[:-1])\n",
        "    price = list(map(int,item[-1:]))\n",
        "    \n",
        "    if x in ordered:\n",
        "        ordered[x]=price[0]+ordered[x]\n",
        "    else:\n",
        "        \n",
        "        ordered[x]=price[0]\n",
        "\n",
        "for i in ordered.items():\n",
        "    print(*i)\n",
        "    "
      ],
      "metadata": {
        "colab": {
          "base_uri": "https://localhost:8080/"
        },
        "id": "LWy192NNaLTZ",
        "outputId": "885f7f30-035c-45d6-f04b-e5eaf23f015c"
      },
      "execution_count": null,
      "outputs": [
        {
          "output_type": "stream",
          "name": "stdout",
          "text": [
            "enter number of items: 4\n",
            "enter item with its price55\n",
            "enter item with its price5\n",
            "enter item with its price5\n",
            "enter item with its price8\n",
            " 73\n"
          ]
        }
      ]
    },
    {
      "cell_type": "code",
      "source": [
        "from collections import OrderedDict\n",
        "words = OrderedDict()\n",
        "for i in range(int(input())):\n",
        "    x=input()\n",
        "    if x in words.keys():\n",
        "        words[x]=words[x]+1\n",
        "    else:\n",
        "        words[x] = 1\n",
        "        \n",
        "print(len(words.keys()))\n",
        "print(*words.values())"
      ],
      "metadata": {
        "colab": {
          "base_uri": "https://localhost:8080/"
        },
        "id": "_qSkIuuWaOBo",
        "outputId": "bc8549ea-b427-41ba-ae91-c042d19a0b3c"
      },
      "execution_count": null,
      "outputs": [
        {
          "output_type": "stream",
          "name": "stdout",
          "text": [
            "5\n",
            "4\n",
            "7\n",
            "8\n",
            "9\n",
            "5\n",
            "5\n",
            "1 1 1 1 1\n"
          ]
        }
      ]
    },
    {
      "cell_type": "markdown",
      "source": [
        "##Collections.deque()"
      ],
      "metadata": {
        "id": "IOc2KUMDaTSj"
      }
    },
    {
      "cell_type": "code",
      "source": [
        ">>> from collections import deque\n",
        "a = deque('NUMBER')\n",
        "print(a)\n",
        "a.append(22)\n",
        "print(a)\n",
        "a.appendleft(3)\n",
        "print(a)\n",
        "a.pop()\n",
        "print(a)\n",
        "a.popleft()\n",
        "print(a)\n",
        "a.extend('1234')\n",
        "print(a)\n",
        "a.extendleft('891')\n",
        "a.remove('M')\n",
        "print(a)\n",
        "a.reverse()\n",
        "print(a)\n",
        "a.rotate(-1)\n",
        "print(a)"
      ],
      "metadata": {
        "colab": {
          "base_uri": "https://localhost:8080/"
        },
        "id": "zuClpAKIamij",
        "outputId": "423701b3-f991-4938-8002-1326f0c81946"
      },
      "execution_count": null,
      "outputs": [
        {
          "output_type": "stream",
          "name": "stdout",
          "text": [
            "deque(['N', 'U', 'M', 'B', 'E', 'R'])\n",
            "deque(['N', 'U', 'M', 'B', 'E', 'R', 22])\n",
            "deque([3, 'N', 'U', 'M', 'B', 'E', 'R', 22])\n",
            "deque([3, 'N', 'U', 'M', 'B', 'E', 'R'])\n",
            "deque(['N', 'U', 'M', 'B', 'E', 'R'])\n",
            "deque(['N', 'U', 'M', 'B', 'E', 'R', '1', '2', '3', '4'])\n",
            "deque(['1', '9', '8', 'N', 'U', 'B', 'E', 'R', '1', '2', '3', '4'])\n",
            "deque(['4', '3', '2', '1', 'R', 'E', 'B', 'U', 'N', '8', '9', '1'])\n",
            "deque(['3', '2', '1', 'R', 'E', 'B', 'U', 'N', '8', '9', '1', '4'])\n"
          ]
        }
      ]
    },
    {
      "cell_type": "markdown",
      "source": [
        "##Time and Date"
      ],
      "metadata": {
        "id": "Y8Xq3XeXanyi"
      }
    },
    {
      "cell_type": "code",
      "source": [
        "import calendar\n",
        "print(calendar.TextCalendar(firstweekday = 0).formatyear(2015))"
      ],
      "metadata": {
        "colab": {
          "base_uri": "https://localhost:8080/"
        },
        "id": "VMPM8c93apjQ",
        "outputId": "9c4a12b1-05c6-4b67-d5b8-28dbac45d432"
      },
      "execution_count": null,
      "outputs": [
        {
          "output_type": "stream",
          "name": "stdout",
          "text": [
            "                                  2015\n",
            "\n",
            "      January                   February                   March\n",
            "Mo Tu We Th Fr Sa Su      Mo Tu We Th Fr Sa Su      Mo Tu We Th Fr Sa Su\n",
            "          1  2  3  4                         1                         1\n",
            " 5  6  7  8  9 10 11       2  3  4  5  6  7  8       2  3  4  5  6  7  8\n",
            "12 13 14 15 16 17 18       9 10 11 12 13 14 15       9 10 11 12 13 14 15\n",
            "19 20 21 22 23 24 25      16 17 18 19 20 21 22      16 17 18 19 20 21 22\n",
            "26 27 28 29 30 31         23 24 25 26 27 28         23 24 25 26 27 28 29\n",
            "                                                    30 31\n",
            "\n",
            "       April                      May                       June\n",
            "Mo Tu We Th Fr Sa Su      Mo Tu We Th Fr Sa Su      Mo Tu We Th Fr Sa Su\n",
            "       1  2  3  4  5                   1  2  3       1  2  3  4  5  6  7\n",
            " 6  7  8  9 10 11 12       4  5  6  7  8  9 10       8  9 10 11 12 13 14\n",
            "13 14 15 16 17 18 19      11 12 13 14 15 16 17      15 16 17 18 19 20 21\n",
            "20 21 22 23 24 25 26      18 19 20 21 22 23 24      22 23 24 25 26 27 28\n",
            "27 28 29 30               25 26 27 28 29 30 31      29 30\n",
            "\n",
            "        July                     August                  September\n",
            "Mo Tu We Th Fr Sa Su      Mo Tu We Th Fr Sa Su      Mo Tu We Th Fr Sa Su\n",
            "       1  2  3  4  5                      1  2          1  2  3  4  5  6\n",
            " 6  7  8  9 10 11 12       3  4  5  6  7  8  9       7  8  9 10 11 12 13\n",
            "13 14 15 16 17 18 19      10 11 12 13 14 15 16      14 15 16 17 18 19 20\n",
            "20 21 22 23 24 25 26      17 18 19 20 21 22 23      21 22 23 24 25 26 27\n",
            "27 28 29 30 31            24 25 26 27 28 29 30      28 29 30\n",
            "                          31\n",
            "\n",
            "      October                   November                  December\n",
            "Mo Tu We Th Fr Sa Su      Mo Tu We Th Fr Sa Su      Mo Tu We Th Fr Sa Su\n",
            "          1  2  3  4                         1          1  2  3  4  5  6\n",
            " 5  6  7  8  9 10 11       2  3  4  5  6  7  8       7  8  9 10 11 12 13\n",
            "12 13 14 15 16 17 18       9 10 11 12 13 14 15      14 15 16 17 18 19 20\n",
            "19 20 21 22 23 24 25      16 17 18 19 20 21 22      21 22 23 24 25 26 27\n",
            "26 27 28 29 30 31         23 24 25 26 27 28 29      28 29 30 31\n",
            "                          30\n",
            "\n"
          ]
        }
      ]
    },
    {
      "cell_type": "code",
      "source": [
        "import calendar\n",
        "x = list(map(int,input().split()))\n",
        "#enter month then day then year\n",
        "print((calendar.day_name[calendar.weekday(x[2],x[0],x[1])]).upper())"
      ],
      "metadata": {
        "colab": {
          "base_uri": "https://localhost:8080/"
        },
        "id": "fG_xPa_caq2Z",
        "outputId": "ca5585d6-03cb-49c2-c8e5-9af989af2c85"
      },
      "execution_count": null,
      "outputs": [
        {
          "output_type": "stream",
          "name": "stdout",
          "text": [
            "10 10 2020\n",
            "SATURDAY\n"
          ]
        }
      ]
    },
    {
      "cell_type": "markdown",
      "source": [
        "##datetime"
      ],
      "metadata": {
        "id": "GGnaAzsSasvk"
      }
    },
    {
      "cell_type": "code",
      "source": [
        "import datetime\n",
        "\n",
        "print(datetime.MAXYEAR)\n",
        "print(datetime.date(1996,12,19))\n",
        "birthday=datetime.datetime(1996,12,19,23,55,59,97)\n",
        "print(birthday)"
      ],
      "metadata": {
        "colab": {
          "base_uri": "https://localhost:8080/"
        },
        "id": "O8P8YgHZa5U1",
        "outputId": "bf9bf4b0-dee5-4763-a498-2a3b6411ed60"
      },
      "execution_count": null,
      "outputs": [
        {
          "output_type": "stream",
          "name": "stdout",
          "text": [
            "9999\n",
            "1996-12-19\n",
            "1996-12-19 23:55:59.000097\n"
          ]
        }
      ]
    },
    {
      "cell_type": "code",
      "source": [
        "#print time now\n",
        "from datetime import  timedelta  ,datetime\n",
        "p=(datetime.now())\n",
        "print(p)"
      ],
      "metadata": {
        "colab": {
          "base_uri": "https://localhost:8080/"
        },
        "id": "vAaGfZ4Ua6V6",
        "outputId": "e4bfcc74-0022-48b2-c450-29048ab45abc"
      },
      "execution_count": null,
      "outputs": [
        {
          "output_type": "stream",
          "name": "stdout",
          "text": [
            "2022-01-06 17:24:32.065468\n"
          ]
        }
      ]
    },
    {
      "cell_type": "code",
      "source": [
        "import datetime\n",
        "from datetime import timedelta\n",
        "delta1 = timedelta(minutes=10,days=1,weeks=1)\n",
        "delta2 = timedelta(seconds=200,days = 5)\n",
        "result=delta1-delta2\n",
        "print(result.total_seconds())"
      ],
      "metadata": {
        "colab": {
          "base_uri": "https://localhost:8080/"
        },
        "id": "ST0KUJHKa7ch",
        "outputId": "50764f73-7ca4-4725-9c01-81a15727dd29"
      },
      "execution_count": null,
      "outputs": [
        {
          "output_type": "stream",
          "name": "stdout",
          "text": [
            "259600.0\n"
          ]
        }
      ]
    },
    {
      "cell_type": "code",
      "source": [
        "print(datetime.date(1996,12,19))\n",
        "print(datetime.time(12,40,57))"
      ],
      "metadata": {
        "colab": {
          "base_uri": "https://localhost:8080/"
        },
        "id": "CTjm71qsa89L",
        "outputId": "a2555941-840a-408c-c5ef-77fff0931005"
      },
      "execution_count": null,
      "outputs": [
        {
          "output_type": "stream",
          "name": "stdout",
          "text": [
            "1996-12-19\n",
            "12:40:57\n"
          ]
        }
      ]
    },
    {
      "cell_type": "markdown",
      "source": [
        "##Except Try\n"
      ],
      "metadata": {
        "id": "I-Q0yAhVa93F"
      }
    },
    {
      "cell_type": "code",
      "source": [
        "a = int(input())\n",
        "b = int (input())\n",
        "\n",
        "try:\n",
        "    print(a/b)\n",
        "except ZeroDivisionError as zero:\n",
        "    print('error',zero)"
      ],
      "metadata": {
        "colab": {
          "base_uri": "https://localhost:8080/"
        },
        "id": "XZemD5Yma_xO",
        "outputId": "b34b3794-abc9-4183-a50b-1fd0c074e135"
      },
      "execution_count": null,
      "outputs": [
        {
          "output_type": "stream",
          "name": "stdout",
          "text": [
            "2\n",
            "5\n",
            "0.4\n"
          ]
        }
      ]
    },
    {
      "cell_type": "code",
      "source": [
        "for i in range(int(input())):\n",
        "    x,y=list(input().split())    \n",
        "    try:\n",
        "        print(int(int(x)/int(y)))\n",
        "    except ZeroDivisionError as zero:\n",
        "        print('Error Code: integer division or modulo by zero')\n",
        "    except ValueError as val:\n",
        "        print('Error Code:',val)"
      ],
      "metadata": {
        "colab": {
          "base_uri": "https://localhost:8080/"
        },
        "id": "h8IyXE5vbA2h",
        "outputId": "b3c30925-b652-4029-e5d7-74e68ed8281a"
      },
      "execution_count": null,
      "outputs": [
        {
          "output_type": "stream",
          "name": "stdout",
          "text": [
            "2\n",
            "1 5\n",
            "0\n",
            "0 6\n",
            "0\n"
          ]
        }
      ]
    },
    {
      "cell_type": "markdown",
      "source": [
        "## Input Evaluation\n"
      ],
      "metadata": {
        "id": "DWgQfzDHbD2t"
      }
    },
    {
      "cell_type": "code",
      "source": [
        "x  , k = list(map(int,input().split()))\n",
        "poly = input()\n",
        "print(eval(poly)==k)"
      ],
      "metadata": {
        "colab": {
          "base_uri": "https://localhost:8080/"
        },
        "id": "hJg50W4TbU0h",
        "outputId": "46ddd567-85ad-4f50-ca47-a069b703ff46"
      },
      "execution_count": null,
      "outputs": [
        {
          "output_type": "stream",
          "name": "stdout",
          "text": [
            "2 4\n",
            "4*x+6\n",
            "False\n"
          ]
        }
      ]
    },
    {
      "cell_type": "code",
      "source": [
        "print(eval('1+9'))"
      ],
      "metadata": {
        "colab": {
          "base_uri": "https://localhost:8080/"
        },
        "id": "fhvtcSCnbV_c",
        "outputId": "f3537360-c912-442e-a73a-13cbef9898f8"
      },
      "execution_count": null,
      "outputs": [
        {
          "output_type": "stream",
          "name": "stdout",
          "text": [
            "10\n"
          ]
        }
      ]
    },
    {
      "cell_type": "markdown",
      "source": [
        "##zip function"
      ],
      "metadata": {
        "id": "mlDrYf1pbWyN"
      }
    },
    {
      "cell_type": "code",
      "source": [
        "print(list(zip([1,2,3],['a','b','c'])))"
      ],
      "metadata": {
        "colab": {
          "base_uri": "https://localhost:8080/"
        },
        "id": "HfN7CCyBbrkL",
        "outputId": "5b620c0f-6f3f-4159-e4cb-75bd64328100"
      },
      "execution_count": null,
      "outputs": [
        {
          "output_type": "stream",
          "name": "stdout",
          "text": [
            "[(1, 'a'), (2, 'b'), (3, 'c')]\n"
          ]
        }
      ]
    },
    {
      "cell_type": "code",
      "source": [
        "print(list(zip([1,2,3],'zah','kkk')))"
      ],
      "metadata": {
        "colab": {
          "base_uri": "https://localhost:8080/"
        },
        "id": "udOHePhcbrvo",
        "outputId": "957f02b0-4ce6-4de0-fc08-103565b467b8"
      },
      "execution_count": null,
      "outputs": [
        {
          "output_type": "stream",
          "name": "stdout",
          "text": [
            "[(1, 'z', 'k'), (2, 'a', 'k'), (3, 'h', 'k')]\n"
          ]
        }
      ]
    },
    {
      "cell_type": "markdown",
      "source": [
        "##Map Fucnction & Lambda & filters"
      ],
      "metadata": {
        "id": "wND4lwtgbsxN"
      }
    },
    {
      "cell_type": "code",
      "source": [
        "our_list=['Mohammad','Zahrawi','has a nice car']\n",
        "length =list(map(len,our_list))\n",
        "print(length)"
      ],
      "metadata": {
        "colab": {
          "base_uri": "https://localhost:8080/"
        },
        "id": "wEz4V3uXbwhY",
        "outputId": "4c7ab318-6485-4e5d-a752-97a27a5983a1"
      },
      "execution_count": null,
      "outputs": [
        {
          "output_type": "stream",
          "name": "stdout",
          "text": [
            "[8, 7, 14]\n"
          ]
        }
      ]
    },
    {
      "cell_type": "code",
      "source": [
        "our_list=[1,2,3,4,5,6]\n",
        "length =list(map(lambda i : i*i,our_list))\n",
        "print(length)"
      ],
      "metadata": {
        "colab": {
          "base_uri": "https://localhost:8080/"
        },
        "id": "YbKi8BgibwxW",
        "outputId": "e5d6042d-d04d-44b1-c6dd-b02413f6f44c"
      },
      "execution_count": null,
      "outputs": [
        {
          "output_type": "stream",
          "name": "stdout",
          "text": [
            "[1, 4, 9, 16, 25, 36]\n"
          ]
        }
      ]
    },
    {
      "cell_type": "code",
      "source": [
        "summ = lambda a, b, c: a + b + c\n",
        "print(summ(1,2,3))"
      ],
      "metadata": {
        "colab": {
          "base_uri": "https://localhost:8080/"
        },
        "id": "XsTTtbf_bxoA",
        "outputId": "807aa0f7-7b63-445a-92b7-70a1376705ff"
      },
      "execution_count": null,
      "outputs": [
        {
          "output_type": "stream",
          "name": "stdout",
          "text": [
            "6\n"
          ]
        }
      ]
    },
    {
      "cell_type": "code",
      "source": [
        "l = [10 , 20 , 30 , 40 , 50 , 60 , 70 , 80 , 90]\n",
        "l = list(filter(lambda x: x > 10 and x < 80, l))\n",
        "print(l)"
      ],
      "metadata": {
        "colab": {
          "base_uri": "https://localhost:8080/"
        },
        "id": "bPOnZ6hDbyxC",
        "outputId": "6eff7cdc-007a-470b-ffd2-d0b6b96db6b8"
      },
      "execution_count": null,
      "outputs": [
        {
          "output_type": "stream",
          "name": "stdout",
          "text": [
            "[20, 30, 40, 50, 60, 70]\n"
          ]
        }
      ]
    },
    {
      "cell_type": "markdown",
      "source": [
        "##reduce function\n"
      ],
      "metadata": {
        "id": "YH_uQKN5bznv"
      }
    },
    {
      "cell_type": "code",
      "source": [
        "import functools\n",
        "fun = lambda x,y : x+y\n",
        "r = functools.reduce(fun,[1,2,3,4,5,6])\n",
        "print(r)"
      ],
      "metadata": {
        "colab": {
          "base_uri": "https://localhost:8080/"
        },
        "id": "7wLzh021b1to",
        "outputId": "3f58a8a3-66f4-43f4-e7cf-0eda93954d3c"
      },
      "execution_count": null,
      "outputs": [
        {
          "output_type": "stream",
          "name": "stdout",
          "text": [
            "21\n"
          ]
        }
      ]
    },
    {
      "cell_type": "code",
      "source": [
        "import functools\n",
        "r = functools.reduce(lambda x,y:x*y,[1,2,3,4,5,6])\n",
        "print(r)"
      ],
      "metadata": {
        "colab": {
          "base_uri": "https://localhost:8080/"
        },
        "id": "Abx5-ZQVb5JT",
        "outputId": "fea9571e-d3d2-4e0b-8435-664b0ae70a4b"
      },
      "execution_count": null,
      "outputs": [
        {
          "output_type": "stream",
          "name": "stdout",
          "text": [
            "720\n"
          ]
        }
      ]
    },
    {
      "cell_type": "code",
      "source": [
        "import functools\n",
        "fun = lambda x,y : x+y\n",
        "r = functools.reduce(fun,[1,2,3,4,5,6],-10)\n",
        "print(r)"
      ],
      "metadata": {
        "colab": {
          "base_uri": "https://localhost:8080/"
        },
        "id": "_s51Le-Mb5Od",
        "outputId": "68205d55-fed5-42cc-dcb9-531ee735a65f"
      },
      "execution_count": null,
      "outputs": [
        {
          "output_type": "stream",
          "name": "stdout",
          "text": [
            "11\n"
          ]
        }
      ]
    },
    {
      "cell_type": "code",
      "source": [
        "import functools\n",
        "from fractions import gcd\n",
        "#gcd : greatest common denominator\n",
        "r = functools.reduce(gcd,[40,5,60])\n",
        "print(r)"
      ],
      "metadata": {
        "colab": {
          "base_uri": "https://localhost:8080/"
        },
        "id": "ua4_EuMQb5Sn",
        "outputId": "70b22bdc-710c-4ede-9ff7-ee68260038d0"
      },
      "execution_count": null,
      "outputs": [
        {
          "output_type": "stream",
          "name": "stdout",
          "text": [
            "5\n"
          ]
        },
        {
          "output_type": "stream",
          "name": "stderr",
          "text": [
            "/usr/local/lib/python3.7/dist-packages/ipykernel_launcher.py:4: DeprecationWarning: fractions.gcd() is deprecated. Use math.gcd() instead.\n",
            "  after removing the cwd from sys.path.\n"
          ]
        }
      ]
    },
    {
      "cell_type": "code",
      "source": [
        "from functools import reduce\n",
        "from fractions import Fraction\n",
        "\n",
        "n = int(input())\n",
        "frac = []\n",
        "for i in range(n):\n",
        "    a,b = input().split()\n",
        "    a=int(a)\n",
        "    b=int(b)\n",
        "    frac.append(Fraction(a,b))\n",
        "    \n",
        "print(reduce(lambda x,y:x*y , frac))"
      ],
      "metadata": {
        "colab": {
          "base_uri": "https://localhost:8080/"
        },
        "id": "-ynmPuIGb5Xk",
        "outputId": "72b0e9d5-4ebf-45d5-ef13-e228dae50441"
      },
      "execution_count": null,
      "outputs": [
        {
          "output_type": "stream",
          "name": "stdout",
          "text": [
            "2\n",
            "10 5\n",
            "6 8\n",
            "3/2\n"
          ]
        }
      ]
    },
    {
      "cell_type": "markdown",
      "source": [
        "Mohammad Zahrawi\n",
        "eng.moh.zahrawi@gmail.com"
      ],
      "metadata": {
        "id": "AlA6OZ7tb5cR"
      }
    },
    {
      "cell_type": "code",
      "source": [
        ""
      ],
      "metadata": {
        "id": "kpW0AE4UcTne"
      },
      "execution_count": null,
      "outputs": []
    }
  ]
}