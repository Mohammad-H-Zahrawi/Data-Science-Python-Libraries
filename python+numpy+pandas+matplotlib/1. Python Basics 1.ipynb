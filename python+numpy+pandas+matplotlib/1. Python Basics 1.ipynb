{
  "cells": [
    {
      "metadata": {},
      "cell_type": "markdown",
      "source": "# Strings"
    },
    {
      "metadata": {
        "trusted": true
      },
      "cell_type": "code",
      "source": "print('Hello World')\nprint(\"There once was a man named George,\")\nprint(\"he was 70 years old,\")\nprint(\"He really liked the name George\")\nprint(\"but didn's like being 70.\")",
      "execution_count": 1,
      "outputs": [
        {
          "output_type": "stream",
          "text": "Hello World\nThere once was a man named George,\nhe was 70 years old,\nHe really liked the name George\nbut didn's like being 70.\n",
          "name": "stdout"
        }
      ]
    },
    {
      "metadata": {
        "trusted": true
      },
      "cell_type": "code",
      "source": "name = \"John\"\nage = \"35\"\nprint('Hello World')\nprint(\"There once was a man named \" + name + \",\")\nprint(\"he was \" + age + \" years old,\")\nprint(\"He really liked the name \" + name + \",\")\nprint(\"but didn't like being \" + age + \".\")",
      "execution_count": 2,
      "outputs": [
        {
          "output_type": "stream",
          "text": "Hello World\nThere once was a man named John,\nhe was 35 years old,\nHe really liked the name John,\nbut didn't like being 35.\n",
          "name": "stdout"
        }
      ]
    },
    {
      "metadata": {
        "trusted": true
      },
      "cell_type": "code",
      "source": "print('Hello \\nWorld')\nprint('Hello \\\"World')",
      "execution_count": 3,
      "outputs": [
        {
          "output_type": "stream",
          "text": "Hello \nWorld\nHello \"World\n",
          "name": "stdout"
        }
      ]
    },
    {
      "metadata": {
        "trusted": true
      },
      "cell_type": "code",
      "source": "name = \"Mohammad Zahrawi\"\nprint(name)\nprint(name.lower())\nprint(name.upper())",
      "execution_count": 4,
      "outputs": [
        {
          "output_type": "stream",
          "text": "Mohammad Zahrawi\nmohammad zahrawi\nMOHAMMAD ZAHRAWI\n",
          "name": "stdout"
        }
      ]
    },
    {
      "metadata": {
        "trusted": true
      },
      "cell_type": "code",
      "source": "print(len(name))\nprint(name[0])\nprint(name.index(\"Mo\"))\nprint(name.replace('Mohammad', 'Moayad'))",
      "execution_count": 5,
      "outputs": [
        {
          "output_type": "stream",
          "text": "16\nM\n0\nMoayad Zahrawi\n",
          "name": "stdout"
        }
      ]
    },
    {
      "metadata": {},
      "cell_type": "markdown",
      "source": "# Numbers"
    },
    {
      "metadata": {
        "trusted": true
      },
      "cell_type": "code",
      "source": "my_num = 5\nprint(str(my_num)+\" my favorite number\")",
      "execution_count": 6,
      "outputs": [
        {
          "output_type": "stream",
          "text": "5 my favorite number\n",
          "name": "stdout"
        }
      ]
    },
    {
      "metadata": {
        "trusted": true
      },
      "cell_type": "code",
      "source": "print(10/3)\nprint(10%3)",
      "execution_count": 7,
      "outputs": [
        {
          "output_type": "stream",
          "text": "3.3333333333333335\n1\n",
          "name": "stdout"
        }
      ]
    },
    {
      "metadata": {
        "trusted": true
      },
      "cell_type": "code",
      "source": "num = -6\nprint(abs(num))\n(print(pow(num,2)))",
      "execution_count": 8,
      "outputs": [
        {
          "output_type": "stream",
          "text": "6\n36\n",
          "name": "stdout"
        }
      ]
    },
    {
      "metadata": {
        "trusted": true
      },
      "cell_type": "code",
      "source": "print(max(10,2,5,11,65,82,10))\nprint(min(10,2,5,11,65,82,10))\nprint(round(3.4))\nprint(round(3.7))\nprint(round(4.5))",
      "execution_count": 9,
      "outputs": [
        {
          "output_type": "stream",
          "text": "82\n2\n3\n4\n4\n",
          "name": "stdout"
        }
      ]
    },
    {
      "metadata": {
        "trusted": true
      },
      "cell_type": "code",
      "source": "from math import *\nprint(ceil(3.1))\nprint(floor(5.8))\nprint(sqrt(64))",
      "execution_count": 10,
      "outputs": [
        {
          "output_type": "stream",
          "text": "4\n5\n8.0\n",
          "name": "stdout"
        }
      ]
    },
    {
      "metadata": {
        "trusted": true
      },
      "cell_type": "code",
      "source": "name = input('enter your name')\nage = input('enter your age')\nprint(\"Hello \"+name+\", \"+\"you are \"+age)",
      "execution_count": 11,
      "outputs": [
        {
          "output_type": "stream",
          "name": "stdout",
          "text": "enter your namef4efe4\nenter your agef4e\nHello f4efe4, you are f4e\n"
        }
      ]
    },
    {
      "metadata": {
        "trusted": true
      },
      "cell_type": "code",
      "source": "num1 = input(\"enter a number\")\nnum2 = input(\"enter another number\")\nresult = float(num1)+float(num2)\nprint(result)",
      "execution_count": 12,
      "outputs": [
        {
          "output_type": "stream",
          "name": "stdout",
          "text": "enter a number4\nenter another number5\n9.0\n"
        }
      ]
    },
    {
      "metadata": {
        "trusted": true
      },
      "cell_type": "code",
      "source": "# Mad Libs Game\ncolor=input(\"enter a color: \")\nplural_noun=input(\"enter a plural noun: \")\ncelebrity = input(\"enter a celebrity: \")\n\nprint(\"Roses are \" + color)\nprint(plural_noun + \" are blue\")\nprint(\"I love \" + celebrity)",
      "execution_count": 13,
      "outputs": [
        {
          "output_type": "stream",
          "name": "stdout",
          "text": "enter a color: red\nenter a plural noun: dsd\nenter a celebrity: ssw\nRoses are red\ndsd are blue\nI love ssw\n"
        }
      ]
    },
    {
      "metadata": {},
      "cell_type": "markdown",
      "source": "# Lists"
    },
    {
      "metadata": {
        "trusted": true
      },
      "cell_type": "code",
      "source": "friends= [\"Ahmad\", \"Omar\", \"Sarah\", \"Blaek\"]\nprint(friends)\nprint(friends[1])",
      "execution_count": 14,
      "outputs": [
        {
          "output_type": "stream",
          "text": "['Ahmad', 'Omar', 'Sarah', 'Blaek']\nOmar\n",
          "name": "stdout"
        }
      ]
    },
    {
      "metadata": {
        "trusted": true
      },
      "cell_type": "code",
      "source": "print(friends[-1])\nprint(friends[2])\nprint(friends[2:])\nprint(friends[1:2])",
      "execution_count": 15,
      "outputs": [
        {
          "output_type": "stream",
          "text": "Blaek\nSarah\n['Sarah', 'Blaek']\n['Omar']\n",
          "name": "stdout"
        }
      ]
    },
    {
      "metadata": {
        "trusted": true
      },
      "cell_type": "code",
      "source": "friends[0]='Mike'\nprint(friends)",
      "execution_count": 16,
      "outputs": [
        {
          "output_type": "stream",
          "text": "['Mike', 'Omar', 'Sarah', 'Blaek']\n",
          "name": "stdout"
        }
      ]
    },
    {
      "metadata": {
        "trusted": true
      },
      "cell_type": "code",
      "source": "lucky_number=[1,5,8,4,2]\ncars = ['Ford','Dodge','BMW','Mercedes','Ferrari']\ncars.extend(lucky_number)\nprint(cars)",
      "execution_count": 17,
      "outputs": [
        {
          "output_type": "stream",
          "text": "['Ford', 'Dodge', 'BMW', 'Mercedes', 'Ferrari', 1, 5, 8, 4, 2]\n",
          "name": "stdout"
        }
      ]
    },
    {
      "metadata": {
        "trusted": true
      },
      "cell_type": "code",
      "source": "cars.append('Audi')\nprint(cars)",
      "execution_count": 18,
      "outputs": [
        {
          "output_type": "stream",
          "text": "['Ford', 'Dodge', 'BMW', 'Mercedes', 'Ferrari', 1, 5, 8, 4, 2, 'Audi']\n",
          "name": "stdout"
        }
      ]
    },
    {
      "metadata": {
        "trusted": true
      },
      "cell_type": "code",
      "source": "cars.insert(1,\"Nissan\")\nprint(cars)",
      "execution_count": 19,
      "outputs": [
        {
          "output_type": "stream",
          "text": "['Ford', 'Nissan', 'Dodge', 'BMW', 'Mercedes', 'Ferrari', 1, 5, 8, 4, 2, 'Audi']\n",
          "name": "stdout"
        }
      ]
    },
    {
      "metadata": {
        "trusted": true
      },
      "cell_type": "code",
      "source": "cars.remove('Nissan')\nprint(cars)\ncars.pop()\nprint(cars)\nprint(cars.index(\"BMW\"))",
      "execution_count": 20,
      "outputs": [
        {
          "output_type": "stream",
          "text": "['Ford', 'Dodge', 'BMW', 'Mercedes', 'Ferrari', 1, 5, 8, 4, 2, 'Audi']\n['Ford', 'Dodge', 'BMW', 'Mercedes', 'Ferrari', 1, 5, 8, 4, 2]\n2\n",
          "name": "stdout"
        }
      ]
    },
    {
      "metadata": {
        "trusted": true
      },
      "cell_type": "code",
      "source": "alphabet = ['a','b','c']\nprint(alphabet)\nalphabet.clear()\nprint(alphabet)",
      "execution_count": 21,
      "outputs": [
        {
          "output_type": "stream",
          "text": "['a', 'b', 'c']\n[]\n",
          "name": "stdout"
        }
      ]
    },
    {
      "metadata": {
        "trusted": true
      },
      "cell_type": "code",
      "source": "alphabet = ['a','b','c','a','b','e','dd']\nalphabet.sort()\nprint(alphabet)\nprint(alphabet.count('a'))\nalphabet.reverse()\nprint(alphabet)",
      "execution_count": 22,
      "outputs": [
        {
          "output_type": "stream",
          "text": "['a', 'a', 'b', 'b', 'c', 'dd', 'e']\n2\n['e', 'dd', 'c', 'b', 'b', 'a', 'a']\n",
          "name": "stdout"
        }
      ]
    },
    {
      "metadata": {
        "trusted": true
      },
      "cell_type": "code",
      "source": "a2=alphabet.copy()\nprint(a2)",
      "execution_count": 23,
      "outputs": [
        {
          "output_type": "stream",
          "text": "['e', 'dd', 'c', 'b', 'b', 'a', 'a']\n",
          "name": "stdout"
        }
      ]
    },
    {
      "metadata": {},
      "cell_type": "markdown",
      "source": "# Tubles"
    },
    {
      "metadata": {
        "trusted": true
      },
      "cell_type": "code",
      "source": "coordinates = (4,5,6,'Num')\nprint(coordinates)\nprint(coordinates[2])",
      "execution_count": 24,
      "outputs": [
        {
          "output_type": "stream",
          "text": "(4, 5, 6, 'Num')\n6\n",
          "name": "stdout"
        }
      ]
    },
    {
      "metadata": {
        "trusted": true
      },
      "cell_type": "code",
      "source": "coordinates = [(1,2) , (3 , 4) , (5 , 6)]\ncoordinates[1] = (9,16)\n\nprint(coordinates)",
      "execution_count": 25,
      "outputs": [
        {
          "output_type": "stream",
          "text": "[(1, 2), (9, 16), (5, 6)]\n",
          "name": "stdout"
        }
      ]
    },
    {
      "metadata": {},
      "cell_type": "markdown",
      "source": "# Functions % If Statement"
    },
    {
      "metadata": {
        "trusted": true
      },
      "cell_type": "code",
      "source": "def say_hi(name,age):\n    print('Hello '+name)\n    print('you are '+age)\n    \nsay_hi('Mohammad','22')\nsay_hi('Husni','50')",
      "execution_count": 26,
      "outputs": [
        {
          "output_type": "stream",
          "text": "Hello Mohammad\nyou are 22\nHello Husni\nyou are 50\n",
          "name": "stdout"
        }
      ]
    },
    {
      "metadata": {
        "trusted": true
      },
      "cell_type": "code",
      "source": "def cube(num):\n    return num*num*num\n    \nprint( cube(3) )\n",
      "execution_count": 27,
      "outputs": [
        {
          "output_type": "stream",
          "text": "27\n",
          "name": "stdout"
        }
      ]
    },
    {
      "metadata": {
        "trusted": true
      },
      "cell_type": "code",
      "source": "is_male = True\ntall = True\nif is_male and tall:\n    print('you are a tall male')\nelif is_male and not(tall):\n    print('you are short male')\nelif not(is_male) and (tall):\n    print('you are tall female')\nelse:\n    print('you are short female')",
      "execution_count": 28,
      "outputs": [
        {
          "output_type": "stream",
          "text": "you are a tall male\n",
          "name": "stdout"
        }
      ]
    },
    {
      "metadata": {
        "trusted": true
      },
      "cell_type": "code",
      "source": "def max_num(num1, num2,num3):\n    if num1 >= num2 and num1 >= num2:\n        return num1\n    elif num2>=num1 and num2 >= num3:\n        return num2\n    else:\n        return num3\n\nmax_num(111 , 31 , 9)",
      "execution_count": 29,
      "outputs": [
        {
          "output_type": "execute_result",
          "execution_count": 29,
          "data": {
            "text/plain": "111"
          },
          "metadata": {}
        }
      ]
    },
    {
      "metadata": {
        "trusted": true
      },
      "cell_type": "code",
      "source": "num1 = float(input('Enter first number'))\nnum2 = float(input('Enter second number'))\nop = input('Enter operator')\n\nif op=='+':\n    print (num1+num2)\nelif op==\"-\":\n    print (num1-num2)\nelif op=='/':\n    print(num1/num2)\nelif op=='*':\n    print(num1*num2)\nelse:\n    print('Invalid operator')",
      "execution_count": 30,
      "outputs": [
        {
          "output_type": "stream",
          "name": "stdout",
          "text": "Enter first number3\nEnter second number4\nEnter operator-\n-1.0\n"
        }
      ]
    },
    {
      "metadata": {},
      "cell_type": "markdown",
      "source": "# Dictionaries"
    },
    {
      "metadata": {
        "trusted": true
      },
      "cell_type": "code",
      "source": "monthConversion ={\n    \"Sep\":\"September\",\n    \"Oct\":\"October\",\n    \"Nov\":\"November\",\n    \"Dec\":\"December\"\n}\nprint(monthConversion)",
      "execution_count": 31,
      "outputs": [
        {
          "output_type": "stream",
          "text": "{'Sep': 'September', 'Oct': 'October', 'Nov': 'November', 'Dec': 'December'}\n",
          "name": "stdout"
        }
      ]
    },
    {
      "metadata": {
        "trusted": true
      },
      "cell_type": "code",
      "source": "print(monthConversion['Sep'])\nprint(monthConversion.get('Dec','not a valid key'))\nprint(monthConversion.get('Jann','not a valid key'))",
      "execution_count": 32,
      "outputs": [
        {
          "output_type": "stream",
          "text": "September\nDecember\nnot a valid key\n",
          "name": "stdout"
        }
      ]
    },
    {
      "metadata": {
        "trusted": true
      },
      "cell_type": "markdown",
      "source": "# while Loop"
    },
    {
      "metadata": {
        "trusted": true
      },
      "cell_type": "code",
      "source": "i = 1\nwhile i <= 10:\n    print(i)\n    i = i+2",
      "execution_count": 33,
      "outputs": [
        {
          "output_type": "stream",
          "text": "1\n3\n5\n7\n9\n",
          "name": "stdout"
        }
      ]
    },
    {
      "metadata": {
        "trusted": true
      },
      "cell_type": "code",
      "source": "secret_word = 'giraffe'\nguess=''\ncount_guess = 0\ncount_limits=3\nout_of_guesses = False\nwhile guess != secret_word and not(out_of_guesses):\n    count_guess = count_guess + 1\n    if count_guess<=count_limits:\n        guess = input('Enter a guess: ')\n    else:\n        out_of_guesses=True\nif out_of_guesses:\n    print(\"you lose!\")\nelse:\n    print(\"you win!\")",
      "execution_count": 34,
      "outputs": [
        {
          "output_type": "stream",
          "name": "stdout",
          "text": "Enter a guess: grvrr\nEnter a guess: vrvr\nEnter a guess: vrfr\nyou lose!\n"
        }
      ]
    },
    {
      "metadata": {
        "trusted": true
      },
      "cell_type": "code",
      "source": "for letter in \"ABC Academy\":\n    print(letter)",
      "execution_count": 35,
      "outputs": [
        {
          "output_type": "stream",
          "text": "A\nB\nC\n \nA\nc\na\nd\ne\nm\ny\n",
          "name": "stdout"
        }
      ]
    },
    {
      "metadata": {
        "trusted": true
      },
      "cell_type": "code",
      "source": "friends = ['John','Hennry', 'Mark']\nfor name in friends:\n    print(name)",
      "execution_count": 36,
      "outputs": [
        {
          "output_type": "stream",
          "text": "John\nHennry\nMark\n",
          "name": "stdout"
        }
      ]
    },
    {
      "metadata": {
        "trusted": true
      },
      "cell_type": "code",
      "source": "for index in range (5):\n    print(index)",
      "execution_count": 37,
      "outputs": [
        {
          "output_type": "stream",
          "text": "0\n1\n2\n3\n4\n",
          "name": "stdout"
        }
      ]
    },
    {
      "metadata": {
        "trusted": true
      },
      "cell_type": "code",
      "source": "for index in range (10 , 14):\n    print(index)",
      "execution_count": 38,
      "outputs": [
        {
          "output_type": "stream",
          "text": "10\n11\n12\n13\n",
          "name": "stdout"
        }
      ]
    },
    {
      "metadata": {
        "trusted": true
      },
      "cell_type": "code",
      "source": "ABC=['A','B','C','D','E']\nfor index in range(len(ABC)):\n    print(index)",
      "execution_count": 39,
      "outputs": [
        {
          "output_type": "stream",
          "text": "0\n1\n2\n3\n4\n",
          "name": "stdout"
        }
      ]
    },
    {
      "metadata": {
        "trusted": true
      },
      "cell_type": "code",
      "source": "print(2**4)",
      "execution_count": 40,
      "outputs": [
        {
          "output_type": "stream",
          "text": "16\n",
          "name": "stdout"
        }
      ]
    },
    {
      "metadata": {
        "trusted": true
      },
      "cell_type": "code",
      "source": "def raise_to_power(number,power):\n    result = 1\n    for index in range(power):\n        result = result *number\n    return result\nprint(raise_to_power(2,5))",
      "execution_count": 41,
      "outputs": [
        {
          "output_type": "stream",
          "text": "32\n",
          "name": "stdout"
        }
      ]
    },
    {
      "metadata": {},
      "cell_type": "markdown",
      "source": "# 2D lists"
    },
    {
      "metadata": {
        "trusted": true
      },
      "cell_type": "code",
      "source": "number_grid=[\n    [1,2,3],\n    [4,5,6],\n    [7,8,9],\n    [0]\n]\nprint(number_grid[0])\nprint(number_grid[1][2])",
      "execution_count": 42,
      "outputs": [
        {
          "output_type": "stream",
          "text": "[1, 2, 3]\n6\n",
          "name": "stdout"
        }
      ]
    },
    {
      "metadata": {
        "trusted": true
      },
      "cell_type": "code",
      "source": "number_grid=[\n    [1,2,3],\n    [4,5,6],\n    [7,8,9],\n    [0]\n]\nfor row in number_grid:\n    for col in row:\n        print(col)\n\n",
      "execution_count": 43,
      "outputs": [
        {
          "output_type": "stream",
          "text": "1\n2\n3\n4\n5\n6\n7\n8\n9\n0\n",
          "name": "stdout"
        }
      ]
    },
    {
      "metadata": {
        "trusted": true
      },
      "cell_type": "code",
      "source": "def translate(phrase):\n    translation = ''\n    for letter in phrase:\n        if letter =='A':\n            translation = translation +'a'\n        elif letter =='B':\n            translation = translation +'b'\n        elif letter == 'C':\n                translation = translation + 'c'\n        else:\n            translation = translation + letter\n    return translation\n\nprint(translate('MOHAMMAD HAS A NICE CAR'))",
      "execution_count": 44,
      "outputs": [
        {
          "output_type": "stream",
          "text": "MOHaMMaD HaS a NIcE caR\n",
          "name": "stdout"
        }
      ]
    },
    {
      "metadata": {
        "trusted": true
      },
      "cell_type": "markdown",
      "source": "# Comments"
    },
    {
      "metadata": {
        "trusted": true
      },
      "cell_type": "code",
      "source": "# this is a comment",
      "execution_count": 45,
      "outputs": []
    },
    {
      "metadata": {},
      "cell_type": "markdown",
      "source": "# TRY and EXCEPT"
    },
    {
      "metadata": {
        "trusted": true
      },
      "cell_type": "code",
      "source": "try:\n    number = int(input('Enter a number: '))\n    print(number)\nexcept:\n    print('invalid Input')",
      "execution_count": 46,
      "outputs": [
        {
          "output_type": "stream",
          "name": "stdout",
          "text": "Enter a number: 55\n55\n"
        }
      ]
    },
    {
      "metadata": {
        "trusted": true
      },
      "cell_type": "code",
      "source": "try:\n    number = int(input(\"enter a number: \"))\n    print(number)\n    10/0\nexcept ValueError:\n    print('Invalid number')\nexcept ZeroDivisionError:\n    print('can not divide by zero')\n",
      "execution_count": 47,
      "outputs": [
        {
          "output_type": "stream",
          "name": "stdout",
          "text": "enter a number: 55\n55\ncan not divide by zero\n"
        }
      ]
    },
    {
      "metadata": {
        "trusted": true
      },
      "cell_type": "markdown",
      "source": "# Reading Files"
    },
    {
      "metadata": {
        "trusted": true
      },
      "cell_type": "code",
      "source": "#employees = open(\"New Text Document.txt\", \"r\")\n#print(employees.readable())\n#employees.close()",
      "execution_count": 48,
      "outputs": []
    },
    {
      "metadata": {
        "trusted": true
      },
      "cell_type": "code",
      "source": "#employees = open(\"New Text Document.txt\", \"r\")\n#print(employees.readline())\n#print(employees.readline())\n#employees.close()",
      "execution_count": 49,
      "outputs": []
    },
    {
      "metadata": {
        "trusted": true
      },
      "cell_type": "code",
      "source": "#employees = open(\"New Text Document.txt\", \"r\")\n#for employee in employees.readlines():\n#    print(employee)\n\n\n#employees.close()",
      "execution_count": 50,
      "outputs": []
    },
    {
      "metadata": {
        "trusted": true
      },
      "cell_type": "code",
      "source": "#employees = open(\"New Text Document.txt\", \"a\")\n\n#employees.write(\"\\nRami is the best one there\")\n\n#employees.close()",
      "execution_count": 51,
      "outputs": []
    },
    {
      "metadata": {
        "trusted": true
      },
      "cell_type": "code",
      "source": "#employees = open(\"New Text Document.txt\", \"w\")\n\n#employees.close()",
      "execution_count": 52,
      "outputs": []
    },
    {
      "metadata": {},
      "cell_type": "markdown",
      "source": "# Modules and Pips"
    },
    {
      "metadata": {
        "trusted": true
      },
      "cell_type": "code",
      "source": "import math\nprint(math.sin(math.pi))",
      "execution_count": 53,
      "outputs": [
        {
          "output_type": "stream",
          "text": "1.2246467991473532e-16\n",
          "name": "stdout"
        }
      ]
    },
    {
      "metadata": {
        "trusted": true
      },
      "cell_type": "markdown",
      "source": "# Others Notes"
    },
    {
      "metadata": {
        "trusted": true
      },
      "cell_type": "code",
      "source": "#enter string more than 5 words\n\nfirst,second,*rest,last = input().split()\nprint(first)\nprint(second)\nprint(last)\nprint(*rest)\n\n  ",
      "execution_count": 1,
      "outputs": [
        {
          "output_type": "stream",
          "name": "stdout",
          "text": "a s d f g\na\ns\ng\nd f\n"
        }
      ]
    },
    {
      "metadata": {
        "trusted": true
      },
      "cell_type": "code",
      "source": "for _ in range(3):\n    print('Mohammad')",
      "execution_count": 3,
      "outputs": [
        {
          "output_type": "stream",
          "text": "Mohammad\nMohammad\nMohammad\n",
          "name": "stdout"
        }
      ]
    },
    {
      "metadata": {
        "trusted": true
      },
      "cell_type": "code",
      "source": "a= 1.3\nprint(\"{:.2f}\".format(a))",
      "execution_count": 4,
      "outputs": [
        {
          "output_type": "stream",
          "text": "1.30\n",
          "name": "stdout"
        }
      ]
    },
    {
      "metadata": {
        "trusted": true
      },
      "cell_type": "code",
      "source": "a='Moh Zah'\nfor i in range (len(a)):\n    if a[i].islower():\n        print(a[i])\n    ",
      "execution_count": 5,
      "outputs": [
        {
          "output_type": "stream",
          "text": "o\nh\na\nh\n",
          "name": "stdout"
        }
      ]
    },
    {
      "metadata": {
        "trusted": true
      },
      "cell_type": "code",
      "source": "a='Moh Zah'\nprint(a.lower())\nprint(a.upper())",
      "execution_count": 6,
      "outputs": [
        {
          "output_type": "stream",
          "text": "moh zah\nMOH ZAH\n",
          "name": "stdout"
        }
      ]
    },
    {
      "metadata": {
        "trusted": true
      },
      "cell_type": "code",
      "source": "a= 'MMMrrr'\nstring=' '\nfor i in range(len(a)):    \n    if a[i].islower():\n        string=string+a[i].upper()\n    elif a[i].isupper():\n        string=string+a[i].lower()\n\n        \nprint(string)",
      "execution_count": 34,
      "outputs": [
        {
          "output_type": "stream",
          "text": " mmmRRR\n",
          "name": "stdout"
        }
      ]
    },
    {
      "metadata": {
        "trusted": true
      },
      "cell_type": "code",
      "source": "\ndef swap_case(s):\n    new_string = ' '\n    for i in range(len(s)):\n        if s[i].isupper():\n            new_string=new_string+s[i].lower()\n        elif s[i].islower():\n            new_string=new_string+s[i].upper()\n        else:\n            new_string=new_string+s[i]\n            \n    return new_string\n\n\n\nswap_case('Moh')",
      "execution_count": 36,
      "outputs": [
        {
          "output_type": "execute_result",
          "execution_count": 36,
          "data": {
            "text/plain": "' mOH'"
          },
          "metadata": {}
        }
      ]
    },
    {
      "metadata": {
        "trusted": true
      },
      "cell_type": "code",
      "source": "string = ' Mohammad has a nice car'\nsplit_str = string.split()\nprint(split_str)\njoined_str = \"-\".join(split_str)\nprint(joined_str)",
      "execution_count": 2,
      "outputs": [
        {
          "output_type": "stream",
          "text": "['Mohammad', 'has', 'a', 'nice', 'car']\nMohammad-has-a-nice-car\n",
          "name": "stdout"
        }
      ]
    },
    {
      "metadata": {
        "trusted": true
      },
      "cell_type": "code",
      "source": "string = 'CDCABCDCDC'\nprint(string.find('ABC'))",
      "execution_count": 1,
      "outputs": [
        {
          "output_type": "stream",
          "text": "3\n",
          "name": "stdout"
        }
      ]
    },
    {
      "metadata": {
        "trusted": true
      },
      "cell_type": "code",
      "source": "txt = \",,,,,rrttgg..gg...banana.g...rgrr\"\ntext = 'google,,,,'\n\nx = txt.strip(\",.grt\")\nxx = text.rstrip(',')\n\nprint(x)\nprint(xx)",
      "execution_count": 39,
      "outputs": [
        {
          "output_type": "stream",
          "text": "banana\ngoogle\n",
          "name": "stdout"
        }
      ]
    },
    {
      "metadata": {
        "trusted": true
      },
      "cell_type": "code",
      "source": "a = 'd'\nb='g'\nc='3'\nprint(a.islower())\nprint(b.isupper())\nprint(a.isalpha())\nprint(a.isalnum())\nprint(c.isdigit())",
      "execution_count": 3,
      "outputs": [
        {
          "output_type": "stream",
          "text": "True\nFalse\nTrue\nTrue\nTrue\n",
          "name": "stdout"
        }
      ]
    },
    {
      "metadata": {
        "trusted": true
      },
      "cell_type": "code",
      "source": "width = 50\nprint('Alaa'.ljust(width,'-'))\nprint(\"Alaa\".rjust(width,'-'))\nprint('Alaa'.center(width,'+'))",
      "execution_count": 41,
      "outputs": [
        {
          "output_type": "stream",
          "text": "Alaa----------------------------------------------\n----------------------------------------------Alaa\n+++++++++++++++++++++++Alaa+++++++++++++++++++++++\n",
          "name": "stdout"
        }
      ]
    },
    {
      "metadata": {
        "trusted": true
      },
      "cell_type": "code",
      "source": "li=['M','O','H','A','M','M','A','D',' ','I','S',' ', 'A',' ','G','E','N','I', 'U','S']\nprint(''.join(li))\n",
      "execution_count": 51,
      "outputs": [
        {
          "output_type": "stream",
          "text": "MOHAMMAD IS A GENIUS\n",
          "name": "stdout"
        }
      ]
    },
    {
      "metadata": {},
      "cell_type": "markdown",
      "source": "# sets"
    },
    {
      "metadata": {
        "trusted": true
      },
      "cell_type": "code",
      "source": "l=[1,1,1,2,2,3,4,5,4,4,4]\nprint(set(l))",
      "execution_count": 2,
      "outputs": [
        {
          "output_type": "stream",
          "text": "{1, 2, 3, 4, 5}\n",
          "name": "stdout"
        }
      ]
    },
    {
      "metadata": {
        "trusted": true
      },
      "cell_type": "code",
      "source": "s = set([1,2,3,4,5,6,7,8,9])\ns.pop()\ns.remove(9)\ns.discard(9)\ns.discard(5)\nprint(s)",
      "execution_count": 4,
      "outputs": [
        {
          "output_type": "stream",
          "text": "{2, 3, 4, 6, 7, 8}\n",
          "name": "stdout"
        }
      ]
    },
    {
      "metadata": {
        "trusted": true
      },
      "cell_type": "code",
      "source": "s1 = set('Mohammad')\nprint(s1.union('Zahrawi'))\nprint(s1 | set('jackson'))",
      "execution_count": 8,
      "outputs": [
        {
          "output_type": "stream",
          "text": "{'w', 'o', 'Z', 'M', 'i', 'm', 'a', 'h', 'd', 'r'}\n{'m', 's', 'a', 'o', 'c', 'k', 'h', 'M', 'd', 'n', 'j'}\n",
          "name": "stdout"
        }
      ]
    },
    {
      "metadata": {
        "trusted": true
      },
      "cell_type": "code",
      "source": "s1 = set([1,2,3,4,5,6,7,8,9])\ns2 = set([1,2,3,10,11,13])\nprint(s1.intersection(s2))",
      "execution_count": 10,
      "outputs": [
        {
          "output_type": "stream",
          "text": "{1, 2, 3}\n",
          "name": "stdout"
        }
      ]
    },
    {
      "metadata": {
        "trusted": true
      },
      "cell_type": "code",
      "source": "s1 = set([1,2,3,4,5,6,7,8,9])\ns2 = set([1,2,3,10,11,13])\nprint(s1.difference(s2))",
      "execution_count": 11,
      "outputs": [
        {
          "output_type": "stream",
          "text": "{4, 5, 6, 7, 8, 9}\n",
          "name": "stdout"
        }
      ]
    },
    {
      "metadata": {
        "trusted": true
      },
      "cell_type": "code",
      "source": "s1 = set([1,2,3,4])\ns2 = set([1,2,3,10,11,13])\nprint(s1.symmetric_difference(s2))",
      "execution_count": 2,
      "outputs": [
        {
          "output_type": "stream",
          "text": "{4, 10, 11, 13}\n",
          "name": "stdout"
        }
      ]
    },
    {
      "metadata": {},
      "cell_type": "markdown",
      "source": "# Product and Permutations and Combinations"
    },
    {
      "metadata": {
        "trusted": true
      },
      "cell_type": "code",
      "source": "from itertools import product\nli=list(product([1,2,3],[4,5]))\nprint(li)\nprint(*li,sep='      ')",
      "execution_count": 3,
      "outputs": [
        {
          "output_type": "stream",
          "text": "[(1, 4), (1, 5), (2, 4), (2, 5), (3, 4), (3, 5)]\n(1, 4)      (1, 5)      (2, 4)      (2, 5)      (3, 4)      (3, 5)\n",
          "name": "stdout"
        }
      ]
    },
    {
      "metadata": {
        "trusted": true
      },
      "cell_type": "code",
      "source": "from itertools import permutations\nli = list(permutations([1,2,3]))\nsecond_li = list(permutations([1,2,3],2))\nprint(li)\nprint(second_li)\nprint(list(permutations('MHZ',3)))",
      "execution_count": 20,
      "outputs": [
        {
          "output_type": "stream",
          "text": "[(1, 2, 3), (1, 3, 2), (2, 1, 3), (2, 3, 1), (3, 1, 2), (3, 2, 1)]\n[(1, 2), (1, 3), (2, 1), (2, 3), (3, 1), (3, 2)]\n[('M', 'H', 'Z'), ('M', 'Z', 'H'), ('H', 'M', 'Z'), ('H', 'Z', 'M'), ('Z', 'M', 'H'), ('Z', 'H', 'M')]\n",
          "name": "stdout"
        }
      ]
    },
    {
      "metadata": {
        "trusted": true
      },
      "cell_type": "code",
      "source": "from itertools import combinations\nprint(list(combinations('1234',3)))",
      "execution_count": 11,
      "outputs": [
        {
          "output_type": "stream",
          "text": "[('1', '2', '3'), ('1', '2', '4'), ('1', '3', '4'), ('2', '3', '4')]\n",
          "name": "stdout"
        }
      ]
    },
    {
      "metadata": {
        "trusted": true
      },
      "cell_type": "markdown",
      "source": "# Collections"
    },
    {
      "metadata": {
        "trusted": true
      },
      "cell_type": "code",
      "source": "from collections import Counter\nmyList = [1,1,2,3,4,5,3,2,3,4,2,1,2,3]\nprint(Counter(myList))\nprint(Counter(myList).items())\nprint(Counter(myList).keys())\nprint(Counter(myList).values())",
      "execution_count": 6,
      "outputs": [
        {
          "output_type": "stream",
          "text": "Counter({2: 4, 3: 4, 1: 3, 4: 2, 5: 1})\ndict_items([(1, 3), (2, 4), (3, 4), (4, 2), (5, 1)])\ndict_keys([1, 2, 3, 4, 5])\ndict_values([3, 4, 4, 2, 1])\n",
          "name": "stdout"
        }
      ]
    },
    {
      "metadata": {
        "trusted": true
      },
      "cell_type": "code",
      "source": "from collections import defaultdict\nd = defaultdict(list)\nd['python'].append(\"awesome\")\nd['something-else'].append(\"not relevant\")\nd['python'].append(\"language\")\nfor i in d.items():\n    print (i)",
      "execution_count": 4,
      "outputs": [
        {
          "output_type": "stream",
          "text": "('python', ['awesome', 'language'])\n('something-else', ['not relevant'])\n",
          "name": "stdout"
        }
      ]
    },
    {
      "metadata": {
        "trusted": true
      },
      "cell_type": "markdown",
      "source": "# Collection namedtuple"
    },
    {
      "metadata": {
        "trusted": true
      },
      "cell_type": "code",
      "source": "from collections import namedtuple\n\npoint = namedtuple('Point','x , y')\nfirstPoint=point(4,3)\nprint(firstPoint[0]*firstPoint[1])\nprint(a.x)",
      "execution_count": 9,
      "outputs": [
        {
          "output_type": "stream",
          "text": "12\n4\n",
          "name": "stdout"
        }
      ]
    },
    {
      "metadata": {
        "trusted": true
      },
      "cell_type": "code",
      "source": "from collections import namedtuple\n\npoint = namedtuple('Point',['x' , 'y'])\nfirstPoint=point(4,3)\nprint(firstPoint[0]*firstPoint[1])\nprint(a.x)",
      "execution_count": 10,
      "outputs": [
        {
          "output_type": "stream",
          "text": "12\n4\n",
          "name": "stdout"
        }
      ]
    },
    {
      "metadata": {
        "trusted": true
      },
      "cell_type": "code",
      "source": "print(firstPoint._fields)\nprint(firstPoint._asdict())",
      "execution_count": 13,
      "outputs": [
        {
          "output_type": "stream",
          "text": "('x', 'y')\nOrderedDict([('x', 4), ('y', 3)])\n",
          "name": "stdout"
        }
      ]
    },
    {
      "metadata": {
        "trusted": true
      },
      "cell_type": "code",
      "source": "a = firstPoint._replace(x=100)\nprint(a)",
      "execution_count": 17,
      "outputs": [
        {
          "output_type": "stream",
          "text": "Point(x=100, y=3)\n",
          "name": "stdout"
        }
      ]
    },
    {
      "metadata": {},
      "cell_type": "markdown",
      "source": "# orderDict() Collections"
    },
    {
      "metadata": {
        "trusted": true
      },
      "cell_type": "code",
      "source": "from collections import OrderedDict\nordered_d = OrderedDict()\nordered_d['a']=1\nordered_d['b']=2\nordered_d['c']=3\nprint(ordered_d)",
      "execution_count": 2,
      "outputs": [
        {
          "output_type": "stream",
          "text": "OrderedDict([('a', 1), ('b', 2), ('c', 3)])\n",
          "name": "stdout"
        }
      ]
    },
    {
      "metadata": {
        "trusted": true
      },
      "cell_type": "code",
      "source": "from collections import OrderedDict\nordered = OrderedDict()\nn = int(input('enter number of items: '))\nfor i in range(n):\n    item = list(input('enter item with its price').split())\n    x=' '.join(item[:-1])\n    price = list(map(int,item[-1:]))\n    \n    if x in ordered:\n        ordered[x]=price[0]+ordered[x]\n    else:\n        \n        ordered[x]=price[0]\n\nfor i in ordered.items():\n    print(*i)",
      "execution_count": 4,
      "outputs": [
        {
          "output_type": "stream",
          "name": "stdout",
          "text": "enter number of items: 4\nenter item with its priceapple 10\nenter item with its pricecan can 20\nenter item with its priceapple 90\nenter item with its pricecan can 44\napple 100\ncan can 64\n"
        }
      ]
    },
    {
      "metadata": {
        "trusted": true
      },
      "cell_type": "code",
      "source": "from collections import OrderedDict\nwords = OrderedDict()\nfor i in range(int(input())):\n    x=input()\n    if x in words.keys():\n        words[x]=words[x]+1\n    else:\n        words[x] = 1\n        \nprint(len(words.keys()))\nprint(*words.values())",
      "execution_count": 1,
      "outputs": [
        {
          "output_type": "stream",
          "name": "stdout",
          "text": "2\na\nd\n2\n1 1\n"
        }
      ]
    },
    {
      "metadata": {},
      "cell_type": "markdown",
      "source": "# Collections.deque()\n\n"
    },
    {
      "metadata": {
        "trusted": true
      },
      "cell_type": "code",
      "source": ">>> from collections import deque\na = deque('NUMBER')\nprint(a)\na.append(22)\nprint(a)\na.appendleft(3)\nprint(a)\na.pop()\nprint(a)\na.popleft()\nprint(a)\na.extend('1234')\nprint(a)\na.extendleft('891')\na.remove('M')\nprint(a)\na.reverse()\nprint(a)\na.rotate(-1)\nprint(a)",
      "execution_count": null,
      "outputs": []
    },
    {
      "metadata": {
        "trusted": true
      },
      "cell_type": "markdown",
      "source": "# Time and Date"
    },
    {
      "metadata": {
        "trusted": true
      },
      "cell_type": "code",
      "source": "import calendar\nprint(calendar.TextCalendar(firstweekday = 0).formatyear(2015))",
      "execution_count": 1,
      "outputs": [
        {
          "output_type": "stream",
          "text": "                                  2015\n\n      January                   February                   March\nMo Tu We Th Fr Sa Su      Mo Tu We Th Fr Sa Su      Mo Tu We Th Fr Sa Su\n          1  2  3  4                         1                         1\n 5  6  7  8  9 10 11       2  3  4  5  6  7  8       2  3  4  5  6  7  8\n12 13 14 15 16 17 18       9 10 11 12 13 14 15       9 10 11 12 13 14 15\n19 20 21 22 23 24 25      16 17 18 19 20 21 22      16 17 18 19 20 21 22\n26 27 28 29 30 31         23 24 25 26 27 28         23 24 25 26 27 28 29\n                                                    30 31\n\n       April                      May                       June\nMo Tu We Th Fr Sa Su      Mo Tu We Th Fr Sa Su      Mo Tu We Th Fr Sa Su\n       1  2  3  4  5                   1  2  3       1  2  3  4  5  6  7\n 6  7  8  9 10 11 12       4  5  6  7  8  9 10       8  9 10 11 12 13 14\n13 14 15 16 17 18 19      11 12 13 14 15 16 17      15 16 17 18 19 20 21\n20 21 22 23 24 25 26      18 19 20 21 22 23 24      22 23 24 25 26 27 28\n27 28 29 30               25 26 27 28 29 30 31      29 30\n\n        July                     August                  September\nMo Tu We Th Fr Sa Su      Mo Tu We Th Fr Sa Su      Mo Tu We Th Fr Sa Su\n       1  2  3  4  5                      1  2          1  2  3  4  5  6\n 6  7  8  9 10 11 12       3  4  5  6  7  8  9       7  8  9 10 11 12 13\n13 14 15 16 17 18 19      10 11 12 13 14 15 16      14 15 16 17 18 19 20\n20 21 22 23 24 25 26      17 18 19 20 21 22 23      21 22 23 24 25 26 27\n27 28 29 30 31            24 25 26 27 28 29 30      28 29 30\n                          31\n\n      October                   November                  December\nMo Tu We Th Fr Sa Su      Mo Tu We Th Fr Sa Su      Mo Tu We Th Fr Sa Su\n          1  2  3  4                         1          1  2  3  4  5  6\n 5  6  7  8  9 10 11       2  3  4  5  6  7  8       7  8  9 10 11 12 13\n12 13 14 15 16 17 18       9 10 11 12 13 14 15      14 15 16 17 18 19 20\n19 20 21 22 23 24 25      16 17 18 19 20 21 22      21 22 23 24 25 26 27\n26 27 28 29 30 31         23 24 25 26 27 28 29      28 29 30 31\n                          30\n\n",
          "name": "stdout"
        }
      ]
    },
    {
      "metadata": {
        "trusted": true
      },
      "cell_type": "code",
      "source": "import calendar\nx = list(map(int,input().split()))\n#enter month then day then year\nprint((calendar.day_name[calendar.weekday(x[2],x[0],x[1])]).upper())",
      "execution_count": 2,
      "outputs": [
        {
          "output_type": "stream",
          "name": "stdout",
          "text": "4 8 1998\nWEDNESDAY\n"
        }
      ]
    },
    {
      "metadata": {
        "trusted": true
      },
      "cell_type": "code",
      "source": "",
      "execution_count": null,
      "outputs": []
    }
  ],
  "metadata": {
    "kernelspec": {
      "name": "python36",
      "display_name": "Python 3.6",
      "language": "python"
    },
    "language_info": {
      "mimetype": "text/x-python",
      "nbconvert_exporter": "python",
      "name": "python",
      "pygments_lexer": "ipython3",
      "version": "3.6.6",
      "file_extension": ".py",
      "codemirror_mode": {
        "version": 3,
        "name": "ipython"
      }
    }
  },
  "nbformat": 4,
  "nbformat_minor": 2
}