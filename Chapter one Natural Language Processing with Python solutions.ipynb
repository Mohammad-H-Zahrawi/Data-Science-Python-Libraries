{
 "cells": [
  {
   "cell_type": "markdown",
   "metadata": {},
   "source": [
    "# NLTK"
   ]
  },
  {
   "cell_type": "markdown",
   "metadata": {},
   "source": [
    "### solutions of chapter one #Steven Bird, Ewan Klein & Edward Loper\""
   ]
  },
  {
   "cell_type": "code",
   "execution_count": 1,
   "metadata": {},
   "outputs": [],
   "source": [
    "import nltk\n",
    "import pandas as pd\n",
    "import matplotlib.pyplot as plt"
   ]
  },
  {
   "cell_type": "code",
   "execution_count": 2,
   "metadata": {},
   "outputs": [
    {
     "name": "stdout",
     "output_type": "stream",
     "text": [
      "*** Introductory Examples for the NLTK Book ***\n",
      "Loading text1, ..., text9 and sent1, ..., sent9\n",
      "Type the name of the text or sentence to view it.\n",
      "Type: 'texts()' or 'sents()' to list the materials.\n",
      "text1: Moby Dick by Herman Melville 1851\n",
      "text2: Sense and Sensibility by Jane Austen 1811\n",
      "text3: The Book of Genesis\n",
      "text4: Inaugural Address Corpus\n",
      "text5: Chat Corpus\n",
      "text6: Monty Python and the Holy Grail\n",
      "text7: Wall Street Journal\n",
      "text8: Personals Corpus\n",
      "text9: The Man Who Was Thursday by G . K . Chesterton 1908\n"
     ]
    }
   ],
   "source": [
    "from nltk.book import *"
   ]
  },
  {
   "cell_type": "markdown",
   "metadata": {},
   "source": [
    "## Excercise 1"
   ]
  },
  {
   "cell_type": "code",
   "execution_count": 3,
   "metadata": {},
   "outputs": [
    {
     "name": "stdout",
     "output_type": "stream",
     "text": [
      "2.4\n"
     ]
    }
   ],
   "source": [
    "print(12/(4+1))"
   ]
  },
  {
   "cell_type": "code",
   "execution_count": 4,
   "metadata": {},
   "outputs": [
    {
     "name": "stdout",
     "output_type": "stream",
     "text": [
      "11.0\n"
     ]
    }
   ],
   "source": [
    "print(2**4/4+7)"
   ]
  },
  {
   "cell_type": "markdown",
   "metadata": {},
   "source": [
    "## Excercise 2"
   ]
  },
  {
   "cell_type": "code",
   "execution_count": 5,
   "metadata": {},
   "outputs": [
    {
     "name": "stdout",
     "output_type": "stream",
     "text": [
      "3142930641582938830174357788501626427282669988762475256374173175398995908420104023465432599069702289330964075081611719197835869803511992549376\n"
     ]
    }
   ],
   "source": [
    "print(26**100)"
   ]
  },
  {
   "cell_type": "markdown",
   "metadata": {},
   "source": [
    "## Excercise 3"
   ]
  },
  {
   "cell_type": "code",
   "execution_count": 6,
   "metadata": {},
   "outputs": [
    {
     "name": "stdout",
     "output_type": "stream",
     "text": [
      "['Monty', 'Python', 'Monty', 'Python', 'Monty', 'Python', 'Monty', 'Python', 'Monty', 'Python', 'Monty', 'Python', 'Monty', 'Python', 'Monty', 'Python', 'Monty', 'Python', 'Monty', 'Python', 'Monty', 'Python', 'Monty', 'Python', 'Monty', 'Python', 'Monty', 'Python', 'Monty', 'Python', 'Monty', 'Python', 'Monty', 'Python', 'Monty', 'Python', 'Monty', 'Python', 'Monty', 'Python']\n"
     ]
    }
   ],
   "source": [
    "my_list = ['Monty','Python']\n",
    "print(my_list*20)"
   ]
  },
  {
   "cell_type": "code",
   "execution_count": 7,
   "metadata": {},
   "outputs": [
    {
     "name": "stdout",
     "output_type": "stream",
     "text": [
      "['Call', 'me', 'Ishmael', '.', 'Call', 'me', 'Ishmael', '.', 'Call', 'me', 'Ishmael', '.']\n"
     ]
    }
   ],
   "source": [
    "print(3*sent1)"
   ]
  },
  {
   "cell_type": "markdown",
   "metadata": {},
   "source": [
    "## Excercise 4"
   ]
  },
  {
   "cell_type": "code",
   "execution_count": 8,
   "metadata": {},
   "outputs": [
    {
     "name": "stdout",
     "output_type": "stream",
     "text": [
      "number of words in text2 is 141576\n"
     ]
    }
   ],
   "source": [
    "print('number of words in text2 is',len(text2))"
   ]
  },
  {
   "cell_type": "code",
   "execution_count": 9,
   "metadata": {},
   "outputs": [
    {
     "name": "stdout",
     "output_type": "stream",
     "text": [
      "number of the distinct words in text2 is 6833\n"
     ]
    }
   ],
   "source": [
    "print('number of the distinct words in text2 is',len(set(text2)))\n",
    "# this is not accurate becasue punctuation marks are considered as tokens."
   ]
  },
  {
   "cell_type": "code",
   "execution_count": 10,
   "metadata": {},
   "outputs": [
    {
     "name": "stdout",
     "output_type": "stream",
     "text": [
      "6766\n"
     ]
    }
   ],
   "source": [
    "print(len(set([w for w in text2 if w.isalnum()])))"
   ]
  },
  {
   "cell_type": "code",
   "execution_count": 11,
   "metadata": {},
   "outputs": [
    {
     "name": "stdout",
     "output_type": "stream",
     "text": [
      "6759\n"
     ]
    }
   ],
   "source": [
    "print(len(set([w for w in text2 if w.isalnum() and w not in ('d','ll','m','re','s','t','ve')])))\n",
    "#without punctuation marks and apostrophes parts just like didn't become (didn) (t)."
   ]
  },
  {
   "cell_type": "markdown",
   "metadata": {},
   "source": [
    "## Excercise 5"
   ]
  },
  {
   "cell_type": "code",
   "execution_count": 12,
   "metadata": {},
   "outputs": [],
   "source": [
    "# lexical diversity for humor is 4.3 . In contrast, lexical diversity for fiction romance is 8.3 . \n",
    "# So, fiction romance has more lexical diversity."
   ]
  },
  {
   "cell_type": "markdown",
   "metadata": {},
   "source": [
    "## Excercise 6"
   ]
  },
  {
   "cell_type": "code",
   "execution_count": 13,
   "metadata": {},
   "outputs": [
    {
     "data": {
      "image/png": "[encoded data removed]",
      "text/plain": [
       "<Figure size 432x288 with 1 Axes>"
      ]
     },
     "metadata": {
      "needs_background": "light"
     },
     "output_type": "display_data"
    }
   ],
   "source": [
    "%matplotlib inline \n",
    "text2.dispersion_plot(['Elinor','Marianne','Edward','Willoughby'])"
   ]
  },
  {
   "cell_type": "markdown",
   "metadata": {},
   "source": [
    "## Excercise 7"
   ]
  },
  {
   "cell_type": "code",
   "execution_count": 14,
   "metadata": {},
   "outputs": [
    {
     "name": "stdout",
     "output_type": "stream",
     "text": [
      "wanna chat; PART JOIN; MODE #14-19teens; JOIN PART; PART PART;\n",
      "cute.-ass MP3; MP3 player; JOIN JOIN; times .. .; ACTION watches; guys\n",
      "wanna; song lasts; last night; ACTION sits; -...)...- S.M.R.; Lime\n",
      "Player; Player 12%; dont know; lez gurls; long time\n",
      "None\n"
     ]
    }
   ],
   "source": [
    "print(text5.collocations())"
   ]
  },
  {
   "cell_type": "markdown",
   "metadata": {},
   "source": [
    "## Excercise 8"
   ]
  },
  {
   "cell_type": "markdown",
   "metadata": {},
   "source": [
    "#### the purpose of this expression len(set(text4)) is to get number of all unique words inside text4."
   ]
  },
  {
   "cell_type": "code",
   "execution_count": 15,
   "metadata": {},
   "outputs": [
    {
     "data": {
      "text/plain": [
       "9913"
      ]
     },
     "execution_count": 15,
     "metadata": {},
     "output_type": "execute_result"
    }
   ],
   "source": [
    "len(set(text4))"
   ]
  },
  {
   "cell_type": "markdown",
   "metadata": {},
   "source": [
    "## Excercise 9"
   ]
  },
  {
   "cell_type": "code",
   "execution_count": 16,
   "metadata": {},
   "outputs": [
    {
     "data": {
      "text/plain": [
       "'My String'"
      ]
     },
     "execution_count": 16,
     "metadata": {},
     "output_type": "execute_result"
    }
   ],
   "source": [
    "my_string = 'My String'\n",
    "my_string"
   ]
  },
  {
   "cell_type": "code",
   "execution_count": 17,
   "metadata": {},
   "outputs": [
    {
     "name": "stdout",
     "output_type": "stream",
     "text": [
      "My String\n"
     ]
    }
   ],
   "source": [
    "print(my_string)"
   ]
  },
  {
   "cell_type": "code",
   "execution_count": 18,
   "metadata": {},
   "outputs": [
    {
     "name": "stdout",
     "output_type": "stream",
     "text": [
      "My StringMy StringMy String\n"
     ]
    }
   ],
   "source": [
    "print(my_string*3)"
   ]
  },
  {
   "cell_type": "code",
   "execution_count": 19,
   "metadata": {},
   "outputs": [
    {
     "data": {
      "text/plain": [
       "'My String My String My String'"
      ]
     },
     "execution_count": 19,
     "metadata": {},
     "output_type": "execute_result"
    }
   ],
   "source": [
    "' '.join([my_string]*3)"
   ]
  },
  {
   "cell_type": "code",
   "execution_count": 20,
   "metadata": {},
   "outputs": [
    {
     "name": "stdout",
     "output_type": "stream",
     "text": [
      "My String My String My String \n"
     ]
    }
   ],
   "source": [
    "print((my_string+' ')*3)"
   ]
  },
  {
   "cell_type": "markdown",
   "metadata": {},
   "source": [
    "## Excercise 10"
   ]
  },
  {
   "cell_type": "code",
   "execution_count": 21,
   "metadata": {},
   "outputs": [],
   "source": [
    "my_sent = ['I' ,'Love' ,'UAE']"
   ]
  },
  {
   "cell_type": "code",
   "execution_count": 22,
   "metadata": {},
   "outputs": [
    {
     "name": "stdout",
     "output_type": "stream",
     "text": [
      "I Love UAE\n"
     ]
    }
   ],
   "source": [
    "string = (' '.join(my_sent))\n",
    "print(string)"
   ]
  },
  {
   "cell_type": "code",
   "execution_count": 23,
   "metadata": {},
   "outputs": [
    {
     "name": "stdout",
     "output_type": "stream",
     "text": [
      "['I', 'Love', 'UAE']\n"
     ]
    }
   ],
   "source": [
    "li = string.split(' ')\n",
    "print(li)"
   ]
  },
  {
   "cell_type": "markdown",
   "metadata": {},
   "source": [
    "## Excercise 11"
   ]
  },
  {
   "cell_type": "code",
   "execution_count": 24,
   "metadata": {},
   "outputs": [],
   "source": [
    "phrase1 = ['Python','is','an','easy','and','powerful','programming','language']\n",
    "phrase2 = ['Python','has','many','labraries','such','pandas','numpy','and','NLTK']"
   ]
  },
  {
   "cell_type": "code",
   "execution_count": 25,
   "metadata": {},
   "outputs": [
    {
     "name": "stdout",
     "output_type": "stream",
     "text": [
      "Python is an easy and powerful programming language Python has many labraries such pandas numpy and NLTK\n",
      "17\n",
      "17\n"
     ]
    }
   ],
   "source": [
    "print(' '.join(phrase1+phrase2))\n",
    "print(len(phrase1+phrase2))\n",
    "print(len(phrase1)+len(phrase2))"
   ]
  },
  {
   "cell_type": "markdown",
   "metadata": {},
   "source": [
    "## Excercise 12"
   ]
  },
  {
   "cell_type": "markdown",
   "metadata": {},
   "source": [
    "####  [\"Monty\", \"Python\"][1] is more relevant to NLTK. because NLTK is more likely to deal with words rather than characters."
   ]
  },
  {
   "cell_type": "markdown",
   "metadata": {},
   "source": [
    "## Excercise 13"
   ]
  },
  {
   "cell_type": "code",
   "execution_count": 26,
   "metadata": {},
   "outputs": [
    {
     "data": {
      "text/plain": [
       "['Call', 'me', 'Ishmael', '.']"
      ]
     },
     "execution_count": 26,
     "metadata": {},
     "output_type": "execute_result"
    }
   ],
   "source": [
    "sent1"
   ]
  },
  {
   "cell_type": "code",
   "execution_count": 27,
   "metadata": {},
   "outputs": [
    {
     "data": {
      "text/plain": [
       "'h'"
      ]
     },
     "execution_count": 27,
     "metadata": {},
     "output_type": "execute_result"
    }
   ],
   "source": [
    "sent1[2][2]"
   ]
  },
  {
   "cell_type": "markdown",
   "metadata": {},
   "source": [
    "#### the letter \"h\" inside word \"Ishmael\"  ___  index start from zero"
   ]
  },
  {
   "cell_type": "code",
   "execution_count": 28,
   "metadata": {},
   "outputs": [
    {
     "data": {
      "text/plain": [
       "'e'"
      ]
     },
     "execution_count": 28,
     "metadata": {},
     "output_type": "execute_result"
    }
   ],
   "source": [
    "sent1[1][1]"
   ]
  },
  {
   "cell_type": "markdown",
   "metadata": {},
   "source": [
    "## Excercise 14"
   ]
  },
  {
   "cell_type": "code",
   "execution_count": 29,
   "metadata": {},
   "outputs": [
    {
     "data": {
      "text/plain": [
       "<Text: The Book of Genesis>"
      ]
     },
     "execution_count": 29,
     "metadata": {},
     "output_type": "execute_result"
    }
   ],
   "source": [
    "text3"
   ]
  },
  {
   "cell_type": "code",
   "execution_count": 30,
   "metadata": {},
   "outputs": [
    {
     "data": {
      "text/plain": [
       "['In',\n",
       " 'the',\n",
       " 'beginning',\n",
       " 'God',\n",
       " 'created',\n",
       " 'the',\n",
       " 'heaven',\n",
       " 'and',\n",
       " 'the',\n",
       " 'earth',\n",
       " '.']"
      ]
     },
     "execution_count": 30,
     "metadata": {},
     "output_type": "execute_result"
    }
   ],
   "source": [
    "sent3"
   ]
  },
  {
   "cell_type": "code",
   "execution_count": 31,
   "metadata": {},
   "outputs": [
    {
     "data": {
      "text/plain": [
       "[1, 5, 8]"
      ]
     },
     "execution_count": 31,
     "metadata": {},
     "output_type": "execute_result"
    }
   ],
   "source": [
    "[i for i in range(len(sent3)) if sent3[i]=='the']"
   ]
  },
  {
   "cell_type": "markdown",
   "metadata": {},
   "source": [
    "## Excercise 15"
   ]
  },
  {
   "cell_type": "code",
   "execution_count": 32,
   "metadata": {},
   "outputs": [
    {
     "name": "stdout",
     "output_type": "stream",
     "text": [
      "['b', 'b-day', 'b/c', 'b4', 'babay', 'babble', 'babblein', 'babe', 'babes', 'babi', 'babies', 'babiess', 'baby', 'babycakeses', 'bachelorette', 'back', 'backatchya', 'backfrontsidewaysandallaroundtheworld', 'backroom', 'backup', 'bacl', 'bad', 'bag', 'bagel', 'bagels', 'bahahahaa', 'bak', 'baked', 'balad', 'balance', 'balck', 'ball', 'ballin', 'balls', 'ban', 'band', 'bandito', 'bandsaw', 'banjoes', 'banned', 'baord', 'bar', 'barbie', 'bare', 'barely', 'bares', 'barfights', 'barks', 'barn', 'barrel', 'base', 'bases', 'basically', 'basket', 'battery', 'bay', 'bbbbbyyyyyyyeeeeeeeee', 'bbiam', 'bbl', 'bbs', 'bc', 'be', 'beach', 'beachhhh', 'beam', 'beams', 'beanbag', 'beans', 'bear', 'bears', 'beat', 'beaten', 'beatles', 'beats', 'beattles', 'beautiful', 'because', 'beckley', 'become', 'bed', 'bedford', 'bedroom', 'beeeeehave', 'beeehave', 'been', 'beer', 'before', 'beg', 'begin', 'behave', 'behind', 'bein', 'being', 'beleive', 'believe', 'belive', 'bell', 'belly', 'belong', 'belongings', 'ben', 'bend', 'benz', 'bes', 'beside', 'besides', 'best', 'bet', 'betrayal', 'betta', 'better', 'between', 'beuty', 'bf', 'bi', 'biatch', 'bible', 'biebsa', 'bied', 'big', 'bigest', 'biggest', 'biiiatch', 'bike', 'bikes', 'bikini', 'bio', 'bird', 'birfday', 'birthday', 'bisexual', 'bishes', 'bit', 'bitch', 'bitches', 'bitdh', 'bite', 'bites', 'biyatch', 'biz', 'bj', 'black', 'blade', 'blah', 'blank', 'blankie', 'blazed', 'bleach', 'blech', 'bless', 'blessings', 'blew', 'blind', 'blinks', 'bliss', 'blocking', 'bloe', 'blood', 'blooded', 'bloody', 'blow', 'blowing', 'blowjob', 'blowup', 'blue', 'blueberry', 'bluer', 'blues', 'blunt', 'board', 'bob', 'bodies', 'body', 'boed', 'boght', 'boi', 'boing', 'boinked', 'bois', 'bomb', 'bone', 'boned', 'bones', 'bong', 'boning', 'bonus', 'boo', 'booboo', 'boobs', 'book', 'boom', 'boooooooooooglyyyyyy', 'boost', 'boot', 'bootay', 'booted', 'boots', 'booty', 'border', 'borderline', 'bored', 'boredom', 'boring', 'born', 'born-again', 'bosom', 'boss', 'bossy', 'bot', 'both', 'bother', 'bothering', 'bottle', 'bought', 'bounced', 'bouncer', 'bouncers', 'bound', 'bout', 'bouts', 'bow', 'bowl', 'box', 'boy', 'boyfriend', 'boys', 'bra', 'brad', 'brady', 'brain', 'brakes', 'brass', 'brat', 'brb', 'brbbb', 'bread', 'break', 'breaks', 'breath', 'breathe', 'bred', 'breeding', 'bright', 'brightened', 'bring', 'brings', 'bro', 'broke', 'brooklyn', 'brother', 'brothers', 'brought', 'brown', 'brrrrrrr', 'bruises', 'brunswick', 'brwn', 'btw', 'bucks', 'buddyyyyyy', 'buff', 'buffalo', 'bug', 'bugs', 'buh', 'build', 'builds', 'built', 'bull', 'bulls', 'bum', 'bumber', 'bummer', 'bumped', 'bumper', 'bunch', 'bunny', 'burger', 'burito', 'burned', 'burns', 'burp', 'burpin', 'burps', 'burried', 'burryed', 'bus', 'buses', 'bust', 'busted', 'busy', 'but', 'butt', 'butter', 'butterscotch', 'button', 'buttons', 'buy', 'buying', 'bwahahahahahahahahahaha', 'by', 'byb', 'bye', 'byeee', 'byeeee', 'byeeeeeeee', 'byeeeeeeeeeeeee', 'byes']\n"
     ]
    }
   ],
   "source": [
    "li=set([w for w in text5 if w.startswith('b')])\n",
    "li=sorted(li)\n",
    "print(li)"
   ]
  },
  {
   "cell_type": "markdown",
   "metadata": {},
   "source": [
    "## Excercise 16"
   ]
  },
  {
   "cell_type": "code",
   "execution_count": 33,
   "metadata": {},
   "outputs": [
    {
     "data": {
      "text/plain": [
       "[0, 1, 2, 3, 4, 5, 6, 7, 8, 9]"
      ]
     },
     "execution_count": 33,
     "metadata": {},
     "output_type": "execute_result"
    }
   ],
   "source": [
    "list(range(10))"
   ]
  },
  {
   "cell_type": "code",
   "execution_count": 34,
   "metadata": {},
   "outputs": [
    {
     "data": {
      "text/plain": [
       "[10, 11, 12, 13, 14, 15, 16, 17, 18, 19]"
      ]
     },
     "execution_count": 34,
     "metadata": {},
     "output_type": "execute_result"
    }
   ],
   "source": [
    "list(range(10,20))"
   ]
  },
  {
   "cell_type": "code",
   "execution_count": 35,
   "metadata": {},
   "outputs": [
    {
     "data": {
      "text/plain": [
       "[20, 18, 16, 14, 12]"
      ]
     },
     "execution_count": 35,
     "metadata": {},
     "output_type": "execute_result"
    }
   ],
   "source": [
    "list(range(20,10,-2))"
   ]
  },
  {
   "cell_type": "markdown",
   "metadata": {},
   "source": [
    "## Excercise 17"
   ]
  },
  {
   "cell_type": "code",
   "execution_count": 36,
   "metadata": {},
   "outputs": [
    {
     "data": {
      "text/plain": [
       "629"
      ]
     },
     "execution_count": 36,
     "metadata": {},
     "output_type": "execute_result"
    }
   ],
   "source": [
    "text9.index('sunset')"
   ]
  },
  {
   "cell_type": "code",
   "execution_count": 37,
   "metadata": {},
   "outputs": [
    {
     "name": "stdout",
     "output_type": "stream",
     "text": [
      "612\n"
     ]
    }
   ],
   "source": [
    "for i in range(629,600,-1):\n",
    "    if text9[i]=='.':\n",
    "        print(i)\n",
    "        break"
   ]
  },
  {
   "cell_type": "code",
   "execution_count": 38,
   "metadata": {},
   "outputs": [
    {
     "name": "stdout",
     "output_type": "stream",
     "text": [
      "643\n"
     ]
    }
   ],
   "source": [
    "for i in range(629,660):\n",
    "    if text9[i]=='.':\n",
    "        print(i)\n",
    "        break"
   ]
  },
  {
   "cell_type": "code",
   "execution_count": 39,
   "metadata": {},
   "outputs": [
    {
     "name": "stdout",
     "output_type": "stream",
     "text": [
      "CHAPTER I THE TWO POETS OF SAFFRON PARK THE suburb of Saffron Park lay on the sunset side of London , as red and ragged as a cloud of sunset .\n"
     ]
    }
   ],
   "source": [
    "our_sentence = text9[613:644]\n",
    "print(' '.join(our_sentence))"
   ]
  },
  {
   "cell_type": "markdown",
   "metadata": {},
   "source": [
    "## Excercise 18"
   ]
  },
  {
   "cell_type": "code",
   "execution_count": 40,
   "metadata": {},
   "outputs": [
    {
     "data": {
      "text/plain": [
       "75"
      ]
     },
     "execution_count": 40,
     "metadata": {},
     "output_type": "execute_result"
    }
   ],
   "source": [
    "len(sorted(set(sent1+sent2+sent3+sent4+sent5+sent6+sent7+sent8)))"
   ]
  },
  {
   "cell_type": "markdown",
   "metadata": {},
   "source": [
    "## Excercise 19"
   ]
  },
  {
   "cell_type": "code",
   "execution_count": 41,
   "metadata": {},
   "outputs": [
    {
     "data": {
      "text/plain": [
       "17231"
      ]
     },
     "execution_count": 41,
     "metadata": {},
     "output_type": "execute_result"
    }
   ],
   "source": [
    "len(sorted(set([w.lower() for w in text1])))\n",
    "#first lowercasing then applying set function."
   ]
  },
  {
   "cell_type": "code",
   "execution_count": 42,
   "metadata": {},
   "outputs": [
    {
     "data": {
      "text/plain": [
       "19317"
      ]
     },
     "execution_count": 42,
     "metadata": {},
     "output_type": "execute_result"
    }
   ],
   "source": [
    "len(sorted([w.lower() for w in set(text1)]))\n",
    "#lowercasing after determination distinct words."
   ]
  },
  {
   "cell_type": "code",
   "execution_count": 43,
   "metadata": {},
   "outputs": [
    {
     "data": {
      "text/plain": [
       "['book', 'pencil']"
      ]
     },
     "execution_count": 43,
     "metadata": {},
     "output_type": "execute_result"
    }
   ],
   "source": [
    "s1 = [\"Book\", \"book\", \"pencil\"]\n",
    "sorted(set(w.lower() for w in s1))"
   ]
  },
  {
   "cell_type": "code",
   "execution_count": 44,
   "metadata": {},
   "outputs": [
    {
     "data": {
      "text/plain": [
       "['book', 'book', 'pencil']"
      ]
     },
     "execution_count": 44,
     "metadata": {},
     "output_type": "execute_result"
    }
   ],
   "source": [
    "sorted(w.lower() for w in set(s1))\n"
   ]
  },
  {
   "cell_type": "markdown",
   "metadata": {},
   "source": [
    "## Excercise 20"
   ]
  },
  {
   "cell_type": "code",
   "execution_count": 45,
   "metadata": {},
   "outputs": [],
   "source": [
    "#### not w.islower() will return True on any non-alphabetic :"
   ]
  },
  {
   "cell_type": "code",
   "execution_count": 46,
   "metadata": {},
   "outputs": [
    {
     "name": "stdout",
     "output_type": "stream",
     "text": [
      "True\n",
      "True\n"
     ]
    }
   ],
   "source": [
    "c = 'UAE'\n",
    "print(c.isupper())\n",
    "print(not c.islower())"
   ]
  },
  {
   "cell_type": "code",
   "execution_count": 47,
   "metadata": {},
   "outputs": [
    {
     "name": "stdout",
     "output_type": "stream",
     "text": [
      "False\n",
      "True\n"
     ]
    }
   ],
   "source": [
    "c = '@'\n",
    "print(c.isupper())\n",
    "print(not c.islower())"
   ]
  },
  {
   "cell_type": "markdown",
   "metadata": {},
   "source": [
    "## Excercise 21"
   ]
  },
  {
   "cell_type": "code",
   "execution_count": 48,
   "metadata": {},
   "outputs": [
    {
     "data": {
      "text/plain": [
       "['THE', 'END']"
      ]
     },
     "execution_count": 48,
     "metadata": {},
     "output_type": "execute_result"
    }
   ],
   "source": [
    "text2[-2:]"
   ]
  },
  {
   "cell_type": "markdown",
   "metadata": {},
   "source": [
    "## Excercise 22"
   ]
  },
  {
   "cell_type": "code",
   "execution_count": 49,
   "metadata": {},
   "outputs": [
    {
     "data": {
      "text/plain": [
       "[('JOIN', 1021),\n",
       " ('PART', 1016),\n",
       " ('that', 274),\n",
       " ('what', 183),\n",
       " ('here', 181),\n",
       " ('....', 170),\n",
       " ('have', 164),\n",
       " ('like', 156),\n",
       " ('with', 152),\n",
       " ('chat', 142)]"
      ]
     },
     "execution_count": 49,
     "metadata": {},
     "output_type": "execute_result"
    }
   ],
   "source": [
    "four_letters = nltk.FreqDist([w for w in text5 if len(w)==4])\n",
    "four_letters.most_common(10)"
   ]
  },
  {
   "cell_type": "code",
   "execution_count": 50,
   "metadata": {},
   "outputs": [
    {
     "data": {
      "text/plain": [
       "1181"
      ]
     },
     "execution_count": 50,
     "metadata": {},
     "output_type": "execute_result"
    }
   ],
   "source": [
    "len(four_letters)"
   ]
  },
  {
   "cell_type": "markdown",
   "metadata": {},
   "source": [
    "## Excercise 23"
   ]
  },
  {
   "cell_type": "code",
   "execution_count": 51,
   "metadata": {},
   "outputs": [],
   "source": [
    "capital = ([w for w in text6 if w.isupper()])\n"
   ]
  },
  {
   "cell_type": "code",
   "execution_count": 52,
   "metadata": {},
   "outputs": [
    {
     "data": {
      "text/plain": [
       "['SCENE',\n",
       " 'KING',\n",
       " 'ARTHUR',\n",
       " 'SOLDIER',\n",
       " 'ARTHUR',\n",
       " 'I',\n",
       " 'SOLDIER',\n",
       " 'ARTHUR',\n",
       " 'I',\n",
       " 'I',\n",
       " 'SOLDIER',\n",
       " 'ARTHUR',\n",
       " 'SOLDIER',\n",
       " 'ARTHUR',\n",
       " 'SOLDIER',\n",
       " 'ARTHUR',\n",
       " 'SOLDIER',\n",
       " 'ARTHUR',\n",
       " 'SOLDIER',\n",
       " 'ARTHUR']"
      ]
     },
     "execution_count": 52,
     "metadata": {},
     "output_type": "execute_result"
    }
   ],
   "source": [
    "capital[:20]"
   ]
  },
  {
   "cell_type": "markdown",
   "metadata": {},
   "source": [
    "## Excercise 24"
   ]
  },
  {
   "cell_type": "code",
   "execution_count": 53,
   "metadata": {},
   "outputs": [],
   "source": [
    "new_list = []\n",
    "for w in text6:\n",
    "    if w.endswith(('ise','ize')):\n",
    "        new_list.append(w)\n",
    "    elif 'z' in w.lower():\n",
    "        new_list.append(w)\n",
    "    elif 'pt' in w.lower():\n",
    "        new_list.append(w)\n",
    "    elif w.istitle():\n",
    "        new_list.append(w)"
   ]
  },
  {
   "cell_type": "code",
   "execution_count": 54,
   "metadata": {},
   "outputs": [
    {
     "name": "stdout",
     "output_type": "stream",
     "text": [
      "['A', 'A', 'A', 'A', 'A', 'A', 'A', 'A', 'A', 'A', 'A', 'A', 'A', 'A', 'A', 'A', 'A', 'A', 'A', 'A', 'A', 'A', 'A', 'A', 'A', 'A', 'A', 'A', 'A', 'A', 'A', 'A', 'A', 'A', 'A', 'A', 'A', 'A', 'A', 'A', 'A', 'A', 'A', 'A', 'A', 'A', 'A', 'A', 'A', 'A', 'AMAZING', 'Aaaaaaaaah', 'Aaaaaaaah', 'Aaaaaah', 'Aaaah', 'Aaaaugh', 'Aaaaugh', 'Aaaaugh', 'Aaaaugh', 'Aaaaugh', 'Aaaaugh', 'Aaaaugh', 'Aaagh', 'Aaagh', 'Aaagh', 'Aaagh', 'Aaah', 'Aaah', 'Aaah', 'Aaauggh', 'Aaaugh', 'Aaaugh', 'Aaaugh', 'Aaaugh', 'Aaauugh', 'Aaauugh', 'Aagh', 'Aagh', 'Aah', 'Aah', 'Aah', 'Aah', 'Aauuggghhh', 'Aauuugh', 'Aauuuuugh', 'Aauuuves', 'Action', 'Actually', 'African', 'African', 'African', 'African', 'Ages', 'Aggh', 'Agh', 'Agh', 'Agh', 'Agh', 'Agh', 'Agh', 'Ah', 'Ah', 'Ah', 'Ah', 'Ah', 'Ah', 'Ah', 'Ahh', 'Ahh', 'Ahh', 'Ahh', 'Ahh', 'Alice', 'All', 'All', 'All', 'All', 'All', 'All', 'All', 'All', 'All', 'All', 'All', 'All', 'Allo', 'Allo', 'Almighty', 'Alright', 'Am', 'Amen', 'Amen', 'An', 'Anarcho', 'And', 'And', 'And', 'And', 'And', 'And', 'And', 'And', 'And', 'And', 'And', 'And', 'And', 'And', 'And', 'And', 'And', 'And', 'And', 'And', 'And', 'And', 'And', 'And', 'And', 'And', 'And', 'And', 'And', 'And', 'And', 'And', 'And', 'And', 'And', 'And', 'And', 'And', 'And', 'And', 'And', 'And', 'And', 'And', 'And', 'And', 'And', 'And', 'And', 'And', 'Angnor', 'Anthrax', 'Anthrax', 'Anthrax', 'Antioch', 'Antioch', 'Anybody', 'Anyway', 'Apples', 'Aramaic', 'Are', 'Are', 'Are', 'Are', 'Are', 'Are', 'Arimathea', 'Arimathea', 'Armaments', 'Armaments', 'Arthur', 'Arthur', 'Arthur', 'Arthur', 'Arthur', 'Arthur', 'Arthur', 'Arthur', 'Arthur', 'Arthur', 'Arthur', 'Arthur', 'Arthur', 'Arthur', 'Arthur', 'Arthur', 'Arthur', 'Arthur', 'Arthur', 'Arthur', 'Arthur', 'Arthur', 'Arthur', 'Arthur', 'Arthur', 'Arthur', 'Arthur', 'Arthur', 'Arthur', 'Arthur', 'Arthur', 'Arthur', 'Arthur', 'Arthur', 'Arthur', 'Arthur', 'As', 'Ask', 'Ask', 'Assyria', 'At', 'At', 'At', 'Attila', 'Augh', 'Augh', 'Autumn', 'Auuuuuuuugh', 'Auuuuuuuugh', 'Away', 'Ay', 'Ay', 'Ayy', 'Ayy', 'B', 'B', 'B', 'B', 'Back', 'Back', 'Back', 'Back', 'Back', 'Back', 'Bad', 'Badon', 'Battle', 'Be', 'Be', 'Be', 'Beast', 'Beast', 'Beast', 'Bedevere', 'Bedevere', 'Bedevere', 'Bedevere', 'Bedevere', 'Bedevere', 'Bedwere', 'Behold', 'Behold', 'Between', 'Beyond', 'Black', 'Black', 'Black', 'Black', 'Bloody', 'Bloody', 'Blue', 'Blue', 'Bon', 'Bones', 'Book', 'Bors', 'Bors', 'Brave', 'Brave', 'Brave', 'Brave', 'Brave', 'Bravely', 'Bravely', 'Bravest', 'Bread', 'Bridge', 'Bridge', 'Bridge', 'Bridge', 'Bridge', 'Bridge', 'Bring', 'Bring', 'Bring', 'Bring', 'Bring', 'Bring', 'Bring', 'Bring', 'Bring', 'Bring', 'Bring', 'Bring', 'Bring', 'Bring', 'Bristol', 'Britain', 'Britons', 'Britons', 'Britons', 'Britons', 'Britons', 'Britons', 'Britons', 'Britons', 'Britons', 'Britons', 'Britons', 'Brother', 'Brother', 'Brother', 'Brother', 'Build', 'Burn', 'Burn', 'Burn', 'Burn', 'Burn', 'Burn', 'Burn', 'Burn', 'Burn', 'Burn', 'Burn', 'Burn', 'Burn', 'Burn', 'Burn', 'Burn', 'Burn', 'Burn', 'Burn', 'Burn', 'Burn', 'Burn', 'Burn', 'Burn', 'Burn', 'Burn', 'Burn', 'Burn', 'Burn', 'Burn', 'Burn', 'Burn', 'But', 'But', 'But', 'But', 'But', 'But', 'But', 'But', 'But', 'But', 'But', 'But', 'But', 'But', 'But', 'By', 'By', 'By', 'By', 'C', 'Caerbannog', 'Caerbannog', 'Camaaaaaargue', 'Camelot', 'Camelot', 'Camelot', 'Camelot', 'Camelot', 'Camelot', 'Camelot', 'Camelot', 'Camelot', 'Camelot', 'Camelot', 'Camelot', 'Camelot', 'Camelot', 'Camelot', 'Camelot', 'Camelot', 'Camelot', 'Camelot', 'Camelot', 'Camelot', 'Camelot', 'Camelot', 'Camelot', 'Camelot', 'Camelot', 'Castle', 'Castle', 'Castle', 'Castle', 'Castle', 'Castle', 'Castle', 'Chapter', 'Charge', 'Charge', 'Charge', 'Charge', 'Chaste', 'Cherries', 'Chicken', 'Chicken', 'Chickennn', 'Chop', 'Christ', 'Christ', 'Christ', 'Christ', 'Christ', 'Churches', 'Churches', 'Cider', 'Clark', 'Clear', 'Clear', 'Clear', 'Come', 'Come', 'Come', 'Come', 'Come', 'Come', 'Come', 'Come', 'Come', 'Come', 'Come', 'Come', 'Come', 'Come', 'Come', 'Come', 'Come', 'Come', 'Come', 'Come', 'Come', 'Come', 'Come', 'Come', 'Come', 'Come', 'Concorde', 'Concorde', 'Concorde', 'Concorde', 'Concorde', 'Concorde', 'Concorde', 'Consult', 'Cornwall', 'Could', 'Course', 'Course', 'Court', 'Court', 'Crapper', 'Cut', 'Cut', 'Cut', 'Dappy', 'Death', 'Death', 'Death', 'Death', 'Death', 'Death', 'Defeat', 'Dennis', 'Dennis', 'Dennis', 'Dennis', 'Did', 'Did', 'Did', 'Did', 'Did', 'Did', 'Didn', 'Dingo', 'Dis', 'Divine', 'Do', 'Do', 'Do', 'Do', 'Doctor', 'Doctor', 'Does', 'Don', 'Don', 'Don', 'Dragon', 'Dramatically', 'Dramatically', 'Ecky', 'Ector', 'Eee', 'Eh', 'Eh', 'Enchanter', 'England', 'England', 'English', 'English', 'English', 'English', 'English', 'English', 'English', 'Erbert', 'Ere', 'Erm', 'Eternal', 'Eternal', 'European', 'European', 'Even', 'Every', 'Everything', 'Ewing', 'Exactly', 'Excalibur', 'Excalibur', 'Excuse', 'Explain', 'Far', 'Farewell', 'Father', 'Father', 'Father', 'Father', 'Father', 'Fetchez', 'Fetchez', 'Fiends', 'Fine', 'Fine', 'First', 'Firstly', 'Five', 'Follow', 'Follow', 'For', 'For', 'Forgive', 'Forward', 'Found', 'Four', 'France', 'Frank', 'French', 'French', 'French', 'French', 'French', 'French', 'Gable', 'Galahad', 'Galahad', 'Galahad', 'Galahad', 'Galahad', 'Galahad', 'Galahad', 'Galahad', 'Galahad', 'Galahad', 'Galahad', 'Gallahad', 'Gawain', 'Get', 'Get', 'Get', 'Get', 'Get', 'Get', 'Get', 'Get', 'Get', 'Get', 'Go', 'Go', 'Go', 'Go', 'Go', 'Go', 'Go', 'God', 'God', 'God', 'God', 'God', 'God', 'God', 'God', 'God', 'God', 'God', 'Good', 'Good', 'Good', 'Good', 'Good', 'Gorge', 'Gorge', 'Grail', 'Grail', 'Grail', 'Grail', 'Grail', 'Grail', 'Grail', 'Grail', 'Grail', 'Grail', 'Grail', 'Grail', 'Grail', 'Grail', 'Grail', 'Grail', 'Grail', 'Grail', 'Grail', 'Grail', 'Grail', 'Grail', 'Grail', 'Grail', 'Grail', 'Grail', 'Grail', 'Grail', 'Grail', 'Grail', 'Grail', 'Grail', 'Grail', 'Grail', 'Great', 'Greetings', 'Greetings', 'Grenade', 'Grenade', 'Grenade', 'Grenade', 'Guards', 'Guy', 'Ha', 'Ha', 'Ha', 'Ha', 'Ha', 'Ha', 'Ha', 'Ha', 'Ha', 'Ha', 'Ha', 'Ha', 'Ha', 'Ha', 'Ha', 'Ha', 'Ha', 'Hah', 'Hah', 'Hallo', 'Hallo', 'Halt', 'Halt', 'Halt', 'Hand', 'Hand', 'Hand', 'Hand', 'Hang', 'Hang', 'Hang', 'Have', 'Have', 'Have', 'Haw', 'Haw', 'He', 'He', 'He', 'He', 'He', 'He', 'He', 'He', 'He', 'He', 'He', 'He', 'He', 'He', 'He', 'He', 'He', 'He', 'He', 'He', 'He', 'He', 'He', 'He', 'He', 'He', 'He', 'He', 'He', 'He', 'He', 'He', 'He', 'He', 'He', 'He', 'He', 'He', 'He', 'He', 'He', 'He', 'He', 'He', 'He', 'He', 'Hee', 'Hee', 'Hee', 'Hee', 'Heee', 'Heh', 'Heh', 'Heh', 'Heh', 'Heh', 'Heh', 'Heh', 'Heh', 'Heh', 'Heh', 'Hello', 'Hello', 'Hello', 'Hello', 'Hello', 'Hello', 'Hello', 'Hello', 'Hello', 'Hello', 'Hello', 'Hello', 'Hello', 'Hello', 'Hello', 'Hello', 'Hello', 'Hello', 'Hello', 'Hello', 'Hello', 'Hello', 'Hello', 'Hello', 'Hello', 'Hello', 'Help', 'Herbert', 'Herbert', 'Here', 'Here', 'Here', 'Here', 'Hey', 'Hey', 'Hey', 'Hey', 'Hic', 'Hic', 'Hic', 'Hic', 'Hic', 'Hic', 'Hic', 'Hic', 'Hic', 'Hill', 'Himself', 'His', 'Hiyaah', 'Hiyah', 'Hiyya', 'Hiyya', 'Hiyya', 'Hm', 'Hm', 'Hm', 'Hmm', 'Hmm', 'Hmm', 'Ho', 'Hoa', 'Hold', 'Hold', 'Hold', 'Hold', 'Hold', 'Hold', 'Hold', 'Hold', 'Hold', 'Holy', 'Holy', 'Holy', 'Holy', 'Holy', 'Holy', 'Holy', 'Holy', 'Holy', 'Holy', 'Holy', 'Holy', 'Holy', 'Holy', 'Holy', 'Holy', 'Holy', 'Holy', 'Holy', 'Holy', 'Holy', 'Holy', 'Holy', 'Holy', 'Honestly', 'Hoo', 'Hoo', 'Hooray', 'How', 'How', 'How', 'How', 'How', 'How', 'How', 'How', 'How', 'How', 'Huh', 'Hurry', 'Hurry', 'Hurry', 'Hurry', 'Hurry', 'Huy', 'Huyah', 'Hya', 'Hyy', 'I', 'I', 'I', 'I', 'I', 'I', 'I', 'I', 'I', 'I', 'I', 'I', 'I', 'I', 'I', 'I', 'I', 'I', 'I', 'I', 'I', 'I', 'I', 'I', 'I', 'I', 'I', 'I', 'I', 'I', 'I', 'I', 'I', 'I', 'I', 'I', 'I', 'I', 'I', 'I', 'I', 'I', 'I', 'I', 'I', 'I', 'I', 'I', 'I', 'I', 'I', 'I', 'I', 'I', 'I', 'I', 'I', 'I', 'I', 'I', 'I', 'I', 'I', 'I', 'I', 'I', 'I', 'I', 'I', 'I', 'I', 'I', 'I', 'I', 'I', 'I', 'I', 'I', 'I', 'I', 'I', 'I', 'I', 'I', 'I', 'I', 'I', 'I', 'I', 'I', 'I', 'I', 'I', 'I', 'I', 'I', 'I', 'I', 'I', 'I', 'I', 'I', 'I', 'I', 'I', 'I', 'I', 'I', 'I', 'I', 'I', 'I', 'I', 'I', 'I', 'I', 'I', 'I', 'I', 'I', 'I', 'I', 'I', 'I', 'I', 'I', 'I', 'I', 'I', 'I', 'I', 'I', 'I', 'I', 'I', 'I', 'I', 'I', 'I', 'I', 'I', 'I', 'I', 'I', 'I', 'I', 'I', 'I', 'I', 'I', 'I', 'I', 'I', 'I', 'I', 'I', 'I', 'I', 'I', 'I', 'I', 'I', 'I', 'I', 'I', 'I', 'I', 'I', 'I', 'I', 'I', 'I', 'I', 'I', 'I', 'I', 'I', 'I', 'I', 'I', 'I', 'I', 'I', 'I', 'I', 'I', 'I', 'I', 'I', 'I', 'I', 'I', 'I', 'I', 'I', 'I', 'I', 'I', 'I', 'I', 'I', 'I', 'I', 'I', 'I', 'I', 'I', 'I', 'I', 'I', 'I', 'I', 'I', 'I', 'I', 'I', 'I', 'I', 'I', 'I', 'I', 'I', 'I', 'I', 'I', 'I', 'I', 'I', 'I', 'I', 'I', 'I', 'I', 'I', 'I', 'I', 'I', 'I', 'I', 'I', 'I', 'I', 'I', 'I', 'I', 'I', 'I', 'I', 'I', 'I', 'I', 'I', 'I', 'I', 'I', 'Idiom', 'Idiom', 'Iesu', 'Iesu', 'Iesu', 'Iesu', 'Iesu', 'Iesu', 'Iesu', 'Iesu', 'Iesu', 'Iesu', 'If', 'If', 'If', 'If', 'If', 'If', 'If', 'If', 'If', 'Iiiiives', 'Iiiives', 'In', 'In', 'In', 'In', 'In', 'In', 'In', 'In', 'In', 'In', 'In', 'Is', 'Is', 'Is', 'Is', 'Is', 'Isn', 'It', 'It', 'It', 'It', 'It', 'It', 'It', 'It', 'It', 'It', 'It', 'It', 'It', 'It', 'It', 'It', 'It', 'It', 'It', 'It', 'It', 'It', 'It', 'It', 'It', 'It', 'It', 'It', 'It', 'It', 'It', 'It', 'It', 'It', 'It', 'Ives', 'Jesus', 'Jesus', 'Jesus', 'Joseph', 'Joseph', 'Just', 'Just', 'Just', 'Just', 'Just', 'Just', 'Just', 'Just', 'Just', 'Just', 'Keep', 'Keep', 'King', 'King', 'King', 'King', 'King', 'King', 'King', 'King', 'King', 'King', 'King', 'King', 'King', 'King', 'King', 'King', 'King', 'King', 'King', 'King', 'King', 'King', 'King', 'King', 'King', 'King', 'King', 'Knight', 'Knight', 'Knight', 'Knight', 'Knight', 'Knight', 'Knight', 'Knight', 'Knight', 'Knight', 'Knight', 'Knights', 'Knights', 'Knights', 'Knights', 'Knights', 'Knights', 'Knights', 'Knights', 'Knights', 'Knights', 'Knights', 'Knights', 'Knights', 'Knights', 'Knights', 'Knights', 'Knights', 'Knights', 'Lady', 'Lake', 'Lancelot', 'Lancelot', 'Launcelot', 'Launcelot', 'Launcelot', 'Launcelot', 'Launcelot', 'Launcelot', 'Launcelot', 'Launcelot', 'Launcelot', 'Launcelot', 'Launcelot', 'Launcelot', 'Launcelot', 'Launcelot', 'Launcelot', 'Launcelot', 'Launcelot', 'Launcelot', 'Launcelot', 'Launcelot', 'Launcelot', 'Launcelot', 'Launcelot', 'Launcelot', 'Launcelot', 'Lead', 'Lead', 'Leaving', 'Leaving', 'Let', 'Let', 'Let', 'Let', 'Let', 'Let', 'Let', 'Let', 'Let', 'Lie', 'Like', 'Listen', 'Listen', 'Listen', 'Listen', 'Loimbard', 'Look', 'Look', 'Look', 'Look', 'Look', 'Look', 'Look', 'Look', 'Look', 'Look', 'Look', 'Look', 'Look', 'Look', 'Look', 'Look', 'Look', 'Look', 'Look', 'Look', 'Look', 'Look', 'Look', 'Look', 'Looks', 'Lord', 'Lord', 'Lord', 'Lord', 'Lord', 'Lord', 'Lord', 'Lord', 'Lord', 'Lucky', 'Make', 'Make', 'Make', 'Man', 'Man', 'Man', 'May', 'May', 'Maynard', 'Maynard', 'Maynard', 'Meanwhile', 'Mercea', 'Mercea', 'Message', 'Midget', 'Mind', 'Mine', 'Mmm', 'Monsieur', 'More', 'Morning', 'Morning', 'Most', 'Mother', 'Mud', 'Must', 'My', 'My', 'My', 'My', 'My', 'My', 'My', 'My', 'N', 'N', 'Nador', 'Nay', 'Nay', 'Neee', 'Neee', 'Never', 'Never', 'Ni', 'Ni', 'Ni', 'Ni', 'Ni', 'Ni', 'Ni', 'Ni', 'Ni', 'Ni', 'Ni', 'Ni', 'Ni', 'Ni', 'Ni', 'Ni', 'Ni', 'Ni', 'Ni', 'Ni', 'Ni', 'Ni', 'Ni', 'Ni', 'Ni', 'Ni', 'Ni', 'Ni', 'Ni', 'Ni', 'Ni', 'Ni', 'Ni', 'Ni', 'Ni', 'Ni', 'Ni', 'Ni', 'Ni', 'Ni', 'Ni', 'Ni', 'Ni', 'Ni', 'Ni', 'Ni', 'Ni', 'Nine', 'Ninepence', 'Ninepence', 'No', 'No', 'No', 'No', 'No', 'No', 'No', 'No', 'No', 'No', 'No', 'No', 'No', 'No', 'No', 'No', 'No', 'No', 'No', 'No', 'No', 'No', 'No', 'No', 'No', 'No', 'No', 'No', 'No', 'No', 'No', 'No', 'No', 'No', 'No', 'No', 'No', 'No', 'No', 'No', 'No', 'No', 'No', 'No', 'No', 'No', 'No', 'No', 'No', 'No', 'No', 'No', 'No', 'No', 'No', 'No', 'No', 'No', 'No', 'No', 'No', 'No', 'No', 'No', 'No', 'No', 'No', 'No', 'No', 'No', 'No', 'No', 'No', 'No', 'No', 'No', 'None', 'None', 'Not', 'Not', 'Not', 'Not', 'Not', 'Not', 'Not', 'Not', 'Not', 'Not', 'Not', 'Not', 'Nothing', 'Nothing', 'Now', 'Now', 'Now', 'Now', 'Now', 'Now', 'Now', 'Now', 'Now', 'Nu', 'Nu', 'Nu', 'O', 'O', 'O', 'O', 'O', 'O', 'O', 'O', 'O', 'O', 'O', 'Of', 'Of', 'Of', 'Off', 'Oh', 'Oh', 'Oh', 'Oh', 'Oh', 'Oh', 'Oh', 'Oh', 'Oh', 'Oh', 'Oh', 'Oh', 'Oh', 'Oh', 'Oh', 'Oh', 'Oh', 'Oh', 'Oh', 'Oh', 'Oh', 'Oh', 'Oh', 'Oh', 'Oh', 'Oh', 'Oh', 'Oh', 'Oh', 'Oh', 'Oh', 'Oh', 'Oh', 'Oh', 'Oh', 'Oh', 'Oh', 'Oh', 'Oh', 'Oh', 'Oh', 'Oh', 'Oh', 'Oh', 'Oh', 'Oh', 'Oh', 'Oh', 'Oh', 'Oh', 'Oh', 'Oh', 'Oh', 'Oh', 'Oh', 'Oh', 'Oh', 'Oh', 'Oh', 'Oh', 'Oh', 'Oh', 'Oh', 'Oh', 'Oh', 'Oh', 'Oh', 'Oh', 'Oh', 'Oh', 'Oh', 'Oh', 'Oh', 'Oh', 'Oh', 'Oh', 'Oh', 'Oh', 'Oh', 'Oh', 'Oh', 'Oh', 'Oh', 'Oh', 'Oh', 'Oh', 'Oh', 'Oh', 'Oh', 'Oh', 'Oh', 'Oh', 'Oh', 'Oh', 'Oh', 'Oh', 'Oh', 'Oh', 'Oh', 'Oh', 'Oh', 'Oh', 'Oh', 'Oh', 'Oh', 'Oh', 'Oh', 'Oh', 'Oh', 'Oh', 'Ohh', 'Ohh', 'Ohh', 'Ohh', 'Ohh', 'Ohh', 'Ohh', 'Ohh', 'Ohh', 'Ohh', 'Old', 'Old', 'Old', 'Olfin', 'On', 'On', 'Once', 'One', 'One', 'One', 'One', 'One', 'Ooh', 'Ooh', 'Ooh', 'Ooh', 'Ooh', 'Oooh', 'Oooh', 'Oooh', 'Oooh', 'Oooh', 'Oooh', 'Oooh', 'Oooo', 'Oooohoohohooo', 'Oooooooh', 'Open', 'Open', 'Or', 'Order', 'Other', 'Oui', 'Our', 'Our', 'Our', 'Over', 'Over', 'Ow', 'Ow', 'Ow', 'Ow', 'Ow', 'Packing', 'Patsy', 'Patsy', 'Patsy', 'Patsy', 'Pendragon', 'Peng', 'Perhaps', 'Perhaps', 'Peril', 'Peril', 'Picture', 'Pie', 'Pie', 'Pie', 'Pie', 'Pie', 'Pie', 'Pie', 'Pie', 'Pie', 'Pie', 'Piglet', 'Pin', 'Please', 'Please', 'Please', 'Please', 'Please', 'Please', 'Please', 'Please', 'Please', 'Please', 'Practice', 'Prepare', 'Prince', 'Prince', 'Prince', 'Prince', 'Princess', 'Princess', 'Providence', 'Psalms', 'Pull', 'Pull', 'Pure', 'Put', 'Put', 'Quick', 'Quick', 'Quick', 'Quick', 'Quickly', 'Quiet', 'Quiet', 'Quiet', 'Quiet', 'Quite', 'Quite', 'Quoi', 'Quoi', 'Rather', 'Really', 'Recently', 'Remove', 'Rheged', 'Ridden', 'Right', 'Right', 'Right', 'Right', 'Right', 'Right', 'Right', 'Right', 'Right', 'Right', 'Right', 'Right', 'Right', 'Right', 'Right', 'Right', 'Right', 'Right', 'Right', 'Right', 'Right', 'Right', 'Right', 'Right', 'Right', 'Right', 'Right', 'Riiight', 'Robin', 'Robin', 'Robin', 'Robin', 'Robin', 'Robin', 'Robin', 'Robin', 'Robin', 'Robin', 'Robin', 'Robin', 'Robin', 'Robin', 'Robin', 'Robin', 'Robin', 'Robin', 'Robin', 'Robinson', 'Roger', 'Round', 'Round', 'Round', 'Round', 'Round', 'Round', 'Round', 'Round', 'Run', 'Run', 'Run', 'Run', 'Run', 'Run', 'Run', 'Run', 'Run', 'Run', 'Run', 'Run', 'Run', 'Run', 'Run', 'Run', 'Run', 'Run', 'Run', 'Run', 'Run', 'Running', 'S', 'S', 'S', 'S', 'Said', 'Saint', 'Saint', 'Saint', 'Saint', 'Saxons', 'Say', 'Say', 'Say', 'Say', 'Say', 'Say', 'Schools', 'See', 'See', 'Seek', 'Shall', 'Shall', 'She', 'She', 'She', 'She', 'She', 'She', 'She', 'Shh', 'Shh', 'Shh', 'Shh', 'Shh', 'Shh', 'Shh', 'Shh', 'Shh', 'Shh', 'Shh', 'Shh', 'Shh', 'Shh', 'Shh', 'Shrubber', 'Shrubberies', 'Shut', 'Shut', 'Shut', 'Shut', 'Shut', 'Shut', 'Shut', 'Shut', 'Shut', 'Shut', 'Shut', 'Shut', 'Silence', 'Silly', 'Since', 'Sir', 'Sir', 'Sir', 'Sir', 'Sir', 'Sir', 'Sir', 'Sir', 'Sir', 'Sir', 'Sir', 'Sir', 'Sir', 'Sir', 'Sir', 'Sir', 'Sir', 'Sir', 'Sir', 'Sir', 'Sir', 'Sir', 'Sir', 'Sir', 'Sir', 'Sir', 'Sir', 'Sir', 'Sir', 'Sir', 'Sir', 'Sir', 'Sir', 'Sir', 'Sir', 'Sir', 'Sir', 'Sir', 'Sir', 'Sir', 'Sir', 'Sir', 'Sir', 'Sir', 'Sir', 'Sir', 'Sir', 'Sir', 'Sir', 'Sir', 'Sir', 'Sir', 'Skip', 'So', 'So', 'So', 'So', 'So', 'So', 'So', 'So', 'So', 'So', 'So', 'So', 'So', 'So', 'Sorry', 'Sorry', 'Sorry', 'Sorry', 'Sorry', 'Sorry', 'Sorry', 'Speak', 'Splendid', 'Spring', 'Spring', 'Spring', 'Stand', 'Stay', 'Steady', 'Stop', 'Stop', 'Stop', 'Stop', 'Stop', 'Stop', 'Stop', 'Stop', 'Stop', 'Stop', 'Stop', 'Stop', 'Stop', 'Stop', 'Stop', 'Stop', 'Summer', 'Summer', 'Summer', 'Supposing', 'Supreme', 'Surely', 'Swamp', 'Table', 'Table', 'Table', 'Table', 'Table', 'Table', 'Table', 'Table', 'Tale', 'Tale', 'Tale', 'Tall', 'Tall', 'Tell', 'Tell', 'Tell', 'Thank', 'Thank', 'Thank', 'Thank', 'Thank', 'Thank', 'Thank', 'Thank', 'Thank', 'That', 'That', 'That', 'That', 'That', 'That', 'That', 'That', 'That', 'That', 'That', 'That', 'That', 'That', 'That', 'That', 'That', 'That', 'That', 'That', 'That', 'That', 'The', 'The', 'The', 'The', 'The', 'The', 'The', 'The', 'The', 'The', 'The', 'The', 'The', 'The', 'The', 'The', 'The', 'The', 'The', 'The', 'The', 'The', 'The', 'The', 'The', 'The', 'The', 'The', 'The', 'The', 'The', 'The', 'Thee', 'Thee', 'Then', 'Then', 'Then', 'Then', 'Then', 'Then', 'Then', 'Then', 'There', 'There', 'There', 'There', 'There', 'There', 'There', 'There', 'There', 'There', 'There', 'There', 'There', 'There', 'There', 'Therefore', 'They', 'They', 'They', 'They', 'They', 'They', 'They', 'They', 'This', 'This', 'This', 'This', 'This', 'This', 'This', 'This', 'Those', 'Thou', 'Thpppppt', 'Thppppt', 'Thpppt', 'Thppt', 'Thppt', 'Three', 'Three', 'Three', 'Three', 'Three', 'Three', 'Three', 'Three', 'Three', 'Three', 'Three', 'Three', 'Throw', 'Throw', 'Thsss', 'Thsss', 'Thursday', 'Thursday', 'Thy', 'Til', 'Tim', 'Tim', 'Tim', 'Tim', 'Tis', 'Tis', 'To', 'To', 'To', 'To', 'To', 'To', 'To', 'Today', 'Together', 'Too', 'Torment', 'Tower', 'Tower', 'True', 'Try', 'Twenty', 'Two', 'U', 'Uh', 'Uh', 'Uh', 'Uh', 'Uh', 'Uh', 'Uh', 'Uh', 'Uh', 'Uh', 'Uh', 'Uh', 'Uh', 'Uh', 'Uh', 'Uh', 'Uhh', 'Uhh', 'Ulk', 'Um', 'Um', 'Um', 'Um', 'Um', 'Um', 'Umhm', 'Umm', 'Un', 'Unfortunately', 'Until', 'Until', 'Until', 'Until', 'Use', 'Uther', 'Uugh', 'Uuh', 'Uuh', 'Very', 'Very', 'Victory', 'W', 'W', 'Waa', 'Wait', 'Wait', 'Walk', 'Wayy', 'Wayy', 'Wayy', 'We', 'We', 'We', 'We', 'We', 'We', 'We', 'We', 'We', 'We', 'We', 'We', 'We', 'We', 'We', 'We', 'We', 'We', 'We', 'We', 'We', 'We', 'We', 'We', 'We', 'We', 'We', 'We', 'We', 'We', 'We', 'We', 'We', 'We', 'We', 'We', 'We', 'We', 'We', 'We', 'We', 'We', 'We', 'We', 'We', 'We', 'We', 'We', 'We', 'We', 'We', 'We', 'We', 'We', 'We', 'We', 'We', 'We', 'We', 'We', 'Welcome', 'Welcome', 'Well', 'Well', 'Well', 'Well', 'Well', 'Well', 'Well', 'Well', 'Well', 'Well', 'Well', 'Well', 'Well', 'Well', 'Well', 'Well', 'Well', 'Well', 'Well', 'Well', 'Well', 'Well', 'Well', 'Well', 'Well', 'Well', 'Well', 'Well', 'Well', 'Well', 'Well', 'Well', 'Well', 'Well', 'Well', 'Well', 'Well', 'Well', 'Well', 'Well', 'Well', 'Well', 'Well', 'Well', 'Well', 'Well', 'Well', 'Well', 'Well', 'Well', 'Well', 'Well', 'Well', 'Well', 'What', 'What', 'What', 'What', 'What', 'What', 'What', 'What', 'What', 'What', 'What', 'What', 'What', 'What', 'What', 'What', 'What', 'What', 'What', 'What', 'What', 'What', 'What', 'What', 'What', 'What', 'What', 'What', 'What', 'What', 'What', 'What', 'What', 'What', 'What', 'What', 'What', 'What', 'What', 'What', 'What', 'What', 'What', 'What', 'What', 'What', 'What', 'What', 'What', 'What', 'What', 'What', 'What', 'What', 'What', 'What', 'What', 'What', 'What', 'What', 'What', 'What', 'What', 'What', 'What', 'When', 'When', 'Where', 'Where', 'Where', 'Where', 'Where', 'Where', 'Where', 'Where', 'Which', 'Who', 'Who', 'Who', 'Who', 'Who', 'Who', 'Who', 'Who', 'Who', 'Who', 'Who', 'Who', 'Who', 'Who', 'Who', 'Who', 'Who', 'Who', 'Who', 'Who', 'Who', 'Who', 'Who', 'Who', 'Who', 'Whoa', 'Why', 'Why', 'Why', 'Why', 'Will', 'Will', 'Will', 'Winston', 'Winter', 'Winter', 'Winter', 'With', 'With', 'Woa', 'Wood', 'Would', 'Would', 'Y', 'Yapping', 'Yay', 'Yay', 'Yay', 'Yeaaah', 'Yeaah', 'Yeah', 'Yeah', 'Yeah', 'Yeah', 'Yeah', 'Yeah', 'Yeah', 'Yeah', 'Yes', 'Yes', 'Yes', 'Yes', 'Yes', 'Yes', 'Yes', 'Yes', 'Yes', 'Yes', 'Yes', 'Yes', 'Yes', 'Yes', 'Yes', 'Yes', 'Yes', 'Yes', 'Yes', 'Yes', 'Yes', 'Yes', 'Yes', 'Yes', 'Yes', 'Yes', 'Yes', 'Yes', 'Yes', 'Yes', 'Yes', 'Yes', 'Yes', 'Yes', 'Yes', 'Yes', 'Yes', 'Yes', 'Yes', 'Yes', 'Yes', 'Yes', 'You', 'You', 'You', 'You', 'You', 'You', 'You', 'You', 'You', 'You', 'You', 'You', 'You', 'You', 'You', 'You', 'You', 'You', 'You', 'You', 'You', 'You', 'You', 'You', 'You', 'You', 'You', 'You', 'You', 'You', 'You', 'You', 'You', 'You', 'You', 'You', 'You', 'You', 'You', 'You', 'You', 'You', 'You', 'You', 'You', 'You', 'You', 'You', 'You', 'You', 'You', 'You', 'You', 'You', 'You', 'You', 'You', 'You', 'You', 'You', 'You', 'Your', 'Yup', 'Yup', 'Yup', 'ZOOT', 'ZOOT', 'ZOOT', 'ZOOT', 'ZOOT', 'ZOOT', 'ZOOT', 'ZOOT', 'ZOOT', 'ZOOT', 'ZOOT', 'ZOOT', 'ZOOT', 'ZOOT', 'Zoot', 'Zoot', 'Zoot', 'Zoot', 'Zoot', 'Zoot', 'Zoot', 'Zoot', 'Zoot', 'amazes', 'apologise', 'aptly', 'empty', 'empty', 'excepting', 'frozen', 'noise', 'ptoo', 'surprise', 'surprise', 'surprise', 'surprise', 'temptation', 'temptress', 'wise', 'wise', 'zhiv', 'zone', 'zoo', 'zoop', 'zoosh']\n"
     ]
    }
   ],
   "source": [
    "print(sorted(new_list))"
   ]
  },
  {
   "cell_type": "markdown",
   "metadata": {},
   "source": [
    "## Excercise 25"
   ]
  },
  {
   "cell_type": "code",
   "execution_count": 55,
   "metadata": {},
   "outputs": [
    {
     "name": "stdout",
     "output_type": "stream",
     "text": [
      "['she', 'shells', 'shore']\n"
     ]
    }
   ],
   "source": [
    "li = ['she', 'sells', 'sea', 'shells', 'by','the', 'sea', 'shore']\n",
    "print([w for w in li if w.startswith('sh')])"
   ]
  },
  {
   "cell_type": "code",
   "execution_count": 56,
   "metadata": {},
   "outputs": [
    {
     "name": "stdout",
     "output_type": "stream",
     "text": [
      "['sells', 'shells', 'shore']\n"
     ]
    }
   ],
   "source": [
    "print([w for w in li if len(w)>4])"
   ]
  },
  {
   "cell_type": "markdown",
   "metadata": {},
   "source": [
    "## Excercise 26"
   ]
  },
  {
   "cell_type": "code",
   "execution_count": 57,
   "metadata": {},
   "outputs": [
    {
     "name": "stdout",
     "output_type": "stream",
     "text": [
      "total number of characters 999044\n"
     ]
    }
   ],
   "source": [
    "print('total number of characters',sum([len(w) for w in text1]))"
   ]
  },
  {
   "cell_type": "code",
   "execution_count": 58,
   "metadata": {},
   "outputs": [
    {
     "name": "stdout",
     "output_type": "stream",
     "text": [
      "Average word length 3.830411128023649\n"
     ]
    }
   ],
   "source": [
    "print('Average word length',sum([len(w) for w in text1])/len(text1))"
   ]
  },
  {
   "cell_type": "markdown",
   "metadata": {},
   "source": [
    "## Excercise 27"
   ]
  },
  {
   "cell_type": "code",
   "execution_count": 59,
   "metadata": {},
   "outputs": [
    {
     "data": {
      "text/plain": [
       "215998"
      ]
     },
     "execution_count": 59,
     "metadata": {},
     "output_type": "execute_result"
    }
   ],
   "source": [
    "def vocab_size(text):\n",
    "    size = [w for w in text if w.isalpha() and w.lower() not in (\"d\", \"ll\", \"m\", \"re\", \"s\", \"t\", \"ve\")]\n",
    "    return len(size)\n",
    "vocab_size(text1)"
   ]
  },
  {
   "cell_type": "markdown",
   "metadata": {},
   "source": [
    "## Excercise 28"
   ]
  },
  {
   "cell_type": "code",
   "execution_count": 60,
   "metadata": {},
   "outputs": [
    {
     "name": "stdout",
     "output_type": "stream",
     "text": [
      "0.5675978481282234\n"
     ]
    }
   ],
   "source": [
    "def percent(word,text):\n",
    "    words_occurance = len([w for w in text if w.lower()==word.lower()])\n",
    "    x=words_occurance/vocab_size(text)\n",
    "    return x*100\n",
    "\n",
    "print(percent('WHALE',text1))"
   ]
  },
  {
   "cell_type": "markdown",
   "metadata": {},
   "source": [
    "## Excercise 29"
   ]
  },
  {
   "cell_type": "code",
   "execution_count": 61,
   "metadata": {},
   "outputs": [
    {
     "data": {
      "text/plain": [
       "True"
      ]
     },
     "execution_count": 61,
     "metadata": {},
     "output_type": "execute_result"
    }
   ],
   "source": [
    "set(sent3) < set(text1)"
   ]
  },
  {
   "cell_type": "code",
   "execution_count": 62,
   "metadata": {},
   "outputs": [
    {
     "data": {
      "text/plain": [
       "True"
      ]
     },
     "execution_count": 62,
     "metadata": {},
     "output_type": "execute_result"
    }
   ],
   "source": [
    "set(sent1) < set(text1)"
   ]
  },
  {
   "cell_type": "code",
   "execution_count": 63,
   "metadata": {},
   "outputs": [
    {
     "data": {
      "text/plain": [
       "False"
      ]
     },
     "execution_count": 63,
     "metadata": {},
     "output_type": "execute_result"
    }
   ],
   "source": [
    "set(sent3) < set(text5)"
   ]
  },
  {
   "cell_type": "code",
   "execution_count": 64,
   "metadata": {},
   "outputs": [],
   "source": [
    "z1=['I','love','traveling','and','meeting','new','people']\n",
    "z2=['I','love','UAE']\n",
    "z3=['I','love','meeting','new','people']"
   ]
  },
  {
   "cell_type": "code",
   "execution_count": 65,
   "metadata": {},
   "outputs": [
    {
     "data": {
      "text/plain": [
       "False"
      ]
     },
     "execution_count": 65,
     "metadata": {},
     "output_type": "execute_result"
    }
   ],
   "source": [
    "set(z1)<set(z2)\n",
    "# z1 is not a part of z2"
   ]
  },
  {
   "cell_type": "code",
   "execution_count": 66,
   "metadata": {},
   "outputs": [
    {
     "data": {
      "text/plain": [
       "True"
      ]
     },
     "execution_count": 66,
     "metadata": {},
     "output_type": "execute_result"
    }
   ],
   "source": [
    "set(z3)<set(z1)\n",
    "# z3 is a part of z1"
   ]
  },
  {
   "cell_type": "markdown",
   "metadata": {},
   "source": [
    "#### The expression evaluates whether the set on the left is a subset of the set of the right."
   ]
  },
  {
   "cell_type": "code",
   "execution_count": 67,
   "metadata": {},
   "outputs": [
    {
     "data": {
      "text/plain": [
       "False"
      ]
     },
     "execution_count": 67,
     "metadata": {},
     "output_type": "execute_result"
    }
   ],
   "source": [
    "set(z1)<set(z3)\n",
    "# z1 is not a part of z3"
   ]
  },
  {
   "cell_type": "markdown",
   "metadata": {},
   "source": [
    "# Done by Mohammad H. Zahrawi"
   ]
  },
  {
   "cell_type": "markdown",
   "metadata": {},
   "source": [
    "# eng.moh.zahrawi@gmail.com"
   ]
  },
  {
   "cell_type": "code",
   "execution_count": null,
   "metadata": {},
   "outputs": [],
   "source": []
  }
 ],
 "metadata": {
  "kernelspec": {
   "display_name": "Python 3",
   "language": "python",
   "name": "python3"
  },
  "language_info": {
   "codemirror_mode": {
    "name": "ipython",
    "version": 3
   },
   "file_extension": ".py",
   "mimetype": "text/x-python",
   "name": "python",
   "nbconvert_exporter": "python",
   "pygments_lexer": "ipython3",
   "version": "3.7.6"
  }
 },
 "nbformat": 4,
 "nbformat_minor": 4
}
