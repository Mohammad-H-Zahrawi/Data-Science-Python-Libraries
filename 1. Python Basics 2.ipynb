{
  "cells": [
    {
      "metadata": {
        "collapsed": true
      },
      "cell_type": "markdown",
      "source": "# datetime"
    },
    {
      "metadata": {
        "trusted": true
      },
      "cell_type": "code",
      "source": "import datetime\nprint(datetime.MAXYEAR)\nprint(datetime.date(1996,12,19))\nbirthday=datetime.datetime(1996,12,19,23,55,59,97)\nprint(birthday)",
      "execution_count": 6,
      "outputs": [
        {
          "output_type": "stream",
          "text": "9999\n1996-12-19\n1996-12-19 23:55:59.000097\n",
          "name": "stdout"
        }
      ]
    },
    {
      "metadata": {
        "trusted": true
      },
      "cell_type": "code",
      "source": "#print time now\nfrom datetime import  timedelta  \np=(datetime.now())\nprint(p)",
      "execution_count": 15,
      "outputs": [
        {
          "output_type": "stream",
          "text": "2020-05-23 03:25:04.950858\n",
          "name": "stdout"
        }
      ]
    },
    {
      "metadata": {
        "trusted": true
      },
      "cell_type": "code",
      "source": "import datetime\nfrom datetime import timedelta\ndelta1 = timedelta(minutes=10,days=1,weeks=1)\ndelta2 = timedelta(seconds=200,days = 5)\nresult=delta1-delta2\nprint(result.total_seconds())",
      "execution_count": 16,
      "outputs": [
        {
          "output_type": "stream",
          "text": "259600.0\n",
          "name": "stdout"
        }
      ]
    },
    {
      "metadata": {
        "trusted": true
      },
      "cell_type": "code",
      "source": "print(datetime.date(1996,12,19))\nprint(datetime.time(12,40,57))",
      "execution_count": 17,
      "outputs": [
        {
          "output_type": "stream",
          "text": "1996-12-19\n12:40:57\n",
          "name": "stdout"
        }
      ]
    },
    {
      "metadata": {
        "trusted": true
      },
      "cell_type": "markdown",
      "source": "# Except Try"
    },
    {
      "metadata": {
        "trusted": true
      },
      "cell_type": "code",
      "source": "a = int(input())\nb = int (input())\n\ntry:\n    print(a/b)\nexcept ZeroDivisionError as zero:\n    print('error',zero)",
      "execution_count": 1,
      "outputs": [
        {
          "output_type": "stream",
          "name": "stdout",
          "text": "10\n2\n5.0\n"
        }
      ]
    },
    {
      "metadata": {
        "trusted": true
      },
      "cell_type": "code",
      "source": "for i in range(int(input())):\n    x,y=list(input().split())    \n    try:\n        print(int(int(x)/int(y)))\n    except ZeroDivisionError as zero:\n        print('Error Code: integer division or modulo by zero')\n    except ValueError as val:\n        print('Error Code:',val)",
      "execution_count": null,
      "outputs": [
        {
          "output_type": "stream",
          "name": "stdout",
          "text": "5\n1 0\nError Code: integer division or modulo by zero\n"
        }
      ]
    },
    {
      "metadata": {
        "trusted": true
      },
      "cell_type": "markdown",
      "source": "# Input Evaluation"
    },
    {
      "metadata": {
        "trusted": true
      },
      "cell_type": "code",
      "source": "x  , k = list(map(int,input().split()))\npoly = input()\nprint(eval(poly)==k)",
      "execution_count": 1,
      "outputs": [
        {
          "output_type": "stream",
          "name": "stdout",
          "text": "1 4\n4*x+1\nFalse\n"
        }
      ]
    },
    {
      "metadata": {
        "trusted": true
      },
      "cell_type": "code",
      "source": "print(eval('1+9'))",
      "execution_count": 2,
      "outputs": [
        {
          "output_type": "stream",
          "text": "10\n",
          "name": "stdout"
        }
      ]
    },
    {
      "metadata": {
        "trusted": true
      },
      "cell_type": "markdown",
      "source": "# zip function"
    },
    {
      "metadata": {
        "trusted": true
      },
      "cell_type": "code",
      "source": "print(list(zip([1,2,3],['a','b','c'])))",
      "execution_count": 1,
      "outputs": [
        {
          "output_type": "stream",
          "text": "[(1, 'a'), (2, 'b'), (3, 'c')]\n",
          "name": "stdout"
        }
      ]
    },
    {
      "metadata": {
        "trusted": true
      },
      "cell_type": "code",
      "source": "print(list(zip([1,2,3],'zah','kkk')))",
      "execution_count": 2,
      "outputs": [
        {
          "output_type": "stream",
          "text": "[(1, 'z', 'k'), (2, 'a', 'k'), (3, 'h', 'k')]\n",
          "name": "stdout"
        }
      ]
    },
    {
      "metadata": {
        "trusted": true
      },
      "cell_type": "markdown",
      "source": "# Map Fucnction  & Lambda & filters"
    },
    {
      "metadata": {
        "trusted": true
      },
      "cell_type": "code",
      "source": "our_list=['Mohammad','Zahrawi','has a nice car']\nlength =list(map(len,our_list))\nprint(length)",
      "execution_count": 1,
      "outputs": [
        {
          "output_type": "stream",
          "text": "[8, 7, 14]\n",
          "name": "stdout"
        }
      ]
    },
    {
      "metadata": {
        "trusted": true
      },
      "cell_type": "code",
      "source": "our_list=[1,2,3,4,5,6]\nlength =list(map(lambda i : i*i,our_list))\nprint(length)",
      "execution_count": 2,
      "outputs": [
        {
          "output_type": "stream",
          "text": "[1, 4, 9, 16, 25, 36]\n",
          "name": "stdout"
        }
      ]
    },
    {
      "metadata": {
        "trusted": true
      },
      "cell_type": "code",
      "source": "summ = lambda a, b, c: a + b + c\nprint(summ(1,2,3))",
      "execution_count": 4,
      "outputs": [
        {
          "output_type": "stream",
          "text": "6\n",
          "name": "stdout"
        }
      ]
    },
    {
      "metadata": {
        "trusted": true
      },
      "cell_type": "code",
      "source": "l = [10 , 20 , 30 , 40 , 50 , 60 , 70 , 80 , 90]\nl = list(filter(lambda x: x > 10 and x < 80, l))\nprint(l)",
      "execution_count": 4,
      "outputs": [
        {
          "output_type": "stream",
          "text": "[20, 30, 40, 50, 60, 70]\n",
          "name": "stdout"
        }
      ]
    },
    {
      "metadata": {},
      "cell_type": "markdown",
      "source": "# reduce function"
    },
    {
      "metadata": {
        "trusted": true
      },
      "cell_type": "code",
      "source": "import functools\nfun = lambda x,y : x+y\nr = functools.reduce(fun,[1,2,3,4,5,6])\nprint(r)",
      "execution_count": 8,
      "outputs": [
        {
          "output_type": "stream",
          "text": "21\n",
          "name": "stdout"
        }
      ]
    },
    {
      "metadata": {
        "trusted": true
      },
      "cell_type": "code",
      "source": "import functools\nr = functools.reduce(lambda x,y:x*y,[1,2,3,4,5,6])\nprint(r)",
      "execution_count": 9,
      "outputs": [
        {
          "output_type": "stream",
          "text": "720\n",
          "name": "stdout"
        }
      ]
    },
    {
      "metadata": {
        "trusted": true
      },
      "cell_type": "code",
      "source": "import functools\nfun = lambda x,y : x+y\nr = functools.reduce(fun,[1,2,3,4,5,6],-10)\nprint(r)",
      "execution_count": 11,
      "outputs": [
        {
          "output_type": "stream",
          "text": "11\n",
          "name": "stdout"
        }
      ]
    },
    {
      "metadata": {
        "trusted": true
      },
      "cell_type": "code",
      "source": "import functools\nfrom fractions import gcd\n#gcd : greatest common denominator\nr = functools.reduce(gcd,[40,5,60])\nprint(r)",
      "execution_count": 14,
      "outputs": [
        {
          "output_type": "stream",
          "text": "5\n",
          "name": "stdout"
        },
        {
          "output_type": "stream",
          "text": "/home/nbuser/anaconda3_501/lib/python3.6/site-packages/ipykernel/__main__.py:4: DeprecationWarning: fractions.gcd() is deprecated. Use math.gcd() instead.\n",
          "name": "stderr"
        }
      ]
    },
    {
      "metadata": {
        "trusted": true
      },
      "cell_type": "code",
      "source": "from functools import reduce\nfrom fractions import Fraction\n\nn = int(input())\nfrac = []\nfor i in range(n):\n    a,b = input().split()\n    a=int(a)\n    b=int(b)\n    frac.append(Fraction(a,b))\n    \nprint(reduce(lambda x,y:x*y , frac))\n",
      "execution_count": 1,
      "outputs": [
        {
          "output_type": "stream",
          "name": "stdout",
          "text": "2\n1 5\n100 1\n20\n"
        }
      ]
    },
    {
      "metadata": {
        "trusted": true
      },
      "cell_type": "code",
      "source": "",
      "execution_count": null,
      "outputs": []
    }
  ],
  "metadata": {
    "kernelspec": {
      "name": "python36",
      "display_name": "Python 3.6",
      "language": "python"
    },
    "language_info": {
      "mimetype": "text/x-python",
      "nbconvert_exporter": "python",
      "name": "python",
      "pygments_lexer": "ipython3",
      "version": "3.6.6",
      "file_extension": ".py",
      "codemirror_mode": {
        "version": 3,
        "name": "ipython"
      }
    }
  },
  "nbformat": 4,
  "nbformat_minor": 2
}