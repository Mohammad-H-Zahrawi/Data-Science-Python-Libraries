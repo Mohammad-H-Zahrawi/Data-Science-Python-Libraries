{
 "cells": [
  {
   "cell_type": "code",
   "execution_count": 1,
   "metadata": {},
   "outputs": [],
   "source": [
    "import numpy as np\n",
    "import pandas as pd\n",
    "import matplotlib.pyplot as plt"
   ]
  },
  {
   "cell_type": "code",
   "execution_count": 2,
   "metadata": {},
   "outputs": [],
   "source": [
    "import nltk"
   ]
  },
  {
   "cell_type": "code",
   "execution_count": 3,
   "metadata": {},
   "outputs": [
    {
     "name": "stdout",
     "output_type": "stream",
     "text": [
      "I am ready\n"
     ]
    }
   ],
   "source": [
    "print('I am ready')"
   ]
  },
  {
   "cell_type": "code",
   "execution_count": 4,
   "metadata": {},
   "outputs": [],
   "source": [
    "# nltk.download()"
   ]
  },
  {
   "cell_type": "code",
   "execution_count": 5,
   "metadata": {},
   "outputs": [
    {
     "name": "stdout",
     "output_type": "stream",
     "text": [
      "*** Introductory Examples for the NLTK Book ***\n",
      "Loading text1, ..., text9 and sent1, ..., sent9\n",
      "Type the name of the text or sentence to view it.\n",
      "Type: 'texts()' or 'sents()' to list the materials.\n",
      "text1: Moby Dick by Herman Melville 1851\n",
      "text2: Sense and Sensibility by Jane Austen 1811\n",
      "text3: The Book of Genesis\n",
      "text4: Inaugural Address Corpus\n",
      "text5: Chat Corpus\n",
      "text6: Monty Python and the Holy Grail\n",
      "text7: Wall Street Journal\n",
      "text8: Personals Corpus\n",
      "text9: The Man Who Was Thursday by G . K . Chesterton 1908\n"
     ]
    }
   ],
   "source": [
    "from nltk.book import *"
   ]
  },
  {
   "cell_type": "code",
   "execution_count": 6,
   "metadata": {},
   "outputs": [
    {
     "data": {
      "text/plain": [
       "<Text: Moby Dick by Herman Melville 1851>"
      ]
     },
     "execution_count": 6,
     "metadata": {},
     "output_type": "execute_result"
    }
   ],
   "source": [
    "text1"
   ]
  },
  {
   "cell_type": "code",
   "execution_count": 7,
   "metadata": {},
   "outputs": [
    {
     "data": {
      "text/plain": [
       "['Fellow',\n",
       " '-',\n",
       " 'Citizens',\n",
       " 'of',\n",
       " 'the',\n",
       " 'Senate',\n",
       " 'and',\n",
       " 'of',\n",
       " 'the',\n",
       " 'House',\n",
       " 'of',\n",
       " 'Representatives',\n",
       " ':']"
      ]
     },
     "execution_count": 7,
     "metadata": {},
     "output_type": "execute_result"
    }
   ],
   "source": [
    "sent4"
   ]
  },
  {
   "cell_type": "code",
   "execution_count": 8,
   "metadata": {},
   "outputs": [
    {
     "name": "stdout",
     "output_type": "stream",
     "text": [
      "<Text: Moby Dick by Herman Melville 1851>\n"
     ]
    }
   ],
   "source": [
    "print(text1)"
   ]
  },
  {
   "cell_type": "markdown",
   "metadata": {},
   "source": [
    "### search inside text"
   ]
  },
  {
   "cell_type": "code",
   "execution_count": 9,
   "metadata": {},
   "outputs": [
    {
     "name": "stdout",
     "output_type": "stream",
     "text": [
      "Displaying 11 of 11 matches:\n",
      "ong the former , one was of a most monstrous size . ... This came towards us , \n",
      "ON OF THE PSALMS . \" Touching that monstrous bulk of the whale or ork we have r\n",
      "ll over with a heathenish array of monstrous clubs and spears . Some were thick\n",
      "d as you gazed , and wondered what monstrous cannibal and savage could ever hav\n",
      "that has survived the flood ; most monstrous and most mountainous ! That Himmal\n",
      "they might scout at Moby Dick as a monstrous fable , or still worse and more de\n",
      "th of Radney .'\" CHAPTER 55 Of the Monstrous Pictures of Whales . I shall ere l\n",
      "ing Scenes . In connexion with the monstrous pictures of whales , I am strongly\n",
      "ere to enter upon those still more monstrous stories of them which are to be fo\n",
      "ght have been rummaged out of this monstrous cabinet there is no telling . But \n",
      "of Whale - Bones ; for Whales of a monstrous size are oftentimes cast up dead u\n"
     ]
    }
   ],
   "source": [
    "text1.concordance('monstrous')"
   ]
  },
  {
   "cell_type": "code",
   "execution_count": 10,
   "metadata": {},
   "outputs": [
    {
     "name": "stdout",
     "output_type": "stream",
     "text": [
      "Displaying 25 of 38 matches:\n",
      "ay when they were created . And Adam lived an hundred and thirty years , and be\n",
      "ughters : And all the days that Adam lived were nine hundred and thirty yea and\n",
      "nd thirty yea and he died . And Seth lived an hundred and five years , and bega\n",
      "ve years , and begat Enos : And Seth lived after he begat Enos eight hundred an\n",
      "welve years : and he died . And Enos lived ninety years , and begat Cainan : An\n",
      " years , and begat Cainan : And Enos lived after he begat Cainan eight hundred \n",
      "ive years : and he died . And Cainan lived seventy years and begat Mahalaleel :\n",
      "rs and begat Mahalaleel : And Cainan lived after he begat Mahalaleel eight hund\n",
      "years : and he died . And Mahalaleel lived sixty and five years , and begat Jar\n",
      "s , and begat Jared : And Mahalaleel lived after he begat Jared eight hundred a\n",
      "and five yea and he died . And Jared lived an hundred sixty and two years , and\n",
      "o years , and he begat Eno And Jared lived after he begat Enoch eight hundred y\n",
      " and two yea and he died . And Enoch lived sixty and five years , and begat Met\n",
      " ; for God took him . And Methuselah lived an hundred eighty and seven years , \n",
      " , and begat Lamech . And Methuselah lived after he begat Lamech seven hundred \n",
      "nd nine yea and he died . And Lamech lived an hundred eighty and two years , an\n",
      "ch the LORD hath cursed . And Lamech lived after he begat Noah five hundred nin\n",
      "naan shall be his servant . And Noah lived after the flood three hundred and fi\n",
      "xad two years after the flo And Shem lived after he begat Arphaxad five hundred\n",
      "at sons and daughters . And Arphaxad lived five and thirty years , and begat Sa\n",
      "ars , and begat Salah : And Arphaxad lived after he begat Salah four hundred an\n",
      "begat sons and daughters . And Salah lived thirty years , and begat Eber : And \n",
      "y years , and begat Eber : And Salah lived after he begat Eber four hundred and\n",
      " begat sons and daughters . And Eber lived four and thirty years , and begat Pe\n",
      "y years , and begat Peleg : And Eber lived after he begat Peleg four hundred an\n"
     ]
    }
   ],
   "source": [
    "text3.concordance('lived')"
   ]
  },
  {
   "cell_type": "code",
   "execution_count": 11,
   "metadata": {},
   "outputs": [
    {
     "name": "stdout",
     "output_type": "stream",
     "text": [
      "very so exceedingly heartily a as good great extremely remarkably\n",
      "sweet vast amazingly\n"
     ]
    }
   ],
   "source": [
    "text2.similar(\"monstrous\")"
   ]
  },
  {
   "cell_type": "code",
   "execution_count": 12,
   "metadata": {},
   "outputs": [
    {
     "name": "stdout",
     "output_type": "stream",
     "text": [
      "living day circumstance sister house danger thing resemblance place\n",
      "room letter change meeting note man loss days interest heart former\n"
     ]
    }
   ],
   "source": [
    "text2.similar(\"book\")"
   ]
  },
  {
   "cell_type": "code",
   "execution_count": 13,
   "metadata": {},
   "outputs": [
    {
     "name": "stdout",
     "output_type": "stream",
     "text": [
      "am_glad a_pretty a_lucky is_pretty be_glad\n"
     ]
    }
   ],
   "source": [
    "text2.common_contexts([\"monstrous\", \"very\"])"
   ]
  },
  {
   "cell_type": "markdown",
   "metadata": {},
   "source": [
    "### dispersion plit"
   ]
  },
  {
   "cell_type": "code",
   "execution_count": 14,
   "metadata": {},
   "outputs": [
    {
     "data": {
      "image/png": "[encoded data removed]",
      "text/plain": [
       "<Figure size 432x288 with 1 Axes>"
      ]
     },
     "metadata": {
      "needs_background": "light"
     },
     "output_type": "display_data"
    }
   ],
   "source": [
    "text4.dispersion_plot(['citizens','democracy','freedom'])"
   ]
  },
  {
   "cell_type": "code",
   "execution_count": 15,
   "metadata": {},
   "outputs": [
    {
     "data": {
      "image/png": "[encoded data removed]",
      "text/plain": [
       "<Figure size 432x288 with 1 Axes>"
      ]
     },
     "metadata": {
      "needs_background": "light"
     },
     "output_type": "display_data"
    }
   ],
   "source": [
    "text4.dispersion_plot(['liberty','constitution','system'])"
   ]
  },
  {
   "cell_type": "code",
   "execution_count": 16,
   "metadata": {},
   "outputs": [
    {
     "name": "stderr",
     "output_type": "stream",
     "text": [
      "Building ngram index...\n"
     ]
    },
    {
     "name": "stdout",
     "output_type": "stream",
     "text": [
      "long , from one to the top - mast , and no coffin and went out a sea\n",
      "captain -- this peaking of the whales . , so as to preserve all his\n",
      "might had in former years abounding with them , they toil with their\n",
      "lances , strange tales of Southern whaling . at once the bravest\n",
      "Indians he was , after in vain strove to pierce the profundity . ?\n",
      "then ?\" a levelled flame of pale , And give no chance , watch him ;\n",
      "though the line , it is to be gainsaid . have been\n"
     ]
    },
    {
     "data": {
      "text/plain": [
       "'long , from one to the top - mast , and no coffin and went out a sea\\ncaptain -- this peaking of the whales . , so as to preserve all his\\nmight had in former years abounding with them , they toil with their\\nlances , strange tales of Southern whaling . at once the bravest\\nIndians he was , after in vain strove to pierce the profundity . ?\\nthen ?\" a levelled flame of pale , And give no chance , watch him ;\\nthough the line , it is to be gainsaid . have been'"
      ]
     },
     "execution_count": 16,
     "metadata": {},
     "output_type": "execute_result"
    }
   ],
   "source": [
    "text1.generate()"
   ]
  },
  {
   "cell_type": "code",
   "execution_count": 17,
   "metadata": {},
   "outputs": [
    {
     "name": "stderr",
     "output_type": "stream",
     "text": [
      "Building ngram index...\n"
     ]
    },
    {
     "name": "stdout",
     "output_type": "stream",
     "text": [
      "laid by her , and said unto Cain , Where art thou , and said , Go to ,\n",
      "I will not do it for ten ' s sons ; we dreamed each man according to\n",
      "their generatio the firstborn said unto Laban , Because I said , Nay ,\n",
      "but Sarah shall her name be . , duke Elah , duke Shobal , and Akan .\n",
      "and looked upon my affliction . Bashemath Ishmael ' s blood , but Isra\n",
      "for as a prince hast thou found of all the cattle in the valley , and\n",
      "the wo The\n"
     ]
    },
    {
     "data": {
      "text/plain": [
       "\"laid by her , and said unto Cain , Where art thou , and said , Go to ,\\nI will not do it for ten ' s sons ; we dreamed each man according to\\ntheir generatio the firstborn said unto Laban , Because I said , Nay ,\\nbut Sarah shall her name be . , duke Elah , duke Shobal , and Akan .\\nand looked upon my affliction . Bashemath Ishmael ' s blood , but Isra\\nfor as a prince hast thou found of all the cattle in the valley , and\\nthe wo The\""
      ]
     },
     "execution_count": 17,
     "metadata": {},
     "output_type": "execute_result"
    }
   ],
   "source": [
    "text3.generate()"
   ]
  },
  {
   "cell_type": "markdown",
   "metadata": {},
   "source": [
    "### Counting Vocabulary"
   ]
  },
  {
   "cell_type": "code",
   "execution_count": 18,
   "metadata": {},
   "outputs": [
    {
     "data": {
      "text/plain": [
       "45010"
      ]
     },
     "execution_count": 18,
     "metadata": {},
     "output_type": "execute_result"
    }
   ],
   "source": [
    "len(text5)"
   ]
  },
  {
   "cell_type": "code",
   "execution_count": 19,
   "metadata": {},
   "outputs": [
    {
     "data": {
      "text/plain": [
       "6066"
      ]
     },
     "execution_count": 19,
     "metadata": {},
     "output_type": "execute_result"
    }
   ],
   "source": [
    "len(set(text5))"
   ]
  },
  {
   "cell_type": "code",
   "execution_count": 21,
   "metadata": {},
   "outputs": [
    {
     "data": {
      "text/plain": [
       "['!',\n",
       " \"'\",\n",
       " '(',\n",
       " ')',\n",
       " ',',\n",
       " ',)',\n",
       " '.',\n",
       " '.)',\n",
       " ':',\n",
       " ';',\n",
       " ';)',\n",
       " '?',\n",
       " '?)',\n",
       " 'A',\n",
       " 'Abel',\n",
       " 'Abelmizraim',\n",
       " 'Abidah',\n",
       " 'Abide',\n",
       " 'Abimael',\n",
       " 'Abimelech',\n",
       " 'Abr',\n",
       " 'Abrah',\n",
       " 'Abraham',\n",
       " 'Abram',\n",
       " 'Accad',\n",
       " 'Achbor',\n",
       " 'Adah',\n",
       " 'Adam',\n",
       " 'Adbeel',\n",
       " 'Admah',\n",
       " 'Adullamite',\n",
       " 'After',\n",
       " 'Aholibamah',\n",
       " 'Ahuzzath',\n",
       " 'Ajah',\n",
       " 'Akan',\n",
       " 'All',\n",
       " 'Allonbachuth',\n",
       " 'Almighty',\n",
       " 'Almodad',\n",
       " 'Also',\n",
       " 'Alvah',\n",
       " 'Alvan',\n",
       " 'Am',\n",
       " 'Amal',\n",
       " 'Amalek',\n",
       " 'Amalekites',\n",
       " 'Ammon',\n",
       " 'Amorite',\n",
       " 'Amorites',\n",
       " 'Amraphel',\n",
       " 'An',\n",
       " 'Anah',\n",
       " 'Anamim',\n",
       " 'And',\n",
       " 'Aner',\n",
       " 'Angel',\n",
       " 'Appoint',\n",
       " 'Aram',\n",
       " 'Aran',\n",
       " 'Ararat',\n",
       " 'Arbah',\n",
       " 'Ard',\n",
       " 'Are',\n",
       " 'Areli',\n",
       " 'Arioch',\n",
       " 'Arise',\n",
       " 'Arkite',\n",
       " 'Arodi',\n",
       " 'Arphaxad',\n",
       " 'Art',\n",
       " 'Arvadite',\n",
       " 'As',\n",
       " 'Asenath',\n",
       " 'Ashbel',\n",
       " 'Asher',\n",
       " 'Ashkenaz',\n",
       " 'Ashteroth',\n",
       " 'Ask',\n",
       " 'Asshur',\n",
       " 'Asshurim',\n",
       " 'Assyr',\n",
       " 'Assyria',\n",
       " 'At',\n",
       " 'Atad',\n",
       " 'Avith',\n",
       " 'Baalhanan',\n",
       " 'Babel',\n",
       " 'Bashemath',\n",
       " 'Be',\n",
       " 'Because',\n",
       " 'Becher',\n",
       " 'Bedad',\n",
       " 'Beeri',\n",
       " 'Beerlahairoi',\n",
       " 'Beersheba',\n",
       " 'Behold',\n",
       " 'Bela',\n",
       " 'Belah',\n",
       " 'Benam',\n",
       " 'Benjamin',\n",
       " 'Beno',\n",
       " 'Beor',\n",
       " 'Bera',\n",
       " 'Bered',\n",
       " 'Beriah',\n",
       " 'Bethel',\n",
       " 'Bethlehem',\n",
       " 'Bethuel',\n",
       " 'Beware',\n",
       " 'Bilhah',\n",
       " 'Bilhan',\n",
       " 'Binding',\n",
       " 'Birsha',\n",
       " 'Bless',\n",
       " 'Blessed',\n",
       " 'Both',\n",
       " 'Bow',\n",
       " 'Bozrah',\n",
       " 'Bring',\n",
       " 'But',\n",
       " 'Buz',\n",
       " 'By',\n",
       " 'Cain',\n",
       " 'Cainan',\n",
       " 'Calah',\n",
       " 'Calneh',\n",
       " 'Can',\n",
       " 'Cana',\n",
       " 'Canaan',\n",
       " 'Canaanite',\n",
       " 'Canaanites',\n",
       " 'Canaanitish',\n",
       " 'Caphtorim',\n",
       " 'Carmi',\n",
       " 'Casluhim',\n",
       " 'Cast',\n",
       " 'Cause',\n",
       " 'Chaldees',\n",
       " 'Chedorlaomer',\n",
       " 'Cheran',\n",
       " 'Cherubims',\n",
       " 'Chesed',\n",
       " 'Chezib',\n",
       " 'Come',\n",
       " 'Cursed',\n",
       " 'Cush',\n",
       " 'Damascus',\n",
       " 'Dan',\n",
       " 'Day',\n",
       " 'Deborah',\n",
       " 'Dedan',\n",
       " 'Deliver',\n",
       " 'Diklah',\n",
       " 'Din',\n",
       " 'Dinah',\n",
       " 'Dinhabah',\n",
       " 'Discern',\n",
       " 'Dishan',\n",
       " 'Dishon',\n",
       " 'Do',\n",
       " 'Dodanim',\n",
       " 'Dothan',\n",
       " 'Drink',\n",
       " 'Duke',\n",
       " 'Dumah',\n",
       " 'Earth',\n",
       " 'Ebal',\n",
       " 'Eber',\n",
       " 'Edar',\n",
       " 'Eden',\n",
       " 'Edom',\n",
       " 'Edomites',\n",
       " 'Egy',\n",
       " 'Egypt',\n",
       " 'Egyptia',\n",
       " 'Egyptian',\n",
       " 'Egyptians',\n",
       " 'Ehi',\n",
       " 'Elah',\n",
       " 'Elam',\n",
       " 'Elbethel',\n",
       " 'Eldaah',\n",
       " 'EleloheIsrael',\n",
       " 'Eliezer',\n",
       " 'Eliphaz',\n",
       " 'Elishah',\n",
       " 'Ellasar',\n",
       " 'Elon',\n",
       " 'Elparan',\n",
       " 'Emins',\n",
       " 'En',\n",
       " 'Enmishpat',\n",
       " 'Eno',\n",
       " 'Enoch',\n",
       " 'Enos',\n",
       " 'Ephah',\n",
       " 'Epher',\n",
       " 'Ephra',\n",
       " 'Ephraim',\n",
       " 'Ephrath',\n",
       " 'Ephron',\n",
       " 'Er',\n",
       " 'Erech',\n",
       " 'Eri',\n",
       " 'Es',\n",
       " 'Esau',\n",
       " 'Escape',\n",
       " 'Esek',\n",
       " 'Eshban',\n",
       " 'Eshcol',\n",
       " 'Ethiopia',\n",
       " 'Euphrat',\n",
       " 'Euphrates',\n",
       " 'Eve',\n",
       " 'Even',\n",
       " 'Every',\n",
       " 'Except',\n",
       " 'Ezbon',\n",
       " 'Ezer',\n",
       " 'Fear',\n",
       " 'Feed',\n",
       " 'Fifteen',\n",
       " 'Fill',\n",
       " 'For',\n",
       " 'Forasmuch',\n",
       " 'Forgive',\n",
       " 'From',\n",
       " 'Fulfil',\n",
       " 'G',\n",
       " 'Gad',\n",
       " 'Gaham',\n",
       " 'Galeed',\n",
       " 'Gatam',\n",
       " 'Gather',\n",
       " 'Gaza',\n",
       " 'Gentiles',\n",
       " 'Gera',\n",
       " 'Gerar',\n",
       " 'Gershon',\n",
       " 'Get',\n",
       " 'Gether',\n",
       " 'Gihon',\n",
       " 'Gilead',\n",
       " 'Girgashites',\n",
       " 'Girgasite',\n",
       " 'Give',\n",
       " 'Go',\n",
       " 'God',\n",
       " 'Gomer',\n",
       " 'Gomorrah',\n",
       " 'Goshen',\n",
       " 'Guni',\n",
       " 'Hadad',\n",
       " 'Hadar',\n",
       " 'Hadoram',\n",
       " 'Hagar',\n",
       " 'Haggi',\n",
       " 'Hai',\n",
       " 'Ham',\n",
       " 'Hamathite',\n",
       " 'Hamor',\n",
       " 'Hamul',\n",
       " 'Hanoch',\n",
       " 'Happy',\n",
       " 'Haran',\n",
       " 'Hast',\n",
       " 'Haste',\n",
       " 'Have',\n",
       " 'Havilah',\n",
       " 'Hazarmaveth',\n",
       " 'Hazezontamar',\n",
       " 'Hazo',\n",
       " 'He',\n",
       " 'Hear',\n",
       " 'Heaven',\n",
       " 'Heber',\n",
       " 'Hebrew',\n",
       " 'Hebrews',\n",
       " 'Hebron',\n",
       " 'Hemam',\n",
       " 'Hemdan',\n",
       " 'Here',\n",
       " 'Hereby',\n",
       " 'Heth',\n",
       " 'Hezron',\n",
       " 'Hiddekel',\n",
       " 'Hinder',\n",
       " 'Hirah',\n",
       " 'His',\n",
       " 'Hitti',\n",
       " 'Hittite',\n",
       " 'Hittites',\n",
       " 'Hivite',\n",
       " 'Hobah',\n",
       " 'Hori',\n",
       " 'Horite',\n",
       " 'Horites',\n",
       " 'How',\n",
       " 'Hul',\n",
       " 'Huppim',\n",
       " 'Husham',\n",
       " 'Hushim',\n",
       " 'Huz',\n",
       " 'I',\n",
       " 'If',\n",
       " 'In',\n",
       " 'Irad',\n",
       " 'Iram',\n",
       " 'Is',\n",
       " 'Isa',\n",
       " 'Isaac',\n",
       " 'Iscah',\n",
       " 'Ishbak',\n",
       " 'Ishmael',\n",
       " 'Ishmeelites',\n",
       " 'Ishuah',\n",
       " 'Isra',\n",
       " 'Israel',\n",
       " 'Issachar',\n",
       " 'Isui',\n",
       " 'It',\n",
       " 'Ithran',\n",
       " 'Jaalam',\n",
       " 'Jabal',\n",
       " 'Jabbok',\n",
       " 'Jac',\n",
       " 'Jachin',\n",
       " 'Jacob',\n",
       " 'Jahleel',\n",
       " 'Jahzeel',\n",
       " 'Jamin',\n",
       " 'Japhe',\n",
       " 'Japheth',\n",
       " 'Jared',\n",
       " 'Javan',\n",
       " 'Jebusite',\n",
       " 'Jebusites',\n",
       " 'Jegarsahadutha',\n",
       " 'Jehovahjireh',\n",
       " 'Jemuel',\n",
       " 'Jerah',\n",
       " 'Jetheth',\n",
       " 'Jetur',\n",
       " 'Jeush',\n",
       " 'Jezer',\n",
       " 'Jidlaph',\n",
       " 'Jimnah',\n",
       " 'Job',\n",
       " 'Jobab',\n",
       " 'Jokshan',\n",
       " 'Joktan',\n",
       " 'Jordan',\n",
       " 'Joseph',\n",
       " 'Jubal',\n",
       " 'Judah',\n",
       " 'Judge',\n",
       " 'Judith',\n",
       " 'Kadesh',\n",
       " 'Kadmonites',\n",
       " 'Karnaim',\n",
       " 'Kedar',\n",
       " 'Kedemah',\n",
       " 'Kemuel',\n",
       " 'Kenaz',\n",
       " 'Kenites',\n",
       " 'Kenizzites',\n",
       " 'Keturah',\n",
       " 'Kiriathaim',\n",
       " 'Kirjatharba',\n",
       " 'Kittim',\n",
       " 'Know',\n",
       " 'Kohath',\n",
       " 'Kor',\n",
       " 'Korah',\n",
       " 'LO',\n",
       " 'LORD',\n",
       " 'Laban',\n",
       " 'Lahairoi',\n",
       " 'Lamech',\n",
       " 'Lasha',\n",
       " 'Lay',\n",
       " 'Leah',\n",
       " 'Lehabim',\n",
       " 'Lest',\n",
       " 'Let',\n",
       " 'Letushim',\n",
       " 'Leummim',\n",
       " 'Levi',\n",
       " 'Lie',\n",
       " 'Lift',\n",
       " 'Lo',\n",
       " 'Look',\n",
       " 'Lot',\n",
       " 'Lotan',\n",
       " 'Lud',\n",
       " 'Ludim',\n",
       " 'Luz',\n",
       " 'Maachah',\n",
       " 'Machir',\n",
       " 'Machpelah',\n",
       " 'Madai',\n",
       " 'Magdiel',\n",
       " 'Magog',\n",
       " 'Mahalaleel',\n",
       " 'Mahalath',\n",
       " 'Mahanaim',\n",
       " 'Make',\n",
       " 'Malchiel',\n",
       " 'Male',\n",
       " 'Mam',\n",
       " 'Mamre',\n",
       " 'Man',\n",
       " 'Manahath',\n",
       " 'Manass',\n",
       " 'Manasseh',\n",
       " 'Mash',\n",
       " 'Masrekah',\n",
       " 'Massa',\n",
       " 'Matred',\n",
       " 'Me',\n",
       " 'Medan',\n",
       " 'Mehetabel',\n",
       " 'Mehujael',\n",
       " 'Melchizedek',\n",
       " 'Merari',\n",
       " 'Mesha',\n",
       " 'Meshech',\n",
       " 'Mesopotamia',\n",
       " 'Methusa',\n",
       " 'Methusael',\n",
       " 'Methuselah',\n",
       " 'Mezahab',\n",
       " 'Mibsam',\n",
       " 'Mibzar',\n",
       " 'Midian',\n",
       " 'Midianites',\n",
       " 'Milcah',\n",
       " 'Mishma',\n",
       " 'Mizpah',\n",
       " 'Mizraim',\n",
       " 'Mizz',\n",
       " 'Moab',\n",
       " 'Moabites',\n",
       " 'Moreh',\n",
       " 'Moreover',\n",
       " 'Moriah',\n",
       " 'Muppim',\n",
       " 'My',\n",
       " 'Naamah',\n",
       " 'Naaman',\n",
       " 'Nahath',\n",
       " 'Nahor',\n",
       " 'Naphish',\n",
       " 'Naphtali',\n",
       " 'Naphtuhim',\n",
       " 'Nay',\n",
       " 'Nebajoth',\n",
       " 'Neither',\n",
       " 'Night',\n",
       " 'Nimrod',\n",
       " 'Nineveh',\n",
       " 'Noah',\n",
       " 'Nod',\n",
       " 'Not',\n",
       " 'Now',\n",
       " 'O',\n",
       " 'Obal',\n",
       " 'Of',\n",
       " 'Oh',\n",
       " 'Ohad',\n",
       " 'Omar',\n",
       " 'On',\n",
       " 'Onam',\n",
       " 'Onan',\n",
       " 'Only',\n",
       " 'Ophir',\n",
       " 'Our',\n",
       " 'Out',\n",
       " 'Padan',\n",
       " 'Padanaram',\n",
       " 'Paran',\n",
       " 'Pass',\n",
       " 'Pathrusim',\n",
       " 'Pau',\n",
       " 'Peace',\n",
       " 'Peleg',\n",
       " 'Peniel',\n",
       " 'Penuel',\n",
       " 'Peradventure',\n",
       " 'Perizzit',\n",
       " 'Perizzite',\n",
       " 'Perizzites',\n",
       " 'Phallu',\n",
       " 'Phara',\n",
       " 'Pharaoh',\n",
       " 'Pharez',\n",
       " 'Phichol',\n",
       " 'Philistim',\n",
       " 'Philistines',\n",
       " 'Phut',\n",
       " 'Phuvah',\n",
       " 'Pildash',\n",
       " 'Pinon',\n",
       " 'Pison',\n",
       " 'Potiphar',\n",
       " 'Potipherah',\n",
       " 'Put',\n",
       " 'Raamah',\n",
       " 'Rachel',\n",
       " 'Rameses',\n",
       " 'Rebek',\n",
       " 'Rebekah',\n",
       " 'Rehoboth',\n",
       " 'Remain',\n",
       " 'Rephaims',\n",
       " 'Resen',\n",
       " 'Return',\n",
       " 'Reu',\n",
       " 'Reub',\n",
       " 'Reuben',\n",
       " 'Reuel',\n",
       " 'Reumah',\n",
       " 'Riphath',\n",
       " 'Rosh',\n",
       " 'Sabtah',\n",
       " 'Sabtech',\n",
       " 'Said',\n",
       " 'Salah',\n",
       " 'Salem',\n",
       " 'Samlah',\n",
       " 'Sarah',\n",
       " 'Sarai',\n",
       " 'Saul',\n",
       " 'Save',\n",
       " 'Say',\n",
       " 'Se',\n",
       " 'Seba',\n",
       " 'See',\n",
       " 'Seeing',\n",
       " 'Seir',\n",
       " 'Sell',\n",
       " 'Send',\n",
       " 'Sephar',\n",
       " 'Serah',\n",
       " 'Sered',\n",
       " 'Serug',\n",
       " 'Set',\n",
       " 'Seth',\n",
       " 'Shalem',\n",
       " 'Shall',\n",
       " 'Shalt',\n",
       " 'Shammah',\n",
       " 'Shaul',\n",
       " 'Shaveh',\n",
       " 'She',\n",
       " 'Sheba',\n",
       " 'Shebah',\n",
       " 'Shechem',\n",
       " 'Shed',\n",
       " 'Shel',\n",
       " 'Shelah',\n",
       " 'Sheleph',\n",
       " 'Shem',\n",
       " 'Shemeber',\n",
       " 'Shepho',\n",
       " 'Shillem',\n",
       " 'Shiloh',\n",
       " 'Shimron',\n",
       " 'Shinab',\n",
       " 'Shinar',\n",
       " 'Shobal',\n",
       " 'Should',\n",
       " 'Shuah',\n",
       " 'Shuni',\n",
       " 'Shur',\n",
       " 'Sichem',\n",
       " 'Siddim',\n",
       " 'Sidon',\n",
       " 'Simeon',\n",
       " 'Sinite',\n",
       " 'Sitnah',\n",
       " 'Slay',\n",
       " 'So',\n",
       " 'Sod',\n",
       " 'Sodom',\n",
       " 'Sojourn',\n",
       " 'Some',\n",
       " 'Spake',\n",
       " 'Speak',\n",
       " 'Spirit',\n",
       " 'Stand',\n",
       " 'Succoth',\n",
       " 'Surely',\n",
       " 'Swear',\n",
       " 'Syrian',\n",
       " 'Take',\n",
       " 'Tamar',\n",
       " 'Tarshish',\n",
       " 'Tebah',\n",
       " 'Tell',\n",
       " 'Tema',\n",
       " 'Teman',\n",
       " 'Temani',\n",
       " 'Terah',\n",
       " 'Thahash',\n",
       " 'That',\n",
       " 'The',\n",
       " 'Then',\n",
       " 'There',\n",
       " 'Therefore',\n",
       " 'These',\n",
       " 'They',\n",
       " 'Thirty',\n",
       " 'This',\n",
       " 'Thorns',\n",
       " 'Thou',\n",
       " 'Thus',\n",
       " 'Thy',\n",
       " 'Tidal',\n",
       " 'Timna',\n",
       " 'Timnah',\n",
       " 'Timnath',\n",
       " 'Tiras',\n",
       " 'To',\n",
       " 'Togarmah',\n",
       " 'Tola',\n",
       " 'Tubal',\n",
       " 'Tubalcain',\n",
       " 'Twelve',\n",
       " 'Two',\n",
       " 'Unstable',\n",
       " 'Until',\n",
       " 'Unto',\n",
       " 'Up',\n",
       " 'Upon',\n",
       " 'Ur',\n",
       " 'Uz',\n",
       " 'Uzal',\n",
       " 'We',\n",
       " 'What',\n",
       " 'When',\n",
       " 'Whence',\n",
       " 'Where',\n",
       " 'Whereas',\n",
       " 'Wherefore',\n",
       " 'Which',\n",
       " 'While',\n",
       " 'Who',\n",
       " 'Whose',\n",
       " 'Whoso',\n",
       " 'Why',\n",
       " 'Wilt',\n",
       " 'With',\n",
       " 'Woman',\n",
       " 'Ye',\n",
       " 'Yea',\n",
       " 'Yet',\n",
       " 'Zaavan',\n",
       " 'Zaphnathpaaneah',\n",
       " 'Zar',\n",
       " 'Zarah',\n",
       " 'Zeboiim',\n",
       " 'Zeboim',\n",
       " 'Zebul',\n",
       " 'Zebulun',\n",
       " 'Zemarite',\n",
       " 'Zepho',\n",
       " 'Zerah',\n",
       " 'Zibeon',\n",
       " 'Zidon',\n",
       " 'Zillah',\n",
       " 'Zilpah',\n",
       " 'Zimran',\n",
       " 'Ziphion',\n",
       " 'Zo',\n",
       " 'Zoar',\n",
       " 'Zohar',\n",
       " 'Zuzims',\n",
       " 'a',\n",
       " 'abated',\n",
       " 'abide',\n",
       " 'able',\n",
       " 'abode',\n",
       " 'abomination',\n",
       " 'about',\n",
       " 'above',\n",
       " 'abroad',\n",
       " 'absent',\n",
       " 'abundantly',\n",
       " 'accept',\n",
       " 'accepted',\n",
       " 'according',\n",
       " 'acknowledged',\n",
       " 'activity',\n",
       " 'add',\n",
       " 'adder',\n",
       " 'afar',\n",
       " 'afflict',\n",
       " 'affliction',\n",
       " 'afraid',\n",
       " 'after',\n",
       " 'afterward',\n",
       " 'afterwards',\n",
       " 'aga',\n",
       " 'again',\n",
       " 'against',\n",
       " 'age',\n",
       " 'aileth',\n",
       " 'air',\n",
       " 'al',\n",
       " 'alive',\n",
       " 'all',\n",
       " 'almon',\n",
       " 'alo',\n",
       " 'alone',\n",
       " 'aloud',\n",
       " 'also',\n",
       " 'altar',\n",
       " 'altogether',\n",
       " 'always',\n",
       " 'am',\n",
       " 'among',\n",
       " 'amongst',\n",
       " 'an',\n",
       " 'and',\n",
       " 'angel',\n",
       " 'angels',\n",
       " 'anger',\n",
       " 'angry',\n",
       " 'anguish',\n",
       " 'anointedst',\n",
       " 'anoth',\n",
       " 'another',\n",
       " 'answer',\n",
       " 'answered',\n",
       " 'any',\n",
       " 'anything',\n",
       " 'appe',\n",
       " 'appear',\n",
       " 'appeared',\n",
       " 'appease',\n",
       " 'appoint',\n",
       " 'appointed',\n",
       " 'aprons',\n",
       " 'archer',\n",
       " 'archers',\n",
       " 'are',\n",
       " 'arise',\n",
       " 'ark',\n",
       " 'armed',\n",
       " 'arms',\n",
       " 'army',\n",
       " 'arose',\n",
       " 'arrayed',\n",
       " 'art',\n",
       " 'artificer',\n",
       " 'as',\n",
       " 'ascending',\n",
       " 'ash',\n",
       " 'ashamed',\n",
       " 'ask',\n",
       " 'asked',\n",
       " 'asketh',\n",
       " 'ass',\n",
       " 'assembly',\n",
       " 'asses',\n",
       " 'assigned',\n",
       " 'asswaged',\n",
       " 'at',\n",
       " 'attained',\n",
       " 'audience',\n",
       " 'avenged',\n",
       " 'aw',\n",
       " 'awaked',\n",
       " 'away',\n",
       " 'awoke',\n",
       " 'back',\n",
       " 'backward',\n",
       " 'bad',\n",
       " 'bade',\n",
       " 'badest',\n",
       " 'badne',\n",
       " 'bak',\n",
       " 'bake',\n",
       " 'bakemeats',\n",
       " 'baker',\n",
       " 'bakers',\n",
       " 'balm',\n",
       " 'bands',\n",
       " 'bank',\n",
       " 'bare',\n",
       " 'barr',\n",
       " 'barren',\n",
       " 'basket',\n",
       " 'baskets',\n",
       " 'battle',\n",
       " 'bdellium',\n",
       " 'be',\n",
       " 'bear',\n",
       " 'beari',\n",
       " 'bearing',\n",
       " 'beast',\n",
       " 'beasts',\n",
       " 'beautiful',\n",
       " 'became',\n",
       " 'because',\n",
       " 'become',\n",
       " 'bed',\n",
       " 'been',\n",
       " 'befall',\n",
       " 'befell',\n",
       " 'before',\n",
       " 'began',\n",
       " 'begat',\n",
       " 'beget',\n",
       " 'begettest',\n",
       " 'begin',\n",
       " 'beginning',\n",
       " 'begotten',\n",
       " 'beguiled',\n",
       " 'beheld',\n",
       " 'behind',\n",
       " 'behold',\n",
       " 'being',\n",
       " 'believed',\n",
       " 'belly',\n",
       " 'belong',\n",
       " 'beneath',\n",
       " 'bereaved',\n",
       " 'beside',\n",
       " 'besides',\n",
       " 'besought',\n",
       " 'best',\n",
       " 'betimes',\n",
       " 'better',\n",
       " 'between',\n",
       " 'betwixt',\n",
       " 'beyond',\n",
       " 'binding',\n",
       " 'bird',\n",
       " 'birds',\n",
       " 'birthday',\n",
       " 'birthright',\n",
       " 'biteth',\n",
       " 'bitter',\n",
       " 'blame',\n",
       " 'blameless',\n",
       " 'blasted',\n",
       " 'bless',\n",
       " 'blessed',\n",
       " 'blesseth',\n",
       " 'blessi',\n",
       " 'blessing',\n",
       " 'blessings',\n",
       " 'blindness',\n",
       " 'blood',\n",
       " 'blossoms',\n",
       " 'bodies',\n",
       " 'boldly',\n",
       " 'bondman',\n",
       " 'bondmen',\n",
       " 'bondwoman',\n",
       " 'bone',\n",
       " 'bones',\n",
       " 'book',\n",
       " 'booths',\n",
       " 'border',\n",
       " 'borders',\n",
       " 'born',\n",
       " 'bosom',\n",
       " 'both',\n",
       " 'bottle',\n",
       " 'bou',\n",
       " 'boug',\n",
       " 'bough',\n",
       " 'bought',\n",
       " 'bound',\n",
       " 'bow',\n",
       " 'bowed',\n",
       " 'bowels',\n",
       " 'bowing',\n",
       " 'boys',\n",
       " 'bracelets',\n",
       " 'branches',\n",
       " 'brass',\n",
       " 'bre',\n",
       " 'breach',\n",
       " 'bread',\n",
       " 'breadth',\n",
       " 'break',\n",
       " 'breaketh',\n",
       " 'breaking',\n",
       " 'breasts',\n",
       " 'breath',\n",
       " 'breathed',\n",
       " 'breed',\n",
       " 'brethren',\n",
       " 'brick',\n",
       " 'brimstone',\n",
       " 'bring',\n",
       " 'brink',\n",
       " 'broken',\n",
       " 'brook',\n",
       " 'broth',\n",
       " 'brother',\n",
       " 'brought',\n",
       " 'brown',\n",
       " 'bruise',\n",
       " 'budded',\n",
       " 'build',\n",
       " 'builded',\n",
       " 'built',\n",
       " 'bulls',\n",
       " 'bundle',\n",
       " 'bundles',\n",
       " 'burdens',\n",
       " 'buried',\n",
       " 'burn',\n",
       " 'burning',\n",
       " 'burnt',\n",
       " 'bury',\n",
       " 'buryingplace',\n",
       " 'business',\n",
       " 'but',\n",
       " 'butler',\n",
       " 'butlers',\n",
       " 'butlership',\n",
       " 'butter',\n",
       " 'buy',\n",
       " 'by',\n",
       " 'cakes',\n",
       " 'calf',\n",
       " 'call',\n",
       " 'called',\n",
       " 'came',\n",
       " 'camel',\n",
       " 'camels',\n",
       " 'camest',\n",
       " 'can',\n",
       " 'cannot',\n",
       " 'canst',\n",
       " 'captain',\n",
       " 'captive',\n",
       " 'captives',\n",
       " 'carcases',\n",
       " 'carried',\n",
       " 'carry',\n",
       " 'cast',\n",
       " 'castles',\n",
       " 'catt',\n",
       " 'cattle',\n",
       " 'caught',\n",
       " 'cause',\n",
       " 'caused',\n",
       " 'cave',\n",
       " 'cease',\n",
       " 'ceased',\n",
       " 'certain',\n",
       " 'certainly',\n",
       " 'chain',\n",
       " 'chamber',\n",
       " 'change',\n",
       " 'changed',\n",
       " 'changes',\n",
       " 'charge',\n",
       " 'charged',\n",
       " 'chariot',\n",
       " 'chariots',\n",
       " 'chesnut',\n",
       " 'chi',\n",
       " 'chief',\n",
       " 'child',\n",
       " 'childless',\n",
       " 'childr',\n",
       " 'children',\n",
       " 'chode',\n",
       " 'choice',\n",
       " 'chose',\n",
       " 'circumcis',\n",
       " 'circumcise',\n",
       " 'circumcised',\n",
       " 'citi',\n",
       " 'cities',\n",
       " 'city',\n",
       " 'clave',\n",
       " 'clean',\n",
       " 'clear',\n",
       " 'cleave',\n",
       " 'clo',\n",
       " 'closed',\n",
       " 'clothed',\n",
       " 'clothes',\n",
       " 'cloud',\n",
       " 'clusters',\n",
       " 'co',\n",
       " 'coat',\n",
       " 'coats',\n",
       " 'coffin',\n",
       " 'cold',\n",
       " ...]"
      ]
     },
     "execution_count": 21,
     "metadata": {},
     "output_type": "execute_result"
    }
   ],
   "source": [
    "sorted(set(text3))"
   ]
  },
  {
   "cell_type": "code",
   "execution_count": 22,
   "metadata": {},
   "outputs": [
    {
     "data": {
      "text/plain": [
       "704"
      ]
     },
     "execution_count": 22,
     "metadata": {},
     "output_type": "execute_result"
    }
   ],
   "source": [
    "text5.count('lol')"
   ]
  },
  {
   "cell_type": "code",
   "execution_count": 24,
   "metadata": {},
   "outputs": [
    {
     "data": {
      "text/plain": [
       "1.5640968673628082"
      ]
     },
     "execution_count": 24,
     "metadata": {},
     "output_type": "execute_result"
    }
   ],
   "source": [
    "100 * text5.count('lol')/len(text5)"
   ]
  },
  {
   "cell_type": "code",
   "execution_count": 33,
   "metadata": {},
   "outputs": [
    {
     "data": {
      "text/plain": [
       "5"
      ]
     },
     "execution_count": 33,
     "metadata": {},
     "output_type": "execute_result"
    }
   ],
   "source": [
    "text4.count('head')"
   ]
  },
  {
   "cell_type": "code",
   "execution_count": 35,
   "metadata": {},
   "outputs": [
    {
     "data": {
      "text/plain": [
       "13.502044830977896"
      ]
     },
     "execution_count": 35,
     "metadata": {},
     "output_type": "execute_result"
    }
   ],
   "source": [
    "#lexical richness\n",
    "len(text1)/len(set(text1))"
   ]
  },
  {
   "cell_type": "markdown",
   "metadata": {},
   "source": [
    "### list of words"
   ]
  },
  {
   "cell_type": "code",
   "execution_count": 36,
   "metadata": {},
   "outputs": [
    {
     "data": {
      "text/plain": [
       "['Call', 'me', 'Ishmael', '.']"
      ]
     },
     "execution_count": 36,
     "metadata": {},
     "output_type": "execute_result"
    }
   ],
   "source": [
    "sent1"
   ]
  },
  {
   "cell_type": "code",
   "execution_count": 37,
   "metadata": {},
   "outputs": [
    {
     "data": {
      "text/plain": [
       "'.'"
      ]
     },
     "execution_count": 37,
     "metadata": {},
     "output_type": "execute_result"
    }
   ],
   "source": [
    "sent1.pop()"
   ]
  },
  {
   "cell_type": "code",
   "execution_count": 38,
   "metadata": {},
   "outputs": [
    {
     "data": {
      "text/plain": [
       "['Call', 'me', 'Ishmael']"
      ]
     },
     "execution_count": 38,
     "metadata": {},
     "output_type": "execute_result"
    }
   ],
   "source": [
    "sent1"
   ]
  },
  {
   "cell_type": "code",
   "execution_count": 40,
   "metadata": {},
   "outputs": [
    {
     "data": {
      "text/plain": [
       "['Call',\n",
       " 'me',\n",
       " 'Ishmael',\n",
       " 'The',\n",
       " 'family',\n",
       " 'of',\n",
       " 'Dashwood',\n",
       " 'had',\n",
       " 'long',\n",
       " 'been',\n",
       " 'settled',\n",
       " 'in',\n",
       " 'Sussex',\n",
       " '.']"
      ]
     },
     "execution_count": 40,
     "metadata": {},
     "output_type": "execute_result"
    }
   ],
   "source": [
    "sent1 + sent2"
   ]
  },
  {
   "cell_type": "code",
   "execution_count": 41,
   "metadata": {},
   "outputs": [],
   "source": [
    "sent1.append('.')"
   ]
  },
  {
   "cell_type": "code",
   "execution_count": 42,
   "metadata": {},
   "outputs": [
    {
     "data": {
      "text/plain": [
       "['Call', 'me', 'Ishmael', '.']"
      ]
     },
     "execution_count": 42,
     "metadata": {},
     "output_type": "execute_result"
    }
   ],
   "source": [
    "sent1"
   ]
  },
  {
   "cell_type": "code",
   "execution_count": 43,
   "metadata": {},
   "outputs": [
    {
     "data": {
      "text/plain": [
       "'me'"
      ]
     },
     "execution_count": 43,
     "metadata": {},
     "output_type": "execute_result"
    }
   ],
   "source": [
    "sent1[1]"
   ]
  },
  {
   "cell_type": "code",
   "execution_count": 44,
   "metadata": {},
   "outputs": [
    {
     "data": {
      "text/plain": [
       "['Call', 'me']"
      ]
     },
     "execution_count": 44,
     "metadata": {},
     "output_type": "execute_result"
    }
   ],
   "source": [
    "sent1[0:2]"
   ]
  },
  {
   "cell_type": "code",
   "execution_count": 45,
   "metadata": {},
   "outputs": [],
   "source": [
    "li=['A','B','C','D','E','F','G','H']"
   ]
  },
  {
   "cell_type": "code",
   "execution_count": 46,
   "metadata": {},
   "outputs": [
    {
     "data": {
      "text/plain": [
       "['A', 'B', 'C', 'D', 'E', 'F', 'G', 'H']"
      ]
     },
     "execution_count": 46,
     "metadata": {},
     "output_type": "execute_result"
    }
   ],
   "source": [
    "li[::]"
   ]
  },
  {
   "cell_type": "code",
   "execution_count": 47,
   "metadata": {},
   "outputs": [
    {
     "data": {
      "text/plain": [
       "['A', 'B', 'C', 'D']"
      ]
     },
     "execution_count": 47,
     "metadata": {},
     "output_type": "execute_result"
    }
   ],
   "source": [
    "li[:-4]"
   ]
  },
  {
   "cell_type": "code",
   "execution_count": 48,
   "metadata": {},
   "outputs": [
    {
     "data": {
      "text/plain": [
       "'D'"
      ]
     },
     "execution_count": 48,
     "metadata": {},
     "output_type": "execute_result"
    }
   ],
   "source": [
    "li[-5]"
   ]
  },
  {
   "cell_type": "code",
   "execution_count": 50,
   "metadata": {},
   "outputs": [
    {
     "data": {
      "text/plain": [
       "['D', 'E']"
      ]
     },
     "execution_count": 50,
     "metadata": {},
     "output_type": "execute_result"
    }
   ],
   "source": [
    "li[-5:5]"
   ]
  },
  {
   "cell_type": "code",
   "execution_count": 53,
   "metadata": {},
   "outputs": [
    {
     "data": {
      "text/plain": [
       "['A', 'C', 'E', 'G']"
      ]
     },
     "execution_count": 53,
     "metadata": {},
     "output_type": "execute_result"
    }
   ],
   "source": [
    "li[::2]"
   ]
  },
  {
   "cell_type": "code",
   "execution_count": 54,
   "metadata": {},
   "outputs": [
    {
     "data": {
      "text/plain": [
       "['H', 'F', 'D', 'B']"
      ]
     },
     "execution_count": 54,
     "metadata": {},
     "output_type": "execute_result"
    }
   ],
   "source": [
    "li[::-2]"
   ]
  },
  {
   "cell_type": "code",
   "execution_count": 55,
   "metadata": {},
   "outputs": [
    {
     "data": {
      "text/plain": [
       "'ABCDEFGH'"
      ]
     },
     "execution_count": 55,
     "metadata": {},
     "output_type": "execute_result"
    }
   ],
   "source": [
    "''.join(li)"
   ]
  },
  {
   "cell_type": "code",
   "execution_count": 56,
   "metadata": {},
   "outputs": [
    {
     "data": {
      "text/plain": [
       "'A-B-C-D-E-F-G-H'"
      ]
     },
     "execution_count": 56,
     "metadata": {},
     "output_type": "execute_result"
    }
   ],
   "source": [
    "'-'.join(li)"
   ]
  },
  {
   "cell_type": "code",
   "execution_count": 60,
   "metadata": {},
   "outputs": [
    {
     "data": {
      "text/plain": [
       "2"
      ]
     },
     "execution_count": 60,
     "metadata": {},
     "output_type": "execute_result"
    }
   ],
   "source": [
    "sent1.index('Ishmael')\n",
    "# location of word Ishmael"
   ]
  },
  {
   "cell_type": "code",
   "execution_count": 61,
   "metadata": {},
   "outputs": [],
   "source": [
    "saying = ['After', 'all', 'is', 'said', 'and', 'done','more', 'is', 'said', 'than', 'done']"
   ]
  },
  {
   "cell_type": "code",
   "execution_count": 62,
   "metadata": {},
   "outputs": [
    {
     "data": {
      "text/plain": [
       "['said', 'than']"
      ]
     },
     "execution_count": 62,
     "metadata": {},
     "output_type": "execute_result"
    }
   ],
   "source": [
    "tokens = set(saying)\n",
    "tokens = sorted(tokens)\n",
    "tokens[-2:]"
   ]
  },
  {
   "cell_type": "markdown",
   "metadata": {},
   "source": [
    "## Frequency Distributions"
   ]
  },
  {
   "cell_type": "code",
   "execution_count": 77,
   "metadata": {},
   "outputs": [],
   "source": [
    "fdist1 = FreqDist(text1)"
   ]
  },
  {
   "cell_type": "code",
   "execution_count": 78,
   "metadata": {},
   "outputs": [
    {
     "data": {
      "text/plain": [
       "FreqDist({',': 18713, 'the': 13721, '.': 6862, 'of': 6536, 'and': 6024, 'a': 4569, 'to': 4542, ';': 4072, 'in': 3916, 'that': 2982, ...})"
      ]
     },
     "execution_count": 78,
     "metadata": {},
     "output_type": "execute_result"
    }
   ],
   "source": [
    "fdist1"
   ]
  },
  {
   "cell_type": "code",
   "execution_count": 80,
   "metadata": {},
   "outputs": [
    {
     "data": {
      "text/plain": [
       "dict_keys(['[', 'Moby', 'Dick', 'by', 'Herman', 'Melville', '1851', ']', 'ETYMOLOGY', '.', '(', 'Supplied', 'a', 'Late', 'Consumptive', 'Usher', 'to', 'Grammar', 'School', ')', 'The', 'pale', '--', 'threadbare', 'in', 'coat', ',', 'heart', 'body', 'and', 'brain', ';', 'I', 'see', 'him', 'now', 'He', 'was', 'ever', 'dusting', 'his', 'old', 'lexicons', 'grammars', 'with', 'queer', 'handkerchief', 'mockingly', 'embellished', 'all', 'the', 'gay', 'flags', 'of', 'known', 'nations', 'world', 'loved', 'dust', 'it', 'somehow', 'mildly', 'reminded', 'mortality', '\"', 'While', 'you', 'take', 'hand', 'school', 'others', 'teach', 'them', 'what', 'name', 'whale', '-', 'fish', 'is', 'be', 'called', 'our', 'tongue', 'leaving', 'out', 'through', 'ignorance', 'letter', 'H', 'which', 'almost', 'alone', 'maketh', 'signification', 'word', 'deliver', 'that', 'not', 'true', '.\"', 'HACKLUYT', 'WHALE', '...', 'Sw', 'Dan', 'HVAL', 'This', 'animal', 'named', 'from', 'roundness', 'or', 'rolling', 'for', 'HVALT', 'arched', 'vaulted', 'WEBSTER', \"'\", 'S', 'DICTIONARY', 'It', 'more', 'immediately', 'Dut', 'Ger', 'WALLEN', 'A', 'WALW', 'IAN', 'roll', 'wallow', 'RICHARDSON', 'KETOS', 'GREEK', 'CETUS', 'LATIN', 'WHOEL', 'ANGLO', 'SAXON', 'DANISH', 'WAL', 'DUTCH', 'HWAL', 'SWEDISH', 'ICELANDIC', 'ENGLISH', 'BALEINE', 'FRENCH', 'BALLENA', 'SPANISH', 'PEKEE', 'NUEE', 'FEGEE', 'ERROMANGOAN', 'EXTRACTS', 'Sub', 'Librarian', ').', 'will', 'seen', 'this', 'mere', 'painstaking', 'burrower', 'grub', 'worm', 'poor', 'devil', 'appears', 'have', 'gone', 'long', 'Vaticans', 'street', 'stalls', 'earth', 'picking', 'up', 'whatever', 'random', 'allusions', 'whales', 'he', 'could', 'anyways', 'find', 'any', 'book', 'whatsoever', 'sacred', 'profane', 'Therefore', 'must', 'every', 'case', 'at', 'least', 'higgledy', 'piggledy', 'statements', 'however', 'authentic', 'these', 'extracts', 'veritable', 'gospel', 'cetology', 'Far', 'As', 'touching', 'ancient', 'authors', 'generally', 'as', 'well', 'poets', 'here', 'appearing', 'are', 'solely', 'valuable', 'entertaining', 'affording', 'glancing', 'bird', 's', 'eye', 'view', 'has', 'been', 'promiscuously', 'said', 'thought', 'fancied', 'sung', 'Leviathan', 'many', 'generations', 'including', 'own', 'So', 'fare', 'thee', 'whose', 'commentator', 'am', 'Thou', 'belongest', 'hopeless', 'sallow', 'tribe', 'no', 'wine', 'warm', 'whom', 'even', 'Pale', 'Sherry', 'would', 'too', 'rosy', 'strong', 'but', 'one', 'sometimes', 'loves', 'sit', 'feel', 'devilish', 'grow', 'convivial', 'upon', 'tears', 'say', 'bluntly', 'full', 'eyes', 'empty', 'glasses', 'altogether', 'unpleasant', 'sadness', 'Give', 'Subs', '!', 'For', 'how', 'much', 'pains', 'ye', 'please', 'so', 'shall', 'go', 'thankless', 'Would', 'clear', 'Hampton', 'Court', 'Tuileries', 'But', 'gulp', 'down', 'your', 'hie', 'aloft', 'royal', 'mast', 'hearts', 'friends', 'who', 'before', 'clearing', 'seven', 'storied', 'heavens', 'making', 'refugees', 'pampered', 'Gabriel', 'Michael', 'Raphael', 'against', 'coming', 'Here', 'strike', 'splintered', 'together', 'there', 'unsplinterable', 'And', 'God', 'created', 'great', 'GENESIS', 'path', 'shine', 'after', 'One', 'think', 'deep', 'hoary', 'JOB', 'Now', 'Lord', 'had', 'prepared', 'swallow', 'Jonah', 'JONAH', 'There', 'ships', 'thou', 'hast', 'made', 'play', 'therein', 'PSALMS', 'In', 'day', 'sore', 'sword', 'punish', 'piercing', 'serpent', 'crooked', 'slay', 'dragon', 'sea', 'ISAIAH', 'thing', 'soever', 'besides', 'cometh', 'within', 'chaos', 'monster', 'mouth', 'beast', 'boat', 'stone', 'goes', 'incontinently', 'foul', 'perisheth', 'bottomless', 'gulf', 'paunch', 'HOLLAND', 'PLUTARCH', 'MORALS', 'Indian', 'Sea', 'breedeth', 'most', 'biggest', 'fishes', ':', 'among', 'Whales', 'Whirlpooles', 'Balaene', 'length', 'four', 'acres', 'arpens', 'land', 'PLINY', 'Scarcely', 'we', 'proceeded', 'two', 'days', 'on', 'when', 'about', 'sunrise', 'other', 'monsters', 'appeared', 'Among', 'former', 'monstrous', 'size', 'came', 'towards', 'us', 'open', 'mouthed', 'raising', 'waves', 'sides', 'beating', 'into', 'foam', 'TOOKE', 'LUCIAN', 'THE', 'TRUE', 'HISTORY', 'visited', 'country', 'also', 'catching', 'horse', 'bones', 'very', 'value', 'their', 'teeth', 'brought', 'some', 'king', 'best', 'were', 'catched', 'forty', 'eight', 'fifty', 'yards', 'six', 'killed', 'sixty', 'OTHER', 'OR', 'OCTHER', 'VERBAL', 'NARRATIVE', 'TAKEN', 'DOWN', 'FROM', 'HIS', 'MOUTH', 'BY', 'KING', 'ALFRED', 'D', '890', 'whereas', 'things', 'whether', 'vessel', 'enter', 'dreadful', 'lost', 'swallowed', 'gudgeon', 'retires', 'security', 'sleeps', 'MONTAIGNE', 'APOLOGY', 'FOR', 'RAIMOND', 'SEBOND', 'Let', 'fly', 'let', 'Old', 'Nick', 'me', 'if', 'described', 'noble', 'prophet', 'Moses', 'life', 'patient', 'Job', 'RABELAIS', 'liver', 'cartloads', 'STOWE', 'ANNALS', 'seas', 'seethe', 'like', 'boiling', 'pan', 'LORD', 'BACON', 'VERSION', 'OF', 'Touching', 'bulk', 'ork', 'received', 'nothing', 'certain', 'They', 'exceeding', 'fat', 'insomuch', 'an', 'incredible', 'quantity', 'oil', 'extracted', 'IBID', 'LIFE', 'AND', 'DEATH', 'sovereignest', 'parmacetti', 'inward', 'bruise', 'HENRY', 'Very', 'HAMLET', 'Which', 'secure', 'skill', 'leach', 'art', 'Mote', 'availle', 'returne', 'againe', 'To', 'wound', 'worker', 'lowly', 'dart', 'Dinting', 'breast', 'bred', 'restless', 'paine', 'Like', 'wounded', 'shore', 'flies', 'thro', 'maine', 'FAERIE', 'QUEEN', 'Immense', 'motion', 'vast', 'bodies', 'can', 'peaceful', 'calm', 'trouble', 'ocean', 'til', 'boil', 'SIR', 'WILLIAM', 'DAVENANT', 'PREFACE', 'TO', 'GONDIBERT', 'What', 'spermacetti', 'men', 'might', 'justly', 'doubt', 'since', 'learned', 'Hosmannus', 'work', 'thirty', 'years', 'saith', 'plainly', 'Nescio', 'quid', 'T', 'BROWNE', 'SPERMA', 'CETI', 'VIDE', 'V', 'E', 'Spencer', 'Talus', 'modern', 'flail', 'threatens', 'ruin', 'ponderous', 'tail', 'Their', 'fixed', 'jav', 'lins', 'side', 'wears', 'back', 'grove', 'pikes', 'WALLER', 'BATTLE', 'SUMMER', 'ISLANDS', 'By', 'Commonwealth', 'State', '--(', 'Latin', 'Civitas', 'artificial', 'man', 'OPENING', 'SENTENCE', 'HOBBES', 'LEVIATHAN', 'Silly', 'Mansoul', 'without', 'chewing', 'sprat', 'PILGRIM', 'PROGRESS', 'That', 'works', 'Created', 'hugest', 'swim', 'stream', 'PARADISE', 'LOST', '---\"', 'Hugest', 'living', 'creatures', 'Stretched', 'promontory', 'swims', 'seems', 'moving', 'gills', 'Draws', 'breath', 'spouts', 'mighty', 'water', 'swimming', 'FULLLER', 'PROFANE', 'HOLY', 'STATE', 'close', 'behind', 'lie', 'huge', 'attend', 'prey', 'give', 'chance', 'fry', 'gaping', 'jaws', 'mistake', 'way', 'DRYDEN', 'ANNUS', 'MIRABILIS', 'floating', 'stern', 'ship', 'they', 'cut', 'off', 'head', 'tow', 'near', 'come', 'aground', 'twelve', 'thirteen', 'feet', 'THOMAS', 'EDGE', 'TEN', 'VOYAGES', 'SPITZBERGEN', 'IN', 'PURCHAS', 'saw', 'sporting', 'wantonness', 'fuzzing', 'pipes', 'vents', 'nature', 'placed', 'shoulders', 'HERBERT', 'INTO', 'ASIA', 'AFRICA', 'HARRIS', 'COLL', 'such', 'troops', 'forced', 'proceed', 'deal', 'caution', 'fear', 'should', 'run', 'SCHOUTEN', 'SIXTH', 'CIRCUMNAVIGATION', 'We', 'set', 'sail', 'Elbe', 'wind', 'N', 'Jonas', 'Whale', 'Some', 't', 'fable', 'frequently', 'climb', 'masts', 'first', 'discoverer', 'ducat', 'told', 'taken', 'Shetland', 'above', 'barrel', 'herrings', 'belly', 'harpooneers', 'caught', 'once', 'Spitzbergen', 'white', 'over', 'VOYAGE', 'GREENLAND', '1671', 'Several', 'coast', 'Fife', 'Anno', '1652', 'eighty', 'bone', 'kind', 'informed', '),', 'did', 'afford', '500', 'weight', 'baleen', 'stand', 'gate', 'garden', 'Pitferren', 'SIBBALD', 'FIFE', 'KINROSS', 'Myself', 'agreed', 'try', 'master', 'kill', 'Sperma', 'ceti', 'never', 'hear', 'sort', 'fierceness', 'swiftness', 'RICHARD', 'STRAFFORD', 'LETTER', 'BERMUDAS', 'PHIL', 'TRANS', '1668', 'voice', 'obey', 'PRIMER', 'abundance', 'large', 'being', 'those', 'southern', 'may', 'hundred', 'than', 'northward', 'CAPTAIN', 'COWLEY', 'ROUND', 'GLOBE', '1729', '\"...', 'frequendy', 'attended', 'insupportable', 'smell', 'bring', 'disorder', 'ULLOA', 'SOUTH', 'AMERICA', 'chosen', 'sylphs', 'special', 'note', 'trust', 'important', 'charge', 'petticoat', 'Oft', 'fold', 'fence', 'fail', 'Tho', 'stuffed', 'hoops', 'armed', 'ribs', 'RAPE', 'LOCK', 'If', 'compare', 'animals', 'respect', 'magnitude', 'abode', 'appear', 'contemptible', 'comparison', 'doubtless', 'largest', 'creation', 'GOLDSMITH', 'NAT', 'HIST', 'write', 'little', 'make', 'speak', 'wales', 'JOHNSON', 'afternoon', 'supposed', 'rock', 'found', 'dead', 'Asiatics', 'then', 'towing', 'ashore', 'seemed', 'endeavor', 'conceal', 'themselves', 'order', 'avoid', 'COOK', 'larger', 'seldom', 'venture', 'attack', 'dread', 'afraid', 'mention', 'names', 'carry', 'dung', 'lime', 'juniper', 'wood', 'articles', 'same', 'boats', 'terrify', 'prevent', 'approach', 'UNO', 'VON', 'TROIL', 'LETTERS', 'ON', 'BANKS', 'SOLANDER', 'ICELAND', '1772', 'Spermacetti', 'Nantuckois', 'active', 'fierce', 'requires', 'address', 'boldness', 'fishermen', 'JEFFERSON', 'MEMORIAL', 'MINISTER', '1778', 'pray', 'sir', 'equal', '?\"', 'EDMUND', 'BURKE', 'REFERENCE', 'PARLIAMENT', 'NANTUCKET', 'FISHERY', 'Spain', 'stranded', 'shores', 'Europe', 'SOMEWHERE', '.)', 'tenth', 'branch', 'ordinary', 'revenue', 'grounded', 'consideration', 'guarding', 'protecting', 'pirates', 'robbers', 'right', 'sturgeon', 'either', 'thrown', 'property', 'BLACKSTONE', 'Soon', 'sport', 'death', 'crews', 'repair', 'Rodmond', 'unerring', 'o', 'er', 'suspends', 'barbed', 'steel', 'turn', 'attends', 'FALCONER', 'SHIPWRECK', 'Bright', 'shone', 'roofs', 'domes', 'spires', 'rockets', 'blew', 'self', 'driven', 'hang', 'momentary', 'fire', 'Around', 'vault', 'heaven', 'serves', 'high', 'Up', 'spouted', 'air', 'express', 'unwieldy', 'joy', 'COWPER', 'VISIT', 'LONDON', 'Ten', 'fifteen', 'gallons', 'blood', 'stroke', 'immense', 'velocity', 'JOHN', 'HUNTER', 'ACCOUNT', 'DISSECTION', 'SMALL', 'SIZED', 'ONE', 'aorta', 'bore', 'main', 'pipe', 'London', 'Bridge', 'roaring', 'its', 'passage', 'inferior', 'impetus', 'gushing', 'PALEY', 'THEOLOGY', 'mammiferous', 'hind', 'BARON', 'CUVIER', '40', 'degrees', 'south', 'till', 'May', 'covered', 'COLNETT', 'PURPOSE', 'EXTENDING', 'SPERMACETI', 'free', 'element', 'beneath', 'swam', 'Floundered', 'dived', 'chace', 'battle', 'Fishes', 'colour', 'form', 'language', 'cannot', 'paint', 'mariner', 'Had', 'insect', 'millions', 'peopling', 'wave', 'Gather', 'd', 'shoals', 'islands', 'Led', 'mysterious', 'instincts', 'waste', 'trackless', 'region', 'though', 'Assaulted', 'voracious', 'enemies', 'sharks', 'arm', 'front', 'jaw', 'With', 'swords', 'saws', 'spiral', 'horns', 'hooked', 'fangs', 'MONTGOMERY', 'WORLD', 'BEFORE', 'FLOOD', 'Io', 'Paean', 'sing', 'finny', 'people', 'Not', 'mightier', 'Atlantic', 'fatter', 'Flounders', 'round', 'Polar', 'CHARLES', 'LAMB', 'TRIUMPH', 'year', '1690', 'persons', 'hill', 'observing', 'spouting', 'each', 'observed', 'pointing', 'green', 'pasture', 'where', 'children', 'grand', 'bread', 'OBED', 'MACY', 'built', 'cottage', 'Susan', 'myself', 'gateway', 'Gothic', 'Arch', 'setting', 'HAWTHORNE', 'TWICE', 'TOLD', 'TALES', 'She', 'bespeak', 'monument', 'her', 'love', 'Pacific', 'less', 'ago', 'No', 'Sir', 'tis', 'Right', ',\"', 'answered', 'Tom', 'sprout', 'threw', 'pair', 'pretty', 'rainbows', 'Christian', 'wish', 'look', 'raal', 'butt', 'fellow', '!\"', 'COOPER', 'PILOT', 'papers', 'Berlin', 'Gazette', 'introduced', 'stage', 'ECKERMANN', 'CONVERSATIONS', 'WITH', 'GOETHE', 'My', 'Mr', 'Chace', 'matter', 'stove', '--\"', 'SHIP', 'ESSEX', 'WHICH', 'WAS', 'ATTACKED', 'FINALLY', 'DESTROYED', 'LARGE', 'SPERM', 'PACIFIC', 'OCEAN', 'OWEN', 'CHACE', 'FIRST', 'MATE', 'SAID', 'VESSEL', 'NEW', 'YORK', '1821', 'sat', 'shrouds', 'night', 'piping', 'bright', 'dimmed', 'moonlight', 'phospher', 'gleamed', 'wake', 'floundered', 'ELIZABETH', 'OAKES', 'SMITH', 'line', 'withdrawn', 'engaged', 'capture', 'amounted', '10', '440', 'nearly', 'English', 'miles', 'Sometimes', 'shakes', 'tremendous', 'cracking', 'whip', 'resounds', 'distance', 'three', 'SCORESBY', 'Mad', 'agonies', 'endures', 'fresh', 'attacks', 'infuriated', 'Sperm', 'rolls', 'rears', 'enormous', 'wide', 'expanded', 'snaps', 'everything', 'around', 'rushes', 'propelled', 'utterly', 'destroyed', 'astonishment', 'habits', 'interesting', 'commercial', 'point', 'entirely', 'neglected', 'excited', 'curiosity', 'numerous', 'competent', 'observers', 'late', 'possessed', 'abundant', 'convenient', 'opportunities', 'witnessing', 'habitudes', 'BEALE', '1839', 'Cachalot', 'only', 'better', 'True', 'Greenland', 'possessing', 'formidable', 'weapon', 'extremity', 'displays', 'disposition', 'employ', 'weapons', 'offensively', 'manner', 'artful', 'bold', 'mischievous', 'lead', 'regarded', 'dangerous', 'species', 'FREDERICK', 'DEBELL', 'BENNETT', 'WHALING', '1840', 'October', '13', 'she', 'blows', 'Where', 'away', 'demanded', 'captain', 'Three', 'points', 'lee', 'bow', 'Raise', 'wheel', 'Steady', 'Mast', 'ahoy', 'Do', 'Ay', 'ay', 'shoal', 'breaches', 'Sing', 'time', 'THAR', 'bowes', 'bo', 'os', 'How', 'far', 'Two', 'half', 'Thunder', 'lightning', 'Call', 'hands', 'J', 'ROSS', 'ETCHINGS', 'CRUIZE', '1846', 'Globe', 'board', 'occurred', 'horrid', 'transactions', 'relate', 'belonged', 'island', 'Nantucket', 'LAY', 'HUSSEY', 'SURVIVORS', '1828', 'Being', 'pursued', 'parried', 'assault', 'lance', 'furious', 'rushed', 'himself', 'comrades', 'preserved', 'leaping', 'onset', 'inevitable', 'MISSIONARY', 'JOURNAL', 'TYERMAN', 'itself', 'Webster', 'striking', 'peculiar', 'portion', 'National', 'interest', 'population', 'nine', 'thousand', 'adding', 'largely', 'wealth', 'boldest', 'persevering', 'industry', 'REPORT', 'DANIEL', 'SPEECH', 'U', 'SENATE', 'APPLICATION', 'ERECTION', 'BREAKWATER', 'AT', 'fell', 'directly', 'probably', 'moment', 'CAPTORS', 'WHALEMAN', 'ADVENTURES', 'BIOGRAPHY', 'GATHERED', 'HOMEWARD', 'CRUISE', 'COMMODORE', 'PREBLE', 'REV', 'CHEEVER', 'damn', 'bit', 'noise', 'replied', 'Samuel', 'send', 'hell', 'SAMUEL', 'COMSTOCK', 'MUTINEER', 'BROTHER', 'ANOTHER', 'voyages', 'Dutch', 'Northern', 'Ocean', 'possible', 'discover', 'India', 'failed', 'object', 'laid', 'haunts', 'MCCULLOCH', 'COMMERCIAL', 'These', 'reciprocal', 'ball', 'rebounds', 'bound', 'forward', 'again', 'laying', 'whalemen', 'seem', 'indirectly', 'hit', 'new', 'clews', 'mystic', 'North', 'West', 'Passage', 'SOMETHING', 'UNPUBLISHED', 'impossible', 'meet', 'struck', 'appearance', 'under', 'short', 'outs', 'heads', 'eagerly', 'scanning', 'expanse', 'totally', 'different', 'regular', 'voyage', 'CURRENTS', 'EX', 'Pedestrians', 'vicinity', 'elsewhere', 'recollect', 'having', 'curved', 'upright', 'arches', 'gateways', 'entrances', 'alcoves', 'perhaps', 'VOYAGER', 'ARCTIC', 'returned', 'pursuit', 'whites', 'bloody', 'possession', 'savages', 'enrolled', 'crew', 'NEWSPAPER', 'TAKING', 'RETAKING', 'HOBOMACK', 'Whaling', 'vessels', 'American', 'few', 'return', 'departed', 'BOAT', 'Suddenly', 'mass', 'emerged', 'shot', 'perpendicularly', 'while', 'MIRIAM', 'COFFIN', 'FISHERMAN', 'harpooned', 'sure', 'bethink', 'manage', 'powerful', 'unbroken', 'colt', 'appliance', 'rope', 'tied', 'root', 'CHAPTER', 'RIBS', 'TRUCKS', 'On', 'occasion', 'male', 'female', 'slowly', 'throw', 'Terra', 'Del', 'Fuego', 'beech', 'tree', 'extended', 'branches', 'DARWIN', 'NATURALIST', '\"\\'', 'Stern', \"!'\", 'exclaimed', 'mate', 'turning', 'distended', 'threatening', 'instant', 'destruction', \";--'\", 'lives', '!\\'\"', 'WHARTON', 'KILLER', 'cheery', 'my', 'lads', 'harpooneer', 'SONG', 'Oh', 'rare', 'mid', 'storm', 'gale', 'home', 'giant', 'King', 'boundless', '1', 'Loomings', 'Ishmael', 'mind', 'precisely', 'money', 'purse', 'particular', 'watery', 'part', 'driving', 'spleen', 'regulating', 'circulation', 'Whenever', 'growing', 'grim', 'whenever', 'damp', 'drizzly', 'November', 'soul', 'involuntarily', 'pausing', 'coffin', 'warehouses', 'bringing', 'rear', 'funeral', 'especially', 'hypos', 'get', 'upper', 'moral', 'principle', 'deliberately', 'stepping', 'methodically', 'knocking', 'hats', 'account', 'soon', 'substitute', 'pistol', 'philosophical', 'flourish', 'Cato', 'throws', 'quietly', 'surprising', 'knew', 'degree', 'cherish', 'feelings', 'insular', 'city', 'Manhattoes', 'belted', 'wharves', 'isles', 'coral', 'reefs', 'commerce', 'surrounds', 'surf', 'left', 'streets', 'waterward', 'Its', 'extreme', 'downtown', 'battery', 'mole', 'washed', 'cooled', 'breezes', 'hours', 'previous', 'sight', 'Look', 'crowds', 'gazers', 'Circumambulate', 'dreamy', 'Sabbath', 'Go', 'Corlears', 'Hook', 'Coenties', 'Slip', 'thence', 'Whitehall', 'do', '?--', 'Posted', 'silent', 'sentinels', 'town', 'thousands', 'mortal', 'reveries', 'leaning', 'spiles', 'seated', 'pier', 'looking', 'bulwarks', 'China', 'rigging', 'striving', 'still', 'seaward', 'peep', 'landsmen', 'week', 'pent', 'lath', 'plaster', 'counters', 'nailed', 'benches', 'clinched', 'desks', '?', 'Are', 'fields', 'pacing', 'straight', 'seemingly', 'dive', 'Strange', 'Nothing', 'content', 'extremest', 'limit', 'loitering', 'shady', 'yonder', 'suffice', 'just', 'nigh', 'possibly', 'falling', 'leagues', 'Inlanders', 'lanes', 'alleys', 'avenues', 'north', 'east', 'west', 'Yet', 'unite', 'Tell', 'does', 'magnetic', 'virtue', 'needles', 'compasses', 'attract', 'thither', 'Once', 'Say', 'lakes', 'Take', 'ten', 'carries', 'dale', 'leaves', 'pool', 'magic', 'absent', 'minded', 'plunged', 'deepest', 'legs', 'going', 'infallibly', 'Should', 'athirst', 'desert', 'experiment', 'caravan', 'happen', 'supplied', 'metaphysical', 'professor', 'Yes', 'knows', 'meditation', 'wedded', 'artist', 'desires', 'dreamiest', 'shadiest', 'quietest', 'enchanting', 'romantic', 'landscape', 'valley', 'Saco', 'chief', 'employs', 'trees', 'hollow', 'trunk', 'hermit', 'crucifix', 'meadow', 'sleep', 'cattle', 'sleepy', 'smoke', 'Deep', 'distant', 'woodlands', 'winds', 'mazy', 'reaching', 'overlapping', 'spurs', 'mountains', 'bathed', 'blue', 'picture', 'lies', 'thus', 'tranced', 'pine', 'sighs', 'shepherd', 'yet', 'vain', 'unless', 'visit', 'Prairies', 'June', 'scores', 'wade', 'knee', 'Tiger', 'lilies', 'charm', 'wanting', 'Water', 'drop', 'Were', 'Niagara', 'cataract', 'sand', 'travel', 'Why', 'poet', 'Tennessee', 'suddenly', 'receiving', 'handfuls', 'silver', 'deliberate', 'buy', 'sadly', 'needed', 'invest', 'pedestrian', 'trip', 'Rockaway', 'Beach', 'robust', 'healthy', 'boy', 'crazy', 'passenger', 'yourself', 'mystical', 'vibration', 'Persians', 'hold', 'holy', 'Greeks', 'separate', 'deity', 'brother', 'Jove', 'Surely', 'meaning', 'deeper', 'story', 'Narcissus', 'because', 'grasp', 'tormenting', 'mild', 'image', 'fountain', 'drowned', 'ourselves', 'rivers', 'oceans', 'ungraspable', 'phantom', 'key', 'habit', 'begin', 'hazy', 'conscious', 'lungs', 'mean', 'inferred', 'needs', 'rag', 'something', 'Besides', 'passengers', 'sick', 'quarrelsome', 'don', 'nights', 'enjoy', 'general', ';--', 'nor', 'salt', 'Commodore', 'Captain', 'Cook', 'abandon', 'glory', 'distinction', 'offices', 'abominate', 'honourable', 'respectable', 'toils', 'trials', 'tribulations', 'quite', 'care', 'taking', 'barques', 'brigs', 'schooners', 'cook', ',--', 'confess', 'considerable', 'officer', 'broiling', 'fowls', 'broiled', 'judiciously', 'buttered', 'judgmatically', 'salted', 'peppered', 'respectfully', 'reverentially', 'fowl', 'idolatrous', 'dotings', 'Egyptians', 'ibis', 'roasted', 'river', 'mummies', 'bake', 'houses', 'pyramids', 'simple', 'sailor', 'plumb', 'forecastle', 'rather', 'jump', 'spar', 'grasshopper', 'enough', 'touches', 'sense', 'honour', 'particularly', 'established', 'family', 'Van', 'Rensselaers', 'Randolphs', 'Hardicanutes', 'putting', 'tar', 'pot', 'lording', 'schoolmaster', 'tallest', 'boys', 'awe', 'transition', 'keen', 'assure', 'decoction', 'Seneca', 'Stoics', 'enable', 'grin', 'bear', 'hunks', 'orders', 'broom', 'sweep', 'decks', 'indignity', 'amount', 'weighed', 'scales', 'New', 'Testament', 'archangel', 'thinks', 'anything', 'promptly', 'instance', 'Who', 'ain', 'slave', 'Well', 'captains', 'thump', 'punch', 'satisfaction', 'knowing', 'everybody', 'else', 'served', 'physical', 'universal', 'passed', 'rub', 'shoulder', 'blades', 'Again', 'always', 'paying', 'pay', 'single', 'penny', 'heard', 'contrary', 'difference', 'between', 'paid', 'act', 'uncomfortable', 'infliction', 'orchard', 'thieves', 'entailed', 'BEING', 'PAID', 'urbane', 'activity', 'receives', 'really', 'marvellous', 'considering', 'earnestly', 'believe', 'earthly', 'ills', 'monied', 'Ah', 'cheerfully', 'consign', 'perdition', 'Finally', 'wholesome', 'exercise', 'pure', 'fore', 'castle', 'deck', 'prevalent', 'astern', 'violate', 'Pythagorean', 'maxim', 'quarter', 'gets', 'atmosphere', 'second', 'sailors', 'breathes', 'commonalty', 'leaders', 'suspect', 'wherefore', 'repeatedly', 'smelt', 'merchant', 'whaling', 'invisible', 'police', 'Fates', 'constant', 'surveillance', 'secretly', 'dogs', 'influences', 'unaccountable', 'answer', 'formed', 'programme', 'Providence', 'drawn', 'brief', 'interlude', 'solo', 'extensive', 'performances', 'bill', 'GRAND', 'CONTESTED', 'ELECTION', 'PRESIDENCY', 'UNITED', 'STATES', 'ISHMAEL', 'BLOODY', 'AFFGHANISTAN', 'Though', 'tell', 'why', 'exactly', 'managers', 'put', 'shabby', 'magnificent', 'parts', 'tragedies', 'easy', 'genteel', 'comedies', 'jolly', 'farces', 'recall', 'circumstances', 'springs', 'motives', 'cunningly', 'presented', 'various', 'disguises', 'induced', 'performing', 'cajoling', 'delusion', 'choice', 'resulting', 'unbiased', 'freewill', 'discriminating', 'judgment', 'Chief', 'overwhelming', 'idea', 'Such', 'portentous', 'roused', 'Then', 'wild', 'rolled', 'undeliverable', 'nameless', 'perils', 'attending', 'marvels', 'Patagonian', 'sights', 'sounds', 'helped', 'sway', 'inducements', 'tormented', 'everlasting', 'itch', 'remote', 'forbidden', 'barbarous', 'coasts', 'ignoring', 'good', 'quick', 'perceive', 'horror', 'social', 'friendly', 'terms', 'inmates', 'place', 'lodges', 'reason', 'welcome', 'flood', 'gates', 'wonder', 'swung', 'conceits', 'swayed', 'purpose', 'floated', 'inmost', 'endless', 'processions', 'hooded', 'snow', '2', 'Carpet', 'Bag', 'shirt', 'carpet', 'bag', 'tucked', 'started', 'Cape', 'Horn', 'Quitting', 'Manhatto', 'duly', 'arrived', 'Bedford', 'Saturday', 'December', 'Much', 'disappointed', 'learning', 'packet', 'already', 'sailed', 'offer', 'following', 'Monday', 'young', 'candidates', 'penalties', 'stop', 'embark', 'related', 'doing', 'craft', 'fine', 'boisterous', 'connected', 'famous', 'amazingly', 'pleased', 'gradually', 'monopolising', 'business', 'original', 'Tyre', 'Carthage', 'aboriginal', 'Red', 'Men', 'sally', 'canoes', 'chase', 'adventurous', 'sloop', 'forth', 'partly', 'laden', 'imported', 'cobblestones', 'risk', 'harpoon', 'bowsprit', 'another', 'ere', 'destined', 'port', 'became', 'concernment', 'eat', 'meanwhile', 'dubious', 'nay', 'dark', 'dismal', 'bitingly', 'cold', 'cheerless', 'anxious', 'grapnels', 'sounded', 'pocket', 'pieces', 'wherever', 'stood', 'middle', 'dreary', 'shouldering', 'comparing', 'gloom', 'darkness', 'wisdom', 'conclude', 'lodge', 'dear', 'inquire', 'price', 'halting', 'steps', 'paced', 'sign', 'Crossed', 'Harpoons', '\"--', 'looked', 'expensive', 'Further', 'red', 'windows', 'Sword', 'Fish', 'Inn', 'fervent', 'rays', 'melted', 'packed', 'ice', 'house', 'everywhere', 'congealed', 'frost', 'lay', 'inches', 'thick', 'hard', 'asphaltic', 'pavement', 'weary', 'foot', 'flinty', 'projections', 'remorseless', 'service', 'soles', 'boots', 'miserable', 'plight', 'Too', 'watch', 'broad', 'glare', 'tinkling', 'last', 'door', 'patched', 'stopping', 'went', 'instinct', 'followed', 'took', 'cheapest', 'cheeriest', 'inns', 'blocks', 'blackness', 'candle', 'tomb', 'At', 'hour', 'proved', 'deserted', 'presently', 'smoky', 'light', 'proceeding', 'low', 'building', 'invitingly', 'careless', 'meant', 'uses', 'public', 'entering', 'stumble', 'ash', 'box', 'porch', 'Ha', 'ha', 'flying', 'particles', 'choked', 'ashes', 'Gomorrah', '?\"--', 'Trap', 'However', 'picked', 'hearing', 'loud', 'pushed', 'opened', 'interior', 'Black', 'Parliament', 'sitting', 'Tophet', 'black', 'faces', 'turned', 'rows', 'peer', 'beyond', 'Angel', 'Doom', 'pulpit', 'negro', 'church', 'preacher', 'text', 'weeping', 'wailing', 'gnashing', 'muttered', 'backing', 'Wretched', 'entertainment', 'Moving', 'dim', 'docks', 'forlorn', 'creaking', 'swinging', 'painting', 'faintly', 'representing', 'tall', 'jet', 'misty', 'spray', 'words', 'underneath', 'Spouter', ':--', 'Peter', 'Coffin', 'Rather', 'ominous', 'connexion', 'common', 'suppose', 'emigrant', 'quiet', 'dilapidated', 'wooden', 'carted', 'ruins', 'burnt', 'district', 'poverty', 'stricken', 'creak', 'spot', 'cheap', 'lodgings', 'pea', 'coffee', 'gable', 'ended', 'palsied', 'sharp', 'bleak', 'corner', 'tempestuous', 'Euroclydon', 'kept', 'worse', 'howling', 'Paul', 'tossed', 'nevertheless', 'pleasant', 'zephyr', 'doors', 'hob', 'toasting', 'bed', 'judging', 'says', 'writer', 'possess', 'copy', 'extant', 'lookest', 'glass', 'window', 'outside', 'observest', 'sashless', 'both', 'wight', 'Death', 'glazier', 'reasonest', 'mine', 'pity', 'didn', 'chinks', 'crannies', 'thrust', 'lint', 'improvements', 'universe', 'finished', 'copestone', 'chips', 'million', 'Poor', 'Lazarus', 'chattering', 'curbstone', 'pillow', 'shaking', 'tatters', 'shiverings', 'plug', 'ears', 'rags', 'corn', 'cob', 'keep', 'Dives', 'silken', 'wrapper', 'redder', 'afterwards', 'pooh', 'frosty', 'Orion', 'glitters', 'northern', 'lights', 'talk', 'oriental', 'summer', 'climes', 'conservatories', 'privilege', 'coals', 'Can', 'holding', 'Sumatra', 'lengthwise', 'along', 'equator', 'yea', 'gods', 'fiery', 'pit', 'wonderful', 'iceberg', 'moored', 'Moluccas', 'Czar', 'palace', 'frozen', 'president', 'temperance', 'society', 'drinks', 'tepid', 'orphans', 'blubbering', 'plenty', 'scrape', 'frosted', '3', 'Entering', 'straggling', 'entry', 'fashioned', 'wainscots', 'reminding', 'condemned', 'hung', 'oilpainting', 'thoroughly', 'besmoked', 'defaced', 'unequal', 'crosslights', 'viewed', 'diligent', 'study', 'series', 'systematic', 'visits', 'careful', 'inquiry', 'neighbors', 'arrive', 'understanding', 'masses', 'shades', 'shadows', 'ambitious', 'England', 'hags', 'endeavored', 'delineate', 'bewitched', 'dint', 'earnest', 'contemplation', 'oft', 'repeated', 'ponderings', 'throwing', 'conclusion', 'unwarranted', 'puzzled', 'confounded', 'limber', 'hovering', 'centre', 'perpendicular', 'lines', 'yeast', 'boggy', 'soggy', 'squitchy', 'truly', 'drive', 'nervous', 'distracted', 'indefinite', 'attained', 'unimaginable', 'sublimity', 'fairly', 'froze', 'oath', 'Ever', 'anon', 'alas', 'deceptive', '.--', 'midnight', 'unnatural', 'combat', 'primal', 'elements', 'blasted', 'heath', 'Hyperborean', 'winter', 'scene', 'breaking', 'icebound', 'Time', 'fancies', 'yielded', 'midst', 'THAT', 'rest', 'plain', 'faint', 'resemblance', 'gigantic', 'leviathan', 'fact', 'design', 'final', 'theory', 'based', 'aggregated', 'opinions', 'aged', 'conversed', 'subject', 'represents', 'Horner', 'hurricane', 'foundered', 'weltering', 'dismantled', 'visible', 'exasperated', 'purposing', 'spring', 'clean', 'impaling', 'opposite', 'wall', 'heathenish', 'array', 'clubs', 'spears', 'thickly', 'glittering', 'resembling', 'ivory', 'tufted', 'knots', 'human', 'hair', 'sickle', 'shaped', 'handle', 'sweeping', 'segment', 'mown', 'grass', 'mower', 'You', 'shuddered', 'gazed', 'wondered', 'cannibal', 'savage', 'harvesting', 'hacking', 'horrifying', 'implement', 'Mixed', 'rusty', 'lances', 'harpoons', 'broken', 'deformed', 'wildly', 'elbowed', 'Nathan', 'Swain', 'sunset', 'corkscrew', 'flung', 'Javan', 'slain', 'Blanco', 'iron', 'entered', 'needle', 'sojourning', 'travelled', 'imbedded', 'hump', 'Crossing', 'dusky', 'yon', 'times', 'central', 'chimney', 'fireplaces', 'room', 'duskier', 'beams', 'wrinkled', 'planks', 'fancy', 'trod', 'cockpits', 'anchored', 'ark', 'rocked', 'furiously', 'shelf', 'table', 'cracked', 'cases', 'filled', 'dusty', 'rarities', 'gathered', 'remotest', 'nooks', 'Projecting', 'further', 'angle', 'stands', 'den', 'bar', 'rude', 'attempt', 'Be', 'coach', 'Within', 'shelves', 'ranged', 'decanters', 'bottles', 'flasks', 'swift', 'cursed', 'indeed', 'bustles', 'withered', 'dearly', 'sells', 'deliriums', 'Abominable', 'tumblers', 'pours', 'poison', 'cylinders', 'villanous', 'goggling', 'deceitfully', 'tapered', 'downwards', 'cheating', 'bottom', 'Parallel', 'meridians', 'rudely', 'pecked', 'surround', 'footpads', 'goblets', 'Fill', 'THIS', 'mark', 'measure', 'shilling', 'Upon', 'number', 'seamen', 'examining', 'divers', 'specimens', 'SKRIMSHANDER', 'sought', 'landlord', 'telling', 'desired', 'accommodated', 'unoccupied', 'avast', 'added', 'tapping', 'forehead', 'haint', 'objections', 'sharing', 'blanket', 'pose', 'goin', 'whalin', \"',\", 'used', 'liked', 'depend', 'decidedly', 'objectionable', 'wander', 'strange', 'bitter', 'decent', 'All', 'seat', 'Supper', 'want', 'supper', 'll', 'ready', 'settle', 'carved', 'bench', 'Battery', 'end', 'ruminating', 'adorning', 'jack', 'knife', 'stooping', 'diligently', 'working', 'space', 'trying', 'headway', 'five', 'summoned', 'meal', 'adjoining', 'Iceland', 'couldn', 'tallow', 'candles', 'winding', 'sheet', 'fain', 'button', 'monkey', 'jackets', 'lips', 'cups', 'scalding', 'tea', 'fingers', 'substantial', 'meat', 'potatoes', 'dumplings', 'addressed', 'direful', 'nightmare', 'sartainty', 'Landlord', 'whispered', 'aint', 'diabolically', 'funny', 'complexioned', 'chap', 'eats', 'steaks', 'likes', 'em', 'Is', 'afore', 'help', 'began', 'suspicious', 'rate', 'undress', 'company', 'resolved', 'spend', 'evening', 'looker', 'Presently', 'rioting', 'Starting', 'cried', 'Grampus', 'seed', 'reported', 'offing', 'morning', 'Hurrah', 'latest', 'news', 'Feegees', 'tramping', 'mariners', 'Enveloped', 'shaggy', 'coats', 'muffled', 'woollen', 'comforters', 'bedarned', 'ragged', 'beards', 'stiff', 'icicles', 'eruption', 'bears', 'Labrador', 'landed', 'officiating', 'poured', 'brimmers', 'complained', 'bad', 'mixed', 'pitch', 'potion', 'gin', 'molasses', 'swore', 'sovereign', 'cure', 'colds', 'catarrhs', 'standing', 'weather', 'liquor', 'mounted', 'arrantest', 'topers', 'newly', 'capering', 'obstreperously', 'held', 'somewhat', 'aloof', 'desirous', 'spoil', 'hilarity', 'shipmates', 'sober', 'face', 'whole', 'refrained', 'interested', 'ordained', 'become', 'shipmate', 'sleeping', 'partner', 'narrative', 'concerned', 'description', 'height', 'chest', 'coffer', 'dam', 'brawn', 'His', 'deeply', 'brown', 'dazzling', 'contrast', 'reminiscences', 'announced', 'Southerner', 'stature', 'mountaineers', 'Alleghanian', 'Ridge', 'Virginia', 'When', 'revelry', 'companions', 'slipped', 'unobserved', 'comrade', 'minutes', 'missed', 'favourite', 'raised', 'cry', 'Bulkington', 'darted', 'clock', 'seeming', 'supernaturally', 'orgies', 'congratulate', 'plan', 'entrance', 'prefers', 'know', 'private', 'comes', 'unknown', 'stranger', 'inn', 'indefinitely', 'multiply', 'Nor', 'anybody', 'bachelor', 'Kings', 'apartment', 'hammock', 'cover', 'skin', 'pondered', 'abominated', 'fair', 'presume', 'linen', 'tidiest', 'certainly', 'none', 'finest', 'twitch', 'getting', 'ought', 'bedwards', 'Suppose', 'tumble', 'vile', 'hole', 've', 'changed', 'shan', 'Just', 'm', 'sorry', 'cant', 'spare', 'tablecloth', 'mattress', 'plaguy', 'rough', 'feeling', 'notches', 'wait', 'Skrimshander', 'got', 'carpenter', 'plane', 'snug', 'saying', 'procured', 'silk', 'vigorously', 'planing', 'grinning', 'ape', 'shavings', 'flew', 'bump', 'indestructible', 'knot', 'spraining', 'wrist', 'sake', 'quit', 'soft', 'suit', 'eider', 'plank', 'gathering', 'mended', 'chair', 'narrow', 'higher', 'planed', 'yoking', 'interval', 'draught', 'sill', 'current', 'rickety', 'met', 'small', 'whirlwinds', 'immediate', 'fetch', 'steal', 'march', 'bolt', 'inside', 'wakened', 'violent', 'knockings', 'thoughts', 'dismissed', 'next', 'popped', 'knock', 'Still', 'seeing', 'spending', 'sufferable', 'person', 'cherishing', 'unwarrantable', 'prejudices', 'Thinks', 'awhile', 'dropping', 'bedfellows', 'boarders', 'ones', 'twos', 'threes', 'chuckled', 'lean', 'chuckle', 'mightily', 'tickled', 'comprehension', 'early', 'airley', 'rise', 'yes', 'catches', 'peddling', 'airth', 'keeps', 'sell', 'bamboozingly', 'towering', 'rage', 'pretend', 'actually', 'blessed', 'Sunday', 'market', 'overstocked', 'shouted', 'calmly', 'spinning', 'yarn', 'stick', 'whittling', 'toothpick', 'rayther', 'guess', 'done', 'BROWN', 'hears', 'slanderin', 'break', 'passion', 'farrago', 'broke', 'Broke', 'BROKE', 'Sartain', 'cool', 'Mt', 'Hecla', 'understand', 'delay', 'belongs', 'persist', 'mystifying', 'exasperating', 'stories', 'tending', 'beget', 'bedfellow', 'intimate', 'confidential', 'highest', 'demand', 'respects', 'safe', 'unsay', 'selling', 'evidence', 'stark', 'mad', 'madman', 'YOU', 'induce', 'knowingly', 'thereby', 'render', 'liable', 'criminal', 'prosecution', 'Wall', 'fetching', 'purty', 'sarmon', 'rips', 'tellin', 'bought', 'lot', 'balmed', 'Zealand', 'curios', 'sold', 'cause', 'morrow', 'sellin', 'folks', 'churches', 'wanted', 'stopped', 'strung', 'string', 'inions', 'cleared', 'otherwise', 'mystery', 'showed', 'fooling', 'stayed', 'idolators', 'Depend', 'pays', 'reg', 'lar', 'rejoinder', 'flukes', 'nice', 'Sal', 'slept', 'spliced', 'kick', 'almighty', 'big', 'Sam', 'Johnny', 'dreaming', 'sprawling', 'pitched', 'floor', 'Arter', 'wouldn', 'Come', 'glim', 'jiffy', ';\"', 'lighted', 'offering', 'irresolute', 'vum', 'won', 'anchor', 'somewhere', 'DO', 'WON', 'considered', 'stairs', 'ushered', 'clam', 'furnished', 'prodigious', 'abreast', 'placing', 'double', 'duty', 'wash', 'comfortable', 'eyeing', 'disappeared', 'Folding', 'counterpane', 'stooped', 'elegant', 'scrutiny', 'tolerably', 'glanced', 'bedstead', 'furniture', 'belonging', 'walls', 'papered', 'fireboard', 'Of', 'properly', 'lashed', 'seaman', 'containing', 'wardrobe', 'lieu', 'Likewise', 'parcel', 'outlandish', 'hooks', 'felt', 'tried', 'satisfactory', 'concerning', 'mat', 'ornamented', 'edges', 'tags', 'stained', 'porcupine', 'quills', 'moccasin', 'slit', 'South', 'ponchos', 'parade', 'guise', 'hamper', 'uncommonly', 'wearing', 'rainy', 'stuck', 'tore', 'hurry', 'gave', 'kink', 'neck', 'commenced', 'thinking', 'After', 'jacket', 'sleeves', 'beginning', 'undressed', 'remembering', 'ado', 'jumped', 'pantaloons', 'blowing', 'tumbled', 'commended', 'Whether', 'cobs', 'crockery', 'slid', 'doze', 'Nod', 'heavy', 'footfall', 'glimmer', 'save', 'infernal', 'peddler', 'perfectly', 'spoken', 'Holding', 'identical', 'knotted', 'cords', 'spoke', 'eagerness', 'averted', 'employed', 'unlacing', 'accomplished', 'purplish', 'yellow', 'blackish', 'squares', 'terrible', 'fight', 'dreadfully', 'surgeon', 'chanced', 'sticking', 'plasters', 'cheeks', 'stains', 'inkling', 'truth', 'remembered', 'whaleman', 'cannibals', 'tattooed', 'concluded', 'course', 'similar', 'adventure', 'honest', 'unearthly', 'complexion', 'lying', 'completely', 'independent', 'tattooing', 'tropical', 'tanning', 'hot', 'sun', 'Seas', 'produced', 'extraordinary', 'effects', 'ideas', 'passing', 'noticed', 'difficulty', 'fumbling', 'pulled', 'tomahawk', 'seal', 'wallet', 'Placing', 'ghastly', 'crammed', 'hat', 'beaver', 'singing', 'surprise', 'scalp', 'twisted', 'bald', 'mildewed', 'skull', 'bolted', 'quicker', 'dinner', 'Even', 'slipping', 'coward', 'purple', 'rascal', 'Ignorance', 'parent', 'nonplussed', 'game', 'inexplicable', 'Meanwhile', 'continued', 'undressing', 'arms', 'live', 'checkered', 'Thirty', 'Years', 'War', 'escaped', 'marked', 'frogs', 'running', 'trunks', 'palms', 'abominable', 'shipped', 'aboard', 'quaked', 'brothers', 'shuddering', 'fascinated', 'attention', 'convinced', 'heathen', 'Going', 'grego', 'wrapall', 'dreadnaught', 'previously', 'fumbled', 'pockets', 'curious', 'hunch', 'Congo', 'baby', 'Remembering', 'embalmed', 'manikin', 'real', 'glistened', 'polished', 'ebony', 'idol', 'removing', 'sets', 'backed', 'tenpin', 'andirons', 'jambs', 'bricks', 'sooty', 'appropriate', 'shrine', 'chapel', 'screwed', 'hidden', 'ill', 'ease', 'meantime', 'follow', 'First', 'takes', 'handful', 'places', 'carefully', 'biscuit', 'top', 'applying', 'flame', 'lamp', 'kindled', 'sacrificial', 'blaze', 'hasty', 'snatches', 'hastier', 'withdrawals', 'whereby', 'scorching', 'badly', 'succeeded', 'drawing', 'heat', 'polite', 'dry', 'moved', 'antics', 'accompanied', 'guttural', 'noises', 'devotee', 'praying', 'song', 'pagan', 'psalmody', 'during', 'twitched', 'extinguishing', 'unceremoniously', 'bagged', 'carelessly', 'sportsman', 'bagging', 'woodcock', 'proceedings', 'increased', 'uncomfortableness', 'exhibiting', 'symptoms', 'concluding', 'operations', 'jumping', 'spell', 'spent', 'deliberating', 'fatal', 'Taking', 'examined', 'puffed', 'clouds', 'tobacco', 'extinguished', 'sprang', 'sang', 'giving', 'sudden', 'grunt', 'Stammering', 'conjured', 'whoever', 'responses', 'satisfied', 'comprehended', 'e', 'debel', 'flourishing', 'Watch', 'Angels', 'Speak', 'ee', 'growled', 'flourishings', 'scattered', 'thank', 'ran', 'Don', 'Queequeg', 'harm', 'Stop', 'peddlin', 'sabbee', 'sleepe', 'Me', 'grunted', 'puffing', 'gettee', 'motioning', 'clothes', 'civil', 'charitable', 'tattooings', 'comely', 'fuss', 'Better', 'drunken', 'stash', 'call', 'smoking', 'insured', 'complied', 'politely', 'motioned', 'touch', 'leg', 'Good', '4', 'Counterpane', 'waking', 'daylight', 'loving', 'affectionate', 'wife', 'patchwork', 'odd', 'parti', 'coloured', 'triangles', 'interminable', 'Cretan', 'labyrinth', 'figure', 'precise', 'shade', 'owing', 'keeping', 'unmethodically', 'irregularly', 'strip', 'quilt', 'Indeed', 'awoke', 'hardly', 'blended', 'hues', 'pressure', 'hugging', 'sensations', 'explain', 'child', 'remember', 'circumstance', 'befell', 'reality', 'dream', 'cutting', 'caper', 'crawl', 'stepmother', 'whipping', 'sending', 'supperless', 'mother', 'dragged', '21st', 'longest', 'hemisphere', 'third', 'sigh', 'sheets', 'dismally', 'calculating', 'sixteen', 'entire', 'elapse', 'hope', 'resurrection', 'Sixteen', 'ached', 'shining', 'rattling', 'coaches', 'sound', 'voices', 'dressed', 'softly', 'stockinged', 'beseeching', 'favour', 'slippering', 'misbehaviour', 'condemning', 'abed', 'unendurable', 'conscientious', 'stepmothers', 'several', 'awake', 'greatest', 'subsequent', 'misfortunes', 'fallen', 'troubled', 'steeped', 'dreams', 'lit', 'wrapped', 'outer', 'Instantly', 'shock', 'frame', 'supernatural', 'closely', 'ages', 'piled', 'awful', 'fears', 'daring', 'drag', 'stir', 'inch', 'consciousness', 'glided', 'shudderingly', 'weeks', 'months', 'confounding', 'attempts', 'Nay', 'often', 'puzzle', 'strangeness', 'experienced', 'past', 'events', 'soberly', 'recurred', 'alive', 'comical', 'predicament', 'move', 'unlock', 'bridegroom', 'clasp', 'hugged', 'tightly', 'naught', 'twain', 'strove', 'rouse', '!\"--', 'snore', 'collar', 'slight', 'scratch', 'Throwing', 'aside', 'hatchet', 'faced', 'pickle', '!--', 'goodness', 'wriggling', 'incessant', 'expostulations', 'unbecomingness', 'matrimonial', 'style', 'extracting', 'drew', 'shook', 'Newfoundland', 'dog', 'pike', 'staff', 'rubbing', 'dawning', 'serious', 'misgivings', 'bent', 'narrowly', 'creature', 'character', 'reconciled', 'signs', 'dress', 'leave', 'civilized', 'overture', 'innate', 'delicacy', 'essentially', 'compliment', 'treated', 'civility', 'guilty', 'rudeness', 'staring', 'watching', 'toilette', 'motions', 'breeding', 'Nevertheless', 'ways', 'worth', 'unusual', 'regarding', 'dressing', 'donning', 'minus', 'trowsers', 'hunted', 'movement', 'crush', 'sundry', 'gaspings', 'strainings', 'booting', 'law', 'propriety', 'required', 'neither', 'caterpillar', 'butterfly', 'show', 'outlandishness', 'strangest', 'manners', 'education', 'completed', 'undergraduate', 'dreamt', 'dented', 'crushed', 'limping', 'accustomed', 'cowhide', 'pinched', 'Seeing', 'curtains', 'commanded', 'indecorous', 'staving', 'begged', 'accelerate', 'toilet', 'amazement', 'contented', 'restricting', 'ablutions', 'donned', 'waistcoat', 'piece', 'soap', 'dipped', 'lathering', 'razor', 'lo', 'behold', 'slips', 'stock', 'unsheathes', 'whets', 'boot', 'striding', 'mirror', 'begins', 'vigorous', 'scraping', 'harpooning', 'using', 'Rogers', 'cutlery', 'vengeance', 'Afterwards', 'operation', 'exceedingly', 'achieved', 'proudly', 'marched', 'pilot', 'marshal', 'baton', '5', 'Breakfast', 'quickly', 'descending', 'accosted', 'pleasantly', 'cherished', 'malice', 'skylarking', 'laugh', 'scarce', 'proper', 'stuff', 'joke', 'backward', 'allow', 'bountifully', 'laughable', 'mates', 'carpenters', 'coopers', 'blacksmiths', 'keepers', 'brawny', 'bosky', 'unshorn', 'gowns', 'cheek', 'toasted', 'pear', 'hue', 'musky', 'looks', 'lighter', 'satin', 'lingers', 'tropic', 'tawn', 'slightly', 'bleached', 'withal', 'HE', 'tarried', 'barred', 'tints', 'Andes', 'western', 'slope', 'contrasting', 'climates', 'zone', 'Grub', 'ho', 'flinging', 'breakfast', 'Ledyard', 'traveller', 'Mungo', 'Park', 'Scotch', 'assurance', 'parlor', 'crossing', 'Siberia', 'sledge', 'solitary', 'walk', 'stomach', 'Africa', 'sum', 'mode', 'attaining', 'polish', 'anywhere', 'reflections', 'occasioned', 'preparing', 'maintained', 'profound', 'silence', 'embarrassed', 'slightest', 'bashfulness', 'boarded', 'strangers', 'duelled', 'winking', 'calling', 'kindred', 'tastes', 'sheepishly', 'sheepfold', 'Green', 'Mountains', 'bashful', 'timid', 'warrior', 'icicle', 'admirer', 'cordially', 'justified', 'ceremony', 'imminent', 'jeopardy', 'grappling', 'beefsteaks', 'coolly', 'estimation', 'genteelly', 'peculiarities', 'eschewed', 'applied', 'undivided', 'Enough', 'withdrew', 'digesting', 'inseparable', 'sallied', 'stroll', '6', 'Street', 'astonished', 'glimpse', 'individual', 'circulating', 'thoroughfares', 'seaport', 'queerest', 'nondescripts', 'foreign', 'Broadway', 'Chestnut', 'Mediterranean', 'jostle', 'affrighted', 'ladies', 'Regent', 'Lascars', 'Malays', 'Bombay', 'Apollo', 'Yankees', 'scared', 'natives', 'beats', 'Wapping', 'mentioned', 'actual', 'chatting', 'corners', 'outright', 'unholy', 'flesh', 'makes', 'stare', 'Feegeeans', 'Tongatobooarrs', 'Erromanggoans', 'Pannangians', 'Brighggians', 'unheeded', 'reel', 'weekly', 'Vermonters', 'Hampshire', 'gain', 'fishery', 'mostly', 'stalwart', 'frames', 'fellows', 'felled', 'forests', 'seek', 'axe', 'snatch', 'Many', 'whence', 'strutting', 'tailed', 'girdled', 'belt', 'sheath', 'sou', \"'-\", 'wester', 'bombazine', 'cloak', 'dandy', 'downright', 'bumpkin', 'mow', 'buckskin', 'gloves', 'distinguished', 'reputation', 'joins', 'bespeaking', 'outfit', 'bell', 'buttons', 'waistcoats', 'straps', 'canvas', 'Hay', 'Seed', 'bitterly', 'burst', 'throat', 'tempest', 'bumpkins', 'visitors', 'tract', 'condition', 'frighten', 'bony', 'dearest', 'Canaan', 'milk', 'pave', 'eggs', 'spite', 'nowhere', 'America', 'patrician', 'parks', 'gardens', 'opulent', 'Whence', 'planted', 'scraggy', 'scoria', 'gaze', 'emblematical', 'lofty', 'mansion', 'question', 'brave', 'flowery', 'hither', 'Herr', 'Alexander', 'perform', 'feat', 'fathers', 'dowers', 'daughters', 'nieces', 'porpoises', 'brilliant', 'wedding', 'reservoirs', 'recklessly', 'burn', 'lengths', 'spermaceti', 'sweet', 'maples', 'gold', 'August', 'beautiful', 'bountiful', 'chestnuts', 'candelabra', 'wise', 'proffer', 'passer', 'tapering', 'cones', 'congregated', 'blossoms', 'omnipotent', 'superinduced', 'terraces', 'flowers', 'barren', 'refuse', 'rocks', 'women', 'bloom', 'roses', 'carnation', 'perennial', 'sunlight', 'seventh', 'Elsewhere', 'match', 'theirs', 'Salem', 'girls', 'breathe', 'musk', 'sweethearts', 'odorous', 'instead', 'Puritanic', 'sands', '7', 'Chapel', 'Whaleman', 'moody', 'shortly', 'Returning', 'errand', 'sky', 'sunny', 'sleet', 'mist', 'Wrapping', 'cloth', 'bearskin', 'fought', 'stubborn', 'congregation', 'wives', 'widows', 'reigned', 'shrieks', 'Each', 'worshipper', 'purposely', 'apart', 'grief', 'incommunicable', 'chaplain', 'steadfastly', 'marble', 'tablets', 'borders', 'masoned', 'quote', 'SACRED', 'MEMORY', 'TALBOT', 'age', 'eighteen', 'overboard', 'Near', 'Isle', 'Desolation', 'Patagonia', '1st', '1836', 'TABLET', 'erected', 'Memory', 'SISTER', '_____________', 'ROBERT', 'LONG', 'WILLIS', 'ELLERY', 'NATHAN', 'COLEMAN', 'WALTER', 'CANNY', 'SETH', 'GLEIG', 'Forming', 'ELIZA', 'towed', 'Off', 'Ground', '31st', 'MARBLE', 'surviving', 'SHIPMATES', 'EZEKIEL', 'HARDY', 'bows', 'Japan', 'AUGUST', '3d', '1833', 'WIDOW', 'Shaking', 'glazed', 'sideways', 'surprised', 'Affected', 'solemnity', 'wondering', 'incredulous', 'countenance', 'present', 'notice', 'read', 'therefore', 'reading', 'frigid', 'inscriptions', 'relatives', 'unrecorded', 'accidents', 'wear', 'trappings', 'unceasing', 'assembled', 'unhealing', 'sympathetically', 'caused', 'wounds', 'bleed', 'afresh', 'buried', 'HERE', 'beloved', 'desolation', 'broods', 'bosoms', 'blanks', 'bordered', 'marbles', 'despair', 'immovable', 'deadly', 'voids', 'unbidden', 'infidelities', 'gnaw', 'Faith', 'resurrections', 'beings', 'placelessly', 'perished', 'grave', 'cave', 'Elephanta', 'census', 'mankind', 'included', 'proverb', 'tales', 'secrets', 'Goodwin', 'Sands', 'yesterday', 'prefix', 'significant', 'infidel', 'entitle', 'embarks', 'Indies', 'Life', 'Insurance', 'Companies', 'forfeitures', 'immortals', 'eternal', 'unstirring', 'paralysis', 'trance', 'antique', 'Adam', 'died', 'centuries', 'comforted', 'maintain', 'dwelling', 'unspeakable', 'bliss', 'strive', 'hush', 'rumor', 'meanings', 'jackal', 'feeds', 'tombs', 'doubts', 'gathers', 'vital', 'scarcely', 'eve', 'murky', 'darkened', 'doleful', 'fate', 'thine', 'grew', 'merry', 'Delightful', 'promotion', 'aye', 'immortal', 'brevet', 'speechlessly', 'chaotic', 'bundling', 'Eternity', 'Methinks', 'hugely', 'mistaken', 'shadow', 'substance', 'spiritual', 'oysters', 'thinnest', 'lees', 'cheers', 'stave', '8', 'Pulpit', 'venerable', 'robustness', 'pelted', 'admitting', 'regardful', 'sufficiently', 'attested', 'Father', 'Mapple', 'youth', 'dedicated', 'ministry', 'hardy', 'merging', 'flowering', 'fissures', 'wrinkles', 'gleams', 'developing', 'verdure', 'peeping', 'February', 'history', 'utmost', 'engrafted', 'clerical', 'imputable', 'maritime', 'led', 'carried', 'umbrella', 'carriage', 'tarpaulin', 'melting', 'absorbed', 'overshoes', 'removed', 'adjacent', 'arrayed', 'approached', 'pulpits', 'seriously', 'contract', 'area', 'architect', 'acted', 'hint', 'substituting', 'ladder', 'mounting', 'provided', 'handsome', 'worsted', 'ropes', 'nicely', 'headed', 'mahogany', 'contrivance', 'means', 'taste', 'Halting', 'grasping', 'ornamental', 'knobs', 'cast', 'upwards', 'reverential', 'dexterity', 'ascending', 'usually', 'rounds', 'step', 'joint', 'joints', 'unnecessary', 'gaining', 'deposited', 'impregnable', 'Quebec', 'fully', 'comprehending', 'enjoyed', 'sincerity', 'sanctity', 'courting', 'notoriety', 'tricks', 'furthermore', 'symbolize', 'unseen', 'isolation', 'signifies', 'withdrawal', 'outward', 'worldly', 'ties', 'connexions', 'replenished', 'faithful', 'stronghold', 'Ehrenbreitstein', 'feature', 'borrowed', 'farings', 'Between', 'cenotaphs', 'adorned', 'gallant', 'snowy', 'breakers', 'scud', 'isle', 'beamed', 'angel', 'shed', 'distinct', 'radiance', 'plate', 'inserted', 'Victory', 'Nelson', 'beat', 'helm', 'serenest', 'azure', 'trace', 'panelled', 'likeness', 'bluff', 'Holy', 'Bible', 'rested', 'projecting', 'scroll', 'fiddle', 'beak', 'foremost', 'leads', 'From', 'wrath', 'descried', 'earliest', 'brunt', 'invoked', 'favourable', 'complete', 'prow', '9', 'Sermon', 'rose', 'unassuming', 'authority', 'ordered', 'condense', 'Starboard', 'gangway', 'larboard', 'starboard', 'Midships', 'midships', 'rumbling', 'slighter', 'shuffling', 'shoes', 'paused', 'kneeling', 'folded', 'across', 'uplifted', 'closed', 'offered', 'prayer', 'devout', 'prolonged', 'solemn', 'tones', 'continual', 'tolling', 'foundering', 'fog', 'hymn', 'changing', 'stanzas', 'pealing', 'exultation', 'terrors', 'Arched', 'lift', 'deepening', 'doom', 'opening', 'maw', 'sorrows', 'plunging', 'distress', 'bowed', 'ear', 'complaints', 'confine', 'speed', 'relief', 'radiant', 'dolphin', 'borne', 'Awful', 'Deliverer', 'record', 'joyful', 'mercy', 'power', 'Nearly', 'joined', 'swelled', 'pause', 'ensued', 'folding', 'page', 'Beloved', 'clinch', 'verse', 'chapter', \"--'\", '.\\'\"', 'Shipmates', 'chapters', 'yarns', 'smallest', 'strands', 'cable', 'Scriptures', 'depths', 'sealine', 'pregnant', 'lesson', 'canticle', 'billow', 'boisterously', 'floods', 'surging', 'kelpy', 'waters', 'weed', 'slime', 'WHAT', 'teaches', 'sinful', 'sin', 'heartedness', 'awakened', 'punishment', 'repentance', 'prayers', 'finally', 'deliverance', 'sinners', 'son', 'Amittai', 'wilful', 'disobedience', 'command', 'conveyed', 'hence', 'oftener', 'commands', 'endeavors', 'persuade', 'disobey', 'disobeying', 'wherein', 'hardness', 'obeying', 'consists', 'flouts', 'seeking', 'flee', 'Him', 'countries', 'reign', 'Captains', 'skulks', 'Joppa', 'seeks', 'Tarshish', 'lurks', 'hitherto', 'accounts', 'Cadiz', 'opinion', 'Because', 'Jaffa', 'easterly', 'Syrian', 'westward', 'Straits', 'Gibraltar', 'See', 'Miserable', 'worthy', 'scorn', 'slouched', 'skulking', 'prowling', 'shipping', 'burglar', 'hastening', 'cross', 'disordered', 'policemen', 'suspicion', 'wrong', 'arrested', 'touched', 'fugitive', 'baggage', 'valise', 'accompany', 'wharf', 'adieux', 'dodging', 'search', 'finds', 'items', 'cargo', 'cabin', 'desist', 'hoisting', 'goods', 'evil', 'sees', 'tries', 'confidence', 'essays', 'wretched', 'smile', 'Strong', 'intuitions', 'innocent', 'gamesome', 'whispers', 'Jack', 'robbed', 'widow', 'Joe', 'bigamist', 'Harry', 'lad', 'adulterer', 'jail', 'belike', 'missing', 'murderers', 'Sodom', 'Another', 'runs', 'spile', 'coins', 'apprehension', 'parricide', 'reads', 'sympathetic', 'crowd', 'Frighted', 'trembles', 'summoning', 'suspected', 'advertised', 'pass', 'descends', \"?'\", 'cries', 'busy', 'desk', 'hurriedly', 'Customs', 'harmless', 'mangles', 'turns', 'rallies', 'Thus', 'sooner', 'darts', 'scrutinizing', 'glance', 'tide', \",'\", 'intently', \"?'--'\", \".'\", 'stab', 'swiftly', 'calls', 'scent', \",'--\", \",--'\", 'written', 'overlooked', 'thereof', 'context', 'discernment', 'detects', 'crime', 'cupidity', 'exposes', 'penniless', 'freely', 'passport', 'Virtue', 'pauper', 'frontiers', 'prepares', 'test', 'judge', 'openly', 'charges', 'thrice', 'usual', 'assented', 'resolves', 'flight', 'paves', 'prudent', 'suspicions', 'molest', 'rings', 'coin', 'counterfeit', 'forger', 'mutters', 'Point', 'state', 'need', 'thy', 'enters', 'lock', 'contains', 'Hearing', 'foolishly', 'laughs', 'convicts', 'cells', 'allowed', 'locked', 'berth', 'ceiling', 'resting', 'gasps', 'contracted', 'sunk', 'feels', 'heralding', 'presentiment', 'stifling', 'bowels', 'wards', 'Screwed', 'axis', 'oscillates', 'heeling', 'bales', 'maintains', 'permanent', 'obliquity', 'reference', 'obvious', 'false', 'levels', 'alarms', 'frightens', 'successful', 'refuge', 'contradiction', 'appals', 'awry', 'conscience', 'hangs', 'groans', 'burns', 'chambers', 'crookedness', 'hies', 'reeling', 'pricking', 'plungings', 'Roman', 'race', 'giddy', 'anguish', 'annihilation', 'until', 'fit', 'amid', 'whirl', 'woe', 'stupor', 'steals', 'bleeds', 'staunch', 'wrestlings', 'prodigy', 'misery', 'drags', 'drowning', 'casts', 'cables', 'uncheered', 'careening', 'glides', 'recorded', 'smugglers', 'contraband', 'rebels', 'wicked', 'burden', 'boatswain', 'lighten', 'boxes', 'jars', 'clattering', 'shrieking', 'yelling', 'thunders', 'trampling', 'raging', 'tumult', 'hideous', 'timbers', 'heeds', 'rush', 'cleaving', 'Aye', 'fast', 'asleep', 'frightened', 'meanest', 'O', 'sleeper', 'arise', 'Startled', 'lethargy', 'staggers', 'stumbling', 'grasps', 'shroud', 'sprung', 'panther', 'Wave', 'leaps', 'finding', 'speedy', 'vent', 'aft', 'afloat', 'moon', 'shows', 'steep', 'gullies', 'overhead', 'aghast', 'rearing', 'upward', 'downward', 'Terrors', 'shouting', 'cringing', 'attitudes', 'referring', 'Heaven', 'fall', 'casting', 'lots', 'discovered', 'mob', 'questions', 'occupation', 'comest', 'Thy', 'behavior', 'eager', 'ask', 'receive', 'likewise', 'unsolicited', 'Hebrew', 'hath', 'Fear', 'mightest', 'THEN', 'Straightway', 'confession', 'whereupon', 'appalled', 'pitiful', 'supplicating', 'deserts', 'mercifully', 'indignant', 'howls', 'louder', 'invokingly', 'unreluctantly', 'dropped', 'instantly', 'oily', 'calmness', 'floats', 'smooth', 'whirling', 'masterless', 'commotion', 'drops', 'seething', 'yawning', 'awaiting', 'shoots', 'bolts', 'prison', 'prayed', 'unto', 'observe', 'learn', 'weighty', 'weep', 'wail', 'direct', 'contenting', 'pangs', 'temple', 'clamorous', 'pardon', 'grateful', 'pleasing', 'conduct', 'shown', 'eventual', 'copied', 'model', 'Sin', 'heed', 'repent', 'speaking', 'slanting', 'add', 'describing', 'heaved', 'ground', 'swell', 'warring', 'swarthy', 'brow', 'hearers', 'lull', 'silently', 'Book', 'motionless', 'communing', 'leaned', 'bowing', 'aspect', 'manliest', 'humility', 'spake', 'press', 'greater', 'sinner', 'gladly', 'hatches', 'listen', 'ME', 'anointed', 'speaker', 'bidden', 'unwelcome', 'truths', 'Nineveh', 'hostility', 'raise', 'fled', 'mission', 'escape', 'reached', 'gulfs', 'slantings', 'eddying', 'sucked', 'fathoms', 'weeds', 'bowled', 'reach', 'plummet', \"'--\", 'engulphed', 'repenting', 'breeching', 'delights', 'vomited', \";'\", 'bruised', 'beaten', 'shells', 'multitudinously', 'murmuring', 'Almighty', 'bidding', 'preach', 'Truth', 'Falsehood', 'slights', 'Woe', 'charms', 'Gospel', 'pour', 'brewed', 'appal', 'courts', 'dishonour', 'salvation', 'Yea', 'Pilot', 'preaching', 'castaway', 'lifting', 'heavenly', 'enthusiasm', ',--\"', 'oh', 'delight', 'truck', 'kelson', 'Delight', 'proud', 'commodores', 'inexorable', 'support', 'base', 'treacherous', 'gives', 'kills', 'destroys', 'pluck', 'robes', 'Senators', 'Judges', 'acknowledges', 'lord', 'patriot', 'billows', 'shake', 'Keel', 'Ages', 'deliciousness', 'chiefly', 'rod', 'die', 'striven', 'Thine', 'eternity', 'Thee', 'lifetime', 'waving', 'benediction', 'remained', 'Bosom', 'Friend', 'hearth', 'peering', 'gently', 'nose', 'humming', 'interrupted', 'lap', 'counting', 'pages', 'regularity', 'fiftieth', 'vacantly', 'utterance', 'gurgling', 'whistle', 'commence', 'count', 'fifties', 'multitude', 'Savage', 'hideously', 'marred', 'disagreeable', 'hide', 'Through', 'traces', 'tokens', 'spirit', 'dare', 'devils', 'bearing', 'Pagan', 'uncouthness', 'maim', 'cringed', 'creditor', 'shaved', 'freer', 'brighter', 'expansive', 'decide', 'phrenologically', 'excellent', 'ridiculous', 'General', 'Washington', 'popular', 'busts', 'regularly', 'graded', 'retreating', 'brows', 'promontories', 'wooded', 'George', 'cannibalistically', 'developed', 'Whilst', 'pretending', 'casement', 'heeded', 'presence', 'wholly', 'occupied', 'Considering', 'sociably', 'indifference', 'overawing', 'collectedness', 'simplicity', 'Socratic', 'consorted', 'advances', 'desire', 'enlarge', 'circle', 'acquaintances', 'singular', 'sublime', 'twenty', 'planet', 'Jupiter', 'preserving', 'serenity', 'companionship', 'philosophy', 'philosophers', 'mortals', 'philosopher', 'dyspeptic', 'woman', 'digester', 'lonely', 'burning', 'intensity', 'warmed', 'glows', 'phantoms', 'casements', 'booming', 'swells', 'sensible', 'maddened', 'wolfish', 'soothing', 'redeemed', 'lurked', 'hypocrisies', 'bland', 'deceits', 'Wild', 'mysteriously', 'repelled', 'magnets', 'friend', 'kindness', 'courtesy', 'hints', 'hospitalities', 'whereat', 'complimented', 'printing', 'pictures', 'jabbering', 'proposed', 'producing', 'pouch', 'puff', 'exchanging', 'puffs', 'genial', 'thawed', 'cronies', 'naturally', 'unbiddenly', 'pressed', 'clasped', 'waist', 'henceforth', 'married', 'phrase', 'bosom', 'countryman', 'friendship', 'premature', 'distrusted', 'rules', 'apply', 'chat', 'groping', 'dollars', 'spreading', 'mechanically', 'dividing', 'portions', 'remonstrate', 'silenced', 'pouring', 'stay', 'paper', 'join', 'deliberated', 'invited', 'comply', 'born', 'infallible', 'Presbyterian', 'Church', 'idolator', 'worshipping', 'worship', 'magnanimous', 'pagans', 'jealous', 'insignificant', 'Impossible', 'Consequently', 'ergo', 'prop', 'salamed', 'twice', 'kissed', 'peace', 'consciences', 'disclosures', 'Man', 'souls', 'couples', 'honeymoon', 'cosy', '11', 'Nightgown', 'lain', 'napping', 'intervals', 'affectionately', 'sociable', 'confabulations', 'nappishness', 'future', 'wakeful', 'recumbent', 'position', 'wearisome', 'knees', 'noses', 'bending', 'kneepans', 'warming', 'pans', 'chilly', 'bodily', 'warmth', 'quality', 'merely', 'exists', 'flatter', 'tip', 'crown', 'chilled', 'delightfully', 'unmistakably', 'luxurious', 'discomforts', 'rich', 'snugness', 'spark', 'arctic', 'crystal', 'crouching', 'shut', 'concentrate', 'identity', 'aright', 'except', 'essences', 'congenial', 'clayey', 'imposed', 'coarse', 'unilluminated', 'revulsion', 'Tomahawk', 'repugnance', 'elastic', 'bend', 'serene', 'household', 'unduly', 'policy', 'insurance', 'condensed', 'comfortableness', 'hanging', 'tester', 'illuminated', 'undulating', 'scenes', 'native', 'familiar', 'phraseology', 'prove', 'skeleton', '12', 'Biographical', 'Rokovoko', 'map', 'hatched', 'clout', 'nibbling', 'goats', 'sapling', 'Christendom', 'specimen', 'whaler', 'father', 'High', 'uncle', 'Priest', 'maternal', 'boasted', 'aunts', 'unconquerable', 'warriors', 'veins', 'vitiated', 'propensity', 'nourished', 'untutored', 'Sag', 'Harbor', 'bay', 'lands', 'complement', 'spurned', 'influence', 'prevail', 'vowed', 'vow', 'Alone', 'canoe', 'paddled', 'strait', 'quitted', 'reef', 'mangrove', 'thickets', 'Hiding', 'paddle', 'gliding', 'flash', 'gained', 'dash', 'capsized', 'sank', 'climbed', 'chains', 'grappled', 'ring', 'hacked', 'threatened', 'suspended', 'cutlass', 'naked', 'wrists', 'budged', 'Struck', 'desperate', 'dauntlessness', 'relented', 'Prince', 'Wales', 'toil', 'shipyards', 'cities', 'disdained', 'ignominy', 'happily', 'enlightening', 'countrymen', 'actuated', 'Christians', 'arts', 'happier', 'practices', 'infinitely', 'heathens', 'Arrived', 'wages', 'Thought', 'lived', 'wore', 'gibberish', 'Hence', 'asked', 'propose', 'coronation', 'consider', 'feeble', 'fearful', 'Christianity', 'unfitted', 'undefiled', 'throne', 'baptized', 'nonce', 'sow', 'oats', 'sceptre', 'movements', 'vocation', 'intention', 'promising', 'mess', 'share', 'hap', 'boldly', 'dip', 'Potluck', 'worlds', 'joyously', 'affection', 'usefulness', 'ignorant', 'mysteries', 'acquainted', 'dying', 'embraced', 'Wheelbarrow', 'Next', 'disposing', 'barber', 'block', 'settled', 'cock', 'bull', 'alarmed', 'companied', 'wheelbarrow', 'embarking', 'sack', 'Moss', 'schooner', 'stared', 'wheeling', 'barrow', 'adjust', 'barbs', 'troublesome', 'hinted', 'assured', 'inland', 'reapers', 'mowers', 'farmers', 'meadows', 'scythes', 'obliged', 'furnish', 'reasons', 'preferred', 'Shifting', 'owners', 'lent', 'boarding', 'puts', 'lashes', 'marches', 'Didn', 'feasts', 'fragrant', 'cocoanuts', 'calabash', 'punchbowl', 'forms', 'ornament', 'braided', 'feast', 'commander', 'stately', 'punctilious', 'gentleman', 'sister', 'princess', 'guests', 'bride', 'bamboo', 'assigned', 'post', 'majesty', 'Grace', 'grace', 'unlike', 'platters', 'copying', 'ducks', 'Giver', 'opens', 'banquet', 'immemorial', 'dipping', 'consecrated', 'consecrating', 'bowl', 'beverage', 'circulates', 'noting', 'precedence', 'proceeds', 'finger', 'tink', 'luggage', 'Hoisting', 'Acushnet', 'Huge', 'hills', 'casks', 'wandering', 'safely', 'fires', 'forges', 'melt', 'betokening', 'cruises', 'start', 'perilous', 'endlessness', 'intolerableness', 'effort', 'Gaining', 'bracing', 'breeze', 'waxed', 'snortings', 'snuffed', 'Tartar', 'turnpike', 'highway', 'marks', 'slavish', 'heels', 'hoofs', 'admire', 'magnanimity', 'permit', 'records', 'drink', 'nostrils', 'filed', 'pointed', 'homage', 'blast', 'ducked', 'Sultan', 'Sideways', 'ropeyarn', 'tingling', 'wire', 'buckling', 'canes', 'tornadoes', 'jeering', 'glances', 'lubber', 'assembly', 'marvelled', 'companionable', 'dignified', 'whitewashed', 'boobies', 'intense', 'greenness', 'saplings', 'mimicking', 'Dropping', 'miraculous', 'strength', 'sent', 'somerset', 'bursting', 'Capting', 'yelled', 'Hallo', 'gaunt', 'rib', 'stalking', 'thunder', 'shivering', 'greenhorn', 'Kill', 'twisting', 'expression', 'disdain', 'ah', 'bevy', 'roared', 'happened', 'strain', 'parted', 'boom', 'handled', 'roughly', 'swept', 'panic', 'snatching', 'madness', 'ticking', 'snapping', 'splinters', 'capable', 'lower', 'consternation', 'deftly', 'crawling', 'whipped', 'secured', 'lasso', 'jerk', 'trapped', 'stripped', 'arc', 'leap', 'revealing', 'freezing', 'glorious', 'saved', 'Shooting', 'matters', 'dragging', 'lifeless', 'restored', 'voted', 'trump', 'clove', 'barnacle', 'Was', 'unconsciousness', 'deserved', 'medal', 'Humane', 'Magnanimous', 'Societies', 'wipe', 'brine', 'mutual', '14', 'mentioning', 'occupies', 'Eddystone', 'lighthouse', 'hillock', 'elbow', 'beach', 'background', 'use', 'blotting', 'wights', 'plant', 'import', 'Canada', 'thistles', 'leak', 'cask', 'bits', 'Rome', 'toadstools', 'blade', 'oasis', 'prairie', 'quicksand', 'Laplander', 'inclosed', 'surrounded', 'utter', 'chairs', 'tables', 'clams', 'adhering', 'backs', 'turtles', 'extravaganzas', 'Illinois', 'wondrous', 'traditional', 'legend', 'olden', 'eagle', 'swooped', 'infant', 'talons', 'lament', 'parents', 'direction', 'Setting', 'casket', 'Nantucketers', 'livelihood', 'crabs', 'quohogs', 'grown', 'bolder', 'waded', 'nets', 'mackerel', 'captured', 'cod', 'launching', 'navy', 'explored', 'circumnavigations', 'peeped', 'Behring', 'seasons', 'declared', 'war', 'mightiest', 'animated', 'survived', 'mountainous', 'Himmalehan', 'Mastodon', 'clothed', 'portentousness', 'unconscious', 'panics', 'dreaded', 'fearless', 'malicious', 'assaults', 'hermits', 'issuing', 'ant', 'overrun', 'conquered', 'Alexanders', 'parcelling', 'pirate', 'powers', 'Poland', 'Mexico', 'Texas', 'pile', 'Cuba', 'overswarm', 'blazing', 'banner', 'thirds', 'terraqueous', 'globe', 'Nantucketer', 'owns', 'Emperors', 'empires', 'Merchant', 'extension', 'bridges', 'forts', 'privateers', 'highwaymen', 'road', 'plunder', 'fragments', 'draw', 'resides', 'riots', 'fro', 'ploughing', 'plantation', 'THERE', 'Noah', 'interrupt', 'overwhelmed', 'cocks', 'hides', 'climbs', 'chamois', 'hunters', 'Alps', 'smells', 'strangely', 'Earthsman', 'landless', 'gull', 'folds', 'wings', 'nightfall', 'furls', 'sails', 'lays', 'herds', 'walruses', '15', 'Chowder', 'snugly', 'recommended', 'cousin', 'Hosea', 'Hussey', 'Try', 'Pots', 'asserted', 'proprietor', 'hotels', 'moreover', 'Cousin', 'chowders', 'luck', 'directions', 'given', 'warehouse', 'outset', 'insisted', 'departure', 'understood', 'peaceable', 'inhabitant', 'mistaking', 'pots', 'painted', 'asses', 'doorway', 'sawed', 'gallows', 'Perhaps', 'sensitive', 'impressions', 'vague', 'misgiving', 'crick', 'remaining', 'TWO', 'Innkeeper', 'landing', 'tombstones', 'oblique', 'freckled', 'gown', 'dull', 'injured', 'carrying', 'brisk', 'scolding', 'Get', 'combing', 'Mrs', 'affairs', 'postponing', 'seating', 'spread', 'relics', 'recently', 'repast', 'Clam', 'Cod', 'Cods', 'ma', 'politeness', 'clammy', 'reception', 'resume', 'Shirt', 'waiting', 'hurried', 'leading', 'kitchen', 'bawling', 'savory', 'steam', 'belie', 'apparently', 'prospect', 'chowder', 'explained', 'hearken', 'juicy', 'bigger', 'hazel', 'nuts', 'pounded', 'pork', 'flakes', 'enriched', 'butter', 'plentifully', 'seasoned', 'pepper', 'Our', 'appetites', 'sharpened', 'fishing', 'food', 'surpassingly', 'despatched', 'expedition', 'bethinking', 'announcement', 'Stepping', 'uttered', 'emphasis', 'resumed', 'moments', 'savoury', 'flavor', 'plying', 'spoons', 'effect', 'stultifying', 'eel', 'Fishiest', 'fishy', 'paved', 'necklace', 'codfish', 'vertebra', 'books', 'superior', 'shark', 'happening', 'brindled', 'cow', 'feeding', 'remnants', 'marching', 'decapitated', 'slip', 'shod', 'nearest', 'precede', 'lady', 'Stiggs', 'unfort', 'nt', 'v', 'y', 'ge', 'barrels', 'ILE', 'sich', 'weepons', 'rooms', 'Both', 'couple', 'smoked', 'herring', 'variety', '16', 'Ship', 'concocted', 'plans', 'concern', 'consulting', 'Yojo', 'god', 'strongly', 'everyway', 'fleet', 'harbor', 'concert', 'selecting', 'enjoined', 'selection', 'inasmuch', 'purposed', 'befriending', 'irrespective', 'forgotten', 'excellence', 'forecast', 'esteem', 'succeed', 'benevolent', 'designs', 'relied', 'sagacity', 'fitted', 'fortunes', 'securely', 'remonstrances', 'acquiesce', 'accordingly', 'determined', 'rushing', 'energy', 'vigor', 'trifling', 'affair', 'bedroom', 'Lent', 'Ramadan', 'fasting', 'humiliation', 'HOW', 'liturgies', 'XXXIX', 'Articles', 'sauntering', 'inquiries', 'learnt', 'Devil', 'Tit', 'Pequod', 'DEVIL', 'DAM', 'origin', 'TIT', 'BIT', 'PEQUOD', 'celebrated', 'Massachusetts', 'Indians', 'extinct', 'Medes', 'peered', 'pryed', 'hopped', 'decided', 'quaint', 'aught', 'square', 'toed', 'luggers', 'Japanese', 'junks', 'galliots', 'claw', 'footed', 'Long', 'typhoons', 'calms', 'hull', 'French', 'grenadier', 'alike', 'Egypt', 'Her', 'bearded', 'stiffly', 'spines', 'kings', 'Cologne', 'worn', 'pilgrim', 'worshipped', 'flag', 'Canterbury', 'Cathedral', 'Becket', 'bled', 'antiquities', 'features', 'pertaining', 'century', 'Peleg', 'retired', 'principal', 'term', 'mateship', 'grotesqueness', 'inlaid', 'quaintness', 'material', 'device', 'unmatched', 'Thorkill', 'Hake', 'buckler', 'apparelled', 'barbaric', 'Ethiopian', 'emperor', 'pendants', 'trophies', 'tricking', 'herself', 'chased', 'unpanelled', 'garnished', 'continuous', 'sperm', 'pins', 'fasten', 'hempen', 'thews', 'tendons', 'Those', 'sheaves', 'Scorning', 'turnstile', 'reverend', 'sported', 'tiller', 'curiously', 'hereditary', 'foe', 'helmsman', 'steered', 'holds', 'steed', 'clutching', 'melancholy', 'candidate', 'nobody', 'overlook', 'tent', 'wigwam', 'temporary', 'erection', 'conical', 'shape', 'consisting', 'slabs', 'Planted', 'ends', 'laced', 'mutually', 'sloped', 'apex', 'united', 'loose', 'hairy', 'fibres', 'waved', 'Pottowottamie', 'Sachem', 'triangular', 'insider', 'concealed', 'tenement', 'noon', 'enjoying', 'respite', 'oaken', 'carving', 'stout', 'interlacing', 'constructed', 'elderly', 'heavily', 'Quaker', 'microscopic', 'net', 'minutest', 'arisen', 'sailings', 'gales', 'windward', 'causes', 'muscles', 'pursed', 'effectual', 'scowl', 'advancing', 'Supposing', 'dost', 'wast', 'Dost', 'eh', 'damned', 'Talk', 'lingo', 'talkest', 'marchant', 'Marchant', 'Hast', 'Didst', 'rob', 'didst', 'murdering', 'officers', 'gettest', 'protested', 'innocence', 'mask', 'humorous', 'innuendoes', 'insulated', 'Quakerish', 'distrustful', 'aliens', 'hailed', 'Vineyard', 'Want', 'Have', 'clapped', 'Ahab', 'Bildad', 'agents', 'wantest', 'tellest', 'bind', 'Clap', 'wilt', 'Lost', 'Young', 'nearer', 'devoured', 'chewed', 'crunched', 'monstrousest', 'parmacetty', 'chipped', 'hearty', 'exclamation', 'ferocity', 'accident', 'SURE', 'Hard', 'Mind', 'aggravate', 'inclined', 'Answer', 'positively', 'indispensable', 'rid', 'experience', 'request', 'humorously', 'concentrating', 'crow', 'perceived', 'obliquely', 'unlimited', 'monotonous', 'forbidding', 'report', 'horizon', 'squall', 'staggered', 'expressed', 'willingness', 'mayest', 'below', 'Seated', 'transom', 'uncommon', 'shares', 'ports', 'annuitants', 'fatherless', 'chancery', 'owning', 'timber', 'nail', 'People', 'yours', 'approved', 'stocks', 'originally', 'sect', 'inhabitants', 'retain', 'variously', 'anomalously', 'modified', 'alien', 'heterogeneous', 'Quakers', 'sanguinary', 'fighting', 'instances', 'Scripture', 'singularly', 'fashion', 'childhood', 'imbibing', 'dramatic', 'idiom', 'audacious', 'blend', 'unoutgrown', 'dashes', 'unworthy', 'Scandinavian', 'poetical', 'greatly', 'natural', 'force', 'globular', 'stillness', 'seclusion', 'watches', 'constellations', 'untraditionally', 'independently', 'virgin', 'voluntary', 'confiding', 'accidental', 'advantages', 'nation', 'pageant', 'detract', 'dramatically', 'birth', 'overruling', 'morbidness', 'tragically', 'ambition', 'greatness', 'disease', 'results', 'phase', 'cared', 'deemed', 'veriest', 'trifles', 'educated', 'according', 'strictest', 'Quakerism', 'unclad', 'lovely', 'jot', 'altered', 'vest', 'immutableness', 'lack', 'consistency', 'refusing', 'scruples', 'invaders', 'illimitably', 'invaded', 'sworn', 'bloodshed', 'bodied', 'spilled', 'tuns', 'gore', 'contemplative', 'pious', 'reminiscence', 'sage', 'religion', 'practical', 'dividends', 'Rising', 'drabbest', 'drab', 'shad', 'bellied', 'becoming', 'header', 'owner', 'career', 'retiring', 'goodly', 'dedicating', 'earned', 'income', 'incorrigible', 'task', 'Categut', 'arriving', 'hospital', 'exhausted', 'hearted', 'swear', 'inordinate', 'cruel', 'unmitigated', 'clutch', 'hammer', 'marling', 'spike', 'Indolence', 'idleness', 'exact', 'embodiment', 'utilitarian', 'superfluous', 'beard', 'chin', 'economical', 'nap', 'brimmed', 'tails', 'brim', 'beside', 'crossed', 'vesture', 'buttoned', 'spectacles', 'volume', 'Ye', 'studying', 'knowledge', 'habituated', 'noticing', 'irreverence', 'inquiringly', 'wants', 'tone', 'unconsciously', 'spelling', 'mumbling', 'audible', 'blusterer', 'sharply', 'pen', 'ink', 'willing', 'engage', 'aware', 'profits', 'proportioned', 'importance', 'respective', 'duties', 'steer', 'splice', '275th', 'eventually', 'lucky', 'clothing', 'beef', 'stiver', 'accumulate', 'princely', 'fortune', 'Cloud', '200th', 'shouldered', 'generous', 'Ashore', 'crony', 'proprietors', 'inconsiderable', 'management', 'stingy', 'fireside', 'vainly', 'mend', 'party', 'yourselves', 'treasures', 'moth', 'knowest', 'sepulchral', 'reply', 'seventy', \"?--'\", 'rust', 'corrupt', '--\\'\"', 'LAYS', 'deceive', 'landsman', 'TEENTH', 'farthing', 'doubloons', 'swindle', 'Seven', 'treasure', 'hundredth', 'solemnly', 'owest', 'abundantly', 'reward', 'labors', 'starting', 'Blast', 'advice', 'lug', 'founder', 'steadily', 'impenitent', 'lest', 'leaky', 'sink', 'Fiery', 'insult', 'fired', 'outrage', 'Flukes', 'flames', 'goat', 'Out', 'canting', 'gun', 'thundered', 'sliding', 'celerity', 'eluded', 'Alarmed', 'outburst', 'responsible', 'sailing', 'questionably', 'owned', 'temporarily', 'stepped', 'egress', 'vanish', 'withdrawing', 'letting', 'lamb', 'nervously', 'agitated', 'Whew', 'whistled', 'leeward', 'sharpening', 'grindstone', 'Fetch', 'groaned', 'burying', 'Has', 'whaled', 'Killed', 'signing', 'doubting', 'absorbing', 'irrevocably', 'committing', 'Turning', 'inquiring', 'able', 'isn', 'Any', 'lt', 'ungodly', 'doesn', 'Mark', 'forewarned', 'colleges', 'mong', 'wonders', 'foes', 'keenest', 'surest', 'AHAB', 'crowned', 'lick', 'significance', 'startled', 'Never', 'Twas', 'foolish', 'whim', 'widowed', 'twelvemonth', 'squaw', 'Tistig', 'Gayhead', 'prophetic', 'fools', 'warn', 'swearing', 'shooting', 'bleeding', 'stump', 'accursed', 'laughing', 'bye', 'happens', 'resigned', 'girl', 'Think', 'humanities', 'walked', 'thoughtfulness', 'incidentally', 'revealed', 'vagueness', 'painfulness', 'sympathy', 'sorrow', 'loss', 'describe', 'disincline', 'impatience', 'imperfectly', '17', 'Fasting', 'Humiliation', 'continue', 'choose', 'disturb', 'religious', 'obligations', 'undervalue', 'ants', 'toad', 'stool', 'footmanism', 'unprecedented', 'planets', 'torso', 'deceased', 'possessions', 'rented', 'vastly', 'subjects', 'absurd', 'notions', 'arguing', 'avail', 'Presbyterians', 'Pagans', 'mending', 'Towards', 'rituals', 'knocked', 'fastened', 'apoplectic', 'sinister', 'shaft', 'landlady', 'chamber', 'abroad', 'Something', 'Apoplexy', 'stubbornly', 'resisted', 'Running', 'stated', 'maid', 'La', 'la', 'mouse', 'Mistress', 'murder', 'apoplexy', 'mustard', 'vinegar', 'cruet', 'castors', 'Wood', 'Run', 'pry', 'handed', 'interposed', 'castor', 'doctor', 'talking', 'prying', 'seized', 'rapid', 'Unconsciously', 'clapping', 'ruminated', 'haven', 'closet', 'returning', 'nate', 'Betty', 'Snarles', 'Painter', 'suicides', 'permitted', ';\"--', 'birds', 'merciful', 'ghost', 'premises', 'spoiled', 'locksmith', 'mile', 'supplemental', 'unwithdrawn', 'vowing', 'dashed', 'knob', 'slamming', 'collected', 'squatting', 'hams', 'hain', 'sittin', 'pushing', 'change', 'intolerable', 'painfully', 'unnaturally', 'constrained', 'probability', 'meals', 'ALIVE', 'Closing', 'blandishments', 'peg', 'creed', 'later', 'punctual', 'listening', 'plum', 'pudding', 'brig', 'confined', ');', 'puddingers', 'eleven', 'termination', 'stirred', 'vexed', 'senseless', 'insane', 'starve', 'Despairing', 'promised', 'faintest', 'blown', 'uneasy', 'bedside', 'squatted', 'grating', 'cheerful', 'limped', 'objection', 'becomes', 'frantic', 'positive', 'torment', 'ours', 'argue', 'progress', 'primitive', 'religions', 'labored', 'Lents', 'Ramadans', 'ham', 'squattings', 'nonsense', 'health', 'useless', 'opposed', 'laws', 'Hygiene', 'extremely', 'sagacious', 'pained', 'deplorably', 'argued', 'caves', 'necessarily', 'starved', 'religionists', 'hereafters', 'digressively', 'undigested', 'apple', 'dumpling', 'perpetuated', 'dyspepsias', 'nurtured', 'dyspepsia', 'expressing', 'memorable', 'enemy', 'cooked', 'eaten', 'inferences', 'hinting', 'custom', 'barbecue', 'yard', 'victor', 'trenchers', 'pilau', 'breadfruit', 'parsley', 'mouths', 'compliments', 'presents', 'Christmas', 'turkeys', 'remarks', 'impression', 'couch', 'simply', 'condescending', 'compassion', 'hopelessly', 'evangelical', 'piety', 'prodigiously', 'sorts', 'profit', 'halibut', '18', 'walking', 'gruff', 'loudly', 'announcing', 'converted', 'Son', 'communion', 'member', 'Congregational', 'worships', 'Deacon', 'Deuteronomy', 'Coleman', 'meeting', 'rubbed', 'bandana', 'hasn', 'Philistine', 'deacon', 'sternly', 'thyself', 'Hittite', 'Finding', 'Catholic', 'belong', 'Congregation', 'crotchets', 'belief', 'Splice', 'st', 'SPLICE', 'missionary', 'sermon', 'reckoned', 'Quohog', 'handles', 'Without', 'poising', 'Cap', 'dere', 'spose', 'aim', 'glistening', 'hauling', 'spos', 'dad', 'Quick', 'retreated', 'Hedgehog', 'ninetieth', 'preliminaries', 'ceremonies', 'abashed', 'counterpart', 'obstinate', 'appellative', 'X', 'rising', 'skirted', 'bundle', 'tracts', 'entitled', 'Latter', 'Day', 'Coming', 'Lose', 'clingest', 'beseech', 'remain', 'Belial', 'bondsman', 'Spurn', 'Bell', 'gracious', 'lingered', 'heterogeneously', 'Scriptural', 'domestic', 'phrases', 'Avast', 'spoiling', 'Pious', 'voyagers', 'straw', 'sharkish', 'Nat', 'Swaine', 'bravest', 'shrinked', 'sheered', 'claps', 'Davy', 'Jones', 'prate', 'beliest', 'typhoon', 'Judgment', 'Hear', 'thrusting', 'thundering', 'rig', 'jury', 'buttoning', 'stalked', 'overlooking', 'sailmakers', 'pick', 'patch', 'tarred', 'twine', 'wasted', '19', 'Prophet', 'levelled', 'massive', 'forefinger', 'shabbily', 'faded', 'investing', 'confluent', 'pox', 'flowed', 'complicated', 'ribbed', 'torrent', 'dried', 'uninterrupted', 'rapidly', 'shoving', 'bayonet', 'signed', 'Anything', 'About', 'hav', 'n', 'chaps', 'fifth', 'wagon', 'deficiencies', 'abruptly', 'somebody', 'riveted', 'earnestness', 'laughed', 'derisive', 'TELL', 'hunter', 'Step', 'growl', 'skrimmage', 'Spaniard', 'altar', 'Santa', 'spat', 'losing', 'prophecy', 'hows', 'mayhap', 'damaged', 'ALL', 'Pretty', 'beggar', 'reverie', ':--\"', 'Names', 'Anyhow', 'arranged', 'Morning', 'ineffable', 'bless', 'bamboozle', 'fool', 'easiest', 'secret', 'Elijah', 'commenting', 'humbug', 'bugbear', 'chancing', 'Somehow', 'dogging', 'intent', 'imagine', 'coupled', 'ambiguous', 'shrouded', 'begat', 'kinds', 'wonderments', 'apprehensions', 'prediction', 'shadowy', 'satisfy', 'retraced', 'relieved', 'pronounced', '20', 'Astir', 'coils', 'betokened', 'preparations', 'hurrying', 'purchasing', 'providing', 'stores', 'chests', 'traps', 'resolving', 'equipped', 'Every', 'beds', 'sauce', 'knives', 'forks', 'shovels', 'tongs', 'napkins', 'nut', 'crackers', 'housekeeping', 'necessitates', 'grocers', 'costermongers', 'doctors', 'bakers', 'bankers', 'extent', 'impossibility', 'replacing', 'harbors', 'frequented', 'exposed', 'success', 'depends', 'spars', 'everythings', 'duplicate', 'period', 'arrival', 'Island', 'heaviest', 'storage', 'comprising', 'fuel', 'staves', 'odds', 'indefatigable', 'kindhearted', 'SHE', 'jar', 'pickles', 'steward', 'pantry', 'bunch', 'log', 'flannel', 'rheumatic', 'deserve', 'Charity', 'Aunt', 'charity', 'bustle', 'yield', 'safety', 'comfort', 'consolation', 'score', 'startling', 'Quakeress', 'ladle', 'longer', 'list', 'article', 'hobbling', 'whalebone', 'hatchways', 'riggers', 'During', 'preparation', 'expected', 'necessary', 'committed', 'absolute', 'dictator', 'suspects', 'involved', 'insensibly', 'strives', '21', 'Aboard', 'grey', 'imperfect', 'dawn', 'ahead', 'insinuating', 'uncertain', 'twilight', 'Hands', 'Lookee', 'Ain', 'impertinent', 'wasn', 'wonderingly', 'oblige', 'Oceans', 'prefer', 'detained', 'Holloa', 'stationary', 'hailing', 'paces', 'stole', 'Did', 'Find', 'rejoined', 'Shan', 'Grand', 'Jury', 'wonderment', 'impudence', 'lumbered', 'slide', 'scuttle', 'rigger', 'tattered', 'profoundest', 'slumber', 'dubiously', 'alluded', 'optically', 'deceived', 'marking', 'jocularly', 'establish', 'Gracious', 'perry', 'dood', 'hurt', 'Face', 'heaving', 'grinding', 'questioning', 'absence', 'settees', 'sofas', 'chiefs', 'fattening', 'ottomans', 'comfortably', 'lazy', 'piers', 'excursion', 'convertible', 'sticks', 'attendant', 'desiring', 'settee', 'marshy', 'narrating', 'flourished', 'Perry', 'brained', 'soothed', 'attracted', 'vapour', 'filling', 'breathed', 'muffledness', 'revolved', 'smokers', 'Shipped', 'Starbuck', 'astir', 'lively', 'bestirred', 'actively', 'invisibly', 'enshrined', '22', 'Merry', 'dismissal', 'hauled', 'thoughtful', 'gift', 'cap', 'Stubb', 'issued', 'Muster', 'commanders', 'appearances', 'weigh', 'steering', 'recovered', 'farewell', 'commanding', 'Aft', 'sons', 'bachelors', 'Strike', 'marquee', 'capstan', 'Blood', 'handspikes', 'station', 'addition', 'licensed', 'pilots', 'fee', 'piloted', 'approaching', 'cheer', 'windlass', 'chorus', 'Booble', 'Alley', 'songs', 'Watts', 'Meantime', 'overseeing', 'ripped', 'frightful', 'handspike', 'comforting', 'poke', 'horrified', 'apparition', 'heave', 'Spring', 'sheep', 'backbone', 'whiskers', 'pants', 'imperturbable', 'drinking', 'merged', 'wintry', 'cased', 'armor', 'tusks', 'elephant', 'curving', 'depended', 'Lank', 'howled', 'cordage', 'rang', 'steady', 'notes', 'Sweet', 'swelling', 'Stand', 'Jews', 'Jordan', 'sweetly', 'fruition', 'Spite', 'wet', 'wetter', 'store', 'meads', 'glades', 'eternally', 'vernal', 'untrodden', 'unwilted', 'remains', 'midsummer', 'ranging', 'alongside', 'unpleasing', 'affected', 'juncture', 'loath', 'depart', 'stormy', 'Capes', 'invested', 'encounter', 'pitiless', 'brimful', 'strides', 'bounded', 'Eastern', 'Continents', 'coiling', 'pin', 'convulsively', 'grasped', 'lantern', 'gazing', 'heroically', 'tear', 'twinkling', 'Back', 'Boat', 'Careful', 'Luck', 'Flask', 'murmured', 'incoherently', 'hunt', 'needlessly', 'cedar', 'per', 'cent', 'forget', 'cooper', 'locker', 'miss', 'rejecting', 'gifts', 'tierce', 'beware', 'fornication', 'cheese', 'cents', 'pound', 'palavering', 'dropt', 'diverged', 'screaming', 'hulls', 'blindly', 'lone', '23', 'Lee', 'Shore', 'newlanded', 'encountered', 'vindictive', 'fearfulness', 'unrestingly', 'push', 'Wonderfullest', 'unmentionable', 'memories', 'epitaphs', 'stoneless', 'fared', 'miserably', 'drives', 'succor', 'hearthstone', 'blankets', 'mortalities', 'direst', 'hospitality', 'graze', 'keel', 'shudder', 'fights', 'gainst', 'blow', 'homeward', 'landlessness', 'forlornly', 'peril', 'bitterest', 'Know', 'Glimpses', 'mortally', 'intrepid', 'independence', 'wildest', 'conspire', 'shoreless', 'perish', 'infinite', 'ingloriously', 'craven', 'agony', 'Bear', 'grimly', 'demigod', 'perishing', 'apotheosis', '24', 'Advocate', 'embarked', 'unpoetical', 'disreputable', 'anxiety', 'convince', 'injustice', 'hereby', 'accounted', 'level', 'liberal', 'professions', 'miscellaneous', 'metropolitan', 'advance', 'merits', 'emulation', 'naval', 'append', 'initials', 'W', 'F', 'Fishery', 'visiting', 'card', 'procedure', 'pre', 'eminently', 'presuming', 'Doubtless', 'declines', 'honouring', 'amounts', 'butchering', 'defilements', 'Butchers', 'butchers', 'bloodiest', 'badge', 'Martial', 'Commanders', 'invariably', 'alleged', 'uncleanliness', 'initiated', 'facts', 'triumphantly', 'cleanliest', 'tidy', 'granting', 'slippery', 'comparable', 'carrion', 'soldiers', 'plaudits', 'enhances', 'conceit', 'soldier', 'profession', 'veteran', 'recoil', 'fanning', 'eddies', 'comprehensible', 'compared', 'interlinked', 'scouts', 'unwittingly', 'abounding', 'adoration', 'tapers', 'lamps', 'shrines', 'De', 'Witt', 'admirals', 'fleets', 'Louis', 'XVI', 'France', 'personal', 'expense', 'Dunkirk', 'invite', 'families', 'Britain', '1750', '1788', 'bounties', 'L1', '000', 'lastly', 'outnumber', 'banded', 'manned', 'yearly', 'consuming', '$', 'importing', 'reaped', 'harvest', 'puissant', 'assert', 'cosmopolite', 'operated', 'potentially', 'aggregate', 'begotten', 'remarkable', 'continuously', 'momentous', 'sequential', 'issues', 'Egyptian', 'offspring', 'womb', 'catalogue', 'pioneer', 'ferreting', 'archipelagoes', 'chart', 'Vancouver', 'European', 'peacefully', 'ride', 'salutes', 'interpreted', 'celebrate', 'heroes', 'Exploring', 'Expeditions', 'Cooks', 'Krusensterns', 'anonymous', 'Krusenstern', 'succourless', 'handedness', 'sharked', 'beaches', 'javelin', 'battled', 'marines', 'muskets', 'willingly', 'dared', 'Voyages', 'commonplaces', 'heroic', 'Often', 'adventures', 'dedicates', 'Until', 'rounded', 'colonial', 'intercourse', 'Spanish', 'provinces', 'colonies', 'distinctly', 'eventuated', 'liberation', 'Peru', 'Chili', 'Bolivia', 'yoke', 'establishment', 'democracy', 'sphere', 'Australia', 'enlightened', 'blunder', 'discovery', 'Dutchman', 'shunned', 'pestiferously', 'colony', 'Moreover', 'infancy', 'Australian', 'settlement', 'emigrants', 'starvation', 'luckily', 'uncounted', 'Polynesia', 'missionaries', 'destinations', 'hospitable', 'credit', 'due', 'threshold', 'declare', 'aesthetically', 'associations', 'shiver', 'unhorse', 'split', 'helmet', 'author', 'chronicler', 'NO', 'FAMOUS', 'AUTHOR', 'CHRONICLER', 'wrote', 'composed', 'prince', 'Alfred', 'Great', 'Other', 'Norwegian', 'glowing', 'eulogy', 'Edmund', 'Burke', 'GOOD', 'BLOOD', 'THEIR', 'VEINS', 'grandmother', 'Benjamin', 'Franklin', 'Mary', 'Morrel', 'marriage', 'Folger', 'settlers', 'ancestress', 'Folgers', 'kith', 'kin', 'darting', 'NOT', 'RESPECTABLE', 'imperial', 'statutory', '.\"*', 'nominal', 'figured', 'imposing', 'NEVER', 'FIGURED', 'ANY', 'IMPOSING', 'WAY', 'triumphs', 'capital', 'conspicuous', 'cymballed', 'procession', '.*', '*', 'Grant', 'cite', 'dignity', 'DIGNITY', 'attest', 'Cetus', 'constellation', 'Drive', 'antiquity', 'walled', 'towns', 'possibility', 'undiscovered', 'prime', 'repute', 'hushed', 'unreasonably', 'hereafter', 'undone', 'executors', 'creditors', 'precious', 'MSS', 'prospectively', 'ascribe', 'Yale', 'College', 'Harvard', '25', 'Postscript', 'behalf', 'substantiated', 'embattling', 'advocate', 'suppress', 'unreasonable', 'surmise', 'eloquently', 'blameworthy', 'queens', 'process', 'seasoning', 'functions', 'saltcellar', 'Certain', 'oiled', 'salad', 'anoint', 'machinery', 'essential', 'regal', 'meanly', 'contemptibly', 'anoints', 'palpably', 'anointing', 'mature', 'medicinally', 'quoggy', 'rule', 'totality', 'coronations', 'Certainly', 'olive', 'macassar', 'train', 'unmanufactured', 'unpolluted', 'sweetest', 'oils', 'loyal', 'Britons', 'supply', '26', 'Knights', 'Squires', 'descent', 'icy', 'adapted', 'endure', 'latitudes', 'baked', 'Transported', 'bottled', 'ale', 'drought', 'famine', 'Only', 'arid', 'summers', 'superfluousness', 'thinness', 'token', 'wasting', 'anxieties', 'cares', 'indication', 'blight', 'condensation', 'tight', 'inner', 'revivified', 'torrid', 'patent', 'chronometer', 'vitality', 'warranted', 'Looking', 'lingering', 'images', 'confronted', 'staid', 'steadfast', 'pantomime', 'action', 'tame', 'sobriety', 'fortitude', 'qualities', 'overbalance', 'Uncommonly', 'endued', 'reverence', 'loneliness', 'incline', 'superstition', 'organizations', 'intelligence', 'Outward', 'portents', 'presentiments', 'welded', 'tend', 'ruggedness', 'latent', 'restrain', 'gush', 'evinced', 'vicissitudes', 'reliable', 'useful', 'courage', 'arises', 'crusader', 'sentiment', 'occasions', 'staple', 'outfits', 'Wherefore', 'lowering', 'persisting', 'persisted', 'critical', 'hundreds', 'deeps', 'torn', 'limbs', 'superstitiousness', 'reasonable', 'organized', 'experiences', 'remembrances', 'latently', 'engendering', 'suitable', 'confinement', 'bravery', 'abiding', 'firm', 'conflict', 'irrational', 'horrors', 'withstand', 'terrific', 'menace', 'enraged', 'reveal', 'abasement', 'sorrowful', 'shocking', 'expose', 'valour', 'detestable', 'companies', 'knaves', 'meagre', 'ideal', 'sparkling', 'ignominious', 'blemish', 'costliest', 'immaculate', 'manliness', 'intact', 'undraped', 'spectacle', 'valor', 'ruined', 'shameful', 'stifle', 'upbraidings', 'permitting', 'stars', 'august', 'treat', 'robed', 'investiture', 'shalt', 'wields', 'democratic', 'radiates', 'Himself', 'circumference', 'omnipresence', 'divine', 'equality', 'renegades', 'castaways', 'weave', 'tragic', 'graces', 'mournful', 'perchance', 'abased', 'exalted', 'mounts', 'workman', 'ethereal', 'rainbow', 'disastrous', 'critics', 'Spirit', 'Equality', 'mantle', 'humanity', 'swart', 'convict', 'Bunyan', 'poetic', 'pearl', 'clothe', 'doubly', 'hammered', 'stumped', 'paupered', 'Cervantes', 'Andrew', 'Jackson', 'pebbles', 'hurl', 'marchings', 'cullest', 'selectest', 'champions', 'kingly', 'commons', '27', 'local', 'usage', 'happy', 'valiant', 'indifferent', 'crisis', 'toiling', 'journeyman', 'joiner', 'humored', 'presided', 'arrangement', 'driver', 'unpitying', 'handedly', 'whistling', 'tinker', 'hum', 'rigadig', 'tunes', 'flank', 'bestir', 'obeyed', 'unfearing', 'cheerily', 'trudging', 'pedlars', 'packs', 'impious', 'humor', 'bunk', 'row', 'loaded', 'rack', 'succession', 'lighting', 'loading', 'readiness', 'anew', 'terribly', 'infected', 'miseries', 'numberless', 'exhaling', 'cholera', 'camphorated', 'disinfecting', 'agent', 'Tisbury', 'Martha', 'ruddy', 'pugnacious', 'leviathans', 'personally', 'hereditarily', 'affronted', 'destroy', 'majestic', 'danger', 'encountering', 'magnified', 'rat', 'requiring', 'circumvention', 'application', 'fearlessness', 'waggish', 'fun', 'lasted', 'nails', 'divided', 'wrought', 'similarly', 'Little', 'Post', 'likened', 'Arctic', 'whalers', 'radiating', 'brace', 'concussions', 'battering', 'prescription', 'headsmen', 'forces', 'descend', 'Or', 'trio', 'lancers', 'flingers', 'javelins', 'headsman', 'Knight', 'steerer', 'conjunctures', 'provides', 'subsists', 'intimacy', 'friendliness', 'selected', 'squire', 'Tashtego', 'unmixed', 'Gay', 'Head', 'westerly', 'remnant', 'village', 'neighboring', 'generic', 'Headers', 'sable', 'rounding', 'Oriental', 'largeness', 'Antarctic', 'proclaimed', 'inheritor', 'unvitiated', 'quest', 'moose', 'scoured', 'snuffing', 'trail', 'beasts', 'woodland', 'fitly', 'arrow', 'sires', 'tawny', 'lithe', 'snaky', 'credited', 'superstitions', 'earlier', 'Puritans', 'believed', 'Powers', 'Air', 'Third', 'Daggoo', 'coal', 'lion', 'tread', 'Ahasuerus', 'Suspended', 'golden', 'securing', 'halyards', 'voluntarily', 'heedful', 'retained', 'virtues', 'erect', 'giraffe', 'pomp', 'socks', 'corporeal', 'beg', 'truce', 'fortress', 'Curious', 'Squire', 'chess', 'residue', 'Americans', 'Herein', 'army', 'military', 'navies', 'engineering', 'construction', 'Canals', 'Railroads', 'liberally', 'brains', 'generously', 'supplying', 'Azores', 'augment', 'peasants', 'rocky', 'Hull', 'Islands', 'homewards', 'Islanders', 'ISOLATOES', 'acknowledging', 'continent', 'ISOLATO', 'federated', 'Isolatoes', 'An', 'Anacharsis', 'Clootz', 'deputation', 'accompanying', 'grievances', 'Pip', 'Alabama', 'tambourine', 'prelusive', 'bid', 'angels', 'hero', '28', 'peremptory', 'vicariously', 'supreme', 'penetrate', 'retreat', 'ascended', 'disquietude', 'perturbation', 'heightened', 'diabolical', 'incoherences', 'uninvitedly', 'recurring', 'subtle', 'conceived', 'poorly', 'moods', 'whimsicalities', 'apprehensiveness', 'uneasiness', 'warrantry', 'emotions', 'motley', 'ascribed', 'rightly', 'uniqueness', 'abandonedly', 'forcibly', 'calculated', 'allay', 'colourless', 'cheerfulness', 'presentment', 'likely', 'readily', 'Vineyarder', 'biting', 'southward', 'minute', 'latitude', 'merciless', 'gloomy', 'mornings', 'rapidity', 'forenoon', 'taffrail', 'foreboding', 'shivers', 'Reality', 'outran', 'illness', 'recovery', 'stake', 'overrunningly', 'particle', 'compacted', 'solid', 'bronze', 'unalterable', 'mould', 'Cellini', 'Perseus', 'Threading', 'hairs', 'continuing', 'scorched', 'slender', 'lividly', 'whitish', 'resembled', 'seam', 'tearingly', 'wrenching', 'twig', 'peels', 'grooves', 'bark', 'soil', 'greenly', 'branded', 'scar', 'tacit', 'consent', 'throughout', 'allusion', 'senior', 'superstitiously', 'fury', 'fray', 'elemental', 'strife', 'inferentially', 'negatived', 'Manxman', 'insinuated', 'traditions', 'credulities', 'popularly', 'preternatural', 'contradicted', 'tranquilly', 'office', 'sole', 'powerfully', 'affect', 'livid', 'brand', 'streaked', 'noted', 'overbearing', 'grimness', 'dismasted', 'quiver', 'posture', 'mizzen', 'auger', 'bored', 'steadied', 'elevated', 'pitching', 'infinity', 'firmest', 'determinate', 'unsurrenderable', 'wilfulness', 'dedication', 'gestures', 'expressions', 'painful', 'crucifixion', 'Ere', 'pivot', 'recluse', 'bleakness', 'secluded', 'continually', 'perceptibly', 'cruising', 'preparatives', 'needing', 'supervision', 'excite', 'layer', 'loftiest', 'peaks', 'warbling', 'persuasiveness', 'holiday', 'mood', 'cheeked', 'dancing', 'April', 'misanthropic', 'woods', 'barest', 'ruggedest', 'cloven', 'oak', 'sprouts', 'glad', 'visitants', 'respond', 'playful', 'allurings', 'girlish', 'More', 'blossom', 'flowered', '29', 'Enter', 'elapsed', 'icebergs', 'Quito', 'perpetually', 'reigns', 'Tropic', 'warmly', 'ringing', 'perfumed', 'overflowing', 'redundant', 'Persian', 'sherbet', 'heaped', 'flaked', 'starred', 'haughty', 'dames', 'jewelled', 'velvets', 'nursing', 'pride', 'memory', 'conquering', 'Earls', 'helmeted', 'suns', 'twas', 'winsome', 'seducing', 'witcheries', 'unwaning', 'lend', 'spells', 'potencies', 'Inward', 'crystals', 'noiseless', 'twilights', 'agencies', 'texture', 'linked', 'greybeards', 'oftenest', 'berths', 'cloaked', ',\"--', 'mutter', 'dug', 'band', 'sentinelled', 'slumbers', 'cautiousness', 'disturbing', 'slumbering', 'quietude', 'habitually', 'steersman', 'emerge', 'gripping', 'banister', 'crippled', 'abstained', 'patrolling', 'wearied', 'repose', 'heel', 'reverberating', 'crack', 'din', 'crunching', 'regardings', 'lumber', 'pace', 'measuring', 'mainmast', 'unassured', 'deprecating', 'humorousness', 'muffling', 'indistinctly', 'hesitatingly', 'insertion', 'Am', 'cannon', 'wouldst', 'wad', 'forgot', 'Below', 'nightly', 'Down', 'kennel', 'unforseen', 'scornful', 'speechless', 'excitedly', 'gritted', 'violently', 'passionate', 'temptation', 'emboldened', 'tamely', 'donkey', 'mule', 'ass', 'begone', 'advanced', 'DID', 'flashed', 'powder', 'Anyway', 'cracks', 'Dough', 'Boy', 'rumpled', 'coverlid', 'brick', 'Tic', 'Dolly', 'toothache', 'riddles', 'tells', 'appointments', 'snooze', 'Damn', 'babies', 'principles', 'eleventh', 'commandment', 'twelfth', 'blazes', 'jackasses', 'kicked', 'Maybe', 'aback', 'afoul', 'plaguey', 'juggling', '30', 'Pipe', 'Lighting', 'binnacle', 'planting', 'Norse', 'thrones', 'Danish', 'fabricated', 'tradition', 'narwhale', 'tripod', 'royalty', 'symbolized', 'Khan', 'Leviathans', 'soliloquized', 'tube', 'soothes', 'pleasuring', 'ignorantly', 'whiffs', 'jets', 'strongest', 'fullest', 'sereneness', 'vapours', 'locks', 'hissed', 'bubble', 'sinking', 'lurchingly', '31', 'Queen', 'Mab', 'dreamed', 'presto', 'pyramid', 'kicking', 'cane', 'stubbing', 'silly', 'toes', 'confoundedly', 'contradictory', 'cudgelling', 'whaleboning', 'farmer', 'whittled', 'badger', 'haired', 'merman', 'slews', 'bout', 'Slid', 'phiz', 'fright', 'Humpback', 'seaweed', 'marlinspikes', 'Says', 'Wise', 'muttering', 'eating', 'gums', 'hag', 'lifted', 'Halloa', 'complain', 'Listen', 'lords', 'slapped', 'queen', 'garter', 'knights', 'YOUR', 'boast', 'Remember', 'BE', 'kicks', 'honours', 'snored', 'tho', 'shouts', 'Hark', 'hereabouts', 'mum', '32', 'Cetology', 'Already', 'launched', 'unshored', 'harbourless', 'immensities', 'weedy', 'barnacled', 'thorough', 'appreciative', 'leviathanic', 'revelations', 'systematized', 'exhibition', 'genera', 'classification', 'constituents', 'essayed', 'authorities', 'Zoology', 'Scoresby', '1820', 'method', 'cetacea', 'groups', '....', 'Utter', 'confusion', 'historians', 'Surgeon', 'Beale', 'Unfitness', 'pursue', 'research', 'unfathomable', 'Impenetrable', 'veil', 'covering', 'field', 'strewn', 'thorns', 'incomplete', 'indications', 'serve', 'torture', 'naturalists', 'Cuvier', 'John', 'Hunter', 'Lesson', 'zoology', 'anatomy', 'science', 'Authors', 'Aristotle', 'Pliny', 'Aldrovandi', 'Thomas', 'Browne', 'Gesner', 'Ray', 'Linnaeus', 'Rondeletius', 'Willoughby', 'Artedi', 'Sibbald', 'Brisson', 'Marten', 'Lacepede', 'Bonneterre', 'Desmarest', 'Baron', 'Frederick', 'Owen', 'Bennett', 'Ross', 'Author', 'Miriam', 'Olmstead', 'Rev', 'Cheever', 'ultimate', 'generalizing', 'cited', 'professional', 'existing', 'usurper', 'priority', 'claims', 'fabulous', 'scientific', 'retreats', 'usurpation', 'Reference', 'rival', 'monarch', 'proclamation', 'Charing', 'Cross', 'deposed', 'reigneth', 'surgeons', 'volumes', 'literature', 'unwritten', 'comprehensive', 'outline', 'departments', 'laborers', 'hereupon', 'promise', 'faulty', 'anatomical', 'project', 'systematization', 'builder', 'sorter', 'Office', 'grope', 'foundations', 'pelvis', 'essay', 'hook', 'tauntings', 'Will', 'covenant', 'Behold', 'libraries', 'unsettled', 'vestibule', 'quarters', 'moot', 'System', 'Nature', '1776', 'declares', '1850', 'alewives', 'edict', 'grounds', 'banished', 'states', 'follows', 'bilocular', 'movable', 'eyelids', 'penem', 'intrantem', 'feminam', 'mammis', 'lactantem', 'ex', 'lege', 'naturae', 'jure', 'meritoque', 'submitted', 'Simeon', 'Macey', 'Charley', 'messmates', 'insufficient', 'profanely', 'waiving', 'argument', 'fundamental', 'internal', 'differ', 'Above', 'lungless', 'blooded', 'define', 'externals', 'conspicuously', 'label', 'SPOUTING', 'FISH', 'HORIZONTAL', 'TAIL', 'definition', 'result', 'walrus', 'amphibious', 'cogent', 'Almost', 'flat', 'vertical', 'Whereas', 'assumes', 'horizontal', 'exclude', 'brotherhood', 'identified', 'link', 'authoritatively', 'smaller', 'divisions', 'host', 'styled', 'Lamatins', 'Dugongs', 'Pig', 'Sow', 'Coffins', 'pig', 'noisy', 'lurking', 'hay', 'spout', 'deny', 'credentials', 'passports', 'Kingdom', 'According', 'divide', 'primary', 'BOOKS', 'subdivisible', 'CHAPTERS', 'comprehend', 'FOLIO', 'II', 'OCTAVO', 'III', 'DUODECIMO', 'type', 'GRAMPUS', 'PORPOISE', 'FOLIOS', 'include', 'RIGHT', 'FIN', 'BACK', 'IV', 'HUMP', 'BACKED', 'RAZOR', 'VI', 'SULPHUR', 'BOTTOM', 'BOOK', ').--', 'vaguely', 'Trumpa', 'Physeter', 'Anvil', 'Headed', 'Pottsfich', 'Germans', 'Macrocephalus', 'Words', 'obtained', 'enlarged', 'Philologically', 'individuality', 'accidentally', 'derived', 'quickening', 'syllable', 'literally', 'expresses', 'ointment', 'medicament', 'druggists', 'nowadays', 'ounce', 'rhubarb', 'opine', 'dealers', 'enhance', 'notion', 'scarcity', 'appellation', 'bestowed', 'yields', 'commonly', 'specially', 'indiscriminately', 'designated', 'titles', 'obscurity', 'baptised', 'Folios', 'Mysticetus', 'Baliene', 'Ordinaire', 'Growlands', 'Walfish', 'Swedes', 'Brazil', 'Banks', 'Coast', 'Cruising', 'Grounds', 'agree', 'radical', 'subdivisions', 'inconclusive', 'differences', 'repellingly', 'intricate', 'elucidating', 'Under', 'reckon', 'Fin', 'Tall', 'Spout', 'York', 'tracks', 'attains', 'resembles', 'portly', 'girth', 'intertwisting', 'distinguishing', 'fin', 'derives', 'vertically', 'hinder', 'angular', 'isolated', 'surface', 'moderately', 'spherical', 'ripples', 'gnomon', 'surrounding', 'dial', 'wavy', 'graved', 'Ahaz', 'gregarious', 'hater', 'haters', 'shy', 'unexpectedly', 'sullen', 'spear', 'gifted', 'defy', 'Cain', 'theoretic', 'denominated', 'WHALEBONE', 'WHALES', 'Whalebone', 'varieties', 'Broad', 'nosed', 'beaked', 'bunched', 'jawed', 'rostrated', 'connection', 'nomenclature', 'facilitating', 'founded', 'notwithstanding', 'obviously', 'basis', 'system', 'detached', 'distinctions', 'dispersed', 'regard', 'structure', 'particulars', 'humpbacked', 'similitude', 'ceases', 'irregular', 'combinations', 'methodization', 'example', 'correctly', 'classify', 'available', 'systematizer', 'external', 'enumerated', 'Bibliographical', 'adopted', 'practicable', 'pack', 'Elephant', 'Castle', 'distinguish', 'eludes', 'rises', 'ridge', 'brimstone', 'Tartarian', 'tiles', 'profounder', 'divings', 'remoter', 'walks', 'Prodigies', 'Adieu', 'Sulphur', 'Bottom', 'oldest', 'OCTAVOES', '.*--', 'embrace', 'middling', 'numbered', '.,', 'BLACK', 'NARWHALE', 'THRASHER', 'Quarto', 'proportionate', 'bookbinder', 'dimensioned', 'preserve', 'Folio', 'Octavo', 'sonorous', 'breathing', 'denizen', 'classed', 'distinctive', 'recognised', 'moderate', 'octavo', 'varying', 'corresponding', 'dimensions', 'premonitory', 'inexpressive', 'suggest', 'Hyena', 'voracity', 'angles', 'Mephistophelean', 'averages', 'showing', 'dorsal', 'profitably', 'employment', 'frugal', 'housekeepers', 'unsavory', 'wax', 'blubber', 'thin', 'NOSTRIL', 'horn', 'peaked', 'exceed', 'attain', 'Strictly', 'lengthened', 'tusk', 'depressed', 'analogous', 'clumsy', 'answers', 'Narwhale', 'rake', 'piercer', 'sheeted', 'thrusts', 'breaks', 'surmises', 'correct', 'sided', 'folder', 'pamphlets', 'Tusked', 'Horned', 'Unicorn', 'Unicornism', 'kingdom', 'cloistered', 'unicorn', 'antidote', 'prices', 'distilled', 'volatile', 'salts', 'fainting', 'deer', 'manufactured', 'hartshorn', 'Originally', 'Letter', 'Martin', 'Frobisher', 'Bess', 'gallantly', 'Greenwich', 'Palace', 'Thames', 'bended', 'highness', 'Windsor', 'Irish', 'avers', 'Earl', 'Leicester', 'picturesque', 'leopard', 'dotted', 'oblong', 'spots', 'circumpolar', 'professed', 'naturalist', 'bigness', 'grampus', 'Feegee', 'lip', 'leech', 'brute', 'worried', 'Killer', 'Exception', 'indistinctness', 'killers', 'Bonapartes', 'Sharks', 'ferule', 'thrashing', 'flogging', 'schoolmasters', 'Thrasher', 'outlaws', 'lawless', 'DUODECIMOES', 'Huzza', 'Porpoise', 'Algerine', 'Mealy', 'marshalled', 'conveys', 'hugeness', 'Duodecimoes', 'i', 'HUZZA', 'porpoise', 'bestowal', 'hilarious', 'tossing', 'caps', 'Fourth', 'July', 'Full', 'spirits', 'breezy', 'omen', 'beholding', 'vivacious', 'godly', 'gamesomeness', 'fed', 'plump', 'gallon', 'delicate', 'fluid', 'jewellers', 'watchmakers', 'Sailors', 'hones', 'discernible', 'miniature', 'ALGERINE', 'Provoke', 'buckle', 'lowered', 'MEALY', 'MOUTHED', 'fishers', 'differs', 'rotund', 'neat', 'fins', 'sentimental', 'mealy', 'spoils', 'boundary', 'streaks', 'stem', 'colours', 'comprises', 'felonious', 'Beyond', 'rabble', 'enumerate', 'appellations', 'investigators', 'begun', 'incorporated', 'Duodecimo', 'Bottle', 'Nose', 'Junk', 'Pudding', 'Leading', 'Cannon', 'Scragg', 'Coppered', 'Iceberg', 'Quog', 'Blue', 'etc', 'Icelandic', 'quoted', 'lists', 'uncouth', 'omit', 'obsolete', 'suspecting', 'Leviathanism', 'signifying', 'perfected', 'cetological', 'unfinished', 'crane', 'uncompleted', 'tower', 'erections', 'architects', 'posterity', 'completing', 'Strength', 'Cash', 'Patience', '33', 'Specksynder', 'Concerning', 'peculiarity', 'arising', 'existence', 'class', 'marine', 'attached', 'lodged', 'Literally', 'Fat', 'Cutter', 'equivalent', 'Harpooneer', 'restricted', 'navigation', 'hunting', 'department', 'concerns', 'British', 'corrupted', 'title', 'Specksioneer', 'official', 'abridged', 'ranks', 'subalterns', 'political', 'demands', 'nominally', 'familiarly', 'merchantmen', 'communicating', 'Southern', 'community', 'prevailing', 'vigilance', 'intrepidity', 'rigorous', 'discipline', 'Mesopotamian', 'materially', 'relaxed', 'skipper', 'parading', 'elated', 'grandeur', 'surpassed', 'extorting', 'shabbiest', 'shallowest', 'assumption', 'exacted', 'implicit', 'instantaneous', 'obedience', 'remove', 'detailed', 'condescension', 'TERROREM', 'unobservant', 'paramount', 'usages', 'masked', 'legitimately', 'intended', 'subserve', 'sultanism', 'unmanifested', 'incarnate', 'irresistible', 'dictatorship', 'intellectual', 'superiority', 'assume', 'supremacy', 'aid', 'entrenchments', 'paltry', 'princes', 'Empire', 'hustings', 'inferiority', 'Divine', 'Inert', 'undoubted', 'idiot', 'imbecility', 'imparted', 'potency', 'Nicholas', 'ringed', 'geographical', 'empire', 'encircles', 'plebeian', 'crouch', 'centralization', 'dramatist', 'depict', 'indomitableness', 'swing', 'moves', 'shagginess', 'episode', 'majestical', 'housings', 'denied', 'plucked', 'skies', 'featured', 'unbodied', '34', 'Cabin', 'Table', 'loaf', 'announces', 'observation', 'mutely', 'reckoning', 'medallion', 'tablet', 'reserved', 'daily', 'inattention', 'tidings', 'menial', 'mizen', 'swings', 'unexhilarated', 'Dinner', 'disappears', 'echo', 'sultan', 'Emir', 'rouses', 'pleasantness', 'lounges', 'predecessors', 'restraint', 'tipping', 'winks', 'strikes', 'hornpipe', 'Turk', 'dexterous', 'sleight', 'mizentop', 'rollicking', 'reversing', 'music', 'pauses', 'Abjectus', 'Slave', 'artificialness', 'provocation', 'defyingly', 'customary', 'straightway', 'inoffensive', 'deprecatory', 'humble', 'sits', 'problem', 'Belshazzar', 'Babylon', 'haughtily', 'courteously', 'mundane', 'intelligent', 'presides', 'unchallenged', 'dominion', 'transcends', 'dined', 'tasted', 'Caesar', 'witchery', 'czarship', 'withstanding', 'superadd', 'inference', 'derive', 'Over', 'mute', 'maned', 'warlike', 'deferential', 'cubs', 'waited', 'lurk', 'arrogance', 'dish', 'profaned', 'neutral', 'topic', 'fork', 'slice', 'alms', 'tenderly', 'grazed', 'noiselessly', 'circumspection', 'Coronation', 'Frankfort', 'German', 'Emperor', 'profoundly', 'dines', 'Imperial', 'Electors', 'forbade', 'conversation', 'dumb', 'choking', 'racket', 'youngest', 'shinbones', 'saline', 'drumsticks', 'presumed', 'tantamount', 'larceny', 'chances', 'Least', 'clotting', 'marketless', 'premium', 'subaltern', 'butterless', 'Consider', 'jammed', 'lounging', 'appetite', 'mouthfuls', 'admitted', 'hungry', 'ate', 'relieve', 'hunger', 'Peace', 'fruits', 'vanity', 'insanity', 'grudge', 'capacity', 'obtain', 'ample', 'dumfoundered', 'inverted', 'pallid', 'residuary', 'legatees', 'servants', 'hall', 'tolerable', 'constraint', 'domineerings', 'license', 'masters', 'hinges', 'relish', 'bellies', 'spices', 'fill', 'vacancies', 'baron', 'junk', 'quarried', 'ox', 'nimble', 'hop', 'skip', 'ungentlemanly', 'accelerating', 'assisted', 'trencher', 'preliminary', 'scalping', 'progeny', 'bankrupt', 'baker', 'nurse', 'periodical', 'tumultuous', 'visitations', 'Commonly', 'clutches', 'fearfully', 'blinds', 'opposing', 'crosswise', 'hearse', 'plumed', 'carlines', 'colossal', 'framework', 'African', 'wonderfully', 'abstemious', 'dainty', 'comparatively', 'diffused', 'baronial', 'superb', 'drank', 'dilated', 'giants', 'smack', 'ugly', 'trembling', 'produce', 'witted', 'shattered', 'fits', 'palsy', 'whetstone', 'whetstones', 'ostentatiously', 'sharpen', 'tranquillize', 'murderous', 'indiscretions', 'Alas', 'fares', 'waiter', 'waits', 'napkin', 'credulous', 'mongering', 'martial', 'jingling', 'Moorish', 'scimetars', 'scabbards', 'barbarians', 'sedentary', 'mealtimes', 'exception', 'rights', 'inwards', 'residing', 'lose', 'socially', 'inaccessible', 'Grisly', 'Bears', 'Missouri', 'Summer', 'Logan', 'sucking', 'paws', 'inclement', 'caved', '35', 'rotation', 'simultaneously', 'vial', 'skysail', 'poles', 'relinquish', 'capturing', 'expatiate', 'standers', 'researches', 'prior', 'progenitors', 'builders', 'Babel', 'Asia', 'assertion', 'archaeologists', 'astronomical', 'purposes', 'supported', 'stair', 'formation', 'edifices', 'upliftings', 'astronomers', 'wont', 'mount', 'Saint', 'Stylites', 'pillar', 'latter', 'summit', 'tackle', 'dauntless', 'stander', 'fogs', 'frosts', 'rain', 'hail', 'valiantly', 'facing', 'incompetent', 'discovering', 'Napoleon', 'column', 'Vendome', 'Philippe', 'Blanc', 'Baltimore', 'Hercules', 'pillars', 'Admiral', 'metal', 'Trafalgar', 'Square', 'obscured', 'madly', 'befriend', 'counsels', 'surmised', 'haze', 'descry', 'item', 'Obed', 'Macy', 'historian', 'accountable', 'cleats', 'upstairs', 'hen', 'Bay', 'descrying', 'relieving', 'tropics', 'meditative', 'delightful', 'stilts', 'Colossus', 'Rhodes', 'ruffled', 'indolently', 'drowsy', 'trade', 'languor', 'uneventfulness', 'invests', 'gazettes', 'extras', 'delude', 'excitements', 'afflictions', 'securities', 'stowed', 'immutable', 'whalesmen', 'deplored', 'devote', 'destitute', 'inhabitiveness', 'breed', 'localness', 'pertains', 'sentry', 'contrivances', 'isolate', 'Your', 'perch', 'parallel', 'beginner', 'thickest', 'glued', 'fleshy', 'tabernacle', 'envelope', 'additional', 'encasing', 'drawers', 'unprovided', 'enviable', 'tents', 'CROW', 'NESTS', 'protected', 'Sleet', 'Voyage', 'Icebergs', 're', 'Colonies', 'admirable', 'charmingly', 'circumstantial', 'invented', 'NEST', 'Glacier', 'SLEET', 'inventor', 'patentee', 'inventors', 'patentees', 'denominate', 'apparatus', 'nest', 'screen', 'ascend', 'trap', 'hatch', 'umbrellas', 'leather', 'trumpet', 'telescope', 'nautical', 'conveniences', 'rifle', 'flask', 'popping', 'stray', 'narwhales', 'vagrant', 'unicorns', 'infesting', 'successfully', 'shoot', 'resistance', 'labor', 'enlarges', 'treats', 'experiments', 'compass', 'counteracting', 'errors', 'attraction', 'error', 'ascribable', 'discreet', 'deviations', 'azimuth', 'observations', 'approximate', 'immersed', 'meditations', 'occasionally', 'bottle', 'ignore', 'comforter', 'mittened', 'mathematics', 'perches', 'pole', 'housed', 'Greenlandmen', 'disadvantage', 'counter', 'balanced', 'widely', 'seductive', 'float', 'lounge', 'leisurely', 'pastures', 'destination', 'frankly', 'admit', 'guard', 'revolving', 'altitude', 'lightly', 'Keep', 'movingly', 'admonish', 'Beware', 'enlisting', 'vigilant', 'fisheries', 'unseasonable', 'meditativeness', 'offers', 'Phaedon', 'Bowditch', 'sunken', 'eyed', 'Platonist', 'wakes', 'pint', 'richer', 'monitions', 'unneeded', 'furnishes', 'asylum', 'disgusted', 'carking', 'Childe', 'Harold', 'unfrequently', 'luckless', 'ejaculates', 'Roll', 'upbraiding', 'sufficient', 'Platonists', 'vision', 'sighted', 'visual', 'nerve', 'opera', 'lulled', 'opium', 'listlessness', 'vacant', 'blending', 'cadence', 'loses', 'pervading', 'dimly', 'uprising', 'undiscernible', 'elusive', 'flitting', 'enchanted', 'ebbs', 'Crammer', 'sprinkled', 'Pantheistic', 'forming', 'rocking', 'inscrutable', 'tides', 'Descartian', 'vortices', 'hover', 'fairest', 'throttled', 'shriek', 'transparent', 'Heed', 'Pantheists', '36', 'Quarter', 'Deck', 'ENTER', 'gentlemen', 'stride', 'geological', 'stones', 'fixedly', 'prints', 'unsleeping', 'dents', 'uniform', 'chick', 'pecks', 'shell', 'Twill', 'bigotry', 'halt', 'inserting', 'Send', 'unapprehensive', 'standpoint', 'unmindful', 'whispering', 'cautiously', 'Vehemently', 'impulsive', 'clubbed', 'approval', 'animation', 'unexpected', 'magnetically', 'Lower', 'tune', 'pull', 'fiercely', 'approving', 'shout', 'marvelling', 'purposeless', 'headers', 'dollar', 'maul', 'skirts', 'heighten', 'lustre', 'inarticulate', 'mechanical', 'wheels', 'Receiving', 'exclaiming', 'Whosoever', 'raises', 'whosoever', 'holes', 'punctured', 'fluke', 'huzza', 'tarpaulins', 'nailing', 'topmaul', 'Skin', 'separately', 'specific', 'recollection', 'Tash', 'Does', 'fan', 'Header', 'bushy', 'disjointedly', 'twiske', 'tee', 'twisk', 'faltering', 'screwing', 'uncorking', 'Corkscrew', 'wrenched', 'wheat', 'wool', 'annual', 'shearing', 'jib', 'increasing', 'hearties', 'sob', 'razeed', 'pegging', 'measureless', 'imprecations', 'Hope', 'Norway', 'Maelstrom', 'closer', 'Steward', 'grog', 'Hoot', 'requirest', 'measurer', 'accountants', 'computed', 'girdling', 'guineas', 'smites', 'methinks', 'Vengeance', 'smote', 'blindest', 'Madness', 'blasphemous', 'objects', 'pasteboard', 'masks', 'event', 'deed', 'reasoning', 'mouldings', 'unreasoning', 'prisoner', 'shoved', 'tasks', 'heaps', 'outrageous', 'sinewing', 'hate', 'wreak', 'blasphemy', 'insulted', 'herein', 'jealousy', 'presiding', 'creations', 'confines', 'fiends', 'glarings', 'doltish', 'reddenest', 'palest', 'anger', 'glow', 'unsays', 'incense', 'Turkish', 'spotted', 'leopards', 'unrecking', 'unworshipping', 'Chilian', 'snorts', 'tost', 'Reckon', 'Tis', 'surely', 'foremast', 'clutched', 'constrainings', 'seize', 'lifts', 'ASIDE', 'inhaled', 'oppose', 'rebellion', 'acquiescence', 'invocation', 'presaging', 'vibrations', 'flap', 'downcast', 'stubbornness', 'subterranean', 'admonitions', 'warnings', 'predictions', 'verifications', 'foregoing', 'constrain', 'innermost', 'necessities', 'brimming', 'pewter', 'group', 'searchingly', 'bloodshot', 'wolves', 'leader', 'bison', 'snare', 'Drink', 'handing', 'charged', 'flagon', 'Round', 'Short', 'draughts', 'swallows', 'Satan', 'hoof', 'excellently', 'spiralizes', 'drained', 'Hand', 'gulped', 'refill', 'Attend', 'braves', 'mustered', 'irons', 'revive', 'fisherman', 'pennies', 'St', 'Vitus', 'imp', 'ague', 'Advance', 'volition', 'shocked', 'emotion', 'accumulated', 'Leyden', 'quailed', 'sustained', 'maybe', 'electric', 'expired', 'Perchance', 'appoint', 'cupbearers', 'kinsmen', 'noblemen', 'Disdain', 'Pope', 'washes', 'beggars', 'tiara', 'ewer', 'cardinals', 'Cut', 'seizings', 'Silently', 'Stab', 'Cant', 'goblet', 'Turn', 'socket', 'cup', 'bearers', 'Forthwith', 'sockets', 'Commend', 'chalices', 'Bestow', 'parties', 'indissoluble', 'league', 'Yon', 'ratifying', 'deathful', 'whaleboat', 'maledictions', 'quaffed', 'hiss', 'paled', 'shivered', '37', 'Sunset', 'CABIN', 'STERN', 'WINDOWS', 'SITTING', 'ALONE', 'GAZING', 'OUT', 'turbid', 'paler', 'envious', 'sidelong', 'whelm', 'track', 'Yonder', 'rim', 'blush', 'plumbs', 'diver', 'slow', 'wearies', 'Iron', 'Crown', 'Lombardy', 'gem', 'wearer', 'flashings', 'darkly', 'dazzlingly', 'confounds', 'jagged', 'edge', 'galls', 'Dry', 'nobly', 'spurred', 'loveliness', 'ne', 'Gifted', 'perception', 'subtly', 'malignantly', 'Paradise', 'WAVING', 'HAND', 'MOVES', 'WINDOW', 'cogged', 'revolve', 'willed', 'demoniac', 'dismembered', 'prophesy', 'dismember', 'dismemberer', 'fulfiller', 'hoot', 'cricket', 'players', 'pugilists', 'deaf', 'Burkes', 'blinded', 'Bendigoes', 'schoolboys', 'bullies', 'pommel', 'YE', 'cotton', 'bags', 'swerve', 'Swerve', 'rails', 'whereon', 'grooved', 'unsounded', 'gorges', 'rifled', 'torrents', 'unerringly', 'Naught', 'obstacle', '38', 'Dusk', 'MAINMAST', 'STARBUCK', 'LEANING', 'AGAINST', 'IT', 'matched', 'overmanned', 'Insufferable', 'sting', 'sanity', 'drilled', 'nill', 'tows', 'Horrible', 'democrat', 'rebelling', 'lurid', 'shrivel', 'flow', 'hated', 'glassy', 'insulting', 'wedge', 'controlling', 'BURST', 'REVELRY', 'FORECASTLE', '.]', 'mothers', 'Whelped', 'demigorgon', 'unfaltering', 'Foremost', 'embattled', 'bantering', 'sternward', 'builded', 'gurglings', 'howl', 'thrills', 'revellers', 'feed', 'futures', '39', 'Night', 'Fore', 'Top', 'STUBB', 'SOLUS', 'MENDING', 'BRACE', 'hem', 'consequence', 'wisest', 'unfailing', 'predestinated', 'Mogul', 'twigged', 'prophesied', 'WISE', 'carcase', 'leering', 'horribles', 'Fa', 'lirra', 'skirra', 'Crying', 'Giving', 'frigate', 'pennant', 'fa', 'fleeting', 'bubbles', 'beaker', 'job', 'Midnight', 'Forecastle', 'HARPOONEERS', 'SAILORS', 'FORESAIL', 'RISES', 'DISCOVERS', 'WATCH', 'STANDING', 'LOUNGING', 'LYING', 'VARIOUS', 'ATTITUDES', 'SINGING', 'CHORUS', 'Farewell', 'adieu', '1ST', 'SAILOR', 'digestion', 'tonic', 'SINGS', 'FOLLOW', 'spy', 'viewing', 'strand', 'tubs', 'braces', 'harpooner', 'VOICE', 'QUARTER', 'DECK', 'Eight', 'bells', '2ND', 'blackling', 'hogshead', 'THRUSTS', 'HEAD', 'SCUTTLE', ',)', 'Star', 'l', 'h', 'Tumble', 'snoozing', 'maty', 'deadening', 'filliping', 'tier', 'butts', 'copper', 'pump', 'lasses', 'kiss', 'Amsterdam', 'Hist', 'jig', 'Blanket', 'hurrah', 'PIP', 'SULKY', 'SLEEPY', 'Beat', 'wag', 'Jig', 'dance', 'Form', 'file', 'gallop', 'shuffle', 'Throw', 'Legs', 'springy', 'floors', 'excuse', 'MALTESE', 'Partners', 'partners', 'SICILIAN', 'ISLAND', 'sulkies', 'Hoe', 'AZORE', 'ASCENDING', 'PITCHING', 'TAMBOURINE', 'UP', 'bitts', 'HALF', 'THEM', 'DANCE', 'SOME', 'GO', 'BELOW', 'SLEEP', 'LIE', 'AMONG', 'COILS', 'RIGGING', 'OATHS', 'PLENTY', 'DANCING', 'Bang', 'Rig', 'dig', 'stig', 'quig', 'Make', 'jinglers', 'Jinglers', 'CHINA', 'Rattle', 'pagoda', 'Hold', 'hoop', 'Split', 'jibs', 'TASHTEGO', 'QUIETLY', 'SMOKING', 'humph', 'sweat', 'OLD', 'MANX', 'threat', 'Christ', 'skulled', 'scholars', 'ballroom', 'Dance', '3D', 'Spell', 'whew', 'pulling', 'whiff', 'THEY', 'CEASE', 'GATHER', 'CLUSTERS', 'MEANTIME', 'SKY', 'DARKENS', 'WIND', 'LASCAR', 'Brahma', 'douse', 'Ganges', 'showest', 'Seeva', 'RECLINING', 'SHAKING', 'CAP', 'tassels', 'drown', 'chassee', 'evermore', 'arboring', 'ripe', 'grapes', 'interlacings', 'swayings', 'coyings', 'flutterings', 'hip', 'satiety', 'Eh', 'NUDGING', 'TAHITAN', 'MAT', 'Hail', 'nakedness', 'Heeva', 'veiled', 'palmed', 'Tahiti', 'woven', 'wilted', 'transplanted', 'streams', 'Pirohitee', 'peak', 'crags', 'villages', 'spine', 'LEAPS', 'FEET', 'PORTUGUESE', 'swashing', 'reefing', 'pell', 'mell', 'lunging', 'Crack', 'crackest', 'holdest', 'fort', 'Cattegat', 'Baltic', 'guns', 'cakes', '4TH', 'waterspout', 'cove', 'pines', 'Pines', 'hardest', 'shifted', 'clay', 'snap', 'keeled', 'birthmark', 'DAGGOO', 'bully', 'touchy', 'ADVANCING', 'undeniable', 'offence', 'GRIMLY', 'None', 'ST', 'JAGO', 'drunk', '5TH', 'SPRINGING', 'Swallow', 'mannikin', 'White', 'MEETING', 'HIM', 'Knife', 'heartily', 'WHIFF', 'Gods', 'brawlers', 'Humph', 'BELFAST', 'arrah', 'Virgin', 'Plunge', 'Fair', 'Snatch', 'Ready', 'Abel', 'topsails', 'jollies', 'SCATTER', 'SHRINKING', 'UNDER', 'WINDLASS', 'Jollies', 'Crish', 'crash', 'Blang', 'whang', 'Duck', 'whirled', 'climbing', 'cursing', 'Fine', 'prospects', 'Jimmini', 'squalls', 'shirr', 'jingle', 'anaconda', '41', 'stronger', 'sympathetical', 'quenchless', 'feud', 'greedy', 'oaths', 'violence', 'revenge', 'unaccompanied', 'haunted', 'uncivilized', 'cruisers', 'disorderly', 'adventurously', 'stretch', 'irregularity', 'indirect', 'obstructed', 'individualizing', 'doubted', 'meridian', 'malignity', 'mischief', 'assailants', 'minds', 'unfair', 'presumption', 'unfrequent', 'cunning', 'attacked', 'terror', 'fearlessly', 'calamities', 'ensue', 'sprained', 'ankles', 'devouring', 'amputations', 'fatality', 'repulses', 'accumulating', 'piling', 'rumors', 'exaggerate', 'horrify', 'histories', 'encounters', 'smitten', 'fungi', 'terra', 'firma', 'abound', 'adequate', 'cling', 'surpasses', 'wonderfulness', 'circulate', 'unexempt', 'contact', 'appallingly', 'astonishing', 'chiseled', 'longitudes', 'pursuing', 'transit', 'widest', 'spaces', 'outblown', 'incorporate', 'morbid', 'foetal', 'suggestions', 'unborrowed', 'visibly', 'prestige', 'courageous', 'inexperience', 'incompetency', 'timidity', 'decline', 'contest', 'hostilely', 'ignoble', 'primitively', 'childish', 'eminent', 'tremendousness', 'feelingly', 'prows', 'tested', 'legendary', 'Olassen', 'Povelson', 'declaring', 'incredibly', 'ferocious', 'effaced', 'Natural', 'History', 'affirms', 'precipitancy', 'amend', 'reports', 'terribleness', 'bloodthirsty', 'superstitious', 'revived', 'overawed', 'recalled', 'oftentimes', 'practised', 'warfare', 'protesting', 'although', 'hopefully', 'inevitably', 'documents', 'consulted', 'distantly', 'details', 'calamity', 'accompaniments', 'referred', 'ubiquitous', 'currents', 'divulged', 'erudite', 'pursuers', 'originated', 'speculations', 'modes', 'sounding', 'depth', 'transports', 'authoritative', 'gainsaid', 'exceeded', 'prodigies', 'Strello', 'mountain', 'Portugal', 'lake', 'wrecks', 'Arethusa', 'Syracuse', 'Land', 'underground', 'narrations', 'equalled', 'realities', 'Forced', 'familiarity', 'immortality', 'ubiquity', 'groves', 'flanks', 'unharmed', 'deception', 'unensanguined', 'unsullied', 'surmisings', 'incontestable', 'imagination', 'unwonted', 'pyramidical', 'prominent', 'limitless', 'uncharted', 'marbled', 'vivid', 'milky', 'creamy', 'spangled', 'gleamings', 'unexampled', 'dismay', 'exulting', 'apparent', 'symptom', 'alarm', 'fatalities', 'disasters', 'bruited', 'aforethought', 'dismembering', 'inflicted', 'unintelligent', 'Judge', 'pitches', 'inflamed', 'impelled', 'curds', 'smiled', 'bridal', 'oars', 'seizing', 'Arkansas', 'duellist', 'fathom', 'turbaned', 'hired', 'Venetian', 'Malay', 'Small', 'vindictiveness', 'identify', 'woes', 'exasperations', 'monomaniac', 'incarnation', 'lung', 'intangible', 'Ophites', 'reverenced', 'statue', 'deliriously', 'transferring', 'abhorred', 'pitted', 'mutilated', 'maddens', 'torments', 'stirs', 'sinews', 'demonisms', 'personified', 'practically', 'assailable', 'mortar', 'probable', 'monomania', 'dismemberment', 'corporal', 'animosity', 'agonizing', 'laceration', 'collision', 'stretched', 'gashed', 'interfusing', 'raving', 'lunatic', 'unlimbed', 'intensified', 'delirium', 'lace', 'rockings', 'stun', 'tranquil', 'thanked', 'raved', 'Human', 'feline', 'transfigured', 'subtler', 'lunacy', 'subsided', 'deepeningly', 'unabated', 'Hudson', 'Northman', 'flows', 'unfathomably', 'Highland', 'gorge', 'flowing', 'intellect', 'instrument', 'trope', 'stormed', 'concentred', 'sanely', 'darker', 'unhinted', 'popularize', 'profundities', 'Winding', 'spiked', 'Hotel', 'de', 'Cluny', 'nobler', 'sadder', 'halls', 'Thermes', 'fantastic', 'towers', 'essence', 'throned', 'torsoes', 'mock', 'captive', 'Caryatid', 'upholding', 'entablatures', 'Wind', 'prouder', 'sad', 'exiled', 'royalties', 'sire', 'namely', 'sane', 'motive', 'shun', 'dissemble', 'dissembling', 'perceptibility', 'grieved', 'casualty', 'overtaken', 'moodiness', 'brooding', 'unlikely', 'distrusting', 'fitness', 'qualified', 'wildness', 'Gnawed', 'infixed', 'unrelenting', 'incurable', 'appalling', 'brutes', 'corporeally', 'incapacitated', 'superlatively', 'underlings', 'keyed', 'engrossing', 'righteous', 'fiendish', 'profitable', 'counted', 'mint', 'immitigable', 'chasing', 'curses', 'mongrel', 'morally', 'enfeebled', 'incompetence', 'unaided', 'mindedness', 'invunerable', 'jollity', 'recklessness', 'mediocrity', 'officered', 'aboundingly', 'responded', 'ire', 'insufferable', 'understandings', 'unsuspected', 'demon', 'miner', 'whither', 'shifting', 'skiff', 'abandonment', 'deadliest', '42', 'Whiteness', 'unsaid', 'Aside', 'considerations', 'awaken', 'overpowered', 'whiteness', 'refiningly', 'beauty', 'imparting', 'japonicas', 'pearls', 'preeminence', 'Pegu', 'Elephants', 'magniloquent', 'ascriptions', 'Siam', 'unfurling', 'quadruped', 'standard', 'Hanoverian', 'charger', 'Austrian', 'Caesarian', 'heir', 'overlording', 'eminence', 'applies', 'mastership', 'gladness', 'Romans', 'sympathies', 'symbolizings', 'emblem', 'brides', 'benignity', 'wampum', 'pledge', 'typifies', 'Justice', 'ermine', 'contributes', 'steeds', 'symbol', 'spotlessness', 'worshippers', 'forked', 'holiest', 'Greek', 'mythologies', 'Iroquois', 'midwinter', 'sacrifice', 'Dog', 'festival', 'theology', 'spotless', 'purest', 'envoy', 'fidelity', 'priests', 'alb', 'tunic', 'cassock', 'pomps', 'Romish', 'faith', 'celebration', 'Passion', 'Vision', 'elders', 'sitteth', 'redness', 'affrights', 'divorced', 'kindly', 'furthest', 'bounds', 'Witness', 'flaky', 'transcendent', 'imparts', 'abhorrent', 'mildness', 'loathsome', 'gloating', 'fanged', 'tiger', 'heraldic', 'stagger', 'urged', 'heightens', 'hideousness', 'analysed', 'irresponsible', 'ferociousness', 'fleece', 'celestial', 'assuming', 'ghostliness', 'beheld', 'tallies', 'vividly', 'bestow', 'Requiem', 'eternam', 'REQUIEM', 'denominating', 'deadliness', 'REQUIN', 'Bethink', 'albatross', 'imaginations', 'Coleridge', 'unflattering', 'laureate', 'overclouded', 'feathery', 'unspotted', 'Wondrous', 'throbbings', 'inexpressible', 'methought', 'Abraham', 'warping', 'plumage', 'goney', 'Goney', 'conceivable', 'Rhyme', 'burnish', 'merit', 'poem', 'solecism', 'albatrosses', 'Whisper', 'postman', 'tying', 'lettered', 'leathern', 'tally', 'wing', 'invoking', 'adoring', 'cherubim', 'Most', 'Western', 'annals', 'Steed', 'chested', 'monarchs', 'overscorning', 'elected', 'Xerxes', 'horses', 'fenced', 'Rocky', 'Alleghanies', 'flaming', 'trooped', 'star', 'hosts', 'flashing', 'cascade', 'mane', 'comet', 'resplendent', 'beaters', 'archangelical', 'unfallen', 'trappers', 'glories', 'primeval', 'browed', 'aides', 'marshals', 'van', 'countless', 'cohorts', 'endlessly', 'streamed', 'plains', 'Ohio', 'circumambient', 'browsing', 'gallopingly', 'reviewed', 'reddening', 'milkiness', 'questioned', 'divineness', 'enforced', 'accessory', 'Albatross', 'Albino', 'peculiarly', 'repels', 'shocks', 'loathed', 'substantive', 'deformity', 'ugliest', 'abortion', 'aspects', 'palpable', 'enlist', 'crowning', 'attribute', 'gauntleted', 'Squall', 'historic', 'omitted', 'potent', 'auxiliary', 'Froissart', 'faction', 'Hoods', 'Ghent', 'bailiff', 'witness', 'supernaturalism', 'gazer', 'pallor', 'trepidation', 'borrow', 'expressive', 'wrap', 'ghosts', 'evangelist', 'rides', 'idealized', 'dissent', 'analyse', 'citation', 'impart', 'exert', 'sorcery', 'clue', 'subtlety', 'appeals', 'imaginative', 'shared', 'ideality', 'loosely', 'bare', 'Whitsuntide', 'pilgrims', 'unread', 'unsophisticated', 'Protestant', 'Middle', 'States', 'Friar', 'Nun', 'evoke', 'eyeless', 'dungeoned', 'Tower', 'untravelled', 'structures', 'Byward', 'Bloody', 'sublimer', 'dewy', 'dreaminess', 'spectralness', 'Yellow', 'lulls', 'lacquered', 'afternoons', 'gaudiest', 'sleepiest', 'sunsets', 'unsubstantial', 'purely', 'fairy', 'Central', 'Hartz', 'changeless', 'unrustlingly', 'whooping', 'imps', 'Blocksburg', 'remembrance', 'cathedral', 'toppling', 'earthquakes', 'stampedoes', 'tearlessness', 'cope', 'crosses', 'adroop', 'canted', 'suburban', 'cards', 'tearless', 'Lima', 'saddest', 'Pizarro', 'admits', 'decay', 'spreads', 'ramparts', 'rigid', 'fixes', 'distortions', 'phenomenon', 'confessed', 'exaggerating', 'unimaginative', 'awfulness', 'exhibited', 'muteness', 'universality', 'respectively', 'elucidated', 'examples', 'roar', 'starts', 'faculties', 'encircling', 'headlands', 'combed', 'whitened', 'horrible', 'assures', 'soundings', 'rests', 'Second', 'snowhowdahed', 'fancying', 'desolateness', 'reigning', 'altitudes', 'oneself', 'inhuman', 'solitudes', 'backwoodsman', 'comparative', 'views', 'unbounded', 'scenery', 'trick', 'legerdemain', 'shipwrecked', 'solace', 'churchyard', 'monuments', 'sayest', 'surrenderest', 'hypo', 'foaled', 'Vermont', 'sunniest', 'buffalo', 'robe', 'muskiness', 'snort', 'paw', 'phrensies', 'affright', 'gorings', 'associated', 'bisons', 'Oregon', 'beholdest', 'demonism', 'rending', 'goring', 'foal', 'prairies', 'rollings', 'rustlings', 'festooned', 'desolate', 'shiftings', 'windrowed', 'snows', 'exist', 'spheres', 'solved', 'incantation', 'Deity', 'intensifying', 'indefiniteness', 'heartless', 'stabs', 'concrete', 'blankness', 'atheism', 'shrink', 'emblazoning', 'tinges', 'gilded', 'butterflies', 'subtile', 'inherent', 'substances', 'deified', 'absolutely', 'paints', 'harlot', 'allurements', 'charnel', 'cosmetic', 'produces', 'operating', 'medium', 'tulips', 'blank', 'tinge', 'pondering', 'leper', 'travellers', 'Lapland', 'colouring', 'gazes', 'blind', 'monumental', 'wraps', 'Wonder', '43', 'Cabaco', 'cordon', 'extending', 'buckets', 'Standing', 'hallowed', 'precincts', 'rustle', 'occasional', 'unceasingly', 'Archy', 'neighbor', 'Cholo', 'bucket', 'cough', 'Cough', 'Pass', 'sleepers', 'Caramba', 'soaked', 'biscuits', 'knitting', 'Grin', 'Tish', '44', 'Chart', 'succeeding', 'ratification', 'yellowish', 'charts', 'shadings', 'pencil', 'courses', 'refer', 'piles', 'tracing', 'solitude', 'substituted', 'threading', 'maze', 'accomplishment', 'absurdly', 'unhooped', 'driftings', 'ascertained', 'certainties', 'timeliest', 'periodicalness', 'resorting', 'studied', 'logs', 'collated', 'migrations', 'correspond', 'invariability', 'flights', 'construct', 'elaborate', 'migratory', 'Since', 'statement', 'circular', 'Lieutenant', 'Maury', 'Observatory', '16th', 'completion', 'divides', 'districts', 'longitude', 'columns', 'horizontally', 'month', 'guided', 'undeviating', 'exactitude', 'tithe', 'precision', 'surveyor', 'strictly', 'unavoidable', 'arbitrary', 'VEIN', 'embraces', 'width', 'vein', 'expand', 'exceeds', 'circumspectly', 'breadth', 'migrating', 'expanses', 'entangle', 'delirious', 'methodical', 'scheme', 'identically', 'preceding', 'season', 'unquestionable', 'remark', 'solitaries', 'matured', 'Seychelle', 'Volcano', 'casual', 'accomplishing', 'antecedent', 'extra', 'possibilities', 'probabilities', 'fondly', 'certainty', 'conjoined', 'technical', 'Season', 'Line', 'consecutive', 'periodically', 'loiters', 'predicted', 'Zodiac', 'deeds', 'cautious', 'comprehensiveness', 'unloitering', 'hopes', 'flattering', 'sleeplessness', 'unquiet', 'postpone', 'intervening', 'southwards', 'equatorial', 'cruise', 'ensuing', 'impatiently', 'enduring', 'vacation', 'Gulf', 'Bengal', 'Monsoons', 'Pampas', 'Westers', 'Harmattans', 'Trades', 'Levanter', 'Simoon', 'devious', 'zig', 'zag', 'circumnavigating', 'discreetly', 'recognition', 'Mufti', 'thronged', 'Constantinople', 'unmistakable', 'tallied', 'poring', 'scalloped', 'breathless', 'weariness', 'faintness', 'recover', 'trances', 'consumed', 'unachieved', 'revengeful', 'clenched', 'exhausting', 'intolerably', 'resuming', 'clashing', 'throbbing', 'throes', 'chasm', 'lightnings', 'beckoned', 'yawned', 'glaring', 'escaping', 'unsuppressable', 'weakness', 'resolve', 'plainest', 'scheming', 'unappeasedly', 'dissociated', 'characterizing', 'vehicle', 'spontaneously', 'contiguity', 'integral', 'leagued', 'yielding', 'sheer', 'inveteracy', 'assumed', 'unfathered', 'glared', 'vacated', 'formless', 'somnambulistic', 'ray', 'Prometheus', 'vulture', 'creates', '45', 'Affidavit', 'adequately', 'incredulity', 'verity', 'citations', 'reliably', 'aimed', 'effected', 'cypher', 'intervened', 'trading', 'penetrated', 'endangered', 'serpents', 'tigers', 'poisonous', 'miasmas', 'incident', 'regions', 'travels', 'circumnavigated', 'brushing', 'vanquished', 'veracity', 'impeach', 'Secondly', 'historical', 'cognisable', 'killing', 'perilousness', 'Rinaldo', 'Rinaldini', 'recognise', 'cultivate', 'acquaintance', 'irascible', 'unobtrusive', 'salutations', 'summary', 'celebrity', 'renown', 'privileges', 'Cambyses', 'Timor', 'famed', 'scarred', 'straits', 'palmy', 'Ombay', 'Tattoo', 'Morquan', 'semblance', 'Miguel', 'tortoise', 'hieroglyphics', 'prose', 'students', 'Cetacean', 'Marius', 'Sylla', 'classic', 'scholar', 'creating', 'havoc', 'systematically', 'anchors', 'Narragansett', 'Woods', 'Butler', 'notorious', 'Annawon', 'headmost', 'Philip', 'printed', 'establishing', 'reasonableness', 'catastrophe', 'disheartening', 'bolstering', 'scout', 'allegory', 'conception', 'frequency', 'recur', 'deaths', 'casualties', 'transient', 'Guinea', 'newspaper', 'obituary', 'mails', 'enormousness', 'significantly', 'facetiousness', 'facetious', 'plagues', 'fortunately', 'testimony', 'HAS', 'Essex', 'Pollard', 'Dashing', 'severest', 'exposure', 'forthwith', 'forswearing', 'tempted', 'resident', 'tragedy', 'warrant', 'directed', 'injury', 'combining', 'manoeuvres', 'indicated', 'resentment', 'sufferings', 'quitting', 'despairing', 'wreck', 'HORRID', 'ASPECT', 'REVENGE', 'engrossed', 'p', 'speaks', 'MYSTERIOUS', 'MORTAL', 'ATTACK', 'ANIMAL', 'Union', '1807', 'Thirdly', '---,', 'dining', 'Oahu', 'Sandwich', 'Conversation', 'sceptical', 'amazing', 'peremptorily', 'smite', 'thimbleful', 'Valparaiso', 'consisted', 'thwack', 'pumps', 'interview', 'providential', 'Saul', 'Tarsus', 'unbelief', 'Langsdorff', 'hereof', 'Russian', 'Discovery', 'Expedition', 'seventeenth', 'thirteenth', 'Ochotsh', 'fur', 'nineteenth', 'northwest', 'reeled', 'gravity', 'Wolf', 'examine', 'damage', 'uninjured', 'Englander', 'Dorchester', 'Boston', 'nephew', 'substantiates', 'Siberian', 'purchased', 'bartering', 'manly', 'Lionel', 'Wafer', 'Dampier', 'chums', 'forbear', 'corroborative', 'Ferdinando', 'Juan', 'Fernandes', 'Main', 'prepare', 'granted', 'suddenness', 'carriages', 'shaken', 'hammocks', 'Davis', 'impute', 'earthquake', 'substantiate', 'imputation', 'stating', 'bumping', 'assailing', 'hurled', 'Pusie', 'Hall', 'transferred', 'cart', 'rally', 'acts', 'conveying', 'eloquent', 'expansion', 'illustration', 'corroborated', 'repetitions', 'millionth', 'amen', 'Solomon', 'Verily', 'sixth', 'Procopius', 'magistrate', 'Justinian', 'Belisarius', 'trustworthy', 'unexaggerating', 'affecting', 'mentions', 'prefecture', 'Propontis', 'Marmora', 'easily', 'connecting', 'constitution', 'habitual', 'resort', 'investigations', 'Barbary', 'passes', 'Dardanelles', 'route', 'BRIT', 'aliment', 'squid', 'cuttle', 'clearly', '46', 'Surmises', 'actions', 'interests', 'habituation', 'collateral', 'influential', 'refining', 'slew', 'multiplied', 'subsequently', 'hypothesis', 'exceptionable', 'ruling', 'incapable', 'swaying', 'accomplish', 'tools', 'apt', 'ascendency', 'involves', 'relation', 'coerced', 'magnet', 'joyfully', 'disintegrate', 'frustrate', 'relapses', 'leadership', 'prudential', 'respecting', 'noways', 'manifested', 'superlative', 'shrewdness', 'foreseeing', 'impiousness', 'obscure', 'proof', 'protracted', 'unrelieved', 'impetuously', 'capricious', 'unreliable', 'inhale', 'fickleness', 'promissory', 'requisite', 'employments', 'intervene', 'healthily', 'evanescent', 'constitutional', 'sordidness', 'Granting', 'incites', 'playing', 'savageness', 'breeds', 'knight', 'errantism', 'chivalric', 'Crusaders', 'traverse', 'sepulchre', 'burglaries', 'perquisites', 'disgust', 'cash', 'perspective', 'quiescent', 'mutinying', 'cashier', 'precautionary', 'Having', 'impulsively', 'prematurely', 'unanswerable', 'perfect', 'impunity', 'legal', 'disposed', 'wrest', 'barely', 'consequences', 'suppressed', 'protect', 'protection', 'consist', 'predominating', 'atmospheric', 'subjected', 'analytic', 'verbally', 'evince', 'admonishing', 'reporting', '47', 'Mat', 'Maker', 'cloudy', 'sultry', 'lazily', 'weaving', 'lashing', 'subdued', 'preluding', 'repassing', 'woof', 'marline', 'warp', 'shuttle', 'threads', 'idly', 'unthinkingly', 'drove', 'intermitting', 'Loom', 'unchanging', 'interblending', 'necessity', 'ply', 'destiny', 'hitting', 'slantingly', 'crookedly', 'weakly', 'fabric', 'shapes', 'fashions', 'nowise', 'incompatible', 'interweavingly', 'swerved', 'alternating', 'restrained', 'prescribed', 'featuring', 'musically', 'wand', 'perched', 'seer', 'Fate', 'beam', 'ticks', 'uniformity', 'tribes', 'genus', 'heading', 'confidently', 'mills', 'deceitfulness', 'shipkeepers', 'appointed', 'cranes', 'mainyard', 'samphire', 'baskets', 'cliffs', 'Outside', 'clung', 'rail', 'expectantly', 'poised', 'gunwale', '48', 'Lowering', 'tackles', 'bands', 'technically', 'tooth', 'evilly', 'protruding', 'Chinese', 'funereally', 'ebonness', 'plaited', 'turban', 'coiled', 'Less', 'Manillas', 'diabolism', 'subtilty', 'spies', 'Fedallah', 'leaped', 'Hardly', 'fourth', 'rowing', '?--\"', 'Spread', 'oar', 'Lay', 'addressing', 'stowaways', 'Pull', 'drawlingly', 'soothingly', 'sighed', 'backbones', 'Tut', 'merrier', 'pounds', 'stakes', 'Easy', 'rascals', 'Bite', 'ragamuffin', 'rapscallions', 'snoring', 'gudgeons', 'ginger', 'girdle', 'Start', 'spikes', 'exordium', 'inculcating', 'sermonizings', 'passions', 'compounded', 'spice', 'oarsman', 'invocations', 'indolent', 'loungingly', 'managed', 'broadly', 'gaped', 'humorists', 'inferiors', 'whisperingly', 'urging', 'flint', 'Smuggled', '!)\"', 'whisper', '!)', 'hogsheads', 'clapt', 'advent', 'confident', 'accounting', 'freed', 'conjectures', 'agency', 'creeping', 'enigmatical', 'hintings', 'hammers', 'strokes', 'boiler', 'Mississippi', 'steamer', 'displayed', 'depressions', 'fencer', 'counterbalance', 'tendency', 'managing', 'lowerings', 'outstretched', 'Nimbly', 'springing', 'intensely', 'triangularly', 'platformed', 'adroitly', 'balancing', 'jerking', 'tossings', 'chip', 'breathlessly', 'loggerhead', 'rooted', 'platform', 'spacious', 'palm', 'trucks', 'erecting', 'volunteered', 'pedestal', 'taller', 'Whereupon', 'firmly', 'toss', 'fling', 'furnishing', 'breastband', 'tyro', 'habitude', 'riotously', 'perverse', 'giddily', 'sustaining', 'unthought', 'harmoniously', 'flaxen', 'flake', 'bearer', 'rider', 'ostentatious', 'stamp', 'lordly', 'Vanity', 'stamping', 'alter', 'betrayed', 'solicitudes', 'languishing', 'hatband', 'aslant', 'feather', 'rammed', 'thumb', 'ignited', 'sandpaper', 'attitude', 'crying', 'phrensy', 'greenish', 'suffusingly', 'confused', 'vibrated', 'tingled', 'heated', 'plates', 'Beneath', 'curling', 'partially', 'Seen', 'forerunning', 'couriers', 'outriders', 'bade', 'outstrip', 'lowest', 'intensest', 'concentrated', 'startlingly', 'pierced', 'harsh', 'entreaty', 'Roar', 'thunderbolts', 'stamped', 'flirted', 'crazed', 'philosophically', 'drawled', 'unlighted', 'Fits', 'Merrily', 'merrily', 'babes', 'sucklings', 'Softly', 'bite', 'livers', 'tornado', 'fictitious', 'incessantly', 'tantalizing', 'oarsmen', 'ram', 'skewer', 'necks', 'pronouncing', 'organs', 'gunwales', 'bowls', 'bowling', 'sharper', 'glens', 'hollows', 'spurrings', 'goadings', 'headlong', 'sled', 'brood', 'thrilling', 'raw', 'recruit', 'fever', 'charmed', 'churned', 'dun', 'cloud', 'tilted', 'separating', 'worked', 'suffusing', 'denoted', 'overheard', 'hurtling', 'wallowing', 'elephants', 'stirring', 'litter', 'hissing', 'crests', 'ledge', 'collapsed', 'exploded', 'suffocated', 'helter', 'skelter', 'curdling', 'cream', 'swamped', 'Swimming', 'bucklers', 'crackled', 'unconsumed', 'furnace', 'bale', 'propellers', 'preservers', 'waterproof', 'keg', 'failures', 'contrived', 'ignite', 'stretching', 'waif', 'imbecile', 'forlornness', 'Wet', 'drenched', 'hollowing', 'mists', 'Affrighted', 'loomed', 'Floating', 'abandoned', 'haply', '49', 'wit', 'discerns', 'dispirits', 'disputing', 'creeds', 'beliefs', 'persuasions', 'knobby', 'ostrich', 'gobbles', 'bullets', 'flints', 'difficulties', 'worryings', 'disaster', 'limb', 'sly', 'natured', 'hits', 'punches', 'joker', 'wayward', 'tribulation', 'desperado', 'foggy', 'discretion', 'leaking', 'twist', 'squint', 'impartial', 'witnesses', 'capsizings', 'consequent', 'bivouacks', 'occurrence', 'resign', 'impetuousness', 'scuttling', 'stampings', 'imputed', 'heedfulness', 'implicated', 'draft', 'lawyer', 'executor', 'legatee', 'tinkering', 'wills', 'testaments', 'fond', 'diversion', 'easier', 'supplementary', 'burial', 'contentedly', 'bars', 'frock', 'hindmost', '50', 'Crew', 'catch', 'toe', 'disable', 'kneel', 'jeopardize', 'Tamerlane', 'invaluable', 'maimed', 'apportioned', 'solicited', 'measures', 'published', 'foreseen', 'fitting', 'whaleboats', 'bestirring', 'thole', 'solicitously', 'skewers', 'pinned', 'groove', 'solicitude', 'sheathing', 'shaping', 'thigh', 'cleat', 'stabbing', 'semi', 'depression', 'chisel', 'gouged', 'straightened', 'preparative', 'supposition', 'involve', 'subordinate', 'waned', 'wane', 'Beelzebub', 'create', 'unsubduable', 'excitement', 'mannerly', 'tie', 'sustain', 'temperate', 'glide', 'Asiatic', 'communities', 'ghostly', 'aboriginalness', 'descendants', 'unknowing', 'Genesis', 'uncanonical', 'Rabbins', 'indulged', 'amours', '51', 'Days', 'Verdes', 'Plate', 'Rio', 'Plata', 'Carrol', 'unstaked', 'locality', 'southerly', 'Helena', 'scrolls', 'seethings', 'silvery', 'Lit', 'successive', 'uttering', 'reclining', 'winged', 'quivered', 'pleasure', 'impressive', 'exciting', 'instinctively', 'Walking', 'royals', 'stunsail', 'upheaving', 'buoyant', 'antagonistic', 'struggling', 'yawingly', 'goal', 'watched', 'echoes', 'tap', 'sped', 'arrows', 'overtake', 'Mysteriously', 'jetted', 'starlight', 'disappearing', 'repetition', 'alluring', 'accordance', 'preternaturalness', 'unnearable', 'treacherously', 'beckoning', 'rend', 'blandness', 'voyaged', 'wearily', 'lonesomely', 'vengeful', 'vacating', 'urn', 'eastward', 'tusked', 'gored', 'showers', 'vacuity', 'Close', 'ravens', 'stays', 'hootings', 'obstinately', 'hemp', 'drifting', 'uninhabited', 'roosting', 'homeless', 'selves', 'remorse', 'suffering', 'Tormentoto', 'yore', 'allured', 'perfidious', 'silences', 'transformed', 'everlastingly', 'unvarying', 'directing', 'feathers', 'gloomiest', 'reserve', 'passively', 'await', 'issue', 'fatalists', 'congeal', 'eyelashes', 'burstingly', 'bowline', 'loosened', 'Few', 'prevailed', 'bowlines', 'wordless', 'demanding', 'barometer', 'dripping', 'unremoved', 'unrolled', 'tale', 'inform', 'Terrible', 'eyest', '52', 'Crozetts', 'Whalemen', 'fullers', 'spectral', 'traced', 'channels', 'reddened', 'furred', 'hoar', 'clad', 'skins', 'bepatched', 'raiment', 'fathomless', 'amain', 'evincing', 'observance', 'advantage', 'Ahoy', 'letters', 'placidly', 'voyagings', 'capriciously', 'Swim', 'helpless', 'diminish', 'inspire', 'whereto', 'circumnavigation', 'distances', 'Cyclades', 'mazes', 'midway', 'whelmed', '53', 'Gam', 'ostensible', 'storms', 'negative', 'consort', 'contribute', 'information', 'absorbingly', 'inadequately', 'estimated', 'Pine', 'Barrens', 'equally', 'Salisbury', 'Plain', 'casually', 'inhospitable', 'wilds', 'salutation', 'interchange', 'illimitable', 'Plains', 'Fanning', 'Mills', 'hails', 'consequently', 'bounder', 'date', 'blurred', 'files', 'transfer', 'meets', 'exchange', 'agreeable', 'congenialities', 'privations', 'meetings', 'occur', 'shyness', 'Englishman', 'Yankee', 'nondescript', 'provincialisms', 'peasant', 'collectively', 'foible', 'foibles', 'dandies', 'indulging', 'finical', 'criticism', 'bowings', 'scrapings', 'ducking', 'ensigns', 'brotherly', 'Pirates', 'skulls', 'villains', 'overmuch', 'likenesses', 'unostentatious', 'GAM', 'repeat', 'spouters', 'boilers', 'exclamations', 'elevation', 'foundation', 'boasting', 'index', 'dictionaries', 'Dr', 'Johnson', 'erudition', 'Lexicon', 'learnedly', 'NOUN', 'SOCIAL', 'MORE', 'WHALESHIPS', 'GENERALLY', 'CRUISING', 'GROUND', 'WHEN', 'AFTER', 'EXCHANGING', 'HAILS', 'EXCHANGE', 'VISITS', 'BOATS', 'CREWS', 'CAPTAINS', 'REMAINING', 'TIME', 'BOARD', 'CHIEF', 'MATES', 'Gamming', 'detail', 'rowed', 'cushioned', 'steers', 'milliner', 'decorated', 'ribbons', 'sofa', 'wheeled', 'gouty', 'aldermen', 'effeminacy', 'gamming', 'maintaining', 'reciprocating', 'rapping', 'wedged', 'settling', 'topple', 'Merely', 'straddling', 'steadying', 'ballast', 'authenticated', '54', 'Town', 'Ho', 'Story', 'AS', 'GOLDEN', 'INN', ',*', 'Polynesians', 'gam', 'obscurely', 'visitation', 'judgments', 'narrated', 'confederate', 'communicated', 'injunctions', 'secrecy', 'rambled', 'withhold', 'governed', 'transpired', 'abaft', 'Interweaving', 'thread', 'publicly', 'lasting', 'sighting', 'Gallipagos', 'terrapin', 'saint', 'gilt', 'tiled', 'piazza', 'Golden', 'cavaliers', 'Dons', 'Pedro', 'Sebastian', 'interluding', 'rehearsing', 'Whaler', 'eaves', 'handling', 'stabbed', 'believing', 'awaited', 'averse', 'searching', 'cruisings', 'sensibly', 'hove', 'repaired', 'commonest', 'favoured', 'prosperous', 'brutal', 'Radney', 'provoked', 'Steelkilt', 'Lakeman', 'Buffalo', 'Pray', 'eastern', 'Lake', 'Erie', 'crave', 'masted', 'Callao', 'Manilla', 'agrarian', 'freebooting', 'interflowing', 'Ontario', 'Huron', 'Superior', 'Michigan', 'expansiveness', 'noblest', 'traits', 'rimmed', 'races', 'contain', 'Polynesian', 'shored', 'approaches', 'territorial', 'East', 'banks', 'frowned', 'batteries', 'craggy', 'Mackinaw', 'thunderings', 'victories', 'peltry', 'wigwams', 'flanked', 'unentered', 'serried', 'genealogies', 'harboring', 'Afric', 'exported', 'furs', 'capitals', 'Cleveland', 'Winnebago', 'rigged', 'cruiser', 'Borean', 'dismasting', 'blasts', 'lash', 'shipwrecks', 'inlander', 'austere', 'quarrel', 'backwoods', 'buck', 'bowie', 'inflexible', 'firmness', 'tempered', 'decency', 'docile', 'doomed', 'require', 'skippers', 'pumping', 'subsiding', 'clanging', 'accessible', 'afforded', 'hoisted', 'unthinking', 'conveniently', 'slily', 'overflowed', 'rippling', 'bubbling', 'scupper', 'conventional', 'manhood', 'conceives', 'dislike', 'bitterness', 'pulverize', 'heap', 'tasseled', 'viceroy', 'snorting', 'Charlemagne', 'Espying', 'unawed', 'banterings', 'cannikin', 'bottling', 'Rad', 'investment', 'gang', 'posse', 'slashing', 'scatter', 'estate', 'Boys', 'Lively', 'clanged', 'engines', 'gasping', 'denotes', 'tension', 'energies', 'panting', 'wiping', 'profuse', 'cozening', 'fiend', 'meddle', 'Intolerably', 'shovel', 'offensive', 'allowing', 'inflexibility', 'instinctive', 'neatness', 'washing', 'prescriptive', 'province', 'gangs', 'athletic', 'trivial', 'malignant', 'stacks', 'forbearance', 'unwillingness', 'passionateness', 'ireful', 'aggrieved', 'exhaustion', 'alluding', 'sweepers', 'billeted', 'domineering', 'unconditionally', 'reiterating', 'club', 'snatched', 'Heated', 'irritated', 'spasmodic', 'sweating', 'brook', 'smothering', 'conflagration', 'doggedly', 'incensed', 'menacing', 'intimation', 'warned', 'infatuated', 'forborne', 'comported', 'repeating', 'Retreating', 'thousandth', 'unflinching', 'poniard', 'clenching', 'creepingly', 'persecutor', 'slaughter', 'Immediately', 'backstays', 'mastheads', 'Canallers', 'harbours', 'Pardon', 'boatmen', 'Canal', 'Senor', 'chicha', 'populous', 'thriving', 'swamps', 'affluent', 'cultivated', 'unrivalled', 'fertility', 'billiard', 'holies', 'Mohawk', 'counties', 'chapels', 'milestones', 'Venetianly', 'Ashantee', 'patronising', 'freebooters', 'encamp', 'justice', 'vicinities', 'friar', 'crowded', 'plazza', 'Dame', 'Isabella', 'Inquisition', 'wanes', 'Proceed', 'Limeese', 'Venice', 'Corrupt', 'plentiful', 'Dominic', 'purge', 'Thanks', 'Freely', 'depicted', 'Canaller', 'picturesquely', 'Antony', 'turfed', 'Nile', 'toying', 'Cleopatra', 'ripening', 'apricot', 'brigandish', 'sports', 'gaily', 'ribboned', 'betoken', 'smiling', 'visage', 'swagger', 'unshunned', 'vagabond', 'canal', 'ungrateful', 'redeeming', 'wealthy', 'emphatically', 'graduates', 'Sydney', 'curiousness', 'rural', 'probationary', 'reaping', 'spilling', 'ruffles', 'backstay', 'junior', 'baleful', 'comets', 'uproar', 'Others', 'turmoil', 'danced', 'manhandle', 'atrocious', 'scoundrel', 'border', 'prick', 'desperadoes', 'hastily', 'slewing', 'Parisians', 'entrenched', 'barricade', 'throats', 'defied', 'worst', 'pistols', 'signal', 'mutiny', 'Fearing', 'desisted', 'insurgents', 'ringleader', 'Sink', 'response', 'patrolled', 'sentences', \":--'\", 'fault', 'mincing', 'decently', 'flogged', 'promises', 'claim', 'discharge', 'Shall', 'preceded', 'growlingly', 'brass', 'padlock', 'companionway', 'hatchway', 'feared', 'bulkhead', 'clinking', 'clanking', 'resounded', 'prisoners', 'yell', 'refused', 'pocketing', 'Twice', 'wrangling', 'scuffling', 'summons', 'delivered', 'fetid', 'closeness', 'famishing', 'diet', 'retribution', 'surrender', 'Emboldened', 'reiterated', 'babbling', 'betake', 'mutineers', 'jeer', 'Shut', 'clicked', 'defection', 'associates', 'stung', 'mocking', 'entombment', 'garrison', 'crescentic', 'implements', 'amuck', 'devilishness', 'desperation', 'opposition', 'objected', 'reserving', 'miscreants', 'treachery', 'determination', 'chemistry', 'villany', 'treacheries', 'gagged', 'shrieked', 'Thinking', 'smelling', 'allies', 'claimed', 'collared', 'vultures', 'rebelled', 'flog', 'timely', 'reprimand', 'administered', 'vernacular', 'rogues', 'mince', 'traitors', 'lifelessly', 'crucified', 'bantam', 'gag', 'mutineer', 'tremulous', 'cramped', 'Best', 'inaudible', 'execute', 'bandaged', 'crept', 'pinioned', 'sullenly', 'clamor', 'besieged', 'durst', 'Entreaties', 'cuffs', 'reappeared', 'mainly', 'instigation', 'peacefulness', 'insure', 'speediest', 'adopt', 'passiveness', 'counsel', 'ventricles', 'unseamanlike', 'dozed', 'vacancy', 'leisure', 'braiding', 'lanyard', 'oddish', 'Shipmate', 'begging', 'netted', 'tucking', 'Twenty', 'ordaining', 'corpse', 'murderer', 'planned', 'avenger', 'damning', 'daybreak', 'stupid', 'Teneriffe', 'Jesu', 'christenings', 'Whom', 'Spaniards', 'crowding', 'rehearse', 'Sirs', 'perceiving', 'forgetful', 'compact', 'undeterred', 'rumours', 'dogged', 'askance', 'spangling', 'opal', 'Gentlemen', 'pervades', 'verily', 'mapped', 'charted', 'bowsman', 'haul', 'slacken', 'strained', 'topmost', 'blinding', 'blent', 'whitenesses', 'keeling', 'righted', 'maelstrom', 'swimmer', 'slackened', 'whirlpool', 'resided', 'foremastmen', 'reduced', 'assist', 'laborious', 'unresting', 'necessitated', 'underwent', 'weakened', 'stacked', 'poop', 'warning', 'procure', 'reinforcement', 'corals', 'yoked', 'assuring', 'bury', 'Adios', 'Watching', 'beached', 'roots', 'cocoa', 'befriended', 'providentially', 'Tahitians', 'Chartering', 'refuses', 'entreat', 'convictions', 'source', 'Also', 'Evangelists', 'priest', 'advised', 'Auto', 'da', 'Fe', 'archiepiscopacy', 'withdraw', 'Excuse', 'procuring', 'sized', 'brings', 'gravely', 'talked', '55', 'Monstrous', 'Pictures', 'advert', 'imaginary', 'portraits', 'challenge', 'proving', 'pictorial', 'delusions', 'Hindoo', 'Grecian', 'sculptures', 'inventive', 'unscrupulous', 'panellings', 'temples', 'pedestals', 'statues', 'shields', 'medallions', 'chain', 'Saladin', 'presentations', 'portrait', 'purporting', 'cavern', 'Brahmins', 'trades', 'pursuits', 'avocation', 'prefigured', 'shadowed', 'occurs', 'depicting', 'Vishnu', 'Matse', 'Avatar', 'sculpture', 'section', 'Galleries', 'painter', 'succeeds', 'antediluvian', 'Guido', 'rescuing', 'Andromeda', 'Hogarth', 'Descending', 'whit', 'corpulence', 'Hogarthian', 'undulates', 'howdah', 'Traitors', 'Gate', 'Prodromus', 'Bibles', 'cuts', 'primers', 'binder', 'vine', 'stalk', 'imitated', 'figures', 'vases', 'universally', 'Italian', 'publisher', '15th', 'Revival', 'Learning', 'dolphins', 'vignettes', 'embellishments', 'eau', 'Saratoga', 'Baden', 'unexhausted', 'edition', 'Advancement', 'unprofessional', 'delineations', 'Harris', 'collection', 'Peterson', 'Friesland', 'rafts', 'represented', 'quarto', 'Colnett', 'Spermaceti', 'Fisheries', 'Picture', 'scale', '1793', 'veracious', 'benefit', 'compilations', 'tender', 'heinousness', 'Goldsmith', 'Animated', 'inelegant', 'unsightly', 'amputated', 'amaze', 'hippogriff', 'genuine', '1825', 'Bernard', 'Germain', 'Count', 'systemized', 'incorrect', 'sheaf', 'blundering', 'Before', 'provide', 'squash', 'predecessor', 'abortions', 'saucers', 'painters', 'shops', 'Richard', 'dromedary', 'humps', 'breakfasting', 'tarts', 'deformities', 'floundering', 'manifold', 'mistakes', 'drawings', 'wrecked', 'represent', 'undashed', 'hoist', 'undulations', 'highly', 'presumable', 'contour', 'Platonian', 'limbered', 'accurate', 'Jeremy', 'Bentham', 'library', 'burly', 'characteristics', 'articulated', 'padded', 'chrysalis', 'roundingly', 'envelopes', 'strikingly', 'permanently', 'mittens', 'unpainted', 'exactness', 'fastidious', '56', 'Erroneous', 'Scenes', 'Purchas', 'Hackluyt', 'outlines', 'Huggins', 'excepting', 'capping', 'frontispiece', 'attacking', 'scepticism', 'admirably', 'wretchedly', 'engraved', 'convey', 'desirable', 'deficiency', 'truthful', 'engravings', 'executed', 'paintings', 'Garnery', 'Respectively', 'engraving', 'risen', 'stoven', 'incomputable', 'precipice', 'emptied', 'tub', 'bob', 'Serious', 'mossy', 'soot', 'cooking', 'pecking', 'candies', 'maccaroni', 'pestilent', 'lipped', 'tons', 'causing', 'foreground', 'artistic', 'becalmed', 'drooping', 'unstarched', 'powerless', 'inert', 'conversant', 'marvellously', 'tutored', 'gallery', 'triumphal', 'Versailles', 'beholder', 'battles', 'Lights', 'centaurs', 'aptitude', 'picturesqueness', 'sketches', 'draughtsmen', 'presenting', 'profile', 'sketching', 'renowned', 'miniatures', 'classical', 'chopping', 'diligence', 'Leuwenhoeck', 'submits', 'inspection', 'ninety', 'fac', 'similes', 'disparagement', 'voyager', 'oversight', 'affidavit', 'subscribes', 'Durand', 'deserves', 'inshore', 'breezeless', 'Leviathanic', 'quay', 'smithies', 'rains', 'quicken', '57', 'Paint', 'Teeth', 'Sheet', 'Stone', 'Stars', 'KEDGER', 'integrity', 'justification', 'clearings', 'speech', 'ruefully', 'contemplating', 'amputation', 'Throughout', 'graven', 'busks', 'skrimshander', 'ingenious', 'elaborately', 'carve', 'dentistical', 'skrimshandering', 'tool', 'exile', 'civilization', 'restores', 'savagery', 'allegiance', 'Cannibals', 'rebel', 'patience', 'Hawaiian', 'multiplicity', 'elaboration', 'trophy', 'perseverance', 'lexicon', 'intricacy', 'cost', 'workmanlike', 'maziness', 'Achilles', 'shield', 'suggestiveness', 'Albert', 'Durer', 'Wooden', 'forecastles', 'accuracy', 'roofed', 'knockers', 'porter', 'anvil', 'intents', 'labelled', 'HANDS', 'OFF', 'ribby', 'groupings', 'petrified', 'windy', 'surges', 'amphitheatrical', 'heights', 'glimpses', 'profiles', 'defined', 'ridges', 'intersecting', 'Soloma', 'incognita', 'ruffed', 'Mendanna', 'Figuera', 'chronicled', 'expandingly', 'starry', 'armies', 'Pole', 'revolutions', 'effulgent', 'Argo', 'Navis', 'Hydrus', 'Flying', 'bridle', 'fasces', 'fabled', 'encamped', '58', 'Brit', 'Steering', 'brit', 'undulated', 'numbers', 'sluggishly', 'fringing', 'separated', 'seethingly', 'grassy', 'swaths', 'shallows', 'drifts', 'blackened', 'elevations', 'beholds', 'renders', 'bulky', 'overgrowth', 'specialties', 'analogy', 'unspeakably', 'unsocial', 'repelling', 'Columbus', 'superficial', 'immemorially', 'befallen', 'tens', 'brag', 'stateliest', 'stiffest', 'aboriginally', 'Portuguese', 'covers', 'Wherein', 'miracle', 'Preternatural', 'Hebrews', 'Korah', 'murdered', 'sparing', 'spawned', 'tigress', 'jungle', 'overlays', 'controls', 'Panting', 'overruns', 'subtleness', 'unapparent', 'loveliest', 'brilliance', 'cannibalism', 'gentle', 'verdant', 'encompassed', 'Push', 'canst', '59', 'Squid', 'Slowly', 'wading', 'Java', 'impelling', 'languid', 'unattended', 'stagnant', 'burnished', 'glade', 'enjoining', 'slippered', 'spectre', 'disentangling', 'arose', 'stiletto', 'nod', 'swarming', 'bees', 'boughs', 'Bare', 'attendance', 'connect', 'whichever', 'reappearance', 'forgetting', 'pulpy', 'furlongs', 'innumerable', 'anacondas', 'hapless', 'perceptible', 'sensation', 'Whatever', 'rarely', 'obtains', 'zones', 'disgorge', 'ordinarily', 'clings', 'Kraken', 'Bishop', 'Pontoppodan', 'ultimately', 'describes', 'alternately', 'narrates', 'abatement', 'assigns', 'Anak', '60', 'magical', 'vapoured', 'impregnated', 'pliable', 'maker', 'stiffen', 'adds', 'durability', 'compactness', 'gloss', 'superseded', 'durable', 'aesthetics', 'Hemp', 'Circassian', 'thickness', 'suspend', 'spirally', 'densely', 'bedded', 'layers', 'concentric', 'spiralizations', 'tangle', 'precaution', 'stowing', 'consume', 'reeving', 'twists', 'twin', 'diameter', 'freight', 'distributed', 'cake', 'terminating', 'loop', 'disengaged', 'facilitate', 'fastening', 'threaten', 'mug', 'hovers', 'profundity', 'crier', 'loom', 'jogs', 'leaded', 'chocks', 'quill', 'prevents', 'festoon', 'continues', 'mystifications', 'tedious', 'writhing', 'contortions', 'jugglers', 'snakes', 'sportively', 'festooning', 'intricacies', 'straining', 'circumstanced', 'marrow', 'jelly', 'Gayer', 'sallies', 'mirth', 'jokes', 'repartees', 'hangman', 'nooses', 'burghers', 'Calais', 'Edward', 'composing', 'halter', 'whizzings', 'engine', 'grazing', 'cradle', 'adjusting', 'buoyancy', 'simultaneousness', 'Mazeppa', 'pierce', 'precedes', 'prophesies', 'explosion', 'graceful', 'serpentines', 'enveloped', 'halters', 'realize', 'poker', '61', 'Kills', 'honing', 'parm', 'resist', 'voyaging', 'affords', 'fewer', 'denizens', 'resolution', 'pendulum', 'forgetfulness', 'nodded', 'vices', 'glossy', 'trough', 'vapoury', 'burgher', 'enchanter', 'wakefulness', 'Clear', 'Luff', 'spokes', 'majestically', 'tranquillity', 'flitted', 'igniting', 'smoker', 'Paddles', 'cheered', '\";', 'elevates', 'elevating', 'transform', 'sluggish', 'galliot', 'sharppointed', 'spluttering', 'cucumbers', 'graves', 'Woo', 'hoo', 'Wa', 'hee', 'screamed', 'whoop', 'bounced', 'screams', 'Kee', 'forwards', 'backwards', 'cage', 'Ka', 'Koo', 'loo', 'smacking', 'mouthful', 'Grenadier', 'steak', 'yells', 'keels', 'retaining', 'encouraged', 'tugged', 'circlings', 'mingled', 'fumes', 'blisteringly', 'cloths', 'quilted', 'edged', 'staggering', 'Partly', 'indispensableness', 'mop', 'piggin', 'bailer', 'vibrating', 'harpstring', 'played', 'ceaseless', 'eddy', 'clinging', 'Whole', 'Atlantics', 'Pacifics', 'Haul', 'sterning', 'brooks', 'bubbled', 'seethed', 'crimson', 'pond', 'reflection', 'glowed', 'agonizingly', 'spiracle', 'vehement', 'waning', 'churning', 'flurry', 'horribly', 'wallowed', 'overwrapped', 'impenetrable', 'imperilled', 'struggle', 'phrensied', 'abating', 'spasmodically', 'dilating', 'contracting', 'agonized', 'respirations', 'clotted', 'frighted', 'thoughtfully', '62', 'Dart', 'invariable', 'pushes', 'killer', 'fastener', 'uttermost', 'superhuman', 'bawl', 'crotch', 'disrated', 'expect', 'boatheader', 'majority', 'efficiency', '63', 'Crotch', 'twigs', 'productive', 'notched', 'slopingly', 'projects', 'Thereby', 'hurler', 'reposing', 'cord', 'doubling', 'convulsive', 'anticipatingly', 'Tumbled', 'prudently', 'Furthermore', 'thenceforth', 'dangling', 'skittishly', 'curvetting', 'entangling', 'engaging', 'unusually', 'concurring', 'enterprise', 'ineffectually', 'faithfully', 'elucidate', 'passages', '64', 'tandem', 'thumbs', 'toiled', 'budge', 'Hang', 'freighted', 'argosy', 'forged', 'Darkness', 'lanterns', 'Vacantly', 'dissatisfaction', 'links', 'Tied', 'bullocks', 'whereof', 'reclines', 'density', 'relatively', 'heavier', 'flexibility', 'ingeniously', 'overcome', 'adroit', 'junction', 'lobes', 'quiescence', 'flushed', 'conquest', 'helping', 'liveliness', 'manifest', 'intemperately', 'flavorish', 'palate', 'defray', 'expenses', 'realizing', 'stoutly', 'sideboard', 'banqueter', 'Mingling', 'mumblings', 'mastications', 'smackingly', 'feasted', 'fatness', 'bunks', 'slapping', 'Peering', 'scooped', 'unassailable', 'contrive', 'gouge', 'symmetrical', 'countersinking', 'screw', 'longingly', 'cannibally', 'tasselled', 'jewel', 'hilted', 'quarrelsomely', 'upside', 'trotting', 'handy', 'congregate', 'hilariously', 'gayer', 'jovial', 'whaleship', 'decision', 'expediency', 'conciliating', 'epicurean', 'Fleece', 'widening', 'glee', 'shambling', 'galley', 'blacks', 'assisting', 'Ebony', 'legged', 'inclining', 'reddish', 'morsel', 'overdone', 'tough', 'shindy', 'civilly', 'moderation', 'Away', 'message', 'Sullenly', 'Fellow', 'critters', 'se', 'dat', 'smackin', 'ob', 'Massa', 'hatchings', 'Gor', 'slap', 'mustn', 'convert', 'Den', 'Belubed', ':\"-', 'approvingly', 'coax', 'natur', 'wery', 'woracious', 'zay', 'woraciousness', 'slappin', 'bitin', 'collaring', 'gentlemanly', 'blame', 'gobern', 'sartin', 'ing', 'dan', 'goberned', 'ren', 'wonst', 'cibil', 'yourselbs', 'tearin', 'neighbour', 'mout', 'toder', 'berry', 'brigger', 'oders', 'mouts', 'brigness', 'swaller', 'wid', 'scrouge', 'demselves', 'willains', 'scougin', 'oder', 'dey', 'g', 'uttons', 'eber', 'shrill', 'Cussed', 'Kick', 'damndest', 'bust', 'dention', 'teak', 'testily', 'Silence', 'Bout', 'gloomily', 'bolting', 'continuation', 'Hind', 'ferry', 'ober', 'Roanoke', 'Born', 'Bress', 'noder', 'angrily', 'Faintly', 'joosy', 'squaring', 'Passed', 'parson', 'mumbled', 'dis', 'brack', 'dies', 'demeanor', 'hisself', 'bressed', 'fetched', 'colder', 'sulks', 'ticklish', 'Drop', 'clap', 'gizzard', 'Aloft', 'grizzled', 'overdoing', 'tips', 'soused', 'cutlets', 'balls', 'Wish', 'gor', 'stead', 'Shark', 'ejaculation', '65', 'Dish', 'esteemed', 'Henry', 'VIIIth', 'court', 'inventing', 'barbacued', 'Porpoises', 'spiced', 'turtle', 'veal', 'monks', 'Dunfermline', 'grant', 'pie', 'unprejudiced', 'partake', 'Esquimaux', 'vintages', 'Zogranda', 'recommends', 'strips', 'infants', 'nourishing', 'reminds', 'Englishmen', 'mouldy', 'scraps', 'fritters', 'resemble', 'crisp', 'housewives', 'dough', 'oly', 'cooks', 'eatable', 'denying', 'depreciates', 'richness', 'prize', 'delicately', 'jellied', 'cocoanut', 'growth', 'partaking', 'puddings', 'flour', 'delectable', 'calves', 'epicures', 'bucks', 'calf', 'discrimination', 'reproachfully', 'Et', 'tu', 'Brute', 'excessively', 'unctuous', 'abhorrence', 'trial', 'oxen', 'bipeds', 'quadrupeds', 'Fejee', 'cellar', 'provident', 'gourmand', 'nailest', 'geese', 'feastest', 'bloated', 'pate', 'foie', 'gras', 'roast', 'goose', 'Secretary', 'Society', 'Suppression', 'Cruelty', 'Ganders', 'formally', 'indite', 'circulars', 'patronise', 'pens', '66', 'Massacre', 'reservation', 'incalculable', 'gather', 'considerably', 'diminished', 'spades', 'tickle', 'unaccustomed', 'maggots', 'suspending', 'stages', 'foamy', 'marksmen', 'viciously', 'snapped', 'disembowelments', 'flexible', 'entrails', 'oppositely', 'voided', 'unsafe', 'corpses', 'lid', 'spade', 'corresponds', 'narrower', 'honed', 'wedder', 'wat', 'Ingin', '67', 'Cutting', 'Ex', 'officio', 'professors', 'shamble', 'butcher', 'cluster', 'hawser', 'conducted', 'weighing', 'semicircular', 'dense', 'careens', 'quivers', 'nods', 'leans', 'swash', 'triumphant', 'rind', 'orange', 'spiralizing', 'constantly', 'uniformly', 'scarf', 'peeled', 'grazes', 'cease', 'sways', 'dodge', 'dexterously', 'slices', 'Into', 'swordsman', 'slicings', 'severs', 'heavers', 'peeling', 'unfurnished', 'scarfing', 'assuaging', 'friction', '68', 'unvexed', 'controversies', 'unchanged', 'consistence', 'grained', 'tougher', 'ranges', 'preposterous', 'arguments', 'enveloping', 'outermost', 'reasonably', 'unmarred', 'shreds', 'isinglass', 'contracts', 'thickens', 'brittle', 'exerted', 'magnifying', 'thinner', 'Assuming', 'fourths', 'integument', 'liquid', 'Reckoning', 'ton', 'impressed', 'observant', 'linear', 'hieroglyphical', 'cyphers', 'retentive', 'characters', 'chiselled', 'hieroglyphic', 'palisades', 'Upper', 'undecipherable', 'phenomena', 'exterior', 'scratches', 'Agassiz', 'imagines', 'hostile', 'remarked', 'bulls', 'stript', 'wrapt', 'poncho', 'slipt', 'skirting', 'blanketing', 'enabled', 'weathers', 'unsupplied', 'surtout', 'refrigerators', 'bask', 'Freeze', 'explanation', 'amber', 'warmer', 'Borneo', 'spaciousness', 'dome', 'temperature', 'domed', '69', 'Funeral', 'beheaded', 'flashes', 'splashed', 'insatiate', 'rapacious', 'beaks', 'poniards', 'headless', 'roods', 'cubic', 'unclouded', 'wafted', 'joyous', 'perspectives', 'mourning', 'punctiliously', 'speckled', 'ween', 'peradventure', 'piously', 'pounce', 'vultureism', 'Desecrated', 'survives', 'scare', 'Espied', 'afar', 'obscuring', 'unharming', 'SHOALS', 'ROCKS', 'BREAKERS', 'HEREABOUTS', 'BEWARE', 'vacuum', 'precedents', 'utility', 'survival', 'bottomed', 'orthodoxy', 'believer', 'Cock', 'Lane', 'Doctor', '70', 'Sphynx', 'stripping', 'beheading', 'operate', 'discoloured', 'untoward', 'subterraneous', 'gash', 'skilfully', 'interdicted', 'marvel', 'behead', 'severed', 'barn', 'buoyed', 'steeply', 'Holofernes', 'Judith', 'lotus', 'unfolding', 'noiselessness', 'Decapitation', 'crutch', 'attentively', 'ungarnished', 'mosses', 'untold', 'rot', 'ballasted', 'sleepless', 'lovers', 'husband', 'longing', 'Sail', 'cheering', 'breezelessness', 'analogies', 'atom', '71', 'Jeroboam', 'faster', 'Fleet', 'signals', 'facility', 'Squaring', 'abeam', 'accommodate', 'epidemic', 'Mayhew', 'infecting', 'untainted', 'incorruptible', 'conscientiously', 'quarantine', 'communications', 'Preserving', 'topsail', 'bearings', 'Subject', 'interruptions', 'interruption', 'Pulling', 'notabilities', 'totalities', 'youngish', 'freckles', 'cabalistically', 'walnut', 'fanatic', 'togged', 'scaramouch', 'Neskyeuna', 'Shakers', 'descended', 'gunpowder', 'laudanum', 'apostolic', 'craziness', 'freshet', 'manifesto', 'deliverer', 'vicar', 'Oceanica', 'sacredness', 'apprised', 'seals', 'vials', 'devoting', 'unconditional', 'disciples', 'maltreated', 'freedom', 'plague', 'fawned', 'instructions', 'rendering', 'fanatics', 'deceiving', 'bedevilling', 'fevers', 'bilious', 'drifted', 'riotous', 'caprices', 'tumbling', 'jogged', 'frequent', 'Greedily', 'gibbering', 'Shaker', 'incarnated', 'burned', 'ardour', 'unwilling', 'opportunity', 'despite', 'denunciations', 'forewarnings', 'persuading', 'unsuccessful', 'onsets', 'hurling', 'prophecies', 'sacrilegious', 'divinity', 'reckless', 'venting', 'essaying', 'harmed', 'parenthesize', 'annihilated', 'accompanies', 'Raising', 'specifically', 'margin', 'narration', 'vehemently', 'blasphemer', 'stolidly', 'bethought', 'delivery', 'sorely', 'scrawl', 'insert', 'Har', 'pinny', 'wager', ')--', 'Curses', 'throttle', 'missive', 'mutinous', '72', 'Monkey', 'Rope', 'staying', 'retrace', 'tensing', 'submerged', 'flounders', 'revolves', 'mill', 'costume', 'scrabble', 'scramble', 'organ', 'elongated', 'Siamese', 'ligature', 'liabilities', 'bond', 'metaphysically', 'conceive', 'situation', 'misfortune', 'plunge', 'unmerited', 'interregnum', 'equity', 'gross', 'jerked', 'jam', 'plurality', 'banker', 'apothecary', 'sends', 'pills', 'multitudinous', 'heedfully', 'holder', 'improvement', 'guarantee', 'faithfulness', 'jamming', 'Unappalled', 'massacre', 'freshly', 'keenly', 'carcass', 'rabid', 'swarmed', 'beehive', 'miscellaneously', 'carnivorous', 'ravenous', 'Accordingly', 'wherewith', 'slaughtered', 'disinterested', 'happiness', 'zeal', 'muddled', 'indiscreet', 'amputating', 'slacked', 'gasp', 'consolatory', 'Cognac', 'Ginger', 'suspiciously', 'untasted', 'kindle', 'firewood', 'lucifer', 'matches', 'tinder', 'sneaking', 'Temperance', 'kannakin', 'calomel', 'jalap', 'bitters', 'drug', 'medicine', 'insurances', 'jub', 'gingerly', 'lockers', 'weazel', 'caddy', 'contained', '73', 'patches', 'commissioned', 'rods', 'diving', 'tightened', 'plied', 'contending', 'tremor', 'quivering', 'drippings', 'fagged', 'abated', 'altering', 'performed', 'circuit', 'flanking', 'multitudes', 'swum', 'thirstily', 'Israelites', 'fountains', 'vomit', 'lump', 'lard', 'Wants', 'capsize', 'gamboge', 'snake', 'disguise', 'tucks', 'oakum', 'coil', 'Striking', 'swap', 'bargain', 'Bargain', 'Pooh', 'switching', 'gentlemanlike', 'governor', 'Adventures', 'soladoes', 'Doesn', 'latch', 'admiral', 'porthole', 'oughts', 'anyhow', 'duck', 'orlop', 'sneaks', 'daresn', 'darbies', 'lets', 'kidnapping', 'kidnapped', 'kidnap', 'nape', 'grab', 'docked', 'sneak', 'Sell', 'Mean', 'necessaries', 'counterpoise', 'regained', 'Locke', 'Kant', 'trimming', 'carcases', 'overburdening', 'panniers', 'Parsee', 'lengthen', 'Laplandish', 'bandied', '74', 'Contrasted', 'View', 'folio', 'noteworthy', 'extremes', 'observable', 'mathematical', 'symmetry', 'lacks', 'dissimilar', 'lashless', 'proportion', 'sideway', 'survey', 'dagger', 'stealing', 'fronts', '):', 'imperceptibly', 'effectually', 'valleys', 'nothingness', 'sashes', 'impairing', 'reader', 'puzzling', 'involuntary', 'undiscriminating', 'excluded', 'contemporary', 'demonstrations', 'problems', 'Euclid', 'investigated', 'incongruity', 'idle', 'vacillations', 'beset', 'liability', 'frights', 'perplexity', 'diametrically', 'leaf', 'wondrously', 'evenly', 'membrane', 'imperceptible', 'hare', 'lens', 'Herschel', 'capacious', 'porches', 'cathedrals', 'Subtilize', 'levers', 'Kentucky', 'Mammoth', 'Cave', 'chaste', 'lined', 'satins', 'snuff', 'hinge', 'portcullis', 'proves', 'sulky', 'dispirited', 'hypochondriac', 'supine', 'ungainly', 'reproach', 'imprecate', 'unhinged', 'riding', 'whips', 'dentists', 'ringbolts', 'stumps', 'oaks', 'undecayed', 'sawn', 'joists', '75', 'chariot', 'shoe', 'shoemaker', 'nursery', 'spoutholes', 'bass', 'viol', 'spiracles', 'apertures', 'fix', 'crested', 'comb', 'incrustation', 'Greenlanders', 'bonnet', 'fixing', 'nestle', 'diademed', 'diadem', 'sulk', 'pout', 'measurement', 'unfortunate', 'fissure', 'Probably', 'Peruvian', 'gape', 'roof', 'scimetar', 'slats', 'depending', 'cursorily', 'fringed', 'strains', 'retains', 'openmouthed', 'curves', 'calculate', 'criterion', 'demonstrable', 'savor', 'analogical', ';*', 'hogs', 'bristles', 'CHOP', 'arch', 'whisker', 'moustache', 'tufts', 'stiffening', 'Anne', 'farthingale', 'shower', 'thoughtlessness', 'colonnades', 'Haarlem', 'rug', 'softest', 'Turkey', 'barreler', 'mandible', 'placidity', 'speculative', 'Stoic', 'Spinoza', '76', 'Battering', 'Ram', 'physiologist', 'investigate', 'unexaggerated', 'estimate', 'satisfactorily', 'slopes', 'prominence', 'sloping', 'vestige', 'cranial', 'development', 'boneless', 'contents', 'comprise', 'impregnably', 'toughness', 'inestimable', 'sharpest', 'impotently', 'Indiamen', 'cork', 'toughest', 'bravely', 'illustrates', 'hypothetically', 'bladder', 'distension', 'contraction', 'provision', 'depresses', 'unobstructed', 'elasticity', 'unique', 'celled', 'honeycombs', 'susceptible', 'irresistibleness', 'impalpable', 'destructive', 'Unerringly', 'uninjurable', 'obedient', 'specialities', 'concentrations', 'braining', 'feats', 'renounced', 'abide', 'Isthmus', 'Darien', 'elevate', 'provincial', 'sentimentalist', 'salamander', 'provincials', 'weakling', 'goddess', 'Lais', '77', 'Heidelburgh', 'Tun', 'Baling', 'Case', 'Regarding', 'quoins', 'cranium', 'subdivide', 'quoin', 'tendinous', 'Quoin', 'Euclidean', 'inclination', 'subdivided', 'honeycomb', 'recrossing', 'infiltrated', 'mystically', 'devices', 'adornment', 'tun', 'wines', 'Rhenish', 'prized', 'limpid', 'odoriferous', 'unalloyed', 'crystalline', 'leaks', 'dribbles', 'costly', 'coated', 'coating', 'lining', 'pelisse', 'decapitating', 'operator', 'magazine', 'untimely', 'invade', 'sanctuary', 'wastingly', 'wilderness', 'tapped', '78', 'Cistern', 'Buckets', 'Nimble', 'cat', 'overhanging', 'travelling', 'sheaved', 'Securing', 'vivaciously', 'Muezzin', 'searches', 'alert', 'Inserting', 'guides', 'dairy', 'pail', 'Carefully', 'remounting', 'cistern', 'harder', 'baling', 'heedless', 'cabled', 'oozy', 'Evil', 'eightieth', 'suckingly', 'senses', 'Swing', 'hoisters', 'struggles', 'ramming', 'cartridge', 'rocket', 'Rock', 'pendulous', 'splash', 'rescue', 'ripple', 'sinker', 'Drawn', 'lunges', 'averred', 'obstetrics', 'impediments', 'Midwifery', 'taught', 'fencing', 'boxing', 'slipperiness', 'curb', 'sagaciously', 'tissued', 'lightest', 'corky', 'makest', 'sinks', 'counteracted', 'undetached', 'agile', 'smothered', 'whitest', 'daintiest', 'coffined', 'hearsed', 'tombed', 'sanctum', 'sanctorum', 'sweeter', 'delicious', 'honey', 'Plato', '79', 'Prairie', 'scan', 'bumps', 'Physiognomist', 'Phrenologist', 'undertaken', 'hopeful', 'Lavater', 'scrutinized', 'Gall', 'manipulated', 'Dome', 'Pantheon', 'studies', 'dwells', 'modifications', 'disciple', 'Spurzheim', 'phrenological', 'sciences', 'achieve', 'Physiognomically', 'anomalous', 'modifies', 'combined', 'appendage', 'gardening', 'spire', 'cupola', 'physiognomically', 'belfry', 'Dash', 'Phidias', 'remainder', 'proportions', 'sculptured', 'physiognomical', 'conceptions', 'insist', 'obtruding', 'beadle', 'curled', 'Pushing', 'defiles', 'affixed', 'decrees', 'alpine', 'foreheads', 'Shakespeare', 'Melancthon', 'tideless', 'antlered', 'immensely', 'amplified', 'firmament', 'pleated', 'dumbly', 'domineer', 'genius', 'Genius', 'Orient', 'World', 'magian', 'crocodile', 'tongueless', 'protrusion', 'cultured', 'lure', 'livingly', 'enthrone', 'egotistical', 'unhaunted', 'Champollion', 'deciphered', 'granite', 'decipher', 'Physiognomy', 'William', 'languages', 'simplest', 'unlettered', 'Chaldee', 'Read', '80', 'Nut', 'Sphinx', 'phrenologist', 'geometrical', 'Unhinge', 'angularly', 'squared', 'superincumbent', 'crater', 'cavity', 'reposes', 'outworks', 'citadel', 'fortifications', 'secreted', 'Lying', 'convolutions', 'unload', 'spermy', 'reversed', 'scaled', 'confound', 'remarking', 'veneration', 'negations', 'affirmative', 'truest', 'exhilarating', 'deem', 'vertebrae', 'dwarfed', 'rudimental', 'undeveloped', 'inlaying', 'basso', 'relievo', 'phrenologists', 'cerebellum', 'spinal', 'joist', 'upheld', 'rejoice', 'Apply', 'phrenology', 'fibrous', 'communicates', 'emerging', 'undecreasing', 'smallness', 'compensated', 'convex', 'relative', 'indomitable', '81', 'Meets', 'Jungfrau', 'Derick', 'Deer', 'Bremen', 'wavingly', 'feeder', 'Yarman', 'tin', 'borrowing', 'invertedly', 'contradict', 'Newcastle', 'indubitably', 'heeding', 'CLEAN', 'deserving', 'slewed', 'feeders', 'average', 'pod', 'Aware', 'spans', 'harness', 'unrolling', 'parchment', 'humped', 'incrustations', 'overgrowing', 'afflicted', 'jaundice', 'infirmity', 'questionable', 'retarded', 'muzzle', 'commotions', 'upbubble', 'paregoric', 'ache', 'acre', 'Adverse', 'yaw', 'overladen', 'Indiaman', 'Hindostan', 'load', 'buries', 'wallows', 'cumbrous', 'sling', 'neared', 'rivals', 'deriding', 'gesture', 'ungracious', 'mocks', 'dares', 'greyhounds', 'villainous', 'brandy', 'Halloo', 'budding', 'spit', 'suds', 'jacks', 'quahogs', 'muffins', 'barreller', 'DON', 'duff', 'sog', 'sogger', 'bank', 'retarding', 'economically', 'unmannerly', 'dogger', 'loads', 'Fiercely', 'incited', 'taunts', 'momentarily', 'chivalrous', 'slides', 'gallantry', 'crab', 'midship', 'capsizing', 'diagonically', 'foaming', 'pitiable', 'maddening', 'yawed', 'clipped', 'circles', 'piratical', 'hawks', 'plaintive', 'chained', 'respiration', 'stoutest', 'pitied', 'foiled', 'chose', 'hazard', 'diagonal', 'Blinding', 'bumped', 'baffled', 'distressed', 'sunbeam', 'kettles', 'cougar', 'tilbury', 'mail', 'tumultuously', 'loggerheads', 'exhaust', 'sterns', 'ceasing', 'expending', 'hooking', '2000', 'atmospheres', 'groan', 'Seems', 'credible', 'Canst', 'layeth', 'habergeon', 'esteemeth', 'stubble', 'laugheth', 'unfulfilments', 'prophets', 'thighs', 'conducting', 'wires', 'throbs', 'bounce', 'icefield', 'herd', 'valves', 'non', 'valvular', 'drain', 'arterial', 'perilously', 'moisture', 'untouched', 'misgrown', 'prostrate', 'protruded', 'bulbs', 'bridals', 'makings', 'illuminate', 'inoffensiveness', 'disclosed', 'protuberance', 'bushel', 'humane', 'ulcerous', 'goaded', 'bespattering', 'glorying', 'marring', 'helplessly', 'flapped', 'piteous', 'expiring', 'stifled', 'lowers', 'unrifled', 'buoy', 'artificially', 'corroded', 'healed', 'denote', 'ulceration', 'rummaged', 'cabinet', 'discoveries', 'unprecedentedly', 'ordering', 'resolutely', 'locking', 'gabled', 'gasped', 'inlayings', 'cabins', 'dislocation', 'crows', 'adrift', 'timberheads', 'ponderosity', 'sparks', 'Usually', 'pads', 'aspirations', 'flush', 'incumbrance', 'lapse', 'Gases', 'generated', 'balloon', 'Bays', 'buoys', 'uncapturable', 'unskilful', 'Backs', 'Dericks', '82', 'Honour', 'Glory', 'enterprises', 'disorderliness', 'honourableness', 'demi', 'transported', 'subordinately', 'emblazoned', 'fraternity', 'sordid', 'knightly', 'daughter', 'intrepidly', 'exploit', 'Arkite', 'legends', 'Italy', 'triumph', 'suggestively', 'Akin', 'Dragon', 'chronicles', 'dragons', 'jumbled', 'Ezekiel', 'versions', 'subtract', 'reptile', 'mislead', 'griffin', 'horseback', 'artists', 'crawled', 'ridden', 'ancientest', 'strict', 'Philistines', 'Dagon', 'Israel', 'tutelary', 'guardian', 'patron', 'frocks', 'decoration', 'Crockett', 'Kit', 'Carson', 'doer', 'rejoicing', 'mooted', 'clan', 'vice', 'versa', 'saints', 'demigods', 'rehearsed', 'Shaster', 'Vishnoo', 'godhead', 'Hindoos', 'incarnations', 'sanctified', 'recreate', 'dissolutions', 'preside', 'Vedas', 'perusal', 'rescued', 'horseman', '83', 'Historically', 'Regarded', 'distrust', 'orthodox', 'Arion', 'unscientific', 'choke', 'Jebb', 'anticipative', 'whist', 'Possibly', 'ensconced', 'toothless', 'incarcerated', 'gastric', 'juices', 'falls', 'exegetist', 'supposes', 'DEAD', 'campaign', 'divined', 'continental', 'commentators', 'christened', 'Gull', 'Eagle', 'exegetists', 'opined', 'preserver', 'inflated', 'journey', 'Tigris', 'site', 'shallow', 'weathering', 'headland', 'Bartholomew', 'Diaz', 'reputed', 'liar', 'reprehensible', 'clergy', 'via', 'magnification', 'Turks', 'devoutly', 'Mosque', '84', 'Pitchpoling', 'axles', 'grease', 'unctuousness', 'crop', 'barges', 'Actium', 'exertion', 'fleetness', 'unintermitted', 'extract', 'imperative', 'dexterities', 'sleights', 'subtleties', 'manoeuvre', 'pitchpoling', 'exercises', 'boasts', 'inveterate', 'accurately', 'Steel', 'pitchpoled', 'drawbacks', 'coolness', 'equanimity', 'emergencies', 'excel', 'fleecy', 'Handling', 'whistlingly', 'waistband', 'juggler', 'impulse', 'Instead', 'spigot', 'today', 'Orleans', 'whiskey', 'Monongahela', 'canakin', 'brew', 'quaff', 'greyhound', 'skilful', 'leash', 'pitchpoler', '85', 'Fountain', 'sprinkling', 'mistifying', 'sprinklings', 'spoutings', 'P', 'M', 'sixteenth', 'contingent', 'inhaling', 'windpipe', 'function', 'withdraws', 'vivifying', 'err', 'Assume', 'aerated', 'Anomalous', 'vermicelli', 'quits', 'oxygenated', 'surplus', 'camel', 'waterless', 'stomachs', 'indisputable', 'obstinacy', 'HAVING', 'SPOUTINGS', 'unmolested', 'risings', 'respires', 'breaths', 'fetches', 'allowance', 'Remark', 'individuals', 'rates', 'replenish', 'reservoir', 'hazards', 'victory', 'serving', 'pulsations', 'truthfully', 'obliterated', 'clogged', 'Sure', 'olfactories', 'violets', 'retention', 'exclusion', 'rumbles', 'talks', 'Seldom', 'stammer', 'listener', 'conveyance', 'gas', 'returns', 'exhaled', 'discharged', 'discharging', 'rhyme', 'periods', 'pester', 'knottiest', 'undecided', 'cascading', 'superficially', 'countersunk', 'basin', 'pitcher', 'feverishly', 'smart', 'acridness', 'evade', 'investigator', 'hypothesize', 'undisputed', 'Pyrrho', 'Dante', 'treatise', 'reflected', 'worming', 'undulation', 'shingled', 'attic', 'overhung', 'canopy', 'engendered', 'contemplations', 'glorified', 'irradiate', 'enkindling', 'denials', 'Doubts', 'combination', 'regards', '86', 'Tail', 'warbled', 'praises', 'antelope', 'alights', 'expands', 'shoaling', 'overlap', 'recede', 'exquisitely', 'webbed', 'strata', 'compose', 'triune', 'student', 'undoubtedly', 'masonry', 'knit', 'muscular', 'filaments', 'loins', 'Could', 'cripple', 'flexion', 'infantileness', 'Titanism', 'Real', 'impairs', 'harmony', 'bestows', 'imposingly', 'Eckerman', 'Goethe', 'Angelo', 'hermaphroditical', 'embodied', 'brawniness', 'feminine', 'submission', 'endurance', 'conceded', 'teachings', 'wielded', 'flexions', 'Therein', 'transcend', 'Five', 'progression', 'mace', 'lobtailing', 'Fifth', 'peaking', 'wriggles', 'propulsion', 'Scroll', 'conflicts', 'contemptuously', 'eluding', 'materials', 'stitch', 'demonstrate', 'daintiness', 'maidenly', 'gentleness', 'slowness', 'tenderness', 'prehensile', 'Darmonodes', 'flower', 'nosegays', 'damsels', 'caressed', 'Stealing', 'unawares', 'unbent', 'kitten', 'plays', 'smiting', 'thunderous', 'concussion', 'wreath', 'Excepting', 'BREACH', 'grandest', 'Hell', 'Dantean', 'Isaiah', 'archangels', 'crimsoned', 'Persia', 'Ptolemy', 'Philopater', 'testified', 'Juba', 'terrier', 'lily', 'tosses', 'deplore', 'inability', 'akin', 'Free', 'Mason', 'symbols', 'methods', 'intelligently', 'assailant', 'Dissect', '87', 'Armada', 'peninsula', 'Malacca', 'territories', 'Birmah', 'Bally', 'rampart', 'studded', 'convenience', 'Sunda', 'buttressed', 'inexhaustible', 'silks', 'jewels', 'ineffectual', 'guarded', 'fortresses', 'Unlike', 'Danes', 'Orientals', 'obsequious', 'cargoes', 'waive', 'ceremonial', 'renounce', 'tribute', 'proas', 'shaded', 'coves', 'islets', 'chastisements', 'audacity', 'corsairs', 'repressed', 'remorselessly', 'pillaged', 'northwards', 'Philippine', 'haunting', 'zoned', 'circus', 'raced', 'sustenance', 'utilities', 'unusable', 'kentledge', 'brackish', 'rafted', 'grain', 'roundabout', 'admonished', 'delighted', 'cinnamon', 'renouncing', 'magnificence', 'saluted', 'premised', 'unwearied', 'embracing', 'assistance', 'aggregation', 'caravans', 'greeted', 'semicircle', 'cleft', 'willow', 'bush', 'individually', 'bluish', 'chimneys', 'metropolis', 'balmy', 'autumnal', 'unfriendly', 'defile', 'Crowding', 'deploy', 'Corresponding', 'crescent', 'hovered', 'Levelling', 'rascally', 'philanthropists', 'speeding', 'rowels', 'atheistical', 'infernally', 'gnawing', 'Cockatoo', 'grieve', 'victoriously', 'notified', 'rallied', 'battalions', 'bayonets', 'redoubled', 'Stripped', 'shirts', 'animating', 'irresolution', 'gallied', 'rout', 'Porus', 'expanding', 'aimlessly', 'distraction', 'paralysed', 'logged', 'flock', 'excessive', 'characteristic', 'herding', 'banding', 'buffaloes', 'herded', 'theatre', 'outlets', 'dashing', 'folly', 'outdone', 'outskirts', 'anticipated', 'circumspect', 'throb', 'menaced', 'mobbed', 'daunted', 'manfully', 'sheering', 'edging', 'wonted', 'dispensed', 'swamp', 'cooling', 'druggs', 'looped', 'drugg', 'requisition', 'staggeringly', 'fettered', 'malefactors', 'seats', 'drugged', 'disorders', 'vanished', 'parting', 'momentum', 'sleek', 'tumults', 'pods', 'Titanic', 'Owing', 'embayed', 'breach', 'hemmed', 'Keeping', 'cows', 'routed', 'inclusive', 'prevented', 'inexperienced', 'becharmed', 'snuffling', 'domesticated', 'patted', 'scratched', 'vaults', 'suckling', 'nourishment', 'spiritually', 'feasting', 'Gulfweed', 'measured', 'fourteen', 'frisky', 'irksome', 'lately', 'reticule', 'unborn', 'crumpled', 'ails', 'buoyantly', 'spiralling', 'umbilical', 'Madame', 'cub', 'tethered', 'entangled', 'subtlest', 'indifferently', 'gestation', 'Esau', 'Jacob', 'contingency', 'teats', 'situated', 'anus', 'breasts', 'extend', 'rivallingly', 'discolour', 'strawberries', 'salute', 'HOMINUM', 'consternations', 'indulge', 'concernments', 'serenely', 'revelled', 'dalliance', 'tornadoed', 'centrally', 'disport', 'bathe', 'entranced', 'drugging', 'frontier', 'hamstring', 'sundering', 'maiming', 'tendon', 'Arnold', 'flailing', 'wounding', 'submarine', 'nurseries', 'orbits', 'thickening', 'clusters', 'departing', 'Oars', 'gripe', 'Shove', 'bulks', 'outlet', 'escapes', 'cheaply', 'Riotous', 'clumped', 'renewed', 'onward', 'augmented', 'waifed', 'pennoned', 'illustrative', '88', 'Schools', 'Schoolmasters', 'inducing', 'aggregations', 'schools', 'females', 'mustering', 'males', 'cavalier', 'evinces', 'Ottoman', 'surroundingly', 'solaces', 'endearments', 'harem', 'concubines', 'dozen', 'EMBONPOINT', 'ramblings', 'fashionables', 'Equatorial', 'lounged', 'promenade', 'Equator', 'anticipation', 'journeys', 'wary', 'unwarrantably', 'pert', 'confidentially', 'Bashaw', 'assails', 'chases', 'unprincipled', 'rakes', 'Lothario', 'duels', 'admirers', 'elks', 'warringly', 'interweave', 'antlers', 'scars', 'furrowed', 'scolloped', 'dislocated', 'supposing', 'invader', 'diverting', 'Gently', 'insinuates', 'revels', 'lavish', 'omnivorous', 'roving', 'bower', 'exotic', 'dumps', 'increase', 'lends', 'lassitude', 'overtakes', 'sated', 'supplants', 'maidens', 'impotent', 'repentant', 'admonitory', 'forswears', 'disbands', 'exemplary', 'parallels', 'amorous', 'satirical', 'memoirs', 'Vidocq', 'Frenchman', 'younger', 'occult', 'lessons', 'inculcated', 'pupils', 'secludedness', 'betakes', 'moss', 'Daniel', 'Boone', 'characteristically', 'proverbially', 'penal', 'gout', 'Forty', 'collegians', 'wickedness', 'underwriter', 'turbulence', 'settlements', 'harems', 'sexes', '89', 'Fast', 'Loose', 'regulations', 'comprised', 'minor', 'contingencies', 'retaken', 'vexatious', 'disputes', 'applicable', 'formal', 'code', 'authorized', 'legislative', 'enactment', 'Holland', 'decreed', '1695', 'legislators', 'lawyers', 'terse', 'Pandects', 'Meddling', 'Business', 'engraven', 'forthing', 'barb', 'soonest', 'masterly', 'brevity', 'commentaries', 'expound', 'Alive', 'controllable', 'occupant', 'occupants', 'telegraph', 'cobweb', 'waifing', 'ability', 'knocks', 'Coke', 'Littleton', 'fist', 'allowances', 'scrupulous', 'trover', 'litigated', 'plaintiffs', 'forsake', 'Ultimately', 'defendants', 'appropriated', 'remonstrated', 'doxology', 'seizure', 'sued', 'Erskine', 'Ellenborough', 'defence', 'witty', 'illustrate', 'recent', 'crim', 'con', 'viciousness', 'instituted', 'stress', 'contended', 'reciprocally', 'pleadings', 'awarded', 'controverted', 'acquired', 'aforesaid', 'ploughed', 'fundamentals', 'jurisprudence', 'tracery', 'Temple', 'Law', 'props', 'Possession', 'regardless', 'serfs', 'Republican', 'slaves', 'mite', 'undetected', 'villain', 'ruinous', 'discount', 'Mordecai', 'broker', 'Woebegone', 'loan', 'Archbishop', 'Savesoul', 'L100', 'scant', 'Duke', 'Dunder', 'hamlets', 'redoubted', 'Bull', 'Ireland', 'lancer', 'Brother', 'Jonathan', 'doctrine', 'internationally', '1492', 'mistress', 'Greece', 'United', 'Rights', 'Liberties', 'smuggling', 'verbalists', 'thinkers', '90', 'Heads', 'Tails', 'balena', 'vero', 'sufficit', 'si', 'rex', 'habeat', 'caput', 'et', 'regina', 'caudam', 'BRACTON', 'L', 'C', 'Laws', 'Honourary', 'division', 'halving', 'intermediate', 'anomaly', 'courteous', 'prompts', 'railways', 'car', 'accommodation', 'Dover', 'Cinque', 'Ports', 'beaching', 'jurisdiction', 'policeman', 'Warden', 'emoluments', 'Port', 'assignment', 'writers', 'sinecure', 'busily', 'fobbing', 'eely', 'L150', 'fantasy', 'sipping', 'Blackstone', 'respectful', 'scratching', 'soften', 'Please', 'duke', 'blisters', 'Won', 'Wellington', 'clergyman', 'meddling', 'militant', 'kingdoms', 'coercing', 'delegated', 'Sovereign', 'Plowdon', 'soundest', 'Gold', 'pinmoney', 'Bench', 'Prynne', 'discourseth', 'bodices', 'mermaid', 'allegorical', 'limitations', 'symbolically', 'congeniality', '91', 'Rose', 'Bud', 'Ambergriese', 'fetor', 'recounted', 'discoverers', 'pairs', 'bet', 'furled', 'circled', 'unappropriated', 'odor', 'exhale', 'Assyrian', 'moor', 'attar', 'nosegay', 'problematical', 'indigestion', 'defunct', 'banteringly', 'Crappoes', 'Frenchmen', 'snuffers', 'wick', 'Crappo', 'leavings', 'cell', 'ambergris', 'entrapped', 'breezing', 'Issuing', 'Drawing', 'fanciful', 'bulb', 'boards', 'Bouton', 'bud', 'aromatic', 'BOUTON', 'inscription', 'ROSE', 'bulbous', 'communication', 'bawled', 'Roses', 'Guernsey', 'WHITE', 'Blanche', 'moulded', 'slung', 'YOURS', 'gardenny', 'posies', 'Guernseyman', 'joking', 'gill', 'manufacturer', 'dirty', 'upwardly', 'projected', 'booms', 'stems', 'outcries', 'anathemas', 'ajar', 'remonstrating', 'betaken', 'CABINET', 'pest', 'entreaties', 'indignations', 'Marking', 'detestation', 'conceited', 'ignoramus', 'unprofitable', 'Sounding', 'frank', 'circumventing', 'satirizing', 'interpreter', 'uppermost', 'victim', 'velvet', 'interpreting', 'babyish', 'Monsieur', 'Jago', 'baboon', 'vows', 'conjures', 'confining', 'diddled', 'inviting', 'Bordeaux', 'Thank', 'drift', 'benevolently', 'slacking', 'feigned', 'intentions', 'reap', 'fruit', 'unrighteous', 'Seizing', 'excavation', 'digging', 'pottery', 'loam', 'perfume', 'mottled', 'dent', 'guinea', 'druggist', 'unavoidably', 'impatient', '92', 'Ambergris', '1791', 'House', 'Commons', 'compound', 'soils', 'odorless', 'beads', 'ornaments', 'waxy', 'spicy', 'perfumery', 'pastiles', 'powders', 'pomatum', 'Mecca', 'frankincense', 'merchants', 'grains', 'claret', 'regale', 'inglorious', 'administering', 'Brandreth', 'blasting', 'incorruption', 'Corinthians', 'corruption', 'sown', 'Paracelsus', 'manufacturing', 'appeal', 'repel', 'biased', 'slanderous', 'aspersion', 'disproved', 'slatternly', 'untidy', 'rebut', 'odious', 'stigma', 'originate', 'traceable', 'bung', 'shortness', 'Icy', 'unloading', 'cemeteries', 'dock', 'excavating', 'Hospital', 'Schmerenburgh', 'Smeerenberg', 'Fogo', 'Von', 'Slack', 'Smells', 'imports', 'smeer', 'berg', 'furnaces', 'sheds', 'casked', 'scentless', 'detect', 'Jew', 'enjoys', 'dispenses', 'scented', 'rustles', 'liken', 'fragrance', 'Must', 'redolent', 'myrrh', '93', 'Castaway', 'lamentable', 'sequel', 'timorous', 'keeper', 'Pippin', 'nick', 'abbreviation', 'pony', 'developments', 'eccentric', 'span', 'torpid', 'intellects', 'brightness', 'holidays', 'festivities', 'finer', 'calendar', 'Julys', 'Year', 'brilliancy', 'lustrous', 'cabinets', 'unaccountably', 'luridly', 'illumined', 'fictitiously', 'Tolland', 'County', 'Connecticut', 'enlivened', 'fiddler', 'frolic', 'melodious', 'belled', 'veined', 'watered', 'diamond', 'healthful', 'jeweller', 'gases', 'effulgences', 'divinest', 'stolen', 'sprain', 'nervousness', 'discreditably', 'exhort', 'courageousness', 'needful', 'rap', 'slack', 'breasted', 'plumping', 'poltroon', 'Snatching', 'interrogatively', 'assailed', 'execrations', 'Tranquilly', 'cursings', 'evaporate', 'officially', 'unofficially', 'STICK', 'motto', 'LEAP', 'undiluted', 'Stick', 'Hereby', 'interferes', 'benevolence', 'performance', 'bounteous', 'flatly', 'beater', 'Bobbing', 'ebon', 'cloves', 'brightest', 'lonesomeness', 'concentration', 'immensity', 'hug', 'jeopardized', 'ruthless', 'spying', 'merest', 'jeeringly', 'finite', 'unwarped', 'passive', 'miser', 'Wisdom', 'hoarded', 'juvenile', 'eternities', 'omnipresent', 'insects', 'orbs', 'treadle', 'weal', 'uncompromised', '94', 'Squeeze', 'crystallized', 'Constantine', 'bath', 'concreted', 'lumps', 'squeeze', 'clearer', 'sweetener', 'softener', 'molifier', 'eels', 'serpentine', 'spiralise', 'globules', 'tissues', 'richly', 'opulence', 'uncontaminated', 'aroma', 'Paracelsan', 'allaying', 'bathing', 'divinely', 'petulance', 'squeezed', 'squeezing', 'co', 'sentimentally', 'acerbities', 'envy', 'shift', 'attainable', 'felicity', 'saddle', 'visions', 'paradise', 'discoursing', 'behooves', 'thicker', 'muscle', 'portable', 'oblongs', 'mincer', 'Berkshire', 'Plum', 'fragmentary', 'participating', 'refreshing', 'tint', 'bestreaked', 'plums', 'rubies', 'citron', 'cutlet', 'le', 'Gros', 'venison', 'vintage', 'vineyards', 'Champagne', 'slobgollion', 'ineffably', 'stringy', 'decanting', 'ruptured', 'membranes', 'coalescing', 'Gurry', 'designates', 'glutinous', 'scraped', 'Nippers', 'indigenous', 'vocabulary', 'nipper', 'hoe', 'Edgewise', 'operates', 'squilgee', 'allures', 'impurities', 'recondite', 'receptacle', 'arrives', 'tyros', 'workmen', 'gaffman', 'gaff', 'lurches', 'hone', 'spademan', 'shoeless', 'irresistibly', 'assistants', 'Toes', '95', 'Cassock', 'mortemizing', 'strolled', 'scanned', 'scuppers', 'cone', 'Kentuckian', 'Maachah', 'Judea', 'Asa', 'depose', 'abomination', 'Kedron', 'grandissimus', 'Extending', 'cylindrically', 'pelt', 'boa', 'pantaloon', 'slits', 'canonicals', 'Immemorial', 'endwise', 'minced', 'rapt', 'orator', 'Arrayed', 'occupying', 'bible', 'archbishopric', '!*', 'enjoins', 'accelerated', 'improving', '96', 'Works', 'outwardly', 'joining', 'constituting', 'kiln', 'roomy', 'battened', 'Removing', 'remarkably', 'soapstone', 'cynical', 'polishing', 'circling', 'geometry', 'cycloid', 'tunnel', 'evaporates', 'oversee', 'ignition', 'shrivelled', 'properties', 'plethoric', 'martyr', 'misanthrope', 'supplies', 'funereal', 'pyres', 'freshening', 'licked', 'flues', 'sulphur', 'Hydriote', 'Canaris', 'frigates', 'conflagrations', 'Tartarean', 'stokers', 'pronged', 'Opposite', 'begrimed', 'matted', 'emblazonings', 'laughter', 'gesticulated', 'dippers', 'scornfully', 'champed', 'Wrapped', 'ghastliness', 'drowsiness', 'fatally', 'lids', 'illuminating', 'Uppermost', 'havens', 'bewildered', 'Convulsively', 'Lo', 'fronting', 'hallucination', 'accept', 'hitching', 'forking', 'morn', 'gentler', 'liars', 'Dismal', 'Swamp', 'Campagna', 'Sahara', 'griefs', 'Sorrows', 'Ecclesiastes', 'unchristian', 'dodges', 'hospitals', 'jails', 'graveyards', 'operas', 'Cowper', 'Pascal', 'Rousseau', 'swears', 'Rabelais', 'wandereth', 'invert', 'deaden', 'Catskill', 'blackest', 'soar', 'swoop', '97', 'Lamp', 'canonized', 'counsellors', 'pallet', 'Aladdin', 'pitchiest', 'illumination', 'cooler', 'replenishes', 'mugs', 'vat', 'solar', 'lunar', 'astral', 'hunts', 'freshness', 'genuineness', '98', 'Stowing', 'Clearing', 'moors', 'garments', 'executioner', 'Shadrach', 'Meshach', 'Abednego', 'unscathed', 'scoot', 'OFFICIO', 'unsealed', 'replaced', 'hermetically', 'incidents', 'freshets', 'brewery', 'besooted', 'suffused', 'deafening', 'scrupulously', 'possesses', 'cleansing', 'lye', 'adhesiveness', 'exterminates', 'restore', 'tidiness', 'brushed', 'cleansed', 'scrubbed', 'hiding', 'simultaneous', 'aglow', 'bridegrooms', 'discourse', 'parlors', 'carpets', 'cambrics', 'musked', 'allude', 'slash', 'sweatings', 'cleanse', 'toilings', 'tabernacles', 'BLOWS', 'routine', 'metempsychosis', 'Pythagoras', '99', 'Doubloon', 'halted', 'hopefulness', 'doubloon', 'interpret', 'cipher', 'cartload', 'morass', 'Milky', 'Way', 'raked', 'gorgeous', 'Pactolus', 'amidst', 'rustiness', 'verdigris', 'untouchable', 'foulness', 'amongst', 'livelong', 'pilfering', 'wanton', 'revered', 'talisman', 'medals', 'alpacas', 'volcanoes', 'disks', 'ecliptics', 'banners', 'luxuriant', 'profusion', 'preciousness', 'enhancing', 'mints', 'Spanishly', 'REPUBLICA', 'DEL', 'ECUADOR', 'QUITO', 'clime', 'autumn', 'Zoned', 'summits', 'crowing', 'arching', 'partitioned', 'zodiac', 'cabalistics', 'keystone', 'equinoctial', 'Libra', 'tops', 'Lucifer', 'volcano', 'undaunted', 'victorious', 'rounder', 'magician', 'mirrors', 'gains', 'solve', 'coined', 'equinox', 'Aries', 'claws', 'writing', 'inspectingly', 'Trinity', 'vale', 'girds', 'Righteousness', 'shines', 'beacon', 'fixture', 'wisely', 'falsely', 'twigging', 'Negro', 'Hill', 'Corlaer', 'Popayan', 'moidores', 'pistoles', 'joes', 'Golconda', 'Epitome', 'almanac', 'ditto', 'Daboll', 'arithmetic', 'curvicues', 'Signs', 'Hem', 'Taurus', 'Jimimi', 'Gemini', 'Twins', 'navigator', 'Pity', 'hist', 'hark', 'Almanack', 'lecherous', 'begets', 'Vice', 'Cancer', 'Crab', 'Leo', 'Lion', 'bites', 'surly', 'dabs', 'Virgo', 'marry', 'pop', 'Scales', 'Scorpio', 'Scorpion', 'stings', 'curing', 'Sagittarius', 'Archer', 'amusing', 'shafts', 'Capricornus', 'Goat', 'tilt', 'Aquarius', 'deluge', 'drowns', 'Pisces', 'writ', 'Jollily', 'alow', 'cigar', 'cigars', 'wiseish', 'luffs', 'halloa', 'Prick', 'witch', 'Copenhagen', 'Dodge', 'Cannibal', 'Astronomy', 'interpreters', 'Murray', 'Improving', 'bats', 'Caw', 'caw', 'poked', 'complimentary', 'wits', 'navel', 'unscrew', 'county', 'darkey', 'hoard', 'Hish', 'hish', 'blackberrying', 'Jenny', 'hey', '100', 'Leg', 'Arm', 'Enderby', 'Trumpet', 'tanned', 'thereabouts', 'festoons', 'broidered', 'hussar', 'surcoat', 'mallet', 'hourly', 'clamber', 'instantaneously', 'deprived', 'invention', 'abjectly', 'changeful', 'mishap', 'cleets', 'tastefully', 'bannisters', 'awkwardness', 'Jump', 'curve', 'rueful', 'Spin', 'cruised', 'milling', 'trim', 'bouncing', 'MY', 'exultingly', 'humoredly', 'grandfather', 'afoam', 'fluking', 'tangled', 'Mounttop', ');--', 'jiff', 'bat', 'befogged', 'bedeadened', 'looming', 'steeple', 'midday', 'flailings', 'ript', 'Bunger', 'spin', 'rank', 'marlingspike', 'pill', 'introduction', 'Boomer', 'Sammy', 'Stood', 'severe', 'chimed', 'Drinking', 'rum', 'toddies', 'bandages', 'watcher', 'dietetically', 'respected', 'spins', 'clever', 'en', 'passant', 'total', 'abstinence', 'hydrophobia', 'exposing', 'scarry', 'rogue', 'bait', 'mathematically', 'digestive', 'inscrutably', 'digest', 'feints', 'formerly', 'Ceylon', 'emetic', 'tacks', 'pawn', 'Bless', 'curse', 'stoopingly', 'thermometer', 'pulse', 'lancet', '101', 'Decanter', 'fades', '&', 'Sons', 'Tudors', 'Bourbons', '1775', '1726', 'Maceys', 'Amelia', 'Enderbys', 'auspices', 'government', 'Rattler', 'Commanded', '1819', 'tasting', 'Syren', 'experimental', 'Enderbies', 'sailer', 'flip', 'trumps', 'Saxon', 'Flip', 'flipped', 'squally', 'reefed', 'tars', 'scrambled', 'diluted', 'pickled', 'symmetrically', 'risked', 'anti', 'scorbutic', 'Hollanders', 'Zealanders', 'scrimps', 'normal', 'incidental', 'stumbled', 'musty', 'Coopman', 'reinforced', 'production', 'Fitz', 'Swackhammer', 'Snodhead', 'Low', 'college', 'Claus', 'Pott', 'translation', 'spied', 'Cooper', 'Smeer', 'larders', 'cellars', '180', 'translated', 'transcribe', '400', 'lbs', '150', '550', '800', 'firkins', 'Texel', '144', 'ankers', 'Geneva', 'beer', 'statistical', 'parchingly', 'flooded', 'quarts', 'devoted', 'studious', 'suggested', 'transcendental', 'Platonic', 'compiled', 'natures', 'rendered', 'bumpers', 'polar', 'prosecuted', 'climate', 'exclusive', 'fuddled', 'improbable', 'agrees', 'boozy', 'grievous', 'empties', 'decanter', '102', 'Bower', 'Arsacides', 'Hitherto', 'descriptively', 'treating', 'dwelt', 'structural', 'unbutton', 'untagging', 'hose', 'unbuckling', 'garters', 'ultimatum', 'lectures', 'Cetacea', 'Explain', 'examination', 'dishes', 'rafters', 'pinnings', 'vats', 'butteries', 'cheeseries', 'adult', 'dissect', 'sheaths', 'indebted', 'Tranquo', 'Tranque', 'Dey', 'Algiers', 'Arsacidean', 'villa', 'Pupella', 'glen', 'Bamboo', 'vertu', 'invent', 'paddles', 'droopings', 'enfoldings', 'sheltered', 'unextinguished', 'bough', 'devotees', 'Damocles', 'Glen', 'sap', 'industrious', 'weaver', 'tendrils', 'shrubs', 'ferns', 'grasses', 'lacings', 'weaves', 'deafened', 'factories', 'spindles', 'villainies', 'detected', 'thinkings', 'idler', 'intermixed', 'hummed', 'vines', 'greener', 'fresher', 'trellised', 'wived', 'youthful', 'curly', 'wandered', 'eddied', 'arbours', 'Dar', 'sconces', 'echoed', 'admeasurements', 'Museum', 'museum', 'Manchester', 'River', 'Yorkshire', 'Burton', 'Constable', 'Clifford', 'skeletons', 'seignories', 'cavities', 'Locks', 'shutters', 'footman', 'keys', 'charging', 'twopence', 'threepence', 'sixpence', 'verbatim', 'wanderings', 'statistics', 'wished', 'untattooed', 'admeasurement', '103', 'Measurement', 'Skeleton', 'briefly', 'exhibit', 'calculation', 'outweigh', 'Feet', 'Attached', 'basket', 'enclosed', 'vitals', 'disconnected', 'successively', 'climax', 'spanned', 'seemly', 'correspondence', 'footpath', 'attenuated', 'quickest', 'eddyings', 'angry', 'Pompey', 'Pillar', 'knobbed', 'urchins', '104', 'Fossil', 'theme', 'amplify', 'compress', 'involutions', 'intestines', 'hawsers', 'approve', 'omnisciently', 'exhaustive', 'seminal', 'germs', 'habitatory', 'magnify', 'archaeological', 'fossiliferous', 'Applied', 'flea', 'grandiloquent', 'Fain', 'emprise', 'weightiest', 'dictionary', 'consult', 'dissertations', 'expressly', 'lexicographer', 'compile', 'chirography', 'placard', 'condor', 'Vesuvius', 'inkstand', 'Friends', 'penning', 'outreaching', 'mastodons', 'panoramas', 'excluding', 'suburbs', 'geologist', 'mason', 'digger', 'ditches', 'canals', 'wells', 'cisterns', 'remind', 'fossils', 'Tertiary', 'formations', 'intercepted', 'antichronical', 'Ark', 'justify', 'Detached', 'adamite', 'Scotland', 'Louisiana', '1779', 'disinterred', 'Rue', 'Dauphine', 'Paris', 'Antwerp', '1842', 'Creagh', 'Basilosaurus', 'Anatomist', 'rechristened', 'Zeuglodon', 'Geological', 'mutations', 'blotted', 'characterized', 'partial', 'resemblances', 'affinities', 'seniors', 'Saturn', 'bastions', 'Tropics', 'inhabitable', 'Himmalehs', 'pedigree', 'older', 'Pharaoh', 'Methuselah', 'Shem', 'antemosaic', 'unsourced', 'stereotype', 'limestone', 'marl', 'bequeathed', 'print', 'Denderah', 'planisphere', 'griffins', 'grotesque', 'moderns', 'Gliding', 'cradled', 'attestation', 'osseous', 'diluvian', 'Rafters', 'Beams', 'Bones', 'Common', 'Power', 'Matter', 'Rocks', 'Miles', 'Rib', 'Miracle', 'Camel', 'layn', 'Historians', 'affirm', 'Mahomet', 'Base', '105', 'Magnitude', 'Diminish', 'Perish', 'Inasmuch', 'Eternities', 'inquired', 'degenerated', 'investigation', 'fossil', 'exhumed', 'tape', 'Assuredly', 'Aldrovandus', 'Walks', 'Tunnels', 'Solander', 'Cooke', 'Academy', 'Sciences', 'reydan', 'siskur', 'Wrinkled', 'Bellies', 'metres', 'ancestors', 'coffins', 'stall', 'Smithfield', 'fattest', 'kine', 'omniscient', 'whaleships', 'penetrating', 'exterminated', 'Comparing', 'overspread', 'manes', 'scowled', 'sites', 'extinction', 'extermination', 'forbids', 'Canadian', 'moccasined', 'statistically', 'gradual', 'remunerative', 'influenced', 'yokes', 'fallacious', 'haunt', 'declining', 'cape', 'unfamiliar', 'invasion', 'Swiss', 'savannas', 'citadels', 'barriers', 'floes', 'defiance', 'cachalot', 'annually', 'populousness', 'Harto', 'Goa', 'droves', 'Semiramis', 'Hannibal', 'survive', 'outlast', 'Americas', 'Isles', 'longevity', 'imagining', 'perishable', 'continents', 'Kremlin', 'despised', 'Netherlands', 'rats', 'crest', 'frothed', '106', 'precipitating', 'thwart', 'splintering', 'urgent', 'inflexibly', 'wrench', 'lusty', 'prone', 'insensible', 'displaced', 'groin', 'cured', 'marsh', 'perpetuates', 'songster', 'ancestry', 'Grief', 'Joy', 'canonic', 'enjoyments', 'childlessness', 'fertilely', 'progressive', 'inequality', 'analysis', 'felicities', 'unsignifying', 'pettiness', 'heartwoes', 'archangelic', 'tracings', 'deduction', 'sourceless', 'primogenitures', 'cymballing', 'moons', 'ineffaceable', 'signers', 'Unwittingly', 'Lama', 'exclusiveness', 'senate', 'revelation', 'partook', 'explanatory', 'recluseness', 'banned', 'moodily', 'unaccounted', 'underived', 'wails', 'conspired', 'muffle', 'transpire', 'synod', 'potentates', 'procedures', 'functionary', 'studs', 'clearest', 'fittings', 'forge', 'blacksmith', 'forging', '107', 'Carpenter', 'Seat', 'sultanically', 'abstracted', 'duplicates', 'abstraction', 'callings', 'outbranching', 'handicrafts', 'efficient', 'repairing', 'reforming', 'bladed', 'unhesitatingly', 'expert', 'conflicting', 'aptitudes', 'enacted', 'sizes', 'athwartships', 'belaying', 'strays', 'sprains', 'concocts', 'lotion', 'longed', 'vermillion', 'drills', 'pincers', 'bids', 'unmanageably', 'winces', 'unconcluded', 'capstans', 'expertness', 'vivacity', 'impersonal', 'stolidity', 'pauselessly', 'ignores', 'involving', 'ramifying', 'heartlessness', 'oddly', 'wheezing', 'unstreaked', 'wittiness', 'wanderer', 'clingings', 'pertained', 'abstract', 'unfractioned', 'babe', 'premeditated', 'uncompromisedness', 'unintelligence', 'intermixture', 'uneven', 'spontaneous', 'literal', 'manipulator', 'oozed', 'MULTUM', 'PARVO', 'Sheffield', 'drivers', 'screws', 'tweezers', 'awls', 'rulers', 'filers', 'countersinkers', 'superiors', 'omnitooled', 'machine', 'automaton', 'quicksilver', 'abided', 'soliloquizing', 'hummingly', 'soliloquizes', 'soliloquizer', '108', 'CARPENTER', 'VICE', 'BENCH', 'LIGHT', 'LANTERNS', 'BUSILY', 'FILING', 'IVORY', 'JOIST', 'LEG', 'IS', 'FIRMLY', 'FIXED', 'SLABS', 'LEATHER', 'STRAPS', 'PADS', 'SCREWS', 'TOOLS', 'SORTS', 'ABOUT', 'FORWARD', 'RED', 'FLAME', 'FORGE', 'SEEN', 'WHERE', 'BLACKSMITH', 'WORK', 'Drat', 'drat', 'SNEEZES', 'Saw', 'amputate', 'Smut', 'Lucky', 'shinbone', 'finish', 'shop', 'soak', 'doctored', 'lotions', 'Mogulship', 'DURING', 'ENSUING', 'SCENE', 'CONTINUES', 'SNEEZING', 'TIMES', 'manmaker', 'pleases', 'Measured', 'grip', 'pinch', 'partnership', 'Um', 'Africans', 'pedlar', 'crushing', 'pattern', 'Imprimis', 'modelled', 'Tunnel', 'outwards', 'architecture', 'thief', 'catcher', 'Thrusted', 'Clay', 'mud', 'ditchers', 'sneezing', 'Bone', 'callest', 'Truly', 'humbly', 'feelest', 'riddle', 'poser', 'uninterpenetratingly', 'standest', 'eavesdroppers', 'dissolved', 'mayst', 'Hah', 'Bungle', 'TURNS', 'debtor', 'blockhead', 'Cursed', 'inter', 'indebtedness', 'ledgers', 'wealthiest', 'Praetorians', 'auction', 'owe', 'crucible', 'dissolve', 'compendious', 'RESUMING', 'dinning', 'thoughted', 'haphazard', 'undertake', 'heron', 'chucks', 'slim', 'lasts', 'roly', 'poly', 'spavined', 'collecting', 'core', 'oval', 'slate', 'smoothed', '109', 'unfavourable', 'semiweekly', 'drench', 'damply', 'leakage', 'Formosa', 'Bashee', 'Niphon', 'Matsmai', 'Sikoke', 'braced', 'pruning', 'wrinkling', 'footstep', 'Begone', 'Burtons', 'nearing', 'Either', 'saving', 'aleak', 'outyell', 'Typhoons', 'Owners', 'prating', 'miserly', 'manifestation', 'resent', 'Devils', 'critically', 'forbearing', 'musket', 'mastering', 'outraged', 'waxes', 'obeys', 'plaits', 'Furl', 'honesty', 'imperiously', 'disaffection', '110', 'moles', 'lowermost', 'puncheons', 'copies', 'posted', 'placards', 'Tierce', 'shooks', 'bundles', 'treading', 'catacombs', 'demijohn', 'dinnerless', 'companion', 'sinecures', 'clumsiest', 'stowage', 'holders', 'disembowelled', 'dampness', 'lizard', 'chill', 'lapsed', 'thinned', 'fuller', 'softness', 'sickness', 'fainter', 'bystanders', 'Zoroaster', 'impresses', 'holier', 'embalming', 'horizons', 'uncontinented', 'interflow', 'adown', 'Lackaday', 'promptitude', 'chalking', 'ejaculated', 'transferringly', 'extremities', 'Overhearing', 'tyrannical', 'Leaning', 'attentive', 'woody', 'entreated', 'comforts', 'Rarmai', 'sobbings', 'rover', 'Antilles', 'Seek', 'tongues', 'probed', 'sweetness', 'vouchers', 'homes', 'runaway', 'shame', 'cowards', 'Shame', 'thereupon', 'convalescence', 'ungovernable', 'destroyer', 'convalescing', 'whimsiness', 'emptying', 'unfold', 'moulder', 'inscribed', 'unsolved', 'surveying', 'tantalization', '111', 'thanks', 'supplication', 'eastwards', 'stirrings', 'Ephesian', 'sod', 'Evangelist', 'Potters', 'Fields', 'ebb', 'somnambulisms', 'slumberers', 'restlessness', 'Magian', 'adoption', 'midmost', 'Californian', 'recentest', 'lave', 'Archipelagoes', 'Japans', 'Lifted', 'Pan', 'nostril', 'sugary', 'consciously', 'Launched', 'Delta', '112', 'Blacksmith', 'Availing', 'Perth', 'blistered', 'contributory', 'bowsmen', 'jealously', 'murmur', 'Silent', 'chronically', 'yawing', 'gait', 'importunity', 'questionings', 'Belated', 'innocently', 'stupidly', 'numbness', 'uncatastrophied', 'drama', 'postponedly', 'technicals', 'artisan', 'blithe', 'disguisement', 'Conjuror', 'economic', 'basement', 'listened', 'unhappy', 'reverberations', 'unsweetly', 'Labor', 'lullaby', 'Hadst', 'competency', 'virtuous', 'elder', 'responsibilities', 'glitteringly', 'bellows', 'cinders', 'houseless', 'familyless', 'crape', 'unreverenced', 'curls', 'Untried', 'Remote', 'Watery', 'Unshored', 'compunctions', 'suicide', 'contributed', 'receptive', 'alluringly', 'mermaids', 'guilt', 'abhorring', 'oblivious', 'THY', 'gravestone', 'Hearkening', '113', 'Forge', 'swathed', 'bristling', 'apron', 'hammering', 'Mother', 'Carey', 'chickens', 'liv', 'scorch', 'shrunk', 'woeful', 'wert', 'Welding', 'seams', 'smoothe', 'passionately', 'Said', 'unsmoothable', 'gaffs', 'stubbs', 'racing', 'Horse', 'stubbornest', 'weld', 'glue', 'shank', 'flaw', 'Work', 'welding', 'hems', 'blessing', 'lucifers', 'fusee', 'temper', 'wincing', 'pain', 'branding', 'razors', 'shave', 'sup', 'Fashioned', 'arrowy', 'tempering', 'punctures', 'Ego', 'baptizo', 'te', 'nomine', 'patris', 'sed', 'diaboli', 'scorchingly', 'baptismal', 'hickory', 'unwound', 'Pressing', 'harp', 'strandings', 'unstranded', 'intertwistings', 'hollowly', 'mummeries', 'unmeaningly', 'mocked', '114', 'Gilder', 'Penetrating', 'paddling', 'birch', 'mixing', 'cats', 'purr', 'forgets', 'conceals', 'fang', 'filial', 'vales', 'mixes', 'interpenetrate', 'seamless', 'treasuries', 'tarnishing', 'landscapes', 'parched', 'earthy', 'clover', 'dew', 'mingling', 'unretracing', 'gradations', 'boyhood', 'thoughtless', 'adolescence', 'disbelief', 'Ifs', 'unmoor', 'ether', 'weariest', 'foundling', 'unwedded', 'paternity', 'Loveliness', 'lover', 'tiered', 'oust', '115', 'Bachelor', 'apparel', 'gloriously', 'streamers', 'bunting', 'Signals', 'basketed', 'brazen', 'bartered', 'kindling', 'centrepiece', 'caulked', 'plugged', 'complacent', 'barbarian', 'drums', 'POKE', 'hued', 'eloped', 'negroes', 'Bastille', 'jubilations', 'forebodings', 'impersonated', 'islanders', 'aloud', 'sayst', 'Forward', 'Set', 'receding', 'homewardbound', '116', 'Dying', 'favourites', 'spearings', 'stilly', 'plaintiveness', 'inwreathing', 'orisons', 'convent', 'wantonly', 'vesper', 'hymns', 'Soothed', 'sterned', 'wanings', 'sunwards', 'placid', 'wondrousness', 'vassal', 'favouring', 'candid', 'unspoken', 'Niger', 'whirls', 'unverdured', 'speakest', 'slaughtering', 'Typhoon', 'trebly', 'hooped', 'aspiring', 'rainbowed', 'strivest', 'jettest', 'intercedings', 'unnamable', 'imminglings', 'suckled', 'mothered', 'foster', '117', 'flickering', 'chafed', 'spectrally', 'moaning', 'squadrons', 'Asphaltites', 'unforgiven', 'Started', 'hearses', 'couldst', 'plumes', 'pall', 'Believe', 'befall', 'pledges', 'derision', ';--\"', 'Immortal', '118', 'Quadrant', 'determine', 'unblinkingly', 'focus', 'immeasurable', 'splendors', 'quadrant', 'astrological', 'passionlessness', 'revery', 'AM', 'SHALL', 'cabalistical', 'Foolish', 'toy', 'plaything', 'Admirals', 'Commodores', 'brags', 'happenest', 'impotence', 'insultest', 'Science', 'Curse', 'vividness', 'scorches', 'Level', 'guide', 'deadreckoning', 'THESE', 'trample', 'feebly', 'pointest', 'trampled', 'sneering', 'fatalistic', 'Unobserved', 'awestruck', 'clustered', 'troubledly', 'erectly', 'Horatii', 'pirouetting', 'lurching', 'dumbest', 'charcoal', 'actest', '119', 'Candles', 'Warmest', 'cruellest', 'crouches', 'Skies', 'cloudless', 'exploding', 'bomb', 'dazed', 'poled', 'blazed', 'disabled', 'fluttering', 'firmer', 'teetering', 'sieve', 'Bad', ';\"--(', 'flourishin', 'sporty', 'gamy', 'jesty', 'joky', 'hoky', 'poky', 'flyin', 'foamin', \"';\", 'spicin', \"',--\", 'splits', 'smacks', 'tastin', 'Madman', 'markest', 'shortest', 'lightens', 'volley', 'peals', 'conductor', 'mishaps', 'interfering', 'impeding', 'flambeaux', 'weaker', 'corpusants', 'tipped', 'tri', 'sulphurous', 'teeter', 'Mene', 'Tekel', 'Upharsin', 'pallidness', 'gleaming', 'phosphorescence', 'Relieved', 'Satanic', 'tableau', 'thinkest', 'chock', 'Glancing', 'supernaturalness', 'cohered', 'numbed', 'wasps', 'Herculaneum', 'upcast', 'trinity', 'sacramental', 'placeless', 'dispute', 'unintegral', 'mastery', 'personality', 'whencesoe', 'wheresoe', 'queenly', 'supernal', 'launchest', 'madest', 'SUDDEN', 'REPEATED', 'FLASHES', 'LIGHTNING', 'NINE', 'FLAMES', 'LENGTHWISE', 'THRICE', 'PREVIOUS', 'HEIGHT', 'REST', 'CLOSES', 'EYES', 'PRESSED', 'HARD', 'UPON', 'wrung', 'shutter', 'stunning', 'blindfold', 'Light', 'leapest', 'genealogy', 'unbegotten', 'unbegun', 'unsuffusing', 'creativeness', 'unparticipated', 'Leap', 'torch', 'transfix', 'Petrified', 'shrinking', 'binding', 'sweeps', 'neighborhood', 'elm', '120', 'End', 'HELM', 'APPROACHING', 'inboard', 'coasting', 'gluepots', 'Loftiest', 'hooroosh', 'colic', 'malady', '121', 'Bulwarks', 'FLASK', 'MOUNTED', 'PASSING', 'ADDITIONAL', 'LASHINGS', 'OVER', 'ANCHORS', 'HANGING', 'ARE', 'afire', 'drenching', 'Shake', 'pitchers', 'risks', 'Marine', 'guarantees', 'hydrants', 'militia', 'skewered', 'trailing', 'sash', 'Tying', 'fists', 'wring', 'togs', 'Same', 'cocked', 'eave', 'troughs', 'nasty', '122', 'Lightning', 'MAIN', 'TOP', 'SAIL', 'YARD', 'AROUND', 'um', 'Plenty', '123', 'Musket', 'reelingly', 'preventer', 'shuttlecock', 'anyone', 'strenuous', 'exertions', 'trysail', 'HO', 'FAIR', 'OH', 'CHEERLY', 'MEN', 'falsified', 'compliance', 'trimmed', 'reluctantly', 'apprise', 'fitfully', 'fitful', 'panels', 'subterraneousness', 'shiningly', 'evolved', 'Loaded', 'spill', 'gropes', 'suffered', 'Sleeping', 'remonstrance', 'scornest', 'Flat', 'breathest', 'Ahabs', 'forbid', 'lawful', 'caged', 'howlings', 'tindering', 'stealthily', 'drunkard', 'panel', 'wrestling', '124', 'Needle', 'outspread', 'unstaggering', 'abounded', 'outbellying', 'boomed', 'Muffled', 'Emblazonings', 'Babylonian', 'molten', 'bubblingly', 'tetering', 'loweringly', 'rearward', 'Yoke', 'hallo', 'reined', 'huskily', 'liest', 'Heading', 'palpableness', 'Thrusting', 'electricity', 'Instances', 'loadstone', 'recovers', 'reaches', 'Deliberately', 'transpointed', 'unmurmuringly', 'acquiesced', 'rumbled', 'unimpressed', 'magnetism', 'tubes', 'Accessory', 'dictating', 'clumsily', 'shudderings', 'Abashed', 'servile', 'exchanged', 'blunted', 'magnetizing', 'slunk', '125', 'Log', 'fated', 'reliance', 'determining', 'neglect', 'railing', 'Rains', 'damped', 'warped', 'plungingly', 'Heave', 'Tahitian', 'grizzly', 'spindle', 'spool', 'unwinding', 'mistrust', 'truer', 'subservient', 'Excellent', 'unmanned', 'jerkingly', 'reelman', 'Snap', 'overstrained', 'sagged', 'tugging', 'loosening', 'fished', 'Jerk', 'loon', 'scolds', 'lesser', 'holiness', 'Astern', 'ding', 'dong', 'cowardly', 'Ding', 'creative', 'libertines', 'touchest', 'strings', 'weak', 'rivet', 'believers', 'idiotic', 'gratitude', 'daft', 'rotten', 'Mend', '126', 'Buoy', 'Making', 'unfrequented', 'monotonously', 'plaintively', 'wailings', 'Herod', 'Innocents', 'transfixedly', 'unappalled', 'dams', 'sobbing', 'peeringly', 'bodings', 'plausible', 'confirmation', 'waked', 'shrunken', 'pore', 'sooth', 'portent', 'foreshadowing', 'fulfilment', 'presaged', 'lightness', 'feverish', 'inuendoes', 'arrange', 'Bring', 'caulk', 'caulking', 'huff', 'baulks', 'bandbox', 'cobbling', 'undignified', 'tinkers', 'brats', 'tinkerings', 'betters', 'jobs', 'cobbler', 'heigh', 'Nail', 'batten', 'knotty', 'Aroostook', 'hemlock', 'Cruppered', 'Sailing', 'tray', 'workers', 'bedsteads', '127', 'LAID', 'LINE', 'TUBS', 'BETWEEN', 'OPEN', 'HATCHWAY', 'CAULKING', 'ITS', 'SEAMS', 'STRING', 'TWISTED', 'OAKUM', 'SLOWLY', 'UNWINDING', 'ROLL', 'PLACED', 'BOSOM', 'FROCK', 'COMES', 'GANGWAY', 'HEARS', 'FOLLOWING', 'complies', 'genially', 'aisle', 'Art', 'ferrule', 'undertaker', 'arrant', 'intermeddling', 'scamp', 'Titans', 'chipping', 'craters', 'sings', 'bier', 'Despatch', 'Albemarle', 'musical', 'HIMSELF', 'woodpecker', 'Blind', 'envied', 'Rat', 'tat', 'seconds', 'tick', 'immaterial', 'imponderable', 'suck', 'philosophies', 'conduits', '128', 'Rachel', 'clustering', 'boastful', 'bladders', 'Throttling', 'negatively', 'pulls', 'swiftest', 'gleam', 'conjure', 'icily', 'petition', 'charter', 'roundly', 'Manx', 'adopting', 'iciness', 'unmisgiving', 'hardihood', 'paternal', 'initiate', 'unenervated', 'display', 'partiality', 'undue', 'boon', 'nestling', 'relent', 'prolongingly', 'Gardiner', 'forgive', 'Hurriedly', 'transfixed', 'rejection', 'enchantment', 'tack', 'cherry', 'cherrying', 'wept', '129', 'MOVING', 'CATCHES', 'Lad', 'cures', 'bigot', 'fadeless', 'grows', 'Weep', 'Met', 'GOES', 'STEPS', 'STEP', 'fours', 'lieutenants', 'epaulets', 'monsieurs', 'Monsieurs', 'Jumped', 'Put', 'bulge', '130', 'Hat', 'contrastingly', 'concurred', 'sinning', 'sinned', 'unsetting', 'sustains', 'domineered', 'check', 'Alike', 'powdered', 'clamped', 'machines', 'despot', 'awed', 'wan', 'watchmen', 'limits', 'slouching', 'sunshine', 'gnarled', 'unearthed', 'intermission', 'unmomentous', 'asunder', 'verbal', 'forethrown', 'commandingly', 'subordinates', 'tyrant', 'siding', 'glimmering', 'slided', 'reeved', 'attaching', 'shunning', 'relying', 'arranging', 'foothold', 'relations', 'discerned', 'fastenings', 'watchman', 'carelessness', 'swooping', 'ventured', 'select', 'billed', 'incommodiously', 'untrackably', 'spiralized', 'Sicilian', 'scream', 'hawk', 'Tarquin', 'replace', 'Tanaquil', 'disappearance', '131', 'misnamed', 'shears', 'unrigged', 'bleaching', 'sewing', 'Tempered', 'triply', 'Brace', 'baptism', 'dejected', '132', 'Symphony', 'firmaments', 'separable', 'pensive', 'transparently', 'Samson', 'Hither', 'unspeckled', 'masculine', 'sex', 'czar', 'groom', 'haggardly', 'unyielding', 'untottering', 'clearness', 'innocency', 'Invisible', 'elves', 'heedlessly', 'gambol', 'singed', 'marge', 'aromas', 'dispel', 'cankerous', 'caress', 'erring', 'wee', 'privation', 'forsaken', 'heaviness', 'slavery', 'poorest', 'crusts', 'frenzy', 'foamingly', 'brush', 'mockery', 'Wife', 'sisterly', 'blighted', 'cindered', 'lovings', 'longings', 'Albicore', 'Sleep', 'blanched', 'Mate', 'motionlessly', '133', 'Chase', 'inspecting', 'vane', 'ascertaining', 'shortened', 'acute', 'vindicated', 'bordering', 'metallic', 'rip', 'Thundering', 'flattening', 'stunsails', 'Fired', 'jetting', 'moonlit', 'methodic', 'attuned', 'prolongings', 'Helm', 'luff', 'Shiver', 'Boats', 'gnawed', 'nautilus', 'unsuspecting', 'rugged', 'playfully', 'interchangeably', 'feathering', 'alternate', 'skimming', 'streaming', 'pennons', 'joyousness', 'ravished', 'Europa', 'bewitching', 'nuptial', 'Crete', 'Supreme', 'surpass', 'coincident', 'enticings', 'namelessly', 'assail', 'enticing', 'glidest', 'bejuggled', 'tranquillities', 'clappings', 'rapture', 'withholding', 'marbleized', 'warningly', 'bannered', 'Hoveringly', 'apeak', 'wooing', 'freshened', 'herons', 'expectant', 'keener', 'weasel', 'undiscoverable', 'scrolled', 'doored', 'stratagem', 'sidelingly', 'thrilled', 'unastonished', 'dallied', 'frenzied', 'frail', 'crafty', 'upraising', 'loosed', 'tilting', 'Ripplingly', 'spindled', 'vindictively', 'Channel', 'overleap', 'designation', 'poise', 'comprehensively', 'madden', 'mulberries', 'Antiochus', 'Maccabees', 'insolent', 'incuriously', 'revolvingly', 'planetarily', '!--\"', 'Dragged', 'caking', 'trodden', 'ravines', 'prostration', 'abbreviate', 'pang', 'feebler', 'decree', 'intensities', 'pointless', 'centres', 'circumferences', 'draggingly', 'Help', 'banked', 'treble', 'vicissitude', 'overtaking', 'stacking', 'outstretching', 'jointed', 'allotted', '.--\"', 'Whose', 'clouded', 'intending', 'thistle', 'pricked', 'soulless', 'Groan', 'Omen', 'honourably', 'darkling', 'peopled', 'Cold', 'rustling', 'unset', 'slower', '.\"--', 'rousing', '134', 'punctually', 'pertinacious', 'prescience', 'invincible', 'geniuses', 'foretell', 'trending', 'obscures', 'proverbial', 'evanescence', 'railway', 'acuteness', 'windbound', 'Inferable', 'furrow', 'missent', 'plough', 'creeps', 'tingles', 'launch', 'blister', 'miller', 'shuts', 'watergate', 'frenzies', 'hares', 'bounding', 'suspense', 'enslaved', 'maple', 'individualities', 'guiltiness', 'oneness', 'outspreadingly', 'Clinging', 'wavings', 'shading', 'blueness', 'Sway', 'belayed', 'orchestra', 'vibrate', 'discharges', 'rifles', 'halloo', 'breaching', 'bravadoes', 'salmon', 'bluer', 'glittered', 'glacier', 'fading', 'mistiness', 'Unmindful', 'ladders', 'dartingly', 'excludes', 'annihilating', 'manoeuvred', 'trained', 'chargers', 'slogan', 'untraceable', 'evolutions', 'recrossed', 'foreshortened', 'hoping', 'disencumber', 'snarls', 'Caught', 'corkscrewed', 'fagot', 'tangles', 'husks', 'grated', 'nutmeg', 'aslope', 'bobbed', 'twitching', 'lustily', 'unstricken', 'struggled', 'modifying', 'crumb', 'intertangled', 'contusions', 'inextricable', 'splinter', 'leaner', 'Dead', 'muster', 'gores', 'Accursed', 'Gone', 'knell', \"!--'\", 'collect', 'unmeasured', 'Jesus', 'mobbing', 'Impiety', 'lipless', 'unfeatured', 'immutably', 'billion', 'Fool', 'lieutenant', 'underling', 'obeyest', 'propped', 'centipede', 'omens', 'encore', 'tomorrow', 'baffle', 'judges', 'LL', 'dusk', 'hid', 'heliotrope', '135', 'dawned', 'goest', 'fairer', 'clefts', 'lava', 'corridors', 'ventilated', 'fleeces', 'tainted', 'slink', 'braver', 'exasperate', 'bodiless', 'Trade', 'Winds', 'veer', 'baser', 'Mississippies', 'Poles', 'unchangeable', 'oversailed', 'reverse', 'rechurned', 'Against', 'misdoubt', 'voiced', 'Forehead', 'wink', 'leewardings', 'Leeward', 'bitterer', 'tiny', 'shallop', 'weeps', 'persuasion', 'maliciously', 'prescient', 'regiments', 'molesting', 'Heart', 'ravening', 'Future', 'fadest', 'Strangest', 'Feel', 'Stir', 'Crazed', 'soars', 'upheaved', 'bedraggled', 'Shrouded', 'swamping', 'Crushed', 'brokenly', 'creamed', 'combinedly', 'tiers', 'overspreading', 'knitted', 'flailed', 'Lashed', 'frayed', 'Befooled', 'befooled', 'seekest', 'judicious', 'staved', 'busying', 'abate', 'pertinaciously', 'rowlocks', 'Monadnock', 'fiercer', 'writhed', 'foreknew', 'unprepared', 'ungraduated', 'tug', 'sinew', 'Burst', 'crashing', 'evolution', 'persecutions', 'Slope', 'splashing', 'gap', 'wrapping', 'plaid', 'fidelities', 'unappeasable', 'unwinking', 'mattrass', 'brushwood', 'assassins', 'gulping', 'cherries', 'Cherries', 'coppers', 'inactive', 'predestinating', 'Retribution', 'buttress', 'dislodged', 'flume', 'Diving', 'unsurrendered', 'uncracked', 'bullied', 'foregone', 'comber', 'destroying', 'unconquering', 'grapple', 'THUS', 'voicelessly', 'mutes', 'bowstring', 'bewildering', 'mediums', 'gaseous', 'Fata', 'Morgana', 'infatuation', 'lookouts', 'animate', 'inanimate', 'vortex', 'whelmings', 'intermixingly', 'ironical', 'coincidings', 'backwardly', 'tauntingly', 'incommoding', 'intercept', 'etherial', 'thrill', 'Epilogue', 'ONLY', 'ESCAPED', 'THEE', 'halfspent', 'suction', 'closing', 'Ixion', 'Till', 'liberated', 'Buoyed', 'dirgelike', 'padlocks', 'sheathed', 'retracing', 'orphan'])"
      ]
     },
     "execution_count": 80,
     "metadata": {},
     "output_type": "execute_result"
    }
   ],
   "source": [
    "vocab = fdist1.keys()\n",
    "vocab"
   ]
  },
  {
   "cell_type": "code",
   "execution_count": 86,
   "metadata": {},
   "outputs": [
    {
     "data": {
      "image/png": "[encoded data removed]",
      "text/plain": [
       "<Figure size 864x288 with 1 Axes>"
      ]
     },
     "metadata": {
      "needs_background": "light"
     },
     "output_type": "display_data"
    },
    {
     "data": {
      "text/plain": [
       "<matplotlib.axes._subplots.AxesSubplot at 0x1ab6a4c3b48>"
      ]
     },
     "execution_count": 86,
     "metadata": {},
     "output_type": "execute_result"
    }
   ],
   "source": [
    "plt.figure(figsize=(12,4))\n",
    "fdist1.plot(50, cumulative=True)"
   ]
  },
  {
   "cell_type": "code",
   "execution_count": 90,
   "metadata": {},
   "outputs": [
    {
     "data": {
      "text/plain": [
       "['Herman',\n",
       " 'Melville',\n",
       " ']',\n",
       " 'ETYMOLOGY',\n",
       " 'Late',\n",
       " 'Consumptive',\n",
       " 'School',\n",
       " 'threadbare',\n",
       " 'lexicons',\n",
       " 'mockingly',\n",
       " 'flags',\n",
       " 'mortality',\n",
       " 'signification',\n",
       " 'HACKLUYT',\n",
       " 'Sw',\n",
       " 'HVAL',\n",
       " 'roundness',\n",
       " 'Dut',\n",
       " 'Ger',\n",
       " 'WALLEN']"
      ]
     },
     "execution_count": 90,
     "metadata": {},
     "output_type": "execute_result"
    }
   ],
   "source": [
    "# words that occur once only\n",
    "rare=fdist1.hapaxes()\n",
    "rare[:20]"
   ]
  },
  {
   "cell_type": "code",
   "execution_count": 98,
   "metadata": {},
   "outputs": [],
   "source": [
    "# selects all words longer than 12 letters\n",
    "my_list = set(text3)\n",
    "long_words = [w for w in my_list if len(w)>12]"
   ]
  },
  {
   "cell_type": "code",
   "execution_count": 99,
   "metadata": {},
   "outputs": [
    {
     "data": {
      "text/plain": [
       "['plenteousness',\n",
       " 'Zaphnathpaaneah',\n",
       " 'Jegarsahadutha',\n",
       " 'sheepshearers',\n",
       " 'EleloheIsrael',\n",
       " 'interpretations',\n",
       " 'threshingfloor',\n",
       " 'righteousness',\n",
       " 'womenservants',\n",
       " 'interpretation',\n",
       " 'uncircumcised']"
      ]
     },
     "execution_count": 99,
     "metadata": {},
     "output_type": "execute_result"
    }
   ],
   "source": [
    "long_words"
   ]
  },
  {
   "cell_type": "code",
   "execution_count": 101,
   "metadata": {},
   "outputs": [
    {
     "data": {
      "text/plain": [
       "['#14-19teens',\n",
       " '#talkcity_adults',\n",
       " '((((((((((',\n",
       " '........',\n",
       " 'Question',\n",
       " 'actually',\n",
       " 'anything',\n",
       " 'computer',\n",
       " 'cute.-ass',\n",
       " 'everyone',\n",
       " 'football',\n",
       " 'innocent',\n",
       " 'listening',\n",
       " 'remember',\n",
       " 'seriously',\n",
       " 'something',\n",
       " 'together',\n",
       " 'tomorrow',\n",
       " 'watching']"
      ]
     },
     "execution_count": 101,
     "metadata": {},
     "output_type": "execute_result"
    }
   ],
   "source": [
    "fdist5 = FreqDist(text5)\n",
    "sorted([w for w in fdist5 if len(w)>7 and fdist5[w]>7])"
   ]
  },
  {
   "cell_type": "code",
   "execution_count": 112,
   "metadata": {},
   "outputs": [
    {
     "data": {
      "text/plain": [
       "704"
      ]
     },
     "execution_count": 112,
     "metadata": {},
     "output_type": "execute_result"
    }
   ],
   "source": [
    "#number of occutrance work \"lol\"\n",
    "fdist5['lol']"
   ]
  },
  {
   "cell_type": "code",
   "execution_count": 115,
   "metadata": {},
   "outputs": [
    {
     "data": {
      "text/plain": [
       "704"
      ]
     },
     "execution_count": 115,
     "metadata": {},
     "output_type": "execute_result"
    }
   ],
   "source": [
    "text5.count('lol')"
   ]
  },
  {
   "cell_type": "markdown",
   "metadata": {},
   "source": [
    "## Collocations and Bigrams\n"
   ]
  },
  {
   "cell_type": "code",
   "execution_count": 119,
   "metadata": {},
   "outputs": [
    {
     "data": {
      "text/plain": [
       "<generator object bigrams at 0x000001AB5D413B48>"
      ]
     },
     "execution_count": 119,
     "metadata": {},
     "output_type": "execute_result"
    }
   ],
   "source": [
    "bigrams(['Mohammad','is','very','smart'])"
   ]
  },
  {
   "cell_type": "code",
   "execution_count": 133,
   "metadata": {},
   "outputs": [
    {
     "name": "stdout",
     "output_type": "stream",
     "text": [
      "United States; fellow citizens; four years; years ago; Federal\n",
      "Government; General Government; American people; Vice President; God\n",
      "bless; Chief Justice; Old World; Almighty God; Fellow citizens; Chief\n",
      "Magistrate; every citizen; one another; fellow Americans; Indian\n",
      "tribes; public debt; foreign nations\n"
     ]
    }
   ],
   "source": [
    "text4.collocations()"
   ]
  },
  {
   "cell_type": "code",
   "execution_count": 134,
   "metadata": {},
   "outputs": [
    {
     "name": "stdout",
     "output_type": "stream",
     "text": [
      "would like; medium build; social drinker; quiet nights; non smoker;\n",
      "long term; age open; Would like; easy going; financially secure; fun\n",
      "times; similar interests; Age open; weekends away; poss rship; well\n",
      "presented; never married; single mum; permanent relationship; slim\n",
      "build\n"
     ]
    }
   ],
   "source": [
    "text8.collocations()\n"
   ]
  },
  {
   "cell_type": "code",
   "execution_count": 230,
   "metadata": {},
   "outputs": [],
   "source": [
    "my_text = 'Machine learning algorithms build a mathematical model based on sample data, known as \"training data\", in order to make predictions or decisions without being explicitly programmed to do so Machine learning algorithms are used in a wide variety of applications, such as email filtering and computer vision 1. , I love machine learning'"
   ]
  },
  {
   "cell_type": "code",
   "execution_count": 212,
   "metadata": {},
   "outputs": [],
   "source": [
    "my_text = my_text.split()"
   ]
  },
  {
   "cell_type": "code",
   "execution_count": 213,
   "metadata": {},
   "outputs": [],
   "source": [
    "my_dist = FreqDist(my_text)"
   ]
  },
  {
   "cell_type": "code",
   "execution_count": 214,
   "metadata": {},
   "outputs": [
    {
     "data": {
      "image/png": "[encoded data removed]",
      "text/plain": [
       "<Figure size 432x288 with 1 Axes>"
      ]
     },
     "metadata": {
      "needs_background": "light"
     },
     "output_type": "display_data"
    },
    {
     "data": {
      "text/plain": [
       "<matplotlib.axes._subplots.AxesSubplot at 0x1ab71cc4fc8>"
      ]
     },
     "execution_count": 214,
     "metadata": {},
     "output_type": "execute_result"
    }
   ],
   "source": [
    "my_dist.plot()"
   ]
  },
  {
   "cell_type": "code",
   "execution_count": 209,
   "metadata": {},
   "outputs": [],
   "source": [
    "new_dist = FreqDist([len(w) for w in my_text])"
   ]
  },
  {
   "cell_type": "code",
   "execution_count": 210,
   "metadata": {},
   "outputs": [
    {
     "data": {
      "text/plain": [
       "FreqDist({2: 11, 5: 8, 7: 4, 10: 4, 4: 4, 8: 3, 6: 3, 9: 3, 1: 2, 3: 2, ...})"
      ]
     },
     "execution_count": 210,
     "metadata": {},
     "output_type": "execute_result"
    }
   ],
   "source": [
    "new_dist"
   ]
  },
  {
   "cell_type": "markdown",
   "metadata": {},
   "source": [
    "## counting Other things"
   ]
  },
  {
   "cell_type": "code",
   "execution_count": 165,
   "metadata": {},
   "outputs": [
    {
     "data": {
      "text/plain": [
       "[1,\n",
       " 4,\n",
       " 4,\n",
       " 2,\n",
       " 6,\n",
       " 8,\n",
       " 4,\n",
       " 1,\n",
       " 9,\n",
       " 1,\n",
       " 1,\n",
       " 8,\n",
       " 2,\n",
       " 1,\n",
       " 4,\n",
       " 11,\n",
       " 5,\n",
       " 2,\n",
       " 1,\n",
       " 7,\n",
       " 6,\n",
       " 1,\n",
       " 3,\n",
       " 4,\n",
       " 5,\n",
       " 2,\n",
       " 10,\n",
       " 2,\n",
       " 4,\n",
       " 1,\n",
       " 5,\n",
       " 1,\n",
       " 4,\n",
       " 1,\n",
       " 3,\n",
       " 5,\n",
       " 1,\n",
       " 1,\n",
       " 3,\n",
       " 3,\n",
       " 3,\n",
       " 1,\n",
       " 2,\n",
       " 3,\n",
       " 4,\n",
       " 7,\n",
       " 3,\n",
       " 3,\n",
       " 8,\n",
       " 3,\n",
       " 8,\n",
       " 1,\n",
       " 4,\n",
       " 1,\n",
       " 5,\n",
       " 12,\n",
       " 1,\n",
       " 9,\n",
       " 11,\n",
       " 4,\n",
       " 3,\n",
       " 3,\n",
       " 3,\n",
       " 5,\n",
       " 2,\n",
       " 3,\n",
       " 3,\n",
       " 5,\n",
       " 7,\n",
       " 2,\n",
       " 3,\n",
       " 5,\n",
       " 1,\n",
       " 2,\n",
       " 5,\n",
       " 2,\n",
       " 4,\n",
       " 3,\n",
       " 3,\n",
       " 8,\n",
       " 1,\n",
       " 2,\n",
       " 7,\n",
       " 6,\n",
       " 8,\n",
       " 3,\n",
       " 2,\n",
       " 3,\n",
       " 9,\n",
       " 1,\n",
       " 1,\n",
       " 5,\n",
       " 3,\n",
       " 4,\n",
       " 2,\n",
       " 4,\n",
       " 2,\n",
       " 6,\n",
       " 6,\n",
       " 1,\n",
       " 3,\n",
       " 2,\n",
       " 5,\n",
       " 4,\n",
       " 2,\n",
       " 4,\n",
       " 4,\n",
       " 1,\n",
       " 5,\n",
       " 1,\n",
       " 4,\n",
       " 2,\n",
       " 2,\n",
       " 2,\n",
       " 6,\n",
       " 2,\n",
       " 3,\n",
       " 6,\n",
       " 7,\n",
       " 3,\n",
       " 1,\n",
       " 7,\n",
       " 9,\n",
       " 1,\n",
       " 3,\n",
       " 6,\n",
       " 1,\n",
       " 1,\n",
       " 5,\n",
       " 6,\n",
       " 5,\n",
       " 6,\n",
       " 3,\n",
       " 13,\n",
       " 2,\n",
       " 3,\n",
       " 4,\n",
       " 1,\n",
       " 3,\n",
       " 7,\n",
       " 4,\n",
       " 5,\n",
       " 2,\n",
       " 3,\n",
       " 4,\n",
       " 2,\n",
       " 2,\n",
       " 8,\n",
       " 1,\n",
       " 5,\n",
       " 1,\n",
       " 3,\n",
       " 2,\n",
       " 1,\n",
       " 3,\n",
       " 3,\n",
       " 1,\n",
       " 4,\n",
       " 1,\n",
       " 4,\n",
       " 6,\n",
       " 2,\n",
       " 5,\n",
       " 4,\n",
       " 9,\n",
       " 2,\n",
       " 7,\n",
       " 1,\n",
       " 3,\n",
       " 2,\n",
       " 3,\n",
       " 1,\n",
       " 5,\n",
       " 2,\n",
       " 6,\n",
       " 2,\n",
       " 7,\n",
       " 2,\n",
       " 2,\n",
       " 7,\n",
       " 1,\n",
       " 1,\n",
       " 10,\n",
       " 1,\n",
       " 5,\n",
       " 1,\n",
       " 3,\n",
       " 2,\n",
       " 2,\n",
       " 4,\n",
       " 11,\n",
       " 4,\n",
       " 3,\n",
       " 3,\n",
       " 1,\n",
       " 3,\n",
       " 3,\n",
       " 1,\n",
       " 6,\n",
       " 1,\n",
       " 1,\n",
       " 1,\n",
       " 1,\n",
       " 1,\n",
       " 4,\n",
       " 1,\n",
       " 3,\n",
       " 1,\n",
       " 2,\n",
       " 4,\n",
       " 1,\n",
       " 2,\n",
       " 6,\n",
       " 2,\n",
       " 2,\n",
       " 10,\n",
       " 1,\n",
       " 1,\n",
       " 10,\n",
       " 5,\n",
       " 1,\n",
       " 5,\n",
       " 1,\n",
       " 5,\n",
       " 1,\n",
       " 5,\n",
       " 1,\n",
       " 5,\n",
       " 1,\n",
       " 5,\n",
       " 1,\n",
       " 5,\n",
       " 1,\n",
       " 5,\n",
       " 1,\n",
       " 6,\n",
       " 1,\n",
       " 3,\n",
       " 1,\n",
       " 5,\n",
       " 1,\n",
       " 4,\n",
       " 1,\n",
       " 7,\n",
       " 1,\n",
       " 5,\n",
       " 1,\n",
       " 9,\n",
       " 1,\n",
       " 5,\n",
       " 1,\n",
       " 7,\n",
       " 1,\n",
       " 7,\n",
       " 1,\n",
       " 6,\n",
       " 1,\n",
       " 7,\n",
       " 1,\n",
       " 7,\n",
       " 1,\n",
       " 5,\n",
       " 1,\n",
       " 4,\n",
       " 1,\n",
       " 4,\n",
       " 1,\n",
       " 5,\n",
       " 1,\n",
       " 5,\n",
       " 1,\n",
       " 4,\n",
       " 1,\n",
       " 4,\n",
       " 1,\n",
       " 11,\n",
       " 1,\n",
       " 8,\n",
       " 1,\n",
       " 8,\n",
       " 2,\n",
       " 1,\n",
       " 3,\n",
       " 1,\n",
       " 3,\n",
       " 1,\n",
       " 9,\n",
       " 2,\n",
       " 2,\n",
       " 4,\n",
       " 2,\n",
       " 4,\n",
       " 4,\n",
       " 4,\n",
       " 4,\n",
       " 11,\n",
       " 8,\n",
       " 3,\n",
       " 4,\n",
       " 1,\n",
       " 4,\n",
       " 2,\n",
       " 1,\n",
       " 4,\n",
       " 5,\n",
       " 2,\n",
       " 1,\n",
       " 3,\n",
       " 1,\n",
       " 3,\n",
       " 7,\n",
       " 2,\n",
       " 4,\n",
       " 4,\n",
       " 7,\n",
       " 3,\n",
       " 4,\n",
       " 8,\n",
       " 3,\n",
       " 6,\n",
       " 1,\n",
       " 6,\n",
       " 2,\n",
       " 3,\n",
       " 5,\n",
       " 1,\n",
       " 7,\n",
       " 2,\n",
       " 8,\n",
       " 6,\n",
       " 9,\n",
       " 2,\n",
       " 6,\n",
       " 2,\n",
       " 5,\n",
       " 7,\n",
       " 4,\n",
       " 2,\n",
       " 3,\n",
       " 4,\n",
       " 10,\n",
       " 1,\n",
       " 6,\n",
       " 2,\n",
       " 7,\n",
       " 1,\n",
       " 9,\n",
       " 3,\n",
       " 4,\n",
       " 3,\n",
       " 1,\n",
       " 2,\n",
       " 5,\n",
       " 4,\n",
       " 2,\n",
       " 5,\n",
       " 1,\n",
       " 4,\n",
       " 3,\n",
       " 8,\n",
       " 1,\n",
       " 8,\n",
       " 5,\n",
       " 10,\n",
       " 1,\n",
       " 7,\n",
       " 9,\n",
       " 1,\n",
       " 2,\n",
       " 5,\n",
       " 8,\n",
       " 1,\n",
       " 3,\n",
       " 9,\n",
       " 6,\n",
       " 8,\n",
       " 1,\n",
       " 3,\n",
       " 4,\n",
       " 2,\n",
       " 1,\n",
       " 2,\n",
       " 8,\n",
       " 3,\n",
       " 7,\n",
       " 7,\n",
       " 9,\n",
       " 1,\n",
       " 2,\n",
       " 4,\n",
       " 2,\n",
       " 3,\n",
       " 5,\n",
       " 4,\n",
       " 9,\n",
       " 1,\n",
       " 5,\n",
       " 8,\n",
       " 3,\n",
       " 6,\n",
       " 8,\n",
       " 2,\n",
       " 12,\n",
       " 1,\n",
       " 2,\n",
       " 9,\n",
       " 1,\n",
       " 8,\n",
       " 4,\n",
       " 1,\n",
       " 1,\n",
       " 3,\n",
       " 4,\n",
       " 2,\n",
       " 4,\n",
       " 3,\n",
       " 4,\n",
       " 13,\n",
       " 4,\n",
       " 1,\n",
       " 7,\n",
       " 1,\n",
       " 7,\n",
       " 1,\n",
       " 3,\n",
       " 4,\n",
       " 2,\n",
       " 9,\n",
       " 1,\n",
       " 2,\n",
       " 4,\n",
       " 7,\n",
       " 3,\n",
       " 11,\n",
       " 1,\n",
       " 9,\n",
       " 3,\n",
       " 3,\n",
       " 1,\n",
       " 2,\n",
       " 4,\n",
       " 4,\n",
       " 4,\n",
       " 1,\n",
       " 4,\n",
       " 5,\n",
       " 2,\n",
       " 1,\n",
       " 3,\n",
       " 1,\n",
       " 3,\n",
       " 1,\n",
       " 5,\n",
       " 11,\n",
       " 1,\n",
       " 2,\n",
       " 1,\n",
       " 4,\n",
       " 9,\n",
       " 2,\n",
       " 4,\n",
       " 8,\n",
       " 1,\n",
       " 6,\n",
       " 5,\n",
       " 5,\n",
       " 2,\n",
       " 4,\n",
       " 2,\n",
       " 4,\n",
       " 5,\n",
       " 4,\n",
       " 4,\n",
       " 4,\n",
       " 1,\n",
       " 3,\n",
       " 3,\n",
       " 4,\n",
       " 4,\n",
       " 4,\n",
       " 6,\n",
       " 5,\n",
       " 2,\n",
       " 3,\n",
       " 4,\n",
       " 1,\n",
       " 6,\n",
       " 1,\n",
       " 3,\n",
       " 4,\n",
       " 4,\n",
       " 3,\n",
       " 9,\n",
       " 5,\n",
       " 2,\n",
       " 3,\n",
       " 1,\n",
       " 3,\n",
       " 4,\n",
       " 4,\n",
       " 1,\n",
       " 8,\n",
       " 1,\n",
       " 3,\n",
       " 1,\n",
       " 3,\n",
       " 4,\n",
       " 9,\n",
       " 4,\n",
       " 5,\n",
       " 1,\n",
       " 3,\n",
       " 3,\n",
       " 2,\n",
       " 4,\n",
       " 7,\n",
       " 1,\n",
       " 4,\n",
       " 4,\n",
       " 4,\n",
       " 3,\n",
       " 5,\n",
       " 7,\n",
       " 1,\n",
       " 3,\n",
       " 2,\n",
       " 3,\n",
       " 10,\n",
       " 10,\n",
       " 7,\n",
       " 2,\n",
       " 4,\n",
       " 2,\n",
       " 2,\n",
       " 1,\n",
       " 3,\n",
       " 1,\n",
       " 4,\n",
       " 1,\n",
       " 3,\n",
       " 2,\n",
       " 3,\n",
       " 4,\n",
       " 3,\n",
       " 4,\n",
       " 5,\n",
       " 2,\n",
       " 4,\n",
       " 2,\n",
       " 6,\n",
       " 3,\n",
       " 5,\n",
       " 1,\n",
       " 2,\n",
       " 2,\n",
       " 4,\n",
       " 3,\n",
       " 4,\n",
       " 5,\n",
       " 2,\n",
       " 3,\n",
       " 4,\n",
       " 2,\n",
       " 9,\n",
       " 1,\n",
       " 5,\n",
       " 4,\n",
       " 1,\n",
       " 5,\n",
       " 5,\n",
       " 3,\n",
       " 7,\n",
       " 5,\n",
       " 3,\n",
       " 3,\n",
       " 9,\n",
       " 3,\n",
       " 2,\n",
       " 1,\n",
       " 3,\n",
       " 4,\n",
       " 4,\n",
       " 4,\n",
       " 5,\n",
       " 3,\n",
       " 3,\n",
       " 5,\n",
       " 2,\n",
       " 3,\n",
       " 5,\n",
       " 1,\n",
       " 4,\n",
       " 4,\n",
       " 4,\n",
       " 6,\n",
       " 1,\n",
       " 3,\n",
       " 4,\n",
       " 7,\n",
       " 3,\n",
       " 4,\n",
       " 4,\n",
       " 6,\n",
       " 3,\n",
       " 8,\n",
       " 3,\n",
       " 3,\n",
       " 5,\n",
       " 1,\n",
       " 7,\n",
       " 7,\n",
       " 1,\n",
       " 3,\n",
       " 6,\n",
       " 8,\n",
       " 2,\n",
       " 4,\n",
       " 1,\n",
       " 8,\n",
       " 7,\n",
       " 1,\n",
       " 7,\n",
       " 1,\n",
       " 3,\n",
       " 7,\n",
       " 1,\n",
       " 7,\n",
       " 4,\n",
       " 6,\n",
       " 1,\n",
       " 4,\n",
       " 2,\n",
       " 6,\n",
       " 3,\n",
       " 10,\n",
       " 6,\n",
       " 8,\n",
       " 2,\n",
       " 5,\n",
       " 1,\n",
       " 2,\n",
       " 5,\n",
       " 6,\n",
       " 14,\n",
       " 7,\n",
       " 1,\n",
       " 8,\n",
       " 1,\n",
       " 1,\n",
       " 3,\n",
       " 3,\n",
       " 7,\n",
       " 5,\n",
       " 6,\n",
       " 2,\n",
       " 2,\n",
       " 7,\n",
       " 1,\n",
       " 1,\n",
       " 9,\n",
       " 6,\n",
       " 1,\n",
       " 4,\n",
       " 2,\n",
       " 5,\n",
       " 5,\n",
       " 3,\n",
       " 1,\n",
       " 3,\n",
       " 5,\n",
       " 5,\n",
       " 3,\n",
       " 4,\n",
       " 2,\n",
       " 2,\n",
       " 5,\n",
       " 2,\n",
       " 2,\n",
       " 3,\n",
       " 1,\n",
       " 1,\n",
       " 3,\n",
       " 3,\n",
       " 4,\n",
       " 3,\n",
       " 8,\n",
       " 1,\n",
       " 5,\n",
       " 4,\n",
       " 2,\n",
       " 7,\n",
       " 2,\n",
       " 5,\n",
       " 2,\n",
       " 2,\n",
       " 5,\n",
       " 1,\n",
       " 1,\n",
       " 5,\n",
       " 2,\n",
       " 3,\n",
       " 5,\n",
       " 1,\n",
       " 5,\n",
       " 2,\n",
       " 4,\n",
       " 9,\n",
       " 4,\n",
       " 4,\n",
       " 4,\n",
       " 4,\n",
       " 2,\n",
       " 4,\n",
       " 7,\n",
       " 2,\n",
       " 2,\n",
       " 6,\n",
       " 1,\n",
       " 1,\n",
       " 2,\n",
       " 4,\n",
       " 3,\n",
       " 1,\n",
       " 3,\n",
       " 4,\n",
       " 4,\n",
       " 3,\n",
       " 4,\n",
       " 1,\n",
       " 3,\n",
       " 5,\n",
       " 1,\n",
       " 3,\n",
       " 6,\n",
       " 5,\n",
       " 1,\n",
       " 5,\n",
       " 6,\n",
       " 9,\n",
       " 3,\n",
       " 8,\n",
       " 7,\n",
       " 1,\n",
       " 4,\n",
       " 9,\n",
       " 4,\n",
       " 7,\n",
       " 7,\n",
       " 1,\n",
       " 3,\n",
       " 2,\n",
       " 5,\n",
       " 4,\n",
       " 3,\n",
       " 6,\n",
       " 4,\n",
       " 2,\n",
       " 2,\n",
       " 3,\n",
       " 3,\n",
       " 2,\n",
       " 2,\n",
       " 6,\n",
       " 1,\n",
       " 3,\n",
       " 4,\n",
       " 5,\n",
       " 6,\n",
       " 7,\n",
       " 6,\n",
       " 6,\n",
       " 3,\n",
       " 5,\n",
       " 2,\n",
       " 4,\n",
       " 7,\n",
       " 1,\n",
       " 1,\n",
       " 5,\n",
       " 1,\n",
       " 2,\n",
       " 2,\n",
       " 5,\n",
       " 1,\n",
       " 4,\n",
       " 1,\n",
       " 2,\n",
       " 5,\n",
       " 1,\n",
       " 4,\n",
       " 2,\n",
       " 4,\n",
       " 3,\n",
       " 13,\n",
       " 4,\n",
       " 4,\n",
       " 5,\n",
       " 7,\n",
       " 2,\n",
       " 3,\n",
       " 1,\n",
       " 3,\n",
       " 9,\n",
       " 2,\n",
       " 3,\n",
       " 10,\n",
       " 4,\n",
       " 2,\n",
       " 3,\n",
       " 6,\n",
       " 2,\n",
       " 2,\n",
       " 7,\n",
       " 1,\n",
       " 1,\n",
       " 8,\n",
       " 1,\n",
       " 1,\n",
       " 6,\n",
       " 1,\n",
       " 1,\n",
       " 3,\n",
       " 6,\n",
       " 3,\n",
       " 8,\n",
       " 3,\n",
       " 4,\n",
       " 3,\n",
       " 3,\n",
       " 7,\n",
       " 6,\n",
       " 4,\n",
       " 3,\n",
       " 1,\n",
       " 5,\n",
       " 5,\n",
       " 3,\n",
       " 6,\n",
       " 3,\n",
       " 11,\n",
       " 6,\n",
       " 7,\n",
       " 1,\n",
       " 4,\n",
       " 2,\n",
       " 2,\n",
       " 4,\n",
       " 2,\n",
       " 6,\n",
       " 2,\n",
       " 4,\n",
       " 5,\n",
       " 2,\n",
       " 6,\n",
       " 2,\n",
       " 4,\n",
       " 2,\n",
       " 2,\n",
       " 7,\n",
       " 1,\n",
       " 1,\n",
       " 5,\n",
       " 1,\n",
       " 1,\n",
       " 8,\n",
       " 3,\n",
       " 2,\n",
       " 9,\n",
       " 3,\n",
       " 4,\n",
       " 2,\n",
       " 3,\n",
       " 3,\n",
       " 1,\n",
       " 4,\n",
       " 5,\n",
       " 7,\n",
       " 1,\n",
       " 5,\n",
       " 4,\n",
       " 6,\n",
       " 3,\n",
       " 5,\n",
       " 8,\n",
       " 2,\n",
       " 3,\n",
       " 3,\n",
       " 1,\n",
       " 8,\n",
       " 1,\n",
       " 5,\n",
       " 3,\n",
       " 6,\n",
       " 1,\n",
       " 3,\n",
       " 3,\n",
       " 2,\n",
       " 1,\n",
       " 4,\n",
       " 9,\n",
       " 4,\n",
       " 1,\n",
       " 3,\n",
       " 4,\n",
       " 4,\n",
       " 7,\n",
       " 2,\n",
       " 1,\n",
       " 4,\n",
       " 1,\n",
       " 7,\n",
       " 1,\n",
       " 7,\n",
       " 3,\n",
       " 5,\n",
       " 2,\n",
       " 3,\n",
       " 5,\n",
       " 1,\n",
       " 3,\n",
       " 7,\n",
       " 3,\n",
       " 3,\n",
       " 6,\n",
       " 3,\n",
       " 4,\n",
       " 1,\n",
       " 4,\n",
       " 2,\n",
       " 2,\n",
       " 5,\n",
       " 1,\n",
       " 1,\n",
       " 6,\n",
       " 1,\n",
       " 1,\n",
       " 3,\n",
       " 4,\n",
       " 7,\n",
       " 2,\n",
       " 1,\n",
       " 2,\n",
       " 7,\n",
       " 4,\n",
       " 7,\n",
       " 4,\n",
       " 4,\n",
       " 1,\n",
       " 4,\n",
       " 2,\n",
       " 8,\n",
       " 5,\n",
       " 1,\n",
       " 6,\n",
       " 1,\n",
       " 5,\n",
       " 3,\n",
       " 5,\n",
       " 2,\n",
       " 4,\n",
       " 5,\n",
       " 5,\n",
       " 3,\n",
       " 5,\n",
       " 5,\n",
       " 1,\n",
       " 2,\n",
       " 5,\n",
       " 2,\n",
       " 7,\n",
       " 4,\n",
       " 2,\n",
       " 3,\n",
       " 4,\n",
       " 1,\n",
       " 3,\n",
       " 3,\n",
       " 4,\n",
       " 6,\n",
       " 4,\n",
       " 7,\n",
       " 2,\n",
       " 3,\n",
       " 3,\n",
       " 7,\n",
       " 1,\n",
       " 2,\n",
       " 5,\n",
       " 4,\n",
       " 4,\n",
       " 5,\n",
       " 1,\n",
       " 5,\n",
       " 1,\n",
       " 4,\n",
       " 5,\n",
       " 5,\n",
       " 4,\n",
       " 1,\n",
       " 2,\n",
       " ...]"
      ]
     },
     "execution_count": 165,
     "metadata": {},
     "output_type": "execute_result"
    }
   ],
   "source": [
    "[len(w) for w in text1]"
   ]
  },
  {
   "cell_type": "code",
   "execution_count": 194,
   "metadata": {},
   "outputs": [],
   "source": [
    "fdist = FreqDist([len(w) for w in text1])"
   ]
  },
  {
   "cell_type": "code",
   "execution_count": 195,
   "metadata": {},
   "outputs": [
    {
     "data": {
      "text/plain": [
       "FreqDist({3: 50223, 1: 47933, 4: 42345, 2: 38513, 5: 26597, 6: 17111, 7: 14399, 8: 9966, 9: 6428, 10: 3528, ...})"
      ]
     },
     "execution_count": 195,
     "metadata": {},
     "output_type": "execute_result"
    }
   ],
   "source": [
    "fdist"
   ]
  },
  {
   "cell_type": "code",
   "execution_count": 196,
   "metadata": {},
   "outputs": [
    {
     "data": {
      "text/plain": [
       "dict_keys([1, 4, 2, 6, 8, 9, 11, 5, 7, 3, 10, 12, 13, 14, 16, 15, 17, 18, 20])"
      ]
     },
     "execution_count": 196,
     "metadata": {},
     "output_type": "execute_result"
    }
   ],
   "source": [
    "fdist.keys()"
   ]
  },
  {
   "cell_type": "code",
   "execution_count": 197,
   "metadata": {},
   "outputs": [
    {
     "data": {
      "text/plain": [
       "dict_items([(1, 47933), (4, 42345), (2, 38513), (6, 17111), (8, 9966), (9, 6428), (11, 1873), (5, 26597), (7, 14399), (3, 50223), (10, 3528), (12, 1053), (13, 567), (14, 177), (16, 22), (15, 70), (17, 12), (18, 1), (20, 1)])"
      ]
     },
     "execution_count": 197,
     "metadata": {},
     "output_type": "execute_result"
    }
   ],
   "source": [
    "fdist.items()"
   ]
  },
  {
   "cell_type": "code",
   "execution_count": 198,
   "metadata": {},
   "outputs": [
    {
     "data": {
      "text/plain": [
       "50223"
      ]
     },
     "execution_count": 198,
     "metadata": {},
     "output_type": "execute_result"
    }
   ],
   "source": [
    "fdist[3]"
   ]
  },
  {
   "cell_type": "code",
   "execution_count": 199,
   "metadata": {},
   "outputs": [
    {
     "data": {
      "text/plain": [
       "0.19255882431878046"
      ]
     },
     "execution_count": 199,
     "metadata": {},
     "output_type": "execute_result"
    }
   ],
   "source": [
    "fdist.freq(3)\n",
    "#that words of length 3 account for roughly 50,000 (or 20%) of the words"
   ]
  },
  {
   "cell_type": "code",
   "execution_count": 200,
   "metadata": {},
   "outputs": [
    {
     "data": {
      "text/plain": [
       "<bound method FreqDist.N of FreqDist({3: 50223, 1: 47933, 4: 42345, 2: 38513, 5: 26597, 6: 17111, 7: 14399, 8: 9966, 9: 6428, 10: 3528, ...})>"
      ]
     },
     "execution_count": 200,
     "metadata": {},
     "output_type": "execute_result"
    }
   ],
   "source": [
    "fdist.N"
   ]
  },
  {
   "cell_type": "code",
   "execution_count": 202,
   "metadata": {},
   "outputs": [
    {
     "data": {
      "text/plain": [
       "3"
      ]
     },
     "execution_count": 202,
     "metadata": {},
     "output_type": "execute_result"
    }
   ],
   "source": [
    "fdist.max()"
   ]
  },
  {
   "cell_type": "markdown",
   "metadata": {},
   "source": [
    "# Back to Python"
   ]
  },
  {
   "cell_type": "code",
   "execution_count": 217,
   "metadata": {},
   "outputs": [
    {
     "data": {
      "text/plain": [
       "['Machine', 'learning', 'algorithms', 'build', 'a']"
      ]
     },
     "execution_count": 217,
     "metadata": {},
     "output_type": "execute_result"
    }
   ],
   "source": [
    "my_text[:5]"
   ]
  },
  {
   "cell_type": "code",
   "execution_count": 222,
   "metadata": {},
   "outputs": [
    {
     "data": {
      "text/plain": [
       "['mathematical', 'model', 'make', 'machine']"
      ]
     },
     "execution_count": 222,
     "metadata": {},
     "output_type": "execute_result"
    }
   ],
   "source": [
    "[w for w in my_text if w.startswith('m')]"
   ]
  },
  {
   "cell_type": "code",
   "execution_count": 223,
   "metadata": {},
   "outputs": [
    {
     "data": {
      "text/plain": [
       "['Machine', 'sample', 'make', 'Machine', 'are', 'wide', 'love', 'machine']"
      ]
     },
     "execution_count": 223,
     "metadata": {},
     "output_type": "execute_result"
    }
   ],
   "source": [
    "[w for w in my_text if w.endswith('e')]"
   ]
  },
  {
   "cell_type": "code",
   "execution_count": 226,
   "metadata": {},
   "outputs": [
    {
     "data": {
      "text/plain": [
       "['I']"
      ]
     },
     "execution_count": 226,
     "metadata": {},
     "output_type": "execute_result"
    }
   ],
   "source": [
    "[w for w in my_text if w.isupper()]"
   ]
  },
  {
   "cell_type": "code",
   "execution_count": 231,
   "metadata": {},
   "outputs": [
    {
     "data": {
      "text/plain": [
       "['1']"
      ]
     },
     "execution_count": 231,
     "metadata": {},
     "output_type": "execute_result"
    }
   ],
   "source": [
    "[w for w in my_text if w.isdigit()]"
   ]
  },
  {
   "cell_type": "code",
   "execution_count": 233,
   "metadata": {},
   "outputs": [
    {
     "data": {
      "text/plain": [
       "['Stock-index',\n",
       " 'index-arbitrage',\n",
       " 'index-fund',\n",
       " 'index-options',\n",
       " 'index-related',\n",
       " 'stock-index']"
      ]
     },
     "execution_count": 233,
     "metadata": {},
     "output_type": "execute_result"
    }
   ],
   "source": [
    "sorted([w for w in set(text7) if '-' in w and 'index' in w])"
   ]
  },
  {
   "cell_type": "code",
   "execution_count": 236,
   "metadata": {},
   "outputs": [
    {
     "data": {
      "text/plain": [
       "['Jegarsahadutha', 'Zaphnathpaaneah']"
      ]
     },
     "execution_count": 236,
     "metadata": {},
     "output_type": "execute_result"
    }
   ],
   "source": [
    "sorted([w for w in set(text3) if w.istitle() and len(w)>12])"
   ]
  },
  {
   "cell_type": "code",
   "execution_count": 239,
   "metadata": {},
   "outputs": [
    {
     "data": {
      "text/plain": [
       "16948"
      ]
     },
     "execution_count": 239,
     "metadata": {},
     "output_type": "execute_result"
    }
   ],
   "source": [
    "len(set([word.lower() for word in text1 if word.isalpha()]))"
   ]
  },
  {
   "cell_type": "code",
   "execution_count": 245,
   "metadata": {},
   "outputs": [
    {
     "data": {
      "text/plain": [
       "177"
      ]
     },
     "execution_count": 245,
     "metadata": {},
     "output_type": "execute_result"
    }
   ],
   "source": [
    "len(set([word for word in text1 if word.isdigit()]))"
   ]
  },
  {
   "cell_type": "markdown",
   "metadata": {},
   "source": [
    "# Corpora Operations"
   ]
  },
  {
   "cell_type": "markdown",
   "metadata": {},
   "source": [
    "### Gutenberg Corpus"
   ]
  },
  {
   "cell_type": "code",
   "execution_count": 1,
   "metadata": {},
   "outputs": [],
   "source": [
    "import nltk"
   ]
  },
  {
   "cell_type": "code",
   "execution_count": 2,
   "metadata": {},
   "outputs": [
    {
     "data": {
      "text/plain": [
       "['austen-emma.txt',\n",
       " 'austen-persuasion.txt',\n",
       " 'austen-sense.txt',\n",
       " 'bible-kjv.txt',\n",
       " 'blake-poems.txt',\n",
       " 'bryant-stories.txt',\n",
       " 'burgess-busterbrown.txt',\n",
       " 'carroll-alice.txt',\n",
       " 'chesterton-ball.txt',\n",
       " 'chesterton-brown.txt',\n",
       " 'chesterton-thursday.txt',\n",
       " 'edgeworth-parents.txt',\n",
       " 'melville-moby_dick.txt',\n",
       " 'milton-paradise.txt',\n",
       " 'shakespeare-caesar.txt',\n",
       " 'shakespeare-hamlet.txt',\n",
       " 'shakespeare-macbeth.txt',\n",
       " 'whitman-leaves.txt']"
      ]
     },
     "execution_count": 2,
     "metadata": {},
     "output_type": "execute_result"
    }
   ],
   "source": [
    "nltk.corpus.gutenberg.fileids()"
   ]
  },
  {
   "cell_type": "code",
   "execution_count": 7,
   "metadata": {},
   "outputs": [
    {
     "data": {
      "text/plain": [
       "['[', 'The', 'King', 'James', 'Bible', ']', 'The', ...]"
      ]
     },
     "execution_count": 7,
     "metadata": {},
     "output_type": "execute_result"
    }
   ],
   "source": [
    "bible = nltk.corpus.gutenberg.words('bible-kjv.txt')\n",
    "bible"
   ]
  },
  {
   "cell_type": "code",
   "execution_count": 8,
   "metadata": {},
   "outputs": [
    {
     "data": {
      "text/plain": [
       "1010654"
      ]
     },
     "execution_count": 8,
     "metadata": {},
     "output_type": "execute_result"
    }
   ],
   "source": [
    "len(bible)"
   ]
  },
  {
   "cell_type": "code",
   "execution_count": 10,
   "metadata": {},
   "outputs": [
    {
     "data": {
      "text/plain": [
       "188"
      ]
     },
     "execution_count": 10,
     "metadata": {},
     "output_type": "execute_result"
    }
   ],
   "source": [
    "bible.count('book')"
   ]
  },
  {
   "cell_type": "code",
   "execution_count": 12,
   "metadata": {},
   "outputs": [
    {
     "data": {
      "text/plain": [
       "<Text: The King James Bible>"
      ]
     },
     "execution_count": 12,
     "metadata": {},
     "output_type": "execute_result"
    }
   ],
   "source": [
    "bible=nltk.Text(nltk.corpus.gutenberg.words('bible-kjv.txt'))\n",
    "bible"
   ]
  },
  {
   "cell_type": "code",
   "execution_count": 14,
   "metadata": {},
   "outputs": [
    {
     "name": "stdout",
     "output_type": "stream",
     "text": [
      "Displaying 25 of 983 matches:\n",
      " 1 : 1 The book of the generation of Jesus Christ , the son of David , the son \n",
      "e husband of Mary , of whom was born Jesus , who is called Christ . 1 : 17 So a\n",
      "enerations . 1 : 18 Now the birth of Jesus Christ was on this wise : When as hi\n",
      "a son , and thou shalt call his name JESUS : for he shall save his people from \n",
      "rstborn son : and he called his name JESUS . 2 : 1 Now when Jesus was born in B\n",
      "lled his name JESUS . 2 : 1 Now when Jesus was born in Bethlehem of Judaea in t\n",
      "quenchable fire . 3 : 13 Then cometh Jesus from Galilee to Jordan unto John , t\n",
      ", and comest thou to me ? 3 : 15 And Jesus answering said unto him , Suffer it \n",
      " . Then he suffered him . 3 : 16 And Jesus , when he was baptized , went up str\n",
      "m I am well pleased . 4 : 1 Then was Jesus led up of the spirit into the wilder\n",
      "ash thy foot against a stone . 4 : 7 Jesus said unto him , It is written again \n",
      "n and worship me . 4 : 10 Then saith Jesus unto him , Get thee hence , Satan : \n",
      "inistered unto him . 4 : 12 Now when Jesus had heard that John was cast into pr\n",
      "is sprung up . 4 : 17 From that time Jesus began to preach , and to say , Repen\n",
      "om of heaven is at hand . 4 : 18 And Jesus , walking by the sea of Galilee , sa\n",
      "ther , and followed him . 4 : 23 And Jesus went about all Galilee , teaching in\n",
      " . 7 : 28 And it came to pass , when Jesus had ended these sayings , the people\n",
      "thou canst make me clean . 8 : 3 And Jesus put forth his hand , and touched him\n",
      "his leprosy was cleansed . 8 : 4 And Jesus saith unto him , See thou tell no ma\n",
      "testimony unto them . 8 : 5 And when Jesus was entered into Capernaum , there c\n",
      "y , grievously tormented . 8 : 7 And Jesus saith unto him , I will come and hea\n",
      "this , and he doeth it . 8 : 10 When Jesus heard it , he marvelled , and said t\n",
      "g and gnashing of teeth . 8 : 13 And Jesus said unto the centurion , Go thy way\n",
      " the selfsame hour . 8 : 14 And when Jesus was come into Peter ' s house , he s\n",
      "are our sicknesses . 8 : 18 Now when Jesus saw great multitudes about him , he \n"
     ]
    }
   ],
   "source": [
    "bible.concordance('jesus')"
   ]
  },
  {
   "cell_type": "code",
   "execution_count": 19,
   "metadata": {},
   "outputs": [
    {
     "name": "stdout",
     "output_type": "stream",
     "text": [
      "['[', 'Emma', 'by', 'Jane', 'Austen', '1816', ']', ...]\n"
     ]
    }
   ],
   "source": [
    "from nltk.corpus import gutenberg\n",
    "gutenberg.fileids()\n",
    "emma = gutenberg.words('austen-emma.txt')\n",
    "print(emma)"
   ]
  },
  {
   "cell_type": "code",
   "execution_count": 22,
   "metadata": {},
   "outputs": [
    {
     "data": {
      "text/plain": [
       "[['[', 'Paradise', 'Lost', 'by', 'John', 'Milton', '1667', ']'], ['Book', 'I'], ...]"
      ]
     },
     "execution_count": 22,
     "metadata": {},
     "output_type": "execute_result"
    }
   ],
   "source": [
    "gutenberg.sents('milton-paradise.txt')"
   ]
  },
  {
   "cell_type": "code",
   "execution_count": 23,
   "metadata": {},
   "outputs": [
    {
     "data": {
      "text/plain": [
       "['[', 'Paradise', 'Lost', 'by', 'John', 'Milton', ...]"
      ]
     },
     "execution_count": 23,
     "metadata": {},
     "output_type": "execute_result"
    }
   ],
   "source": [
    "gutenberg.words('milton-paradise.txt')"
   ]
  },
  {
   "cell_type": "code",
   "execution_count": 25,
   "metadata": {},
   "outputs": [
    {
     "data": {
      "text/plain": [
       "'[Paradise Lost by John Milton 1667] \\n \\n \\nBook I \\n \\n \\nOf Man\\'s first disobedience, and the fruit \\nOf that forbidden tree whose mortal taste \\nBrought death into the World, and all our woe, \\nWith loss of Eden, till one greater Man \\nRestore us, and regain the blissful seat, \\nSing, Heavenly Muse, that, on the secret top \\nOf Oreb, or of Sinai, didst inspire \\nThat shepherd who first taught the chosen seed \\nIn the beginning how the heavens and earth \\nRose out of Chaos: or, if Sion hill \\nDelight thee more, and Siloa\\'s brook that flowed \\nFast by the oracle of God, I thence \\nInvoke thy aid to my adventurous song, \\nThat with no middle flight intends to soar \\nAbove th\\' Aonian mount, while it pursues \\nThings unattempted yet in prose or rhyme. \\nAnd chiefly thou, O Spirit, that dost prefer \\nBefore all temples th\\' upright heart and pure, \\nInstruct me, for thou know\\'st; thou from the first \\nWast present, and, with mighty wings outspread, \\nDove-like sat\\'st brooding on the vast Abyss, \\nAnd mad\\'st it pregnant: what in me is dark \\nIllumine, what is low raise and support; \\nThat, to the height of this great argument, \\nI may assert Eternal Providence, \\nAnd justify the ways of God to men. \\n  Say first--for Heaven hides nothing from thy view, \\nNor the deep tract of Hell--say first what cause \\nMoved our grand parents, in that happy state, \\nFavoured of Heaven so highly, to fall off \\nFrom their Creator, and transgress his will \\nFor one restraint, lords of the World besides. \\nWho first seduced them to that foul revolt? \\n  Th\\' infernal Serpent; he it was whose guile, \\nStirred up with envy and revenge, deceived \\nThe mother of mankind, what time his pride \\nHad cast him out from Heaven, with all his host \\nOf rebel Angels, by whose aid, aspiring \\nTo set himself in glory above his peers, \\nHe trusted to have equalled the Most High, \\nIf he opposed, and with ambitious aim \\nAgainst the throne and monarchy of God, \\nRaised impious war in Heaven and battle proud, \\nWith vain attempt. Him the Almighty Power \\nHurled headlong flaming from th\\' ethereal sky, \\nWith hideous ruin and combustion, down \\nTo bottomless perdition, there to dwell \\nIn adamantine chains and penal fire, \\nWho durst defy th\\' Omnipotent to arms. \\n  Nine times the space that measures day and night \\nTo mortal men, he, with his horrid crew, \\nLay vanquished, rolling in the fiery gulf, \\nConfounded, though immortal. But his doom \\nReserved him to more wrath; for now the thought \\nBoth of lost happiness and lasting pain \\nTorments him: round he throws his baleful eyes, \\nThat witnessed huge affliction and dismay, \\nMixed with obdurate pride and steadfast hate. \\nAt once, as far as Angels ken, he views \\nThe dismal situation waste and wild. \\nA dungeon horrible, on all sides round, \\nAs one great furnace flamed; yet from those flames \\nNo light; but rather darkness visible \\nServed only to discover sights of woe, \\nRegions of sorrow, doleful shades, where peace \\nAnd rest can never dwell, hope never comes \\nThat comes to all, but torture without end \\nStill urges, and a fiery deluge, fed \\nWith ever-burning sulphur unconsumed. \\nSuch place Eternal Justice has prepared \\nFor those rebellious; here their prison ordained \\nIn utter darkness, and their portion set, \\nAs far removed from God and light of Heaven \\nAs from the centre thrice to th\\' utmost pole. \\nOh how unlike the place from whence they fell! \\nThere the companions of his fall, o\\'erwhelmed \\nWith floods and whirlwinds of tempestuous fire, \\nHe soon discerns; and, weltering by his side, \\nOne next himself in power, and next in crime, \\nLong after known in Palestine, and named \\nBeelzebub. To whom th\\' Arch-Enemy, \\nAnd thence in Heaven called Satan, with bold words \\nBreaking the horrid silence, thus began:-- \\n  \"If thou beest he--but O how fallen! how changed \\nFrom him who, in the happy realms of light \\nClothed with transcendent brightness, didst outshine \\nMyriads, though bright!--if he whom mutual league, \\nUnited thoughts and counsels, equal hope \\nAnd hazard in the glorious enterprise \\nJoined with me once, now misery hath joined \\nIn equal ruin; into what pit thou seest \\nFrom what height fallen: so much the stronger proved \\nHe with his thunder; and till then who knew \\nThe force of those dire arms? Yet not for those, \\nNor what the potent Victor in his rage \\nCan else inflict, do I repent, or change, \\nThough changed in outward lustre, that fixed mind, \\nAnd high disdain from sense of injured merit, \\nThat with the Mightiest raised me to contend, \\nAnd to the fierce contentions brought along \\nInnumerable force of Spirits armed, \\nThat durst dislike his reign, and, me preferring, \\nHis utmost power with adverse power opposed \\nIn dubious battle on the plains of Heaven, \\nAnd shook his throne. What though the field be lost? \\nAll is not lost--the unconquerable will, \\nAnd study of revenge, immortal hate, \\nAnd courage never to submit or yield: \\nAnd what is else not to be overcome? \\nThat glory never shall his wrath or might \\nExtort from me. To bow and sue for grace \\nWith suppliant knee, and deify his power \\nWho, from the terror of this arm, so late \\nDoubted his empire--that were low indeed; \\nThat were an ignominy and shame beneath \\nThis downfall; since, by fate, the strength of Gods, \\nAnd this empyreal sybstance, cannot fail; \\nSince, through experience of this great event, \\nIn arms not worse, in foresight much advanced, \\nWe may with more successful hope resolve \\nTo wage by force or guile eternal war, \\nIrreconcilable to our grand Foe, \\nWho now triumphs, and in th\\' excess of joy \\nSole reigning holds the tyranny of Heaven.\" \\n  So spake th\\' apostate Angel, though in pain, \\nVaunting aloud, but racked with deep despair; \\nAnd him thus answered soon his bold compeer:-- \\n  \"O Prince, O Chief of many throned Powers \\nThat led th\\' embattled Seraphim to war \\nUnder thy conduct, and, in dreadful deeds \\nFearless, endangered Heaven\\'s perpetual King, \\nAnd put to proof his high supremacy, \\nWhether upheld by strength, or chance, or fate, \\nToo well I see and rue the dire event \\nThat, with sad overthrow and foul defeat, \\nHath lost us Heaven, and all this mighty host \\nIn horrible destruction laid thus low, \\nAs far as Gods and heavenly Essences \\nCan perish: for the mind and spirit remains \\nInvincible, and vigour soon returns, \\nThough all our glory extinct, and happy state \\nHere swallowed up in endless misery. \\nBut what if he our Conqueror (whom I now \\nOf force believe almighty, since no less \\nThan such could have o\\'erpowered such force as ours) \\nHave left us this our spirit and strength entire, \\nStrongly to suffer and support our pains, \\nThat we may so suffice his vengeful ire, \\nOr do him mightier service as his thralls \\nBy right of war, whate\\'er his business be, \\nHere in the heart of Hell to work in fire, \\nOr do his errands in the gloomy Deep? \\nWhat can it the avail though yet we feel \\nStrength undiminished, or eternal being \\nTo undergo eternal punishment?\" \\n  Whereto with speedy words th\\' Arch-Fiend replied:-- \\n\"Fallen Cherub, to be weak is miserable, \\nDoing or suffering: but of this be sure-- \\nTo do aught good never will be our task, \\nBut ever to do ill our sole delight, \\nAs being the contrary to his high will \\nWhom we resist. If then his providence \\nOut of our evil seek to bring forth good, \\nOur labour must be to pervert that end, \\nAnd out of good still to find means of evil; \\nWhich ofttimes may succeed so as perhaps \\nShall grieve him, if I fail not, and disturb \\nHis inmost counsels from their destined aim. \\nBut see! the angry Victor hath recalled \\nHis ministers of vengeance and pursuit \\nBack to the gates of Heaven: the sulphurous hail, \\nShot after us in storm, o\\'erblown hath laid \\nThe fiery surge that from the precipice \\nOf Heaven received us falling; and the thunder, \\nWinged with red lightning and impetuous rage, \\nPerhaps hath spent his shafts, and ceases now \\nTo bellow through the vast and boundless Deep. \\nLet us not slip th\\' occasion, whether scorn \\nOr satiate fury yield it from our Foe. \\nSeest thou yon dreary plain, forlorn and wild, \\nThe seat of desolation, void of light, \\nSave what the glimmering of these livid flames \\nCasts pale and dreadful? Thither let us tend \\nFrom off the tossing of these fiery waves; \\nThere rest, if any rest can harbour there; \\nAnd, re-assembling our afflicted powers, \\nConsult how we may henceforth most offend \\nOur enemy, our own loss how repair, \\nHow overcome this dire calamity, \\nWhat reinforcement we may gain from hope, \\nIf not, what resolution from despair.\" \\n  Thus Satan, talking to his nearest mate, \\nWith head uplift above the wave, and eyes \\nThat sparkling blazed; his other parts besides \\nProne on the flood, extended long and large, \\nLay floating many a rood, in bulk as huge \\nAs whom the fables name of monstrous size, \\nTitanian or Earth-born, that warred on Jove, \\nBriareos or Typhon, whom the den \\nBy ancient Tarsus held, or that sea-beast \\nLeviathan, which God of all his works \\nCreated hugest that swim th\\' ocean-stream. \\nHim, haply slumbering on the Norway foam, \\nThe pilot of some small night-foundered skiff, \\nDeeming some island, oft, as seamen tell, \\nWith fixed anchor in his scaly rind, \\nMoors by his side under the lee, while night \\nInvests the sea, and wished morn delays. \\nSo stretched out huge in length the Arch-fiend lay, \\nChained on the burning lake; nor ever thence \\nHad risen, or heaved his head, but that the will \\nAnd high permission of all-ruling Heaven \\nLeft him at large to his own dark designs, \\nThat with reiterated crimes he might \\nHeap on himself damnation, while he sought \\nEvil to others, and enraged might see \\nHow all his malice served but to bring forth \\nInfinite goodness, grace, and mercy, shewn \\nOn Man by him seduced, but on himself \\nTreble confusion, wrath, and vengeance poured. \\n  Forthwith upright he rears from off the pool \\nHis mighty stature; on each hand the flames \\nDriven backward slope their pointing spires, and,rolled \\nIn billows, leave i\\' th\\' midst a horrid vale. \\nThen with expanded wings he steers his flight \\nAloft, incumbent on the dusky air, \\nThat felt unusual weight; till on dry land \\nHe lights--if it were land that ever burned \\nWith solid, as the lake with liquid fire, \\nAnd such appeared in hue as when the force \\nOf subterranean wind transprots a hill \\nTorn from Pelorus, or the shattered side \\nOf thundering Etna, whose combustible \\nAnd fuelled entrails, thence conceiving fire, \\nSublimed with mineral fury, aid the winds, \\nAnd leave a singed bottom all involved \\nWith stench and smoke. Such resting found the sole \\nOf unblest feet. Him followed his next mate; \\nBoth glorying to have scaped the Stygian flood \\nAs gods, and by their own recovered strength, \\nNot by the sufferance of supernal Power. \\n  \"Is this the region, this the soil, the clime,\" \\nSaid then the lost Archangel, \"this the seat \\nThat we must change for Heaven?--this mournful gloom \\nFor that celestial light? Be it so, since he \\nWho now is sovereign can dispose and bid \\nWhat shall be right: farthest from him is best \\nWhom reason hath equalled, force hath made supreme \\nAbove his equals. Farewell, happy fields, \\nWhere joy for ever dwells! Hail, horrors! hail, \\nInfernal world! and thou, profoundest Hell, \\nReceive thy new possessor--one who brings \\nA mind not to be changed by place or time. \\nThe mind is its own place, and in itself \\nCan make a Heaven of Hell, a Hell of Heaven. \\nWhat matter where, if I be still the same, \\nAnd what I should be, all but less than he \\nWhom thunder hath made greater? Here at least \\nWe shall be free; th\\' Almighty hath not built \\nHere for his envy, will not drive us hence: \\nHere we may reigh secure; and, in my choice, \\nTo reign is worth ambition, though in Hell: \\nBetter to reign in Hell than serve in Heaven. \\nBut wherefore let we then our faithful friends, \\nTh\\' associates and co-partners of our loss, \\nLie thus astonished on th\\' oblivious pool, \\nAnd call them not to share with us their part \\nIn this unhappy mansion, or once more \\nWith rallied arms to try what may be yet \\nRegained in Heaven, or what more lost in Hell?\" \\n  So Satan spake; and him Beelzebub \\nThus answered:--\"Leader of those armies bright \\nWhich, but th\\' Omnipotent, none could have foiled! \\nIf once they hear that voice, their liveliest pledge \\nOf hope in fears and dangers--heard so oft \\nIn worst extremes, and on the perilous edge \\nOf battle, when it raged, in all assaults \\nTheir surest signal--they will soon resume \\nNew courage and revive, though now they lie \\nGrovelling and prostrate on yon lake of fire, \\nAs we erewhile, astounded and amazed; \\nNo wonder, fallen such a pernicious height!\" \\n  He scare had ceased when the superior Fiend \\nWas moving toward the shore; his ponderous shield, \\nEthereal temper, massy, large, and round, \\nBehind him cast. The broad circumference \\nHung on his shoulders like the moon, whose orb \\nThrough optic glass the Tuscan artist views \\nAt evening, from the top of Fesole, \\nOr in Valdarno, to descry new lands, \\nRivers, or mountains, in her spotty globe. \\nHis spear--to equal which the tallest pine \\nHewn on Norwegian hills, to be the mast \\nOf some great ammiral, were but a wand-- \\nHe walked with, to support uneasy steps \\nOver the burning marl, not like those steps \\nOn Heaven\\'s azure; and the torrid clime \\nSmote on him sore besides, vaulted with fire. \\nNathless he so endured, till on the beach \\nOf that inflamed sea he stood, and called \\nHis legions--Angel Forms, who lay entranced \\nThick as autumnal leaves that strow the brooks \\nIn Vallombrosa, where th\\' Etrurian shades \\nHigh over-arched embower; or scattered sedge \\nAfloat, when with fierce winds Orion armed \\nHath vexed the Red-Sea coast, whose waves o\\'erthrew \\nBusiris and his Memphian chivalry, \\nWhile with perfidious hatred they pursued \\nThe sojourners of Goshen, who beheld \\nFrom the safe shore their floating carcases \\nAnd broken chariot-wheels. So thick bestrown, \\nAbject and lost, lay these, covering the flood, \\nUnder amazement of their hideous change. \\nHe called so loud that all the hollow deep \\nOf Hell resounded:--\"Princes, Potentates, \\nWarriors, the Flower of Heaven--once yours; now lost, \\nIf such astonishment as this can seize \\nEternal Spirits! Or have ye chosen this place \\nAfter the toil of battle to repose \\nYour wearied virtue, for the ease you find \\nTo slumber here, as in the vales of Heaven? \\nOr in this abject posture have ye sworn \\nTo adore the Conqueror, who now beholds \\nCherub and Seraph rolling in the flood \\nWith scattered arms and ensigns, till anon \\nHis swift pursuers from Heaven-gates discern \\nTh\\' advantage, and, descending, tread us down \\nThus drooping, or with linked thunderbolts \\nTransfix us to the bottom of this gulf? \\nAwake, arise, or be for ever fallen!\" \\n  They heard, and were abashed, and up they sprung \\nUpon the wing, as when men wont to watch \\nOn duty, sleeping found by whom they dread, \\nRouse and bestir themselves ere well awake. \\nNor did they not perceive the evil plight \\nIn which they were, or the fierce pains not feel; \\nYet to their General\\'s voice they soon obeyed \\nInnumerable. As when the potent rod \\nOf Amram\\'s son, in Egypt\\'s evil day, \\nWaved round the coast, up-called a pitchy cloud \\nOf locusts, warping on the eastern wind, \\nThat o\\'er the realm of impious Pharaoh hung \\nLike Night, and darkened all the land of Nile; \\nSo numberless were those bad Angels seen \\nHovering on wing under the cope of Hell, \\n\\'Twixt upper, nether, and surrounding fires; \\nTill, as a signal given, th\\' uplifted spear \\nOf their great Sultan waving to direct \\nTheir course, in even balance down they light \\nOn the firm brimstone, and fill all the plain: \\nA multitude like which the populous North \\nPoured never from her frozen loins to pass \\nRhene or the Danaw, when her barbarous sons \\nCame like a deluge on the South, and spread \\nBeneath Gibraltar to the Libyan sands. \\nForthwith, form every squadron and each band, \\nThe heads and leaders thither haste where stood \\nTheir great Commander--godlike Shapes, and Forms \\nExcelling human; princely Dignities; \\nAnd Powers that erst in Heaven sat on thrones, \\nThough on their names in Heavenly records now \\nBe no memorial, blotted out and rased \\nBy their rebellion from the Books of Life. \\nNor had they yet among the sons of Eve \\nGot them new names, till, wandering o\\'er the earth, \\nThrough God\\'s high sufferance for the trial of man, \\nBy falsities and lies the greatest part \\nOf mankind they corrupted to forsake \\nGod their Creator, and th\\' invisible \\nGlory of him that made them to transform \\nOft to the image of a brute, adorned \\nWith gay religions full of pomp and gold, \\nAnd devils to adore for deities: \\nThen were they known to men by various names, \\nAnd various idols through the heathen world. \\n  Say, Muse, their names then known, who first, who last, \\nRoused from the slumber on that fiery couch, \\nAt their great Emperor\\'s call, as next in worth \\nCame singly where he stood on the bare strand, \\nWhile the promiscuous crowd stood yet aloof? \\n  The chief were those who, from the pit of Hell \\nRoaming to seek their prey on Earth, durst fix \\nTheir seats, long after, next the seat of God, \\nTheir altars by his altar, gods adored \\nAmong the nations round, and durst abide \\nJehovah thundering out of Sion, throned \\nBetween the Cherubim; yea, often placed \\nWithin his sanctuary itself their shrines, \\nAbominations; and with cursed things \\nHis holy rites and solemn feasts profaned, \\nAnd with their darkness durst affront his light. \\nFirst, Moloch, horrid king, besmeared with blood \\nOf human sacrifice, and parents\\' tears; \\nThough, for the noise of drums and timbrels loud, \\nTheir children\\'s cries unheard that passed through fire \\nTo his grim idol. Him the Ammonite \\nWorshiped in Rabba and her watery plain, \\nIn Argob and in Basan, to the stream \\nOf utmost Arnon. Nor content with such \\nAudacious neighbourhood, the wisest heart \\nOf Solomon he led by fraoud to build \\nHis temple right against the temple of God \\nOn that opprobrious hill, and made his grove \\nThe pleasant valley of Hinnom, Tophet thence \\nAnd black Gehenna called, the type of Hell. \\nNext Chemos, th\\' obscene dread of Moab\\'s sons, \\nFrom Aroar to Nebo and the wild \\nOf southmost Abarim; in Hesebon \\nAnd Horonaim, Seon\\'s real, beyond \\nThe flowery dale of Sibma clad with vines, \\nAnd Eleale to th\\' Asphaltic Pool: \\nPeor his other name, when he enticed \\nIsrael in Sittim, on their march from Nile, \\nTo do him wanton rites, which cost them woe. \\nYet thence his lustful orgies he enlarged \\nEven to that hill of scandal, by the grove \\nOf Moloch homicide, lust hard by hate, \\nTill good Josiah drove them thence to Hell. \\nWith these came they who, from the bordering flood \\nOf old Euphrates to the brook that parts \\nEgypt from Syrian ground, had general names \\nOf Baalim and Ashtaroth--those male, \\nThese feminine. For Spirits, when they please, \\nCan either sex assume, or both; so soft \\nAnd uncompounded is their essence pure, \\nNot tried or manacled with joint or limb, \\nNor founded on the brittle strength of bones, \\nLike cumbrous flesh; but, in what shape they choose, \\nDilated or condensed, bright or obscure, \\nCan execute their airy purposes, \\nAnd works of love or enmity fulfil. \\nFor those the race of Israel oft forsook \\nTheir Living Strength, and unfrequented left \\nHis righteous altar, bowing lowly down \\nTo bestial gods; for which their heads as low \\nBowed down in battle, sunk before the spear \\nOf despicable foes. With these in troop \\nCame Astoreth, whom the Phoenicians called \\nAstarte, queen of heaven, with crescent horns; \\nTo whose bright image nigntly by the moon \\nSidonian virgins paid their vows and songs; \\nIn Sion also not unsung, where stood \\nHer temple on th\\' offensive mountain, built \\nBy that uxorious king whose heart, though large, \\nBeguiled by fair idolatresses, fell \\nTo idols foul. Thammuz came next behind, \\nWhose annual wound in Lebanon allured \\nThe Syrian damsels to lament his fate \\nIn amorous ditties all a summer\\'s day, \\nWhile smooth Adonis from his native rock \\nRan purple to the sea, supposed with blood \\nOf Thammuz yearly wounded: the love-tale \\nInfected Sion\\'s daughters with like heat, \\nWhose wanton passions in the sacred proch \\nEzekiel saw, when, by the vision led, \\nHis eye surveyed the dark idolatries \\nOf alienated Judah. Next came one \\nWho mourned in earnest, when the captive ark \\nMaimed his brute image, head and hands lopt off, \\nIn his own temple, on the grunsel-edge, \\nWhere he fell flat and shamed his worshippers: \\nDagon his name, sea-monster,upward man \\nAnd downward fish; yet had his temple high \\nReared in Azotus, dreaded through the coast \\nOf Palestine, in Gath and Ascalon, \\nAnd Accaron and Gaza\\'s frontier bounds. \\nHim followed Rimmon, whose delightful seat \\nWas fair Damascus, on the fertile banks \\nOf Abbana and Pharphar, lucid streams. \\nHe also against the house of God was bold: \\nA leper once he lost, and gained a king-- \\nAhaz, his sottish conqueror, whom he drew \\nGod\\'s altar to disparage and displace \\nFor one of Syrian mode, whereon to burn \\nHis odious offerings, and adore the gods \\nWhom he had vanquished. After these appeared \\nA crew who, under names of old renown-- \\nOsiris, Isis, Orus, and their train-- \\nWith monstrous shapes and sorceries abused \\nFanatic Egypt and her priests to seek \\nTheir wandering gods disguised in brutish forms \\nRather than human. Nor did Israel scape \\nTh\\' infection, when their borrowed gold composed \\nThe calf in Oreb; and the rebel king \\nDoubled that sin in Bethel and in Dan, \\nLikening his Maker to the grazed ox-- \\nJehovah, who, in one night, when he passed \\nFrom Egypt marching, equalled with one stroke \\nBoth her first-born and all her bleating gods. \\nBelial came last; than whom a Spirit more lewd \\nFell not from Heaven, or more gross to love \\nVice for itself. To him no temple stood \\nOr altar smoked; yet who more oft than he \\nIn temples and at altars, when the priest \\nTurns atheist, as did Eli\\'s sons, who filled \\nWith lust and violence the house of God? \\nIn courts and palaces he also reigns, \\nAnd in luxurious cities, where the noise \\nOf riot ascends above their loftiest towers, \\nAnd injury and outrage; and, when night \\nDarkens the streets, then wander forth the sons \\nOf Belial, flown with insolence and wine. \\nWitness the streets of Sodom, and that night \\nIn Gibeah, when the hospitable door \\nExposed a matron, to avoid worse rape. \\n  These were the prime in order and in might: \\nThe rest were long to tell; though far renowned \\nTh\\' Ionian gods--of Javan\\'s issue held \\nGods, yet confessed later than Heaven and Earth, \\nTheir boasted parents;--Titan, Heaven\\'s first-born, \\nWith his enormous brood, and birthright seized \\nBy younger Saturn: he from mightier Jove, \\nHis own and Rhea\\'s son, like measure found; \\nSo Jove usurping reigned. These, first in Crete \\nAnd Ida known, thence on the snowy top \\nOf cold Olympus ruled the middle air, \\nTheir highest heaven; or on the Delphian cliff, \\nOr in Dodona, and through all the bounds \\nOf Doric land; or who with Saturn old \\nFled over Adria to th\\' Hesperian fields, \\nAnd o\\'er the Celtic roamed the utmost Isles. \\n  All these and more came flocking; but with looks \\nDowncast and damp; yet such wherein appeared \\nObscure some glimpse of joy to have found their Chief \\nNot in despair, to have found themselves not lost \\nIn loss itself; which on his countenance cast \\nLike doubtful hue. But he, his wonted pride \\nSoon recollecting, with high words, that bore \\nSemblance of worth, not substance, gently raised \\nTheir fainting courage, and dispelled their fears. \\nThen straight commands that, at the warlike sound \\nOf trumpets loud and clarions, be upreared \\nHis mighty standard. That proud honour claimed \\nAzazel as his right, a Cherub tall: \\nWho forthwith from the glittering staff unfurled \\nTh\\' imperial ensign; which, full high advanced, \\nShone like a meteor streaming to the wind, \\nWith gems and golden lustre rich emblazed, \\nSeraphic arms and trophies; all the while \\nSonorous metal blowing martial sounds: \\nAt which the universal host up-sent \\nA shout that tore Hell\\'s concave, and beyond \\nFrighted the reign of Chaos and old Night. \\nAll in a moment through the gloom were seen \\nTen thousand banners rise into the air, \\nWith orient colours waving: with them rose \\nA forest huge of spears; and thronging helms \\nAppeared, and serried shields in thick array \\nOf depth immeasurable. Anon they move \\nIn perfect phalanx to the Dorian mood \\nOf flutes and soft recorders--such as raised \\nTo height of noblest temper heroes old \\nArming to battle, and instead of rage \\nDeliberate valour breathed, firm, and unmoved \\nWith dread of death to flight or foul retreat; \\nNor wanting power to mitigate and swage \\nWith solemn touches troubled thoughts, and chase \\nAnguish and doubt and fear and sorrow and pain \\nFrom mortal or immortal minds. Thus they, \\nBreathing united force with fixed thought, \\nMoved on in silence to soft pipes that charmed \\nTheir painful steps o\\'er the burnt soil. And now \\nAdvanced in view they stand--a horrid front \\nOf dreadful length and dazzling arms, in guise \\nOf warriors old, with ordered spear and shield, \\nAwaiting what command their mighty Chief \\nHad to impose. He through the armed files \\nDarts his experienced eye, and soon traverse \\nThe whole battalion views--their order due, \\nTheir visages and stature as of gods; \\nTheir number last he sums. And now his heart \\nDistends with pride, and, hardening in his strength, \\nGlories: for never, since created Man, \\nMet such embodied force as, named with these, \\nCould merit more than that small infantry \\nWarred on by cranes--though all the giant brood \\nOf Phlegra with th\\' heroic race were joined \\nThat fought at Thebes and Ilium, on each side \\nMixed with auxiliar gods; and what resounds \\nIn fable or romance of Uther\\'s son, \\nBegirt with British and Armoric knights; \\nAnd all who since, baptized or infidel, \\nJousted in Aspramont, or Montalban, \\nDamasco, or Marocco, or Trebisond, \\nOr whom Biserta sent from Afric shore \\nWhen Charlemain with all his peerage fell \\nBy Fontarabbia. Thus far these beyond \\nCompare of mortal prowess, yet observed \\nTheir dread Commander. He, above the rest \\nIn shape and gesture proudly eminent, \\nStood like a tower. His form had yet not lost \\nAll her original brightness, nor appeared \\nLess than Archangel ruined, and th\\' excess \\nOf glory obscured: as when the sun new-risen \\nLooks through the horizontal misty air \\nShorn of his beams, or, from behind the moon, \\nIn dim eclipse, disastrous twilight sheds \\nOn half the nations, and with fear of change \\nPerplexes monarchs. Darkened so, yet shone \\nAbove them all th\\' Archangel: but his face \\nDeep scars of thunder had intrenched, and care \\nSat on his faded cheek, but under brows \\nOf dauntless courage, and considerate pride \\nWaiting revenge. Cruel his eye, but cast \\nSigns of remorse and passion, to behold \\nThe fellows of his crime, the followers rather \\n(Far other once beheld in bliss), condemned \\nFor ever now to have their lot in pain-- \\nMillions of Spirits for his fault amerced \\nOf Heaven, and from eteranl splendours flung \\nFor his revolt--yet faithful how they stood, \\nTheir glory withered; as, when heaven\\'s fire \\nHath scathed the forest oaks or mountain pines, \\nWith singed top their stately growth, though bare, \\nStands on the blasted heath. He now prepared \\nTo speak; whereat their doubled ranks they bend \\nFrom wing to wing, and half enclose him round \\nWith all his peers: attention held them mute. \\nThrice he assayed, and thrice, in spite of scorn, \\nTears, such as Angels weep, burst forth: at last \\nWords interwove with sighs found out their way:-- \\n  \"O myriads of immortal Spirits! O Powers \\nMatchless, but with th\\' Almighth!--and that strife \\nWas not inglorious, though th\\' event was dire, \\nAs this place testifies, and this dire change, \\nHateful to utter. But what power of mind, \\nForseeing or presaging, from the depth \\nOf knowledge past or present, could have feared \\nHow such united force of gods, how such \\nAs stood like these, could ever know repulse? \\nFor who can yet believe, though after loss, \\nThat all these puissant legions, whose exile \\nHath emptied Heaven, shall fail to re-ascend, \\nSelf-raised, and repossess their native seat? \\nFor me, be witness all the host of Heaven, \\nIf counsels different, or danger shunned \\nBy me, have lost our hopes. But he who reigns \\nMonarch in Heaven till then as one secure \\nSat on his throne, upheld by old repute, \\nConsent or custom, and his regal state \\nPut forth at full, but still his strength concealed-- \\nWhich tempted our attempt, and wrought our fall. \\nHenceforth his might we know, and know our own, \\nSo as not either to provoke, or dread \\nNew war provoked: our better part remains \\nTo work in close design, by fraud or guile, \\nWhat force effected not; that he no less \\nAt length from us may find, who overcomes \\nBy force hath overcome but half his foe. \\nSpace may produce new Worlds; whereof so rife \\nThere went a fame in Heaven that he ere long \\nIntended to create, and therein plant \\nA generation whom his choice regard \\nShould favour equal to the Sons of Heaven. \\nThither, if but to pry, shall be perhaps \\nOur first eruption--thither, or elsewhere; \\nFor this infernal pit shall never hold \\nCelestial Spirits in bondage, nor th\\' Abyss \\nLong under darkness cover. But these thoughts \\nFull counsel must mature. Peace is despaired; \\nFor who can think submission? War, then, war \\nOpen or understood, must be resolved.\" \\n  He spake; and, to confirm his words, outflew \\nMillions of flaming swords, drawn from the thighs \\nOf mighty Cherubim; the sudden blaze \\nFar round illumined Hell. Highly they raged \\nAgainst the Highest, and fierce with grasped arms \\nClashed on their sounding shields the din of war, \\nHurling defiance toward the vault of Heaven. \\n  There stood a hill not far, whose grisly top \\nBelched fire and rolling smoke; the rest entire \\nShone with a glossy scurf--undoubted sign \\nThat in his womb was hid metallic ore, \\nThe work of sulphur. Thither, winged with speed, \\nA numerous brigade hastened: as when bands \\nOf pioneers, with spade and pickaxe armed, \\nForerun the royal camp, to trench a field, \\nOr cast a rampart. Mammon led them on-- \\nMammon, the least erected Spirit that fell \\nFrom Heaven; for even in Heaven his looks and thoughts \\nWere always downward bent, admiring more \\nThe riches of heaven\\'s pavement, trodden gold, \\nThan aught divine or holy else enjoyed \\nIn vision beatific. By him first \\nMen also, and by his suggestion taught, \\nRansacked the centre, and with impious hands \\nRifled the bowels of their mother Earth \\nFor treasures better hid. Soon had his crew \\nOpened into the hill a spacious wound, \\nAnd digged out ribs of gold. Let none admire \\nThat riches grow in Hell; that soil may best \\nDeserve the precious bane. And here let those \\nWho boast in mortal things, and wondering tell \\nOf Babel, and the works of Memphian kings, \\nLearn how their greatest monuments of fame \\nAnd strength, and art, are easily outdone \\nBy Spirits reprobate, and in an hour \\nWhat in an age they, with incessant toil \\nAnd hands innumerable, scarce perform. \\nNigh on the plain, in many cells prepared, \\nThat underneath had veins of liquid fire \\nSluiced from the lake, a second multitude \\nWith wondrous art founded the massy ore, \\nSevering each kind, and scummed the bullion-dross. \\nA third as soon had formed within the ground \\nA various mould, and from the boiling cells \\nBy strange conveyance filled each hollow nook; \\nAs in an organ, from one blast of wind, \\nTo many a row of pipes the sound-board breathes. \\nAnon out of the earth a fabric huge \\nRose like an exhalation, with the sound \\nOf dulcet symphonies and voices sweet-- \\nBuilt like a temple, where pilasters round \\nWere set, and Doric pillars overlaid \\nWith golden architrave; nor did there want \\nCornice or frieze, with bossy sculptures graven; \\nThe roof was fretted gold. Not Babylon \\nNor great Alcairo such magnificence \\nEqualled in all their glories, to enshrine \\nBelus or Serapis their gods, or seat \\nTheir kings, when Egypt with Assyria strove \\nIn wealth and luxury. Th\\' ascending pile \\nStood fixed her stately height, and straight the doors, \\nOpening their brazen folds, discover, wide \\nWithin, her ample spaces o\\'er the smooth \\nAnd level pavement: from the arched roof, \\nPendent by subtle magic, many a row \\nOf starry lamps and blazing cressets, fed \\nWith naptha and asphaltus, yielded light \\nAs from a sky. The hasty multitude \\nAdmiring entered; and the work some praise, \\nAnd some the architect. His hand was known \\nIn Heaven by many a towered structure high, \\nWhere sceptred Angels held their residence, \\nAnd sat as Princes, whom the supreme King \\nExalted to such power, and gave to rule, \\nEach in his Hierarchy, the Orders bright. \\nNor was his name unheard or unadored \\nIn ancient Greece; and in Ausonian land \\nMen called him Mulciber; and how he fell \\nFrom Heaven they fabled, thrown by angry Jove \\nSheer o\\'er the crystal battlements: from morn \\nTo noon he fell, from noon to dewy eve, \\nA summer\\'s day, and with the setting sun \\nDropt from the zenith, like a falling star, \\nOn Lemnos, th\\' Aegaean isle. Thus they relate, \\nErring; for he with this rebellious rout \\nFell long before; nor aught aviled him now \\nTo have built in Heaven high towers; nor did he scape \\nBy all his engines, but was headlong sent, \\nWith his industrious crew, to build in Hell. \\n  Meanwhile the winged Heralds, by command \\nOf sovereign power, with awful ceremony \\nAnd trumpet\\'s sound, throughout the host proclaim \\nA solemn council forthwith to be held \\nAt Pandemonium, the high capital \\nOf Satan and his peers. Their summons called \\nFrom every band and squared regiment \\nBy place or choice the worthiest: they anon \\nWith hundreds and with thousands trooping came \\nAttended. All access was thronged; the gates \\nAnd porches wide, but chief the spacious hall \\n(Though like a covered field, where champions bold \\nWont ride in armed, and at the Soldan\\'s chair \\nDefied the best of Paynim chivalry \\nTo mortal combat, or career with lance), \\nThick swarmed, both on the ground and in the air, \\nBrushed with the hiss of rustling wings. As bees \\nIn spring-time, when the Sun with Taurus rides. \\nPour forth their populous youth about the hive \\nIn clusters; they among fresh dews and flowers \\nFly to and fro, or on the smoothed plank, \\nThe suburb of their straw-built citadel, \\nNew rubbed with balm, expatiate, and confer \\nTheir state-affairs: so thick the airy crowd \\nSwarmed and were straitened; till, the signal given, \\nBehold a wonder! They but now who seemed \\nIn bigness to surpass Earth\\'s giant sons, \\nNow less than smallest dwarfs, in narrow room \\nThrong numberless--like that pygmean race \\nBeyond the Indian mount; or faery elves, \\nWhose midnight revels, by a forest-side \\nOr fountain, some belated peasant sees, \\nOr dreams he sees, while overhead the Moon \\nSits arbitress, and nearer to the Earth \\nWheels her pale course: they, on their mirth and dance \\nIntent, with jocund music charm his ear; \\nAt once with joy and fear his heart rebounds. \\nThus incorporeal Spirits to smallest forms \\nReduced their shapes immense, and were at large, \\nThough without number still, amidst the hall \\nOf that infernal court. But far within, \\nAnd in their own dimensions like themselves, \\nThe great Seraphic Lords and Cherubim \\nIn close recess and secret conclave sat, \\nA thousand demi-gods on golden seats, \\nFrequent and full. After short silence then, \\nAnd summons read, the great consult began. \\n \\n \\n \\nBook II                                                          \\n \\n  \\nHigh on a throne of royal state, which far \\nOutshone the wealth or Ormus and of Ind, \\nOr where the gorgeous East with richest hand \\nShowers on her kings barbaric pearl and gold, \\nSatan exalted sat, by merit raised \\nTo that bad eminence; and, from despair \\nThus high uplifted beyond hope, aspires \\nBeyond thus high, insatiate to pursue \\nVain war with Heaven; and, by success untaught, \\nHis proud imaginations thus displayed:-- \\n  \"Powers and Dominions, Deities of Heaven!-- \\nFor, since no deep within her gulf can hold \\nImmortal vigour, though oppressed and fallen, \\nI give not Heaven for lost: from this descent \\nCelestial Virtues rising will appear \\nMore glorious and more dread than from no fall, \\nAnd trust themselves to fear no second fate!-- \\nMe though just right, and the fixed laws of Heaven, \\nDid first create your leader--next, free choice \\nWith what besides in council or in fight \\nHath been achieved of merit--yet this loss, \\nThus far at least recovered, hath much more \\nEstablished in a safe, unenvied throne, \\nYielded with full consent. The happier state \\nIn Heaven, which follows dignity, might draw \\nEnvy from each inferior; but who here \\nWill envy whom the highest place exposes \\nForemost to stand against the Thunderer\\'s aim \\nYour bulwark, and condemns to greatest share \\nOf endless pain? Where there is, then, no good \\nFor which to strive, no strife can grow up there \\nFrom faction: for none sure will claim in Hell \\nPrecedence; none whose portion is so small \\nOf present pain that with ambitious mind \\nWill covet more! With this advantage, then, \\nTo union, and firm faith, and firm accord, \\nMore than can be in Heaven, we now return \\nTo claim our just inheritance of old, \\nSurer to prosper than prosperity \\nCould have assured us; and by what best way, \\nWhether of open war or covert guile, \\nWe now debate. Who can advise may speak.\" \\n  He ceased; and next him Moloch, sceptred king, \\nStood up--the strongest and the fiercest Spirit \\nThat fought in Heaven, now fiercer by despair. \\nHis trust was with th\\' Eternal to be deemed \\nEqual in strength, and rather than be less \\nCared not to be at all; with that care lost \\nWent all his fear: of God, or Hell, or worse, \\nHe recked not, and these words thereafter spake:-- \\n  \"My sentence is for open war. Of wiles, \\nMore unexpert, I boast not: them let those \\nContrive who need, or when they need; not now. \\nFor, while they sit contriving, shall the rest-- \\nMillions that stand in arms, and longing wait \\nThe signal to ascend--sit lingering here, \\nHeaven\\'s fugitives, and for their dwelling-place \\nAccept this dark opprobrious den of shame, \\nThe prison of his ryranny who reigns \\nBy our delay? No! let us rather choose, \\nArmed with Hell-flames and fury, all at once \\nO\\'er Heaven\\'s high towers to force resistless way, \\nTurning our tortures into horrid arms \\nAgainst the Torturer; when, to meet the noise \\nOf his almighty engine, he shall hear \\nInfernal thunder, and, for lightning, see \\nBlack fire and horror shot with equal rage \\nAmong his Angels, and his throne itself \\nMixed with Tartarean sulphur and strange fire, \\nHis own invented torments. But perhaps \\nThe way seems difficult, and steep to scale \\nWith upright wing against a higher foe! \\nLet such bethink them, if the sleepy drench \\nOf that forgetful lake benumb not still, \\nThat in our porper motion we ascend \\nUp to our native seat; descent and fall \\nTo us is adverse. Who but felt of late, \\nWhen the fierce foe hung on our broken rear \\nInsulting, and pursued us through the Deep, \\nWith what compulsion and laborious flight \\nWe sunk thus low? Th\\' ascent is easy, then; \\nTh\\' event is feared! Should we again provoke \\nOur stronger, some worse way his wrath may find \\nTo our destruction, if there be in Hell \\nFear to be worse destroyed! What can be worse \\nThan to dwell here, driven out from bliss, condemned \\nIn this abhorred deep to utter woe! \\nWhere pain of unextinguishable fire \\nMust exercise us without hope of end \\nThe vassals of his anger, when the scourge \\nInexorably, and the torturing hour, \\nCalls us to penance? More destroyed than thus, \\nWe should be quite abolished, and expire. \\nWhat fear we then? what doubt we to incense \\nHis utmost ire? which, to the height enraged, \\nWill either quite consume us, and reduce \\nTo nothing this essential--happier far \\nThan miserable to have eternal being!-- \\nOr, if our substance be indeed divine, \\nAnd cannot cease to be, we are at worst \\nOn this side nothing; and by proof we feel \\nOur power sufficient to disturb his Heaven, \\nAnd with perpetual inroads to alarm, \\nThough inaccessible, his fatal throne: \\nWhich, if not victory, is yet revenge.\" \\n  He ended frowning, and his look denounced \\nDesperate revenge, and battle dangerous \\nTo less than gods. On th\\' other side up rose \\nBelial, in act more graceful and humane. \\nA fairer person lost not Heaven; he seemed \\nFor dignity composed, and high exploit. \\nBut all was false and hollow; though his tongue \\nDropped manna, and could make the worse appear \\nThe better reason, to perplex and dash \\nMaturest counsels: for his thoughts were low-- \\n To vice industrious, but to nobler deeds \\nTimorous and slothful. Yet he pleased the ear, \\nAnd with persuasive accent thus began:-- \\n  \"I should be much for open war, O Peers, \\nAs not behind in hate, if what was urged \\nMain reason to persuade immediate war \\nDid not dissuade me most, and seem to cast \\nOminous conjecture on the whole success; \\nWhen he who most excels in fact of arms, \\nIn what he counsels and in what excels \\nMistrustful, grounds his courage on despair \\nAnd utter dissolution, as the scope \\nOf all his aim, after some dire revenge. \\nFirst, what revenge? The towers of Heaven are filled \\nWith armed watch, that render all access \\nImpregnable: oft on the bodering Deep \\nEncamp their legions, or with obscure wing \\nScout far and wide into the realm of Night, \\nScorning surprise. Or, could we break our way \\nBy force, and at our heels all Hell should rise \\nWith blackest insurrection to confound \\nHeaven\\'s purest light, yet our great Enemy, \\nAll incorruptible, would on his throne \\nSit unpolluted, and th\\' ethereal mould, \\nIncapable of stain, would soon expel \\nHer mischief, and purge off the baser fire, \\nVictorious. Thus repulsed, our final hope \\nIs flat despair: we must exasperate \\nTh\\' Almighty Victor to spend all his rage; \\nAnd that must end us; that must be our cure-- \\nTo be no more. Sad cure! for who would lose, \\nThough full of pain, this intellectual being, \\nThose thoughts that wander through eternity, \\nTo perish rather, swallowed up and lost \\nIn the wide womb of uncreated Night, \\nDevoid of sense and motion? And who knows, \\nLet this be good, whether our angry Foe \\nCan give it, or will ever? How he can \\nIs doubtful; that he never will is sure. \\nWill he, so wise, let loose at once his ire, \\nBelike through impotence or unaware, \\nTo give his enemies their wish, and end \\nThem in his anger whom his anger saves \\nTo punish endless? \\'Wherefore cease we, then?\\' \\nSay they who counsel war; \\'we are decreed, \\nReserved, and destined to eternal woe; \\nWhatever doing, what can we suffer more, \\nWhat can we suffer worse?\\' Is this, then, worst-- \\nThus sitting, thus consulting, thus in arms? \\nWhat when we fled amain, pursued and struck \\nWith Heaven\\'s afflicting thunder, and besought \\nThe Deep to shelter us? This Hell then seemed \\nA refuge from those wounds. Or when we lay \\nChained on the burning lake? That sure was worse. \\nWhat if the breath that kindled those grim fires, \\nAwaked, should blow them into sevenfold rage, \\nAnd plunge us in the flames; or from above \\nShould intermitted vengeance arm again \\nHis red right hand to plague us? What if all \\nHer stores were opened, and this firmament \\nOf Hell should spout her cataracts of fire, \\nImpendent horrors, threatening hideous fall \\nOne day upon our heads; while we perhaps, \\nDesigning or exhorting glorious war, \\nCaught in a fiery tempest, shall be hurled, \\nEach on his rock transfixed, the sport and prey \\nOr racking whirlwinds, or for ever sunk \\nUnder yon boiling ocean, wrapt in chains, \\nThere to converse with everlasting groans, \\nUnrespited, unpitied, unreprieved, \\nAges of hopeless end? This would be worse. \\nWar, therefore, open or concealed, alike \\nMy voice dissuades; for what can force or guile \\nWith him, or who deceive his mind, whose eye \\nViews all things at one view? He from Heaven\\'s height \\nAll these our motions vain sees and derides, \\nNot more almighty to resist our might \\nThan wise to frustrate all our plots and wiles. \\nShall we, then, live thus vile--the race of Heaven \\nThus trampled, thus expelled, to suffer here \\nChains and these torments? Better these than worse, \\nBy my advice; since fate inevitable \\nSubdues us, and omnipotent decree, \\nThe Victor\\'s will. To suffer, as to do, \\nOur strength is equal; nor the law unjust \\nThat so ordains. This was at first resolved, \\nIf we were wise, against so great a foe \\nContending, and so doubtful what might fall. \\nI laugh when those who at the spear are bold \\nAnd venturous, if that fail them, shrink, and fear \\nWhat yet they know must follow--to endure \\nExile, or igominy, or bonds, or pain, \\nThe sentence of their Conqueror. This is now \\nOur doom; which if we can sustain and bear, \\nOur Supreme Foe in time may much remit \\nHis anger, and perhaps, thus far removed, \\nNot mind us not offending, satisfied \\nWith what is punished; whence these raging fires \\nWill slacken, if his breath stir not their flames. \\nOur purer essence then will overcome \\nTheir noxious vapour; or, inured, not feel; \\nOr, changed at length, and to the place conformed \\nIn temper and in nature, will receive \\nFamiliar the fierce heat; and, void of pain, \\nThis horror will grow mild, this darkness light; \\nBesides what hope the never-ending flight \\nOf future days may bring, what chance, what change \\nWorth waiting--since our present lot appears \\nFor happy though but ill, for ill not worst, \\nIf we procure not to ourselves more woe.\" \\n  Thus Belial, with words clothed in reason\\'s garb, \\nCounselled ignoble ease and peaceful sloth, \\nNot peace; and after him thus Mammon spake:-- \\n  \"Either to disenthrone the King of Heaven \\nWe war, if war be best, or to regain \\nOur own right lost. Him to unthrone we then \\nMay hope, when everlasting Fate shall yield \\nTo fickle Chance, and Chaos judge the strife. \\nThe former, vain to hope, argues as vain \\nThe latter; for what place can be for us \\nWithin Heaven\\'s bound, unless Heaven\\'s Lord supreme \\nWe overpower? Suppose he should relent \\nAnd publish grace to all, on promise made \\nOf new subjection; with what eyes could we \\nStand in his presence humble, and receive \\nStrict laws imposed, to celebrate his throne \\nWith warbled hymns, and to his Godhead sing \\nForced hallelujahs, while he lordly sits \\nOur envied sovereign, and his altar breathes \\nAmbrosial odours and ambrosial flowers, \\nOur servile offerings? This must be our task \\nIn Heaven, this our delight. How wearisome \\nEternity so spent in worship paid \\nTo whom we hate! Let us not then pursue, \\nBy force impossible, by leave obtained \\nUnacceptable, though in Heaven, our state \\nOf splendid vassalage; but rather seek \\nOur own good from ourselves, and from our own \\nLive to ourselves, though in this vast recess, \\nFree and to none accountable, preferring \\nHard liberty before the easy yoke \\nOf servile pomp. Our greatness will appear \\nThen most conspicuous when great things of small, \\nUseful of hurtful, prosperous of adverse, \\nWe can create, and in what place soe\\'er \\nThrive under evil, and work ease out of pain \\nThrough labour and endurance. This deep world \\nOf darkness do we dread? How oft amidst \\nThick clouds and dark doth Heaven\\'s all-ruling Sire \\nChoose to reside, his glory unobscured, \\nAnd with the majesty of darkness round \\nCovers his throne, from whence deep thunders roar. \\nMustering their rage, and Heaven resembles Hell! \\nAs he our darkness, cannot we his light \\nImitate when we please? This desert soil \\nWants not her hidden lustre, gems and gold; \\nNor want we skill or art from whence to raise \\nMagnificence; and what can Heaven show more? \\nOur torments also may, in length of time, \\nBecome our elements, these piercing fires \\nAs soft as now severe, our temper changed \\nInto their temper; which must needs remove \\nThe sensible of pain. All things invite \\nTo peaceful counsels, and the settled state \\nOf order, how in safety best we may \\nCompose our present evils, with regard \\nOf what we are and where, dismissing quite \\nAll thoughts of war. Ye have what I advise.\" \\n  He scarce had finished, when such murmur filled \\nTh\\' assembly as when hollow rocks retain \\nThe sound of blustering winds, which all night long \\nHad roused the sea, now with hoarse cadence lull \\nSeafaring men o\\'erwatched, whose bark by chance \\nOr pinnace, anchors in a craggy bay \\nAfter the tempest. Such applause was heard \\nAs Mammon ended, and his sentence pleased, \\nAdvising peace: for such another field \\nThey dreaded worse than Hell; so much the fear \\nOf thunder and the sword of Michael \\nWrought still within them; and no less desire \\nTo found this nether empire, which might rise, \\nBy policy and long process of time, \\nIn emulation opposite to Heaven. \\nWhich when Beelzebub perceived--than whom, \\nSatan except, none higher sat--with grave \\nAspect he rose, and in his rising seemed \\nA pillar of state. Deep on his front engraven \\nDeliberation sat, and public care; \\nAnd princely counsel in his face yet shone, \\nMajestic, though in ruin. Sage he stood \\nWith Atlantean shoulders, fit to bear \\nThe weight of mightiest monarchies; his look \\nDrew audience and attention still as night \\nOr summer\\'s noontide air, while thus he spake:-- \\n  \"Thrones and Imperial Powers, Offspring of Heaven, \\nEthereal Virtues! or these titles now \\nMust we renounce, and, changing style, be called \\nPrinces of Hell? for so the popular vote \\nInclines--here to continue, and build up here \\nA growing empire; doubtless! while we dream, \\nAnd know not that the King of Heaven hath doomed \\nThis place our dungeon, not our safe retreat \\nBeyond his potent arm, to live exempt \\nFrom Heaven\\'s high jurisdiction, in new league \\nBanded against his throne, but to remain \\nIn strictest bondage, though thus far removed, \\nUnder th\\' inevitable curb, reserved \\nHis captive multitude. For he, to be sure, \\nIn height or depth, still first and last will reign \\nSole king, and of his kingdom lose no part \\nBy our revolt, but over Hell extend \\nHis empire, and with iron sceptre rule \\nUs here, as with his golden those in Heaven. \\nWhat sit we then projecting peace and war? \\nWar hath determined us and foiled with loss \\nIrreparable; terms of peace yet none \\nVouchsafed or sought; for what peace will be given \\nTo us enslaved, but custody severe, \\nAnd stripes and arbitrary punishment \\nInflicted? and what peace can we return, \\nBut, to our power, hostility and hate, \\nUntamed reluctance, and revenge, though slow, \\nYet ever plotting how the Conqueror least \\nMay reap his conquest, and may least rejoice \\nIn doing what we most in suffering feel? \\nNor will occasion want, nor shall we need \\nWith dangerous expedition to invade \\nHeaven, whose high walls fear no assault or siege, \\nOr ambush from the Deep. What if we find \\nSome easier enterprise? There is a place \\n(If ancient and prophetic fame in Heaven \\nErr not)--another World, the happy seat \\nOf some new race, called Man, about this time \\nTo be created like to us, though less \\nIn power and excellence, but favoured more \\nOf him who rules above; so was his will \\nPronounced among the Gods, and by an oath \\nThat shook Heaven\\'s whole circumference confirmed. \\nThither let us bend all our thoughts, to learn \\nWhat creatures there inhabit, of what mould \\nOr substance, how endued, and what their power \\nAnd where their weakness: how attempted best, \\nBy force of subtlety. Though Heaven be shut, \\nAnd Heaven\\'s high Arbitrator sit secure \\nIn his own strength, this place may lie exposed, \\nThe utmost border of his kingdom, left \\nTo their defence who hold it: here, perhaps, \\nSome advantageous act may be achieved \\nBy sudden onset--either with Hell-fire \\nTo waste his whole creation, or possess \\nAll as our own, and drive, as we were driven, \\nThe puny habitants; or, if not drive, \\nSeduce them to our party, that their God \\nMay prove their foe, and with repenting hand \\nAbolish his own works. This would surpass \\nCommon revenge, and interrupt his joy \\nIn our confusion, and our joy upraise \\nIn his disturbance; when his darling sons, \\nHurled headlong to partake with us, shall curse \\nTheir frail original, and faded bliss-- \\nFaded so soon! Advise if this be worth \\nAttempting, or to sit in darkness here \\nHatching vain empires.\" Thus beelzebub \\nPleaded his devilish counsel--first devised \\nBy Satan, and in part proposed: for whence, \\nBut from the author of all ill, could spring \\nSo deep a malice, to confound the race \\nOf mankind in one root, and Earth with Hell \\nTo mingle and involve, done all to spite \\nThe great Creator? But their spite still serves \\nHis glory to augment. The bold design \\nPleased highly those infernal States, and joy \\nSparkled in all their eyes: with full assent \\nThey vote: whereat his speech he thus renews:-- \\n\"Well have ye judged, well ended long debate, \\nSynod of Gods, and, like to what ye are, \\nGreat things resolved, which from the lowest deep \\nWill once more lift us up, in spite of fate, \\nNearer our ancient seat--perhaps in view \\nOf those bright confines, whence, with neighbouring arms, \\nAnd opportune excursion, we may chance \\nRe-enter Heaven; or else in some mild zone \\nDwell, not unvisited of Heaven\\'s fair light, \\nSecure, and at the brightening orient beam \\nPurge off this gloom: the soft delicious air, \\nTo heal the scar of these corrosive fires, \\nShall breathe her balm. But, first, whom shall we send \\nIn search of this new World? whom shall we find \\nSufficient? who shall tempt with wandering feet \\nThe dark, unbottomed, infinite Abyss, \\nAnd through the palpable obscure find out \\nHis uncouth way, or spread his airy flight, \\nUpborne with indefatigable wings \\nOver the vast abrupt, ere he arrive \\nThe happy Isle? What strength, what art, can then \\nSuffice, or what evasion bear him safe, \\nThrough the strict senteries and stations thick \\nOf Angels watching round? Here he had need \\nAll circumspection: and we now no less \\nChoice in our suffrage; for on whom we send \\nThe weight of all, and our last hope, relies.\" \\n  This said, he sat; and expectation held \\nHis look suspense, awaiting who appeared \\nTo second, or oppose, or undertake \\nThe perilous attempt. But all sat mute, \\nPondering the danger with deep thoughts; and each \\nIn other\\'s countenance read his own dismay, \\nAstonished. None among the choice and prime \\nOf those Heaven-warring champions could be found \\nSo hardy as to proffer or accept, \\nAlone, the dreadful voyage; till, at last, \\nSatan, whom now transcendent glory raised \\nAbove his fellows, with monarchal pride \\nConscious of highest worth, unmoved thus spake:-- \\n  \"O Progeny of Heaven! Empyreal Thrones! \\nWith reason hath deep silence and demur \\nSeized us, though undismayed. Long is the way \\nAnd hard, that out of Hell leads up to light. \\nOur prison strong, this huge convex of fire, \\nOutrageous to devour, immures us round \\nNinefold; and gates of burning adamant, \\nBarred over us, prohibit all egress. \\nThese passed, if any pass, the void profound \\nOf unessential Night receives him next, \\nWide-gaping, and with utter loss of being \\nThreatens him, plunged in that abortive gulf. \\nIf thence he scape, into whatever world, \\nOr unknown region, what remains him less \\nThan unknown dangers, and as hard escape? \\nBut I should ill become this throne, O Peers, \\nAnd this imperial sovereignty, adorned \\nWith splendour, armed with power, if aught proposed \\nAnd judged of public moment in the shape \\nOf difficulty or danger, could deter \\nMe from attempting. Wherefore do I assume \\nThese royalties, and not refuse to reign, \\nRefusing to accept as great a share \\nOf hazard as of honour, due alike \\nTo him who reigns, and so much to him due \\nOf hazard more as he above the rest \\nHigh honoured sits? Go, therefore, mighty Powers, \\nTerror of Heaven, though fallen; intend at home, \\nWhile here shall be our home, what best may ease \\nThe present misery, and render Hell \\nMore tolerable; if there be cure or charm \\nTo respite, or deceive, or slack the pain \\nOf this ill mansion: intermit no watch \\nAgainst a wakeful foe, while I abroad \\nThrough all the coasts of dark destruction seek \\nDeliverance for us all. This enterprise \\nNone shall partake with me.\" Thus saying, rose \\nThe Monarch, and prevented all reply; \\nPrudent lest, from his resolution raised, \\nOthers among the chief might offer now, \\nCertain to be refused, what erst they feared, \\nAnd, so refused, might in opinion stand \\nHis rivals, winning cheap the high repute \\nWhich he through hazard huge must earn. But they \\nDreaded not more th\\' adventure than his voice \\nForbidding; and at once with him they rose. \\nTheir rising all at once was as the sound \\nOf thunder heard remote. Towards him they bend \\nWith awful reverence prone, and as a God \\nExtol him equal to the Highest in Heaven. \\nNor failed they to express how much they praised \\nThat for the general safety he despised \\nHis own: for neither do the Spirits damned \\nLose all their virtue; lest bad men should boast \\nTheir specious deeds on earth, which glory excites, \\nOr close ambition varnished o\\'er with zeal. \\n  Thus they their doubtful consultations dark \\nEnded, rejoicing in their matchless Chief: \\nAs, when from mountain-tops the dusky clouds \\nAscending, while the north wind sleeps, o\\'erspread \\nHeaven\\'s cheerful face, the louring element \\nScowls o\\'er the darkened landscape snow or shower, \\nIf chance the radiant sun, with farewell sweet, \\nExtend his evening beam, the fields revive, \\nThe birds their notes renew, and bleating herds \\nAttest their joy, that hill and valley rings. \\nO shame to men! Devil with devil damned \\nFirm concord holds; men only disagree \\nOf creatures rational, though under hope \\nOf heavenly grace, and, God proclaiming peace, \\nYet live in hatred, enmity, and strife \\nAmong themselves, and levy cruel wars \\nWasting the earth, each other to destroy: \\nAs if (which might induce us to accord) \\nMan had not hellish foes enow besides, \\nThat day and night for his destruction wait! \\n  The Stygian council thus dissolved; and forth \\nIn order came the grand infernal Peers: \\nMidst came their mighty Paramount, and seemed \\nAlone th\\' antagonist of Heaven, nor less \\nThan Hell\\'s dread Emperor, with pomp supreme, \\nAnd god-like imitated state: him round \\nA globe of fiery Seraphim enclosed \\nWith bright emblazonry, and horrent arms. \\nThen of their session ended they bid cry \\nWith trumpet\\'s regal sound the great result: \\nToward the four winds four speedy Cherubim \\nPut to their mouths the sounding alchemy, \\nBy herald\\'s voice explained; the hollow Abyss \\nHeard far adn wide, and all the host of Hell \\nWith deafening shout returned them loud acclaim. \\nThence more at ease their minds, and somewhat raised \\nBy false presumptuous hope, the ranged Powers \\nDisband; and, wandering, each his several way \\nPursues, as inclination or sad choice \\nLeads him perplexed, where he may likeliest find \\nTruce to his restless thoughts, and entertain \\nThe irksome hours, till his great Chief return. \\nPart on the plain, or in the air sublime, \\nUpon the wing or in swift race contend, \\nAs at th\\' Olympian games or Pythian fields; \\nPart curb their fiery steeds, or shun the goal \\nWith rapid wheels, or fronted brigades form: \\nAs when, to warn proud cities, war appears \\nWaged in the troubled sky, and armies rush \\nTo battle in the clouds; before each van \\nPrick forth the airy knights, and couch their spears, \\nTill thickest legions close; with feats of arms \\nFrom either end of heaven the welkin burns. \\nOthers, with vast Typhoean rage, more fell, \\nRend up both rocks and hills, and ride the air \\nIn whirlwind; Hell scarce holds the wild uproar:-- \\nAs when Alcides, from Oechalia crowned \\nWith conquest, felt th\\' envenomed robe, and tore \\nThrough pain up by the roots Thessalian pines, \\nAnd Lichas from the top of Oeta threw \\nInto th\\' Euboic sea. Others, more mild, \\nRetreated in a silent valley, sing \\nWith notes angelical to many a harp \\nTheir own heroic deeds, and hapless fall \\nBy doom of battle, and complain that Fate \\nFree Virtue should enthrall to Force or Chance. \\nTheir song was partial; but the harmony \\n(What could it less when Spirits immortal sing?) \\nSuspended Hell, and took with ravishment \\nThe thronging audience. In discourse more sweet \\n(For Eloquence the Soul, Song charms the Sense) \\nOthers apart sat on a hill retired, \\nIn thoughts more elevate, and reasoned high \\nOf Providence, Foreknowledge, Will, and Fate-- \\nFixed fate, free will, foreknowledge absolute, \\nAnd found no end, in wandering mazes lost. \\nOf good and evil much they argued then, \\nOf happiness and final misery, \\nPassion and apathy, and glory and shame: \\nVain wisdom all, and false philosophy!-- \\nYet, with a pleasing sorcery, could charm \\nPain for a while or anguish, and excite \\nFallacious hope, or arm th\\' obdured breast \\nWith stubborn patience as with triple steel. \\nAnother part, in squadrons and gross bands, \\nOn bold adventure to discover wide \\nThat dismal world, if any clime perhaps \\nMight yield them easier habitation, bend \\nFour ways their flying march, along the banks \\nOf four infernal rivers, that disgorge \\nInto the burning lake their baleful streams-- \\nAbhorred Styx, the flood of deadly hate; \\nSad Acheron of sorrow, black and deep; \\nCocytus, named of lamentation loud \\nHeard on the rueful stream; fierce Phlegeton, \\nWhose waves of torrent fire inflame with rage. \\nFar off from these, a slow and silent stream, \\nLethe, the river of oblivion, rolls \\nHer watery labyrinth, whereof who drinks \\nForthwith his former state and being forgets-- \\nForgets both joy and grief, pleasure and pain. \\nBeyond this flood a frozen continent \\nLies dark and wild, beat with perpetual storms \\nOf whirlwind and dire hail, which on firm land \\nThaws not, but gathers heap, and ruin seems \\nOf ancient pile; all else deep snow and ice, \\nA gulf profound as that Serbonian bog \\nBetwixt Damiata and Mount Casius old, \\nWhere armies whole have sunk: the parching air \\nBurns frore, and cold performs th\\' effect of fire. \\nThither, by harpy-footed Furies haled, \\nAt certain revolutions all the damned \\nAre brought; and feel by turns the bitter change \\nOf fierce extremes, extremes by change more fierce, \\nFrom beds of raging fire to starve in ice \\nTheir soft ethereal warmth, and there to pine \\nImmovable, infixed, and frozen round \\nPeriods of time,--thence hurried back to fire. \\nThey ferry over this Lethean sound \\nBoth to and fro, their sorrow to augment, \\nAnd wish and struggle, as they pass, to reach \\nThe tempting stream, with one small drop to lose \\nIn sweet forgetfulness all pain and woe, \\nAll in one moment, and so near the brink; \\nBut Fate withstands, and, to oppose th\\' attempt, \\nMedusa with Gorgonian terror guards \\nThe ford, and of itself the water flies \\nAll taste of living wight, as once it fled \\nThe lip of Tantalus. Thus roving on \\nIn confused march forlorn, th\\' adventurous bands, \\nWith shuddering horror pale, and eyes aghast, \\nViewed first their lamentable lot, and found \\nNo rest. Through many a dark and dreary vale \\nThey passed, and many a region dolorous, \\nO\\'er many a frozen, many a fiery alp, \\nRocks, caves, lakes, fens, bogs, dens, and shades of death-- \\nA universe of death, which God by curse \\nCreated evil, for evil only good; \\nWhere all life dies, death lives, and Nature breeds, \\nPerverse, all monstrous, all prodigious things, \\nObominable, inutterable, and worse \\nThan fables yet have feigned or fear conceived, \\nGorgons, and Hydras, and Chimeras dire. \\n  Meanwhile the Adversary of God and Man, \\nSatan, with thoughts inflamed of highest design, \\nPuts on swift wings, and toward the gates of Hell \\nExplores his solitary flight: sometimes \\nHe scours the right hand coast, sometimes the left; \\nNow shaves with level wing the deep, then soars \\nUp to the fiery concave towering high. \\nAs when far off at sea a fleet descried \\nHangs in the clouds, by equinoctial winds \\nClose sailing from Bengala, or the isles \\nOf Ternate and Tidore, whence merchants bring \\nTheir spicy drugs; they on the trading flood, \\nThrough the wide Ethiopian to the Cape, \\nPly stemming nightly toward the pole: so seemed \\nFar off the flying Fiend. At last appear \\nHell-bounds, high reaching to the horrid roof, \\nAnd thrice threefold the gates; three folds were brass, \\nThree iron, three of adamantine rock, \\nImpenetrable, impaled with circling fire, \\nYet unconsumed. Before the gates there sat \\nOn either side a formidable Shape. \\nThe one seemed woman to the waist, and fair, \\nBut ended foul in many a scaly fold, \\nVoluminous and vast--a serpent armed \\nWith mortal sting. About her middle round \\nA cry of Hell-hounds never-ceasing barked \\nWith wide Cerberean mouths full loud, and rung \\nA hideous peal; yet, when they list, would creep, \\nIf aught disturbed their noise, into her womb, \\nAnd kennel there; yet there still barked and howled \\nWithin unseen. Far less abhorred than these \\nVexed Scylla, bathing in the sea that parts \\nCalabria from the hoarse Trinacrian shore; \\nNor uglier follow the night-hag, when, called \\nIn secret, riding through the air she comes, \\nLured with the smell of infant blood, to dance \\nWith Lapland witches, while the labouring moon \\nEclipses at their charms. The other Shape-- \\nIf shape it might be called that shape had none \\nDistinguishable in member, joint, or limb; \\nOr substance might be called that shadow seemed, \\nFor each seemed either--black it stood as Night, \\nFierce as ten Furies, terrible as Hell, \\nAnd shook a dreadful dart: what seemed his head \\nThe likeness of a kingly crown had on. \\nSatan was now at hand, and from his seat \\nThe monster moving onward came as fast \\nWith horrid strides; Hell trembled as he strode. \\nTh\\' undaunted Fiend what this might be admired-- \\nAdmired, not feared (God and his Son except, \\nCreated thing naught valued he nor shunned), \\nAnd with disdainful look thus first began:-- \\n  \"Whence and what art thou, execrable Shape, \\nThat dar\\'st, though grim and terrible, advance \\nThy miscreated front athwart my way \\nTo yonder gates? Through them I mean to pass, \\nThat be assured, without leave asked of thee. \\nRetire; or taste thy folly, and learn by proof, \\nHell-born, not to contend with Spirits of Heaven.\" \\n  To whom the Goblin, full of wrath, replied:-- \\n\"Art thou that traitor Angel? art thou he, \\nWho first broke peace in Heaven and faith, till then \\nUnbroken, and in proud rebellious arms \\nDrew after him the third part of Heaven\\'s sons, \\nConjured against the Highest--for which both thou \\nAnd they, outcast from God, are here condemned \\nTo waste eternal days in woe and pain? \\nAnd reckon\\'st thou thyself with Spirits of Heaven \\nHell-doomed, and breath\\'st defiance here and scorn, \\nWhere I reign king, and, to enrage thee more, \\nThy king and lord? Back to thy punishment, \\nFalse fugitive; and to thy speed add wings, \\nLest with a whip of scorpions I pursue \\nThy lingering, or with one stroke of this dart \\nStrange horror seize thee, and pangs unfelt before.\" \\n  So spake the grisly Terror, and in shape, \\nSo speaking and so threatening, grew tenfold, \\nMore dreadful and deform. On th\\' other side, \\nIncensed with indignation, Satan stood \\nUnterrified, and like a comet burned, \\nThat fires the length of Ophiuchus huge \\nIn th\\' arctic sky, and from his horrid hair \\nShakes pestilence and war. Each at the head \\nLevelled his deadly aim; their fatal hands \\nNo second stroke intend; and such a frown \\nEach cast at th\\' other as when two black clouds, \\nWith heaven\\'s artillery fraught, came rattling on \\nOver the Caspian,--then stand front to front \\nHovering a space, till winds the signal blow \\nTo join their dark encounter in mid-air. \\nSo frowned the mighty combatants that Hell \\nGrew darker at their frown; so matched they stood; \\nFor never but once more was wither like \\nTo meet so great a foe. And now great deeds \\nHad been achieved, whereof all Hell had rung, \\nHad not the snaky Sorceress, that sat \\nFast by Hell-gate and kept the fatal key, \\nRisen, and with hideous outcry rushed between. \\n  \"O father, what intends thy hand,\" she cried, \\n\"Against thy only son? What fury, O son, \\nPossesses thee to bend that mortal dart \\nAgainst thy father\\'s head? And know\\'st for whom? \\nFor him who sits above, and laughs the while \\nAt thee, ordained his drudge to execute \\nWhate\\'er his wrath, which he calls justice, bids-- \\nHis wrath, which one day will destroy ye both!\" \\n  She spake, and at her words the hellish Pest \\nForbore: then these to her Satan returned:-- \\n  \"So strange thy outcry, and thy words so strange \\nThou interposest, that my sudden hand, \\nPrevented, spares to tell thee yet by deeds \\nWhat it intends, till first I know of thee \\nWhat thing thou art, thus double-formed, and why, \\nIn this infernal vale first met, thou call\\'st \\nMe father, and that phantasm call\\'st my son. \\nI know thee not, nor ever saw till now \\nSight more detestable than him and thee.\" \\n  T\\' whom thus the Portress of Hell-gate replied:-- \\n\"Hast thou forgot me, then; and do I seem \\nNow in thine eye so foul?--once deemed so fair \\nIn Heaven, when at th\\' assembly, and in sight \\nOf all the Seraphim with thee combined \\nIn bold conspiracy against Heaven\\'s King, \\nAll on a sudden miserable pain \\nSurprised thee, dim thine eyes and dizzy swum \\nIn darkness, while thy head flames thick and fast \\nThrew forth, till on the left side opening wide, \\nLikest to thee in shape and countenance bright, \\nThen shining heavenly fair, a goddess armed, \\nOut of thy head I sprung. Amazement seized \\nAll th\\' host of Heaven; back they recoiled afraid \\nAt first, and called me Sin, and for a sign \\nPortentous held me; but, familiar grown, \\nI pleased, and with attractive graces won \\nThe most averse--thee chiefly, who, full oft \\nThyself in me thy perfect image viewing, \\nBecam\\'st enamoured; and such joy thou took\\'st \\nWith me in secret that my womb conceived \\nA growing burden. Meanwhile war arose, \\nAnd fields were fought in Heaven: wherein remained \\n(For what could else?) to our Almighty Foe \\nClear victory; to our part loss and rout \\nThrough all the Empyrean. Down they fell, \\nDriven headlong from the pitch of Heaven, down \\nInto this Deep; and in the general fall \\nI also: at which time this powerful key \\nInto my hands was given, with charge to keep \\nThese gates for ever shut, which none can pass \\nWithout my opening. Pensive here I sat \\nAlone; but long I sat not, till my womb, \\nPregnant by thee, and now excessive grown, \\nProdigious motion felt and rueful throes. \\nAt last this odious offspring whom thou seest, \\nThine own begotten, breaking violent way, \\nTore through my entrails, that, with fear and pain \\nDistorted, all my nether shape thus grew \\nTransformed: but he my inbred enemy \\nForth issued, brandishing his fatal dart, \\nMade to destroy. I fled, and cried out Death! \\nHell trembled at the hideous name, and sighed \\nFrom all her caves, and back resounded Death! \\nI fled; but he pursued (though more, it seems, \\nInflamed with lust than rage), and, swifter far, \\nMe overtook, his mother, all dismayed, \\nAnd, in embraces forcible and foul \\nEngendering with me, of that rape begot \\nThese yelling monsters, that with ceaseless cry \\nSurround me, as thou saw\\'st--hourly conceived \\nAnd hourly born, with sorrow infinite \\nTo me; for, when they list, into the womb \\nThat bred them they return, and howl, and gnaw \\nMy bowels, their repast; then, bursting forth \\nAfresh, with conscious terrors vex me round, \\nThat rest or intermission none I find. \\nBefore mine eyes in opposition sits \\nGrim Death, my son and foe, who set them on, \\nAnd me, his parent, would full soon devour \\nFor want of other prey, but that he knows \\nHis end with mine involved, and knows that I \\nShould prove a bitter morsel, and his bane, \\nWhenever that shall be: so Fate pronounced. \\nBut thou, O father, I forewarn thee, shun \\nHis deadly arrow; neither vainly hope \\nTo be invulnerable in those bright arms, \\nThrough tempered heavenly; for that mortal dint, \\nSave he who reigns above, none can resist.\" \\n  She finished; and the subtle Fiend his lore \\nSoon learned, now milder, and thus answered smooth:-- \\n  \"Dear daughter--since thou claim\\'st me for thy sire, \\nAnd my fair son here show\\'st me, the dear pledge \\nOf dalliance had with thee in Heaven, and joys \\nThen sweet, now sad to mention, through dire change \\nBefallen us unforeseen, unthought-of--know, \\nI come no enemy, but to set free \\nFrom out this dark and dismal house of pain \\nBoth him and thee, and all the heavenly host \\nOf Spirits that, in our just pretences armed, \\nFell with us from on high. From them I go \\nThis uncouth errand sole, and one for all \\nMyself expose, with lonely steps to tread \\nTh\\' unfounded Deep, and through the void immense \\nTo search, with wandering quest, a place foretold \\nShould be--and, by concurring signs, ere now \\nCreated vast and round--a place of bliss \\nIn the purlieus of Heaven; and therein placed \\nA race of upstart creatures, to supply \\nPerhaps our vacant room, though more removed, \\nLest Heaven, surcharged with potent multitude, \\nMight hap to move new broils. Be this, or aught \\nThan this more secret, now designed, I haste \\nTo know; and, this once known, shall soon return, \\nAnd bring ye to the place where thou and Death \\nShall dwell at ease, and up and down unseen \\nWing silently the buxom air, embalmed \\nWith odours. There ye shall be fed and filled \\nImmeasurably; all things shall be your prey.\" \\n  He ceased; for both seemed highly pleased, and Death \\nGrinned horrible a ghastly smile, to hear \\nHis famine should be filled, and blessed his maw \\nDestined to that good hour. No less rejoiced \\nHis mother bad, and thus bespake her sire:-- \\n  \"The key of this infernal Pit, by due \\nAnd by command of Heaven\\'s all-powerful King, \\nI keep, by him forbidden to unlock \\nThese adamantine gates; against all force \\nDeath ready stands to interpose his dart, \\nFearless to be o\\'ermatched by living might. \\nBut what owe I to his commands above, \\nWho hates me, and hath hither thrust me down \\nInto this gloom of Tartarus profound, \\nTo sit in hateful office here confined, \\nInhabitant of Heaven and heavenly born-- \\nHere in perpetual agony and pain, \\nWith terrors and with clamours compassed round \\nOf mine own brood, that on my bowels feed? \\nThou art my father, thou my author, thou \\nMy being gav\\'st me; whom should I obey \\nBut thee? whom follow? Thou wilt bring me soon \\nTo that new world of light and bliss, among \\nThe gods who live at ease, where I shall reign \\nAt thy right hand voluptuous, as beseems \\nThy daughter and thy darling, without end.\" \\n  Thus saying, from her side the fatal key, \\nSad instrument of all our woe, she took; \\nAnd, towards the gate rolling her bestial train, \\nForthwith the huge portcullis high up-drew, \\nWhich, but herself, not all the Stygian Powers \\nCould once have moved; then in the key-hole turns \\nTh\\' intricate wards, and every bolt and bar \\nOf massy iron or solid rock with ease \\nUnfastens. On a sudden open fly, \\nWith impetuous recoil and jarring sound, \\nTh\\' infernal doors, and on their hinges grate \\nHarsh thunder, that the lowest bottom shook \\nOf Erebus. She opened; but to shut \\nExcelled her power: the gates wide open stood, \\nThat with extended wings a bannered host, \\nUnder spread ensigns marching, mibht pass through \\nWith horse and chariots ranked in loose array; \\nSo wide they stood, and like a furnace-mouth \\nCast forth redounding smoke and ruddy flame. \\nBefore their eyes in sudden view appear \\nThe secrets of the hoary Deep--a dark \\nIllimitable ocean, without bound, \\nWithout dimension; where length, breadth, and height, \\nAnd time, and place, are lost; where eldest Night \\nAnd Chaos, ancestors of Nature, hold \\nEternal anarchy, amidst the noise \\nOf endless wars, and by confusion stand. \\nFor Hot, Cold, Moist, and Dry, four champions fierce, \\nStrive here for mastery, and to battle bring \\nTheir embryon atoms: they around the flag \\nOf each his faction, in their several clans, \\nLight-armed or heavy, sharp, smooth, swift, or slow, \\nSwarm populous, unnumbered as the sands \\nOf Barca or Cyrene\\'s torrid soil, \\nLevied to side with warring winds, and poise \\nTheir lighter wings. To whom these most adhere \\nHe rules a moment: Chaos umpire sits, \\nAnd by decision more embroils the fray \\nBy which he reigns: next him, high arbiter, \\nChance governs all. Into this wild Abyss, \\nThe womb of Nature, and perhaps her grave, \\nOf neither sea, nor shore, nor air, nor fire, \\nBut all these in their pregnant causes mixed \\nConfusedly, and which thus must ever fight, \\nUnless th\\' Almighty Maker them ordain \\nHis dark materials to create more worlds-- \\nInto this wild Abyss the wary Fiend \\nStood on the brink of Hell and looked a while, \\nPondering his voyage; for no narrow frith \\nHe had to cross. Nor was his ear less pealed \\nWith noises loud and ruinous (to compare \\nGreat things with small) than when Bellona storms \\nWith all her battering engines, bent to rase \\nSome capital city; or less than if this frame \\nOf Heaven were falling, and these elements \\nIn mutiny had from her axle torn \\nThe steadfast Earth. At last his sail-broad vans \\nHe spread for flight, and, in the surging smoke \\nUplifted, spurns the ground; thence many a league, \\nAs in a cloudy chair, ascending rides \\nAudacious; but, that seat soon failing, meets \\nA vast vacuity. All unawares, \\nFluttering his pennons vain, plumb-down he drops \\nTen thousand fathom deep, and to this hour \\nDown had been falling, had not, by ill chance, \\nThe strong rebuff of some tumultuous cloud, \\nInstinct with fire and nitre, hurried him \\nAs many miles aloft. That fury stayed-- \\nQuenched in a boggy Syrtis, neither sea, \\nNor good dry land--nigh foundered, on he fares, \\nTreading the crude consistence, half on foot, \\nHalf flying; behoves him now both oar and sail. \\nAs when a gryphon through the wilderness \\nWith winged course, o\\'er hill or moory dale, \\nPursues the Arimaspian, who by stealth \\nHad from his wakeful custody purloined \\nThe guarded gold; so eagerly the Fiend \\nO\\'er bog or steep, through strait, rough, dense, or rare, \\nWith head, hands, wings, or feet, pursues his way, \\nAnd swims, or sinks, or wades, or creeps, or flies. \\nAt length a universal hubbub wild \\nOf stunning sounds, and voices all confused, \\nBorne through the hollow dark, assaults his ear \\nWith loudest vehemence. Thither he plies \\nUndaunted, to meet there whatever Power \\nOr Spirit of the nethermost Abyss \\nMight in that noise reside, of whom to ask \\nWhich way the nearest coast of darkness lies \\nBordering on light; when straight behold the throne \\nOf Chaos, and his dark pavilion spread \\nWide on the wasteful Deep! With him enthroned \\nSat sable-vested Night, eldest of things, \\nThe consort of his reign; and by them stood \\nOrcus and Ades, and the dreaded name \\nOf Demogorgon; Rumour next, and Chance, \\nAnd Tumult, and Confusion, all embroiled, \\nAnd Discord with a thousand various mouths. \\n  T\\' whom Satan, turning boldly, thus:--\"Ye Powers \\nAnd Spirtis of this nethermost Abyss, \\nChaos and ancient Night, I come no spy \\nWith purpose to explore or to disturb \\nThe secrets of your realm; but, by constraint \\nWandering this darksome desert, as my way \\nLies through your spacious empire up to light, \\nAlone and without guide, half lost, I seek, \\nWhat readiest path leads where your gloomy bounds \\nConfine with Heaven; or, if some other place, \\nFrom your dominion won, th\\' Ethereal King \\nPossesses lately, thither to arrive \\nI travel this profound. Direct my course: \\nDirected, no mean recompense it brings \\nTo your behoof, if I that region lost, \\nAll usurpation thence expelled, reduce \\nTo her original darkness and your sway \\n(Which is my present journey), and once more \\nErect the standard there of ancient Night. \\nYours be th\\' advantage all, mine the revenge!\" \\n  Thus Satan; and him thus the Anarch old, \\nWith faltering speech and visage incomposed, \\nAnswered:  \"I know thee, stranger, who thou art--  *** \\nThat mighty leading Angel, who of late \\nMade head against Heaven\\'s King, though overthrown. \\nI saw and heard; for such a numerous host \\nFled not in silence through the frighted Deep, \\nWith ruin upon ruin, rout on rout, \\nConfusion worse confounded; and Heaven-gates \\nPoured out by millions her victorious bands, \\nPursuing. I upon my frontiers here \\nKeep residence; if all I can will serve \\nThat little which is left so to defend, \\nEncroached on still through our intestine broils \\nWeakening the sceptre of old Night: first, Hell, \\nYour dungeon, stretching far and wide beneath; \\nNow lately Heaven and Earth, another world \\nHung o\\'er my realm, linked in a golden chain \\nTo that side Heaven from whence your legions fell! \\nIf that way be your walk, you have not far; \\nSo much the nearer danger. Go, and speed; \\nHavoc, and spoil, and ruin, are my gain.\" \\n  He ceased; and Satan stayed not to reply, \\nBut, glad that now his sea should find a shore, \\nWith fresh alacrity and force renewed \\nSprings upward, like a pyramid of fire, \\nInto the wild expanse, and through the shock \\nOf fighting elements, on all sides round \\nEnvironed, wins his way; harder beset \\nAnd more endangered than when Argo passed \\nThrough Bosporus betwixt the justling rocks, \\nOr when Ulysses on the larboard shunned \\nCharybdis, and by th\\' other whirlpool steered. \\nSo he with difficulty and labour hard \\nMoved on, with difficulty and labour he; \\nBut, he once passed, soon after, when Man fell, \\nStrange alteration! Sin and Death amain, \\nFollowing his track (such was the will of Heaven) \\nPaved after him a broad and beaten way \\nOver the dark Abyss, whose boiling gulf \\nTamely endured a bridge of wondrous length, \\nFrom Hell continued, reaching th\\' utmost orb \\nOf this frail World; by which the Spirits perverse \\nWith easy intercourse pass to and fro \\nTo tempt or punish mortals, except whom \\nGod and good Angels guard by special grace. \\n  But now at last the sacred influence \\nOf light appears, and from the walls of Heaven \\nShoots far into the bosom of dim Night \\nA glimmering dawn. Here Nature first begins \\nHer farthest verge, and Chaos to retire, \\nAs from her outmost works, a broken foe, \\nWith tumult less and with less hostile din; \\nThat Satan with less toil, and now with ease, \\nWafts on the calmer wave by dubious light, \\nAnd, like a weather-beaten vessel, holds \\nGladly the port, though shrouds and tackle torn; \\nOr in the emptier waste, resembling air, \\nWeighs his spread wings, at leisure to behold \\nFar off th\\' empyreal Heaven, extended wide \\nIn circuit, undetermined square or round, \\nWith opal towers and battlements adorned \\nOf living sapphire, once his native seat; \\nAnd, fast by, hanging in a golden chain, \\nThis pendent World, in bigness as a star \\nOf smallest magnitude close by the moon. \\nThither, full fraught with mischievous revenge, \\nAccursed, and in a cursed hour, he hies. \\n \\n \\n \\nBook III                                                         \\n \\n \\nHail, holy Light, offspring of Heaven firstborn, \\nOr of the Eternal coeternal beam \\nMay I express thee unblam\\'d?  since God is light, \\nAnd never but in unapproached light \\nDwelt from eternity, dwelt then in thee \\nBright effluence of bright essence increate. \\nOr hear\"st thou rather pure ethereal stream, \\nWhose fountain who shall tell?  before the sun, \\nBefore the Heavens thou wert, and at the voice \\nOf God, as with a mantle, didst invest  *** \\nThe rising world of waters dark and deep, \\nWon from the void and formless infinite. \\nThee I re-visit now with bolder wing, \\nEscap\\'d the Stygian pool, though long detain\\'d \\nIn that obscure sojourn, while in my flight \\nThrough utter and through middle darkness borne, \\nWith other notes than to the Orphean lyre \\nI sung of Chaos and eternal Night; \\nTaught by the heavenly Muse to venture down \\nThe dark descent, and up to re-ascend, \\nThough hard and rare:  Thee I revisit safe, \\nAnd feel thy sovran vital lamp; but thou \\nRevisit\\'st not these eyes, that roll in vain \\nTo find thy piercing ray, and find no dawn; \\nSo  thick a drop serene hath quench\\'d their orbs, \\nOr dim suffusion veil\\'d.  Yet not the more \\nCease I to wander, where the Muses haunt, \\nClear spring, or shady grove, or sunny hill, \\nSmit with the love of sacred song; but chief \\nThee, Sion, and the flowery brooks beneath, \\nThat wash thy hallow\\'d feet, and warbling flow, \\nNightly I visit:  nor sometimes forget \\nSo were I equall\\'d with them in renown, \\nThy sovran command, that Man should find grace; \\nBlind Thamyris, and blind Maeonides, \\nAnd Tiresias, and Phineus, prophets old: \\nThen feed on thoughts, that voluntary move \\nHarmonious numbers; as the wakeful bird \\nSings darkling, and in shadiest covert hid \\nTunes her nocturnal note.  Thus with the year \\nSeasons return; but not to me returns \\nDay, or the sweet approach of even or morn, \\nOr sight of vernal bloom, or summer\\'s rose, \\nOr flocks, or herds, or human face divine; \\nBut cloud instead, and ever-during dark \\nSurrounds me, from the cheerful ways of men \\nCut off, and for the book of knowledge fair \\nPresented with a universal blank \\nOf nature\\'s works to me expung\\'d and ras\\'d, \\nAnd wisdom at one entrance quite shut out. \\nSo much the rather thou, celestial Light, \\nShine inward, and the mind through all her powers \\nIrradiate; there plant eyes, all mist from thence \\nPurge and disperse, that I may see and tell \\nOf things invisible to mortal sight. \\nNow had the Almighty Father from above, \\nFrom the pure empyrean where he sits \\nHigh thron\\'d above all highth, bent down his eye \\nHis own works and their works at once to view: \\nAbout him all the Sanctities of Heaven \\nStood thick as stars, and from his sight receiv\\'d \\nBeatitude past utterance; on his right \\nThe radiant image of his glory sat, \\nHis only son; on earth he first beheld \\nOur two first parents, yet the only two \\nOf mankind in the happy garden plac\\'d \\nReaping immortal fruits of joy and love, \\nUninterrupted joy, unrivall\\'d love, \\nIn blissful solitude; he then survey\\'d \\nHell and the gulf between, and Satan there  \\nCoasting the wall of Heaven on this side Night \\nIn the dun air sublime, and ready now \\nTo stoop with wearied wings, and willing feet, \\nOn the bare outside of this world, that seem\\'d \\nFirm land imbosom\\'d, without firmament, \\nUncertain which, in ocean or in air. \\nHim God beholding from his prospect high, \\nWherein past, present, future, he beholds, \\nThus to his only Son foreseeing spake. \\nOnly begotten Son, seest thou what rage \\nTransports our Adversary?  whom no bounds \\nPrescrib\\'d no bars of Hell, nor all the chains \\nHeap\\'d on him there, nor yet the main abyss \\nWide interrupt, can hold; so bent he seems \\nOn desperate revenge, that shall redound \\nUpon his own rebellious head.  And now, \\nThrough all restraint broke loose, he wings his way \\nNot far off Heaven, in the precincts of light, \\nDirectly towards the new created world, \\nAnd man there plac\\'d, with purpose to assay \\nIf him by force he can destroy, or, worse, \\nBy some false guile pervert; and shall pervert; \\nFor man will hearken to his glozing lies, \\nAnd easily transgress the sole command, \\nSole pledge of his obedience:  So will fall \\nHe and his faithless progeny:  Whose fault? \\nWhose but his own?  ingrate, he had of me \\nAll he could have; I made him just and right, \\nSufficient to have stood, though free to fall. \\nSuch I created all the ethereal Powers \\nAnd Spirits, both them who stood, and them who fail\\'d; \\nFreely they stood who stood, and fell who fell. \\nNot free, what proof could they have given sincere \\nOf true allegiance, constant faith or love, \\nWhere only what they needs must do appear\\'d, \\nNot what they would?  what praise could they receive? \\nWhat pleasure I from such obedience paid, \\nWhen will and reason (reason also is choice) \\nUseless and vain, of freedom both despoil\\'d, \\nMade passive both, had serv\\'d necessity, \\nNot me?  they therefore, as to right belong$ \\'d, \\nSo were created, nor can justly accuse \\nTheir Maker, or their making, or their fate, \\nAs if predestination over-rul\\'d \\nTheir will dispos\\'d by absolute decree \\nOr high foreknowledge they themselves decreed \\nTheir own revolt, not I; if I foreknew, \\nForeknowledge had no influence on their fault, \\nWhich had no less proved certain unforeknown. \\nSo without least impulse or shadow of fate, \\nOr aught by me immutably foreseen, \\nThey trespass, authors to themselves in all \\nBoth what they judge, and what they choose; for so \\nI form\\'d them free: and free they must remain, \\nTill they enthrall themselves; I else must change \\nTheir nature, and revoke the high decree \\nUnchangeable, eternal, which ordain\\'d \\n$THeir freedom: they themselves ordain\\'d their fall. \\nThe first sort by their own suggestion fell, \\nSelf-tempted, self-deprav\\'d:  Man falls, deceiv\\'d \\nBy the other first:  Man therefore shall find grace, \\nThe other none:  In mercy and justice both, \\nThrough Heaven and Earth, so shall my glory excel; \\nBut Mercy, first and last, shall brightest shine. \\nThus while God spake, ambrosial fragrance fill\\'d \\nAll Heaven, and in the blessed Spirits elect \\nSense of new joy ineffable diffus\\'d. \\nBeyond compare the Son of God was seen \\nMost glorious; in him all his Father shone \\nSubstantially express\\'d; and in his face \\nDivine compassion visibly appear\\'d, \\nLove without end, and without measure grace, \\nWhich uttering, thus he to his Father spake. \\nO Father, gracious was that word which clos\\'d \\nThy sovran command, that Man should find grace; \\n, that Man should find grace; \\nFor which both Heaven and earth shall high extol \\nThy praises, with the innumerable sound \\nOf hymns and sacred songs, wherewith thy throne \\nEncompass\\'d shall resound thee ever blest. \\nFor should Man finally be lost, should Man, \\nThy creature late so lov\\'d, thy youngest son, \\nFall circumvented thus by fraud, though join\\'d \\nWith his own folly?  that be from thee far, \\nThat far be from thee, Father, who art judge \\nOf all things made, and judgest only right. \\nOr shall the Adversary thus obtain \\nHis end, and frustrate thine?  shall he fulfill \\nHis malice, and thy goodness bring to nought, \\nOr proud return, though to his heavier doom, \\nYet with revenge accomplish\\'d, and to Hell \\nDraw after him the whole race of mankind, \\nBy him corrupted?  or wilt thou thyself \\nAbolish thy creation, and unmake \\nFor him, what for thy glory thou hast made? \\nSo should thy goodness and thy greatness both \\nBe question\\'d and blasphem\\'d without defence. \\nTo whom the great Creator thus replied. \\nO son, in whom my soul hath chief delight, \\nSon of my bosom, Son who art alone. \\nMy word, my wisdom, and effectual might,  \\nAll hast thou spoken as my thoughts are, all \\nAs my eternal purpose hath decreed; \\nMan shall not quite be lost, but sav\\'d who will; \\nYet not of will in him, but grace in me \\nFreely vouchsaf\\'d; once more I will renew \\nHis lapsed powers, though forfeit; and enthrall\\'d \\nBy sin to foul exorbitant desires; \\nUpheld by me, yet once more he shall stand \\nOn even ground against his mortal foe; \\nBy me upheld, that he may know how frail \\nHis fallen condition is, and to me owe \\nAll his deliverance, and to none but me. \\nSome I have chosen of peculiar grace, \\nElect above the rest; so is my will: \\nThe rest shall hear me call, and oft be warn\\'d \\nTheir sinful state, and to appease betimes \\nThe incensed Deity, while offer\\'d grace \\nInvites; for I will clear their senses dark, \\nWhat may suffice, and soften stony hearts \\nTo pray, repent, and bring obedience due. \\nTo prayer, repentance, and obedience due, \\nThough but endeavour\\'d with sincere intent, \\nMine ear shall not be slow, mine eye not shut. \\nAnd I will place within them as a guide, \\nMy umpire Conscience; whom if they will hear, \\nLight after light, well us\\'d, they shall attain, \\nAnd to the end, persisting, safe arrive. \\nThis my long sufferance, and my day of grace, \\nThey who neglect and scorn, shall never taste; \\nBut hard be harden\\'d, blind be blinded more, \\nThat they may stumble on, and deeper fall; \\nAnd none but such from mercy I exclude. \\nBut yet all is not done; Man disobeying, \\nDisloyal, breaks his fealty, and sins \\nAgainst the high supremacy of Heaven, \\nAffecting God-head, and, so losing all, \\nTo expiate his treason hath nought left, \\nBut to destruction sacred and devote, \\nHe, with his whole posterity, must die, \\nDie he or justice must; unless for him \\nSome other able, and as willing, pay \\nThe rigid satisfaction, death for death. \\nSay, heavenly Powers, where shall we find such love? \\nWhich of you will be mortal, to redeem \\nMan\\'s mortal crime, and just the unjust to save? \\nDwells in all Heaven charity so dear? \\nAnd silence was in Heaven: $ on Man\\'s behalf \\nHe ask\\'d, but all the heavenly quire stood mute, \\nPatron or intercessour none appear\\'d, \\nMuch less that durst upon his own head draw \\nThe deadly forfeiture, and ransom set. \\nAnd now without redemption all mankind \\nMust have been lost, adjudg\\'d to Death and Hell \\nBy doom severe, had not the Son of God, \\nIn whom the fulness dwells of love divine, \\nHis dearest mediation thus renew\\'d. \\nFather, thy word is past, Man shall find grace; \\nAnd shall grace not find means, that finds her way, \\nThe speediest of thy winged messengers, \\nTo visit all thy creatures, and to all \\nComes unprevented, unimplor\\'d, unsought? \\nHappy for Man, so coming; he her aid \\nCan never seek, once dead in sins, and lost; \\nAtonement for himself, or offering meet, \\nIndebted and undone, hath none to bring; \\nBehold me then:  me for him, life for life \\nI offer: on me let thine anger fall; \\nAccount me Man; I for his sake will leave \\n Thy bosom, and this glory next to thee \\n Freely put off, and for him lastly die \\n Well pleased; on me let Death wreak all his rage. \\n Under his gloomy power I shall not long \\n Lie vanquished. Thou hast given me to possess \\n Life in myself for ever; by thee I live; \\n Though now to Death I yield, and am his due, \\n All that of me can die, yet, that debt paid, \\n $ thou wilt not leave me in the loathsome grave \\n His prey, nor suffer my unspotted soul \\n For ever with corruption there to dwell; \\n But I shall rise victorious, and subdue \\n My vanquisher, spoiled of his vaunted spoil. \\n Death his death\\'s wound shall then receive, and stoop \\n Inglorious, of his mortal sting disarmed; \\n I through the ample air in triumph high \\n Shall lead Hell captive maugre Hell, and show \\nThe powers of darkness bound. Thou, at the sight \\n Pleased, out of Heaven shalt look down and smile, \\n While, by thee raised, I ruin all my foes; \\n Death last, and with his carcase glut the grave; \\n Then, with the multitude of my redeemed, \\n Shall enter Heaven, long absent, and return, \\n Father, to see thy face, wherein no cloud \\n Of anger shall remain, but peace assured \\n And reconcilement: wrath shall be no more \\n Thenceforth, but in thy presence joy entire. \\n His words here ended; but his meek aspect \\n Silent yet spake, and breathed immortal love \\n To mortal men, above which only shone \\n Filial obedience: as a sacrifice \\n Glad to be offered, he attends the will \\n Of his great Father. Admiration seized \\n All Heaven, what this might mean, and whither tend, \\n Wondering; but soon th\\' Almighty thus replied. \\n O thou in Heaven and Earth the only peace \\n Found out for mankind under wrath, O thou \\n My sole complacence! Well thou know\\'st how dear \\n To me are all my works; nor Man the least, \\n Though last created, that for him I spare \\n Thee from my bosom and right hand, to save, \\n By losing thee a while, the whole race lost.                    \\n \\n     00021053  \\n Thou, therefore, whom thou only canst redeem, \\n Their nature also to thy nature join; \\n And be thyself Man among men on Earth, \\n Made flesh, when time shall be, of virgin seed, \\n By wondrous birth; be thou in Adam\\'s room \\nThe head of all mankind, though Adam\\'s son. \\nAs in him perish all men, so in thee, \\nAs from a second root, shall be restored \\nAs many as are restored, without thee none. \\nHis crime makes guilty all his sons; thy merit, \\nImputed, shall absolve them who renounce \\nTheir own both righteous and unrighteous deeds, \\nAnd live in thee transplanted, and from thee \\nReceive new life.  So Man, as is most just, \\nShall satisfy for Man, be judged and die, \\nAnd dying rise, and rising with him raise \\nHis brethren, ransomed with his own dear life. \\nSo heavenly love shall outdo hellish hate, \\nGiving to death, and dying to redeem, \\nSo dearly to redeem what hellish hate \\nSo easily destroyed, and still destroys \\nIn those who, when they may, accept not grace. \\nNor shalt thou, by descending to assume \\nMan\\'s nature, lessen or degrade thine own. \\nBecause thou hast, though throned in highest bliss \\nEqual to God, and equally enjoying \\nGod-like fruition, quitted all, to save \\nA world from utter loss, and hast been found \\nBy merit more than birthright Son of God, \\nFound worthiest to be so by being good, \\nFar more than great or high; because in thee \\nLove hath abounded more than glory abounds; \\nTherefore thy humiliation shall exalt \\nWith thee thy manhood also to this throne: \\nHere shalt thou sit incarnate, here shalt reign \\nBoth God and Man, Son both of God and Man, \\nAnointed universal King; all power \\nI give thee; reign for ever, and assume \\nThy merits; under thee, as head supreme, \\nThrones, Princedoms, Powers, Dominions, I reduce: \\nAll knees to thee shall bow, of them that bide \\nIn Heaven, or Earth, or under Earth in Hell. \\nWhen thou, attended gloriously from Heaven, \\nShalt in the sky appear, and from thee send \\nThe summoning Arch-Angels to proclaim \\nThy dread tribunal; forthwith from all winds, \\nThe living, and forthwith the cited dead \\nOf all past ages, to the general doom \\nShall hasten; such a peal shall rouse their sleep. \\nThen, all thy saints assembled, thou shalt judge \\nBad Men and Angels; they, arraigned, shall sink \\nBeneath thy sentence; Hell, her numbers full, \\nThenceforth shall be for ever shut.  Mean while \\nThe world shall burn, and from her ashes spring \\nNew Heaven and Earth, wherein the just shall dwell, \\nAnd, after all their tribulations long, \\nSee golden days, fruitful of golden deeds, \\nWith joy and peace triumphing, and fair truth. \\nThen thou thy regal scepter shalt lay by, \\nFor regal scepter then no more shall need, \\nGod shall be all in all.  But, all ye Gods, \\nAdore him, who to compass all this dies; \\nAdore the Son, and honour him as me. \\nNo sooner had the Almighty ceased, but all \\nThe multitude of Angels, with a shout \\nLoud as from numbers without number, sweet \\nAs from blest voices, uttering joy, Heaven rung \\nWith jubilee, and loud Hosannas filled \\nThe eternal regions:  Lowly reverent \\nTowards either throne they bow, and to the ground \\nWith solemn adoration down they cast \\nTheir crowns inwove with amarant and gold; \\nImmortal amarant, a flower which once \\nIn Paradise, fast by the tree of life, \\nBegan to bloom; but soon for man\\'s offence \\nTo Heaven removed, where first it grew, there grows, \\nAnd flowers aloft shading the fount of life, \\nAnd where the river of bliss through midst of Heaven \\nRolls o\\'er Elysian flowers her amber stream; \\nWith these that never fade the Spirits elect \\nBind their resplendent locks inwreathed with beams; \\nNow in loose garlands thick thrown off, the bright \\nPavement, that like a sea of jasper shone, \\nImpurpled with celestial roses smiled. \\nThen, crowned again, their golden harps they took, \\nHarps ever tuned, that glittering by their side \\nLike quivers hung, and with preamble sweet \\nOf charming symphony they introduce \\nTheir sacred song, and waken raptures high; \\nNo voice exempt, no voice but well could join \\nMelodious part, such concord is in Heaven. \\nThee, Father, first they sung Omnipotent, \\nImmutable, Immortal, Infinite, \\nEternal King; the Author of all being, \\nFonntain of light, thyself invisible \\nAmidst the glorious brightness where thou sit\\'st \\nThroned inaccessible, but when thou shadest \\nThe full blaze of thy beams, and, through a cloud \\nDrawn round about thee like a radiant shrine, \\nDark with excessive bright thy skirts appear, \\nYet dazzle Heaven, that brightest Seraphim \\nApproach not, but with both wings veil their eyes. \\nThee next they sang of all creation first, \\nBegotten Son, Divine Similitude, \\nIn whose conspicuous countenance, without cloud \\nMade visible, the Almighty Father shines, \\nWhom else no creature can behold; on thee \\nImpressed the effulgence of his glory abides, \\nTransfused on thee his ample Spirit rests. \\nHe Heaven of Heavens and all the Powers therein \\nBy thee created; and by thee threw down \\nThe aspiring Dominations:  Thou that day \\nThy Father\\'s dreadful thunder didst not spare, \\nNor stop thy flaming chariot-wheels, that shook \\nHeaven\\'s everlasting frame, while o\\'er the necks \\nThou drovest of warring Angels disarrayed. \\nBack from pursuit thy Powers with loud acclaim \\nThee only extolled, Son of thy Father\\'s might, \\nTo execute fierce vengeance on his foes, \\nNot so on Man:  Him through their malice fallen, \\nFather of mercy and grace, thou didst not doom \\nSo strictly, but much more to pity incline: \\nNo sooner did thy dear and only Son \\nPerceive thee purposed not to doom frail Man \\nSo strictly, but much more to pity inclined, \\nHe to appease thy wrath, and end the strife \\nOf mercy and justice in thy face discerned, \\nRegardless of the bliss wherein he sat \\nSecond to thee, offered himself to die \\nFor Man\\'s offence.  O unexampled love, \\nLove no where to be found less than Divine! \\nHail, Son of God, Saviour of Men!  Thy name \\nShall be the copious matter of my song \\nHenceforth, and never shall my heart thy praise \\nForget, nor from thy Father\\'s praise disjoin. \\nThus they in Heaven, above the starry sphere, \\nTheir happy hours in joy and hymning spent. \\nMean while upon the firm opacous globe \\nOf this round world, whose first convex divides \\nThe luminous inferiour orbs, enclosed \\nFrom Chaos, and the inroad of Darkness old, \\nSatan alighted walks:  A globe far off \\nIt seemed, now seems a boundless continent \\nDark, waste, and wild, under the frown of Night \\nStarless exposed, and ever-threatening storms \\nOf Chaos blustering round, inclement sky; \\nSave on that side which from the wall of Heaven, \\nThough distant far, some small reflection gains \\nOf glimmering air less vexed with tempest loud: \\nHere walked the Fiend at large in spacious field. \\nAs when a vultur on Imaus bred, \\nWhose snowy ridge the roving Tartar bounds, \\nDislodging from a region scarce of prey \\nTo gorge the flesh of lambs or yeanling kids, \\nOn hills where flocks are fed, flies toward the springs \\nOf Ganges or Hydaspes, Indian streams; \\nBut in his way lights on the barren plains \\nOf Sericana, where Chineses drive \\nWith sails and wind their cany waggons light: \\nSo, on this windy sea of land, the Fiend \\nWalked up and down alone, bent on his prey; \\nAlone, for other creature in this place, \\nLiving or lifeless, to be found was none; \\nNone yet, but store hereafter from the earth \\nUp hither like aereal vapours flew \\nOf all things transitory and vain, when sin \\nWith vanity had filled the works of men: \\nBoth all things vain, and all who in vain things \\nBuilt their fond hopes of glory or lasting fame, \\nOr happiness in this or the other life; \\nAll who have their reward on earth, the fruits \\nOf painful superstition and blind zeal, \\nNought seeking but the praise of men, here find \\nFit retribution, empty as their deeds; \\nAll the unaccomplished works of Nature\\'s hand, \\nAbortive, monstrous, or unkindly mixed, \\nDissolved on earth, fleet hither, and in vain, \\nTill final dissolution, wander here; \\nNot in the neighbouring moon as some have dreamed; \\nThose argent fields more likely habitants, \\nTranslated Saints, or middle Spirits hold \\nBetwixt the angelical and human kind. \\nHither of ill-joined sons and daughters born \\nFirst from the ancient world those giants came \\nWith many a vain exploit, though then renowned: \\nThe builders next of Babel on the plain \\nOf Sennaar, and still with vain design, \\nNew Babels, had they wherewithal, would build: \\nOthers came single; he, who, to be deemed \\nA God, leaped fondly into Aetna flames, \\nEmpedocles; and he, who, to enjoy \\nPlato\\'s Elysium, leaped into the sea, \\nCleombrotus; and many more too long, \\nEmbryos, and idiots, eremites, and friars \\nWhite, black, and gray, with all their trumpery. \\nHere pilgrims roam, that strayed so far to seek \\nIn Golgotha him dead, who lives in Heaven; \\nAnd they, who to be sure of Paradise, \\nDying, put on the weeds of Dominick, \\nOr in Franciscan think to pass disguised; \\nThey pass the planets seven, and pass the fixed, \\nAnd that crystalling sphere whose balance weighs \\nThe trepidation talked, and that first moved; \\nAnd now Saint Peter at Heaven\\'s wicket seems \\nTo wait them with his keys, and now at foot \\nOf Heaven\\'s ascent they lift their feet, when lo \\nA violent cross wind from either coast \\nBlows them transverse, ten thousand leagues awry \\nInto the devious air:  Then might ye see \\nCowls, hoods, and habits, with their wearers, tost \\nAnd fluttered into rags; then reliques, beads, \\nIndulgences, dispenses, pardons, bulls, \\nThe sport of winds:  All these, upwhirled aloft, \\nFly o\\'er the backside of the world far off \\nInto a Limbo large and broad, since called \\nThe Paradise of Fools, to few unknown \\nLong after; now unpeopled, and untrod. \\nAll this dark globe the Fiend found as he passed, \\nAnd long he wandered, till at last a gleam \\nOf dawning light turned thither-ward in haste \\nHis travelled steps: far distant he descries \\nAscending by degrees magnificent \\nUp to the wall of Heaven a structure high; \\nAt top whereof, but far more rich, appeared \\nThe work as of a kingly palace-gate, \\nWith frontispiece of diamond and gold \\nEmbellished; thick with sparkling orient gems \\nThe portal shone, inimitable on earth \\nBy model, or by shading pencil, drawn. \\nThese stairs were such as whereon Jacob saw \\nAngels ascending and descending, bands \\nOf guardians bright, when he from Esau fled \\nTo Padan-Aram, in the field of Luz \\nDreaming by night under the open sky \\nAnd waking cried,  This is the gate of Heaven. \\nEach stair mysteriously was meant, nor stood \\nThere always, but drawn up to Heaven sometimes \\nViewless; and underneath a bright sea flowed \\nOf jasper, or of liquid pearl, whereon \\nWho after came from earth, failing arrived \\nWafted by Angels, or flew o\\'er the lake \\nRapt in a chariot drawn by fiery steeds. \\nThe stairs were then let down, whether to dare \\nThe Fiend by easy ascent, or aggravate \\nHis sad exclusion from the doors of bliss: \\nDirect against which opened from beneath, \\nJust o\\'er the blissful seat of Paradise, \\nA passage down to the Earth, a passage wide, \\nWider by far than that of after-times \\nOver mount Sion, and, though that were large, \\nOver the Promised Land to God so dear; \\nBy which, to visit oft those happy tribes, \\nOn high behests his angels to and fro \\nPassed frequent, and his eye with choice regard \\nFrom Paneas, the fount of Jordan\\'s flood, \\nTo Beersaba, where the Holy Land \\nBorders on Egypt and the Arabian shore; \\nSo wide the opening seemed, where bounds were set \\nTo darkness, such as bound the ocean wave. \\nSatan from hence, now on the lower stair, \\nThat scaled by steps of gold to Heaven-gate, \\nLooks down with wonder at the sudden view \\nOf all this world at once.  As when a scout, \\nThrough dark?;nd desart ways with?oeril gone \\nAll?might,?;t?kast by break of cheerful dawn \\nObtains the brow of some high-climbing hill, \\nWhich to his eye discovers unaware \\nThe goodly prospect of some foreign land \\nFirst seen, or some renowned metropolis \\nWith glistering spires and pinnacles adorned, \\nWhich now the rising sun gilds with his beams: \\nSuch wonder seised, though after Heaven seen, \\nThe Spirit malign, but much more envy seised, \\nAt sight of all this world beheld so fair. \\nRound he surveys (and well might, where he stood \\nSo high above the circling canopy \\nOf night\\'s extended shade,) from eastern point \\nOf Libra to the fleecy star that bears \\nAndromeda far off Atlantick seas \\nBeyond the horizon; then from pole to pole \\nHe views in breadth, and without longer pause \\nDown right into the world\\'s first region throws \\nHis flight precipitant, and winds with ease \\nThrough the pure marble air his oblique way \\nAmongst innumerable stars, that shone \\nStars distant, but nigh hand seemed other worlds; \\nOr other worlds they seemed, or happy isles, \\nLike those Hesperian gardens famed of old, \\nFortunate fields, and groves, and flowery vales, \\nThrice happy isles; but who dwelt happy there \\nHe staid not to inquire:  Above them all \\nThe golden sun, in splendour likest Heaven, \\nAllured his eye; thither his course he bends \\nThrough the calm firmament, (but up or down, \\nBy center, or eccentrick, hard to tell, \\nOr longitude,) where the great luminary \\nAloof the vulgar constellations thick, \\nThat from his lordly eye keep distance due, \\nDispenses light from far; they, as they move \\nTheir starry dance in numbers that compute \\nDays, months, and years, towards his all-cheering lamp \\nTurn swift their various motions, or are turned \\nBy his magnetick beam, that gently warms \\nThe universe, and to each inward part \\nWith gentle penetration, though unseen, \\nShoots invisible virtue even to the deep; \\nSo wonderously was set his station bright. \\nThere lands the Fiend, a spot like which perhaps \\nAstronomer in the sun\\'s lucent orb \\nThrough his glazed optick tube yet never saw. \\nThe place he found beyond expression bright, \\nCompared with aught on earth, metal or stone; \\nNot all parts like, but all alike informed \\nWith radiant light, as glowing iron with fire; \\nIf metal, part seemed gold, part silver clear; \\nIf stone, carbuncle most or chrysolite, \\nRuby or topaz, to the twelve that shone \\nIn Aaron\\'s breast-plate, and a stone besides \\nImagined rather oft than elsewhere seen, \\nThat stone, or like to that which here below \\nPhilosophers in vain so long have sought, \\nIn vain, though by their powerful art they bind \\nVolatile Hermes, and call up unbound \\nIn various shapes old Proteus from the sea, \\nDrained through a limbeck to his native form. \\nWhat wonder then if fields and regions here \\nBreathe forth Elixir pure, and rivers run \\nPotable gold, when with one virtuous touch \\nThe arch-chemick sun, so far from us remote, \\nProduces, with terrestrial humour mixed, \\nHere in the dark so many precious things \\nOf colour glorious, and effect so rare? \\nHere matter new to gaze the Devil met \\nUndazzled; far and wide his eye commands; \\nFor sight no obstacle found here, nor shade, \\nBut all sun-shine, as when his beams at noon \\nCulminate from the equator, as they now \\nShot upward still direct, whence no way round \\nShadow from body opaque can fall; and the air, \\nNo where so clear, sharpened his visual ray \\nTo objects distant far, whereby he soon \\nSaw within ken a glorious Angel stand, \\nThe same whom John saw also in the sun: \\nHis back was turned, but not his brightness hid; \\nOf beaming sunny rays a golden tiar \\nCircled his head, nor less his locks behind \\nIllustrious on his shoulders fledge with wings \\nLay waving round; on some great charge employed \\nHe seemed, or fixed in cogitation deep. \\nGlad was the Spirit impure, as now in hope \\nTo find who might direct his wandering flight \\nTo Paradise, the happy seat of Man, \\nHis journey\\'s end and our beginning woe. \\nBut first he casts to change his proper shape, \\nWhich else might work him danger or delay: \\nAnd now a stripling Cherub he appears, \\nNot of the prime, yet such as in his face \\nYouth smiled celestial, and to every limb \\nSuitable grace diffused, so well he feigned: \\nUnder a coronet his flowing hair \\nIn curls on either cheek played; wings he wore \\nOf many a coloured plume, sprinkled with gold; \\nHis habit fit for speed succinct, and held \\nBefore his decent steps a silver wand. \\nHe drew not nigh unheard; the Angel bright, \\nEre he drew nigh, his radiant visage turned, \\nAdmonished by his ear, and straight was known \\nThe Arch-Angel Uriel, one of the seven \\nWho in God\\'s presence, nearest to his throne, \\nStand ready at command, and are his eyes \\nThat run through all the Heavens, or down to the Earth \\nBear his swift errands over moist and dry, \\nO\\'er sea and land: him Satan thus accosts. \\nUriel, for thou of those seven Spirits that stand \\nIn sight of God\\'s high throne, gloriously bright, \\nThe first art wont his great authentick will \\nInterpreter through highest Heaven to bring, \\nWhere all his sons thy embassy attend; \\nAnd here art likeliest by supreme decree \\nLike honour to obtain, and as his eye \\nTo visit oft this new creation round; \\nUnspeakable desire to see, and know \\nAll these his wonderous works, but chiefly Man, \\nHis chief delight and favour, him for whom \\nAll these his works so wonderous he ordained, \\nHath brought me from the quires of Cherubim \\nAlone thus wandering.  Brightest Seraph, tell \\nIn which of all these shining orbs hath Man \\nHis fixed seat, or fixed seat hath none, \\nBut all these shining orbs his choice to dwell; \\nThat I may find him, and with secret gaze \\nOr open admiration him behold, \\nOn whom the great Creator hath bestowed \\nWorlds, and on whom hath all these graces poured; \\nThat both in him and all things, as is meet, \\nThe universal Maker we may praise; \\nWho justly hath driven out his rebel foes \\nTo deepest Hell, and, to repair that loss, \\nCreated this new happy race of Men \\nTo serve him better:  Wise are all his ways. \\nSo spake the false dissembler unperceived; \\nFor neither Man nor Angel can discern \\nHypocrisy, the only evil that walks \\nInvisible, except to God alone, \\nBy his permissive will, through Heaven and Earth: \\nAnd oft, though wisdom wake, suspicion sleeps \\nAt wisdom\\'s gate, and to simplicity \\nResigns her charge, while goodness thinks no ill \\nWhere no ill seems:  Which now for once beguiled \\nUriel, though regent of the sun, and held \\nThe sharpest-sighted Spirit of all in Heaven; \\nWho to the fraudulent impostor foul, \\nIn his uprightness, answer thus returned. \\nFair Angel, thy desire, which tends to know \\nThe works of God, thereby to glorify \\nThe great Work-master, leads to no excess \\nThat reaches blame, but rather merits praise \\nThe more it seems excess, that led thee hither \\nFrom thy empyreal mansion thus alone, \\nTo witness with thine eyes what some perhaps, \\nContented with report, hear only in Heaven: \\nFor wonderful indeed are all his works, \\nPleasant to know, and worthiest to be all \\nHad in remembrance always with delight; \\nBut what created mind can comprehend \\nTheir number, or the wisdom infinite \\nThat brought them forth, but hid their causes deep? \\nI saw when at his word the formless mass, \\nThis world\\'s material mould, came to a heap: \\nConfusion heard his voice, and wild uproar \\nStood ruled, stood vast infinitude confined; \\nTill at his second bidding Darkness fled, \\nLight shone, and order from disorder sprung: \\nSwift to their several quarters hasted then \\nThe cumbrous elements, earth, flood, air, fire; \\nAnd this ethereal quintessence of Heaven \\nFlew upward, spirited with various forms, \\nThat rolled orbicular, and turned to stars \\nNumberless, as thou seest, and how they move; \\nEach had his place appointed, each his course; \\nThe rest in circuit walls this universe. \\nLook downward on that globe, whose hither side \\nWith light from hence, though but reflected, shines; \\nThat place is Earth, the seat of Man; that light \\nHis day, which else, as the other hemisphere, \\nNight would invade; but there the neighbouring moon \\nSo call that opposite fair star) her aid \\nTimely interposes, and her monthly round \\nStill ending, still renewing, through mid Heaven, \\nWith borrowed light her countenance triform \\nHence fills and empties to enlighten the Earth, \\nAnd in her pale dominion checks the night. \\nThat spot, to which I point, is Paradise, \\nAdam\\'s abode; those lofty shades, his bower. \\nThy way thou canst not miss, me mine requires. \\nThus said, he turned; and Satan, bowing low, \\nAs to superiour Spirits is wont in Heaven, \\nWhere honour due and reverence none neglects, \\nTook leave, and toward the coast of earth beneath, \\nDown from the ecliptick, sped with hoped success, \\nThrows his steep flight in many an aery wheel; \\nNor staid, till on Niphates\\' top he lights. \\n \\n \\n \\nBook IV                                                          \\n \\n \\nO, for that warning voice, which he, who saw \\nThe Apocalypse, heard cry in Heaven aloud, \\nThen when the Dragon, put to second rout, \\nCame furious down to be revenged on men, \\nWoe to the inhabitants on earth! that now, \\nWhile time was, our first parents had been warned \\nThe coming of their secret foe, and \\'scaped, \\nHaply so \\'scaped his mortal snare:  For now \\nSatan, now first inflamed with rage, came down, \\nThe tempter ere the accuser of mankind, \\nTo wreak on innocent frail Man his loss \\nOf that first battle, and his flight to Hell: \\nYet, not rejoicing in his speed, though bold \\nFar off and fearless, nor with cause to boast, \\nBegins his dire attempt; which nigh the birth \\nNow rolling boils in his tumultuous breast, \\nAnd like a devilish engine back recoils \\nUpon himself; horrour and doubt distract \\nHis troubled thoughts, and from the bottom stir \\nThe Hell within him; for within him Hell \\nHe brings, and round about him, nor from Hell \\nOne step, no more than from himself, can fly \\nBy change of place:  Now conscience wakes despair, \\nThat slumbered; wakes the bitter memory \\nOf what he was, what is, and what must be \\nWorse; of worse deeds worse sufferings must ensue. \\nSometimes towards Eden, which now in his view \\nLay pleasant, his grieved look he fixes sad; \\nSometimes towards Heaven, and the full-blazing sun, \\nWhich now sat high in his meridian tower: \\nThen, much revolving, thus in sighs began. \\nO thou, that, with surpassing glory crowned, \\nLookest from thy sole dominion like the God \\nOf this new world; at whose sight all the stars \\nHide their diminished heads; to thee I call, \\nBut with no friendly voice, and add thy name, \\nOf Sun! to tell thee how I hate thy beams, \\nThat bring to my remembrance from what state \\nI fell, how glorious once above thy sphere; \\nTill pride and worse ambition threw me down \\nWarring in Heaven against Heaven\\'s matchless King: \\nAh, wherefore! he deserved no such return \\nFrom me, whom he created what I was \\nIn that bright eminence, and with his good \\nUpbraided none; nor was his service hard. \\nWhat could be less than to afford him praise, \\nThe easiest recompence, and pay him thanks, \\nHow due! yet all his good proved ill in me, \\nAnd wrought but malice; lifted up so high \\nI sdeined subjection, and thought one step higher \\nWould set me highest, and in a moment quit \\nThe debt immense of endless gratitude, \\nSo burdensome still paying, still to owe, \\nForgetful what from him I still received, \\nAnd understood not that a grateful mind \\nBy owing owes not, but still pays, at once \\nIndebted and discharged; what burden then \\nO, had his powerful destiny ordained \\nMe some inferiour Angel, I had stood \\nThen happy; no unbounded hope had raised \\nAmbition!  Yet why not some other Power \\nAs great might have aspired, and me, though mean, \\nDrawn to his part; but other Powers as great \\nFell not, but stand unshaken, from within \\nOr from without, to all temptations armed. \\nHadst thou the same free will and power to stand? \\nThou hadst: whom hast thou then or what to accuse, \\nBut Heaven\\'s free love dealt equally to all? \\nBe then his love accursed, since love or hate, \\nTo me alike, it deals eternal woe. \\nNay, cursed be thou; since against his thy will \\nChose freely what it now so justly rues. \\nMe miserable! which way shall I fly \\nInfinite wrath, and infinite despair? \\nWhich way I fly is Hell; myself am Hell; \\nAnd, in the lowest deep, a lower deep \\nStill threatening to devour me opens wide, \\nTo which the Hell I suffer seems a Heaven. \\nO, then, at last relent:  Is there no place \\nLeft for repentance, none for pardon left? \\nNone left but by submission; and that word \\nDisdain forbids me, and my dread of shame \\nAmong the Spirits beneath, whom I seduced \\nWith other promises and other vaunts \\nThan to submit, boasting I could subdue \\nThe Omnipotent.  Ay me! they little know \\nHow dearly I abide that boast so vain, \\nUnder what torments inwardly I groan, \\nWhile they adore me on the throne of Hell. \\nWith diadem and scepter high advanced, \\nThe lower still I fall, only supreme \\nIn misery:  Such joy ambition finds. \\nBut say I could repent, and could obtain, \\nBy act of grace, my former state; how soon \\nWould highth recall high thoughts, how soon unsay \\nWhat feigned submission swore?  Ease would recant \\nVows made in pain, as violent and void. \\nFor never can true reconcilement grow, \\nWhere wounds of deadly hate have pierced so deep: \\nWhich would but lead me to a worse relapse \\nAnd heavier fall:  so should I purchase dear \\nShort intermission bought with double smart. \\nThis knows my Punisher; therefore as far \\nFrom granting he, as I from begging, peace; \\nAll hope excluded thus, behold, in stead \\nMankind created, and for him this world. \\nSo farewell, hope; and with hope farewell, fear; \\nFarewell, remorse! all good to me is lost; \\nEvil, be thou my good; by thee at least \\nDivided empire with Heaven\\'s King I hold, \\nBy thee, and more than half perhaps will reign; \\nAs Man ere long, and this new world, shall know. \\nThus while he spake, each passion dimmed his face \\nThrice changed with pale, ire, envy, and despair; \\nWhich marred his borrowed visage, and betrayed \\nHim counterfeit, if any eye beheld. \\nFor heavenly minds from such distempers foul \\nAre ever clear.  Whereof he soon aware, \\nEach perturbation smoothed with outward calm, \\nArtificer of fraud; and was the first \\nThat practised falsehood under saintly show, \\nDeep malice to conceal, couched with revenge: \\nYet not enough had practised to deceive \\nUriel once warned; whose eye pursued him down \\n The way he went, and on the Assyrian mount \\n Saw him disfigured, more than could befall \\n Spirit of happy sort; his gestures fierce \\n He marked and mad demeanour, then alone, \\n As he supposed, all unobserved, unseen. \\n So on he fares, and to the border comes \\n Of Eden, where delicious Paradise, \\n Now nearer, crowns with her enclosure green, \\n As with a rural mound, the champaign head \\n Of a steep wilderness, whose hairy sides \\nAccess denied; and overhead upgrew \\n Insuperable height of loftiest shade, \\n Cedar, and pine, and fir, and branching palm, \\n A sylvan scene, and, as the ranks ascend, \\n Shade above shade, a woody theatre \\n Of stateliest view. Yet higher than their tops \\n The verdurous wall of Paradise upsprung;                        \\n \\n    00081429  \\nWhich to our general sire gave prospect large \\nInto his nether empire neighbouring round. \\nAnd higher than that wall a circling row \\nOf goodliest trees, loaden with fairest fruit, \\nBlossoms and fruits at once of golden hue, \\nAppeared, with gay enamelled colours mixed: \\nOn which the sun more glad impressed his beams \\nThan in fair evening cloud, or humid bow, \\nWhen God hath showered the earth; so lovely seemed \\nThat landskip:  And of pure now purer air \\nMeets his approach, and to the heart inspires \\nVernal delight and joy, able to drive \\nAll sadness but despair:  Now gentle gales, \\nFanning their odoriferous wings, dispense \\nNative perfumes, and whisper whence they stole \\nThose balmy spoils.  As when to them who fail \\nBeyond the Cape of Hope, and now are past \\nMozambick, off at sea north-east winds blow \\nSabean odours from the spicy shore \\nOf Araby the blest; with such delay \\nWell pleased they slack their course, and many a league \\nCheered with the grateful smell old Ocean smiles: \\nSo entertained those odorous sweets the Fiend, \\nWho came their bane; though with them better pleased \\nThan Asmodeus with the fishy fume \\nThat drove him, though enamoured, from the spouse \\nOf Tobit\\'s son, and with a vengeance sent \\nFrom Media post to Egypt, there fast bound. \\nNow to the ascent of that steep savage hill \\nSatan had journeyed on, pensive and slow; \\nBut further way found none, so thick entwined, \\nAs one continued brake, the undergrowth \\nOf shrubs and tangling bushes had perplexed \\nAll path of man or beast that passed that way. \\nOne gate there only was, and that looked east \\nOn the other side: which when the arch-felon saw, \\nDue entrance he disdained; and, in contempt, \\nAt one flight bound high over-leaped all bound \\nOf hill or highest wall, and sheer within \\nLights on his feet.  As when a prowling wolf, \\nWhom hunger drives to seek new haunt for prey, \\nWatching where shepherds pen their flocks at eve \\nIn hurdled cotes amid the field secure, \\nLeaps o\\'er the fence with ease into the fold: \\nOr as a thief, bent to unhoard the cash \\nOf some rich burgher, whose substantial doors, \\nCross-barred and bolted fast, fear no assault, \\nIn at the window climbs, or o\\'er the tiles: \\nSo clomb this first grand thief into God\\'s fold; \\nSo since into his church lewd hirelings climb. \\nThence up he flew, and on the tree of life, \\nThe middle tree and highest there that grew, \\nSat like a cormorant; yet not true life \\nThereby regained, but sat devising death \\nTo them who lived; nor on the virtue thought \\nOf that life-giving plant, but only used \\nFor prospect, what well used had been the pledge \\nOf immortality.  So little knows \\nAny, but God alone, to value right \\nThe good before him, but perverts best things \\nTo worst abuse, or to their meanest use. \\nBeneath him with new wonder now he views, \\nTo all delight of human sense exposed, \\nIn narrow room, Nature\\'s whole wealth, yea more, \\nA Heaven on Earth:  For blissful Paradise \\nOf God the garden was, by him in the east \\nOf Eden planted; Eden stretched her line \\nFrom Auran eastward to the royal towers \\nOf great Seleucia, built by Grecian kings, \\nOf where the sons of Eden long before \\nDwelt in Telassar:  In this pleasant soil \\nHis far more pleasant garden God ordained; \\nOut of the fertile ground he caused to grow \\nAll trees of noblest kind for sight, smell, taste; \\nAnd all amid them stood the tree of life, \\nHigh eminent, blooming ambrosial fruit \\nOf vegetable gold; and next to life, \\nOur death, the tree of knowledge, grew fast by, \\nKnowledge of good bought dear by knowing ill. \\nSouthward through Eden went a river large, \\nNor changed his course, but through the shaggy hill \\nPassed underneath ingulfed; for God had thrown \\nThat mountain as his garden-mould high raised \\nUpon the rapid current, which, through veins \\nOf porous earth with kindly thirst up-drawn, \\nRose a fresh fountain, and with many a rill \\nWatered the garden; thence united fell \\nDown the steep glade, and met the nether flood, \\nWhich from his darksome passage now appears, \\nAnd now, divided into four main streams, \\nRuns diverse, wandering many a famous realm \\nAnd country, whereof here needs no account; \\nBut rather to tell how, if Art could tell, \\nHow from that sapphire fount the crisped brooks, \\nRolling on orient pearl and sands of gold, \\nWith mazy errour under pendant shades \\nRan nectar, visiting each plant, and fed \\nFlowers worthy of Paradise, which not nice Art \\nIn beds and curious knots, but Nature boon \\nPoured forth profuse on hill, and dale, and plain, \\nBoth where the morning sun first warmly smote \\nThe open field, and where the unpierced shade \\nImbrowned the noontide bowers:  Thus was this place \\nA happy rural seat of various view; \\nGroves whose rich trees wept odorous gums and balm, \\nOthers whose fruit, burnished with golden rind, \\nHung amiable, Hesperian fables true, \\nIf true, here only, and of delicious taste: \\nBetwixt them lawns, or level downs, and flocks \\nGrazing the tender herb, were interposed, \\nOr palmy hillock; or the flowery lap \\nOf some irriguous valley spread her store, \\nFlowers of all hue, and without thorn the rose: \\nAnother side, umbrageous grots and caves \\nOf cool recess, o\\'er which the mantling vine \\nLays forth her purple grape, and gently creeps \\nLuxuriant; mean while murmuring waters fall \\nDown the slope hills, dispersed, or in a lake, \\nThat to the fringed bank with myrtle crowned \\nHer crystal mirrour holds, unite their streams. \\nThe birds their quire apply; airs, vernal airs, \\nBreathing the smell of field and grove, attune \\nThe trembling leaves, while universal Pan, \\nKnit with the Graces and the Hours in dance, \\nLed on the eternal Spring.  Not that fair field \\nOf Enna, where Proserpine gathering flowers, \\nHerself a fairer flower by gloomy Dis \\nWas gathered, which cost Ceres all that pain \\nTo seek her through the world; nor that sweet grove \\nOf Daphne by Orontes, and the inspired \\nCastalian spring, might with this Paradise \\nOf Eden strive; nor that Nyseian isle \\nGirt with the river Triton, where old Cham, \\nWhom Gentiles Ammon call and Libyan Jove, \\nHid Amalthea, and her florid son \\nYoung Bacchus, from his stepdame Rhea\\'s eye; \\nNor where Abassin kings their issue guard, \\nMount Amara, though this by some supposed \\nTrue Paradise under the Ethiop line \\nBy Nilus\\' head, enclosed with shining rock, \\nA whole day\\'s journey high, but wide remote \\nFrom this Assyrian garden, where the Fiend \\nSaw, undelighted, all delight, all kind \\nOf living creatures, new to sight, and strange \\nTwo of far nobler shape, erect and tall, \\nGodlike erect, with native honour clad \\nIn naked majesty seemed lords of all: \\nAnd worthy seemed; for in their looks divine \\nThe image of their glorious Maker shone, \\nTruth, wisdom, sanctitude severe and pure, \\n(Severe, but in true filial freedom placed,) \\nWhence true authority in men; though both \\nNot equal, as their sex not equal seemed; \\nFor contemplation he and valour formed; \\nFor softness she and sweet attractive grace; \\nHe for God only, she for God in him: \\nHis fair large front and eye sublime declared \\nAbsolute rule; and hyacinthine locks \\nRound from his parted forelock manly hung \\nClustering, but not beneath his shoulders broad: \\nShe, as a veil, down to the slender waist \\nHer unadorned golden tresses wore \\nDishevelled, but in wanton ringlets waved \\nAs the vine curls her tendrils, which implied \\nSubjection, but required with gentle sway, \\nAnd by her yielded, by him best received, \\nYielded with coy submission, modest pride, \\nAnd sweet, reluctant, amorous delay. \\nNor those mysterious parts were then concealed; \\nThen was not guilty shame, dishonest shame \\nOf nature\\'s works, honour dishonourable, \\nSin-bred, how have ye troubled all mankind \\nWith shows instead, mere shows of seeming pure, \\nAnd banished from man\\'s life his happiest life, \\nSimplicity and spotless innocence! \\nSo passed they naked on, nor shunned the sight \\nOf God or Angel; for they thought no ill: \\nSo hand in hand they passed, the loveliest pair, \\nThat ever since in love\\'s embraces met; \\nAdam the goodliest man of men since born \\nHis sons, the fairest of her daughters Eve. \\nUnder a tuft of shade that on a green \\nStood whispering soft, by a fresh fountain side \\nThey sat them down; and, after no more toil \\nOf their sweet gardening labour than sufficed \\nTo recommend cool Zephyr, and made ease \\nMore easy, wholesome thirst and appetite \\nMore grateful, to their supper-fruits they fell, \\nNectarine fruits which the compliant boughs \\nYielded them, side-long as they sat recline \\nOn the soft downy bank damasked with flowers: \\nThe savoury pulp they chew, and in the rind, \\nStill as they thirsted, scoop the brimming stream; \\nNor gentle purpose, nor endearing smiles \\nWanted, nor youthful dalliance, as beseems \\nFair couple, linked in happy nuptial league, \\nAlone as they.  About them frisking played \\nAll beasts of the earth, since wild, and of all chase \\nIn wood or wilderness, forest or den; \\nSporting the lion ramped, and in his paw \\nDandled the kid; bears, tigers, ounces, pards, \\nGambolled before them; the unwieldy elephant, \\nTo make them mirth, used all his might, and wreathed \\nHis?kithetmroboscis; close the serpent sly, \\nInsinuating, wove with Gordian twine \\nHis braided train, and of his fatal guile \\nGave proof unheeded; others on the grass \\nCouched, and now filled with pasture gazing sat, \\nOr bedward ruminating; for the sun, \\nDeclined, was hasting now with prone career \\nTo the ocean isles, and in the ascending scale \\nOf Heaven the stars that usher evening rose: \\nWhen Satan still in gaze, as first he stood, \\nScarce thus at length failed speech recovered sad. \\nO Hell! what do mine eyes with grief behold! \\nInto our room of bliss thus high advanced \\nCreatures of other mould, earth-born perhaps, \\nNot Spirits, yet to heavenly Spirits bright \\nLittle inferiour; whom my thoughts pursue \\nWith wonder, and could love, so lively shines \\nIn them divine resemblance, and such grace \\nThe hand that formed them on their shape hath poured. \\nAh! gentle pair, ye little think how nigh \\nYour change approaches, when all these delights \\nWill vanish, and deliver ye to woe; \\nMore woe, the more your taste is now of joy; \\nHappy, but for so happy ill secured \\nLong to continue, and this high seat your Heaven \\nIll fenced for Heaven to keep out such a foe \\nAs now is entered; yet no purposed foe \\nTo you, whom I could pity thus forlorn, \\nThough I unpitied:  League with you I seek, \\nAnd mutual amity, so strait, so close, \\nThat I with you must dwell, or you with me \\nHenceforth; my dwelling haply may not please, \\nLike this fair Paradise, your sense; yet such \\nAccept your Maker\\'s work; he gave it me, \\nWhich I as freely give:  Hell shall unfold, \\nTo entertain you two, her widest gates, \\nAnd send forth all her kings; there will be room, \\nNot like these narrow limits, to receive \\nYour numerous offspring; if no better place, \\nThank him who puts me loth to this revenge \\nOn you who wrong me not for him who wronged. \\nAnd should I at your harmless innocence \\nMelt, as I do, yet publick reason just, \\nHonour and empire with revenge enlarged, \\nBy conquering this new world, compels me now \\nTo do what else, though damned, I should abhor. \\nSo spake the Fiend, and with necessity, \\nThe tyrant\\'s plea, excused his devilish deeds. \\nThen from his lofty stand on that high tree \\nDown he alights among the sportful herd \\nOf those four-footed kinds, himself now one, \\nNow other, as their shape served best his end \\nNearer to view his prey, and, unespied, \\nTo mark what of their state he more might learn, \\nBy word or action marked. About them round \\nA lion now he stalks with fiery glare; \\nThen as a tiger, who by chance hath spied \\nIn some purlieu two gentle fawns at play, \\nStraight couches close, then, rising, changes oft \\nHis couchant watch, as one who chose his ground, \\nWhence rushing, he might surest seize them both, \\nGriped in each paw: when, Adam first of men \\nTo first of women Eve thus moving speech, \\nTurned him, all ear to hear new utterance flow. \\nSole partner, and sole part, of all these joys, \\nDearer thyself than all; needs must the Power \\nThat made us, and for us this ample world, \\nBe infinitely good, and of his good \\nAs liberal and free as infinite; \\nThat raised us from the dust, and placed us here \\nIn all this happiness, who at his hand \\nHave nothing merited, nor can perform \\nAught whereof he hath need; he who requires \\nFrom us no other service than to keep \\nThis one, this easy charge, of all the trees \\nIn Paradise that bear delicious fruit \\nSo various, not to taste that only tree \\nOf knowledge, planted by the tree of life; \\nSo near grows death to life, whate\\'er death is, \\nSome dreadful thing no doubt; for well thou knowest \\nGod hath pronounced it death to taste that tree, \\nThe only sign of our obedience left, \\nAmong so many signs of power and rule \\nConferred upon us, and dominion given \\nOver all other creatures that possess \\nEarth, air, and sea.  Then let us not think hard \\nOne easy prohibition, who enjoy \\nFree leave so large to all things else, and choice \\nUnlimited of manifold delights: \\nBut let us ever praise him, and extol \\nHis bounty, following our delightful task, \\nTo prune these growing plants, and tend these flowers, \\nWhich were it toilsome, yet with thee were sweet. \\nTo whom thus Eve replied.  O thou for whom \\nAnd from whom I was formed, flesh of thy flesh, \\nAnd without whom am to no end, my guide \\nAnd head! what thou hast said is just and right. \\nFor we to him indeed all praises owe, \\nAnd daily thanks; I chiefly, who enjoy \\nSo far the happier lot, enjoying thee \\nPre-eminent by so much odds, while thou \\nLike consort to thyself canst no where find. \\nThat day I oft remember, when from sleep \\nI first awaked, and found myself reposed \\nUnder a shade on flowers, much wondering where \\nAnd what I was, whence thither brought, and how. \\nNot distant far from thence a murmuring sound \\nOf waters issued from a cave, and spread \\nInto a liquid plain, then stood unmoved \\nPure as the expanse of Heaven; I thither went \\nWith unexperienced thought, and laid me down \\nOn the green bank, to look into the clear \\nSmooth lake, that to me seemed another sky. \\nAs I bent down to look, just opposite \\nA shape within the watery gleam appeared, \\nBending to look on me:  I started back, \\nIt started back; but pleased I soon returned, \\nPleased it returned as soon with answering looks \\nOf sympathy and love:  There I had fixed \\nMine eyes till now, and pined with vain desire, \\nHad not a voice thus warned me;  \\'What thou seest, \\n\\'What there thou seest, fair Creature, is thyself; \\n\\'With thee it came and goes: but follow me, \\n\\'And I will bring thee where no shadow stays \\n\\'Thy coming, and thy soft embraces, he \\n\\'Whose image thou art; him thou shalt enjoy \\n\\'Inseparably thine, to him shalt bear \\n\\'Multitudes like thyself, and thence be called \\n\\'Mother of human race.\\'  What could I do, \\nBut follow straight, invisibly thus led? \\nTill I espied thee, fair indeed and tall, \\nUnder a platane; yet methought less fair, \\nLess winning soft, less amiably mild, \\nThan that smooth watery image:  Back I turned; \\nThou following cryedst aloud, \\'Return, fair Eve; \\n\\'Whom flyest thou?  whom thou flyest, of him thou art, \\n\\'His flesh, his bone; to give thee being I lent \\n\\'Out of my side to thee, nearest my heart, \\n\\'Substantial life, to have thee by my side \\n\\'Henceforth an individual solace dear; \\n\\'Part of my soul I seek thee, and thee claim \\n\\'My other half:\\'  With that thy gentle hand \\nSeised mine:  I yielded;and from that time see \\nHow beauty is excelled by manly grace, \\nAnd wisdom, which alone is truly fair. \\nSo spake our general mother, and with eyes \\nOf conjugal attraction unreproved, \\nAnd meek surrender, half-embracing leaned \\nOn our first father; half her swelling breast \\nNaked met his, under the flowing gold \\nOf her loose tresses hid: he in delight \\nBoth of her beauty, and submissive charms, \\nSmiled with superiour love, as Jupiter \\nOn Juno smiles, when he impregns the clouds \\nThat shed Mayflowers; and pressed her matron lip \\nWith kisses pure:  Aside the Devil turned \\nFor envy; yet with jealous leer malign \\nEyed them askance, and to himself thus plained. \\nSight hateful, sight tormenting! thus these two, \\nImparadised in one another\\'s arms, \\nThe happier Eden, shall enjoy their fill \\nOf bliss on bliss; while I to Hell am thrust, \\nWhere neither joy nor love, but fierce desire, \\nAmong our other torments not the least, \\nStill unfulfilled with pain of longing pines. \\nYet let me not forget what I have gained \\nFrom their own mouths:  All is not theirs, it seems; \\nOne fatal tree there stands, of knowledge called, \\nForbidden them to taste:  Knowledge forbidden \\nSuspicious, reasonless.  Why should their Lord \\nEnvy them that?  Can it be sin to know? \\nCan it be death?  And do they only stand \\nBy ignorance?  Is that their happy state, \\nThe proof of their obedience and their faith? \\nO fair foundation laid whereon to build \\nTheir ruin! hence I will excite their minds \\nWith more desire to know, and to reject \\nEnvious commands, invented with design \\nTo keep them low, whom knowledge might exalt \\nEqual with Gods: aspiring to be such, \\nThey taste and die:  What likelier can ensue \\nBut first with narrow search I must walk round \\nThis garden, and no corner leave unspied; \\nA chance but chance may lead where I may meet \\nSome wandering Spirit of Heaven by fountain side, \\nOr in thick shade retired, from him to draw \\nWhat further would be learned.  Live while ye may, \\nYet happy pair; enjoy, till I return, \\nShort pleasures, for long woes are to succeed! \\nSo saying, his proud step he scornful turned, \\nBut with sly circumspection, and began \\nThrough wood, through waste, o\\'er hill, o\\'er dale, his roam \\nMean while in utmost longitude, where Heaven \\nWith earth and ocean meets, the setting sun \\nSlowly descended, and with right aspect \\nAgainst the eastern gate of Paradise \\nLevelled his evening rays:  It was a rock \\nOf alabaster, piled up to the clouds, \\nConspicuous far, winding with one ascent \\nAccessible from earth, one entrance high; \\nThe rest was craggy cliff, that overhung \\nStill as it rose, impossible to climb. \\nBetwixt these rocky pillars Gabriel sat, \\nChief of the angelick guards, awaiting night; \\nAbout him exercised heroick games \\nThe unarmed youth of Heaven, but nigh at hand \\nCelestial armoury, shields, helms, and spears, \\nHung high with diamond flaming, and with gold. \\nThither came Uriel, gliding through the even \\nOn a sun-beam, swift as a shooting star \\nIn autumn thwarts the night, when vapours fired \\nImpress the air, and shows the mariner \\nFrom what point of his compass to beware \\nImpetuous winds:  He thus began in haste. \\nGabriel, to thee thy course by lot hath given \\nCharge and strict watch, that to this happy place \\nNo evil thing approach or enter in. \\nThis day at highth of noon came to my sphere \\nA Spirit, zealous, as he seemed, to know \\nMore of the Almighty\\'s works, and chiefly Man, \\nGod\\'s latest image:  I described his way \\nBent all on speed, and marked his aery gait; \\nBut in the mount that lies from Eden north, \\nWhere he first lighted, soon discerned his looks \\nAlien from Heaven, with passions foul obscured: \\nMine eye pursued him still, but under shade \\nLost sight of him:  One of the banished crew, \\nI fear, hath ventured from the deep, to raise \\nNew troubles; him thy care must be to find. \\nTo whom the winged warriour thus returned. \\nUriel, no wonder if thy perfect sight, \\nAmid the sun\\'s bright circle where thou sitst, \\nSee far and wide:  In at this gate none pass \\nThe vigilance here placed, but such as come \\nWell known from Heaven; and since meridian hour \\nNo creature thence:  If Spirit of other sort, \\nSo minded, have o\\'er-leaped these earthly bounds \\nOn purpose, hard thou knowest it to exclude \\nSpiritual substance with corporeal bar. \\nBut if within the circuit of these walks, \\nIn whatsoever shape he lurk, of whom \\nThou tellest, by morrow dawning I shall know. \\nSo promised he; and Uriel to his charge \\nReturned on that bright beam, whose point now raised \\nBore him slope downward to the sun now fallen \\nBeneath the Azores; whether the prime orb, \\nIncredible how swift, had thither rolled \\nDiurnal, or this less volubil earth, \\nBy shorter flight to the east, had left him there \\nArraying with reflected purple and gold \\nThe clouds that on his western throne attend. \\nNow came still Evening on, and Twilight gray \\nHad in her sober livery all things clad; \\nSilence accompanied; for beast and bird, \\nThey to their grassy couch, these to their nests \\nWere slunk, all but the wakeful nightingale; \\nShe all night long her amorous descant sung; \\nSilence was pleased:  Now glowed the firmament \\nWith living sapphires:  Hesperus, that led \\nThe starry host, rode brightest, till the moon, \\nRising in clouded majesty, at length \\nApparent queen unveiled her peerless light, \\nAnd o\\'er the dark her silver mantle threw. \\nWhen Adam thus to Eve.  Fair Consort, the hour \\nOf night, and all things now retired to rest, \\nMind us of like repose; since God hath set \\nLabour and rest, as day and night, to men \\nSuccessive; and the timely dew of sleep, \\nNow falling with soft slumbrous weight, inclines \\nOur eye-lids:  Other creatures all day long \\nRove idle, unemployed, and less need rest; \\nMan hath his daily work of body or mind \\nAppointed, which declares his dignity, \\nAnd the regard of Heaven on all his ways; \\nWhile other animals unactive range, \\nAnd of their doings God takes no account. \\nTo-morrow, ere fresh morning streak the east \\nWith first approach of light, we must be risen, \\nAnd at our pleasant labour, to reform \\nYon flowery arbours, yonder alleys green, \\nOur walk at noon, with branches overgrown, \\nThat mock our scant manuring, and require \\nMore hands than ours to lop their wanton growth: \\nThose blossoms also, and those dropping gums, \\nThat lie bestrown, unsightly and unsmooth, \\nAsk riddance, if we mean to tread with ease; \\nMean while, as Nature wills, night bids us rest. \\nTo whom thus Eve, with perfect beauty adorned \\nMy Author and Disposer, what thou bidst \\nUnargued I obey:  So God ordains; \\nGod is thy law, thou mine:  To know no more \\nIs woman\\'s happiest knowledge, and her praise. \\nWith thee conversing I forget all time; \\nAll seasons, and their change, all please alike. \\nSweet is the breath of Morn, her rising sweet, \\nWith charm of earliest birds:  pleasant the sun, \\nWhen first on this delightful land he spreads \\nHis orient beams, on herb, tree, fruit, and flower, \\nGlistering with dew; fragrant the fertile earth \\nAfter soft showers; and sweet the coming on \\nOf grateful Evening mild; then silent Night, \\nWith this her solemn bird, and this fair moon, \\nAnd these the gems of Heaven, her starry train: \\nBut neither breath of Morn, when she ascends \\nWith charm of earliest birds; nor rising sun \\nOn this delightful land; nor herb, fruit, flower, \\nGlistering with dew; nor fragrance after showers; \\nNor grateful Evening mild; nor silent Night, \\nWith this her solemn bird, nor walk by moon, \\nOr glittering star-light, without thee is sweet. \\nBut wherefore all night long shine these? for whom \\nThis glorious sight, when sleep hath shut all eyes? \\nTo whom our general ancestor replied. \\nDaughter of God and Man, accomplished Eve, \\nThese have their course to finish round the earth, \\nBy morrow evening, and from land to land \\nIn order, though to nations yet unborn, \\nMinistring light prepared, they set and rise; \\nLest total Darkness should by night regain \\nHer old possession, and extinguish life \\nIn Nature and all things; which these soft fires \\nNot only enlighten, but with kindly heat \\nOf various influence foment and warm, \\nTemper or nourish, or in part shed down \\nTheir stellar virtue on all kinds that grow \\nOn earth, made hereby apter to receive \\nPerfection from the sun\\'s more potent ray. \\nThese then, though unbeheld in deep of night, \\nShine not in vain; nor think, though men were none, \\nThat Heaven would want spectators, God want praise: \\nMillions of spiritual creatures walk the earth \\nUnseen, both when we wake, and when we sleep: \\nAll these with ceaseless praise his works behold \\nBoth day and night:  How often from the steep \\nOf echoing hill or thicket have we heard \\nCelestial voices to the midnight air, \\nSole, or responsive each to others note, \\nSinging their great Creator? oft in bands \\nWhile they keep watch, or nightly rounding walk, \\nWith heavenly touch of instrumental sounds \\nIn full harmonick number joined, their songs \\nDivide the night, and lift our thoughts to Heaven. \\nThus talking, hand in hand alone they passed \\nOn to their blissful bower: it was a place \\nChosen by the sovran Planter, when he framed \\nAll things to Man\\'s delightful use; the roof \\nOf thickest covert was inwoven shade \\nLaurel and myrtle, and what higher grew \\nOf firm and fragrant leaf; on either side \\nAcanthus, and each odorous bushy shrub, \\nFenced up the verdant wall; each beauteous flower, \\nIris all hues, roses, and jessamin, \\nReared high their flourished heads between, and wrought \\nMosaick; underfoot the violet, \\nCrocus, and hyacinth, with rich inlay \\nBroidered the ground, more coloured than with stone \\nOf costliest emblem:  Other creature here, \\nBird, beast, insect, or worm, durst enter none, \\nSuch was their awe of Man.  In shadier bower \\nMore sacred and sequestered, though but feigned, \\nPan or Sylvanus never slept, nor Nymph \\nNor Faunus haunted.  Here, in close recess, \\nWith flowers, garlands, and sweet-smelling herbs, \\nEspoused Eve decked first her nuptial bed; \\nAnd heavenly quires the hymenaean sung, \\nWhat day the genial Angel to our sire \\nBrought her in naked beauty more adorned, \\nMore lovely, than Pandora, whom the Gods \\nEndowed with all their gifts, and O! too like \\nIn sad event, when to the unwiser son \\nOf Japhet brought by Hermes, she ensnared \\nMankind with her fair looks, to be avenged \\nOn him who had stole Jove\\'s authentick fire. \\nThus, at their shady lodge arrived, both stood, \\nBoth turned, and under open sky adored \\nThe God that made both sky, air, earth, and heaven, \\nWhich they beheld, the moon\\'s resplendent globe, \\nAnd starry pole:  Thou also madest the night, \\nMaker Omnipotent, and thou the day, \\nWhich we, in our appointed work employed, \\nHave finished, happy in our mutual help \\nAnd mutual love, the crown of all our bliss \\nOrdained by thee; and this delicious place \\nFor us too large, where thy abundance wants \\nPartakers, and uncropt falls to the ground. \\nBut thou hast promised from us two a race \\nTo fill the earth, who shall with us extol \\nThy goodness infinite, both when we wake, \\nAnd when we seek, as now, thy gift of sleep. \\nThis said unanimous, and other rites \\nObserving none, but adoration pure \\nWhich God likes best, into their inmost bower \\nHanded they went; and, eased the putting off \\nThese troublesome disguises which we wear, \\nStraight side by side were laid; nor turned, I ween, \\nAdam from his fair spouse, nor Eve the rites \\nMysterious of connubial love refused: \\nWhatever hypocrites austerely talk \\nOf purity, and place, and innocence, \\nDefaming as impure what God declares \\nPure, and commands to some, leaves free to all. \\nOur Maker bids encrease; who bids abstain \\nBut our Destroyer, foe to God and Man? \\nHail, wedded Love, mysterious law, true source \\nOf human offspring, sole propriety \\nIn Paradise of all things common else! \\nBy thee adulterous Lust was driven from men \\nAmong the bestial herds to range; by thee \\nFounded in reason, loyal, just, and pure, \\nRelations dear, and all the charities \\nOf father, son, and brother, first were known. \\nFar be it, that I should write thee sin or blame, \\nOr think thee unbefitting holiest place, \\nPerpetual fountain of domestick sweets, \\nWhose bed is undefiled and chaste pronounced, \\nPresent, or past, as saints and patriarchs used. \\nHere Love his golden shafts employs, here lights \\nHis constant lamp, and waves his purple wings, \\nReigns here and revels; not in the bought smile \\nOf harlots, loveless, joyless, unendeared, \\nCasual fruition; nor in court-amours, \\nMixed dance, or wanton mask, or midnight ball, \\nOr serenate, which the starved lover sings \\nTo his proud fair, best quitted with disdain. \\nThese, lulled by nightingales, embracing slept, \\nAnd on their naked limbs the flowery roof \\nShowered roses, which the morn repaired.  Sleep on, \\nBlest pair; and O!yet happiest, if ye seek \\nNo happier state, and know to know no more. \\nNow had night measured with her shadowy cone \\nHalf way up hill this vast sublunar vault, \\nAnd from their ivory port the Cherubim, \\nForth issuing at the accustomed hour, stood armed \\nTo their night watches in warlike parade; \\nWhen Gabriel to his next in power thus spake. \\nUzziel, half these draw off, and coast the south \\nWith strictest watch; these other wheel the north; \\nOur circuit meets full west.  As flame they part, \\nHalf wheeling to the shield, half to the spear. \\nFrom these, two strong and subtle Spirits he called \\nThat near him stood, and gave them thus in charge. \\nIthuriel and Zephon, with winged speed \\nSearch through this garden, leave unsearched no nook; \\nBut chiefly where those two fair creatures lodge, \\nNow laid perhaps asleep, secure of harm. \\nThis evening from the sun\\'s decline arrived, \\nWho tells of some infernal Spirit seen \\nHitherward bent (who could have thought?) escaped \\nThe bars of Hell, on errand bad no doubt: \\nSuch, where ye find, seise fast, and hither bring. \\nSo saying, on he led his radiant files, \\nDazzling the moon; these to the bower direct \\nIn search of whom they sought:  Him there they found \\nSquat like a toad, close at the ear of Eve, \\nAssaying by his devilish art to reach \\nThe organs of her fancy, and with them forge \\nIllusions, as he list, phantasms and dreams; \\nOr if, inspiring venom, he might taint \\nThe animal spirits, that from pure blood arise \\nLike gentle breaths from rivers pure, thence raise \\nAt least distempered, discontented thoughts, \\nVain hopes, vain aims, inordinate desires, \\nBlown up with high conceits ingendering pride. \\nHim thus intent Ithuriel with his spear \\nTouched lightly; for no falshood can endure \\nTouch of celestial temper, but returns \\nOf force to its own likeness:  Up he starts \\nDiscovered and surprised.  As when a spark \\nLights on a heap of nitrous powder, laid \\nFit for the tun some magazine to store \\nAgainst a rumoured war, the smutty grain, \\nWith sudden blaze diffused, inflames the air; \\nSo started up in his own shape the Fiend. \\nBack stept those two fair Angels, half amazed \\nSo sudden to behold the grisly king; \\nYet thus, unmoved with fear, accost him soon. \\nWhich of those rebel Spirits adjudged to Hell \\nComest thou, escaped thy prison? and, transformed, \\nWhy sat\\'st thou like an enemy in wait, \\nHere watching at the head of these that sleep? \\nKnow ye not then said Satan, filled with scorn, \\nKnow ye not me? ye knew me once no mate \\nFor you, there sitting where ye durst not soar: \\nNot to know me argues yourselves unknown, \\nThe lowest of your throng; or, if ye know, \\nWhy ask ye, and superfluous begin \\nYour message, like to end as much in vain? \\nTo whom thus Zephon, answering scorn with scorn. \\nThink not, revolted Spirit, thy shape the same, \\nOr undiminished brightness to be known, \\nAs when thou stoodest in Heaven upright and pure; \\nThat glory then, when thou no more wast good, \\nDeparted from thee; and thou resemblest now \\nThy sin and place of doom obscure and foul. \\nBut come, for thou, be sure, shalt give account \\nTo him who sent us, whose charge is to keep \\nThis place inviolable, and these from harm. \\nSo spake the Cherub; and his grave rebuke, \\nSevere in youthful beauty, added grace \\nInvincible:  Abashed the Devil stood, \\nAnd felt how awful goodness is, and saw \\nVirtue in her shape how lovely; saw, and pined \\nHis loss; but chiefly to find here observed \\nHis lustre visibly impaired; yet seemed \\nUndaunted.  If I must contend, said he, \\nBest with the best, the sender, not the sent, \\nOr all at once; more glory will be won, \\nOr less be lost.  Thy fear, said Zephon bold, \\nWill save us trial what the least can do \\nSingle against thee wicked, and thence weak. \\nThe Fiend replied not, overcome with rage; \\nBut, like a proud steed reined, went haughty on, \\nChamping his iron curb:  To strive or fly \\nHe held it vain; awe from above had quelled \\nHis heart, not else dismayed.  Now drew they nigh \\nThe western point, where those half-rounding guards \\nJust met, and closing stood in squadron joined, \\nA waiting next command.  To whom their Chief, \\nGabriel, from the front thus called aloud. \\nO friends!  I hear the tread of nimble feet \\nHasting this way, and now by glimpse discern \\nIthuriel and Zephon through the shade; \\nAnd with them comes a third of regal port, \\nBut faded splendour wan; who by his gait \\nAnd fierce demeanour seems the Prince of Hell, \\nNot likely to part hence without contest; \\nStand firm, for in his look defiance lours. \\nHe scarce had ended, when those two approached, \\nAnd brief related whom they brought, where found, \\nHow busied, in what form and posture couched. \\nTo whom with stern regard thus Gabriel spake. \\nWhy hast thou, Satan, broke the bounds prescribed \\nTo thy transgressions, and disturbed the charge \\nOf others, who approve not to transgress \\nBy thy example, but have power and right \\nTo question thy bold entrance on this place; \\nEmployed, it seems, to violate sleep, and those \\nWhose dwelling God hath planted here in bliss! \\nTo whom thus Satan with contemptuous brow. \\nGabriel? thou hadst in Heaven the esteem of wise, \\nAnd such I held thee; but this question asked \\nPuts me in doubt.  Lives there who loves his pain! \\nWho would not, finding way, break loose from Hell, \\nThough thither doomed!  Thou wouldst thyself, no doubt \\nAnd boldly venture to whatever place \\nFarthest from pain, where thou mightst hope to change \\nTorment with ease, and soonest recompense \\nDole with delight, which in this place I sought; \\nTo thee no reason, who knowest only good, \\nBut evil hast not tried: and wilt object \\nHis will who bounds us!  Let him surer bar \\nHis iron gates, if he intends our stay \\nIn that dark durance:  Thus much what was asked. \\nThe rest is true, they found me where they say; \\nBut that implies not violence or harm. \\nThus he in scorn.  The warlike Angel moved, \\nDisdainfully half smiling, thus replied. \\nO loss of one in Heaven to judge of wise \\nSince Satan fell, whom folly overthrew, \\nAnd now returns him from his prison \\'scaped, \\nGravely in doubt whether to hold them wise \\nOr not, who ask what boldness brought him hither \\nUnlicensed from his bounds in Hell prescribed; \\nSo wise he judges it to fly from pain \\nHowever, and to \\'scape his punishment! \\nSo judge thou still, presumptuous! till the wrath, \\nWhich thou incurrest by flying, meet thy flight \\nSevenfold, and scourge that wisdom back to Hell, \\nWhich taught thee yet no better, that no pain \\nCan equal anger infinite provoked. \\nBut wherefore thou alone? wherefore with thee \\nCame not all hell broke loose? or thou than they \\nLess hardy to endure?  Courageous Chief! \\nThe first in flight from pain! hadst thou alleged \\nTo thy deserted host this cause of flight, \\nThou surely hadst not come sole fugitive. \\nTo which the Fiend thus answered, frowning stern. \\nNot that I less endure, or shrink from pain, \\nInsulting Angel! well thou knowest I stood \\nThy fiercest, when in battle to thy aid \\nThe blasting vollied thunder made all speed, \\nAnd seconded thy else not dreaded spear. \\nBut still thy words at random, as before, \\nArgue thy inexperience what behoves \\nFrom hard assays and ill successes past \\nA faithful leader, not to hazard all \\nThrough ways of danger by himself untried: \\nI, therefore, I alone first undertook \\nTo wing the desolate abyss, and spy \\nThis new created world, whereof in Hell \\nFame is not silent, here in hope to find \\nBetter abode, and my afflicted Powers \\nTo settle here on earth, or in mid air; \\nThough for possession put to try once more \\nWhat thou and thy gay legions dare against; \\nWhose easier business were to serve their Lord \\nHigh up in Heaven, with songs to hymn his throne, \\nAnd practised distances to cringe, not fight, \\nTo whom the warriour Angel soon replied. \\nTo say and straight unsay, pretending first \\nWise to fly pain, professing next the spy, \\nArgues no leader but a liear traced, \\nSatan, and couldst thou faithful add?  O name, \\nO sacred name of faithfulness profaned! \\nFaithful to whom? to thy rebellious crew? \\nArmy of Fiends, fit body to fit head. \\nWas this your discipline and faith engaged, \\nYour military obedience, to dissolve \\nAllegiance to the acknowledged Power supreme? \\nAnd thou, sly hypocrite, who now wouldst seem \\nPatron of liberty, who more than thou \\nOnce fawned, and cringed, and servily adored \\nHeaven\\'s awful Monarch? wherefore, but in hope \\nTo dispossess him, and thyself to reign? \\nBut mark what I arreed thee now, Avant; \\nFly neither whence thou fledst!  If from this hour \\nWithin these hallowed limits thou appear, \\nBack to the infernal pit I drag thee chained, \\nAnd seal thee so, as henceforth not to scorn \\nThe facile gates of Hell too slightly barred. \\nSo threatened he; but Satan to no threats \\nGave heed, but waxing more in rage replied. \\nThen when I am thy captive talk of chains, \\nProud limitary Cherub! but ere then \\nFar heavier load thyself expect to feel \\nFrom my prevailing arm, though Heaven\\'s King \\nRide on thy wings, and thou with thy compeers, \\nUs\\'d to the yoke, drawest his triumphant wheels \\nIn progress through the road of Heaven star-paved. \\nWhile thus he spake, the angelick squadron bright \\nTurned fiery red, sharpening in mooned horns \\nTheir phalanx, and began to hem him round \\nWith ported spears, as thick as when a field \\nOf Ceres ripe for harvest waving bends \\nHer bearded grove of ears, which way the wind \\nSways them; the careful plowman doubting stands, \\nLeft on the threshing floor his hopeless sheaves \\nProve chaff.  On the other side, Satan, alarmed, \\nCollecting all his might, dilated stood, \\nLike Teneriff or Atlas, unremoved: \\nHis stature reached the sky, and on his crest \\nSat Horrour plumed; nor wanted in his grasp \\nWhat seemed both spear and shield:  Now dreadful deeds \\nMight have ensued, nor only Paradise \\nIn this commotion, but the starry cope \\nOf Heaven perhaps, or all the elements \\nAt least had gone to wrack, disturbed and torn \\nWith violence of this conflict, had not soon \\nThe Eternal, to prevent such horrid fray, \\nHung forth in Heaven his golden scales, yet seen \\nBetwixt Astrea and the Scorpion sign, \\nWherein all things created first he weighed, \\nThe pendulous round earth with balanced air \\nIn counterpoise, now ponders all events, \\nBattles and realms:  In these he put two weights, \\nThe sequel each of parting and of fight: \\nThe latter quick up flew, and kicked the beam, \\nWhich Gabriel spying, thus bespake the Fiend. \\nSatan, I know thy strength, and thou knowest mine; \\nNeither our own, but given:  What folly then \\nTo boast what arms can do? since thine no more \\nThan Heaven permits, nor mine, though doubled now \\nTo trample thee as mire:  For proof look up, \\nAnd read thy lot in yon celestial sign; \\nWhere thou art weighed, and shown how light, how weak, \\nIf thou resist.  The Fiend looked up, and knew \\nHis mounted scale aloft:  Nor more;but fled \\nMurmuring, and with him fled the shades of night. \\n \\n \\n \\nBook V                                                           \\n \\n \\nNow Morn, her rosy steps in the eastern clime \\nAdvancing, sowed the earth with orient pearl, \\nWhen Adam waked, so customed; for his sleep \\nWas aery-light, from pure digestion bred, \\nAnd temperate vapours bland, which the only sound \\nOf leaves and fuming rills, Aurora\\'s fan, \\nLightly dispersed, and the shrill matin song \\nOf birds on every bough; so much the more \\nHis wonder was to find unwakened Eve \\nWith tresses discomposed, and glowing cheek, \\nAs through unquiet rest:  He, on his side \\nLeaning half raised, with looks of cordial love \\nHung over her enamoured, and beheld \\nBeauty, which, whether waking or asleep, \\nShot forth peculiar graces; then with voice \\nMild, as when Zephyrus on Flora breathes, \\nHer hand soft touching, whispered thus.  Awake, \\nMy fairest, my espoused, my latest found, \\nHeaven\\'s last best gift, my ever new delight! \\nAwake:  The morning shines, and the fresh field \\nCalls us; we lose the prime, to mark how spring \\nOur tender plants, how blows the citron grove, \\nWhat drops the myrrh, and what the balmy reed, \\nHow nature paints her colours, how the bee \\nSits on the bloom extracting liquid sweet. \\nSuch whispering waked her, but with startled eye \\nOn Adam, whom embracing, thus she spake. \\nO sole in whom my thoughts find all repose, \\nMy glory, my perfection! glad I see \\nThy face, and morn returned; for I this night \\n(Such night till this I never passed) have dreamed, \\nIf dreamed, not, as I oft am wont, of thee, \\nWorks of day past, or morrow\\'s next design, \\nBut of offence and trouble, which my mind \\nKnew never till this irksome night:  Methought, \\nClose at mine ear one called me forth to walk \\nWith gentle voice;  I thought it thine: It said, \\n\\'Why sleepest thou, Eve? now is the pleasant time, \\n\\'The cool, the silent, save where silence yields \\n\\'To the night-warbling bird, that now awake \\n\\'Tunes sweetest his love-laboured song; now reigns \\n\\'Full-orbed the moon, and with more pleasing light \\n\\'Shadowy sets off the face of things; in vain, \\n\\'If none regard; Heaven wakes with all his eyes, \\n\\'Whom to behold but thee, Nature\\'s desire? \\n\\'In whose sight all things joy, with ravishment \\n\\'Attracted by thy beauty still to gaze.\\' \\nI rose as at thy call, but found thee not; \\nTo find thee I directed then my walk; \\nAnd on, methought, alone I passed through ways \\nThat brought me on a sudden to the tree \\nOf interdicted knowledge: fair it seemed, \\nMuch fairer to my fancy than by day: \\nAnd, as I wondering looked, beside it stood \\nOne shaped and winged like one of those from Heaven \\nBy us oft seen; his dewy locks distilled \\nAmbrosia; on that tree he also gazed; \\nAnd \\'O fair plant,\\' said he, \\'with fruit surcharged, \\n\\'Deigns none to ease thy load, and taste thy sweet, \\n\\'Nor God, nor Man?  Is knowledge so despised? \\n\\'Or envy, or what reserve forbids to taste? \\n\\'Forbid who will, none shall from me withhold \\n\\'Longer thy offered good; why else set here? \\nThis said, he paused not, but with venturous arm \\nHe plucked, he tasted; me damp horrour chilled \\nAt such bold words vouched with a deed so bold: \\nBut he thus, overjoyed; \\'O fruit divine, \\n\\'Sweet of thyself, but much more sweet thus cropt, \\n\\'Forbidden here, it seems, as only fit \\n\\'For Gods, yet able to make Gods of Men: \\n\\'And why not Gods of Men; since good, the more \\n\\'Communicated, more abundant grows, \\n\\'The author not impaired, but honoured more? \\n\\'Here, happy creature, fair angelick Eve! \\n\\'Partake thou also; happy though thou art, \\n\\'Happier thou mayest be, worthier canst not be: \\n\\'Taste this, and be henceforth among the Gods \\n\\'Thyself a Goddess, not to earth confined, \\n\\'But sometimes in the air, as we, sometimes \\n\\'Ascend to Heaven, by merit thine, and see \\n\\'What life the Gods live there, and such live thou!\\' \\nSo saying, he drew nigh, and to me held, \\nEven to my mouth of that same fruit held part \\nWhich he had plucked; the pleasant savoury smell \\nSo quickened appetite, that I, methought, \\nCould not but taste.  Forthwith up to the clouds \\nWith him I flew, and underneath beheld \\nThe earth outstretched immense, a prospect wide \\nAnd various:  Wondering at my flight and change \\nTo this high exaltation; suddenly \\nMy guide was gone, and I, methought, sunk down, \\nAnd fell asleep; but O, how glad I waked \\nTo find this but a dream!  Thus Eve her night \\nRelated, and thus Adam answered sad. \\nBest image of myself, and dearer half, \\nThe trouble of thy thoughts this night in sleep \\nAffects me equally; nor can I like \\nThis uncouth dream, of evil sprung, I fear; \\nYet evil whence? in thee can harbour none, \\nCreated pure.  But know that in the soul \\nAre many lesser faculties, that serve \\nReason as chief; among these Fancy next \\nHer office holds; of all external things \\nWhich the five watchful senses represent, \\nShe forms imaginations, aery shapes, \\nWhich Reason, joining or disjoining, frames \\nAll what we affirm or what deny, and call \\nOur knowledge or opinion; then retires \\nInto her private cell, when nature rests. \\nOft in her absence mimick Fancy wakes \\nTo imitate her; but, misjoining shapes, \\nWild work produces oft, and most in dreams; \\nIll matching words and deeds long past or late. \\nSome such resemblances, methinks, I find \\nOf our last evening\\'s talk, in this thy dream, \\nBut with addition strange; yet be not sad. \\nEvil into the mind of God or Man \\nMay come and go, so unreproved, and leave \\nNo spot or blame behind:  Which gives me hope \\nThat what in sleep thou didst abhor to dream, \\nWaking thou never will consent to do. \\nBe not disheartened then, nor cloud those looks, \\nThat wont to be more cheerful and serene, \\nThan when fair morning first smiles on the world; \\nAnd let us to our fresh employments rise \\nAmong the groves, the fountains, and the flowers \\nThat open now their choisest bosomed smells, \\nReserved from night, and kept for thee in store. \\nSo cheered he his fair spouse, and she was cheered; \\nBut silently a gentle tear let fall \\nFrom either eye, and wiped them with her hair; \\nTwo other precious drops that ready stood, \\nEach in their crystal sluice, he ere they fell \\nKissed, as the gracious signs of sweet remorse \\nAnd pious awe, that feared to have offended. \\nSo all was cleared, and to the field they haste. \\nBut first, from under shady arborous roof \\nSoon as they forth were come to open sight \\nOf day-spring, and the sun, who, scarce up-risen, \\nWith wheels yet hovering o\\'er the ocean-brim, \\nShot parallel to the earth his dewy ray, \\nDiscovering in wide landskip all the east \\nOf Paradise and Eden\\'s happy plains, \\nLowly they bowed adoring, and began \\nTheir orisons, each morning duly paid \\nIn various style; for neither various style \\nNor holy rapture wanted they to praise \\nTheir Maker, in fit strains pronounced, or sung \\nUnmeditated; such prompt eloquence \\nFlowed from their lips, in prose or numerous verse, \\nMore tuneable than needed lute or harp \\nTo add more sweetness; and they thus began. \\nThese are thy glorious works, Parent of good, \\nAlmighty!  Thine this universal frame, \\nThus wonderous fair;  Thyself how wonderous then! \\nUnspeakable, who sitst above these heavens \\nTo us invisible, or dimly seen \\nIn these thy lowest works; yet these declare \\nThy goodness beyond thought, and power divine. \\nSpeak, ye who best can tell, ye sons of light, \\nAngels; for ye behold him, and with songs \\nAnd choral symphonies, day without night, \\nCircle his throne rejoicing; ye in Heaven \\nOn Earth join all ye Creatures to extol \\nHim first, him last, him midst, and without end. \\nFairest of stars, last in the train of night, \\nIf better thou belong not to the dawn, \\nSure pledge of day, that crownest the smiling morn \\nWith thy bright circlet, praise him in thy sphere, \\nWhile day arises, that sweet hour of prime. \\nThou Sun, of this great world both eye and soul, \\nAcknowledge him thy greater; sound his praise \\nIn thy eternal course, both when thou climbest, \\nAnd when high noon hast gained, and when thou fallest. \\nMoon, that now meetest the orient sun, now flyest, \\nWith the fixed Stars, fixed in their orb that flies; \\nAnd ye five other wandering Fires, that move \\nIn mystick dance not without song, resound \\nHis praise, who out of darkness called up light. \\nAir, and ye Elements, the eldest birth \\nOf Nature\\'s womb, that in quaternion run \\nPerpetual circle, multiform; and mix \\nAnd nourish all things; let your ceaseless change \\nVary to our great Maker still new praise. \\nYe Mists and Exhalations, that now rise \\nFrom hill or steaming lake, dusky or gray, \\nTill the sun paint your fleecy skirts with gold, \\nIn honour to the world\\'s great Author rise; \\nWhether to deck with clouds the uncoloured sky, \\nOr wet the thirsty earth with falling showers, \\nRising or falling still advance his praise. \\nHis praise, ye Winds, that from four quarters blow, \\nBreathe soft or loud; and, wave your tops, ye Pines, \\nWith every plant, in sign of worship wave. \\nFountains, and ye that warble, as ye flow, \\nMelodious murmurs, warbling tune his praise. \\nJoin voices, all ye living Souls:  Ye Birds, \\nThat singing up to Heaven-gate ascend, \\nBear on your wings and in your notes his praise. \\nYe that in waters glide, and ye that walk \\nThe earth, and stately tread, or lowly creep; \\nWitness if I be silent, morn or even, \\nTo hill, or valley, fountain, or fresh shade, \\nMade vocal by my song, and taught his praise. \\nHail, universal Lord, be bounteous still \\nTo give us only good; and if the night \\nHave gathered aught of evil, or concealed, \\nDisperse it, as now light dispels the dark! \\nSo prayed they innocent, and to their thoughts \\nFirm peace recovered soon, and wonted calm. \\nOn to their morning\\'s rural work they haste, \\nAmong sweet dews and flowers; where any row \\nOf fruit-trees over-woody reached too far \\nTheir pampered boughs, and needed hands to check \\nFruitless embraces: or they led the vine \\nTo wed her elm; she, spoused, about him twines \\nHer marriageable arms, and with him brings \\nHer dower, the adopted clusters, to adorn \\nHis barren leaves.  Them thus employed beheld \\nWith pity Heaven\\'s high King, and to him called \\nRaphael, the sociable Spirit, that deigned \\nTo travel with Tobias, and secured \\nHis marriage with the seventimes-wedded maid. \\nRaphael, said he, thou hearest what stir on Earth \\nSatan, from Hell \\'scaped through the darksome gulf, \\nHath raised in Paradise; and how disturbed \\nThis night the human pair; how he designs \\nIn them at once to ruin all mankind. \\nGo therefore, half this day as friend with friend \\nConverse with Adam, in what bower or shade \\nThou findest him from the heat of noon retired, \\nTo respite his day-labour with repast, \\nOr with repose; and such discourse bring on, \\nAs may advise him of his happy state, \\nHappiness in his power left free to will, \\nLeft to his own free will, his will though free, \\nYet mutable; whence warn him to beware \\nHe swerve not, too secure:  Tell him withal \\nHis danger, and from whom; what enemy, \\nLate fallen himself from Heaven, is plotting now \\nThe fall of others from like state of bliss; \\nBy violence? no, for that shall be withstood; \\nBut by deceit and lies:  This let him know, \\nLest, wilfully transgressing, he pretend \\nSurprisal, unadmonished, unforewarned. \\nSo spake the Eternal Father, and fulfilled \\nAll justice:  Nor delayed the winged Saint \\nAfter his charge received; but from among \\nThousand celestial Ardours, where he stood \\nVeiled with his gorgeous wings, up springing light, \\nFlew through the midst of Heaven; the angelick quires, \\nOn each hand parting, to his speed gave way \\nThrough all the empyreal road; till, at the gate \\nOf Heaven arrived, the gate self-opened wide \\nOn golden hinges turning, as by work \\nDivine the sovran Architect had framed. \\nFrom hence no cloud, or, to obstruct his sight, \\nStar interposed, however small he sees, \\nNot unconformed to other shining globes, \\nEarth, and the garden of God, with cedars crowned \\nAbove all hills.  As when by night the glass \\nOf Galileo, less assured, observes \\nImagined lands and regions in the moon: \\nOr pilot, from amidst the Cyclades \\nDelos or Samos first appearing, kens \\nA cloudy spot.  Down thither prone in flight \\nHe speeds, and through the vast ethereal sky \\nSails between worlds and worlds, with steady wing \\nNow on the polar winds, then with quick fan \\nWinnows the buxom air; till, within soar \\nOf towering eagles, to all the fowls he seems \\nA phoenix, gazed by all as that sole bird, \\nWhen, to enshrine his reliques in the Sun\\'s \\nBright temple, to Egyptian Thebes he flies. \\nAt once on the eastern cliff of Paradise \\nHe lights, and to his proper shape returns \\nA Seraph winged:  Six wings he wore, to shade \\nHis lineaments divine; the pair that clad \\nEach shoulder broad, came mantling o\\'er his breast \\nWith regal ornament; the middle pair \\nGirt like a starry zone his waist, and round \\nSkirted his loins and thighs with downy gold \\nAnd colours dipt in Heaven; the third his feet \\nShadowed from either heel with feathered mail, \\nSky-tinctured grain.  Like Maia\\'s son he stood, \\nAnd shook his plumes, that heavenly fragrance filled \\nThe circuit wide.  Straight knew him all the bands \\nOf Angels under watch; and to his state, \\nAnd to his message high, in honour rise; \\nFor on some message high they guessed him bound. \\nTheir glittering tents he passed, and now is come \\nInto the blissful field, through groves of myrrh, \\nAnd flowering odours, cassia, nard, and balm; \\nA wilderness of sweets; for Nature here \\nWantoned as in her prime, and played at will \\nHer virgin fancies pouring forth more sweet, \\nWild above rule or art, enormous bliss. \\nHim through the spicy forest onward come \\nAdam discerned, as in the door he sat \\nOf his cool bower, while now the mounted sun \\nShot down direct his fervid rays to warm \\nEarth\\'s inmost womb, more warmth than Adam needs: \\nAnd Eve within, due at her hour prepared \\nFor dinner savoury fruits, of taste to please \\nTrue appetite, and not disrelish thirst \\nOf nectarous draughts between, from milky stream, \\nBerry or grape:  To whom thus Adam called. \\nHaste hither, Eve, and worth thy sight behold \\nEastward among those trees, what glorious shape \\nComes this way moving; seems another morn \\nRisen on mid-noon; some great behest from Heaven \\nTo us perhaps he brings, and will vouchsafe \\nThis day to be our guest.  But go with speed, \\nAnd, what thy stores contain, bring forth, and pour \\nAbundance, fit to honour and receive \\nOur heavenly stranger:  Well we may afford \\nOur givers their own gifts, and large bestow \\nFrom large bestowed, where Nature multiplies \\nHer fertile growth, and by disburthening grows \\nMore fruitful, which instructs us not to spare. \\nTo whom thus Eve.  Adam, earth\\'s hallowed mould, \\nOf God inspired! small store will serve, where store, \\nAll seasons, ripe for use hangs on the stalk; \\nSave what by frugal storing firmness gains \\nTo nourish, and superfluous moist consumes: \\nBut I will haste, and from each bough and brake, \\nEach plant and juciest gourd, will pluck such choice \\nTo entertain our Angel-guest, as he \\nBeholding shall confess, that here on Earth \\nGod hath dispensed his bounties as in Heaven. \\nSo saying, with dispatchful looks in haste \\nShe turns, on hospitable thoughts intent \\nWhat choice to choose for delicacy best, \\nWhat order, so contrived as not to mix \\nTastes, not well joined, inelegant, but bring \\nTaste after taste upheld with kindliest change; \\nBestirs her then, and from each tender stalk \\nWhatever Earth, all-bearing mother, yields \\nIn India East or West, or middle shore \\nIn Pontus or the Punick coast, or where \\nAlcinous reigned, fruit of all kinds, in coat \\nRough, or smooth rind, or bearded husk, or shell, \\nShe gathers, tribute large, and on the board \\nHeaps with unsparing hand; for drink the grape \\nShe crushes, inoffensive must, and meaths \\nFrom many a berry, and from sweet kernels pressed \\nShe tempers dulcet creams; nor these to hold \\nWants her fit vessels pure; then strows the ground \\nWith rose and odours from the shrub unfumed. \\nMean while our primitive great sire, to meet \\nHis God-like guest, walks forth, without more train \\nAccompanied than with his own complete \\nPerfections; in himself was all his state, \\nMore solemn than the tedious pomp that waits \\nOn princes, when their rich retinue long \\nOf horses led, and grooms besmeared with gold, \\nDazzles the croud, and sets them all agape. \\nNearer his presence Adam, though not awed, \\nYet with submiss approach and reverence meek, \\nAs to a superiour nature bowing low, \\nThus said.  Native of Heaven, for other place \\nNone can than Heaven such glorious shape contain; \\nSince, by descending from the thrones above, \\nThose happy places thou hast deigned a while \\nTo want, and honour these, vouchsafe with us \\nTwo only, who yet by sovran gift possess \\nThis spacious ground, in yonder shady bower \\nTo rest; and what the garden choicest bears \\nTo sit and taste, till this meridian heat \\nBe over, and the sun more cool decline. \\nWhom thus the angelick Virtue answered mild. \\nAdam, I therefore came; nor art thou such \\nCreated, or such place hast here to dwell, \\nAs may not oft invite, though Spirits of Heaven, \\nTo visit thee; lead on then where thy bower \\nO\\'ershades; for these mid-hours, till evening rise, \\nI have at will.  So to the sylvan lodge \\nThey came, that like Pomona\\'s arbour smiled, \\nWith flowerets decked, and fragrant smells; but Eve, \\nUndecked save with herself, more lovely fair \\nThan Wood-Nymph, or the fairest Goddess feigned \\nOf three that in mount Ida naked strove, \\nStood to entertain her guest from Heaven; no veil \\nShe needed, virtue-proof; no thought infirm \\nAltered her cheek.  On whom the Angel Hail \\nBestowed, the holy salutation used \\nLong after to blest Mary, second Eve. \\nHail, Mother of Mankind, whose fruitful womb \\nShall fill the world more numerous with thy sons, \\nThan with these various fruits the trees of God \\nHave heaped this table!--Raised of grassy turf \\nTheir table was, and mossy seats had round, \\nAnd on her ample square from side to side \\nAll autumn piled, though spring and autumn here \\nDanced hand in hand.  A while discourse they hold; \\nNo fear lest dinner cool; when thus began \\nOur author.  Heavenly stranger, please to taste \\nThese bounties, which our Nourisher, from whom \\nAll perfect good, unmeasured out, descends, \\nTo us for food and for delight hath caused \\nThe earth to yield; unsavoury food perhaps \\nTo spiritual natures; only this I know, \\nThat one celestial Father gives to all. \\nTo whom the Angel.  Therefore what he gives \\n(Whose praise be ever sung) to Man in part \\nSpiritual, may of purest Spirits be found \\nNo ingrateful food:  And food alike those pure \\nIntelligential substances require, \\nAs doth your rational; and both contain \\nWithin them every lower faculty \\nOf sense, whereby they hear, see, smell, touch, taste, \\nTasting concoct, digest, assimilate, \\nAnd corporeal to incorporeal turn. \\nFor know, whatever was created, needs \\nTo be sustained and fed:  Of elements \\nThe grosser feeds the purer, earth the sea, \\nEarth and the sea feed air, the air those fires \\nEthereal, and as lowest first the moon; \\nWhence in her visage round those spots, unpurged \\nVapours not yet into her substance turned. \\nNor doth the moon no nourishment exhale \\nFrom her moist continent to higher orbs. \\nThe sun that light imparts to all, receives \\nFrom all his alimental recompence \\nIn humid exhalations, and at even \\nSups with the ocean.  Though in Heaven the trees \\nOf life ambrosial fruitage bear, and vines \\nYield nectar; though from off the boughs each morn \\nWe brush mellifluous dews, and find the ground \\nCovered with pearly grain:  Yet God hath here \\nVaried his bounty so with new delights, \\nAs may compare with Heaven; and to taste \\nThink not I shall be nice.  So down they sat, \\nAnd to their viands fell; nor seemingly \\nThe Angel, nor in mist, the common gloss \\nOf Theologians; but with keen dispatch \\nOf real hunger, and concoctive heat \\nTo transubstantiate:  What redounds, transpires \\nThrough Spirits with ease; nor wonder;if by fire \\nOf sooty coal the empirick alchemist \\nCan turn, or holds it possible to turn, \\nMetals of drossiest ore to perfect gold, \\nAs from the mine.  Mean while at table Eve \\nMinistered naked, and their flowing cups \\nWith pleasant liquours crowned:  O innocence \\nDeserving Paradise! if ever, then, \\nThen had the sons of God excuse to have been \\nEnamoured at that sight; but in those hearts \\nLove unlibidinous reigned, nor jealousy \\nWas understood, the injured lover\\'s hell. \\nThus when with meats and drinks they had sufficed, \\nNot burdened nature, sudden mind arose \\nIn Adam, not to let the occasion pass \\nGiven him by this great conference to know \\nOf things above his world, and of their being \\nWho dwell in Heaven, whose excellence he saw \\nTranscend his own so far; whose radiant forms, \\nDivine effulgence, whose high power, so far \\nExceeded human; and his wary speech \\nThus to the empyreal minister he framed. \\nInhabitant with God, now know I well \\nThy favour, in this honour done to Man; \\nUnder whose lowly roof thou hast vouchsafed \\nTo enter, and these earthly fruits to taste, \\nFood not of Angels, yet accepted so, \\nAs that more willingly thou couldst not seem \\nAt Heaven\\'s high feasts to have fed: yet what compare \\nTo whom the winged Hierarch replied. \\nO Adam, One Almighty is, from whom \\nAll things proceed, and up to him return, \\nIf not depraved from good, created all \\nSuch to perfection, one first matter all, \\nEndued with various forms, various degrees \\nOf substance, and, in things that live, of life; \\nBut more refined, more spiritous, and pure, \\nAs nearer to him placed, or nearer tending \\nEach in their several active spheres assigned, \\nTill body up to spirit work, in bounds \\nProportioned to each kind.  So from the root \\nSprings lighter the green stalk, from thence the leaves \\nMore aery, last the bright consummate flower \\nSpirits odorous breathes: flowers and their fruit, \\nMan\\'s nourishment, by gradual scale sublimed, \\nTo vital spirits aspire, to animal, \\nTo intellectual; give both life and sense, \\nFancy and understanding; whence the soul \\nReason receives, and reason is her being, \\nDiscursive, or intuitive; discourse \\nIs oftest yours, the latter most is ours, \\nDiffering but in degree, of kind the same. \\nWonder not then, what God for you saw good \\nIf I refuse not, but convert, as you \\nTo proper substance.  Time may come, when Men \\nWith Angels may participate, and find \\nNo inconvenient diet, nor too light fare; \\nAnd from these corporal nutriments perhaps \\nYour bodies may at last turn all to spirit, \\nImproved by tract of time, and, winged, ascend \\nEthereal, as we; or may, at choice, \\nHere or in heavenly Paradises dwell; \\nIf ye be found obedient, and retain \\nUnalterably firm his love entire, \\nWhose progeny you are.  Mean while enjoy \\nYour fill what happiness this happy state \\nCan comprehend, incapable of more. \\nTo whom the patriarch of mankind replied. \\nO favourable Spirit, propitious guest, \\nWell hast thou taught the way that might direct \\nOur knowledge, and the scale of nature set \\nFrom center to circumference; whereon, \\nIn contemplation of created things, \\nBy steps we may ascend to God.  But say, \\nWhat meant that caution joined, If ye be found \\nObedient?  Can we want obedience then \\nTo him, or possibly his love desert, \\nWho formed us from the dust and placed us here \\nFull to the utmost measure of what bliss \\nHuman desires can seek or apprehend? \\nTo whom the Angel.  Son of Heaven and Earth, \\nAttend!  That thou art happy, owe to God; \\nThat thou continuest such, owe to thyself, \\nThat is, to thy obedience; therein stand. \\nThis was that caution given thee; be advised. \\nGod made thee perfect, not immutable; \\nAnd good he made thee, but to persevere \\nHe left it in thy power; ordained thy will \\nBy nature free, not over-ruled by fate \\nInextricable, or strict necessity: \\nOur voluntary service he requires, \\nNot our necessitated; such with him \\nFinds no acceptance, nor can find; for how \\nCan hearts, not free, be tried whether they serve \\nWilling or no, who will but what they must \\nBy destiny, and can no other choose? \\nMyself, and all the angelick host, that stand \\nIn sight of God, enthroned, our happy state \\nHold, as you yours, while our obedience holds; \\nOn other surety none:  Freely we serve, \\nBecause we freely love, as in our will \\nTo love or not; in this we stand or fall: \\nAnd some are fallen, to disobedience fallen, \\nAnd so from Heaven to deepest Hell; O fall \\nFrom what high state of bliss, into what woe! \\nTo whom our great progenitor.  Thy words \\nAttentive, and with more delighted ear, \\nDivine instructer, I have heard, than when \\nCherubick songs by night from neighbouring hills \\nAereal musick send:  Nor knew I not \\nTo be both will and deed created free; \\nYet that we never shall forget to love \\nOur Maker, and obey him whose command \\nSingle is yet so just, my constant thoughts \\nAssured me, and still assure:  Though what thou tellest \\nHath passed in Heaven, some doubt within me move, \\nBut more desire to hear, if thou consent, \\nThe full relation, which must needs be strange, \\nWorthy of sacred silence to be heard; \\nAnd we have yet large day, for scarce the sun \\nHath finished half his journey, and scarce begins \\nHis other half in the great zone of Heaven. \\nThus Adam made request; and Raphael, \\nAfter short pause assenting, thus began. \\nHigh matter thou enjoinest me, O prime of men, \\nSad task and hard:  For how shall I relate \\nTo human sense the invisible exploits \\nOf warring Spirits? how, without remorse, \\nThe ruin of so many glorious once \\nAnd perfect while they stood? how last unfold \\nThe secrets of another world, perhaps \\nNot lawful to reveal? yet for thy good \\nThis is dispensed; and what surmounts the reach \\nOf human sense, I shall delineate so, \\nBy likening spiritual to corporal forms, \\nAs may express them best; though what if Earth \\nBe but a shadow of Heaven, and things therein \\nEach to other like, more than on earth is thought? \\nAs yet this world was not, and Chaos wild \\nReigned where these Heavens now roll, where Earth now rests \\nUpon her center poised; when on a day \\n(For time, though in eternity, applied \\nTo motion, measures all things durable \\nBy present, past, and future,) on such day \\nAs Heaven\\'s great year brings forth, the empyreal host \\nOf Angels by imperial summons called, \\nInnumerable before the Almighty\\'s throne \\nForthwith, from all the ends of Heaven, appeared \\nUnder their Hierarchs in orders bright: \\nTen thousand thousand ensigns high advanced, \\nStandards and gonfalons \\'twixt van and rear \\nStream in the air, and for distinction serve \\nOf hierarchies, of orders, and degrees; \\nOr in their glittering tissues bear imblazed \\nHoly memorials, acts of zeal and love \\nRecorded eminent.  Thus when in orbs \\nOf circuit inexpressible they stood, \\nOrb within orb, the Father Infinite, \\nBy whom in bliss imbosomed sat the Son, \\nAmidst as from a flaming mount, whose top \\nBrightness had made invisible, thus spake. \\nHear, all ye Angels, progeny of light, \\nThrones, Dominations, Princedoms, Virtues, Powers; \\nHear my decree, which unrevoked shall stand. \\nThis day I have begot whom I declare \\nMy only Son, and on this holy hill \\nHim have anointed, whom ye now behold \\nAt my right hand; your head I him appoint; \\nAnd by myself have sworn, to him shall bow \\nAll knees in Heaven, and shall confess him Lord: \\nUnder his great vice-gerent reign abide \\nUnited, as one individual soul, \\nFor ever happy:  Him who disobeys, \\nMe disobeys, breaks union, and that day, \\nCast out from God and blessed vision, falls \\nInto utter darkness, deep ingulfed, his place \\nOrdained without redemption, without end. \\nSo spake the Omnipotent, and with his words \\nAll seemed well pleased; all seemed, but were not all. \\nThat day, as other solemn days, they spent \\nIn song and dance about the sacred hill; \\nMystical dance, which yonder starry sphere \\nOf planets, and of fixed, in all her wheels \\nResembles nearest, mazes intricate, \\nEccentrick, intervolved, yet regular \\nThen most, when most irregular they seem; \\nAnd in their motions harmony divine \\nSo smooths her charming tones, that God\\'s own ear \\nListens delighted.  Evening now approached, \\n(For we have also our evening and our morn, \\nWe ours for change delectable, not need;) \\nForthwith from dance to sweet repast they turn \\nDesirous; all in circles as they stood, \\nTables are set, and on a sudden piled \\nWith Angels food, and rubied nectar flows \\nIn pearl, in diamond, and massy gold, \\nFruit of delicious vines, the growth of Heaven. \\nOn flowers reposed, and with fresh flowerets crowned, \\nThey eat, they drink, and in communion sweet \\nQuaff immortality and joy, secure \\nOf surfeit, where full measure only bounds \\nExcess, before the all-bounteous King, who showered \\nWith copious hand, rejoicing in their joy. \\nNow when ambrosial night with clouds exhaled \\nFrom that high mount of God, whence light and shade \\nSpring both, the face of brightest Heaven had changed \\nTo grateful twilight, (for night comes not there \\nIn darker veil,) and roseat dews disposed \\nAll but the unsleeping eyes of God to rest; \\nWide over all the plain, and wider far \\nThan all this globous earth in plain outspread, \\n(Such are the courts of God) the angelick throng, \\nDispersed in bands and files, their camp extend \\nBy living streams among the trees of life, \\nPavilions numberless, and sudden reared, \\nCelestial tabernacles, where they slept \\nFanned with cool winds; save those, who, in their course, \\nMelodious hymns about the sovran throne \\nAlternate all night long: but not so waked \\nSatan; so call him now, his former name \\nIs heard no more in Heaven; he of the first, \\nIf not the first Arch-Angel, great in power, \\nIn favour and pre-eminence, yet fraught \\nWith envy against the Son of God, that day \\nHonoured by his great Father, and proclaimed \\nMessiah King anointed, could not bear \\nThrough pride that sight, and thought himself impaired. \\nDeep malice thence conceiving and disdain, \\nSoon as midnight brought on the dusky hour \\nFriendliest to sleep and silence, he resolved \\nWith all his legions to dislodge, and leave \\nUnworshipt, unobeyed, the throne supreme, \\nContemptuous; and his next subordinate \\nAwakening, thus to him in secret spake. \\nSleepest thou, Companion dear?  What sleep can close \\nThy eye-lids? and rememberest what decree \\nOf yesterday, so late hath passed the lips \\nOf Heaven\\'s Almighty.  Thou to me thy thoughts \\nWast wont, I mine to thee was wont to impart; \\nBoth waking we were one; how then can now \\nThy sleep dissent?  New laws thou seest imposed; \\nNew laws from him who reigns, new minds may raise \\nIn us who serve, new counsels to debate \\nWhat doubtful may ensue:  More in this place \\nTo utter is not safe.  Assemble thou \\nOf all those myriads which we lead the chief; \\nTell them, that by command, ere yet dim night \\nHer shadowy cloud withdraws, I am to haste, \\nAnd all who under me their banners wave, \\nHomeward, with flying march, where we possess \\nThe quarters of the north; there to prepare \\nFit entertainment to receive our King, \\nThe great Messiah, and his new commands, \\nWho speedily through all the hierarchies \\nIntends to pass triumphant, and give laws. \\nSo spake the false Arch-Angel, and infused \\nBad influence into the unwary breast \\nOf his associate:  He together calls, \\nOr several one by one, the regent Powers, \\nUnder him Regent; tells, as he was taught, \\nThat the Most High commanding, now ere night, \\nNow ere dim night had disincumbered Heaven, \\nThe great hierarchal standard was to move; \\nTells the suggested cause, and casts between \\nAmbiguous words and jealousies, to sound \\nOr taint integrity:  But all obeyed \\nThe wonted signal, and superiour voice \\nOf their great Potentate; for great indeed \\nHis name, and high was his degree in Heaven; \\nHis countenance, as the morning-star that guides \\nThe starry flock, allured them, and with lies \\nDrew after him the third part of Heaven\\'s host. \\nMean while the Eternal eye, whose sight discerns \\nAbstrusest thoughts, from forth his holy mount, \\nAnd from within the golden lamps that burn \\nNightly before him, saw without their light \\nRebellion rising; saw in whom, how spread \\nAmong the sons of morn, what multitudes \\nWere banded to oppose his high decree; \\nAnd, smiling, to his only Son thus said. \\nSon, thou in whom my glory I behold \\nIn full resplendence, Heir of all my might, \\nNearly it now concerns us to be sure \\nOf our Omnipotence, and with what arms \\nWe mean to hold what anciently we claim \\nOf deity or empire:  Such a foe \\nIs rising, who intends to erect his throne \\nEqual to ours, throughout the spacious north; \\nNor so content, hath in his thought to try \\nIn battle, what our power is, or our right. \\nLet us advise, and to this hazard draw \\nWith speed what force is left, and all employ \\nIn our defence; lest unawares we lose \\nThis our high place, our sanctuary, our hill. \\nTo whom the Son with calm aspect and clear, \\nLightning divine, ineffable, serene, \\nMade answer.  Mighty Father, thou thy foes \\nJustly hast in derision, and, secure, \\nLaughest at their vain designs and tumults vain, \\nMatter to me of glory, whom their hate \\nIllustrates, when they see all regal power \\nGiven me to quell their pride, and in event \\nKnow whether I be dextrous to subdue \\nThy rebels, or be found the worst in Heaven. \\nSo spake the Son; but Satan, with his Powers, \\nFar was advanced on winged speed; an host \\nInnumerable as the stars of night, \\nOr stars of morning, dew-drops, which the sun \\nImpearls on every leaf and every flower. \\nRegions they passed, the mighty regencies \\nOf Seraphim, and Potentates, and Thrones, \\nIn their triple degrees; regions to which \\nAll thy dominion, Adam, is no more \\nThan what this garden is to all the earth, \\nAnd all the sea, from one entire globose \\nStretched into longitude; which having passed, \\nAt length into the limits of the north \\nThey came; and Satan to his royal seat \\nHigh on a hill, far blazing, as a mount \\nRaised on a mount, with pyramids and towers \\nFrom diamond quarries hewn, and rocks of gold; \\nThe palace of great Lucifer, (so call \\nThat structure in the dialect of men \\nInterpreted,) which not long after, he \\nAffecting all equality with God, \\nIn imitation of that mount whereon \\nMessiah was declared in sight of Heaven, \\nThe Mountain of the Congregation called; \\nFor thither he assembled all his train, \\nPretending so commanded to consult \\nAbout the great reception of their King, \\nThither to come, and with calumnious art \\nOf counterfeited truth thus held their ears. \\nThrones, Dominations, Princedoms, Virtues, Powers; \\nIf these magnifick titles yet remain \\nNot merely titular, since by decree \\nAnother now hath to himself engrossed \\nAll power, and us eclipsed under the name \\nOf King anointed, for whom all this haste \\nOf midnight-march, and hurried meeting here, \\nThis only to consult how we may best, \\nWith what may be devised of honours new, \\nReceive him coming to receive from us \\nKnee-tribute yet unpaid, prostration vile! \\nToo much to one! but double how endured, \\nTo one, and to his image now proclaimed? \\nBut what if better counsels might erect \\nOur minds, and teach us to cast off this yoke? \\nWill ye submit your necks, and choose to bend \\nThe supple knee?  Ye will not, if I trust \\nTo know ye right, or if ye know yourselves \\nNatives and sons of Heaven possessed before \\nBy none; and if not equal all, yet free, \\nEqually free; for orders and degrees \\nJar not with liberty, but well consist. \\nWho can in reason then, or right, assume \\nMonarchy over such as live by right \\nHis equals, if in power and splendour less, \\nIn freedom equal? or can introduce \\nLaw and edict on us, who without law \\nErr not? much less for this to be our Lord, \\nAnd look for adoration, to the abuse \\nOf those imperial titles, which assert \\nOur being ordained to govern, not to serve. \\nThus far his bold discourse without controul \\nHad audience; when among the Seraphim \\nAbdiel, than whom none with more zeal adored \\nThe Deity, and divine commands obeyed, \\nStood up, and in a flame of zeal severe \\nThe current of his fury thus opposed. \\nO argument blasphemous, false, and proud! \\nWords which no ear ever to hear in Heaven \\nExpected, least of all from thee,  Ingrate, \\nIn place thyself so high above thy peers. \\nCanst thou with impious obloquy condemn \\nThe just decree of God, pronounced and sworn, \\nThat to his only Son, by right endued \\nWith regal scepter, every soul in Heaven \\nShall bend the knee, and in that honour due \\nConfess him rightful King? unjust, thou sayest, \\nFlatly unjust, to bind with laws the free, \\nAnd equal over equals to let reign, \\nOne over all with unsucceeded power. \\nShalt thou give law to God? shalt thou dispute \\nWith him the points of liberty, who made \\nThee what thou art, and formed the Powers of Heaven \\nSuch as he pleased, and circumscribed their being? \\nYet, by experience taught, we know how good, \\nAnd of our good and of our dignity \\nHow provident he is; how far from thought \\nTo make us less, bent rather to exalt \\nOur happy state, under one head more near \\nUnited.  But to grant it thee unjust, \\nThat equal over equals monarch reign: \\nThyself, though great and glorious, dost thou count, \\nOr all angelick nature joined in one, \\nEqual to him begotten Son? by whom, \\nAs by his Word, the Mighty Father made \\nAll things, even thee; and all the Spirits of Heaven \\nBy him created in their bright degrees, \\nCrowned them with glory, and to their glory named \\nThrones, Dominations, Princedoms, Virtues, Powers, \\nEssential Powers; nor by his reign obscured, \\nBut more illustrious made; since he the head \\nOne of our number thus reduced becomes; \\nHis laws our laws; all honour to him done \\nReturns our own.  Cease then this impious rage, \\nAnd tempt not these; but hasten to appease \\nThe incensed Father, and the incensed Son, \\nWhile pardon may be found in time besought. \\nSo spake the fervent Angel; but his zeal \\nNone seconded, as out of season judged, \\nOr singular and rash:  Whereat rejoiced \\nThe Apostate, and, more haughty, thus replied. \\nThat we were formed then sayest thou? and the work \\nOf secondary hands, by task transferred \\nFrom Father to his Son? strange point and new! \\nDoctrine which we would know whence learned: who saw \\nWhen this creation was? rememberest thou \\nThy making, while the Maker gave thee being? \\nWe know no time when we were not as now; \\nKnow none before us, self-begot, self-raised \\nBy our own quickening power, when fatal course \\nHad circled his full orb, the birth mature \\nOf this our native Heaven, ethereal sons. \\nOur puissance is our own; our own right hand \\nShall teach us highest deeds, by proof to try \\nWho is our equal:  Then thou shalt behold \\nWhether by supplication we intend \\nAddress, and to begirt the almighty throne \\nBeseeching or besieging.  This report, \\nThese tidings carry to the anointed King; \\nAnd fly, ere evil intercept thy flight. \\nHe said; and, as the sound of waters deep, \\nHoarse murmur echoed to his words applause \\nThrough the infinite host; nor less for that \\nThe flaming Seraph fearless, though alone \\nEncompassed round with foes, thus answered bold. \\nO alienate from God, O Spirit accursed, \\nForsaken of all good!  I see thy fall \\nDetermined, and thy hapless crew involved \\nIn this perfidious fraud, contagion spread \\nBoth of thy crime and punishment:  Henceforth \\nNo more be troubled how to quit the yoke \\nOf God\\'s Messiah; those indulgent laws \\nWill not be now vouchsafed; other decrees \\nAgainst thee are gone forth without recall; \\nThat golden scepter, which thou didst reject, \\nIs now an iron rod to bruise and break \\nThy disobedience.  Well thou didst advise; \\nYet not for thy advice or threats I fly \\nThese wicked tents devoted, lest the wrath \\nImpendent, raging into sudden flame, \\nDistinguish not:  For soon expect to feel \\nHis thunder on thy head, devouring fire. \\nThen who created thee lamenting learn, \\nWhen who can uncreate thee thou shalt know. \\nSo spake the Seraph Abdiel, faithful found \\nAmong the faithless, faithful only he; \\nAmong innumerable false, unmoved, \\nUnshaken, unseduced, unterrified, \\nHis loyalty he kept, his love, his zeal; \\nNor number, nor example, with him wrought \\nTo swerve from truth, or change his constant mind, \\nThough single.  From amidst them forth he passed, \\nLong way through hostile scorn, which he sustained \\nSuperiour, nor of violence feared aught; \\nAnd, with retorted scorn, his back he turned \\nOn those proud towers to swift destruction doomed. \\n \\n \\n \\nBook VI                                                          \\n \\n \\nAll night the dreadless Angel, unpursued, \\nThrough Heaven\\'s wide champain held his way; till Morn, \\nWaked by the circling Hours, with rosy hand \\nUnbarred the gates of light.  There is a cave \\nWithin the mount of God, fast by his throne, \\nWhere light and darkness in perpetual round \\nLodge and dislodge by turns, which makes through Heaven \\nGrateful vicissitude, like day and night; \\nLight issues forth, and at the other door \\nObsequious darkness enters, till her hour \\nTo veil the Heaven, though darkness there might well \\nSeem twilight here:  And now went forth the Morn \\nSuch as in highest Heaven arrayed in gold \\nEmpyreal; from before her vanished Night, \\nShot through with orient beams; when all the plain \\nCovered with thick embattled squadrons bright, \\nChariots, and flaming arms, and fiery steeds, \\nReflecting blaze on blaze, first met his view: \\nWar he perceived, war in procinct; and found \\nAlready known what he for news had thought \\nTo have reported:  Gladly then he mixed \\nAmong those friendly Powers, who him received \\nWith joy and acclamations loud, that one, \\nThat of so many myriads fallen, yet one \\nReturned not lost.  On to the sacred hill \\nThey led him high applauded, and present \\nBefore the seat supreme; from whence a voice, \\nFrom midst a golden cloud, thus mild was heard. \\nServant of God. Well done; well hast thou fought \\nThe better fight, who single hast maintained \\nAgainst revolted multitudes the cause \\nOf truth, in word mightier than they in arms; \\nAnd for the testimony of truth hast borne \\nUniversal reproach, far worse to bear \\nThan violence; for this was all thy care \\nTo stand approved in sight of God, though worlds \\nJudged thee perverse:  The easier conquest now \\nRemains thee, aided by this host of friends, \\nBack on thy foes more glorious to return, \\nThan scorned thou didst depart; and to subdue \\nBy force, who reason for their law refuse, \\nRight reason for their law, and for their King \\nMessiah, who by right of merit reigns. \\nGo, Michael, of celestial armies prince, \\nAnd thou, in military prowess next, \\nGabriel, lead forth to battle these my sons \\nInvincible; lead forth my armed Saints, \\nBy thousands and by millions, ranged for fight, \\nEqual in number to that Godless crew \\nRebellious:  Them with fire and hostile arms \\nFearless assault; and, to the brow of Heaven \\nPursuing, drive them out from God and bliss, \\nInto their place of punishment, the gulf \\nOf Tartarus, which ready opens wide \\nHis fiery Chaos to receive their fall. \\nSo spake the Sovran Voice, and clouds began \\nTo darken all the hill, and smoke to roll \\nIn dusky wreaths, reluctant flames, the sign \\nOf wrath awaked; nor with less dread the loud \\nEthereal trumpet from on high \\'gan blow: \\nAt which command the Powers militant, \\nThat stood for Heaven, in mighty quadrate joined \\nOf union irresistible, moved on \\nIn silence their bright legions, to the sound \\nOf instrumental harmony, that breathed \\nHeroick ardour to adventurous deeds \\nUnder their God-like leaders, in the cause \\nOf God and his Messiah.  On they move \\nIndissolubly firm; nor obvious hill, \\nNor straitening vale, nor wood, nor stream, divides \\nTheir perfect ranks; for high above the ground \\nTheir march was, and the passive air upbore \\nTheir nimble tread; as when the total kind \\nOf birds, in orderly array on wing, \\nCame summoned over Eden to receive \\nTheir names of thee; so over many a tract \\nOf Heaven they marched, and many a province wide, \\nTenfold the length of this terrene:  At last, \\nFar in the horizon to the north appeared \\nFrom skirt to skirt a fiery region, stretched \\nIn battailous aspect, and nearer view \\nBristled with upright beams innumerable \\nOf rigid spears, and helmets thronged, and shields \\nVarious, with boastful argument portrayed, \\nThe banded Powers of Satan hasting on \\nWith furious expedition; for they weened \\nThat self-same day, by fight or by surprise, \\nTo win the mount of God, and on his throne \\nTo set the Envier of his state, the proud \\nAspirer; but their thoughts proved fond and vain \\nIn the mid way:  Though strange to us it seemed \\nAt first, that Angel should with Angel war, \\nAnd in fierce hosting meet, who wont to meet \\nSo oft in festivals of joy and love \\nUnanimous, as sons of one great Sire, \\nHymning the Eternal Father:  But the shout \\nOf battle now began, and rushing sound \\nOf onset ended soon each milder thought. \\nHigh in the midst, exalted as a God, \\nThe Apostate in his sun-bright chariot sat, \\nIdol of majesty divine, enclosed \\nWith flaming Cherubim, and golden shields; \\nThen lighted from his gorgeous throne, for now \\n\"twixt host and host but narrow space was left, \\nA dreadful interval, and front to front \\nPresented stood in terrible array \\nOf hideous length:  Before the cloudy van, \\nOn the rough edge of battle ere it joined, \\nSatan, with vast and haughty strides advanced, \\nCame towering, armed in adamant and gold; \\nAbdiel that sight endured not, where he stood \\nAmong the mightiest, bent on highest deeds, \\nAnd thus his own undaunted heart explores. \\nO Heaven! that such resemblance of the Highest \\nShould yet remain, where faith and realty \\nRemain not:  Wherefore should not strength and might \\nThere fail where virtue fails, or weakest prove \\nWhere boldest, though to fight unconquerable? \\nHis puissance, trusting in the Almighty\\'s aid, \\nI mean to try, whose reason I have tried \\nUnsound and false; nor is it aught but just, \\nThat he, who in debate of truth hath won, \\nShould win in arms, in both disputes alike \\nVictor; though brutish that contest and foul, \\nWhen reason hath to deal with force, yet so \\nMost reason is that reason overcome. \\nSo pondering, and from his armed peers \\nForth stepping opposite, half-way he met \\nHis daring foe, at this prevention more \\nIncensed, and thus securely him defied. \\nProud, art thou met? thy hope was to have reached \\nThe highth of thy aspiring unopposed, \\nThe throne of God unguarded, and his side \\nAbandoned, at the terrour of thy power \\nOr potent tongue:  Fool!not to think how vain \\nAgainst the Omnipotent to rise in arms; \\nWho out of smallest things could, without end, \\nHave raised incessant armies to defeat \\nThy folly; or with solitary hand \\nReaching beyond all limit, at one blow, \\nUnaided, could have finished thee, and whelmed \\nThy legions under darkness:  But thou seest \\nAll are not of thy train; there be, who faith \\nPrefer, and piety to God, though then \\nTo thee not visible, when I alone \\nSeemed in thy world erroneous to dissent \\nFrom all:  My sect thou seest;now learn too late \\nHow few sometimes may know, when thousands err. \\nWhom the grand foe, with scornful eye askance, \\nThus answered.  Ill for thee, but in wished hour \\nOf my revenge, first sought for, thou returnest \\nFrom flight, seditious Angel! to receive \\nThy merited reward, the first assay \\nOf this right hand provoked, since first that tongue, \\nInspired with contradiction, durst oppose \\nA third part of the Gods, in synod met \\nTheir deities to assert; who, while they feel \\nVigour divine within them, can allow \\nOmnipotence to none.  But well thou comest \\nBefore thy fellows, ambitious to win \\nFrom me some plume, that thy success may show \\nDestruction to the rest:  This pause between, \\n(Unanswered lest thou boast) to let thee know, \\nAt first I thought that Liberty and Heaven \\nTo heavenly souls had been all one; but now \\nI see that most through sloth had rather serve, \\nMinistring Spirits, trained up in feast and song! \\nSuch hast thou armed, the minstrelsy of Heaven, \\nServility with freedom to contend, \\nAs both their deeds compared this day shall prove. \\nTo whom in brief thus Abdiel stern replied. \\nApostate! still thou errest, nor end wilt find \\nOf erring, from the path of truth remote: \\nUnjustly thou depravest it with the name \\nOf servitude, to serve whom God ordains, \\nOr Nature:  God and Nature bid the same, \\nWhen he who rules is worthiest, and excels \\nThem whom he governs.  This is servitude, \\nTo serve the unwise, or him who hath rebelled \\nAgainst his worthier, as thine now serve thee, \\nThyself not free, but to thyself enthralled; \\nYet lewdly darest our ministring upbraid. \\nReign thou in Hell, thy kingdom; let me serve \\nIn Heaven God ever blest, and his divine \\nBehests obey, worthiest to be obeyed; \\nYet chains in Hell, not realms, expect:  Mean while \\nFrom me returned, as erst thou saidst, from flight, \\nThis greeting on thy impious crest receive. \\nSo saying, a noble stroke he lifted high, \\nWhich hung not, but so swift with tempest fell \\nOn the proud crest of Satan, that no sight, \\nNor motion of swift thought, less could his shield, \\nSuch ruin intercept:  Ten paces huge \\nHe back recoiled; the tenth on bended knee \\nHis massy spear upstaid; as if on earth \\nWinds under ground, or waters forcing way, \\nSidelong had pushed a mountain from his seat, \\nHalf sunk with all his pines.  Amazement seised \\nThe rebel Thrones, but greater rage, to see \\nThus foiled their mightiest; ours joy filled, and shout, \\nPresage of victory, and fierce desire \\nOf battle:  Whereat Michael bid sound \\nThe Arch-Angel trumpet; through the vast of Heaven \\nIt sounded, and the faithful armies rung \\nHosanna to the Highest:  Nor stood at gaze \\nThe adverse legions, nor less hideous joined \\nThe horrid shock.  Now storming fury rose, \\nAnd clamour such as heard in Heaven till now \\nWas never; arms on armour clashing brayed \\nHorrible discord, and the madding wheels \\nOf brazen chariots raged; dire was the noise \\nOf conflict; over head the dismal hiss \\nOf fiery darts in flaming vollies flew, \\nAnd flying vaulted either host with fire. \\nSo under fiery cope together rushed \\nBoth battles main, with ruinous assault \\nAnd inextinguishable rage.  All Heaven \\nResounded; and had Earth been then, all Earth \\nHad to her center shook.  What wonder? when \\nMillions of fierce encountering Angels fought \\nOn either side, the least of whom could wield \\nThese elements, and arm him with the force \\nOf all their regions:  How much more of power \\nArmy against army numberless to raise \\nDreadful combustion warring, and disturb, \\nThough not destroy, their happy native seat; \\nHad not the Eternal King Omnipotent, \\nFrom his strong hold of Heaven, high over-ruled \\nAnd limited their might; though numbered such \\nAs each divided legion might have seemed \\nA numerous host; in strength each armed hand \\nA legion; led in fight, yet leader seemed \\nEach warriour single as in chief, expert \\nWhen to advance, or stand, or turn the sway \\nOf battle, open when, and when to close \\nThe ridges of grim war:  No thought of flight, \\nNone of retreat, no unbecoming deed \\nThat argued fear; each on himself relied, \\nAs only in his arm the moment lay \\nOf victory:  Deeds of eternal fame \\nWere done, but infinite; for wide was spread \\nThat war and various; sometimes on firm ground \\nA standing fight, then, soaring on main wing, \\nTormented all the air; all air seemed then \\nConflicting fire.  Long time in even scale \\nThe battle hung; till Satan, who that day \\nProdigious power had shown, and met in arms \\nNo equal, ranging through the dire attack \\nOf fighting Seraphim confused, at length \\nSaw where the sword of Michael smote, and felled \\nSquadrons at once; with huge two-handed sway \\nBrandished aloft, the horrid edge came down \\nWide-wasting; such destruction to withstand \\nHe hasted, and opposed the rocky orb \\nOf tenfold adamant, his ample shield, \\nA vast circumference.  At his approach \\nThe great Arch-Angel from his warlike toil \\nSurceased, and glad, as hoping here to end \\nIntestine war in Heaven, the arch-foe subdued \\nOr captive dragged in chains, with hostile frown \\nAnd visage all inflamed first thus began. \\nAuthor of evil, unknown till thy revolt, \\nUnnamed in Heaven, now plenteous as thou seest \\nThese acts of hateful strife, hateful to all, \\nThough heaviest by just measure on thyself, \\nAnd thy  adherents:  How hast thou disturbed \\nHeaven\\'s blessed peace, and into nature brought \\nMisery, uncreated till the crime \\nOf thy rebellion! how hast thou instilled \\nThy malice into thousands, once upright \\nAnd faithful, now proved false!  But think not here \\nTo trouble holy rest; Heaven casts thee out \\nFrom all her confines.  Heaven, the seat of bliss, \\nBrooks not the works of violence and war. \\nHence then, and evil go with thee along, \\nThy offspring, to the place of evil, Hell; \\nThou and thy wicked crew! there mingle broils, \\nEre this avenging sword begin thy doom, \\nOr some more sudden vengeance, winged from God, \\nPrecipitate thee with augmented pain. \\nSo spake the Prince of Angels; to whom thus \\nThe Adversary.  Nor think thou with wind \\nOf aery threats to awe whom yet with deeds \\nThou canst not.  Hast thou turned the least of these \\nTo flight, or if to fall, but that they rise \\nUnvanquished, easier to transact with me \\nThat thou shouldst hope, imperious, and with threats \\nTo chase me hence? err not, that so shall end \\nThe strife which thou callest evil, but we style \\nThe strife of glory; which we mean to win, \\nOr turn this Heaven itself into the Hell \\nThou fablest; here however to dwell free, \\nIf not to reign:  Mean while thy utmost force, \\nAnd join him named Almighty to thy aid, \\nI fly not, but have sought thee far and nigh. \\nThey ended parle, and both addressed for fight \\nUnspeakable; for who, though with the tongue \\nOf Angels, can relate, or to what things \\nLiken on earth conspicuous, that may lift \\nHuman imagination to such highth \\nOf Godlike power? for likest Gods they seemed, \\nStood they or moved, in stature, motion, arms, \\nFit to decide the empire of great Heaven. \\nNow waved their fiery swords, and in the air \\nMade horrid circles; two broad suns their shields \\nBlazed opposite, while Expectation stood \\nIn horrour:  From each hand with speed retired, \\nWhere erst was thickest fight, the angelick throng, \\nAnd left large field, unsafe within the wind \\nOf such commotion; such as, to set forth \\nGreat things by small, if, nature\\'s concord broke, \\nAmong the constellations war were sprung, \\nTwo planets, rushing from aspect malign \\nOf fiercest opposition, in mid sky \\nShould combat, and their jarring spheres confound. \\nTogether both with next to almighty arm \\nUp-lifted imminent, one stroke they aimed \\nThat might determine, and not need repeat, \\nAs not of power at once; nor odds appeared \\nIn might or swift prevention:  But the sword \\nOf Michael from the armoury of God \\nWas given him tempered so, that neither keen \\nNor solid might resist that edge: it met \\nThe sword of Satan, with steep force to smite \\nDescending, and in half cut sheer; nor staid, \\nBut with swift wheel reverse, deep entering, shared \\nAll his right side:  Then Satan first knew pain, \\nAnd writhed him to and fro convolved; so sore \\nThe griding sword with discontinuous wound \\nPassed through him:  But the ethereal substance closed, \\nNot long divisible; and from the gash \\nA stream of necturous humour issuing flowed \\nSanguine, such as celestial Spirits may bleed, \\nAnd all his armour stained, ere while so bright. \\nForthwith on all sides to his aid was run \\nBy Angels many and strong, who interposed \\nDefence, while others bore him on their shields \\nBack to his chariot, where it stood retired \\nFrom off the files of war:  There they him laid \\nGnashing for anguish, and despite, and shame, \\nTo find himself not matchless, and his pride \\nHumbled by such rebuke, so far beneath \\nHis confidence to equal God in power. \\nYet soon he healed; for Spirits that live throughout \\nVital in every part, not as frail man \\nIn entrails, heart of head, liver or reins, \\nCannot but by annihilating die; \\nNor in their liquid texture mortal wound \\nReceive, no more than can the fluid air: \\nAll heart they live, all head, all eye, all ear, \\nAll intellect, all sense; and, as they please, \\nThey limb themselves, and colour, shape, or size \\nAssume, as?kikes them best, condense or rare. \\nMean while in other parts like deeds deserved \\nMemorial, where the might of Gabriel fought, \\nAnd with fierce ensigns pierced the deep array \\nOf Moloch, furious king; who him defied, \\nAnd at his chariot-wheels to drag him bound \\nThreatened, nor from the Holy One of Heaven \\nRefrained his tongue blasphemous; but anon \\nDown cloven to the waist, with shattered arms \\nAnd uncouth pain fled bellowing.  On each wing \\nUriel, and Raphael, his vaunting foe, \\nThough huge, and in a rock of diamond armed, \\nVanquished Adramelech, and Asmadai, \\nTwo potent Thrones, that to be less than Gods \\nDisdained, but meaner thoughts learned in their flight, \\nMangled with ghastly wounds through plate and mail. \\nNor stood unmindful Abdiel to annoy \\nThe atheist crew, but with redoubled blow \\nAriel, and Arioch, and the violence \\nOf Ramiel scorched and blasted, overthrew. \\nI might relate of thousands, and their names \\nEternize here on earth; but those elect \\nAngels, contented with their fame in Heaven, \\nSeek not the praise of men:  The other sort, \\nIn might though wonderous and in acts of war, \\nNor of renown less eager, yet by doom \\nCancelled from Heaven and sacred memory, \\nNameless in dark oblivion let them dwell. \\nFor strength from truth divided, and from just, \\nIllaudable, nought merits but dispraise \\nAnd ignominy; yet to glory aspires \\nVain-glorious, and through infamy seeks fame: \\nTherefore eternal silence be their doom. \\nAnd now, their mightiest quelled, the battle swerved, \\nWith many an inroad gored; deformed rout \\nEntered, and foul disorder; all the ground \\nWith shivered armour strown, and on a heap \\nChariot and charioteer lay overturned, \\nAnd fiery-foaming steeds; what stood, recoiled \\nO\\'er-wearied, through the faint Satanick host \\nDefensive scarce, or with pale fear surprised, \\nThen first with fear surprised, and sense of pain, \\nFled ignominious, to such evil brought \\nBy sin of disobedience; till that hour \\nNot liable to fear, or flight, or pain. \\nFar otherwise the inviolable Saints, \\nIn cubick phalanx firm, advanced entire, \\nInvulnerable, impenetrably armed; \\nSuch high advantages their innocence \\nGave them above their foes; not to have sinned, \\nNot to have disobeyed; in fight they stood \\nUnwearied, unobnoxious to be pained \\nBy wound, though from their place by violence moved, \\nNow Night her course began, and, over Heaven \\nInducing darkness, grateful truce imposed, \\nAnd silence on the odious din of war: \\nUnder her cloudy covert both retired, \\nVictor and vanquished:  On the foughten field \\nMichael and his Angels prevalent \\nEncamping, placed in guard their watches round, \\nCherubick waving fires:  On the other part, \\nSatan with his rebellious disappeared, \\nFar in the dark dislodged; and, void of rest, \\nHis potentates to council called by night; \\nAnd in the midst thus undismayed began. \\nO now in danger tried, now known in arms \\nNot to be overpowered, Companions dear, \\nFound worthy not of liberty alone, \\nToo mean pretence! but what we more affect, \\nHonour, dominion, glory, and renown; \\nWho have sustained one day in doubtful fight, \\n(And if one day, why not eternal days?) \\nWhat Heaven\\'s Lord had powerfullest to send \\nAgainst us from about his throne, and judged \\nSufficient to subdue us to his will, \\nBut proves not so:  Then fallible, it seems, \\nOf future we may deem him, though till now \\nOmniscient thought.  True is, less firmly armed, \\nSome disadvantage we endured and pain, \\nTill now not known, but, known, as soon contemned; \\nSince now we find this our empyreal form \\nIncapable of mortal injury, \\nImperishable, and, though pierced with wound, \\nSoon closing, and by native vigour healed. \\nOf evil then so small as easy think \\nThe remedy; perhaps more valid arms, \\nWeapons more violent, when next we meet, \\nMay serve to better us, and worse our foes, \\nOr equal what between us made the odds, \\nIn nature none:  If other hidden cause \\nLeft them superiour, while we can preserve \\nUnhurt our minds, and understanding sound, \\nDue search and consultation will disclose. \\nHe sat; and in the assembly next upstood \\nNisroch, of Principalities the prime; \\nAs one he stood escaped from cruel fight, \\nSore toiled, his riven arms to havock hewn, \\nAnd cloudy in aspect thus answering spake. \\nDeliverer from new Lords, leader to free \\nEnjoyment of our right as Gods; yet hard \\nFor Gods, and too unequal work we find, \\nAgainst unequal arms to fight in pain, \\nAgainst unpained, impassive; from which evil \\nRuin must needs ensue; for what avails \\nValour or strength, though matchless, quelled with pain \\nWhich all subdues, and makes remiss the hands \\nOf mightiest?  Sense of pleasure we may well \\nSpare out of life perhaps, and not repine, \\nBut live content, which is the calmest life: \\nBut pain is perfect misery, the worst \\nOf evils, and, excessive, overturns \\nAll patience.  He, who therefore can invent \\nWith what more forcible we may offend \\nOur yet unwounded enemies, or arm \\nOurselves with like defence, to me deserves \\nNo less than for deliverance what we owe. \\nWhereto with look composed Satan replied. \\nNot uninvented that, which thou aright \\nBelievest so main to our success, I bring. \\nWhich of us who beholds the bright surface \\nOf this ethereous mould whereon we stand, \\nThis continent of spacious Heaven, adorned \\nWith plant, fruit, flower ambrosial, gems, and gold; \\nWhose eye so superficially surveys \\nThese things, as not to mind from whence they grow \\nDeep under ground, materials dark and crude, \\nOf spiritous and fiery spume, till touched \\nWith Heaven\\'s ray, and tempered, they shoot forth \\nSo beauteous, opening to the ambient light? \\nThese in their dark nativity the deep \\nShall yield us, pregnant with infernal flame; \\nWhich, into hollow engines, long and round, \\nThick rammed, at the other bore with touch of fire \\nDilated and infuriate, shall send forth \\nFrom far, with thundering noise, among our foes \\nSuch implements of mischief, as shall dash \\nTo pieces, and o\\'erwhelm whatever stands \\nAdverse, that they shall fear we have disarmed \\nThe Thunderer of his only dreaded bolt. \\nNor long shall be our labour; yet ere dawn, \\nEffect shall end our wish.  Mean while revive; \\nAbandon fear; to strength and counsel joined \\nThink nothing hard, much less to be despaired. \\nHe ended, and his words their drooping cheer \\nEnlightened, and their languished hope revived. \\nThe invention all admired, and each, how he \\nTo be the inventer missed; so easy it seemed \\nOnce found, which yet unfound most would have thought \\nImpossible:  Yet, haply, of thy race \\nIn future days, if malice should abound, \\nSome one intent on mischief, or inspired \\nWith devilish machination, might devise \\nLike instrument to plague the sons of men \\nFor sin, on war and mutual slaughter bent. \\nForthwith from council to the work they flew; \\nNone arguing stood; innumerable hands \\nWere ready; in a moment up they turned \\nWide the celestial soil, and saw beneath \\nThe originals of nature in their crude \\nConception; sulphurous and nitrous foam \\nThey found, they mingled, and, with subtle art, \\nConcocted and adusted they reduced \\nTo blackest grain, and into store conveyed: \\nPart hidden veins digged up (nor hath this earth \\nEntrails unlike) of mineral and stone, \\nWhereof to found their engines and their balls \\nOf missive ruin; part incentive reed \\nProvide, pernicious with one touch to fire. \\nSo all ere day-spring, under conscious night, \\nSecret they finished, and in order set, \\nWith silent circumspection, unespied. \\nNow when fair morn orient in Heaven appeared, \\nUp rose the victor-Angels, and to arms \\nThe matin trumpet sung:  In arms they stood \\nOf golden panoply, refulgent host, \\nSoon banded; others from the dawning hills \\nLook round, and scouts each coast light-armed scour, \\nEach quarter to descry the distant foe, \\nWhere lodged, or whither fled, or if for fight, \\nIn motion or in halt:  Him soon they met \\nUnder spread ensigns moving nigh, in slow \\nBut firm battalion; back with speediest sail \\nZophiel, of Cherubim the swiftest wing, \\nCame flying, and in mid air aloud thus cried. \\nArm, Warriours, arm for fight; the foe at hand, \\nWhom fled we thought, will save us long pursuit \\nThis day; fear not his flight;so thick a cloud \\nHe comes, and settled in his face I see \\nSad resolution, and secure:  Let each \\nHis adamantine coat gird well, and each \\nFit well his helm, gripe fast his orbed shield, \\nBorne even or high; for this day will pour down, \\nIf I conjecture aught, no drizzling shower, \\nBut rattling storm of arrows barbed with fire. \\nSo warned he them, aware themselves, and soon \\nIn order, quit of all impediment; \\nInstant without disturb they took alarm, \\nAnd onward moved embattled:  When behold! \\nNot distant far with heavy pace the foe \\nApproaching gross and huge, in hollow cube \\nTraining his devilish enginery, impaled \\nOn every side with shadowing squadrons deep, \\nTo hide the fraud.  At interview both stood \\nA while; but suddenly at head appeared \\nSatan, and thus was heard commanding loud. \\nVanguard, to right and left the front unfold; \\nThat all may see who hate us, how we seek \\nPeace and composure, and with open breast \\nStand ready to receive them, if they like \\nOur overture; and turn not back perverse: \\nBut that I doubt; however witness, Heaven! \\nHeaven, witness thou anon! while we discharge \\nFreely our part: ye, who appointed stand \\nDo as you have in charge, and briefly touch \\nWhat we propound, and loud that all may hear! \\nSo scoffing in ambiguous words, he scarce \\nHad ended; when to right and left the front \\nDivided, and to either flank retired: \\nWhich to our eyes discovered, new and strange, \\nA triple mounted row of pillars laid \\nOn wheels (for like to pillars most they seemed, \\nOr hollowed bodies made of oak or fir, \\nWith branches lopt, in wood or mountain felled,) \\nBrass, iron, stony mould, had not their mouths \\nWith hideous orifice gaped on us wide, \\nPortending hollow truce:  At each behind \\nA Seraph stood, and in his hand a reed \\nStood waving tipt with fire; while we, suspense, \\nCollected stood within our thoughts amused, \\nNot long; for sudden all at once their reeds \\nPut forth, and to a narrow vent applied \\nWith nicest touch.  Immediate in a flame, \\nBut soon obscured with smoke, all Heaven appeared, \\nFrom those deep-throated engines belched, whose roar \\nEmbowelled with outrageous noise the air, \\nAnd all her entrails tore, disgorging foul \\nTheir devilish glut, chained thunderbolts and hail \\nOf iron globes; which, on the victor host \\nLevelled, with such impetuous fury smote, \\nThat, whom they hit, none on their feet might stand, \\nThough standing else as rocks, but down they fell \\nBy thousands, Angel on Arch-Angel rolled; \\nThe sooner for their arms; unarmed, they might \\nHave easily, as Spirits, evaded swift \\nBy quick contraction or remove; but now \\nFoul dissipation followed, and forced rout; \\nNor served it to relax their serried files. \\nWhat should they do? if on they rushed, repulse \\nRepeated, and indecent overthrow \\nDoubled, would render them yet more despised, \\nAnd to their foes a laughter; for in view \\nStood ranked of Seraphim another row, \\nIn posture to displode their second tire \\nOf thunder:  Back defeated to return \\nThey worse abhorred.  Satan beheld their plight, \\nAnd to his mates thus in derision called. \\nO Friends! why come not on these victors proud \\nEre while they fierce were coming; and when we, \\nTo entertain them fair with open front \\nAnd breast, (what could we more?) propounded terms \\nOf composition, straight they changed their minds, \\nFlew off, and into strange vagaries fell, \\nAs they would dance; yet for a dance they seemed \\nSomewhat extravagant and wild; perhaps \\nFor joy of offered peace:  But I suppose, \\nIf our proposals once again were heard, \\nWe should compel them to a quick result. \\nTo whom thus Belial, in like gamesome mood. \\nLeader! the terms we sent were terms of weight, \\nOf hard contents, and full of force urged home; \\nSuch as we might perceive amused them all, \\nAnd stumbled many:  Who receives them right, \\nHad need from head to foot well understand; \\nNot understood, this gift they have besides, \\nThey show us when our foes walk not upright. \\nSo they among themselves in pleasant vein \\nStood scoffing, hightened in their thoughts beyond \\nAll doubt of victory:  Eternal Might \\nTo match with their inventions they presumed \\nSo easy, and of his thunder made a scorn, \\nAnd all his host derided, while they stood \\nA while in trouble:  But they stood not long; \\nRage prompted them at length, and found them arms \\nAgainst such hellish mischief fit to oppose. \\nForthwith (behold the excellence, the power, \\nWhich God hath in his mighty Angels placed!) \\nTheir arms away they threw, and to the hills \\n(For Earth hath this variety from Heaven \\nOf pleasure situate in hill and dale,) \\nLight as the lightning glimpse they ran, they flew; \\nFrom their foundations loosening to and fro, \\nThey plucked the seated hills, with all their load, \\nRocks, waters, woods, and by the shaggy tops \\nUp-lifting bore them in their hands:  Amaze, \\nBe sure, and terrour, seized the rebel host, \\nWhen coming towards them so dread they saw \\nThe bottom of the mountains upward turned; \\nTill on those cursed engines\\' triple-row \\nThey saw them whelmed, and all their confidence \\nUnder the weight of mountains buried deep; \\nThemselves invaded next, and on their heads \\nMain promontories flung, which in the air \\nCame shadowing, and oppressed whole legions armed; \\nTheir armour helped their harm, crushed in and bruised \\nInto their substance pent, which wrought them pain \\nImplacable, and many a dolorous groan; \\nLong struggling underneath, ere they could wind \\nOut of such prison, though Spirits of purest light, \\nPurest at first, now gross by sinning grown. \\nThe rest, in imitation, to like arms \\nBetook them, and the neighbouring hills uptore: \\nSo hills amid the air encountered hills, \\nHurled to and fro with jaculation dire; \\nThat under ground they fought in dismal shade; \\nInfernal noise! war seemed a civil game \\nTo this uproar; horrid confusion heaped \\nUpon confusion rose:  And now all Heaven \\nHad gone to wrack, with ruin overspread; \\nHad not the Almighty Father, where he sits \\nShrined in his sanctuary of Heaven secure, \\nConsulting on the sum of things, foreseen \\nThis tumult, and permitted all, advised: \\nThat his great purpose he might so fulfil, \\nTo honour his anointed Son avenged \\nUpon his enemies, and to declare \\nAll power on him transferred:  Whence to his Son, \\nThe Assessour of his throne, he thus began. \\nEffulgence of my glory, Son beloved, \\nSon, in whose face invisible is beheld \\nVisibly, what by Deity I am; \\nAnd in whose hand what by decree I do, \\nSecond Omnipotence! two days are past, \\nTwo days, as we compute the days of Heaven, \\nSince Michael and his Powers went forth to tame \\nThese disobedient:  Sore hath been their fight, \\nAs likeliest was, when two such foes met armed; \\nFor to themselves I left them; and thou knowest, \\nEqual in their creation they were formed, \\nSave what sin hath impaired; which yet hath wrought \\nInsensibly, for I suspend their doom; \\nWhence in perpetual fight they needs must last \\nEndless, and no solution will be found: \\nWar wearied hath performed what war can do, \\nAnd to disordered rage let loose the reins \\nWith mountains, as with weapons, armed; which makes \\nWild work in Heaven, and dangerous to the main. \\nTwo days are therefore past, the third is thine; \\nFor thee I have ordained it; and thus far \\nHave suffered, that the glory may be thine \\nOf ending this great war, since none but Thou \\nCan end it.  Into thee such virtue and grace \\nImmense I have transfused, that all may know \\nIn Heaven and Hell thy power above compare; \\nAnd, this perverse commotion governed thus, \\nTo manifest thee worthiest to be Heir \\nOf all things; to be Heir, and to be King \\nBy sacred unction, thy deserved right. \\nGo then, Thou Mightiest, in thy Father\\'s might; \\nAscend my chariot, guide the rapid wheels \\nThat shake Heaven\\'s basis, bring forth all my war, \\nMy bow and thunder, my almighty arms \\nGird on, and sword upon thy puissant thigh; \\nPursue these sons of darkness, drive them out \\nFrom all Heaven\\'s bounds into the utter deep: \\nThere let them learn, as likes them, to despise \\nGod, and Messiah his anointed King. \\nHe said, and on his Son with rays direct \\nShone full; he all his Father full expressed \\nIneffably into his face received; \\nAnd thus the Filial Godhead answering spake. \\nO Father, O Supreme of heavenly Thrones, \\nFirst, Highest, Holiest, Best; thou always seek\\'st \\nTo glorify thy Son, I always thee, \\nAs is most just:  This I my glory account, \\nMy exaltation, and my whole delight, \\nThat thou, in me well pleased, declarest thy will \\nFulfilled, which to fulfil is all my bliss. \\nScepter and power, thy giving, I assume, \\nAnd gladlier shall resign, when in the end \\nThou shalt be all in all, and I in thee \\nFor ever; and in me all whom thou lovest: \\nBut whom thou hatest, I hate, and can put on \\nThy terrours, as I put thy mildness on, \\nImage of thee in all things; and shall soon, \\nArmed with thy might, rid Heaven of these rebelled; \\nTo their prepared ill mansion driven down, \\nTo chains of darkness, and the undying worm; \\nThat from thy just obedience could revolt, \\nWhom to obey is happiness entire. \\nThen shall thy Saints unmixed, and from the impure \\nFar separate, circling thy holy mount, \\nUnfeigned Halleluiahs to thee sing, \\nHymns of high praise, and I among them Chief. \\nSo said, he, o\\'er his scepter bowing, rose \\nFrom the right hand of Glory where he sat; \\nAnd the third sacred morn began to shine, \\nDawning through Heaven.  Forth rushed with whirlwind sound \\nThe chariot of Paternal Deity, \\nFlashing thick flames, wheel within wheel undrawn, \\nItself instinct with Spirit, but convoyed \\nBy four Cherubick shapes; four faces each \\nHad wonderous; as with stars, their bodies all \\nAnd wings were set with eyes; with eyes the wheels \\nOf beryl, and careering fires between; \\nOver their heads a crystal firmament, \\nWhereon a sapphire throne, inlaid with pure \\nAmber, and colours of the showery arch. \\nHe, in celestial panoply all armed \\nOf radiant Urim, work divinely wrought, \\nAscended; at his right hand Victory \\nSat eagle-winged; beside him hung his bow \\nAnd quiver with three-bolted thunder stored; \\nAnd from about him fierce effusion rolled \\nOf smoke, and bickering flame, and sparkles dire: \\nAttended with ten thousand thousand Saints, \\nHe onward came; far off his coming shone; \\nAnd twenty thousand (I their number heard) \\nChariots of God, half on each hand, were seen; \\nHe on the wings of Cherub rode sublime \\nOn the crystalline sky, in sapphire throned, \\nIllustrious far and wide; but by his own \\nFirst seen:  Them unexpected joy surprised, \\nWhen the great ensign of Messiah blazed \\nAloft by Angels borne, his sign in Heaven; \\nUnder whose conduct Michael soon reduced \\nHis army, circumfused on either wing, \\nUnder their Head imbodied all in one. \\nBefore him Power Divine his way prepared; \\nAt his command the uprooted hills retired \\nEach to his place; they heard his voice, and went \\nObsequious; Heaven his wonted face renewed, \\nAnd with fresh flowerets hill and valley smiled. \\nThis saw his hapless foes, but stood obdured, \\nAnd to rebellious fight rallied their Powers, \\nInsensate, hope conceiving from despair. \\nIn heavenly Spirits could such perverseness dwell? \\nBut to convince the proud what signs avail, \\nOr wonders move the obdurate to relent? \\nThey, hardened more by what might most reclaim, \\nGrieving to see his glory, at the sight \\nTook envy; and, aspiring to his highth, \\nStood re-embattled fierce, by force or fraud \\nWeening to prosper, and at length prevail \\nAgainst God and Messiah, or to fall \\nIn universal ruin last; and now \\nTo final battle drew, disdaining flight, \\nOr faint retreat; when the great Son of God \\nTo all his host on either hand thus spake. \\nStand still in bright array, ye Saints; here stand, \\nYe Angels armed; this day from battle rest: \\nFaithful hath been your warfare, and of God \\nAccepted, fearless in his righteous cause; \\nAnd as ye have received, so have ye done, \\nInvincibly:  But of this cursed crew \\nThe punishment to other hand belongs; \\nVengeance is his, or whose he sole appoints: \\nNumber to this day\\'s work is not ordained, \\nNor multitude; stand only, and behold \\nGod\\'s indignation on these godless poured \\nBy me; not you, but me, they have despised, \\nYet envied; against me is all their rage, \\nBecause the Father, to whom in Heaven s\\'preme \\nKingdom, and power, and glory appertains, \\nHath honoured me, according to his will. \\nTherefore to me their doom he hath assigned; \\nThat they may have their wish, to try with me \\nIn battle which the stronger proves; they all, \\nOr I alone against them; since by strength \\nThey measure all, of other excellence \\nNot emulous, nor care who them excels; \\nNor other strife with them do I vouchsafe. \\nSo spake the Son, and into terrour changed \\nHis countenance too severe to be beheld, \\nAnd full of wrath bent on his enemies. \\nAt once the Four spread out their starry wings \\nWith dreadful shade contiguous, and the orbs \\nOf his fierce chariot rolled, as with the sound \\nOf torrent floods, or of a numerous host. \\nHe on his impious foes right onward drove, \\nGloomy as night; under his burning wheels \\nThe stedfast empyrean shook throughout, \\nAll but the throne itself of God.  Full soon \\nAmong them he arrived; in his right hand \\nGrasping ten thousand thunders, which he sent \\nBefore him, such as in their souls infixed \\nPlagues:  They, astonished, all resistance lost, \\nAll courage; down their idle weapons dropt: \\nO\\'er shields, and helms, and helmed heads he rode \\nOf Thrones and mighty Seraphim prostrate, \\nThat wished the mountains now might be again \\nThrown on them, as a shelter from his ire. \\nNor less on either side tempestuous fell \\nHis arrows, from the fourfold-visaged Four \\nDistinct with eyes, and from the living wheels \\nDistinct alike with multitude of eyes; \\nOne Spirit in them ruled; and every eye \\nGlared lightning, and shot forth pernicious fire \\nAmong the accursed, that withered all their strength, \\nAnd of their wonted vigour left them drained, \\nExhausted, spiritless, afflicted, fallen. \\nYet half his strength he put not forth, but checked \\nHis thunder in mid volley; for he meant \\nNot to destroy, but root them out of Heaven: \\nThe overthrown he raised, and as a herd \\nOf goats or timorous flock together thronged \\nDrove them before him thunder-struck, pursued \\nWith terrours, and with furies, to the bounds \\nAnd crystal wall of Heaven; which, opening wide, \\nRolled inward, and a spacious gap disclosed \\nInto the wasteful deep:  The monstrous sight \\nStruck them with horrour backward, but far worse \\nUrged them behind:  Headlong themselves they threw \\nDown from the verge of Heaven; eternal wrath \\nBurnt after them to the bottomless pit. \\nHell heard the unsufferable noise, Hell saw \\nHeaven ruining from Heaven, and would have fled \\nAffrighted; but strict Fate had cast too deep \\nHer dark foundations, and too fast had bound. \\nNine days they fell:  Confounded Chaos roared, \\nAnd felt tenfold confusion in their fall \\nThrough his wild anarchy, so huge a rout \\nIncumbered him with ruin:  Hell at last \\nYawning received them whole, and on them closed; \\nHell, their fit habitation, fraught with fire \\nUnquenchable, the house of woe and pain. \\nDisburdened Heaven rejoiced, and soon repaired \\nHer mural breach, returning whence it rolled. \\nSole victor, from the expulsion of his foes, \\nMessiah his triumphal chariot turned: \\nTo meet him all his Saints, who silent stood \\nEye-witnesses of his almighty acts, \\nWith jubilee advanced; and, as they went, \\nShaded with branching palm, each Order bright, \\nSung triumph, and him sung victorious King, \\nSon, Heir, and Lord, to him dominion given, \\nWorthiest to reign:  He, celebrated, rode \\nTriumphant through mid Heaven, into the courts \\nAnd temple of his Mighty Father throned \\nOn high; who into glory him received, \\nWhere now he sits at the right hand of bliss. \\nThus, measuring things in Heaven by things on Earth, \\nAt thy request, and that thou mayest beware \\nBy what is past, to thee I have revealed \\nWhat might have else to human race been hid; \\nThe discord which befel, and war in Heaven \\nAmong the angelick Powers, and the deep fall \\nOf those too high aspiring, who rebelled \\nWith Satan; he who envies now thy state, \\nWho now is plotting how he may seduce \\nThee also from obedience, that, with him \\nBereaved of happiness, thou mayest partake \\nHis punishment, eternal misery; \\nWhich would be all his solace and revenge, \\nAs a despite done against the Most High, \\nThee once to gain companion of his woe. \\nBut listen not to his temptations, warn \\nThy weaker; let it profit thee to have heard, \\nBy terrible example, the reward \\nOf disobedience; firm they might have stood, \\nYet fell; remember, and fear to transgress. \\n \\n \\n \\nBook VII                                                         \\n \\n \\nDescend from Heaven, Urania, by that name \\nIf rightly thou art called, whose voice divine \\nFollowing, above the Olympian hill I soar, \\nAbove the flight of Pegasean wing! \\nThe meaning, not the name, I call: for thou \\nNor of the Muses nine, nor on the top \\nOf old Olympus dwellest; but, heavenly-born, \\nBefore the hills appeared, or fountain flowed, \\nThou with eternal Wisdom didst converse, \\nWisdom thy sister, and with her didst play \\nIn presence of the Almighty Father, pleased \\nWith thy celestial song.  Up led by thee \\nInto the Heaven of Heavens I have presumed, \\nAn earthly guest, and drawn empyreal air, \\nThy tempering: with like safety guided down \\nReturn me to my native element: \\nLest from this flying steed unreined, (as once \\nBellerophon, though from a lower clime,) \\nDismounted, on the Aleian field I fall, \\nErroneous there to wander, and forlorn. \\nHalf yet remains unsung, but narrower bound \\nWithin the visible diurnal sphere; \\nStanding on earth, not rapt above the pole, \\nMore safe I sing with mortal voice, unchanged \\nTo hoarse or mute, though fallen on evil days, \\nOn evil days though fallen, and evil tongues; \\nIn darkness, and with dangers compassed round, \\nAnd solitude; yet not alone, while thou \\nVisitest my slumbers nightly, or when morn \\nPurples the east: still govern thou my song, \\nUrania, and fit audience find, though few. \\nBut drive far off the barbarous dissonance \\nOf Bacchus and his revellers, the race \\nOf that wild rout that tore the Thracian bard \\nIn Rhodope, where woods and rocks had ears \\nTo rapture, till the savage clamour drowned \\nBoth harp and voice; nor could the Muse defend \\nHer son.  So fail not thou, who thee implores: \\nFor thou art heavenly, she an empty dream. \\nSay, Goddess, what ensued when Raphael, \\nThe affable Arch-Angel, had forewarned \\nAdam, by dire example, to beware \\nApostasy, by what befel in Heaven \\nTo those apostates; lest the like befall \\nIn Paradise to Adam or his race, \\nCharged not to touch the interdicted tree, \\nIf they transgress, and slight that sole command, \\nSo easily obeyed amid the choice \\nOf all tastes else to please their appetite, \\nThough wandering.  He, with his consorted Eve, \\nThe story heard attentive, and was filled \\nWith admiration and deep muse, to hear \\nOf things so high and strange; things, to their thought \\nSo unimaginable, as hate in Heaven, \\nAnd war so near the peace of God in bliss, \\nWith such confusion: but the evil, soon \\nDriven back, redounded as a flood on those \\nFrom whom it sprung; impossible to mix \\nWith blessedness.  Whence Adam soon repealed \\nThe doubts that in his heart arose: and now \\nLed on, yet sinless, with desire to know \\nWhat nearer might concern him, how this world \\nOf Heaven and Earth conspicuous first began; \\nWhen, and whereof created; for what cause; \\nWhat within Eden, or without, was done \\nBefore his memory; as one whose drouth \\nYet scarce allayed still eyes the current stream, \\nWhose liquid murmur heard new thirst excites, \\nProceeded thus to ask his heavenly guest. \\nGreat things, and full of wonder in our ears, \\nFar differing from this world, thou hast revealed, \\nDivine interpreter! by favour sent \\nDown from the empyrean, to forewarn \\nUs timely of what might else have been our loss, \\nUnknown, which human knowledge could not reach; \\nFor which to the infinitely Good we owe \\nImmortal thanks, and his admonishment \\nReceive, with solemn purpose to observe \\nImmutably his sovran will, the end \\nOf what we are.  But since thou hast vouchsafed \\nGently, for our instruction, to impart \\nThings above earthly thought, which yet concerned \\nOur knowing, as to highest wisdom seemed, \\nDeign to descend now lower, and relate \\nWhat may no less perhaps avail us known, \\nHow first began this Heaven which we behold \\nDistant so high, with moving fires adorned \\nInnumerable; and this which yields or fills \\nAll space, the ambient air wide interfused \\nEmbracing round this floried Earth; what cause \\nMoved the Creator, in his holy rest \\nThrough all eternity, so late to build \\nIn Chaos; and the work begun, how soon \\nAbsolved; if unforbid thou mayest unfold \\nWhat we, not to explore the secrets ask \\nOf his eternal empire, but the more \\nTo magnify his works, the more we know. \\nAnd the great light of day yet wants to run \\nMuch of his race though steep; suspense in Heaven, \\nHeld by thy voice, thy potent voice, he hears, \\nAnd longer will delay to hear thee tell \\nHis generation, and the rising birth \\nOf Nature from the unapparent Deep: \\nOr if the star of evening and the moon \\nHaste to thy audience, Night with her will bring, \\nSilence; and Sleep, listening to thee, will watch; \\nOr we can bid his absence, till thy song \\nEnd, and dismiss thee ere the morning shine. \\nThus Adam his illustrious guest besought: \\nAnd thus the Godlike Angel answered mild. \\nThis also thy request, with caution asked, \\nObtain; though to recount almighty works \\nWhat words or tongue of Seraph can suffice, \\nOr heart of man suffice to comprehend? \\nYet what thou canst attain, which best may serve \\nTo glorify the Maker, and infer \\nThee also happier, shall not be withheld \\nThy hearing; such commission from above \\nI have received, to answer thy desire \\nOf knowledge within bounds; beyond, abstain \\nTo ask; nor let thine own inventions hope \\nThings not revealed, which the invisible King, \\nOnly Omniscient, hath suppressed in night; \\nTo none communicable in Earth or Heaven: \\nEnough is left besides to search and know. \\nBut knowledge is as food, and needs no less \\nHer temperance over appetite, to know \\nIn measure what the mind may well contain; \\nOppresses else with surfeit, and soon turns \\nWisdom to folly, as nourishment to wind. \\nKnow then, that, after Lucifer from Heaven \\n(So call him, brighter once amidst the host \\nOf Angels, than that star the stars among,) \\nFell with his flaming legions through the deep \\nInto his place, and the great Son returned \\nVictorious with his Saints, the Omnipotent \\nEternal Father from his throne beheld \\nTheir multitude, and to his Son thus spake. \\nAt least our envious Foe hath failed, who thought \\nAll like himself rebellious, by whose aid \\nThis inaccessible high strength, the seat \\nOf Deity supreme, us dispossessed, \\nHe trusted to have seised, and into fraud \\nDrew many, whom their place knows here no more: \\nYet far the greater part have kept, I see, \\nTheir station; Heaven, yet populous, retains \\nNumber sufficient to possess her realms \\nThough wide, and this high temple to frequent \\nWith ministeries due, and solemn rites: \\nBut, lest his heart exalt him in the harm \\nAlready done, to have dispeopled Heaven, \\nMy damage fondly deemed, I can repair \\nThat detriment, if such it be to lose \\nSelf-lost; and in a moment will create \\nAnother world, out of one man a race \\nOf men innumerable, there to dwell, \\nNot here; till, by degrees of merit raised, \\nThey open to themselves at length the way \\nUp hither, under long obedience tried; \\nAnd Earth be changed to Heaven, and Heaven to Earth, \\nOne kingdom, joy and union without end. \\nMean while inhabit lax, ye Powers of Heaven; \\nAnd thou my Word, begotten Son, by thee \\nThis I perform; speak thou, and be it done! \\nMy overshadowing Spirit and Might with thee \\nI send along; ride forth, and bid the Deep \\nWithin appointed bounds be Heaven and Earth; \\nBoundless the Deep, because I Am who fill \\nInfinitude, nor vacuous the space. \\nThough I, uncircumscribed myself, retire, \\nAnd put not forth my goodness, which is free \\nTo act or not, Necessity and Chance \\nApproach not me, and what I will is Fate. \\nSo spake the Almighty, and to what he spake \\nHis Word, the Filial Godhead, gave effect. \\nImmediate are the acts of God, more swift \\nThan time or motion, but to human ears \\nCannot without process of speech be told, \\nSo told as earthly notion can receive. \\nGreat triumph and rejoicing was in Heaven, \\nWhen such was heard declared the Almighty\\'s will; \\nGlory they sung to the Most High, good will \\nTo future men, and in their dwellings peace; \\nGlory to Him, whose just avenging ire \\nHad driven out the ungodly from his sight \\nAnd the habitations of the just; to Him \\nGlory and praise, whose wisdom had ordained \\nGood out of evil to create; instead \\nOf Spirits malign, a better race to bring \\nInto their vacant room, and thence diffuse \\nHis good to worlds and ages infinite. \\nSo sang the Hierarchies:  Mean while the Son \\nOn his great expedition now appeared, \\nGirt with Omnipotence, with radiance crowned \\nOf Majesty Divine; sapience and love \\nImmense, and all his Father in him shone. \\nAbout his chariot numberless were poured \\nCherub, and Seraph, Potentates, and Thrones, \\nAnd Virtues, winged Spirits, and chariots winged \\nFrom the armoury of God; where stand of old \\nMyriads, between two brazen mountains lodged \\nAgainst a solemn day, harnessed at hand, \\nCelestial equipage; and now came forth \\nSpontaneous, for within them Spirit lived, \\nAttendant on their Lord:  Heaven opened wide \\nHer ever-during gates, harmonious sound \\nOn golden hinges moving, to let forth \\nThe King of Glory, in his powerful Word \\nAnd Spirit, coming to create new worlds. \\nOn heavenly ground they stood; and from the shore \\nThey viewed the vast immeasurable abyss \\nOutrageous as a sea, dark, wasteful, wild, \\nUp from the bottom turned by furious winds \\nAnd surging waves, as mountains, to assault \\nHeaven\\'s highth, and with the center mix the pole. \\nSilence, ye troubled Waves, and thou Deep, peace, \\nSaid then the Omnifick Word; your discord end! \\nNor staid; but, on the wings of Cherubim \\nUplifted, in paternal glory rode \\nFar into Chaos, and the world unborn; \\nFor Chaos heard his voice:  Him all his train \\nFollowed in bright procession, to behold \\nCreation, and the wonders of his might. \\nThen staid the fervid wheels, and in his hand \\nHe took the golden compasses, prepared \\nIn God\\'s eternal store, to circumscribe \\nThis universe, and all created things: \\nOne foot he centered, and the other turned \\nRound through the vast profundity obscure; \\nAnd said, Thus far extend, thus far thy bounds, \\nThis be thy just circumference, O World! \\nThus God the Heaven created, thus the Earth, \\nMatter unformed and void:  Darkness profound \\nCovered the abyss: but on the watery calm \\nHis brooding wings the Spirit of God outspread, \\nAnd vital virtue infused, and vital warmth \\nThroughout the fluid mass; but downward purged \\nThe black tartareous cold infernal dregs, \\nAdverse to life: then founded, then conglobed \\nLike things to like; the rest to several place \\nDisparted, and between spun out the air; \\nAnd Earth self-balanced on her center hung. \\nLet there be light, said God; and forthwith Light \\nEthereal, first of things, quintessence pure, \\nSprung from the deep; and from her native east \\nTo journey through the aery gloom began, \\nSphered in a radiant cloud, for yet the sun \\nWas not; she in a cloudy tabernacle \\nSojourned the while.  God saw the light was good; \\nAnd light from darkness by the hemisphere \\nDivided: light the Day, and darkness Night, \\nHe named.  Thus was the first day even and morn: \\nNor past uncelebrated, nor unsung \\nBy the celestial quires, when orient light \\nExhaling first from darkness they beheld; \\nBirth-day of Heaven and Earth; with joy and shout \\nThe hollow universal orb they filled, \\nAnd touched their golden harps, and hymning praised \\nGod and his works; Creator him they sung, \\nBoth when first evening was, and when first morn. \\nAgain, God said,  Let there be firmament \\nAmid the waters, and let it divide \\nThe waters from the waters; and God made \\nThe firmament, expanse of liquid, pure, \\nTransparent, elemental air, diffused \\nIn circuit to the uttermost convex \\nOf this great round; partition firm and sure, \\nThe waters underneath from those above \\nDividing: for as earth, so he the world \\nBuilt on circumfluous waters calm, in wide \\nCrystalline ocean, and the loud misrule \\nOf Chaos far removed; lest fierce extremes \\nContiguous might distemper the whole frame: \\nAnd Heaven he named the Firmament:  So even \\nAnd morning chorus sung the second day. \\nThe Earth was formed, but in the womb as yet \\nOf waters, embryon immature involved, \\nAppeared not: over all the face of Earth \\nMain ocean flowed, not idle; but, with warm \\nProlifick humour softening all her globe, \\nFermented the great mother to conceive, \\nSatiate with genial moisture; when God said, \\nBe gathered now ye waters under Heaven \\nInto one place, and let dry land appear. \\nImmediately the mountains huge appear \\nEmergent, and their broad bare backs upheave \\nInto the clouds; their tops ascend the sky: \\nSo high as heaved the tumid hills, so low \\nDown sunk a hollow bottom broad and deep, \\nCapacious bed of waters:  Thither they \\nHasted with glad precipitance, uprolled, \\nAs drops on dust conglobing from the dry: \\nPart rise in crystal wall, or ridge direct, \\nFor haste; such flight the great command impressed \\nOn the swift floods:  As armies at the call \\nOf trumpet (for of armies thou hast heard) \\nTroop to their standard; so the watery throng, \\nWave rolling after wave, where way they found, \\nIf steep, with torrent rapture, if through plain, \\nSoft-ebbing; nor withstood them rock or hill; \\nBut they, or under ground, or circuit wide \\nWith serpent errour wandering, found their way, \\nAnd on the washy oose deep channels wore; \\nEasy, ere God had bid the ground be dry, \\nAll but within those banks, where rivers now \\nStream, and perpetual draw their humid train. \\nThe dry land, Earth; and the great receptacle \\nOf congregated waters, he called Seas: \\nAnd saw that it was good; and said, Let the Earth \\nPut forth the verdant grass, herb yielding seed, \\nAnd fruit-tree yielding fruit after her kind, \\nWhose seed is in herself upon the Earth. \\nHe scarce had said, when the bare Earth, till then \\nDesart and bare, unsightly, unadorned, \\nBrought forth the tender grass, whose verdure clad \\nHer universal face with pleasant green; \\nThen herbs of every leaf, that sudden flowered \\nOpening their various colours, and made gay \\nHer bosom, smelling sweet: and, these scarce blown, \\nForth flourished thick the clustering vine, forth crept \\nThe swelling gourd, up stood the corny reed \\nEmbattled in her field, and the humble shrub, \\nAnd bush with frizzled hair implicit:  Last \\nRose, as in dance, the stately trees, and spread \\nTheir branches hung with copious fruit, or gemmed \\nTheir blossoms:  With high woods the hills were crowned; \\nWith tufts the valleys, and each fountain side; \\nWith borders long the rivers: that Earth now \\nSeemed like to Heaven, a seat where Gods might dwell, \\nOr wander with delight, and love to haunt \\nHer sacred shades: though God had yet not rained \\nUpon the Earth, and man to till the ground \\nNone was; but from the Earth a dewy mist \\nWent up, and watered all the ground, and each \\nPlant of the field; which, ere it was in the Earth, \\nGod made, and every herb, before it grew \\nOn the green stem:  God saw that it was good: \\nSo even and morn recorded the third day. \\nAgain the Almighty spake, Let there be lights \\nHigh in the expanse of Heaven, to divide \\nThe day from night; and let them be for signs, \\nFor seasons, and for days, and circling years; \\nAnd let them be for lights, as I ordain \\nTheir office in the firmament of Heaven, \\nTo give light on the Earth; and it was so. \\nAnd God made two great lights, great for their use \\nTo Man, the greater to have rule by day, \\nThe less by night, altern; and made the stars, \\nAnd set them in the firmament of Heaven \\nTo illuminate the Earth, and rule the day \\nIn their vicissitude, and rule the night, \\nAnd light from darkness to divide.  God saw, \\nSurveying his great work, that it was good: \\nFor of celestial bodies first the sun \\nA mighty sphere he framed, unlightsome first, \\nThough of ethereal mould: then formed the moon \\nGlobose, and every magnitude of stars, \\nAnd sowed with stars the Heaven, thick as a field: \\nOf light by far the greater part he took, \\nTransplanted from her cloudy shrine, and placed \\nIn the sun\\'s orb, made porous to receive \\nAnd drink the liquid light; firm to retain \\nHer gathered beams, great palace now of light. \\nHither, as to their fountain, other stars \\nRepairing, in their golden urns draw light, \\nAnd hence the morning-planet gilds her horns; \\nBy tincture or reflection they augment \\nTheir small peculiar, though from human sight \\nSo far remote, with diminution seen, \\nFirst in his east the glorious lamp was seen, \\nRegent of day, and all the horizon round \\nInvested with bright rays, jocund to run \\nHis longitude through Heaven\\'s high road; the gray \\nDawn, and the Pleiades, before him danced, \\nShedding sweet influence:  Less bright the moon, \\nBut opposite in levelled west was set, \\nHis mirrour, with full face borrowing her light \\nFrom him; for other light she needed none \\nIn that aspect, and still that distance keeps \\nTill night; then in the east her turn she shines, \\nRevolved on Heaven\\'s great axle, and her reign \\nWith thousand lesser lights dividual holds, \\nWith thousand thousand stars, that then appeared \\nSpangling the hemisphere:  Then first adorned \\nWith their bright luminaries that set and rose, \\nGlad evening and glad morn crowned the fourth day. \\nAnd God said, Let the waters generate \\nReptile with spawn abundant, living soul: \\nAnd let fowl fly above the Earth, with wings \\nDisplayed on the open firmament of Heaven. \\nAnd God created the great whales, and each \\nSoul living, each that crept, which plenteously \\nThe waters generated by their kinds; \\nAnd every bird of wing after his kind; \\nAnd saw that it was good, and blessed them, saying. \\nBe fruitful, multiply, and in the seas, \\nAnd lakes, and running streams, the waters fill; \\nAnd let the fowl be multiplied, on the Earth. \\nForthwith the sounds and seas, each creek and bay, \\nWith fry innumerable swarm, and shoals \\nOf fish that with their fins, and shining scales, \\nGlide under the green wave, in sculls that oft \\nBank the mid sea: part single, or with mate, \\nGraze the sea-weed their pasture, and through groves \\nOf coral stray; or, sporting with quick glance, \\nShow to the sun their waved coats dropt with gold; \\nOr, in their pearly shells at ease, attend \\nMoist nutriment; or under rocks their food \\nIn jointed armour watch: on smooth the seal \\nAnd bended dolphins play: part huge of bulk \\nWallowing unwieldy, enormous in their gait, \\nTempest the ocean: there leviathan, \\nHugest of living creatures, on the deep \\nStretched like a promontory sleeps or swims, \\nAnd seems a moving land; and at his gills \\nDraws in, and at his trunk spouts out, a sea. \\nMean while the tepid caves, and fens, and shores, \\nTheir brood as numerous hatch, from the egg that soon \\nBursting with kindly rupture forth disclosed \\nTheir callow young; but feathered soon and fledge \\nThey summed their pens; and, soaring the air sublime, \\nWith clang despised the ground, under a cloud \\nIn prospect; there the eagle and the stork \\nOn cliffs and cedar tops their eyries build: \\nPart loosely wing the region, part more wise \\nIn common, ranged in figure, wedge their way, \\nIntelligent of seasons, and set forth \\nTheir aery caravan, high over seas \\nFlying, and over lands, with mutual wing \\nEasing their flight; so steers the prudent crane \\nHer annual voyage, borne on winds; the air \\nFloats as they pass, fanned with unnumbered plumes: \\nFrom branch to branch the smaller birds with song \\nSolaced the woods, and spread their painted wings \\nTill even; nor then the solemn nightingale \\nCeased warbling, but all night tun\\'d her soft lays: \\nOthers, on silver lakes and rivers, bathed \\nTheir downy breast; the swan with arched neck, \\nBetween her white wings mantling proudly, rows \\nHer state with oary feet; yet oft they quit \\nThe dank, and, rising on stiff pennons, tower \\nThe mid aereal sky:  Others on ground \\nWalked firm; the crested cock whose clarion sounds \\nThe silent hours, and the other whose gay train \\nAdorns him, coloured with the florid hue \\nOf rainbows and starry eyes.  The waters thus \\nWith fish replenished, and the air with fowl, \\nEvening and morn solemnized the fifth day. \\nThe sixth, and of creation last, arose \\nWith evening harps and matin; when God said, \\nLet the Earth bring forth soul living in her kind, \\nCattle, and creeping things, and beast of the Earth, \\nEach in their kind.  The Earth obeyed, and straight \\nOpening her fertile womb teemed at a birth \\nInnumerous living creatures, perfect forms, \\nLimbed and full grown:  Out of the ground up rose, \\nAs from his lair, the wild beast where he wons \\nIn forest wild, in thicket, brake, or den; \\nAmong the trees in pairs they rose, they walked: \\nThe cattle in the fields and meadows green: \\nThose rare and solitary, these in flocks \\nPasturing at once, and in broad herds upsprung. \\nThe grassy clods now calved; now half appeared \\nThe tawny lion, pawing to get free \\nHis hinder parts, then springs as broke from bonds, \\nAnd rampant shakes his brinded mane; the ounce, \\nThe libbard, and the tiger, as the mole \\nRising, the crumbled earth above them threw \\nIn hillocks:  The swift stag from under ground \\nBore up his branching head:  Scarce from his mould \\nBehemoth biggest born of earth upheaved \\nHis vastness:  Fleeced the flocks and bleating rose, \\nAs plants:  Ambiguous between sea and land \\nThe river-horse, and scaly crocodile. \\nAt once came forth whatever creeps the ground, \\nInsect or worm: those waved their limber fans \\nFor wings, and smallest lineaments exact \\nIn all the liveries decked of summer\\'s pride \\nWith spots of gold and purple, azure and green: \\nThese, as a line, their long dimension drew, \\nStreaking the ground with sinuous trace; not all \\nMinims of nature; some of serpent-kind, \\nWonderous in length and corpulence, involved \\nTheir snaky folds, and added wings.  First crept \\nThe parsimonious emmet, provident \\nOf future; in small room large heart enclosed; \\nPattern of just equality perhaps \\nHereafter, joined in her popular tribes \\nOf commonalty:  Swarming next appeared \\nThe female bee, that feeds her husband drone \\nDeliciously, and builds her waxen cells \\nWith honey stored:  The rest are numberless, \\nAnd thou their natures knowest, and gavest them names, \\nNeedless to thee repeated; nor unknown \\nThe serpent, subtlest beast of all the field, \\nOf huge extent sometimes, with brazen eyes \\nAnd hairy mane terrifick, though to thee \\nNot noxious, but obedient at thy call. \\nNow Heaven in all her glory shone, and rolled \\nHer motions, as the great first Mover\\'s hand \\nFirst wheeled their course:  Earth in her rich attire \\nConsummate lovely smiled; air, water, earth, \\nBy fowl, fish, beast, was flown, was swum, was walked, \\nFrequent; and of the sixth day yet remained: \\nThere wanted yet the master-work, the end \\nOf all yet done; a creature, who, not prone \\nAnd brute as other creatures, but endued \\nWith sanctity of reason, might erect \\nHis stature, and upright with front serene \\nGovern the rest, self-knowing; and from thence \\nMagnanimous to correspond with Heaven, \\nBut grateful to acknowledge whence his good \\nDescends, thither with heart, and voice, and eyes \\nDirected in devotion, to adore \\nAnd worship God Supreme, who made him chief \\nOf all his works:  therefore the Omnipotent \\nEternal Father (for where is not he \\nPresent?) thus to his Son audibly spake. \\nLet us make now Man in our image, Man \\nIn our similitude, and let them rule \\nOver the fish and fowl of sea and air, \\nBeast of the field, and over all the Earth, \\nAnd every creeping thing that creeps the ground. \\nThis said, he formed thee, Adam, thee, O Man, \\nDust of the ground, and in thy nostrils breathed \\nThe breath of life; in his own image he \\nCreated thee, in the image of God \\nExpress; and thou becamest a living soul. \\nMale he created thee; but thy consort \\nFemale, for race; then blessed mankind, and said, \\nBe fruitful, multiply, and fill the Earth; \\nSubdue it, and throughout dominion hold \\nOver fish of the sea, and fowl of the air, \\nAnd every living thing that moves on the Earth. \\nWherever thus created, for no place \\nIs yet distinct by name, thence, as thou knowest, \\nHe brought thee into this delicious grove, \\nThis garden, planted with the trees of God, \\nDelectable both to behold and taste; \\nAnd freely all their pleasant fruit for food \\nGave thee; all sorts are here that all the Earth yields, \\nVariety without end; but of the tree, \\nWhich, tasted, works knowledge of good and evil, \\nThou mayest not; in the day thou eatest, thou diest; \\nDeath is the penalty imposed; beware, \\nAnd govern well thy appetite; lest Sin \\nSurprise thee, and her black attendant Death. \\nHere finished he, and all that he had made \\nViewed, and behold all was entirely good; \\nSo even and morn accomplished the sixth day: \\nYet not till the Creator from his work \\nDesisting, though unwearied, up returned, \\nUp to the Heaven of Heavens, his high abode; \\nThence to behold this new created world, \\nThe addition of his empire, how it showed \\nIn prospect from his throne, how good, how fair, \\nAnswering his great idea.  Up he rode \\nFollowed with acclamation, and the sound \\nSymphonious of ten thousand harps, that tuned \\nAngelick harmonies:  The earth, the air \\nResounded, (thou rememberest, for thou heardst,) \\nThe heavens and all the constellations rung, \\nThe planets in their station listening stood, \\nWhile the bright pomp ascended jubilant. \\nOpen, ye everlasting gates! they sung, \\nOpen, ye Heavens! your living doors;let in \\nThe great Creator from his work returned \\nMagnificent, his six days work, a World; \\nOpen, and henceforth oft; for God will deign \\nTo visit oft the dwellings of just men, \\nDelighted; and with frequent intercourse \\nThither will send his winged messengers \\nOn errands of supernal grace.  So sung \\nThe glorious train ascending:  He through Heaven, \\nThat opened wide her blazing portals, led \\nTo God\\'s eternal house direct the way; \\nA broad and ample road, whose dust is gold \\nAnd pavement stars, as stars to thee appear, \\nSeen in the galaxy, that milky way, \\nWhich nightly, as a circling zone, thou seest \\nPowdered with stars.  And now on Earth the seventh \\nEvening arose in Eden, for the sun \\nWas set, and twilight from the east came on, \\nForerunning night; when at the holy mount \\nOf Heaven\\'s high-seated top, the imperial throne \\nOf Godhead, fixed for ever firm and sure, \\nThe Filial Power arrived, and sat him down \\nWith his great Father; for he also went \\nInvisible, yet staid, (such privilege \\nHath Omnipresence) and the work ordained, \\nAuthor and End of all things; and, from work \\nNow resting, blessed and hallowed the seventh day, \\nAs resting on that day from all his work, \\nBut not in silence holy kept: the harp \\nHad work and rested not; the solemn pipe, \\nAnd dulcimer, all organs of sweet stop, \\nAll sounds on fret by string or golden wire, \\nTempered soft tunings, intermixed with voice \\nChoral or unison: of incense clouds, \\nFuming from golden censers, hid the mount. \\nCreation and the six days acts they sung: \\nGreat are thy works, Jehovah! infinite \\nThy power! what thought can measure thee, or tongue \\nRelate thee!  Greater now in thy return \\nThan from the giant Angels:  Thee that day \\nThy thunders magnified; but to create \\nIs greater than created to destroy. \\nWho can impair thee, Mighty King, or bound \\nThy empire!  Easily the proud attempt \\nOf Spirits apostate, and their counsels vain, \\nThou hast repelled; while impiously they thought \\nThee to diminish, and from thee withdraw \\nThe number of thy worshippers.  Who seeks \\nTo lessen thee, against his purpose serves \\nTo manifest the more thy might: his evil \\nThou usest, and from thence createst more good. \\nWitness this new-made world, another Heaven \\nFrom Heaven-gate not far, founded in view \\nOn the clear hyaline, the glassy sea; \\nOf amplitude almost immense, with stars \\nNumerous, and every star perhaps a world \\nOf destined habitation; but thou knowest \\nTheir seasons: among these the seat of Men, \\nEarth, with her nether ocean circumfused, \\nTheir pleasant dwelling-place.  Thrice happy Men, \\nAnd sons of Men, whom God hath thus advanced! \\nCreated in his image, there to dwell \\nAnd worship him; and in reward to rule \\nOver his works, on earth, in sea, or air, \\nAnd multiply a race of worshippers \\nHoly and just:  Thrice happy, if they know \\nTheir happiness, and persevere upright! \\nSo sung they, and the empyrean rung \\nWith halleluiahs:  Thus was sabbath kept. \\nAnd thy request think now fulfilled, that asked \\nHow first this world and face of things began, \\nAnd what before thy memory was done \\nFrom the beginning; that posterity, \\nInformed by thee, might know:  If else thou seekest \\nAught, not surpassing human measure, say. \\n \\n \\n \\nBook VIII                                                        \\n \\n \\nThe Angel ended, and in Adam\\'s ear \\nSo charming left his voice, that he a while \\nThought him still speaking, still stood fixed to hear; \\nThen, as new waked, thus gratefully replied. \\nWhat thanks sufficient, or what recompence \\nEqual, have I to render thee, divine \\nHistorian, who thus largely hast allayed \\nThe thirst I had of knowledge, and vouchsafed \\nThis friendly condescension to relate \\nThings, else by me unsearchable; now heard \\nWith wonder, but delight, and, as is due, \\nWith glory attributed to the high \\nCreator!  Something yet of doubt remains, \\nWhich only thy solution can resolve. \\nWhen I behold this goodly frame, this world, \\nOf Heaven and Earth consisting; and compute \\nTheir magnitudes; this Earth, a spot, a grain, \\nAn atom, with the firmament compared \\nAnd all her numbered stars, that seem to roll \\nSpaces incomprehensible, (for such \\nTheir distance argues, and their swift return \\nDiurnal,) merely to officiate light \\nRound this opacous Earth, this punctual spot, \\nOne day and night; in all her vast survey \\nUseless besides; reasoning I oft admire, \\nHow Nature wise and frugal could commit \\nSuch disproportions, with superfluous hand \\nSo many nobler bodies to create, \\nGreater so manifold, to this one use, \\nFor aught appears, and on their orbs impose \\nSuch restless revolution day by day \\nRepeated; while the sedentary Earth, \\nThat better might with far less compass move, \\nServed by more noble than herself, attains \\nHer end without least motion, and receives, \\nAs tribute, such a sumless journey brought \\nOf incorporeal speed, her warmth and light; \\nSpeed, to describe whose swiftness number fails. \\nSo spake our sire, and by his countenance seemed \\nEntering on studious thoughts abstruse; which Eve \\nPerceiving, where she sat retired in sight, \\nWith lowliness majestick from her seat, \\nAnd grace that won who saw to wish her stay, \\nRose, and went forth among her fruits and flowers, \\nTo visit how they prospered, bud and bloom, \\nHer nursery; they at her coming sprung, \\nAnd, touched by her fair tendance, gladlier grew. \\nYet went she not, as not with such discourse \\nDelighted, or not capable her ear \\nOf what was high: such pleasure she reserved, \\nAdam relating, she sole auditress; \\nHer husband the relater she preferred \\nBefore the Angel, and of him to ask \\nChose rather; he, she knew, would intermix \\nGrateful digressions, and solve high dispute \\nWith conjugal caresses: from his lip \\nNot words alone pleased her.  O! when meet now \\nSuch pairs, in love and mutual honour joined? \\nWith Goddess-like demeanour forth she went, \\nNot unattended; for on her, as Queen, \\nA pomp of winning Graces waited still, \\nAnd from about her shot darts of desire \\nInto all eyes, to wish her still in sight. \\nAnd Raphael now, to Adam\\'s doubt proposed, \\nBenevolent and facile thus replied. \\nTo ask or search, I blame thee not; for Heaven \\nIs as the book of God before thee set, \\nWherein to read his wonderous works, and learn \\nHis seasons, hours, or days, or months, or years: \\nThis to attain, whether Heaven move or Earth, \\nImports not, if thou reckon right; the rest \\nFrom Man or Angel the great Architect \\nDid wisely to conceal, and not divulge \\nHis secrets to be scanned by them who ought \\nRather admire; or, if they list to try \\nConjecture, he his fabrick of the Heavens \\nHath left to their disputes, perhaps to move \\nHis laughter at their quaint opinions wide \\nHereafter; when they come to model Heaven \\nAnd calculate the stars, how they will wield \\nThe mighty frame; how build, unbuild, contrive \\nTo save appearances; how gird the sphere \\nWith centrick and eccentrick scribbled o\\'er, \\nCycle and epicycle, orb in orb: \\nAlready by thy reasoning this I guess, \\nWho art to lead thy offspring, and supposest \\nThat bodies bright and greater should not serve \\nThe less not bright, nor Heaven such journeys run, \\nEarth sitting still, when she alone receives \\nThe benefit:  Consider first, that great \\nOr bright infers not excellence: the Earth \\nThough, in comparison of Heaven, so small, \\nNor glistering, may of solid good contain \\nMore plenty than the sun that barren shines; \\nWhose virtue on itself works no effect, \\nBut in the fruitful Earth; there first received, \\nHis beams, unactive else, their vigour find. \\nYet not to Earth are those bright luminaries \\nOfficious; but to thee, Earth\\'s habitant. \\nAnd for the Heaven\\'s wide circuit, let it speak \\nThe Maker\\'s high magnificence, who built \\nSo spacious, and his line stretched out so far; \\nThat Man may know he dwells not in his own; \\nAn edifice too large for him to fill, \\nLodged in a small partition; and the rest \\nOrdained for uses to his Lord best known. \\nThe swiftness of those circles attribute, \\nThough numberless, to his Omnipotence, \\nThat to corporeal substances could add \\nSpeed almost spiritual:  Me thou thinkest not slow, \\nWho since the morning-hour set out from Heaven \\nWhere God resides, and ere mid-day arrived \\nIn Eden; distance inexpressible \\nBy numbers that have name.  But this I urge, \\nAdmitting motion in the Heavens, to show \\nInvalid that which thee to doubt it moved; \\nNot that I so affirm, though so it seem \\nTo thee who hast thy dwelling here on Earth. \\nGod, to remove his ways from human sense, \\nPlaced Heaven from Earth so far, that earthly sight, \\nIf it presume, might err in things too high, \\nAnd no advantage gain.  What if the sun \\nBe center to the world; and other stars, \\nBy his attractive virtue and their own \\nIncited, dance about him various rounds? \\nTheir wandering course now high, now low, then hid, \\nProgressive, retrograde, or standing still, \\nIn six thou seest; and what if seventh to these \\nThe planet earth, so stedfast though she seem, \\nInsensibly three different motions move? \\nWhich else to several spheres thou must ascribe, \\nMoved contrary with thwart obliquities; \\nOr save the sun his labour, and that swift \\nNocturnal and diurnal rhomb supposed, \\nInvisible else above all stars, the wheel \\nOf day and night; which needs not thy belief, \\nIf earth, industrious of herself, fetch day \\nTravelling east, and with her part averse \\nFrom the sun\\'s beam meet night, her other part \\nStill luminous by his ray.  What if that light, \\nSent from her through the wide transpicuous air, \\nTo the terrestrial moon be as a star, \\nEnlightening her by day, as she by night \\nThis earth? reciprocal, if land be there, \\nFields and inhabitants:  Her spots thou seest \\nAs clouds, and clouds may rain, and rain produce \\nFruits in her softened soil for some to eat \\nAllotted there; and other suns perhaps, \\nWith their attendant moons, thou wilt descry, \\nCommunicating male and female light; \\nWhich two great sexes animate the world, \\nStored in each orb perhaps with some that live. \\nFor such vast room in Nature unpossessed \\nBy living soul, desart and desolate, \\nOnly to shine, yet scarce to contribute \\nEach orb a glimpse of light, conveyed so far \\nDown to this habitable, which returns \\nLight back to them, is obvious to dispute. \\nBut whether thus these things, or whether not; \\nBut whether the sun, predominant in Heaven, \\nRise on the earth; or earth rise on the sun; \\nHe from the east his flaming road begin; \\nOr she from west her silent course advance, \\nWith inoffensive pace that spinning sleeps \\nOn her soft axle, while she paces even, \\nAnd bears thee soft with the smooth hair along; \\nSollicit not thy thoughts with matters hid; \\nLeave them to God above; him serve, and fear! \\nOf other creatures, as him pleases best, \\nWherever placed, let him dispose; joy thou \\nIn what he gives to thee, this Paradise \\nAnd thy fair Eve; Heaven is for thee too high \\nTo know what passes there; be lowly wise: \\nThink only what concerns thee, and thy being; \\nDream not of other worlds, what creatures there \\nLive, in what state, condition, or degree; \\nContented that thus far hath been revealed \\nNot of Earth only, but of highest Heaven. \\nTo whom thus Adam, cleared of doubt, replied. \\nHow fully hast thou satisfied me, pure \\nIntelligence of Heaven, Angel serene! \\nAnd, freed from intricacies, taught to live \\nThe easiest way; nor with perplexing thoughts \\nTo interrupt the sweet of life, from which \\nGod hath bid dwell far off all anxious cares, \\nAnd not molest us; unless we ourselves \\nSeek them with wandering thoughts, and notions vain. \\nBut apt the mind or fancy is to rove \\nUnchecked, and of her roving is no end; \\nTill warned, or by experience taught, she learn, \\nThat, not to know at large of things remote \\nFrom use, obscure and subtle; but, to know \\nThat which before us lies in daily life, \\nIs the prime wisdom:  What is more, is fume, \\nOr emptiness, or fond impertinence: \\nAnd renders us, in things that most concern, \\nUnpractised, unprepared, and still to seek. \\nTherefore from this high pitch let us descend \\nA lower flight, and speak of things at hand \\nUseful; whence, haply, mention may arise \\nOf something not unseasonable to ask, \\nBy sufferance, and thy wonted favour, deigned. \\nThee I have heard relating what was done \\nEre my remembrance: now, hear me relate \\nMy story, which perhaps thou hast not heard; \\nAnd day is not yet spent; till then thou seest \\nHow subtly to detain thee I devise; \\nInviting thee to hear while I relate; \\nFond! were it not in hope of thy reply: \\nFor, while I sit with thee, I seem in Heaven; \\nAnd sweeter thy discourse is to my ear \\nThan fruits of palm-tree pleasantest to thirst \\nAnd hunger both, from labour, at the hour \\nOf sweet repast; they satiate, and soon fill, \\nThough pleasant; but thy words, with grace divine \\nImbued, bring to their sweetness no satiety. \\nTo whom thus Raphael answered heavenly meek. \\nNor are thy lips ungraceful, Sire of men, \\nNor tongue ineloquent; for God on thee \\nAbundantly his gifts hath also poured \\nInward and outward both, his image fair: \\nSpeaking, or mute, all comeliness and grace \\nAttends thee; and each word, each motion, forms; \\nNor less think we in Heaven of thee on Earth \\nThan of our fellow-servant, and inquire \\nGladly into the ways of God with Man: \\nFor God, we see, hath honoured thee, and set \\nOn Man his equal love:  Say therefore on; \\nFor I that day was absent, as befel, \\nBound on a voyage uncouth and obscure, \\nFar on excursion toward the gates of Hell; \\nSquared in full legion (such command we had) \\nTo see that none thence issued forth a spy, \\nOr enemy, while God was in his work; \\nLest he, incensed at such eruption bold, \\nDestruction with creation might have mixed. \\nNot that they durst without his leave attempt; \\nBut us he sends upon his high behests \\nFor state, as Sovran King; and to inure \\nOur prompt obedience.  Fast we found, fast shut, \\nThe dismal gates, and barricadoed strong; \\nBut long ere our approaching heard within \\nNoise, other than the sound of dance or song, \\nTorment, and loud lament, and furious rage. \\nGlad we returned up to the coasts of light \\nEre sabbath-evening: so we had in charge. \\nBut thy relation now; for I attend, \\nPleased with thy words no less than thou with mine. \\nSo spake the Godlike Power, and thus our Sire. \\nFor Man to tell how human life began \\nIs hard; for who himself beginning knew \\nDesire with thee still longer to converse \\nInduced me.  As new waked from soundest sleep, \\nSoft on the flowery herb I found me laid, \\nIn balmy sweat; which with his beams the sun \\nSoon dried, and on the reeking moisture fed. \\nStraight toward Heaven my wondering eyes I turned, \\nAnd gazed a while the ample sky; till, raised \\nBy quick instinctive motion, up I sprung, \\nAs thitherward endeavouring, and upright \\nStood on my feet: about me round I saw \\nHill, dale, and shady woods, and sunny plains, \\nAnd liquid lapse of murmuring streams; by these, \\nCreatures that lived and moved, and walked, or flew; \\nBirds on the branches warbling; all things smiled; \\nWith fragrance and with joy my heart o\\'erflowed. \\nMyself I then perused, and limb by limb \\nSurveyed, and sometimes went, and sometimes ran \\nWith supple joints, as lively vigour led: \\nBut who I was, or where, or from what cause, \\nKnew not; to speak I tried, and forthwith spake; \\nMy tongue obeyed, and readily could name \\nWhate\\'er I saw.  Thou Sun, said I, fair light, \\nAnd thou enlightened Earth, so fresh and gay, \\nYe Hills, and Dales, ye Rivers, Woods, and Plains, \\nAnd ye that live and move, fair Creatures, tell, \\nTell, if ye saw, how I came thus, how here?-- \\nNot of myself;--by some great Maker then, \\nIn goodness and in power pre-eminent: \\nTell me, how may I know him, how adore, \\nFrom whom I have that thus I move and live, \\nAnd feel that I am happier than I know.-- \\nWhile thus I called, and strayed I knew not whither, \\nFrom where I first drew air, and first beheld \\nThis happy light; when, answer none returned, \\nOn a green shady bank, profuse of flowers, \\nPensive I sat me down:  There gentle sleep \\nFirst found me, and with soft oppression seised \\nMy droused sense, untroubled, though I thought \\nI then was passing to my former state \\nInsensible, and forthwith to dissolve: \\nWhen suddenly stood at my head a dream, \\nWhose inward apparition gently moved \\nMy fancy to believe I yet had being, \\nAnd lived:  One came, methought, of shape divine, \\nAnd said, \\'Thy mansion wants thee, Adam; rise, \\n\\'First Man, of men innumerable ordained \\n\\'First Father! called by thee, I come thy guide \\n\\'To the garden of bliss, thy seat prepared.\\' \\nSo saying, by the hand he took me raised, \\nAnd over fields and waters, as in air \\nSmooth-sliding without step, last led me up \\nA woody mountain; whose high top was plain, \\nA circuit wide, enclosed, with goodliest trees \\nPlanted, with walks, and bowers; that what I saw \\nOf Earth before scarce pleasant seemed.  Each tree, \\nLoaden with fairest fruit that hung to the eye \\nTempting, stirred in me sudden appetite \\nTo pluck and eat; whereat I waked, and found \\nBefore mine eyes all real, as the dream \\nHad lively shadowed:  Here had new begun \\nMy wandering, had not he, who was my guide \\nUp hither, from among the trees appeared, \\nPresence Divine.  Rejoicing, but with awe, \\nIn adoration at his feet I fell \\nSubmiss:  He reared me, and \\'Whom thou soughtest I am,\\' \\nSaid mildly, \\'Author of all this thou seest \\n\\'Above, or round about thee, or beneath. \\n\\'This Paradise I give thee, count it thine \\n\\'To till and keep, and of the fruit to eat: \\n\\'Of every tree that in the garden grows \\n\\'Eat freely with glad heart; fear here no dearth: \\n\\'But of the tree whose operation brings \\n\\'Knowledge of good and ill, which I have set \\n\\'The pledge of thy obedience and thy faith, \\n\\'Amid the garden by the tree of life, \\n\\'Remember what I warn thee, shun to taste, \\n\\'And shun the bitter consequence: for know, \\n\\'The day thou eatest thereof, my sole command \\n\\'Transgressed, inevitably thou shalt die, \\n\\'From that day mortal; and this happy state \\n\\'Shalt lose, expelled from hence into a world \\n\\'Of woe and sorrow.\\'  Sternly he pronounced \\nThe rigid interdiction, which resounds \\nYet dreadful in mine ear, though in my choice \\nNot to incur; but soon his clear aspect \\nReturned, and gracious purpose thus renewed. \\n\\'Not only these fair bounds, but all the Earth \\n\\'To thee and to thy race I give; as lords \\n\\'Possess it, and all things that therein live, \\n\\'Or live in sea, or air; beast, fish, and fowl. \\n\\'In sign whereof, each bird and beast behold \\n\\'After their kinds; I bring them to receive \\n\\'From thee their names, and pay thee fealty \\n\\'With low subjection; understand the same \\n\\'Of fish within their watery residence, \\n\\'Not hither summoned, since they cannot change \\n\\'Their element, to draw the thinner air.\\' \\nAs thus he spake, each bird and beast behold \\nApproaching two and two; these cowering low \\nWith blandishment; each bird stooped on his wing. \\nI named them, as they passed, and understood \\nTheir nature, with such knowledge God endued \\nMy sudden apprehension:  But in these \\nI found not what methought I wanted still; \\nAnd to the heavenly Vision thus presumed. \\nO, by what name, for thou above all these, \\nAbove mankind, or aught than mankind higher, \\nSurpassest far my naming; how may I \\nAdore thee, Author of this universe, \\nAnd all this good to man? for whose well being \\nSo amply, and with hands so liberal, \\nThou hast provided all things:  But with me \\nI see not who partakes.  In solitude \\nWhat happiness, who can enjoy alone, \\nOr, all enjoying, what contentment find? \\nThus I presumptuous; and the Vision bright, \\nAs with a smile more brightened, thus replied. \\nWhat callest thou solitude?  Is not the Earth \\nWith various living creatures, and the air \\nReplenished, and all these at thy command \\nTo come and play before thee?  Knowest thou not \\nTheir language and their ways?  They also know, \\nAnd reason not contemptibly:  With these \\nFind pastime, and bear rule; thy realm is large. \\nSo spake the Universal Lord, and seemed \\nSo ordering:  I, with leave of speech implored, \\nAnd humble deprecation, thus replied. \\nLet not my words offend thee, Heavenly Power; \\nMy Maker, be propitious while I speak. \\nHast thou not made me here thy substitute, \\nAnd these inferiour far beneath me set? \\nAmong unequals what society \\nCan sort, what harmony, or true delight? \\nWhich must be mutual, in proportion due \\nGiven and received; but, in disparity \\nThe one intense, the other still remiss, \\nCannot well suit with either, but soon prove \\nTedious alike:  Of fellowship I speak \\nSuch as I seek, fit to participate \\nAll rational delight: wherein the brute \\nCannot be human consort:  They rejoice \\nEach with their kind, lion with lioness; \\nSo fitly them in pairs thou hast combined: \\nMuch less can bird with beast, or fish with fowl \\nSo well converse, nor with the ox the ape; \\nWorse then can man with beast, and least of all. \\nWhereto the Almighty answered, not displeased. \\nA nice and subtle happiness, I see, \\nThou to thyself proposest, in the choice \\nOf thy associates, Adam! and wilt taste \\nNo pleasure, though in pleasure, solitary. \\nWhat thinkest thou then of me, and this my state? \\nSeem I to thee sufficiently possessed \\nOf happiness, or not? who am alone \\nFrom all eternity; for none I know \\nSecond to me or like, equal much less. \\nHow have I then with whom to hold converse, \\nSave with the creatures which I made, and those \\nTo me inferiour, infinite descents \\nBeneath what other creatures are to thee? \\nHe ceased; I lowly answered.  To attain \\nThe highth and depth of thy eternal ways \\nAll human thoughts come short, Supreme of things! \\nThou in thyself art perfect, and in thee \\nIs no deficience found:  Not so is Man, \\nBut in degree; the cause of his desire \\nBy conversation with his like to help \\nOr solace his defects.  No need that thou \\nShouldst propagate, already Infinite; \\nAnd through all numbers absolute, though One: \\nBut Man by number is to manifest \\nHis single imperfection, and beget \\nLike of his like, his image multiplied, \\nIn unity defective; which requires \\nCollateral love, and dearest amity. \\nThou in thy secresy although alone, \\nBest with thyself accompanied, seekest not \\nSocial communication; yet, so pleased, \\nCanst raise thy creature to what highth thou wilt \\nOf union or communion, deified: \\nI, by conversing, cannot these erect \\nFrom prone; nor in their ways complacence find. \\nThus I emboldened spake, and freedom used \\nPermissive, and acceptance found; which gained \\nThis answer from the gracious Voice Divine. \\nThus far to try thee, Adam, I was pleased; \\nAnd find thee knowing, not of beasts alone, \\nWhich thou hast rightly named, but of thyself; \\nExpressing well the spirit within thee free, \\nMy image, not imparted to the brute; \\nWhose fellowship therefore unmeet for thee \\nGood reason was thou freely shouldst dislike; \\nAnd be so minded still:  I, ere thou spakest, \\nKnew it not good for Man to be alone; \\nAnd no such company as then thou sawest \\nIntended thee; for trial only brought, \\nTo see how thou couldest judge of fit and meet: \\nWhat next I bring shall please thee, be assured, \\nThy likeness, thy fit help, thy other self, \\nThy wish exactly to thy heart\\'s desire. \\nHe ended, or I heard no more; for now \\nMy earthly by his heavenly overpowered, \\nWhich it had long stood under, strained to the highth \\nIn that celestial colloquy sublime, \\nAs with an object that excels the sense \\nDazzled and spent, sunk down; and sought repair \\nOf sleep, which instantly fell on me, called \\nBy Nature as in aid, and closed mine eyes. \\nMine eyes he closed, but open left the cell \\nOf fancy, my internal sight; by which, \\nAbstract as in a trance, methought I saw, \\nThough sleeping, where I lay, and saw the shape \\nStill glorious before whom awake I stood: \\nWho stooping opened my left side, and took \\nFrom thence a rib, with cordial spirits warm, \\nAnd life-blood streaming fresh; wide was the wound, \\nBut suddenly with flesh filled up and healed: \\nThe rib he formed and fashioned with his hands; \\nUnder his forming hands a creature grew, \\nMan-like, but different sex; so lovely fair, \\nThat what seemed fair in all the world, seemed now \\nMean, or in her summed up, in her contained \\nAnd in her looks; which from that time infused \\nSweetness into my heart, unfelt before, \\nAnd into all things from her air inspired \\nThe spirit of love and amorous delight. \\nShe disappeared, and left me dark; I waked \\nTo find her, or for ever to deplore \\nHer loss, and other pleasures all abjure: \\nWhen out of hope, behold her, not far off, \\nSuch as I saw her in my dream, adorned \\nWith what all Earth or Heaven could bestow \\nTo make her amiable:  On she came, \\nLed by her heavenly Maker, though unseen, \\nAnd guided by his voice; nor uninformed \\nOf nuptial sanctity, and marriage rites: \\nGrace was in all her steps, Heaven in her eye, \\nIn every gesture dignity and love. \\nI, overjoyed, could not forbear aloud. \\nThis turn hath made amends; thou hast fulfilled \\nThy words, Creator bounteous and benign, \\nGiver of all things fair! but fairest this \\nOf all thy gifts! nor enviest.  I now see \\nBone of my bone, flesh of my flesh, myself \\nBefore me:  Woman is her name;of Man \\nExtracted: for this cause he shall forego \\nFather and mother, and to his wife adhere; \\nAnd they shall be one flesh, one heart, one soul. \\nShe heard me thus; and though divinely brought, \\nYet innocence, and virgin modesty, \\nHer virtue, and the conscience of her worth, \\nThat would be wooed, and not unsought be won, \\nNot obvious, not obtrusive, but, retired, \\nThe more desirable; or, to say all, \\nNature herself, though pure of sinful thought, \\nWrought in her so, that, seeing me, she turned: \\nI followed her; she what was honour knew, \\nAnd with obsequious majesty approved \\nMy pleaded reason.  To the nuptial bower \\nI led her blushing like the morn: All Heaven, \\nAnd happy constellations, on that hour \\nShed their selectest influence; the Earth \\nGave sign of gratulation, and each hill; \\nJoyous the birds; fresh gales and gentle airs \\nWhispered it to the woods, and from their wings \\nFlung rose, flung odours from the spicy shrub, \\nDisporting, till the amorous bird of night \\nSung spousal, and bid haste the evening-star \\nOn his hill top, to light the bridal lamp. \\nThus have I told thee all my state, and brought \\nMy story to the sum of earthly bliss, \\nWhich I enjoy; and must confess to find \\nIn all things else delight indeed, but such \\nAs, used or not, works in the mind no change, \\nNor vehement desire; these delicacies \\nI mean of taste, sight, smell, herbs, fruits, and flowers, \\nWalks, and the melody of birds: but here \\nFar otherwise, transported I behold, \\nTransported touch; here passion first I felt, \\nCommotion strange! in all enjoyments else \\nSuperiour and unmoved; here only weak \\nAgainst the charm of Beauty\\'s powerful glance. \\nOr Nature failed in me, and left some part \\nNot proof enough such object to sustain; \\nOr, from my side subducting, took perhaps \\nMore than enough; at least on her bestowed \\nToo much of ornament, in outward show \\nElaborate, of inward less exact. \\nFor well I understand in the prime end \\nOf Nature her the inferiour, in the mind \\nAnd inward faculties, which most excel; \\nIn outward also her resembling less \\nHis image who made both, and less expressing \\nThe character of that dominion given \\nO\\'er other creatures:  Yet when I approach \\nHer loveliness, so absolute she seems \\nAnd in herself complete, so well to know \\nHer own, that what she wills to do or say, \\nSeems wisest, virtuousest, discreetest, best: \\nAll higher knowledge in her presence falls \\nDegraded;  Wisdom in discourse with her \\nLoses discountenanced, and like Folly shows; \\nAuthority and Reason on her wait, \\nAs one intended first, not after made \\nOccasionally; and, to consummate all, \\nGreatness of mind and Nobleness their seat \\nBuild in her loveliest, and create an awe \\nAbout her, as a guard angelick placed. \\nTo whom the Angel with contracted brow. \\nAccuse not Nature, she hath done her part; \\nDo thou but thine; and be not diffident \\nOf Wisdom; she deserts thee not, if thou \\nDismiss not her, when most thou needest her nigh, \\nBy attributing overmuch to things \\nLess excellent, as thou thyself perceivest. \\nFor, what admirest thou, what transports thee so, \\nAn outside? fair, no doubt, and worthy well \\nThy cherishing, thy honouring, and thy love; \\nNot thy subjection:  Weigh with her thyself; \\nThen value:  Oft-times nothing profits more \\nThan self-esteem, grounded on just and right \\nWell managed; of that skill the more thou knowest, \\nThe more she will acknowledge thee her head, \\nAnd to realities yield all her shows: \\nMade so adorn for thy delight the more, \\nSo awful, that with honour thou mayest love \\nThy mate, who sees when thou art seen least wise. \\nBut if the sense of touch, whereby mankind \\nIs propagated, seem such dear delight \\nBeyond all other; think the same vouchsafed \\nTo cattle and each beast; which would not be \\nTo them made common and divulged, if aught \\nTherein enjoyed were worthy to subdue \\nThe soul of man, or passion in him move. \\nWhat higher in her society thou findest \\nAttractive, human, rational, love still; \\nIn loving thou dost well, in passion not, \\nWherein true love consists not:  Love refines \\nThe thoughts, and heart enlarges; hath his seat \\nIn reason, and is judicious; is the scale \\nBy which to heavenly love thou mayest ascend, \\nNot sunk in carnal pleasure; for which cause, \\nAmong the beasts no mate for thee was found. \\nTo whom thus, half abashed, Adam replied. \\nNeither her outside formed so fair, nor aught \\nIn procreation common to all kinds, \\n(Though higher of the genial bed by far, \\nAnd with mysterious reverence I deem,) \\nSo much delights me, as those graceful acts, \\nThose thousand decencies, that daily flow \\nFrom all her words and actions mixed with love \\nAnd sweet compliance, which declare unfeigned \\nUnion of mind, or in us both one soul; \\nHarmony to behold in wedded pair \\nMore grateful than harmonious sound to the ear. \\nYet these subject not; I to thee disclose \\nWhat inward thence I feel, not therefore foiled, \\nWho meet with various objects, from the sense \\nVariously representing; yet, still free, \\nApprove the best, and follow what I approve. \\nTo love, thou blamest me not; for Love, thou sayest, \\nLeads up to Heaven, is both the way and guide; \\nBear with me then, if lawful what I ask: \\nLove not the heavenly Spirits, and how their love \\nExpress they? by looks only? or do they mix \\nIrradiance, virtual or immediate touch? \\nTo whom the Angel, with a smile that glowed \\nCelestial rosy red, Love\\'s proper hue, \\nAnswered.  Let it suffice thee that thou knowest \\nUs happy, and without love no happiness. \\nWhatever pure thou in the body enjoyest, \\n(And pure thou wert created) we enjoy \\nIn eminence; and obstacle find none \\nOf membrane, joint, or limb, exclusive bars; \\nEasier than air with air, if Spirits embrace, \\nTotal they mix, union of pure with pure \\nDesiring, nor restrained conveyance need, \\nAs flesh to mix with flesh, or soul with soul. \\nBut I can now no more; the parting sun \\nBeyond the Earth\\'s green Cape and verdant Isles \\nHesperian sets, my signal to depart. \\nBe strong, live happy, and love!  But, first of all, \\nHim, whom to love is to obey, and keep \\nHis great command; take heed lest passion sway \\nThy judgement to do aught, which else free will \\nWould not admit: thine, and of all thy sons, \\nThe weal or woe in thee is placed; beware! \\nI in thy persevering shall rejoice, \\nAnd all the Blest:  Stand fast;to stand or fall \\nFree in thine own arbitrement it lies. \\nPerfect within, no outward aid require; \\nAnd all temptation to transgress repel. \\nSo saying, he arose; whom Adam thus \\nFollowed with benediction.  Since to part, \\nGo, heavenly guest, ethereal Messenger, \\nSent from whose sovran goodness I adore! \\nGentle to me and affable hath been \\nThy condescension, and shall be honoured ever \\nWith grateful memory:  Thou to mankind \\nBe good and friendly still, and oft return! \\nSo parted they; the Angel up to Heaven \\nFrom the thick shade, and Adam to his bower. \\n \\n \\n \\nBook IX                                                          \\n \\n \\nNo more of talk where God or Angel guest \\nWith Man, as with his friend, familiar us\\'d, \\nTo sit indulgent, and with him partake \\nRural repast; permitting him the while \\nVenial discourse unblam\\'d. I now must change \\nThose notes to tragick; foul distrust, and breach \\nDisloyal on the part of Man, revolt, \\nAnd disobedience: on the part of Heaven \\nNow alienated, distance and distaste, \\nAnger and just rebuke, and judgement given, \\nThat brought into this world a world of woe, \\nSin and her shadow Death, and Misery \\nDeath\\'s harbinger: Sad talk!yet argument \\nNot less but more heroick than the wrath \\nOf stern Achilles on his foe pursued \\nThrice fugitive about Troy wall; or rage \\nOf Turnus for Lavinia disespous\\'d; \\nOr Neptune\\'s ire, or Juno\\'s, that so long \\nPerplexed the Greek, and Cytherea\\'s son:                         \\n \\n   00482129  \\nIf answerable style I can obtain \\nOf my celestial patroness, who deigns \\nHer nightly visitation unimplor\\'d, \\nAnd dictates to me slumbering; or inspires \\nEasy my unpremeditated verse: \\nSince first this subject for heroick song \\nPleas\\'d me long choosing, and beginning late; \\nNot sedulous by nature to indite \\nWars, hitherto the only argument \\nHeroick deem\\'d chief mastery to dissect \\nWith long and tedious havock fabled knights \\nIn battles feign\\'d; the better fortitude \\nOf patience and heroick martyrdom \\nUnsung; or to describe races and games, \\nOr tilting furniture, imblazon\\'d shields, \\nImpresses quaint, caparisons and steeds, \\nBases and tinsel trappings, gorgeous knights \\nAt joust and tournament; then marshall\\'d feast \\nServ\\'d up in hall with sewers and seneshals; \\nThe skill of artifice or office mean, \\nNot that which justly gives heroick name \\nTo person, or to poem.  Me, of these \\nNor skill\\'d nor studious, higher argument \\nRemains; sufficient of itself to raise \\nThat name, unless an age too late, or cold \\nClimate, or years, damp my intended wing \\nDepress\\'d; and much they may, if all be mine, \\nNot hers, who brings it nightly to my ear. \\nThe sun was sunk, and after him the star \\nOf Hesperus, whose office is to bring \\nTwilight upon the earth, short arbiter \\n\"twixt day and night, and now from end to end \\nNight\\'s hemisphere had veil\\'d the horizon round: \\nWhen satan, who late fled before the threats \\nOf Gabriel out of Eden, now improv\\'d \\nIn meditated fraud and malice, bent \\nOn Man\\'s destruction, maugre what might hap \\nOf heavier on himself, fearless returned \\nFrom compassing the earth; cautious of day, \\nSince Uriel, regent of the sun, descried \\nHis entrance, and foreworned the Cherubim \\nThat kept their watch; thence full of anguish driven, \\nThe space of seven continued nights he rode \\nWith darkness; thrice the equinoctial line \\nHe circled; four times crossed the car of night \\nFrom pole to pole, traversing each colure; \\nOn the eighth returned; and, on the coast averse \\nFrom entrance or Cherubick watch, by stealth \\nFound unsuspected way.  There was a place, \\nNow not, though sin, not time, first wrought the change, \\nWhere Tigris, at the foot of Paradise, \\nInto a gulf shot under ground, till part \\nRose up a fountain by the tree of life: \\nIn with the river sunk, and with it rose \\nSatan, involved in rising mist; then sought \\nWhere to lie hid; sea he had searched, and land, \\nFrom Eden over Pontus and the pool \\nMaeotis, up beyond the river Ob; \\nDownward as far antarctick; and in length, \\nWest from Orontes to the ocean barred \\nAt Darien ; thence to the land where flows \\nGanges and Indus: Thus the orb he roamed \\nWith narrow search; and with inspection deep \\nConsidered every creature, which of all \\nMost opportune might serve his wiles; and found \\nThe Serpent subtlest beast of all the field. \\nHim after long debate, irresolute \\nOf thoughts revolved, his final sentence chose \\nFit vessel, fittest imp of fraud, in whom \\nTo enter, and his dark suggestions hide \\nFrom sharpest sight: for, in the wily snake \\nWhatever sleights, none would suspicious mark, \\nAs from his wit and native subtlety \\nProceeding; which, in other beasts observed, \\nDoubt might beget of diabolick power \\nActive within, beyond the sense of brute. \\nThus he resolved, but first from inward grief \\nHis bursting passion into plaints thus poured. \\nMore justly, seat worthier of Gods, as built \\nWith second thoughts, reforming what was old! \\nO Earth, how like to Heaven, if not preferred \\nFor what God, after better, worse would build? \\nTerrestrial Heaven, danced round by other Heavens \\nThat shine, yet bear their bright officious lamps, \\nLight above light, for thee alone, as seems, \\nIn thee concentring all their precious beams \\nOf sacred influence!  As God in Heaven \\nIs center, yet extends to all; so thou, \\nCentring, receivest from all those orbs: in thee, \\nNot in themselves, all their known virtue appears \\nProductive in herb, plant, and nobler birth \\nOf creatures animate with gradual life \\nOf growth, sense, reason, all summed up in Man. \\nWith what delight could I have walked thee round, \\nIf I could joy in aught, sweet interchange \\nOf hill, and valley, rivers, woods, and plains, \\nNow land, now sea and shores with forest crowned, \\nRocks, dens, and caves!  But I in none of these \\nFind place or refuge; and the more I see \\nPleasures about me, so much more I feel \\nTorment within me, as from the hateful siege \\nOf contraries: all good to me becomes \\nBane, and in Heaven much worse would be my state. \\nBut neither here seek I, no nor in Heaven \\nTo dwell, unless by mastering Heaven\\'s Supreme; \\nNor hope to be myself less miserable \\nBy what I seek, but others to make such \\nAs I, though thereby worse to me redound: \\nFor only in destroying I find ease \\nTo my relentless thoughts; and, him destroyed, \\nOr won to what may work his utter loss, \\nFor whom all this was made, all this will soon \\nFollow, as to him linked in weal or woe; \\nIn woe then; that destruction wide may range: \\nTo me shall be the glory sole among \\nThe infernal Powers, in one day to have marred \\nWhat he, Almighty styled, six nights and days \\nContinued making; and who knows how long \\nBefore had been contriving? though perhaps \\nNot longer than since I, in one night, freed \\nFrom servitude inglorious well nigh half \\nThe angelick name, and thinner left the throng \\nOf his adorers: He, to be avenged, \\nAnd to repair his numbers thus impaired, \\nWhether such virtue spent of old now failed \\nMore Angels to create, if they at least \\nAre his created, or, to spite us more, \\nDetermined to advance into our room \\nA creature formed of earth, and him endow, \\nExalted from so base original, \\nWith heavenly spoils, our spoils: What he decreed, \\nHe effected; Man he made, and for him built \\nMagnificent this world, and earth his seat, \\nHim lord pronounced; and, O indignity! \\nSubjected to his service angel-wings, \\nAnd flaming ministers to watch and tend \\nTheir earthly charge: Of these the vigilance \\nI dread; and, to elude, thus wrapt in mist \\nOf midnight vapour glide obscure, and pry \\nIn every bush and brake, where hap may find \\nThe serpent sleeping; in whose mazy folds \\nTo hide me, and the dark intent I bring. \\nO foul descent! that I, who erst contended \\nWith Gods to sit the highest, am now constrained \\nInto a beast; and, mixed with bestial slime, \\nThis essence to incarnate and imbrute, \\nThat to the highth of Deity aspired! \\nBut what will not ambition and revenge \\nDescend to?  Who aspires, must down as low \\nAs high he soared; obnoxious, first or last, \\nTo basest things.  Revenge, at first though sweet, \\nBitter ere long, back on itself recoils: \\nLet it; I reck not, so it light well aimed, \\nSince higher I fall short, on him who next \\nProvokes my envy, this new favourite \\nOf Heaven, this man of clay, son of despite, \\nWhom, us the more to spite, his Maker raised \\nFrom dust: Spite then with spite is best repaid. \\nSo saying, through each thicket dank or dry, \\nLike a black mist low-creeping, he held on \\nHis midnight-search, where soonest he might find \\nThe serpent; him fast-sleeping soon he found \\nIn labyrinth of many a round self-rolled, \\nHis head the midst, well stored with subtile wiles: \\nNot yet in horrid shade or dismal den, \\nNor nocent yet; but, on the grassy herb, \\nFearless unfeared he slept: in at his mouth \\nThe Devil entered; and his brutal sense, \\nIn heart or head, possessing, soon inspired \\nWith act intelligential; but his sleep \\nDisturbed not, waiting close the approach of morn. \\nNow, when as sacred light began to dawn \\nIn Eden on the humid flowers, that breathed \\nTheir morning incense, when all things, that breathe, \\nFrom the Earth\\'s great altar send up silent praise \\nTo the Creator, and his nostrils fill \\nWith grateful smell, forth came the human pair, \\nAnd joined their vocal worship to the quire \\nOf creatures wanting voice; that done, partake \\nThe season prime for sweetest scents and airs: \\nThen commune, how that day they best may ply \\nTheir growing work: for much their work out-grew \\nThe hands\\' dispatch of two gardening so wide, \\nAnd Eve first to her husband thus began. \\nAdam, well may we labour still to dress \\nThis garden, still to tend plant, herb, and flower, \\nOur pleasant task enjoined; but, till more hands \\nAid us, the work under our labour grows, \\nLuxurious by restraint; what we by day \\nLop overgrown, or prune, or prop, or bind, \\nOne night or two with wanton growth derides \\nTending to wild.  Thou therefore now advise, \\nOr bear what to my mind first thoughts present: \\nLet us divide our labours; thou, where choice \\nLeads thee, or where most needs, whether to wind \\nThe woodbine round this arbour, or direct \\nThe clasping ivy where to climb; while I, \\nIn yonder spring of roses intermixed \\nWith myrtle, find what to redress till noon: \\nFor, while so near each other thus all day \\nOur task we choose, what wonder if so near \\nLooks intervene and smiles, or object new \\nCasual discourse draw on; which intermits \\nOur day\\'s work, brought to little, though begun \\nEarly, and the hour of supper comes unearned? \\nTo whom mild answer Adam thus returned. \\nSole Eve, associate sole, to me beyond \\nCompare above all living creatures dear! \\nWell hast thou motioned, well thy thoughts employed, \\nHow we might best fulfil the work which here \\nGod hath assigned us; nor of me shalt pass \\nUnpraised: for nothing lovelier can be found \\nIn woman, than to study houshold good, \\nAnd good works in her husband to promote. \\nYet not so strictly hath our Lord imposed \\nLabour, as to debar us when we need \\nRefreshment, whether food, or talk between, \\nFood of the mind, or this sweet intercourse \\nOf looks and smiles; for smiles from reason flow, \\nTo brute denied, and are of love the food; \\nLove, not the lowest end of human life. \\nFor not to irksome toil, but to delight, \\nHe made us, and delight to reason joined. \\nThese paths and bowers doubt not but our joint hands \\nWill keep from wilderness with ease, as wide \\nAs we need walk, till younger hands ere long \\nAssist us; But, if much converse perhaps \\nThee satiate, to short absence I could yield: \\nFor solitude sometimes is best society, \\nAnd short retirement urges sweet return. \\nBut other doubt possesses me, lest harm \\nBefall thee severed from me; for thou knowest \\nWhat hath been warned us, what malicious foe \\nEnvying our happiness, and of his own \\nDespairing, seeks to work us woe and shame \\nBy sly assault; and somewhere nigh at hand \\nWatches, no doubt, with greedy hope to find \\nHis wish and best advantage, us asunder; \\nHopeless to circumvent us joined, where each \\nTo other speedy aid might lend at need: \\nWhether his first design be to withdraw \\nOur fealty from God, or to disturb \\nConjugal love, than which perhaps no bliss \\nEnjoyed by us excites his envy more; \\nOr this, or worse, leave not the faithful side \\nThat gave thee being, still shades thee, and protects. \\nThe wife, where danger or dishonour lurks, \\nSafest and seemliest by her husband stays, \\nWho guards her, or with her the worst endures. \\nTo whom the virgin majesty of Eve, \\nAs one who loves, and some unkindness meets, \\nWith sweet austere composure thus replied. \\nOffspring of Heaven and Earth, and all Earth\\'s Lord! \\nThat such an enemy we have, who seeks \\nOur ruin, both by thee informed I learn, \\nAnd from the parting Angel over-heard, \\nAs in a shady nook I stood behind, \\nJust then returned at shut of evening flowers. \\nBut, that thou shouldst my firmness therefore doubt \\nTo God or thee, because we have a foe \\nMay tempt it, I expected not to hear. \\nHis violence thou fearest not, being such \\nAs we, not capable of death or pain, \\nCan either not receive, or can repel. \\nHis fraud is then thy fear; which plain infers \\nThy equal fear, that my firm faith and love \\nCan by his fraud be shaken or seduced; \\nThoughts, which how found they harbour in thy breast, \\nAdam, mis-thought of her to thee so dear? \\nTo whom with healing words Adam replied. \\nDaughter of God and Man, immortal Eve! \\nFor such thou art; from sin and blame entire: \\nNot diffident of thee do I dissuade \\nThy absence from my sight, but to avoid \\nThe attempt itself, intended by our foe. \\nFor he who tempts, though in vain, at least asperses \\nThe tempted with dishonour foul; supposed \\nNot incorruptible of faith, not proof \\nAgainst temptation: Thou thyself with scorn \\nAnd anger wouldst resent the offered wrong, \\nThough ineffectual found: misdeem not then, \\nIf such affront I labour to avert \\nFrom thee alone, which on us both at once \\nThe enemy, though bold, will hardly dare; \\nOr daring, first on me the assault shall light. \\nNor thou his malice and false guile contemn; \\nSubtle he needs must be, who could seduce \\nAngels; nor think superfluous other\\'s aid. \\nI, from the influence of thy looks, receive \\nAccess in every virtue; in thy sight \\nMore wise, more watchful, stronger, if need were \\nOf outward strength; while shame, thou looking on, \\nShame to be overcome or over-reached, \\nWould utmost vigour raise, and raised unite. \\nWhy shouldst not thou like sense within thee feel \\nWhen I am present, and thy trial choose \\nWith me, best witness of thy virtue tried? \\nSo spake domestick Adam in his care \\nAnd matrimonial love; but Eve, who thought \\nLess attributed to her faith sincere, \\nThus her reply with accent sweet renewed. \\nIf this be our condition, thus to dwell \\nIn narrow circuit straitened by a foe, \\nSubtle or violent, we not endued \\nSingle with like defence, wherever met; \\nHow are we happy, still in fear of harm? \\nBut harm precedes not sin: only our foe, \\nTempting, affronts us with his foul esteem \\nOf our integrity: his foul esteem \\nSticks no dishonour on our front, but turns \\nFoul on himself; then wherefore shunned or feared \\nBy us? who rather double honour gain \\nFrom his surmise proved false; find peace within, \\nFavour from Heaven, our witness, from the event. \\nAnd what is faith, love, virtue, unassayed \\nAlone, without exteriour help sustained? \\nLet us not then suspect our happy state \\nLeft so imperfect by the Maker wise, \\nAs not secure to single or combined. \\nFrail is our happiness, if this be so, \\nAnd Eden were no Eden, thus exposed. \\nTo whom thus Adam fervently replied. \\nO Woman, best are all things as the will \\nOf God ordained them: His creating hand \\nNothing imperfect or deficient left \\nOf all that he created, much less Man, \\nOr aught that might his happy state secure, \\nSecure from outward force; within himself \\nThe danger lies, yet lies within his power: \\nAgainst his will he can receive no harm. \\nBut God left free the will; for what obeys \\nReason, is free; and Reason he made right, \\nBut bid her well be ware, and still erect; \\nLest, by some fair-appearing good surprised, \\nShe dictate false; and mis-inform the will \\nTo do what God expressly hath forbid. \\nNot then mistrust, but tender love, enjoins, \\nThat I should mind thee oft; and mind thou me. \\nFirm we subsist, yet possible to swerve; \\nSince Reason not impossibly may meet \\nSome specious object by the foe suborned, \\nAnd fall into deception unaware, \\nNot keeping strictest watch, as she was warned. \\nSeek not temptation then, which to avoid \\nWere better, and most likely if from me \\nThou sever not: Trial will come unsought. \\nWouldst thou approve thy constancy, approve \\nFirst thy obedience; the other who can know, \\nNot seeing thee attempted, who attest? \\nBut, if thou think, trial unsought may find \\nUs both securer than thus warned thou seemest, \\nGo; for thy stay, not free, absents thee more; \\nGo in thy native innocence, rely \\nOn what thou hast of virtue; summon all! \\nFor God towards thee hath done his part, do thine. \\nSo spake the patriarch of mankind; but Eve \\nPersisted; yet submiss, though last, replied. \\nWith thy permission then, and thus forewarned \\nChiefly by what thy own last reasoning words \\nTouched only; that our trial, when least sought, \\nMay find us both perhaps far less prepared, \\nThe willinger I go, nor much expect \\nA foe so proud will first the weaker seek; \\nSo bent, the more shall shame him his repulse. \\nThus saying, from her husband\\'s hand her hand \\nSoft she withdrew; and, like a Wood-Nymph light, \\nOread or Dryad, or of Delia\\'s train, \\nBetook her to the groves; but Delia\\'s self \\nIn gait surpassed, and Goddess-like deport, \\nThough not as she with bow and quiver armed, \\nBut with such gardening tools as Art yet rude, \\nGuiltless of fire, had formed, or Angels brought. \\nTo Pales, or Pomona, thus adorned, \\nLikest she seemed, Pomona when she fled \\nVertumnus, or to Ceres in her prime, \\nYet virgin of Proserpina from Jove. \\nHer long with ardent look his eye pursued \\nDelighted, but desiring more her stay. \\nOft he to her his charge of quick return \\nRepeated; she to him as oft engaged \\nTo be returned by noon amid the bower, \\nAnd all things in best order to invite \\nNoontide repast, or afternoon\\'s repose. \\nO much deceived, much failing, hapless Eve, \\nOf thy presumed return! event perverse! \\nThou never from that hour in Paradise \\nFoundst either sweet repast, or sound repose; \\nSuch ambush, hid among sweet flowers and shades, \\nWaited with hellish rancour imminent \\nTo intercept thy way, or send thee back \\nDespoiled of innocence, of faith, of bliss! \\nFor now, and since first break of dawn, the Fiend, \\nMere serpent in appearance, forth was come; \\nAnd on his quest, where likeliest he might find \\nThe only two of mankind, but in them \\nThe whole included race, his purposed prey. \\nIn bower and field he sought, where any tuft \\nOf grove or garden-plot more pleasant lay, \\nTheir tendance, or plantation for delight; \\nBy fountain or by shady rivulet \\nHe sought them both, but wished his hap might find \\nEve separate; he wished, but not with hope \\nOf what so seldom chanced; when to his wish, \\nBeyond his hope, Eve separate he spies, \\nVeiled in a cloud of fragrance, where she stood, \\nHalf spied, so thick the roses blushing round \\nAbout her glowed, oft stooping to support \\nEach flower of slender stalk, whose head, though gay \\nCarnation, purple, azure, or specked with gold, \\nHung drooping unsustained; them she upstays \\nGently with myrtle band, mindless the while \\nHerself, though fairest unsupported flower, \\nFrom her best prop so far, and storm so nigh. \\nNearer he drew, and many a walk traversed \\nOf stateliest covert, cedar, pine, or palm; \\nThen voluble and bold, now hid, now seen, \\nAmong thick-woven arborets, and flowers \\nImbordered on each bank, the hand of Eve: \\nSpot more delicious than those gardens feigned \\nOr of revived Adonis, or renowned \\nAlcinous, host of old Laertes\\' son; \\nOr that, not mystick, where the sapient king \\nHeld dalliance with his fair Egyptian spouse. \\nMuch he the place admired, the person more. \\nAs one who long in populous city pent, \\nWhere houses thick and sewers annoy the air, \\nForth issuing on a summer\\'s morn, to breathe \\nAmong the pleasant villages and farms \\nAdjoined, from each thing met conceives delight; \\nThe smell of grain, or tedded grass, or kine, \\nOr dairy, each rural sight, each rural sound; \\nIf chance, with nymph-like step, fair virgin pass, \\nWhat pleasing seemed, for her now pleases more; \\nShe most, and in her look sums all delight: \\nSuch pleasure took the Serpent to behold \\nThis flowery plat, the sweet recess of Eve \\nThus early, thus alone: Her heavenly form \\nAngelick, but more soft, and feminine, \\nHer graceful innocence, her every air \\nOf gesture, or least action, overawed \\nHis malice, and with rapine sweet bereaved \\nHis fierceness of the fierce intent it brought: \\nThat space the Evil-one abstracted stood \\nFrom his own evil, and for the time remained \\nStupidly good; of enmity disarmed, \\nOf guile, of hate, of envy, of revenge: \\nBut the hot Hell that always in him burns, \\nThough in mid Heaven, soon ended his delight, \\nAnd tortures him now more, the more he sees \\nOf pleasure, not for him ordained: then soon \\nFierce hate he recollects, and all his thoughts \\nOf mischief, gratulating, thus excites. \\nThoughts, whither have ye led me! with what sweet \\nCompulsion thus transported, to forget \\nWhat hither brought us! hate, not love;nor hope \\nOf Paradise for Hell, hope here to taste \\nOf pleasure; but all pleasure to destroy, \\nSave what is in destroying; other joy \\nTo me is lost.  Then, let me not let pass \\nOccasion which now smiles; behold alone \\nThe woman, opportune to all attempts, \\nHer husband, for I view far round, not nigh, \\nWhose higher intellectual more I shun, \\nAnd strength, of courage haughty, and of limb \\nHeroick built, though of terrestrial mould; \\nFoe not informidable! exempt from wound, \\nI not; so much hath Hell debased, and pain \\nEnfeebled me, to what I was in Heaven. \\nShe fair, divinely fair, fit love for Gods! \\nNot terrible, though terrour be in love \\nAnd beauty, not approached by stronger hate, \\nHate stronger, under show of love well feigned; \\nThe way which to her ruin now I tend. \\nSo spake the enemy of mankind, enclosed \\nIn serpent, inmate bad! and toward Eve \\nAddressed his way: not with indented wave, \\nProne on the ground, as since; but on his rear, \\nCircular base of rising folds, that towered \\nFold above fold, a surging maze! his head \\nCrested aloft, and carbuncle his eyes; \\nWith burnished neck of verdant gold, erect \\nAmidst his circling spires, that on the grass \\nFloated redundant: pleasing was his shape \\nAnd lovely; never since of serpent-kind \\nLovelier, not those that in Illyria changed, \\nHermione and Cadmus, or the god \\nIn Epidaurus; nor to which transformed \\nAmmonian Jove, or Capitoline, was seen; \\nHe with Olympias; this with her who bore \\nScipio, the highth of Rome.  With tract oblique \\nAt first, as one who sought access, but feared \\nTo interrupt, side-long he works his way. \\nAs when a ship, by skilful steersmen wrought \\nNigh river\\'s mouth or foreland, where the wind \\nVeers oft, as oft so steers, and shifts her sail: \\nSo varied he, and of his tortuous train \\nCurled many a wanton wreath in sight of Eve, \\nTo lure her eye; she, busied, heard the sound \\nOf rusling leaves, but minded not, as used \\nTo such disport before her through the field, \\nFrom every beast; more duteous at her call, \\nThan at Circean call the herd disguised. \\nHe, bolder now, uncalled before her stood, \\nBut as in gaze admiring: oft he bowed \\nHis turret crest, and sleek enamelled neck, \\nFawning; and licked the ground whereon she trod. \\nHis gentle dumb expression turned at length \\nThe eye of Eve to mark his play; he, glad \\nOf her attention gained, with serpent-tongue \\nOrganick, or impulse of vocal air, \\nHis fraudulent temptation thus began. \\nWonder not, sovran Mistress, if perhaps \\nThou canst, who art sole wonder! much less arm \\nThy looks, the Heaven of mildness, with disdain, \\nDispleased that I approach thee thus, and gaze \\nInsatiate; I thus single;nor have feared \\nThy awful brow, more awful thus retired. \\nFairest resemblance of thy Maker fair, \\nThee all things living gaze on, all things thine \\nBy gift, and thy celestial beauty adore \\nWith ravishment beheld! there best beheld, \\nWhere universally admired; but here \\nIn this enclosure wild, these beasts among, \\nBeholders rude, and shallow to discern \\nHalf what in thee is fair, one man except, \\nWho sees thee? and what is one? who should be seen \\nA Goddess among Gods, adored and served \\nBy Angels numberless, thy daily train. \\nSo glozed the Tempter, and his proem tuned: \\nInto the heart of Eve his words made way, \\nThough at the voice much marvelling; at length, \\nNot unamazed, she thus in answer spake. \\nWhat may this mean? language of man pronounced \\nBy tongue of brute, and human sense expressed? \\nThe first, at least, of these I thought denied \\nTo beasts; whom God, on their creation-day, \\nCreated mute to all articulate sound: \\nThe latter I demur; for in their looks \\nMuch reason, and in their actions, oft appears. \\nThee, Serpent, subtlest beast of all the field \\nI knew, but not with human voice endued; \\nRedouble then this miracle, and say, \\nHow camest thou speakable of mute, and how \\nTo me so friendly grown above the rest \\nOf brutal kind, that daily are in sight? \\nSay, for such wonder claims attention due. \\nTo whom the guileful Tempter thus replied. \\nEmpress of this fair world, resplendent Eve! \\nEasy to me it is to tell thee all \\nWhat thou commandest; and right thou shouldst be obeyed: \\nI was at first as other beasts that graze \\nThe trodden herb, of abject thoughts and low, \\nAs was my food; nor aught but food discerned \\nOr sex, and apprehended nothing high: \\nTill, on a day roving the field, I chanced \\nA goodly tree far distant to behold \\nLoaden with fruit of fairest colours mixed, \\nRuddy and gold: I nearer drew to gaze; \\nWhen from the boughs a savoury odour blown, \\nGrateful to appetite, more pleased my sense \\nThan smell of sweetest fennel, or the teats \\nOf ewe or goat dropping with milk at even, \\nUnsucked of lamb or kid, that tend their play. \\nTo satisfy the sharp desire I had \\nOf tasting those fair apples, I resolved \\nNot to defer; hunger and thirst at once, \\nPowerful persuaders, quickened at the scent \\nOf that alluring fruit, urged me so keen. \\nAbout the mossy trunk I wound me soon; \\nFor, high from ground, the branches would require \\nThy utmost reach or Adam\\'s: Round the tree \\nAll other beasts that saw, with like desire \\nLonging and envying stood, but could not reach. \\nAmid the tree now got, where plenty hung \\nTempting so nigh, to pluck and eat my fill \\nI spared not; for, such pleasure till that hour, \\nAt feed or fountain, never had I found. \\nSated at length, ere long I might perceive \\nStrange alteration in me, to degree \\nOf reason in my inward powers; and speech \\nWanted not long; though to this shape retained. \\nThenceforth to speculations high or deep \\nI turned my thoughts, and with capacious mind \\nConsidered all things visible in Heaven, \\nOr Earth, or Middle; all things fair and good: \\nBut all that fair and good in thy divine \\nSemblance, and in thy beauty\\'s heavenly ray, \\nUnited I beheld; no fair to thine \\nEquivalent or second! which compelled \\nMe thus, though importune perhaps, to come \\nAnd gaze, and worship thee of right declared \\nSovran of creatures, universal Dame! \\nSo talked the spirited sly Snake; and Eve, \\nYet more amazed, unwary thus replied. \\nSerpent, thy overpraising leaves in doubt \\nThe virtue of that fruit, in thee first proved: \\nBut say, where grows the tree? from hence how far? \\nFor many are the trees of God that grow \\nIn Paradise, and various, yet unknown \\nTo us; in such abundance lies our choice, \\nAs leaves a greater store of fruit untouched, \\nStill hanging incorruptible, till men \\nGrow up to their provision, and more hands \\nHelp to disburden Nature of her birth. \\nTo whom the wily Adder, blithe and glad. \\nEmpress, the way is ready, and not long; \\nBeyond a row of myrtles, on a flat, \\nFast by a fountain, one small thicket past \\nOf blowing myrrh and balm: if thou accept \\nMy conduct, I can bring thee thither soon \\nLead then, said Eve.  He, leading, swiftly rolled \\nIn tangles, and made intricate seem straight, \\nTo mischief swift.  Hope elevates, and joy \\nBrightens his crest; as when a wandering fire, \\nCompact of unctuous vapour, which the night \\nCondenses, and the cold environs round, \\nKindled through agitation to a flame, \\nWhich oft, they say, some evil Spirit attends, \\nHovering and blazing with delusive light, \\nMisleads the amazed night-wanderer from his way \\nTo bogs and mires, and oft through pond or pool; \\nThere swallowed up and lost, from succour far. \\nSo glistered the dire Snake, and into fraud \\nLed Eve, our credulous mother, to the tree \\nOf prohibition, root of all our woe; \\nWhich when she saw, thus to her guide she spake. \\nSerpent, we might have spared our coming hither, \\nFruitless to me, though fruit be here to excess, \\nThe credit of whose virtue rest with thee; \\nWonderous indeed, if cause of such effects. \\nBut of this tree we may not taste nor touch; \\nGod so commanded, and left that command \\nSole daughter of his voice; the rest, we live \\nLaw to ourselves; our reason is our law. \\nTo whom the Tempter guilefully replied. \\nIndeed! hath God then said that of the fruit \\nOf all these garden-trees ye shall not eat, \\nYet Lords declared of all in earth or air$? \\nTo whom thus Eve, yet sinless.  Of the fruit \\nOf each tree in the garden we may eat; \\nBut of the fruit of this fair tree amidst \\nThe garden, God hath said, Ye shall not eat \\nThereof, nor shall ye touch it, lest ye die. \\nShe scarce had said, though brief, when now more bold \\nThe Tempter, but with show of zeal and love \\nTo Man, and indignation at his wrong, \\nNew part puts on; and, as to passion moved, \\nFluctuates disturbed, yet comely and in act \\nRaised, as of some great matter to begin. \\nAs when of old some orator renowned, \\nIn Athens or free Rome, where eloquence \\nFlourished, since mute! to some great cause addressed, \\nStood in himself collected; while each part, \\nMotion, each act, won audience ere the tongue; \\nSometimes in highth began, as no delay \\nOf preface brooking, through his zeal of right: \\nSo standing, moving, or to highth up grown, \\nThe Tempter, all impassioned, thus began. \\nO sacred, wise, and wisdom-giving Plant, \\nMother of science! now I feel thy power \\nWithin me clear; not only to discern \\nThings in their causes, but to trace the ways \\nOf highest agents, deemed however wise. \\nQueen of this universe! do not believe \\nThose rigid threats of death: ye shall not die: \\nHow should you? by the fruit? it gives you life \\nTo knowledge; by the threatener? look on me, \\nMe, who have touched and tasted; yet both live, \\nAnd life more perfect have attained than Fate \\nMeant me, by venturing higher than my lot. \\nShall that be shut to Man, which to the Beast \\nIs open? or will God incense his ire \\nFor such a petty trespass? and not praise \\nRather your dauntless virtue, whom the pain \\nOf death denounced, whatever thing death be, \\nDeterred not from achieving what might lead \\nTo happier life, knowledge of good and evil; \\nOf good, how just? of evil, if what is evil \\nBe real, why not known, since easier shunned? \\nGod therefore cannot hurt ye, and be just; \\nNot just, not God; not feared then, nor obeyed: \\nYour fear itself of death removes the fear. \\nWhy then was this forbid?  Why, but to awe; \\nWhy, but to keep ye low and ignorant, \\nHis worshippers?  He knows that in the day \\nYe eat thereof, your eyes that seem so clear, \\nYet are but dim, shall perfectly be then \\nOpened and cleared, and ye shall be as Gods, \\nKnowing both good and evil, as they know. \\nThat ye shall be as Gods, since I as Man, \\nInternal Man, is but proportion meet; \\nI, of brute, human; ye, of human, Gods. \\nSo ye shall die perhaps, by putting off \\nHuman, to put on Gods; death to be wished, \\nThough threatened, which no worse than this can bring. \\nAnd what are Gods, that Man may not become \\nAs they, participating God-like food? \\nThe Gods are first, and that advantage use \\nOn our belief, that all from them proceeds: \\nI question it; for this fair earth I see, \\nWarmed by the sun, producing every kind; \\nThem, nothing: if they all things, who enclosed \\nKnowledge of good and evil in this tree, \\nThat whoso eats thereof, forthwith attains \\nWisdom without their leave? and wherein lies \\nThe offence, that Man should thus attain to know? \\nWhat can your knowledge hurt him, or this tree \\nImpart against his will, if all be his? \\nOr is it envy? and can envy dwell \\nIn heavenly breasts?  These, these, and many more \\nCauses import your need of this fair fruit. \\nGoddess humane, reach then, and freely taste! \\nHe ended; and his words, replete with guile, \\nInto her heart too easy entrance won: \\nFixed on the fruit she gazed, which to behold \\nMight tempt alone; and in her ears the sound \\nYet rung of his persuasive words, impregned \\nWith reason, to her seeming, and with truth: \\nMean while the hour of noon drew on, and waked \\nAn eager appetite, raised by the smell \\nSo savoury of that fruit, which with desire, \\nInclinable now grown to touch or taste, \\nSolicited her longing eye; yet first \\nPausing a while, thus to herself she mused. \\nGreat are thy virtues, doubtless, best of fruits, \\nThough kept from man, and worthy to be admired; \\nWhose taste, too long forborn, at first assay \\nGave elocution to the mute, and taught \\nThe tongue not made for speech to speak thy praise: \\nThy praise he also, who forbids thy use, \\nConceals not from us, naming thee the tree \\nOf knowledge, knowledge both of good and evil; \\nForbids us then to taste! but his forbidding \\nCommends thee more, while it infers the good \\nBy thee communicated, and our want: \\nFor good unknown sure is not had; or, had \\nAnd yet unknown, is as not had at all. \\nIn plain then, what forbids he but to know, \\nForbids us good, forbids us to be wise? \\nSuch prohibitions bind not.  But, if death \\nBind us with after-bands, what profits then \\nOur inward freedom?  In the day we eat \\nOf this fair fruit, our doom is, we shall die! \\nHow dies the Serpent? he hath eaten and lives, \\nAnd knows, and speaks, and reasons, and discerns, \\nIrrational till then.  For us alone \\nWas death invented? or to us denied \\nThis intellectual food, for beasts reserved? \\nFor beasts it seems: yet that one beast which first \\nHath tasted envies not, but brings with joy \\nThe good befallen him, author unsuspect, \\nFriendly to man, far from deceit or guile. \\nWhat fear I then? rather, what know to fear \\nUnder this ignorance of good and evil, \\nOf God or death, of law or penalty? \\nHere grows the cure of all, this fruit divine, \\nFair to the eye, inviting to the taste, \\nOf virtue to make wise:  What hinders then \\nTo reach, and feed at once both body and mind? \\nSo saying, her rash hand in evil hour \\nForth reaching to the fruit, she plucked, she eat! \\nEarth felt the wound; and Nature from her seat, \\nSighing through all her works, gave signs of woe, \\nThat all was lost.  Back to the thicket slunk \\nThe guilty Serpent; and well might;for Eve, \\nIntent now wholly on her taste, nought else \\nRegarded; such delight till then, as seemed, \\nIn fruit she never tasted, whether true \\nOr fancied so, through expectation high \\nOf knowledge; not was Godhead from her thought. \\nGreedily she ingorged without restraint, \\nAnd knew not eating death:  Satiate at length, \\nAnd hightened as with wine, jocund and boon, \\nThus to herself she pleasingly began. \\nO sovran, virtuous, precious of all trees \\nIn Paradise! of operation blest \\nTo sapience, hitherto obscured, infamed. \\nAnd thy fair fruit let hang, as to no end \\nCreated; but henceforth my early care, \\nNot without song, each morning, and due praise, \\nShall tend thee, and the fertile burden ease \\nOf thy full branches offered free to all; \\nTill, dieted by thee, I grow mature \\nIn knowledge, as the Gods, who all things know; \\nThough others envy what they cannot give: \\nFor, had the gift been theirs, it had not here \\nThus grown.  Experience, next, to thee I owe, \\nBest guide; not following thee, I had remained \\nIn ignorance; thou openest wisdom\\'s way, \\nAnd givest access, though secret she retire. \\nAnd I perhaps am secret: Heaven is high, \\nHigh, and remote to see from thence distinct \\nEach thing on Earth; and other care perhaps \\nMay have diverted from continual watch \\nOur great Forbidder, safe with all his spies \\nAbout him.  But to Adam in what sort \\nShall I appear? shall I to him make known \\nAs yet my change, and give him to partake \\nFull happiness with me, or rather not, \\nBut keeps the odds of knowledge in my power \\nWithout copartner? so to add what wants \\nIn female sex, the more to draw his love, \\nAnd render me more equal; and perhaps, \\nA thing not undesirable, sometime \\nSuperiour; for, inferiour, who is free \\nThis may be well:  But what if God have seen, \\nAnd death ensue? then I shall be no more! \\nAnd Adam, wedded to another Eve, \\nShall live with her enjoying, I extinct; \\nA death to think!  Confirmed then I resolve, \\nAdam shall share with me in bliss or woe: \\nSo dear I love him, that with him all deaths \\nI could endure, without him live no life. \\nSo saying, from the tree her step she turned; \\nBut first low reverence done, as to the Power \\nThat dwelt within, whose presence had infused \\nInto the plant sciential sap, derived \\nFrom nectar, drink of Gods.  Adam the while, \\nWaiting desirous her return, had wove \\nOf choicest flowers a garland, to adorn \\nHer tresses, and her rural labours crown; \\nAs reapers oft are wont their harvest-queen. \\nGreat joy he promised to his thoughts, and new \\nSolace in her return, so long delayed: \\nYet oft his heart, divine of something ill, \\nMisgave him; he the faltering measure felt; \\nAnd forth to meet her went, the way she took \\nThat morn when first they parted: by the tree \\nOf knowledge he must pass; there he her met, \\nScarce from the tree returning; in her hand \\nA bough of fairest fruit, that downy smiled, \\nNew gathered, and ambrosial smell diffused. \\nTo him she hasted; in her face excuse \\nCame prologue, and apology too prompt; \\nWhich, with bland words at will, she thus addressed. \\nHast thou not wondered, Adam, at my stay? \\nThee I have missed, and thought it long, deprived \\nThy presence; agony of love till now \\nNot felt, nor shall be twice; for never more \\nMean I to try, what rash untried I sought, \\nThe pain of absence from thy sight.  But strange \\nHath been the cause, and wonderful to hear: \\nThis tree is not, as we are told, a tree \\nOf danger tasted, nor to evil unknown \\nOpening the way, but of divine effect \\nTo open eyes, and make them Gods who taste; \\nAnd hath been tasted such:  The serpent wise, \\nOr not restrained as we, or not obeying, \\nHath eaten of the fruit; and is become, \\nNot dead, as we are threatened, but thenceforth \\nEndued with human voice and human sense, \\nReasoning to admiration; and with me \\nPersuasively hath so prevailed, that I \\nHave also tasted, and have also found \\nThe effects to correspond; opener mine eyes, \\nDim erst, dilated spirits, ampler heart, \\nAnd growing up to Godhead; which for thee \\nChiefly I sought, without thee can despise. \\nFor bliss, as thou hast part, to me is bliss; \\nTedious, unshared with thee, and odious soon. \\nThou therefore also taste, that equal lot \\nMay join us, equal joy, as equal love; \\nLest, thou not tasting, different degree \\nDisjoin us, and I then too late renounce \\nDeity for thee, when Fate will not permit. \\nThus Eve with countenance blithe her story told; \\nBut in her cheek distemper flushing glowed. \\nOn the other side Adam, soon as he heard \\nThe fatal trespass done by Eve, amazed, \\nAstonied stood and blank, while horrour chill \\nRan through his veins, and all his joints relaxed; \\nFrom his slack hand the garland wreathed for Eve \\nDown dropt, and all the faded roses shed: \\nSpeechless he stood and pale, till thus at length \\nFirst to himself he inward silence broke. \\nO fairest of Creation, last and best \\nOf all God\\'s works, Creature in whom excelled \\nWhatever can to sight or thought be formed, \\nHoly, divine, good, amiable, or sweet! \\nHow art thou lost! how on a sudden lost, \\nDefaced, deflowered, and now to death devote! \\nRather, how hast thou yielded to transgress \\nThe strict forbiddance, how to violate \\nThe sacred fruit forbidden!  Some cursed fraud \\nOf enemy hath beguiled thee, yet unknown, \\nAnd me with thee hath ruined; for with thee \\nCertain my resolution is to die: \\nHow can I live without thee! how forego \\nThy sweet converse, and love so dearly joined, \\nTo live again in these wild woods forlorn! \\nShould God create another Eve, and I \\nAnother rib afford, yet loss of thee \\nWould never from my heart: no, no!I feel \\nThe link of Nature draw me: flesh of flesh, \\nBone of my bone thou art, and from thy state \\nMine never shall be parted, bliss or woe. \\nSo having said, as one from sad dismay \\nRecomforted, and after thoughts disturbed \\nSubmitting to what seemed remediless, \\nThus in calm mood his words to Eve he turned. \\nBold deed thou hast presumed, adventurous Eve, \\nAnd peril great provoked, who thus hast dared, \\nHad it been only coveting to eye \\nThat sacred fruit, sacred to abstinence, \\nMuch more to taste it under ban to touch. \\nBut past who can recall, or done undo? \\nNot God Omnipotent, nor Fate; yet so \\nPerhaps thou shalt not die, perhaps the fact \\nIs not so heinous now, foretasted fruit, \\nProfaned first by the serpent, by him first \\nMade common, and unhallowed, ere our taste; \\nNor yet on him found deadly; yet he lives; \\nLives, as thou saidst, and gains to live, as Man, \\nHigher degree of life; inducement strong \\nTo us, as likely tasting to attain \\nProportional ascent; which cannot be \\nBut to be Gods, or Angels, demi-Gods. \\nNor can I think that God, Creator wise, \\nThough threatening, will in earnest so destroy \\nUs his prime creatures, dignified so high, \\nSet over all his works; which in our fall, \\nFor us created, needs with us must fail, \\nDependant made; so God shall uncreate, \\nBe frustrate, do, undo, and labour lose; \\nNot well conceived of God, who, though his power \\nCreation could repeat, yet would be loth \\nUs to abolish, lest the Adversary \\nTriumph, and say; \"Fickle their state whom God \\n\"Most favours; who can please him long? Me first \\n\"He ruined, now Mankind; whom will he next?\" \\nMatter of scorn, not to be given the Foe. \\nHowever I with thee have fixed my lot, \\nCertain to undergo like doom:  If death \\nConsort with thee, death is to me as life; \\nSo forcible within my heart I feel \\nThe bond of Nature draw me to my own; \\nMy own in thee, for what thou art is mine; \\nOur state cannot be severed; we are one, \\nOne flesh; to lose thee were to lose myself. \\nSo Adam; and thus Eve to him replied. \\nO glorious trial of exceeding love, \\nIllustrious evidence, example high! \\nEngaging me to emulate; but, short \\nOf thy perfection, how shall I attain, \\nAdam, from whose dear side I boast me sprung, \\nAnd gladly of our union hear thee speak, \\nOne heart, one soul in both; whereof good proof \\nThis day affords, declaring thee resolved, \\nRather than death, or aught than death more dread, \\nShall separate us, linked in love so dear, \\nTo undergo with me one guilt, one crime, \\nIf any be, of tasting this fair fruit; \\nWhose virtue for of good still good proceeds, \\nDirect, or by occasion, hath presented \\nThis happy trial of thy love, which else \\nSo eminently never had been known? \\nWere it I thought death menaced would ensue \\nThis my attempt, I would sustain alone \\nThe worst, and not persuade thee, rather die \\nDeserted, than oblige thee with a fact \\nPernicious to thy peace; chiefly assured \\nRemarkably so late of thy so true, \\nSo faithful, love unequalled: but I feel \\nFar otherwise the event; not death, but life \\nAugmented, opened eyes, new hopes, new joys, \\nTaste so divine, that what of sweet before \\nHath touched my sense, flat seems to this, and harsh. \\nOn my experience, Adam, freely taste, \\nAnd fear of death deliver to the winds. \\nSo saying, she embraced him, and for joy \\nTenderly wept; much won, that he his love \\nHad so ennobled, as of choice to incur \\nDivine displeasure for her sake, or death. \\nIn recompence for such compliance bad \\nSuch recompence best merits from the bough \\nShe gave him of that fair enticing fruit \\nWith liberal hand: he scrupled not to eat, \\nAgainst his better knowledge; not deceived, \\nBut fondly overcome with female charm. \\nEarth trembled from her entrails, as again \\nIn pangs; and Nature gave a second groan; \\nSky loured; and, muttering thunder, some sad drops \\nWept at completing of the mortal sin \\nOriginal: while Adam took no thought, \\nEating his fill; nor Eve to iterate \\nHer former trespass feared, the more to sooth \\nHim with her loved society; that now, \\nAs with new wine intoxicated both, \\nThey swim in mirth, and fancy that they feel \\nDivinity within them breeding wings, \\nWherewith to scorn the earth:  But that false fruit \\nFar other operation first displayed, \\nCarnal desire inflaming; he on Eve \\nBegan to cast lascivious eyes; she him \\nAs wantonly repaid; in lust they burn: \\nTill Adam thus \\'gan Eve to dalliance move. \\nEve, now I see thou art exact of taste, \\nAnd elegant, of sapience no small part; \\nSince to each meaning savour we apply, \\nAnd palate call judicious; I the praise \\nYield thee, so well this day thou hast purveyed. \\nMuch pleasure we have lost, while we abstained \\nFrom this delightful fruit, nor known till now \\nTrue relish, tasting; if such pleasure be \\nIn things to us forbidden, it might be wished, \\nFor this one tree had been forbidden ten. \\nBut come, so well refreshed, now let us play, \\nAs meet is, after such delicious fare; \\nFor never did thy beauty, since the day \\nI saw thee first and wedded thee, adorned \\nWith all perfections, so inflame my sense \\nWith ardour to enjoy thee, fairer now \\nThan ever; bounty of this virtuous tree! \\nSo said he, and forbore not glance or toy \\nOf amorous intent; well understood \\nOf Eve, whose eye darted contagious fire. \\nHer hand he seised; and to a shady bank, \\nThick over-head with verdant roof imbowered, \\nHe led her nothing loth; flowers were the couch, \\nPansies, and violets, and asphodel, \\nAnd hyacinth;  Earth\\'s freshest softest lap. \\nThere they their fill of love and love\\'s disport \\nTook largely, of their mutual guilt the seal, \\nThe solace of their sin; till dewy sleep \\nOppressed them, wearied with their amorous play, \\nSoon as the force of that fallacious fruit, \\nThat with exhilarating vapour bland \\nAbout their spirits had played, and inmost powers \\nMade err, was now exhaled; and grosser sleep, \\nBred of unkindly fumes, with conscious dreams \\nIncumbered, now had left them; up they rose \\nAs from unrest; and, each the other viewing, \\nSoon found their eyes how opened, and their minds \\nHow darkened; innocence, that as a veil \\nHad shadowed them from knowing ill, was gone; \\nJust confidence, and native righteousness, \\nAnd honour, from about them, naked left \\nTo guilty Shame; he covered, but his robe \\nUncovered more.  So rose the Danite strong, \\nHerculean Samson, from the harlot-lap \\nOf Philistean Dalilah, and waked \\nShorn of his strength.  They destitute and bare \\nOf all their virtue:  Silent, and in face \\nConfounded, long they sat, as strucken mute: \\nTill Adam, though not less than Eve abashed, \\nAt length gave utterance to these words constrained. \\nO Eve, in evil hour thou didst give ear \\nTo that false worm, of whomsoever taught \\nTo counterfeit Man\\'s voice; true in our fall, \\nFalse in our promised rising; since our eyes \\nOpened we find indeed, and find we know \\nBoth good and evil; good lost, and evil got; \\nBad fruit of knowledge, if this be to know; \\nWhich leaves us naked thus, of honour void, \\nOf innocence, of faith, of purity, \\nOur wonted ornaments now soiled and stained, \\nAnd in our faces evident the signs \\nOf foul concupiscence; whence evil store; \\nEven shame, the last of evils; of the first \\nBe sure then.--How shall I behold the face \\nHenceforth of God or Angel, erst with joy \\nAnd rapture so oft beheld?  Those heavenly shapes \\nWill dazzle now this earthly with their blaze \\nInsufferably bright.  O! might I here \\nIn solitude live savage; in some glade \\nObscured, where highest woods, impenetrable \\nTo star or sun-light, spread their umbrage broad \\nAnd brown as evening:  Cover me, ye Pines! \\nYe Cedars, with innumerable boughs \\nHide me, where I may never see them more!-- \\nBut let us now, as in bad plight, devise \\nWhat best may for the present serve to hide \\nThe parts of each from other, that seem most \\nTo shame obnoxious, and unseemliest seen; \\nSome tree, whose broad smooth leaves together sewed, \\nAnd girded on our loins, may cover round \\nThose middle parts; that this new comer, Shame, \\nThere sit not, and reproach us as unclean. \\nSo counselled he, and both together went \\nInto the thickest wood; there soon they chose \\nThe fig-tree; not that kind for fruit renowned, \\nBut such as at this day, to Indians known, \\nIn Malabar or Decan spreads her arms \\nBranching so broad and long, that in the ground \\nThe bended twigs take root, and daughters grow \\nAbout the mother tree, a pillared shade \\nHigh over-arched, and echoing walks between: \\nThere oft the Indian herdsman, shunning heat, \\nShelters in cool, and tends his pasturing herds \\nAt loop-holes cut through thickest shade:  Those leaves \\nThey gathered, broad as Amazonian targe; \\nAnd, with what skill they had, together sewed, \\nTo gird their waist; vain covering, if to hide \\nTheir guilt and dreaded shame!  O, how unlike \\nTo that first naked glory!  Such of late \\nColumbus found the American, so girt \\nWith feathered cincture; naked else, and wild \\nAmong the trees on isles and woody shores. \\nThus fenced, and, as they thought, their shame in part \\nCovered, but not at rest or ease of mind, \\nThey sat them down to weep; nor only tears \\nRained at their eyes, but high winds worse within \\nBegan to rise, high passions, anger, hate, \\nMistrust, suspicion, discord; and shook sore \\nTheir inward state of mind, calm region once \\nAnd full of peace, now tost and turbulent: \\nFor Understanding ruled not, and the Will \\nHeard not her lore; both in subjection now \\nTo sensual Appetite, who from beneath \\nUsurping over sovran Reason claimed \\nSuperiour sway: From thus distempered breast, \\nAdam, estranged in look and altered style, \\nSpeech intermitted thus to Eve renewed. \\nWould thou hadst hearkened to my words, and staid \\nWith me, as I besought thee, when that strange \\nDesire of wandering, this unhappy morn, \\nI know not whence possessed thee; we had then \\nRemained still happy; not, as now, despoiled \\nOf all our good; shamed, naked, miserable! \\nLet none henceforth seek needless cause to approve \\nThe faith they owe; when earnestly they seek \\nSuch proof, conclude, they then begin to fail. \\nTo whom, soon moved with touch of blame, thus Eve. \\nWhat words have passed thy lips, Adam severe! \\nImputest thou that to my default, or will \\nOf wandering, as thou callest it, which who knows \\nBut might as ill have happened thou being by, \\nOr to thyself perhaps?  Hadst thou been there, \\nOr here the attempt, thou couldst not have discerned \\nFraud in the Serpent, speaking as he spake; \\nNo ground of enmity between us known, \\nWhy he should mean me ill, or seek to harm. \\nWas I to have never parted from thy side? \\nAs good have grown there still a lifeless rib. \\nBeing as I am, why didst not thou, the head, \\nCommand me absolutely not to go, \\nGoing into such danger, as thou saidst? \\nToo facile then, thou didst not much gainsay; \\nNay, didst permit, approve, and fair dismiss. \\nHadst thou been firm and fixed in thy dissent, \\nNeither had I transgressed, nor thou with me. \\nTo whom, then first incensed, Adam replied. \\nIs this the love, is this the recompence \\nOf mine to thee, ingrateful Eve! expressed \\nImmutable, when thou wert lost, not I; \\nWho might have lived, and joyed immortal bliss, \\nYet willingly chose rather death with thee? \\nAnd am I now upbraided as the cause \\nOf thy transgressing?  Not enough severe, \\nIt seems, in thy restraint:  What could I more \\nI warned thee, I admonished thee, foretold \\nThe danger, and the lurking enemy \\nThat lay in wait; beyond this, had been force; \\nAnd force upon free will hath here no place. \\nBut confidence then bore thee on; secure \\nEither to meet no danger, or to find \\nMatter of glorious trial; and perhaps \\nI also erred, in overmuch admiring \\nWhat seemed in thee so perfect, that I thought \\nNo evil durst attempt thee; but I rue \\nThe errour now, which is become my crime, \\nAnd thou the accuser.  Thus it shall befall \\nHim, who, to worth in women overtrusting, \\nLets her will rule: restraint she will not brook; \\nAnd, left to herself, if evil thence ensue, \\nShe first his weak indulgence will accuse. \\nThus they in mutual accusation spent \\nThe fruitless hours, but neither self-condemning; \\nAnd of their vain contest appeared no end. \\n \\n \\n \\nBook X                                                           \\n \\n \\nMean while the heinous and despiteful act \\nOf Satan, done in Paradise; and how \\nHe, in the serpent, had perverted Eve, \\nHer husband she, to taste the fatal fruit, \\nWas known in Heaven; for what can \\'scape the eye \\nOf God all-seeing, or deceive his heart \\nOmniscient? who, in all things wise and just, \\nHindered not Satan to attempt the mind \\nOf Man, with strength entire and free will armed, \\nComplete to have discovered and repulsed \\nWhatever wiles of foe or seeming friend. \\nFor still they knew, and ought to have still remembered, \\nThe high injunction, not to taste that fruit, \\nWhoever tempted; which they not obeying, \\n(Incurred what could they less?) the penalty; \\nAnd, manifold in sin, deserved to fall. \\nUp into Heaven from Paradise in haste \\nThe angelick guards ascended, mute, and sad, \\nFor Man; for of his state by this they knew, \\nMuch wondering how the subtle Fiend had stolen \\nEntrance unseen.  Soon as the unwelcome news \\nFrom Earth arrived at Heaven-gate, displeased \\nAll were who heard; dim sadness did not spare \\nThat time celestial visages, yet, mixed \\nWith pity, violated not their bliss. \\nAbout the new-arrived, in multitudes \\nThe ethereal people ran, to hear and know \\nHow all befel:  They towards the throne supreme, \\nAccountable, made haste, to make appear, \\nWith righteous plea, their utmost vigilance \\nAnd easily approved; when the Most High \\nEternal Father, from his secret cloud, \\nAmidst in thunder uttered thus his voice. \\nAssembled Angels, and ye Powers returned \\nFrom unsuccessful charge; be not dismayed, \\nNor troubled at these tidings from the earth, \\nWhich your sincerest care could not prevent; \\nForetold so lately what would come to pass, \\nWhen first this tempter crossed the gulf from Hell. \\nI told ye then he should prevail, and speed \\nOn his bad errand; Man should be seduced, \\nAnd flattered out of all, believing lies \\nAgainst his Maker; no decree of mine \\nConcurring to necessitate his fall, \\nOr touch with lightest moment of impulse \\nHis free will, to her own inclining left \\nIn even scale.  But fallen he is; and now \\nWhat rests, but that the mortal sentence pass \\nOn his transgression,--death denounced that day? \\nWhich he presumes already vain and void, \\nBecause not yet inflicted, as he feared, \\nBy some immediate stroke; but soon shall find \\nForbearance no acquittance, ere day end. \\nJustice shall not return as bounty scorned. \\nBut whom send I to judge them? whom but thee, \\nVicegerent Son?  To thee I have transferred \\nAll judgement, whether in Heaven, or Earth, or Hell. \\nEasy it may be seen that I intend \\nMercy colleague with justice, sending thee \\nMan\\'s friend, his Mediator, his designed \\nBoth ransom and Redeemer voluntary, \\nAnd destined Man himself to judge Man fallen. \\nSo spake the Father; and, unfolding bright \\nToward the right hand his glory, on the Son \\nBlazed forth unclouded Deity: He full \\nResplendent all his Father manifest \\nExpressed, and thus divinely answered mild. \\nFather Eternal, thine is to decree; \\nMine, both in Heaven and Earth, to do thy will \\nSupreme; that thou in me, thy Son beloved, \\nMayest ever rest well pleased.  I go to judge \\nOn earth these thy transgressours; but thou knowest, \\nWhoever judged, the worst on me must light, \\nWhen time shall be; for so I undertook \\nBefore thee; and, not repenting, this obtain \\nOf right, that I may mitigate their doom \\nOn me derived; yet I shall temper so \\nJustice with mercy, as may illustrate most \\nThem fully satisfied, and thee appease. \\nAttendance none shall need, nor train, where none \\nAre to behold the judgement, but the judged, \\nThose two; the third best absent is condemned, \\nConvict by flight, and rebel to all law: \\nConviction to the serpent none belongs. \\nThus saying, from his radiant seat he rose \\nOf high collateral glory: Him Thrones, and Powers, \\nPrincedoms, and Dominations ministrant, \\nAccompanied to Heaven-gate; from whence \\nEden, and all the coast, in prospect lay. \\nDown he descended straight; the speed of Gods \\nTime counts not, though with swiftest minutes winged. \\nNow was the sun in western cadence low \\nFrom noon, and gentle airs, due at their hour, \\nTo fan the earth now waked, and usher in \\nThe evening cool; when he, from wrath more cool, \\nCame the mild Judge, and Intercessour both, \\nTo sentence Man:  The voice of God they heard \\nNow walking in the garden, by soft winds \\nBrought to their ears, while day declined; they heard, \\nAnd from his presence hid themselves among \\nThe thickest trees, both man and wife; till God, \\nApproaching, thus to Adam called aloud. \\nWhere art thou, Adam, wont with joy to meet \\nMy coming seen far off?  I miss thee here, \\nNot pleased, thus entertained with solitude, \\nWhere obvious duty ere while appeared unsought: \\nOr come I less conspicuous, or what change \\nAbsents thee, or what chance detains?--Come forth! \\nHe came; and with him Eve, more loth, though first \\nTo offend; discountenanced both, and discomposed; \\nLove was not in their looks, either to God, \\nOr to each other; but apparent guilt, \\nAnd shame, and perturbation, and despair, \\nAnger, and obstinacy, and hate, and guile. \\nWhence Adam, faltering long, thus answered brief. \\nI heard thee in the garden, and of thy voice \\nAfraid, being naked, hid myself.  To whom \\nThe gracious Judge without revile replied. \\nMy voice thou oft hast heard, and hast not feared, \\nBut still rejoiced; how is it now become \\nSo dreadful to thee?  That thou art naked, who \\nHath told thee?  Hast thou eaten of the tree, \\nWhereof I gave thee charge thou shouldst not eat? \\nTo whom thus Adam sore beset replied. \\nO Heaven! in evil strait this day I stand \\nBefore my Judge; either to undergo \\nMyself the total crime, or to accuse \\nMy other self, the partner of my life; \\nWhose failing, while her faith to me remains, \\nI should conceal, and not expose to blame \\nBy my complaint: but strict necessity \\nSubdues me, and calamitous constraint; \\nLest on my head both sin and punishment, \\nHowever insupportable, be all \\nDevolved; though should I hold my peace, yet thou \\nWouldst easily detect what I conceal.-- \\nThis Woman, whom thou madest to be my help, \\nAnd gavest me as thy perfect gift, so good, \\nSo fit, so acceptable, so divine, \\nThat from her hand I could suspect no ill, \\nAnd what she did, whatever in itself, \\nHer doing seemed to justify the deed; \\nShe gave me of the tree, and I did eat. \\nTo whom the Sovran Presence thus replied. \\nWas she thy God, that her thou didst obey \\nBefore his voice? or was she made thy guide, \\nSuperiour, or but equal, that to her \\nThou didst resign thy manhood, and the place \\nWherein God set thee above her made of thee, \\nAnd for thee, whose perfection far excelled \\nHers in all real dignity?  Adorned \\nShe was indeed, and lovely, to attract \\nThy love, not thy subjection; and her gifts \\nWere such, as under government well seemed; \\nUnseemly to bear rule; which was thy part \\nAnd person, hadst thou known thyself aright. \\nSo having said, he thus to Eve in few. \\nSay, Woman, what is this which thou hast done? \\nTo whom sad Eve, with shame nigh overwhelmed, \\nConfessing soon, yet not before her Judge \\nBold or loquacious, thus abashed replied. \\nThe Serpent me beguiled, and I did eat. \\nWhich when the Lord God heard, without delay \\nTo judgement he proceeded on the accused \\nSerpent, though brute; unable to transfer \\nThe guilt on him, who made him instrument \\nOf mischief, and polluted from the end \\nOf his creation; justly then accursed, \\nAs vitiated in nature:  More to know \\nConcerned not Man, (since he no further knew) \\nNor altered his offence; yet God at last \\nTo Satan first in sin his doom applied, \\nThough in mysterious terms, judged as then best: \\nAnd on the Serpent thus his curse let fall. \\nBecause thou hast done this, thou art accursed \\nAbove all cattle, each beast of the field; \\nUpon thy belly groveling thou shalt go, \\nAnd dust shalt eat all the days of thy life. \\nBetween thee and the woman I will put \\nEnmity, and between thine and her seed; \\nHer seed shall bruise thy head, thou bruise his heel. \\nSo spake this oracle, then verified \\nWhen Jesus, Son of Mary, second Eve, \\nSaw Satan fall, like lightning, down from Heaven, \\nPrince of the air; then, rising from his grave \\nSpoiled Principalities and Powers, triumphed \\nIn open show; and, with ascension bright, \\nCaptivity led captive through the air, \\nThe realm itself of Satan, long usurped; \\nWhom he shall tread at last under our feet; \\nEven he, who now foretold his fatal bruise; \\nAnd to the Woman thus his sentence turned. \\nThy sorrow I will greatly multiply \\nBy thy conception; children thou shalt bring \\nIn sorrow forth; and to thy husband\\'s will \\nThine shall submit; he over thee shall rule. \\nOn Adam last thus judgement he pronounced. \\nBecause thou hast hearkened to the voice of thy wife, \\nAnd eaten of the tree, concerning which \\nI charged thee, saying, Thou shalt not eat thereof: \\nCursed is the ground for thy sake; thou in sorrow \\nShalt eat thereof, all the days of thy life; \\nThorns also and thistles it shall bring thee forth \\nUnbid; and thou shalt eat the herb of the field; \\nIn the sweat of thy face shalt thou eat bread, \\nTill thou return unto the ground; for thou \\nOut of the ground wast taken, know thy birth, \\nFor dust thou art, and shalt to dust return. \\nSo judged he Man, both Judge and Saviour sent; \\nAnd the instant stroke of death, denounced that day, \\nRemoved far off; then, pitying how they stood \\nBefore him naked to the air, that now \\nMust suffer change, disdained not to begin \\nThenceforth the form of servant to assume; \\nAs when he washed his servants feet; so now, \\nAs father of his family, he clad \\nTheir nakedness with skins of beasts, or slain, \\nOr as the snake with youthful coat repaid; \\nAnd thought not much to clothe his enemies; \\nNor he their outward only with the skins \\nOf beasts, but inward nakedness, much more. \\nOpprobrious, with his robe of righteousness, \\nArraying, covered from his Father\\'s sight. \\nTo him with swift ascent he up returned, \\nInto his blissful bosom reassumed \\nIn glory, as of old; to him appeased \\nAll, though all-knowing, what had passed with Man \\nRecounted, mixing intercession sweet. \\nMean while, ere thus was sinned and judged on Earth, \\nWithin the gates of Hell sat Sin and Death, \\nIn counterview within the gates, that now \\nStood open wide, belching outrageous flame \\nFar into Chaos, since the Fiend passed through, \\nSin opening; who thus now to Death began. \\nO Son, why sit we here each other viewing \\nIdly, while Satan, our great author, thrives \\nIn other worlds, and happier seat provides \\nFor us, his offspring dear?  It cannot be \\nBut that success attends him; if mishap, \\nEre this he had returned, with fury driven \\nBy his avengers; since no place like this \\nCan fit his punishment, or their revenge. \\nMethinks I feel new strength within me rise, \\nWings growing, and dominion given me large \\nBeyond this deep; whatever draws me on, \\nOr sympathy, or some connatural force, \\nPowerful at greatest distance to unite, \\nWith secret amity, things of like kind, \\nBy secretest conveyance.  Thou, my shade \\nInseparable, must with me along; \\nFor Death from Sin no power can separate. \\nBut, lest the difficulty of passing back \\nStay his return perhaps over this gulf \\nImpassable, impervious; let us try \\nAdventurous work, yet to thy power and mine \\nNot unagreeable, to found a path \\nOver this main from Hell to that new world, \\nWhere Satan now prevails; a monument \\nOf merit high to all the infernal host, \\nEasing their passage hence, for intercourse, \\nOr transmigration, as their lot shall lead. \\nNor can I miss the way, so strongly drawn \\nBy this new-felt attraction and instinct. \\nWhom thus the meager Shadow answered soon. \\nGo, whither Fate, and inclination strong, \\nLeads thee; I shall not lag behind, nor err \\nThe way, thou leading; such a scent I draw \\nOf carnage, prey innumerable, and taste \\nThe savour of death from all things there that live: \\nNor shall I to the work thou enterprisest \\nBe wanting, but afford thee equal aid. \\nSo saying, with delight he snuffed the smell \\nOf mortal change on earth.  As when a flock \\nOf ravenous fowl, though many a league remote, \\nAgainst the day of battle, to a field, \\nWhere armies lie encamped, come flying, lured \\nWith scent of living carcasses designed \\nFor death, the following day, in bloody fight: \\nSo scented the grim Feature, and upturned \\nHis nostril wide into the murky air; \\nSagacious of his quarry from so far. \\nThen both from out Hell-gates, into the waste \\nWide anarchy of Chaos, damp and dark, \\nFlew diverse; and with power (their power was great) \\nHovering upon the waters, what they met \\nSolid or slimy, as in raging sea \\nTost up and down, together crouded drove, \\nFrom each side shoaling towards the mouth of Hell; \\nAs when two polar winds, blowing adverse \\nUpon the Cronian sea, together drive \\nMountains of ice, that stop the imagined way \\nBeyond Petsora eastward, to the rich \\nCathaian coast.  The aggregated soil \\nDeath with his mace petrifick, cold and dry, \\nAs with a trident, smote; and fixed as firm \\nAs Delos, floating once; the rest his look \\nBound with Gorgonian rigour not to move; \\nAnd with Asphaltick slime, broad as the gate, \\nDeep to the roots of Hell the gathered beach \\nThey fastened, and the mole immense wrought on \\nOver the foaming deep high-arched, a bridge \\nOf length prodigious, joining to the wall \\nImmoveable of this now fenceless world, \\nForfeit to Death; from hence a passage broad, \\nSmooth, easy, inoffensive, down to Hell. \\nSo, if great things to small may be compared, \\nXerxes, the liberty of Greece to yoke, \\nFrom Susa, his Memnonian palace high, \\nCame to the sea: and, over Hellespont \\nBridging his way, Europe with Asia joined, \\nAnd scourged with many a stroke the indignant waves. \\nNow had they brought the work by wonderous art \\nPontifical, a ridge of pendant rock, \\nOver the vexed abyss, following the track \\nOf Satan to the self-same place where he \\nFirst lighted from his wing, and landed safe \\nFrom out of Chaos, to the outside bare \\nOf this round world:  With pins of adamant \\nAnd chains they made all fast, too fast they made \\nAnd durable!  And now in little space \\nThe confines met of empyrean Heaven, \\nAnd of this World; and, on the left hand, Hell \\nWith long reach interposed; three several ways \\nIn sight, to each of these three places led. \\nAnd now their way to Earth they had descried, \\nTo Paradise first tending; when, behold! \\nSatan, in likeness of an Angel bright, \\nBetwixt the Centaur and the Scorpion steering \\nHis zenith, while the sun in Aries rose: \\nDisguised he came; but those his children dear \\nTheir parent soon discerned, though in disguise. \\nHe, after Eve seduced, unminded slunk \\nInto the wood fast by; and, changing shape, \\nTo observe the sequel, saw his guileful act \\nBy Eve, though all unweeting, seconded \\nUpon her husband; saw their shame that sought \\nVain covertures; but when he saw descend \\nThe Son of God to judge them, terrified \\nHe fled; not hoping to escape, but shun \\nThe present; fearing, guilty, what his wrath \\nMight suddenly inflict; that past, returned \\nBy night, and listening where the hapless pair \\nSat in their sad discourse, and various plaint, \\nThence gathered his own doom; which understood \\nNot instant, but of future time, with joy \\nAnd tidings fraught, to Hell he now returned; \\nAnd at the brink of Chaos, near the foot \\nOf this new wonderous pontifice, unhoped \\nMet, who to meet him came, his offspring dear. \\nGreat joy was at their meeting, and at sight \\nOf that stupendious bridge his joy encreased. \\nLong he admiring stood, till Sin, his fair \\nEnchanting daughter, thus the silence broke. \\nO Parent, these are thy magnifick deeds, \\nThy trophies! which thou viewest as not thine own; \\nThou art their author, and prime architect: \\nFor I no sooner in my heart divined, \\nMy heart, which by a secret harmony \\nStill moves with thine, joined in connexion sweet, \\nThat thou on earth hadst prospered, which thy looks \\nNow also evidence, but straight I felt, \\nThough distant from thee worlds between, yet felt, \\nThat I must after thee, with this thy son; \\nSuch fatal consequence unites us three! \\nHell could no longer hold us in our bounds, \\nNor this unvoyageable gulf obscure \\nDetain from following thy illustrious track. \\nThou hast achieved our liberty, confined \\nWithin Hell-gates till now; thou us impowered \\nTo fortify thus far, and overlay, \\nWith this portentous bridge, the dark abyss. \\nThine now is all this world; thy virtue hath won \\nWhat thy hands builded not; thy wisdom gained \\nWith odds what war hath lost, and fully avenged \\nOur foil in Heaven; here thou shalt monarch reign, \\nThere didst not; there let him still victor sway, \\nAs battle hath adjudged; from this new world \\nRetiring, by his own doom alienated; \\nAnd henceforth monarchy with thee divide \\nOf all things, parted by the empyreal bounds, \\nHis quadrature, from thy orbicular world; \\nOr try thee now more dangerous to his throne. \\nWhom thus the Prince of darkness answered glad. \\nFair Daughter, and thou Son and Grandchild both; \\nHigh proof ye now have given to be the race \\nOf Satan (for I glory in the name, \\nAntagonist of Heaven\\'s Almighty King,) \\nAmply have merited of me, of all \\nThe infernal empire, that so near Heaven\\'s door \\nTriumphal with triumphal act have met, \\nMine, with this glorious work; and made one realm, \\nHell and this world, one realm, one continent \\nOf easy thorough-fare.  Therefore, while I \\nDescend through darkness, on your road with ease, \\nTo my associate Powers, them to acquaint \\nWith these successes, and with them rejoice; \\nYou two this way, among these numerous orbs, \\nAll yours, right down to Paradise descend; \\nThere dwell, and reign in bliss; thence on the earth \\nDominion exercise and in the air, \\nChiefly on Man, sole lord of all declared; \\nHim first make sure your thrall, and lastly kill. \\nMy substitutes I send ye, and create \\nPlenipotent on earth, of matchless might \\nIssuing from me: on your joint vigour now \\nMy hold of this new kingdom all depends, \\nThrough Sin to Death exposed by my exploit. \\nIf your joint power prevail, the affairs of Hell \\nNo detriment need fear; go, and be strong! \\nSo saying he dismissed them; they with speed \\nTheir course through thickest constellations held, \\nSpreading their bane; the blasted stars looked wan, \\nAnd planets, planet-struck, real eclipse \\nThen suffered.  The other way Satan went down \\nThe causey to Hell-gate:  On either side \\nDisparted Chaos overbuilt exclaimed, \\nAnd with rebounding surge the bars assailed, \\nThat scorned his indignation:  Through the gate, \\nWide open and unguarded, Satan passed, \\nAnd all about found desolate; for those, \\nAppointed to sit there, had left their charge, \\nFlown to the upper world; the rest were all \\nFar to the inland retired, about the walls \\nOf Pandemonium; city and proud seat \\nOf Lucifer, so by allusion called \\nOf that bright star to Satan paragoned; \\nThere kept their watch the legions, while the Grand \\nIn council sat, solicitous what chance \\nMight intercept their emperour sent; so he \\nDeparting gave command, and they observed. \\nAs when the Tartar from his Russian foe, \\nBy Astracan, over the snowy plains, \\nRetires; or Bactrin Sophi, from the horns \\nOf Turkish crescent, leaves all waste beyond \\nThe realm of Aladule, in his retreat \\nTo Tauris or Casbeen:  So these, the late \\nHeaven-banished host, left desart utmost Hell \\nMany a dark league, reduced in careful watch \\nRound their metropolis; and now expecting \\nEach hour their great adventurer, from the search \\nOf foreign worlds:  He through the midst unmarked, \\nIn show plebeian Angel militant \\nOf lowest order, passed; and from the door \\nOf that Plutonian hall, invisible \\nAscended his high throne; which, under state \\nOf richest texture spread, at the upper end \\nWas placed in regal lustre.  Down a while \\nHe sat, and round about him saw unseen: \\nAt last, as from a cloud, his fulgent head \\nAnd shape star-bright appeared, or brighter; clad \\nWith what permissive glory since his fall \\nWas left him, or false glitter:  All amazed \\nAt that so sudden blaze the Stygian throng \\nBent their aspect, and whom they wished beheld, \\nTheir mighty Chief returned: loud was the acclaim: \\nForth rushed in haste the great consulting peers, \\nRaised from their dark Divan, and with like joy \\nCongratulant approached him; who with hand \\nSilence, and with these words attention, won. \\nThrones, Dominations, Princedoms, Virtues, Powers; \\nFor in possession such, not only of right, \\nI call ye, and declare ye now; returned \\nSuccessful beyond hope, to lead ye forth \\nTriumphant out of this infernal pit \\nAbominable, accursed, the house of woe, \\nAnd dungeon of our tyrant:  Now possess, \\nAs Lords, a spacious world, to our native Heaven \\nLittle inferiour, by my adventure hard \\nWith peril great achieved.  Long were to tell \\nWhat I have done; what suffered;with what pain \\nVoyaged th\\' unreal, vast, unbounded deep \\nOf horrible confusion; over which \\nBy Sin and Death a broad way now is paved, \\nTo expedite your glorious march; but I \\nToiled out my uncouth passage, forced to ride \\nThe untractable abyss, plunged in the womb \\nOf unoriginal Night and Chaos wild; \\nThat, jealous of their secrets, fiercely opposed \\nMy journey strange, with clamorous uproar \\nProtesting Fate supreme; thence how I found \\nThe new created world, which fame in Heaven \\nLong had foretold, a fabrick wonderful \\nOf absolute perfection! therein Man \\nPlaced in a Paradise, by our exile \\nMade happy:  Him by fraud I have seduced \\nFrom his Creator; and, the more to encrease \\nYour wonder, with an apple; he, thereat \\nOffended, worth your laughter! hath given up \\nBoth his beloved Man, and all his world, \\nTo Sin and Death a prey, and so to us, \\nWithout our hazard, labour, or alarm; \\nTo range in, and to dwell, and over Man \\nTo rule, as over all he should have ruled. \\nTrue is, me also he hath judged, or rather \\nMe not, but the brute serpent in whose shape \\nMan I deceived: that which to me belongs, \\nIs enmity which he will put between \\nMe and mankind; I am to bruise his heel; \\nHis seed, when is not set, shall bruise my head: \\nA world who would not purchase with a bruise, \\nOr much more grievous pain?--Ye have the account \\nOf my performance:  What remains, ye Gods, \\nBut up, and enter now into full bliss? \\nSo having said, a while he stood, expecting \\nTheir universal shout, and high applause, \\nTo fill his ear; when, contrary, he hears \\nOn all sides, from innumerable tongues, \\nA dismal universal hiss, the sound \\nOf publick scorn; he wondered, but not long \\nHad leisure, wondering at himself now more, \\nHis visage drawn he felt to sharp and spare; \\nHis arms clung to his ribs; his legs entwining \\nEach other, till supplanted down he fell \\nA monstrous serpent on his belly prone, \\nReluctant, but in vain; a greater power \\nNow ruled him, punished in the shape he sinned, \\nAccording to his doom: he would have spoke, \\nBut hiss for hiss returned with forked tongue \\nTo forked tongue; for now were all transformed \\nAlike, to serpents all, as accessories \\nTo his bold riot:  Dreadful was the din \\nOf hissing through the hall, thick swarming now \\nWith complicated monsters head and tail, \\nScorpion, and Asp, and Amphisbaena dire, \\nCerastes horned, Hydrus, and Elops drear, \\nAnd Dipsas; (not so thick swarmed once the soil \\nBedropt with blood of Gorgon, or the isle \\nOphiusa,) but still greatest he the midst, \\nNow Dragon grown, larger than whom the sun \\nIngendered in the Pythian vale or slime, \\nHuge Python, and his power no less he seemed \\nAbove the rest still to retain; they all \\nHim followed, issuing forth to the open field, \\nWhere all yet left of that revolted rout, \\nHeaven-fallen, in station stood or just array; \\nSublime with expectation when to see \\nIn triumph issuing forth their glorious Chief; \\nThey saw, but other sight instead! a croud \\nOf ugly serpents; horrour on them fell, \\nAnd horrid sympathy; for, what they saw, \\nThey felt themselves, now changing; down their arms, \\nDown fell both spear and shield; down they as fast; \\nAnd the dire hiss renewed, and the dire form \\nCatched, by contagion; like in punishment, \\nAs in their crime.  Thus was the applause they meant, \\nTurned to exploding hiss, triumph to shame \\nCast on themselves from their own mouths.  There stood \\nA grove hard by, sprung up with this their change, \\nHis will who reigns above, to aggravate \\nTheir penance, laden with fair fruit, like that \\nWhich grew in Paradise, the bait of Eve \\nUsed by the Tempter: on that prospect strange \\nTheir earnest eyes they fixed, imagining \\nFor one forbidden tree a multitude \\nNow risen, to work them further woe or shame; \\nYet, parched with scalding thirst and hunger fierce, \\nThough to delude them sent, could not abstain; \\nBut on they rolled in heaps, and, up the trees \\nClimbing, sat thicker than the snaky locks \\nThat curled Megaera: greedily they plucked \\nThe fruitage fair to sight, like that which grew \\nNear that bituminous lake where Sodom flamed; \\nThis more delusive, not the touch, but taste \\nDeceived; they, fondly thinking to allay \\nTheir appetite with gust, instead of fruit \\nChewed bitter ashes, which the offended taste \\nWith spattering noise rejected: oft they assayed, \\nHunger and thirst constraining; drugged as oft, \\nWith hatefullest disrelish writhed their jaws, \\nWith soot and cinders filled; so oft they fell \\nInto the same illusion, not as Man \\nWhom they triumphed once lapsed.  Thus were they plagued \\nAnd worn with famine, long and ceaseless hiss, \\nTill their lost shape, permitted, they resumed; \\nYearly enjoined, some say, to undergo, \\nThis annual humbling certain numbered days, \\nTo dash their pride, and joy, for Man seduced. \\nHowever, some tradition they dispersed \\nAmong the Heathen, of their purchase got, \\nAnd fabled how the Serpent, whom they called \\nOphion, with Eurynome, the wide-- \\nEncroaching Eve perhaps, had first the rule \\nOf high Olympus; thence by Saturn driven \\nAnd Ops, ere yet Dictaean Jove was born. \\nMean while in Paradise the hellish pair \\nToo soon arrived; Sin, there in power before, \\nOnce actual; now in body, and to dwell \\nHabitual habitant; behind her Death, \\nClose following pace for pace, not mounted yet \\nOn his pale horse: to whom Sin thus began. \\nSecond of Satan sprung, all-conquering Death! \\nWhat thinkest thou of our empire now, though earned \\nWith travel difficult, not better far \\nThan still at Hell\\'s dark threshold to have sat watch, \\nUnnamed, undreaded, and thyself half starved? \\nWhom thus the Sin-born monster answered soon. \\nTo me, who with eternal famine pine, \\nAlike is Hell, or Paradise, or Heaven; \\nThere best, where most with ravine I may meet; \\nWhich here, though plenteous, all too little seems \\nTo stuff this maw, this vast unhide-bound corps. \\nTo whom the incestuous mother thus replied. \\nThou therefore on these herbs, and fruits, and flowers, \\nFeed first; on each beast next, and fish, and fowl; \\nNo homely morsels! and, whatever thing \\nThe sithe of Time mows down, devour unspared; \\nTill I, in Man residing, through the race, \\nHis thoughts, his looks, words, actions, all infect; \\nAnd season him thy last and sweetest prey. \\nThis said, they both betook them several ways, \\nBoth to destroy, or unimmortal make \\nAll kinds, and for destruction to mature \\nSooner or later; which the Almighty seeing, \\nFrom his transcendent seat the Saints among, \\nTo those bright Orders uttered thus his voice. \\nSee, with what heat these dogs of Hell advance \\nTo waste and havock yonder world, which I \\nSo fair and good created; and had still \\nKept in that state, had not the folly of Man \\nLet in these wasteful furies, who impute \\nFolly to me; so doth the Prince of Hell \\nAnd his adherents, that with so much ease \\nI suffer them to enter and possess \\nA place so heavenly; and, conniving, seem \\nTo gratify my scornful enemies, \\nThat laugh, as if, transported with some fit \\nOf passion, I to them had quitted all, \\nAt random yielded up to their misrule; \\nAnd know not that I called, and drew them thither, \\nMy Hell-hounds, to lick up the draff and filth \\nWhich Man\\'s polluting sin with taint hath shed \\nOn what was pure; til, crammed and gorged, nigh burst \\nWith sucked and glutted offal, at one sling \\nOf thy victorious arm, well-pleasing Son, \\nBoth Sin, and Death, and yawning Grave, at last, \\nThrough Chaos hurled, obstruct the mouth of Hell \\nFor ever, and seal up his ravenous jaws. \\nThen Heaven and Earth renewed shall be made pure \\nTo sanctity, that shall receive no stain: \\nTill then, the curse pronounced on both precedes. \\nHe ended, and the heavenly audience loud \\nSung Halleluiah, as the sound of seas, \\nThrough multitude that sung:  Just are thy ways, \\nRighteous are thy decrees on all thy works; \\nWho can extenuate thee?  Next, to the Son, \\nDestined Restorer of mankind, by whom \\nNew Heaven and Earth shall to the ages rise, \\nOr down from Heaven descend.--Such was their song; \\nWhile the Creator, calling forth by name \\nHis mighty Angels, gave them several charge, \\nAs sorted best with present things.  The sun \\nHad first his precept so to move, so shine, \\nAs might affect the earth with cold and heat \\nScarce tolerable; and from the north to call \\nDecrepit winter; from the south to bring \\nSolstitial summer\\'s heat.  To the blanc moon \\nHer office they prescribed; to the other five \\nTheir planetary motions, and aspects, \\nIn sextile, square, and trine, and opposite, \\nOf noxious efficacy, and when to join \\nIn synod unbenign; and taught the fixed \\nTheir influence malignant when to shower, \\nWhich of them rising with the sun, or falling, \\nShould prove tempestuous:  To the winds they set \\nTheir corners, when with bluster to confound \\nSea, air, and shore; the thunder when to roll \\nWith terrour through the dark aereal hall. \\nSome say, he bid his Angels turn ascanse \\nThe poles of earth, twice ten degrees and more, \\nFrom the sun\\'s axle; they with labour pushed \\nOblique the centrick globe:  Some say, the sun \\nWas bid turn reins from the equinoctial road \\nLike distant breadth to Taurus with the seven \\nAtlantick Sisters, and the Spartan Twins, \\nUp to the Tropick Crab: thence down amain \\nBy Leo, and the Virgin, and the Scales, \\nAs deep as Capricorn; to bring in change \\nOf seasons to each clime; else had the spring \\nPerpetual smiled on earth with vernant flowers, \\nEqual in days and nights, except to those \\nBeyond the polar circles; to them day \\nHad unbenighted shone, while the low sun, \\nTo recompense his distance, in their sight \\nHad rounded still the horizon, and not known \\nOr east or west; which had forbid the snow \\nFrom cold Estotiland, and south as far \\nBeneath Magellan.  At that tasted fruit \\nThe sun, as from Thyestean banquet, turned \\nHis course intended; else, how had the world \\nInhabited, though sinless, more than now, \\nAvoided pinching cold and scorching heat? \\nThese changes in the Heavens, though slow, produced \\nLike change on sea and land; sideral blast, \\nVapour, and mist, and exhalation hot, \\nCorrupt and pestilent:  Now from the north \\nOf Norumbega, and the Samoed shore, \\nBursting their brazen dungeon, armed with ice, \\nAnd snow, and hail, and stormy gust and flaw, \\nBoreas, and Caecias, and Argestes loud, \\nAnd Thrascias, rend the woods, and seas upturn; \\nWith adverse blast upturns them from the south \\nNotus, and Afer black with thunderous clouds \\nFrom Serraliona; thwart of these, as fierce, \\nForth rush the Levant and the Ponent winds, \\nEurus and Zephyr, with their lateral noise, \\nSirocco and Libecchio.  Thus began \\nOutrage from lifeless things; but Discord first, \\nDaughter of Sin, among the irrational \\nDeath introduced, through fierce antipathy: \\nBeast now with beast \\'gan war, and fowl with fowl, \\nAnd fish with fish; to graze the herb all leaving, \\nDevoured each other; nor stood much in awe \\nOf Man, but fled him; or, with countenance grim, \\nGlared on him passing.  These were from without \\nThe growing miseries, which Adam saw \\nAlready in part, though hid in gloomiest shade, \\nTo sorrow abandoned, but worse felt within; \\nAnd, in a troubled sea of passion tost, \\nThus to disburden sought with sad complaint. \\nO miserable of happy!  Is this the end \\nOf this new glorious world, and me so late \\nThe glory of that glory, who now become \\nAccursed, of blessed? hide me from the face \\nOf God, whom to behold was then my highth \\nOf happiness!--Yet well, if here would end \\nThe misery; I deserved it, and would bear \\nMy own deservings; but this will not serve: \\nAll that I eat or drink, or shall beget, \\nIs propagated curse.  O voice, once heard \\nDelightfully, Encrease and multiply; \\nNow death to hear! for what can I encrease, \\nOr multiply, but curses on my head? \\nWho of all ages to succeed, but, feeling \\nThe evil on him brought by me, will curse \\nMy head?  Ill fare our ancestor impure, \\nFor this we may thank Adam! but his thanks \\nShall be the execration: so, besides \\nMine own that bide upon me, all from me \\nShall with a fierce reflux on me rebound; \\nOn me, as on their natural center, light \\nHeavy, though in their place.  O fleeting joys \\nOf Paradise, dear bought with lasting woes! \\nDid I request thee, Maker, from my clay \\nTo mould me Man? did I solicit thee \\nFrom darkness to promote me, or here place \\nIn this delicious garden?  As my will \\nConcurred not to my being, it were but right \\nAnd equal to reduce me to my dust; \\nDesirous to resign and render back \\nAll I received; unable to perform \\nThy terms too hard, by which I was to hold \\nThe good I sought not.  To the loss of that, \\nSufficient penalty, why hast thou added \\nThe sense of endless woes?  Inexplicable \\nWhy am I mocked with death, and lengthened out \\nTo deathless pain?  How gladly would I meet \\nMortality my sentence, and be earth \\nInsensible!  How glad would lay me down \\nAs in my mother\\'s lap!  There I should rest, \\nAnd sleep secure; his dreadful voice no more \\nWould thunder in my ears; no fear of worse \\nTo me, and to my offspring, would torment me \\nWith cruel expectation.  Yet one doubt \\nPursues me still, lest all I cannot die; \\nLest that pure breath of life, the spirit of Man \\nWhich God inspired, cannot together perish \\nWith this corporeal clod; then, in the grave, \\nOr in some other dismal place, who knows \\nBut I shall die a living death?  O thought \\nHorrid, if true!  Yet why? It was but breath \\nOf life that sinned; what dies but what had life \\nAnd sin?  The body properly had neither, \\nAll of me then shall die: let this appease \\nThe doubt, since human reach no further knows. \\nFor though the Lord of all be infinite, \\nIs his wrath also?  Be it, Man is not so, \\nBut mortal doomed.  How can he exercise \\nWrath without end on Man, whom death must end? \\nCan he make deathless death?  That were to make \\nStrange contradiction, which to God himself \\nImpossible is held; as argument \\nOf weakness, not of power.  Will he draw out, \\nFor anger\\'s sake, finite to infinite, \\nIn punished Man, to satisfy his rigour, \\nSatisfied never?  That were to extend \\nHis sentence beyond dust and Nature\\'s law; \\nBy which all causes else, according still \\nTo the reception of their matter, act; \\nNot to the extent of their own sphere.  But say \\nThat death be not one stroke, as I supposed, \\nBereaving sense, but endless misery \\nFrom this day onward; which I feel begun \\nBoth in me, and without me; and so last \\nTo perpetuity;--Ay me!that fear \\nComes thundering back with dreadful revolution \\nOn my defenceless head; both Death and I \\nAm found eternal, and incorporate both; \\nNor I on my part single; in me all \\nPosterity stands cursed:  Fair patrimony \\nThat I must leave ye, Sons!  O, were I able \\nTo waste it all myself, and leave ye none! \\nSo disinherited, how would you bless \\nMe, now your curse!  Ah, why should all mankind, \\nFor one man\\'s fault, thus guiltless be condemned, \\nIt guiltless?  But from me what can proceed, \\nBut all corrupt; both mind and will depraved \\nNot to do only, but to will the same \\nWith me?  How can they then acquitted stand \\nIn sight of God?  Him, after all disputes, \\nForced I absolve: all my evasions vain, \\nAnd reasonings, though through mazes, lead me still \\nBut to my own conviction: first and last \\nOn me, me only, as the source and spring \\nOf all corruption, all the blame lights due; \\nSo might the wrath!  Fond wish!couldst thou support \\nThat burden, heavier than the earth to bear; \\nThan all the world much heavier, though divided \\nWith that bad Woman?  Thus, what thou desirest, \\nAnd what thou fearest, alike destroys all hope \\nOf refuge, and concludes thee miserable \\nBeyond all past example and future; \\nTo Satan only like both crime and doom. \\nO Conscience! into what abyss of fears \\nAnd horrours hast thou driven me; out of which \\nI find no way, from deep to deeper plunged! \\nThus Adam to himself lamented loud, \\nThrough the still night; not now, as ere Man fell, \\nWholesome, and cool, and mild, but with black air \\nAccompanied; with damps, and dreadful gloom; \\nWhich to his evil conscience represented \\nAll things with double terrour:  On the ground \\nOutstretched he lay, on the cold ground; and oft \\nCursed his creation;  Death as oft accused \\nOf tardy execution, since denounced \\nThe day of his offence.  Why comes not Death, \\nSaid he, with one thrice-acceptable stroke \\nTo end me?  Shall Truth fail to keep her word, \\nJustice Divine not hasten to be just? \\nBut Death comes not at call; Justice Divine \\nMends not her slowest pace for prayers or cries, \\nO woods, O fountains, hillocks, dales, and bowers! \\nWith other echo late I taught your shades \\nTo answer, and resound far other song.-- \\nWhom thus afflicted when sad Eve beheld, \\nDesolate where she sat, approaching nigh, \\nSoft words to his fierce passion she assayed: \\nBut her with stern regard he thus repelled. \\nOut of my sight, thou Serpent!  That name best \\nBefits thee with him leagued, thyself as false \\nAnd hateful; nothing wants, but that thy shape, \\nLike his, and colour serpentine, may show \\nThy inward fraud; to warn all creatures from thee \\nHenceforth; lest that too heavenly form, pretended \\nTo hellish falshood, snare them!  But for thee \\nI had persisted happy; had not thy pride \\nAnd wandering vanity, when least was safe, \\nRejected my forewarning, and disdained \\nNot to be trusted; longing to be seen, \\nThough by the Devil himself; him overweening \\nTo over-reach; but, with the serpent meeting, \\nFooled and beguiled; by him thou, I by thee \\nTo trust thee from my side; imagined wise, \\nConstant, mature, proof against all assaults; \\nAnd understood not all was but a show, \\nRather than solid virtue; all but a rib \\nCrooked by nature, bent, as now appears, \\nMore to the part sinister, from me drawn; \\nWell if thrown out, as supernumerary \\nTo my just number found.  O! why did God, \\nCreator wise, that peopled highest Heaven \\nWith Spirits masculine, create at last \\nThis novelty on earth, this fair defect \\nOf nature, and not fill the world at once \\nWith Men, as Angels, without feminine; \\nOr find some other way to generate \\nMankind?  This mischief had not been befallen, \\nAnd more that shall befall; innumerable \\nDisturbances on earth through female snares, \\nAnd strait conjunction with this sex: for either \\nHe never shall find out fit mate, but such \\nAs some misfortune brings him, or mistake; \\nOr whom he wishes most shall seldom gain \\nThrough her perverseness, but shall see her gained \\nBy a far worse; or, if she love, withheld \\nBy parents; or his happiest choice too late \\nShall meet, already linked and wedlock-bound \\nTo a fell adversary, his hate or shame: \\nWhich infinite calamity shall cause \\nTo human life, and houshold peace confound. \\nHe added not, and from her turned; but Eve, \\nNot so repulsed, with tears that ceased not flowing \\nAnd tresses all disordered, at his feet \\nFell humble; and, embracing them, besought \\nHis peace, and thus proceeded in her plaint. \\nForsake me not thus, Adam! witness Heaven \\nWhat love sincere, and reverence in my heart \\nI bear thee, and unweeting have offended, \\nUnhappily deceived!  Thy suppliant \\nI beg, and clasp thy knees; bereave me not, \\nWhereon I live, thy gentle looks, thy aid, \\nThy counsel, in this uttermost distress, \\nMy only strength and stay:  Forlorn of thee, \\nWhither shall I betake me, where subsist? \\nWhile yet we live, scarce one short hour perhaps, \\nBetween us two let there be peace; both joining, \\nAs joined in injuries, one enmity \\nAgainst a foe by doom express assigned us, \\nThat cruel Serpent:  On me exercise not \\nThy hatred for this misery befallen; \\nOn me already lost, me than thyself \\nMore miserable!  Both have sinned;but thou \\nAgainst God only; I against God and thee; \\nAnd to the place of judgement will return, \\nThere with my cries importune Heaven; that all \\nThe sentence, from thy head removed, may light \\nOn me, sole cause to thee of all this woe; \\nMe, me only, just object of his ire! \\nShe ended weeping; and her lowly plight, \\nImmoveable, till peace obtained from fault \\nAcknowledged and deplored, in Adam wrought \\nCommiseration:  Soon his heart relented \\nTowards her, his life so late, and sole delight, \\nNow at his feet submissive in distress; \\nCreature so fair his reconcilement seeking, \\nHis counsel, whom she had displeased, his aid: \\nAs one disarmed, his anger all he lost, \\nAnd thus with peaceful words upraised her soon. \\nUnwary, and too desirous, as before, \\nSo now of what thou knowest not, who desirest \\nThe punishment all on thyself; alas! \\nBear thine own first, ill able to sustain \\nHis full wrath, whose thou feelest as yet least part, \\nAnd my displeasure bearest so ill.  If prayers \\nCould alter high decrees, I to that place \\nWould speed before thee, and be louder heard, \\nThat on my head all might be visited; \\nThy frailty and infirmer sex forgiven, \\nTo me committed, and by me exposed. \\nBut rise;--let us no more contend, nor blame \\nEach other, blamed enough elsewhere; but strive \\nIn offices of love, how we may lighten \\nEach other\\'s burden, in our share of woe; \\nSince this day\\'s death denounced, if aught I see, \\nWill prove no sudden, but a slow-paced evil; \\nA long day\\'s dying, to augment our pain; \\nAnd to our seed (O hapless seed!) derived. \\nTo whom thus Eve, recovering heart, replied. \\nAdam, by sad experiment I know \\nHow little weight my words with thee can find, \\nFound so erroneous; thence by just event \\nFound so unfortunate:  Nevertheless, \\nRestored by thee, vile as I am, to place \\nOf new acceptance, hopeful to regain \\nThy love, the sole contentment of my heart \\nLiving or dying, from thee I will not hide \\nWhat thoughts in my unquiet breast are risen, \\nTending to some relief of our extremes, \\nOr end; though sharp and sad, yet tolerable, \\nAs in our evils, and of easier choice. \\nIf care of our descent perplex us most, \\nWhich must be born to certain woe, devoured \\nBy Death at last; and miserable it is \\nTo be to others cause of misery, \\nOur own begotten, and of our loins to bring \\nInto this cursed world a woeful race, \\nThat after wretched life must be at last \\nFood for so foul a monster; in thy power \\nIt lies, yet ere conception to prevent \\nThe race unblest, to being yet unbegot. \\nChildless thou art, childless remain: so Death \\nShall be deceived his glut, and with us two \\nBe forced to satisfy his ravenous maw. \\nBut if thou judge it hard and difficult, \\nConversing, looking, loving, to abstain \\nFrom love\\'s due rights, nuptial embraces sweet; \\nAnd with desire to languish without hope, \\nBefore the present object languishing \\nWith like desire; which would be misery \\nAnd torment less than none of what we dread; \\nThen, both ourselves and seed at once to free \\nFrom what we fear for both, let us make short, -- \\nLet us seek Death; -- or, he not found, supply \\nWith our own hands his office on ourselves: \\nWhy stand we longer shivering under fears, \\nThat show no end but death, and have the power, \\nOf many ways to die the shortest choosing, \\nDestruction with destruction to destroy? -- \\nShe ended here, or vehement despair \\nBroke off the rest: so much of death her thoughts \\nHad entertained, as dyed her cheeks with pale. \\nBut Adam, with such counsel nothing swayed, \\nTo better hopes his more attentive mind \\nLabouring had raised; and thus to Eve replied. \\nEve, thy contempt of life and pleasure seems \\nTo argue in thee something more sublime \\nAnd excellent, than what thy mind contemns; \\nBut self-destruction therefore sought, refutes \\nThat excellence thought in thee; and implies, \\nNot thy contempt, but anguish and regret \\nFor loss of life and pleasure overloved. \\nOr if thou covet death, as utmost end \\nOf misery, so thinking to evade \\nThe penalty pronounced; doubt not but God \\nHath wiselier armed his vengeful ire, than so \\nTo be forestalled; much more I fear lest death, \\nSo snatched, will not exempt us from the pain \\nWe are by doom to pay; rather, such acts \\nOf contumacy will provoke the Highest \\nTo make death in us live:  Then let us seek \\nSome safer resolution, which methinks \\nI have in view, calling to mind with heed \\nPart of our sentence, that thy seed shall bruise \\nThe Serpent\\'s head; piteous amends! unless \\nBe meant, whom I conjecture, our grand foe, \\nSatan; who, in the serpent, hath contrived \\nAgainst us this deceit:  To crush his head \\nWould be revenge indeed! which will be lost \\nBy death brought on ourselves, or childless days \\nResolved, as thou proposest; so our foe \\nShal \\'scape his punishment ordained, and we \\nInstead shall double ours upon our heads. \\nNo more be mentioned then of violence \\nAgainst ourselves; and wilful barrenness, \\nThat cuts us off from hope; and savours only \\nRancour and pride, impatience and despite, \\nReluctance against God and his just yoke \\nLaid on our necks.  Remember with what mild \\nAnd gracious temper he both heard, and judged, \\nWithout wrath or reviling; we expected \\nImmediate dissolution, which we thought \\nWas meant by death that day; when lo!to thee \\nPains only in child-bearing were foretold, \\nAnd bringing forth; soon recompensed with joy, \\nFruit of thy womb:  On me the curse aslope \\nGlanced on the ground; with labour I must earn \\nMy bread; what harm? Idleness had been worse; \\nMy labour will sustain me; and, lest cold \\nOr heat should injure us, his timely care \\nHath, unbesought, provided; and his hands \\nClothed us unworthy, pitying while he judged; \\nHow much more, if we pray him, will his ear \\nBe open, and his heart to pity incline, \\nAnd teach us further by what means to shun \\nThe inclement seasons, rain, ice, hail, and snow! \\nWhich now the sky, with various face, begins \\nTo show us in this mountain; while the winds \\nBlow moist and keen, shattering the graceful locks \\nOf these fair spreading trees; which bids us seek \\nSome better shroud, some better warmth to cherish \\nOur limbs benummed, ere this diurnal star \\nLeave cold the night, how we his gathered beams \\nReflected may with matter sere foment; \\nOr, by collision of two bodies, grind \\nThe air attrite to fire; as late the clouds \\nJustling, or pushed with winds, rude in their shock, \\nTine the slant lightning; whose thwart flame, driven down \\nKindles the gummy bark of fir or pine; \\nAnd sends a comfortable heat from far, \\nWhich might supply the sun:  Such fire to use, \\nAnd what may else be remedy or cure \\nTo evils which our own misdeeds have wrought, \\nHe will instruct us praying, and of grace \\nBeseeching him; so as we need not fear \\nTo pass commodiously this life, sustained \\nBy him with many comforts, till we end \\nIn dust, our final rest and native home. \\nWhat better can we do, than, to the place \\nRepairing where he judged us, prostrate fall \\nBefore him reverent; and there confess \\nHumbly our faults, and pardon beg; with tears \\nWatering the ground, and with our sighs the air \\nFrequenting, sent from hearts contrite, in sign \\nOf sorrow unfeigned, and humiliation meek \\n \\n \\n \\nBook XI                                                          \\n \\n \\nUndoubtedly he will relent, and turn \\nFrom his displeasure; in whose look serene, \\nWhen angry most he seemed and most severe, \\nWhat else but favour, grace, and mercy, shone? \\nSo spake our father penitent; nor Eve \\nFelt less remorse: they, forthwith to the place \\nRepairing where he judged them, prostrate fell \\nBefore him reverent; and both confessed \\nHumbly their faults, and pardon begged; with tears \\nWatering the ground, and with their sighs the air \\nFrequenting, sent from hearts contrite, in sign \\nOf sorrow unfeigned, and humiliation meek. \\nThus they, in lowliest plight, repentant stood \\nPraying; for from the mercy-seat above \\nPrevenient grace descending had removed \\nThe stony from their hearts, and made new flesh \\nRegenerate grow instead; that sighs now breathed \\nUnutterable; which the Spirit of prayer \\nInspired, and winged for Heaven with speedier flight \\nThan loudest oratory:  Yet their port \\nNot of mean suitors; nor important less \\nSeemed their petition, than when the ancient pair \\nIn fables old, less ancient yet than these, \\nDeucalion and chaste Pyrrha, to restore \\nThe race of mankind drowned, before the shrine \\nOf Themis stood devout.  To Heaven their prayers \\nFlew up, nor missed the way, by envious winds \\nBlown vagabond or frustrate: in they passed \\nDimensionless through heavenly doors; then clad \\nWith incense, where the golden altar fumed, \\nBy their great intercessour, came in sight \\nBefore the Father\\'s throne: them the glad Son \\nPresenting, thus to intercede began. \\nSee$ Father, what first-fruits on earth are sprung \\nFrom thy implanted grace in Man; these sighs \\nAnd prayers, which in this golden censer mixed \\nWith incense, I thy priest before thee bring; \\nFruits of more pleasing savour, from thy seed \\nSown with contrition in his heart, than those \\nWhich, his own hand manuring, all the trees \\nOf Paradise could have produced, ere fallen \\nFrom innocence.  Now therefore, bend thine ear \\nTo supplication; hear his sighs, though mute; \\nUnskilful with what words to pray, let me \\nInterpret for him; me, his advocate \\nAnd propitiation; all his works on me, \\nGood, or not good, ingraft; my merit those \\nShall perfect, and for these my death shall pay. \\nAccept me; and, in me, from these receive \\nThe smell of peace toward mankind: let him live \\nBefore thee reconciled, at least his days \\nNumbered, though sad; till death, his doom, (which I \\nTo mitigate thus plead, not to reverse,) \\nTo better life shall yield him: where with me \\nAll my redeemed may dwell in joy and bliss; \\nMade one with me, as I with thee am one. \\nTo whom the Father, without cloud, serene. \\nAll thy request for Man, accepted Son, \\nObtain; all thy request was my decree: \\nBut, longer in that Paradise to dwell, \\nThe law I gave to Nature him forbids: \\nThose pure immortal elements, that know, \\nNo gross, no unharmonious mixture foul, \\nEject him, tainted now; and purge him off, \\nAs a distemper, gross, to air as gross, \\nAnd mortal food; as may dispose him best \\nFor dissolution wrought by sin, that first \\nDistempered all things, and of incorrupt \\nCorrupted.  I, at first, with two fair gifts \\nCreated him endowed; with happiness, \\nAnd immortality: that fondly lost, \\nThis other served but to eternize woe; \\nTill I provided death: so death becomes \\nHis final remedy; and, after life, \\nTried in sharp tribulation, and refined \\nBy faith and faithful works, to second life, \\nWaked in the renovation of the just, \\nResigns him up with Heaven and Earth renewed. \\nBut let us call to synod all the Blest, \\nThrough Heaven\\'s wide bounds: from them I will not hide \\nMy judgements; how with mankind I proceed, \\nAs how with peccant Angels late they saw, \\nAnd in their state, though firm, stood more confirmed. \\nHe ended, and the Son gave signal high \\nTo the bright minister that watched; he blew \\nHis trumpet, heard in Oreb since perhaps \\nWhen God descended, and perhaps once more \\nTo sound at general doom.  The angelick blast \\nFilled all the regions: from their blisful bowers \\nOf amarantine shade, fountain or spring, \\nBy the waters of life, where\\'er they sat \\nIn fellowships of joy, the sons of light \\nHasted, resorting to the summons high; \\nAnd took their seats; till from his throne supreme \\nThe Almighty thus pronounced his sovran will. \\nO Sons, like one of us Man is become \\nTo know both good and evil, since his taste \\nOf that defended fruit; but let him boast \\nHis knowledge of good lost, and evil got; \\nHappier! had it sufficed him to have known \\nGood by itself, and evil not at all. \\nHe sorrows now, repents, and prays contrite, \\nMy motions in him; longer than they move, \\nHis heart I know, how variable and vain, \\nSelf-left.  Lest therefore his now bolder hand \\nReach also of the tree of life, and eat, \\nAnd live for ever, dream at least to live \\nFor ever, to remove him I decree, \\nAnd send him from the garden forth to till \\nThe ground whence he was taken, fitter soil. \\nMichael, this my behest have thou in charge; \\nTake to thee from among the Cherubim \\nThy choice of flaming warriours, lest the Fiend, \\nOr in behalf of Man, or to invade \\nVacant possession, some new trouble raise: \\nHaste thee, and from the Paradise of God \\nWithout remorse drive out the sinful pair; \\nFrom hallowed ground the unholy; and denounce \\nTo them, and to their progeny, from thence \\nPerpetual banishment.  Yet, lest they faint \\nAt the sad sentence rigorously urged, \\n(For I behold them softened, and with tears \\nBewailing their excess,) all terrour hide. \\nIf patiently thy bidding they obey, \\nDismiss them not disconsolate; reveal \\nTo Adam what shall come in future days, \\nAs I shall thee enlighten; intermix \\nMy covenant in the Woman\\'s seed renewed; \\nSo send them forth, though sorrowing, yet in peace: \\nAnd on the east side of the garden place, \\nWhere entrance up from Eden easiest climbs, \\nCherubick watch; and of a sword the flame \\nWide-waving; all approach far off to fright, \\nAnd guard all passage to the tree of life: \\nLest Paradise a receptacle prove \\nTo Spirits foul, and all my trees their prey; \\nWith whose stolen fruit Man once more to delude. \\nHe ceased; and the arch-angelick Power prepared \\nFor swift descent; with him the cohort bright \\nOf watchful Cherubim: four faces each \\nHad, like a double Janus; all their shape \\nSpangled with eyes more numerous than those \\nOf Argus, and more wakeful than to drouse, \\nCharmed with Arcadian pipe, the pastoral reed \\nOf Hermes, or his opiate rod.  Mean while, \\nTo re-salute the world with sacred light, \\nLeucothea waked; and with fresh dews imbalmed \\nThe earth; when Adam and first matron Eve \\nHad ended now their orisons, and found \\nStrength added from above; new hope to spring \\nOut of despair; joy, but with fear yet linked; \\nWhich thus to Eve his welcome words renewed. \\nEve, easily my faith admit, that all \\nThe good which we enjoy from Heaven descends; \\nBut, that from us aught should ascend to Heaven \\nSo prevalent as to concern the mind \\nOf God high-blest, or to incline his will, \\nHard to belief may seem; yet this will prayer \\nOr one short sigh of human breath, upborne \\nEven to the seat of God.  For since I sought \\nBy prayer the offended Deity to appease; \\nKneeled, and before him humbled all my heart; \\nMethought I saw him placable and mild, \\nBending his ear; persuasion in me grew \\nThat I was heard with favour; peace returned \\nHome to my breast, and to my memory \\nHis promise, that thy seed shall bruise our foe; \\nWhich, then not minded in dismay, yet now \\nAssures me that the bitterness of death \\nIs past, and we shall live.  Whence hail to thee, \\nEve rightly called, mother of all mankind, \\nMother of all things living, since by thee \\nMan is to live; and all things live for Man. \\nTo whom thus Eve with sad demeanour meek. \\nIll-worthy I such title should belong \\nTo me transgressour; who, for thee ordained \\nA help, became thy snare; to me reproach \\nRather belongs, distrust, and all dispraise: \\nBut infinite in pardon was my Judge, \\nThat I, who first brought death on all, am graced \\nThe source of life; next favourable thou, \\nWho highly thus to entitle me vouchsaf\\'st, \\nFar other name deserving.  But the field \\nTo labour calls us, now with sweat imposed, \\nThough after sleepless night; for see!the morn, \\nAll unconcerned with our unrest, begins \\nHer rosy progress smiling: let us forth; \\nI never from thy side henceforth to stray, \\nWhere\\'er our day\\'s work lies, though now enjoined \\nLaborious, till day droop; while here we dwell, \\nWhat can be toilsome in these pleasant walks? \\nHere let us live, though in fallen state, content. \\nSo spake, so wished much humbled Eve; but Fate \\nSubscribed not:  Nature first gave signs, impressed \\nOn bird, beast, air; air suddenly eclipsed, \\nAfter short blush of morn; nigh in her sight \\nThe bird of Jove, stooped from his aery tour, \\nTwo birds of gayest plume before him drove; \\nDown from a hill the beast that reigns in woods, \\nFirst hunter then, pursued a gentle brace, \\nGoodliest of all the forest, hart and hind; \\nDirect to the eastern gate was bent their flight. \\nAdam observed, and with his eye the chase \\nPursuing, not unmoved, to Eve thus spake. \\nO Eve, some further change awaits us nigh, \\nWhich Heaven, by these mute signs in Nature, shows \\nForerunners of his purpose; or to warn \\nUs, haply too secure, of our discharge \\nFrom penalty, because from death released \\nSome days: how long, and what till then our life, \\nWho knows? or more than this, that we are dust, \\nAnd thither must return, and be no more? \\nWhy else this double object in our sight \\nOf flight pursued in the air, and o\\'er the ground, \\nOne way the self-same hour? why in the east \\nDarkness ere day\\'s mid-course, and morning-light \\nMore orient in yon western cloud, that draws \\nO\\'er the blue firmament a radiant white, \\nAnd slow descends with something heavenly fraught? \\nHe erred not; for by this the heavenly bands \\nDown from a sky of jasper lighted now \\nIn Paradise, and on a hill made halt; \\nA glorious apparition, had not doubt \\nAnd carnal fear that day dimmed Adam\\'s eye. \\nNot that more glorious, when the Angels met \\nJacob in Mahanaim, where he saw \\nThe field pavilioned with his guardians bright; \\nNor that, which on the flaming mount appeared \\nIn Dothan, covered with a camp of fire, \\nAgainst the Syrian king, who to surprise \\nOne man, assassin-like, had levied war, \\nWar unproclaimed.  The princely Hierarch \\nIn their bright stand there left his Powers, to seise \\nPossession of the garden; he alone, \\nTo find where Adam sheltered, took his way, \\nNot unperceived of Adam; who to Eve, \\nWhile the great visitant approached, thus spake. \\nEve$ now expect great tidings, which perhaps \\nOf us will soon determine, or impose \\nNew laws to be observed; for I descry, \\nFrom yonder blazing cloud that veils the hill, \\nOne of the heavenly host; and, by his gait, \\nNone of the meanest; some great Potentate \\nOr of the Thrones above; such majesty \\nInvests him coming! yet not terrible, \\nThat I should fear; nor sociably mild, \\nAs Raphael, that I should much confide; \\nBut solemn and sublime; whom not to offend, \\nWith reverence I must meet, and thou retire. \\nHe ended: and the Arch-Angel soon drew nigh, \\nNot in his shape celestial, but as man \\nClad to meet man; over his lucid arms \\nA military vest of purple flowed, \\nLivelier than Meliboean, or the grain \\nOf Sarra, worn by kings and heroes old \\nIn time of truce; Iris had dipt the woof; \\nHis starry helm unbuckled showed him prime \\nIn manhood where youth ended; by his side, \\nAs in a glistering zodiack, hung the sword, \\nSatan\\'s dire dread; and in his hand the spear. \\nAdam bowed low; he, kingly, from his state \\nInclined not, but his coming thus declared. \\nAdam, Heaven\\'s high behest no preface needs: \\nSufficient that thy prayers are heard; and Death, \\nThen due by sentence when thou didst transgress, \\nDefeated of his seisure many days \\nGiven thee of grace; wherein thou mayest repent, \\nAnd one bad act with many deeds well done \\nMayest cover:  Well may then thy Lord, appeased, \\nRedeem thee quite from Death\\'s rapacious claim; \\nBut longer in this Paradise to dwell \\nPermits not: to remove thee I am come, \\nAnd send thee from the garden forth to till \\nThe ground whence thou wast taken, fitter soil. \\nHe added not; for Adam at the news \\nHeart-struck with chilling gripe of sorrow stood, \\nThat all his senses bound; Eve, who unseen \\nYet all had heard, with audible lament \\nDiscovered soon the place of her retire. \\nO unexpected stroke, worse than of Death! \\nMust I thus leave thee$ Paradise? thus leave \\nThee, native soil! these happy walks and shades, \\nFit haunt of Gods? where I had hope to spend, \\nQuiet though sad, the respite of that day \\nThat must be mortal to us both.  O flowers, \\nThat never will in other climate grow, \\nMy early visitation, and my last \\n ;t even, which I bred up with tender hand \\nFrom the first opening bud, and gave ye names! \\nWho now shall rear ye to the sun, or rank \\nYour tribes, and water from the ambrosial fount? \\nThee lastly, nuptial bower! by me adorned \\nWith what to sight or smell was sweet! from thee \\nHow shall I part, and whither wander down \\nInto a lower world; to this obscure \\nAnd wild? how shall we breathe in other air \\nLess pure, accustomed to immortal fruits? \\nWhom thus the Angel interrupted mild. \\nLament not, Eve, but patiently resign \\nWhat justly thou hast lost, nor set thy heart, \\nThus over-fond, on that which is not thine: \\nThy going is not lonely; with thee goes \\nThy husband; whom to follow thou art bound; \\nWhere he abides, think there thy native soil. \\nAdam, by this from the cold sudden damp \\nRecovering, and his scattered spirits returned, \\nTo Michael thus his humble words addressed. \\nCelestial, whether among the Thrones, or named \\nOf them the highest; for such of shape may seem \\nPrince above princes! gently hast thou told \\nThy message, which might else in telling wound, \\nAnd in performing end us; what besides \\nOf sorrow, and dejection, and despair, \\nOur frailty can sustain, thy tidings bring, \\nDeparture from this happy place, our sweet \\nRecess, and only consolation left \\nFamiliar to our eyes! all places else \\nInhospitable appear, and desolate; \\nNor knowing us, nor known:  And, if by prayer \\nIncessant I could hope to change the will \\nOf Him who all things can, I would not cease \\nTo weary him with my assiduous cries: \\nBut prayer against his absolute decree \\nNo more avails than breath against the wind, \\nBlown stifling back on him that breathes it forth: \\nTherefore to his great bidding I submit. \\nThis most afflicts me, that, departing hence, \\nAs from his face I shall be hid, deprived \\nHis blessed countenance:  Here I could frequent \\nWith worship place by place where he vouchsafed \\nPresence Divine; and to my sons relate, \\n\\'On this mount he appeared; under this tree \\n\\'Stood visible; among these pines his voice \\n\\'I heard; here with him at this fountain talked: \\nSo many grateful altars I would rear \\nOf grassy turf, and pile up every stone \\nOf lustre from the brook, in memory, \\nOr monument to ages; and theron \\nOffer sweet-smelling gums, and fruits, and flowers: \\nIn yonder nether world where shall I seek \\nHis bright appearances, or foot-step trace? \\nFor though I fled him angry, yet recalled \\nTo life prolonged and promised race, I now \\nGladly behold though but his utmost skirts \\nOf glory; and far off his steps adore. \\nTo whom thus Michael with regard benign. \\nAdam, thou knowest Heaven his, and all the Earth; \\nNot this rock only; his Omnipresence fills \\nLand, sea, and air, and every kind that lives, \\nFomented by his virtual power and warmed: \\nAll the earth he gave thee to possess and rule, \\nNo despicable gift; surmise not then \\nHis presence to these narrow bounds confined \\nOf Paradise, or Eden: this had been \\nPerhaps thy capital seat, from whence had spread \\nAll generations; and had hither come \\nFrom all the ends of the earth, to celebrate \\nAnd reverence thee, their great progenitor. \\nBut this pre-eminence thou hast lost, brought down \\nTo dwell on even ground now with thy sons: \\nYet doubt not but in valley, and in plain, \\nGod is, as here; and will be found alike \\nPresent; and of his presence many a sign \\nStill following thee, still compassing thee round \\nWith goodness and paternal love, his face \\nExpress, and of his steps the track divine. \\nWhich that thou mayest believe, and be confirmed \\nEre thou from hence depart; know, I am sent \\nTo show thee what shall come in future days \\nTo thee, and to thy offspring: good with bad \\nExpect to hear; supernal grace contending \\nWith sinfulness of men; thereby to learn \\nTrue patience, and to temper joy with fear \\nAnd pious sorrow; equally inured \\nBy moderation either state to bear, \\nProsperous or adverse: so shalt thou lead \\nSafest thy life, and best prepared endure \\nThy mortal passage when it comes.--Ascend \\nThis hill; let Eve (for I have drenched her eyes) \\nHere sleep below; while thou to foresight wakest; \\nAs once thou sleptst, while she to life was formed. \\nTo whom thus Adam gratefully replied. \\nAscend, I follow thee, safe Guide, the path \\nThou leadest me; and to the hand of Heaven submit, \\nHowever chastening; to the evil turn \\nMy obvious breast; arming to overcome \\nBy suffering, and earn rest from labour won, \\nIf so I may attain. -- So both ascend \\nIn the visions of God.  It was a hill, \\nOf Paradise the highest; from whose top \\nThe hemisphere of earth, in clearest ken, \\nStretched out to the amplest reach of prospect lay. \\nNot higher that hill, nor wider looking round, \\nWhereon, for different cause, the Tempter set \\nOur second Adam, in the wilderness; \\nTo show him all Earth\\'s kingdoms, and their glory. \\nHis eye might there command wherever stood \\nCity of old or modern fame, the seat \\nOf mightiest empire, from the destined walls \\nOf Cambalu, seat of Cathaian Can, \\nAnd Samarchand by Oxus, Temir\\'s throne, \\nTo Paquin of Sinaean kings; and thence \\nTo Agra and Lahor of great Mogul, \\nDown to the golden Chersonese; or where \\nThe Persian in Ecbatan sat, or since \\nIn Hispahan; or where the Russian Ksar \\nIn Mosco; or the Sultan in Bizance, \\nTurchestan-born; nor could his eye not ken \\nThe empire of Negus to his utmost port \\nErcoco, and the less maritim kings \\nMombaza, and Quiloa, and Melind, \\nAnd Sofala, thought Ophir, to the realm \\nOf Congo, and Angola farthest south; \\nOr thence from Niger flood to Atlas mount \\nThe kingdoms of Almansor, Fez and Sus, \\nMorocco, and Algiers, and Tremisen; \\nOn Europe thence, and where Rome was to sway \\nThe world: in spirit perhaps he also saw \\nRich Mexico, the seat of Montezume, \\nAnd Cusco in Peru, the richer seat \\nOf Atabalipa; and yet unspoiled \\nGuiana, whose great city Geryon\\'s sons \\nCall El Dorado.  But to nobler sights \\nMichael from Adam\\'s eyes the film removed, \\nWhich that false fruit that promised clearer sight \\nHad bred; then purged with euphrasy and rue \\nThe visual nerve, for he had much to see; \\nAnd from the well of life three drops instilled. \\nSo deep the power of these ingredients pierced, \\nEven to the inmost seat of mental sight, \\nThat Adam, now enforced to close his eyes, \\nSunk down, and all his spirits became entranced; \\nBut him the gentle Angel by the hand \\nSoon raised, and his attention thus recalled. \\nAdam, now ope thine eyes; and first behold \\nThe effects, which thy original crime hath wrought \\nIn some to spring from thee; who never touched \\nThe excepted tree; nor with the snake conspired; \\nNor sinned thy sin; yet from that sin derive \\nCorruption, to bring forth more violent deeds. \\nHis eyes he opened, and beheld a field, \\nPart arable and tilth, whereon were sheaves \\nNew reaped; the other part sheep-walks and folds; \\nI\\' the midst an altar as the land-mark stood, \\nRustick, of grassy sord; thither anon \\nA sweaty reaper from his tillage brought \\nFirst fruits, the green ear, and the yellow sheaf, \\nUnculled, as came to hand; a shepherd next, \\nMore meek, came with the firstlings of his flock, \\nChoicest and best; then, sacrificing, laid \\nThe inwards and their fat, with incense strowed, \\nOn the cleft wood, and all due rights performed: \\nHis offering soon propitious fire from Heaven \\nConsumed with nimble glance, and grateful steam; \\nThe other\\'s not, for his was not sincere; \\nWhereat he inly raged, and, as they talked, \\nSmote him into the midriff with a stone \\nThat beat out life; he fell;and, deadly pale, \\nGroaned out his soul with gushing blood effused. \\nMuch at that sight was Adam in his heart \\nDismayed, and thus in haste to the Angel cried. \\nO Teacher, some great mischief hath befallen \\nTo that meek man, who well had sacrificed; \\nIs piety thus and pure devotion paid? \\nTo whom Michael thus, he also moved, replied. \\nThese two are brethren, Adam, and to come \\nOut of thy loins; the unjust the just hath slain, \\nFor envy that his brother\\'s offering found \\nFrom Heaven acceptance; but the bloody fact \\nWill be avenged; and the other\\'s faith, approved, \\nLose no reward; though here thou see him die, \\nRolling in dust and gore.  To which our sire. \\nAlas! both for the deed, and for the cause! \\nBut have I now seen Death?  Is this the way \\nI must return to native dust?  O sight \\nOf terrour, foul and ugly to behold, \\nHorrid to think, how horrible to feel! \\nTo whom thus Michael.  Death thou hast seen \\nIn his first shape on Man; but many shapes \\nOf Death, and many are the ways that lead \\nTo his grim cave, all dismal; yet to sense \\nMore terrible at the entrance, than within. \\nSome, as thou sawest, by violent stroke shall die; \\nBy fire, flood, famine, by intemperance more \\nIn meats and drinks, which on the earth shall bring \\nDiseases dire, of which a monstrous crew \\nBefore thee shall appear; that thou mayest know \\nWhat misery the inabstinence of Eve \\nShall bring on Men.  Immediately a place \\nBefore his eyes appeared, sad, noisome, dark; \\nA lazar-house it seemed; wherein were laid \\nNumbers of all diseased; all maladies \\nOf ghastly spasm, or racking torture, qualms \\nOf heart-sick agony, all feverous kinds, \\nConvulsions, epilepsies, fierce catarrhs, \\nIntestine stone and ulcer, colick-pangs, \\nDemoniack phrenzy, moaping melancholy, \\nAnd moon-struck madness, pining atrophy, \\nMarasmus, and wide-wasting pestilence, \\nDropsies, and asthmas, and joint-racking rheums. \\nDire was the tossing, deep the groans; Despair \\nTended the sick busiest from couch to couch; \\nAnd over them triumphant Death his dart \\nShook, but delayed to strike, though oft invoked \\nWith vows, as their chief good, and final hope. \\nSight so deform what heart of rock could long \\nDry-eyed behold?  Adam could not, but wept, \\nThough not of woman born; compassion quelled \\nHis best of man, and gave him up to tears \\nA space, till firmer thoughts restrained excess; \\nAnd, scarce recovering words, his plaint renewed. \\nO miserable mankind, to what fall \\nDegraded, to what wretched state reserved! \\nBetter end here unborn.  Why is life given \\nTo be thus wrested from us? rather, why \\nObtruded on us thus? who, if we knew \\nWhat we receive, would either no accept \\nLife offered, or soon beg to lay it down; \\nGlad to be so dismissed in peace.  Can thus \\nThe image of God in Man, created once \\nSo goodly and erect, though faulty since, \\nTo such unsightly sufferings be debased \\nUnder inhuman pains?  Why should not Man, \\nRetaining still divine similitude \\nIn part, from such deformities be free, \\nAnd, for his Maker\\'s image sake, exempt? \\nTheir Maker\\'s image, answered Michael, then \\nForsook them, when themselves they vilified \\nTo serve ungoverned Appetite; and took \\nHis image whom they served, a brutish vice, \\nInductive mainly to the sin of Eve. \\nTherefore so abject is their punishment, \\nDisfiguring not God\\'s likeness, but their own; \\nOr if his likeness, by themselves defaced; \\nWhile they pervert pure Nature\\'s healthful rules \\nTo loathsome sickness; worthily, since they \\nGod\\'s image did not reverence in themselves. \\nI yield it just, said Adam, and submit. \\nBut is there yet no other way, besides \\nThese painful passages, how we may come \\nTo death, and mix with our connatural dust? \\nThere is, said Michael, if thou well observe \\nThe rule of Not too much; by temperance taught, \\nIn what thou eatest and drinkest; seeking from thence \\nDue nourishment, not gluttonous delight, \\nTill many years over thy head return: \\nSo mayest thou live; till, like ripe fruit, thou drop \\nInto thy mother\\'s lap; or be with ease \\nGathered, nor harshly plucked; for death mature: \\nThis is Old Age; but then, thou must outlive \\nThy youth, thy strength, thy beauty; which will change \\nTo withered, weak, and gray; thy senses then, \\nObtuse, all taste of pleasure must forego, \\nTo what thou hast; and, for the air of youth, \\nHopeful and cheerful, in thy blood will reign \\nA melancholy damp of cold and dry \\nTo weigh thy spirits down, and last consume \\nThe balm of life.  To whom our ancestor. \\nHenceforth I fly not death, nor would prolong \\nLife much; bent rather, how I may be quit, \\nFairest and easiest, of this cumbrous charge; \\nWhich I must keep till my appointed day \\nOf rendering up, and patiently attend \\nMy dissolution.  Michael replied. \\nNor love thy life, nor hate; but what thou livest \\nLive well; how long, or short, permit to Heaven: \\nAnd now prepare thee for another sight. \\nHe looked, and saw a spacious plain, whereon \\nWere tents of various hue; by some, were herds \\nOf cattle grazing; others, whence the sound \\nOf instruments, that made melodious chime, \\nWas heard, of harp and organ; and, who moved \\nTheir stops and chords, was seen; his volant touch, \\nInstinct through all proportions, low and high, \\nFled and pursued transverse the resonant fugue. \\nIn other part stood one who, at the forge \\nLabouring, two massy clods of iron and brass \\nHad melted, (whether found where casual fire \\nHad wasted woods on mountain or in vale, \\nDown to the veins of earth; thence gliding hot \\nTo some cave\\'s mouth; or whether washed by stream \\nFrom underground;) the liquid ore he drained \\nInto fit moulds prepared; from which he formed \\nFirst his own tools; then, what might else be wrought \\nFusil or graven in metal.  After these, \\nBut on the hither side, a different sort \\nFrom the high neighbouring hills, which was their seat, \\nDown to the plain descended; by their guise \\nJust men they seemed, and all their study bent \\nTo worship God aright, and know his works \\nNot hid; nor those things last, which might preserve \\nFreedom and peace to Men; they on the plain \\nLong had not walked, when from the tents, behold! \\nA bevy of fair women, richly gay \\nIn gems and wanton dress; to the harp they sung \\nSoft amorous ditties, and in dance came on: \\nThe men, though grave, eyed them; and let their eyes \\nRove without rein; till, in the amorous net \\nFast caught, they liked; and each his liking chose; \\nAnd now of love they treat, till the evening-star, \\nLove\\'s harbinger, appeared; then, all in heat \\nThey light the nuptial torch, and bid invoke \\nHymen, then first to marriage rites invoked: \\nWith feast and musick all the tents resound. \\nSuch happy interview, and fair event \\nOf love and youth not lost, songs, garlands, flowers, \\nAnd charming symphonies, attached the heart \\nOf Adam, soon inclined to admit delight, \\nThe bent of nature; which he thus expressed. \\nTrue opener of mine eyes, prime Angel blest; \\nMuch better seems this vision, and more hope \\nOf peaceful days portends, than those two past; \\nThose were of hate and death, or pain much worse; \\nHere Nature seems fulfilled in all her ends. \\nTo whom thus Michael.  Judge not what is best \\nBy pleasure, though to nature seeming meet; \\nCreated, as thou art, to nobler end \\nHoly and pure, conformity divine. \\nThose tents thou sawest so pleasant, were the tents \\nOf wickedness, wherein shall dwell his race \\nWho slew his brother; studious they appear \\nOf arts that polish life, inventers rare; \\nUnmindful of their Maker, though his Spirit \\nTaught them; but they his gifts acknowledged none. \\nYet they a beauteous offspring shall beget; \\nFor that fair female troop thou sawest, that seemed \\nOf Goddesses, so blithe, so smooth, so gay, \\nYet empty of all good wherein consists \\nWoman\\'s domestick honour and chief praise; \\nBred only and completed to the taste \\nOf lustful appetence, to sing, to dance, \\nTo dress, and troll the tongue, and roll the eye: \\nTo these that sober race of men, whose lives \\nReligious titled them the sons of God, \\nShall yield up all their virtue, all their fame \\nIgnobly, to the trains and to the smiles \\nOf these fair atheists; and now swim in joy, \\nErelong to swim at large; and laugh, for which \\nThe world erelong a world of tears must weep. \\nTo whom thus Adam, of short joy bereft. \\nO pity and shame, that they, who to live well \\nEntered so fair, should turn aside to tread \\nPaths indirect, or in the mid way faint! \\nBut still I see the tenour of Man\\'s woe \\nHolds on the same, from Woman to begin. \\nFrom Man\\'s effeminate slackness it begins, \\nSaid the Angel, who should better hold his place \\nBy wisdom, and superiour gifts received. \\nBut now prepare thee for another scene. \\nHe looked, and saw wide territory spread \\nBefore him, towns, and rural works between; \\nCities of men with lofty gates and towers, \\nConcourse in arms, fierce faces threatening war, \\nGiants of mighty bone and bold emprise; \\nPart wield their arms, part curb the foaming steed, \\nSingle or in array of battle ranged \\nBoth horse and foot, nor idly mustering stood; \\nOne way a band select from forage drives \\nA herd of beeves, fair oxen and fair kine, \\nFrom a fat meadow ground; or fleecy flock, \\nEwes and their bleating lambs over the plain, \\nTheir booty; scarce with life the shepherds fly, \\nBut call in aid, which makes a bloody fray; \\nWith cruel tournament the squadrons join; \\nWhere cattle pastured late, now scattered lies \\nWith carcasses and arms the ensanguined field, \\nDeserted:  Others to a city strong \\nLay siege, encamped; by battery, scale, and mine, \\nAssaulting; others from the wall defend \\nWith dart and javelin, stones, and sulphurous fire; \\nOn each hand slaughter, and gigantick deeds. \\nIn other part the sceptered heralds call \\nTo council, in the city-gates; anon \\nGray-headed men and grave, with warriours mixed, \\nAssemble, and harangues are heard; but soon, \\nIn factious opposition; till at last, \\nOf middle age one rising, eminent \\nIn wise deport, spake much of right and wrong, \\nOf justice, or religion, truth, and peace, \\nAnd judgement from above: him old and young \\nExploded, and had seized with violent hands, \\nHad not a cloud descending snatched him thence \\nUnseen amid the throng: so violence \\nProceeded, and oppression, and sword-law, \\nThrough all the plain, and refuge none was found. \\nAdam was all in tears, and to his guide \\nLamenting turned full sad; O!what are these, \\nDeath\\'s ministers, not men? who thus deal death \\nInhumanly to men, and multiply \\nTen thousandfold the sin of him who slew \\nHis brother: for of whom such massacre \\nMake they, but of their brethren; men of men \\nBut who was that just man, whom had not Heaven \\nRescued, had in his righteousness been lost? \\nTo whom thus Michael.  These are the product \\nOf those ill-mated marriages thou sawest; \\nWhere good with bad were matched, who of themselves \\nAbhor to join; and, by imprudence mixed, \\nProduce prodigious births of body or mind. \\nSuch were these giants, men of high renown; \\nFor in those days might only shall be admired, \\nAnd valour and heroick virtue called; \\nTo overcome in battle, and subdue \\nNations, and bring home spoils with infinite \\nMan-slaughter, shall be held the highest pitch \\nOf human glory; and for glory done \\nOf triumph, to be styled great conquerours \\nPatrons of mankind, Gods, and sons of Gods; \\nDestroyers rightlier called, and plagues of men. \\nThus fame shall be achieved, renown on earth; \\nAnd what most merits fame, in silence hid. \\nBut he, the seventh from thee, whom thou beheldst \\nThe only righteous in a world preverse, \\nAnd therefore hated, therefore so beset \\nWith foes, for daring single to be just, \\nAnd utter odious truth, that God would come \\nTo judge them with his Saints; him the Most High \\nRapt in a balmy cloud with winged steeds \\nDid, as thou sawest, receive, to walk with God \\nHigh in salvation and the climes of bliss, \\nExempt from death; to show thee what reward \\nAwaits the good; the rest what punishment; \\nWhich now direct thine eyes and soon behold. \\nHe looked, and saw the face of things quite changed; \\nThe brazen throat of war had ceased to roar; \\nAll now was turned to jollity and game, \\nTo luxury and riot, feast and dance; \\nMarrying or prostituting, as befel, \\nRape or adultery, where passing fair \\nAllured them; thence from cups to civil broils. \\nAt length a reverend sire among them came, \\nAnd of their doings great dislike declared, \\nAnd testified against their ways; he oft \\nFrequented their assemblies, whereso met, \\nTriumphs or festivals; and to them preached \\nConversion and repentance, as to souls \\nIn prison, under judgements imminent: \\nBut all in vain: which when he saw, he ceased \\nContending, and removed his tents far off; \\nThen, from the mountain hewing timber tall, \\nBegan to build a vessel of huge bulk; \\nMeasured by cubit, length, and breadth, and highth; \\nSmeared round with pitch; and in the side a door \\nContrived; and of provisions laid in large, \\nFor man and beast: when lo, a wonder strange! \\nOf every beast, and bird, and insect small, \\nCame sevens, and pairs; and entered in as taught \\nTheir order: last the sire and his three sons, \\nWith their four wives; and God made fast the door. \\nMean while the south-wind rose, and, with black wings \\nWide-hovering, all the clouds together drove \\nFrom under Heaven; the hills to their supply \\nVapour, and exhalation dusk and moist, \\nSent up amain; and now the thickened sky \\nLike a dark cieling stood; down rushed the rain \\nImpetuous; and continued, till the earth \\nNo more was seen: the floating vessel swum \\nUplifted, and secure with beaked prow \\nRode tilting o\\'er the waves; all dwellings else \\nFlood overwhelmed, and them with all their pomp \\nDeep under water rolled; sea covered sea, \\nSea without shore; and in their palaces, \\nWhere luxury late reigned, sea-monsters whelped \\nAnd stabled; of mankind, so numerous late, \\nAll left, in one small bottom swum imbarked. \\nHow didst thou grieve then, Adam, to behold \\nThe end of all thy offspring, end so sad, \\nDepopulation!  Thee another flood, \\nOf tears and sorrow a flood, thee also drowned, \\nAnd sunk thee as thy sons; till, gently reared \\nBy the Angel, on thy feet thou stoodest at last, \\nThough comfortless; as when a father mourns \\nHis children, all in view destroyed at once; \\nAnd scarce to the Angel utter\\'dst thus thy plaint. \\nO visions ill foreseen!  Better had I \\nLived ignorant of future! so had borne \\nMy part of evil only, each day\\'s lot \\nEnough to bear; those now, that were dispensed \\nThe burden of many ages, on me light \\nAt once, by my foreknowledge gaining birth \\nAbortive, to torment me ere their being, \\nWith thought that they must be.  Let no man seek \\nHenceforth to be foretold, what shall befall \\nHim or his children; evil he may be sure, \\nWhich neither his foreknowing can prevent; \\nAnd he the future evil shall no less \\nIn apprehension than in substance feel, \\nGrievous to bear: but that care now is past, \\nMan is not whom to warn: those few escaped \\nFamine and anguish will at last consume, \\nWandering that watery desart:  I had hope, \\nWhen violence was ceased, and war on earth, \\nAll would have then gone well; peace would have crowned \\nWith length of happy days the race of Man; \\nBut I was far deceived; for now I see \\nPeace to corrupt no less than war to waste. \\nHow comes it thus? unfold, celestial Guide, \\nAnd whether here the race of Man will end. \\nTo whom thus Michael.  Those, whom last thou sawest \\nIn triumph and luxurious wealth, are they \\nFirst seen in acts of prowess eminent \\nAnd great exploits, but of true virtue void; \\nWho, having spilt much blood, and done much wast \\nSubduing nations, and achieved thereby \\nFame in the world, high titles, and rich prey; \\nShall change their course to pleasure, ease, and sloth, \\nSurfeit, and lust; till wantonness and pride \\nRaise out of friendship hostile deeds in peace. \\nThe conquered also, and enslaved by war, \\nShall, with their freedom lost, all virtue lose \\nAnd fear of God; from whom their piety feigned \\nIn sharp contest of battle found no aid \\nAgainst invaders; therefore, cooled in zeal, \\nThenceforth shall practice how to live secure, \\nWorldly or dissolute, on what their lords \\nShall leave them to enjoy; for the earth shall bear \\nMore than enough, that temperance may be tried: \\nSo all shall turn degenerate, all depraved; \\nJustice and temperance, truth and faith, forgot; \\nOne man except, the only son of light \\nIn a dark age, against example good, \\nAgainst allurement, custom, and a world \\nOffended: fearless of reproach and scorn, \\nThe grand-child, with twelve sons encreased, departs \\nFrom Canaan, to a land hereafter called \\nEgypt, divided by the river Nile; \\nSee where it flows, disgorging at seven mouths \\nInto the sea:  To sojourn in that land \\nHe comes, invited by a younger son \\nIn time of dearth; a son, whose worthy deeds \\nRaise him to be the second in that realm \\nOf Pharaoh:  There he dies, and leaves his race \\nGrowing into a nation, and now grown \\nSuspected to a sequent king, who seeks \\nTo stop their overgrowth, as inmate guests \\nOr violence, he of their wicked ways \\nShall them admonish; and before them set \\nThe paths of righteousness, how much more safe \\nAnd full of peace; denouncing wrath to come \\nOn their impenitence; and shall return \\nOf them derided, but of God observed \\nThe one just man alive; by his command \\nShall build a wonderous ark, as thou beheldst, \\nTo save himself, and houshold, from amidst \\nA world devote to universal wrack. \\nNo sooner he, with them of man and beast \\nSelect for life, shall in the ark be lodged, \\nAnd sheltered round; but all the cataracts \\nOf Heaven set open on the Earth shall pour \\nRain, day and night; all fountains of the deep, \\nBroke up, shall heave the ocean to usurp \\nBeyond all bounds; till inundation rise \\nAbove the highest hills:  Then shall this mount \\nOf Paradise by might of waves be moved \\nOut of his place, pushed by the horned flood, \\nWith all his verdure spoiled, and trees adrift, \\nDown the great river to the opening gulf, \\nAnd there take root an island salt and bare, \\nThe haunt of seals, and orcs, and sea-mews\\' clang: \\nTo teach thee that God attributes to place \\nNo sanctity, if none be thither brought \\nBy men who there frequent, or therein dwell. \\nAnd now, what further shall ensue, behold. \\nHe looked, and saw the ark hull on the flood, \\nWhich now abated; for the clouds were fled, \\nDriven by a keen north-wind, that, blowing dry, \\nWrinkled the face of deluge, as decayed; \\nAnd the clear sun on his wide watery glass \\nGazed hot, and of the fresh wave largely drew, \\nAs after thirst; which made their flowing shrink \\nFrom standing lake to tripping ebb, that stole \\nWith soft foot towards the deep; who now had stopt \\nHis sluces, as the Heaven his windows shut. \\nThe ark no more now floats, but seems on ground, \\nFast on the top of some high mountain fixed. \\nAnd now the tops of hills, as rocks, appear; \\nWith clamour thence the rapid currents drive, \\nTowards the retreating sea, their furious tide. \\nForthwith from out the ark a raven flies, \\nAnd after him, the surer messenger, \\nA dove sent forth once and again to spy \\nGreen tree or ground, whereon his foot may light: \\nThe second time returning, in his bill \\nAn olive-leaf he brings, pacifick sign: \\nAnon dry ground appears, and from his ark \\nThe ancient sire descends, with all his train; \\nThen with uplifted hands, and eyes devout, \\nGrateful to Heaven, over his head beholds \\nA dewy cloud, and in the cloud a bow \\nConspicuous with three lifted colours gay, \\nBetokening peace from God, and covenant new. \\nWhereat the heart of Adam, erst so sad, \\nGreatly rejoiced; and thus his joy broke forth. \\nO thou, who future things canst represent \\nAs present, heavenly Instructer!  I revive \\nAt this last sight; assured that Man shall live, \\nWith all the creatures, and their seed preserve. \\nFar less I now lament for one whole world \\nOf wicked sons destroyed, than I rejoice \\nFor one man found so perfect, and so just, \\nThat God vouchsafes to raise another world \\nFrom him, and all his anger to forget. \\nBut say, what mean those coloured streaks in Heaven \\nDistended, as the brow of God appeased? \\nOr serve they, as a flowery verge, to bind \\nThe fluid skirts of that same watery cloud, \\nLest it again dissolve, and shower the earth? \\nTo whom the Arch-Angel.  Dextrously thou aimest; \\nSo willingly doth God remit his ire, \\nThough late repenting him of Man depraved; \\nGrieved at his heart, when looking down he saw \\nThe whole earth filled with violence, and all flesh \\nCorrupting each their way; yet, those removed, \\nSuch grace shall one just man find in his sight, \\nThat he relents, not to blot out mankind; \\nAnd makes a covenant never to destroy \\nThe earth again by flood; nor let the sea \\nSurpass his bounds; nor rain to drown the world, \\nWith man therein or beast; but, when he brings \\nOver the earth a cloud, will therein set \\nHis triple-coloured bow, whereon to look, \\nAnd call to mind his covenant: Day and night, \\nSeed-time and harvest, heat and hoary frost, \\nShall hold their course; till fire purge all things new, \\nBoth Heaven and Earth, wherein the just shall dwell. \\n \\n \\n \\nBook XII                                                         \\n \\n \\nAs one who in his journey bates at noon, \\nThough bent on speed; so here the Arch-Angel paused \\nBetwixt the world destroyed and world restored, \\nIf Adam aught perhaps might interpose; \\nThen, with transition sweet, new speech resumes. \\nThus thou hast seen one world begin, and end; \\nAnd Man, as from a second stock, proceed. \\nMuch thou hast yet to see; but I perceive \\nThy mortal sight to fail; objects divine \\nMust needs impair and weary human sense: \\nHenceforth what is to come I will relate; \\nThou therefore give due audience, and attend. \\nThis second source of Men, while yet but few, \\nAnd while the dread of judgement past remains \\nFresh in their minds, fearing the Deity, \\nWith some regard to what is just and right \\nShall lead their lives, and multiply apace; \\nLabouring the soil, and reaping plenteous crop, \\nCorn, wine, and oil; and, from the herd or flock, \\nOft sacrificing bullock, lamb, or kid, \\nWith large wine-offerings poured, and sacred feast, \\nShall spend their days in joy unblamed; and dwell \\nLong time in peace, by families and tribes, \\nUnder paternal rule: till one shall rise \\nOf proud ambitious heart; who, not content \\nWith fair equality, fraternal state, \\nWill arrogate dominion undeserved \\nOver his brethren, and quite dispossess \\nConcord and law of nature from the earth; \\nHunting (and men not beasts shall be his game) \\nWith war, and hostile snare, such as refuse \\nSubjection to his empire tyrannous: \\nA mighty hunter thence he shall be styled \\nBefore the Lord; as in despite of Heaven, \\nOr from Heaven, claiming second sovranty; \\nAnd from rebellion shall derive his name, \\nThough of rebellion others he accuse. \\nHe with a crew, whom like ambition joins \\nWith him or under him to tyrannize, \\nMarching from Eden towards the west, shall find \\nThe plain, wherein a black bituminous gurge \\nBoils out from under ground, the mouth of Hell: \\nOf brick, and of that stuff, they cast to build \\nA city and tower, whose top may reach to Heaven; \\nAnd get themselves a name; lest, far dispersed \\nIn foreign lands, their memory be lost; \\nRegardless whether good or evil fame. \\nBut God, who oft descends to visit men \\nUnseen, and through their habitations walks \\nTo mark their doings, them beholding soon, \\nComes down to see their city, ere the tower \\nObstruct Heaven-towers, and in derision sets \\nUpon their tongues a various spirit, to rase \\nQuite out their native language; and, instead, \\nTo sow a jangling noise of words unknown: \\nForthwith a hideous gabble rises loud, \\nAmong the builders; each to other calls \\nNot understood; till hoarse, and all in rage, \\nAs mocked they storm: great laughter was in Heaven, \\nAnd looking down, to see the hubbub strange, \\nAnd hear the din:  Thus was the building left \\nRidiculous, and the work Confusion named. \\nWhereto thus Adam, fatherly displeased. \\nO execrable son! so to aspire \\nAbove his brethren; to himself assuming \\nAuthority usurped, from God not given: \\nHe gave us only over beast, fish, fowl, \\nDominion absolute; that right we hold \\nBy his donation; but man over men \\nHe made not lord; such title to himself \\nReserving, human left from human free. \\nBut this usurper his encroachment proud \\nStays not on Man; to God his tower intends \\nSiege and defiance:  Wretched man!what food \\nWill he convey up thither, to sustain \\nHimself and his rash army; where thin air \\nAbove the clouds will pine his entrails gross, \\nAnd famish him of breath, if not of bread? \\nTo whom thus Michael.  Justly thou abhorrest \\nThat son, who on the quiet state of men \\nSuch trouble brought, affecting to subdue \\nRational liberty; yet know withal, \\nSince thy original lapse, true liberty \\nIs lost, which always with right reason dwells \\nTwinned, and from her hath no dividual being: \\nReason in man obscured, or not obeyed, \\nImmediately inordinate desires, \\nAnd upstart passions, catch the government \\nFrom reason; and to servitude reduce \\nMan, till then free.  Therefore, since he permits \\nWithin himself unworthy powers to reign \\nOver free reason, God, in judgement just, \\nSubjects him from without to violent lords; \\nWho oft as undeservedly enthrall \\nHis outward freedom:  Tyranny must be; \\nThough to the tyrant thereby no excuse. \\nYet sometimes nations will decline so low \\nFrom virtue, which is reason, that no wrong, \\nBut justice, and some fatal curse annexed, \\nDeprives them of their outward liberty; \\nTheir inward lost:  Witness the irreverent son \\nOf him who built the ark; who, for the shame \\nDone to his father, heard this heavy curse, \\nServant of servants, on his vicious race. \\nThus will this latter, as the former world, \\nStill tend from bad to worse; till God at last, \\nWearied with their iniquities, withdraw \\nHis presence from among them, and avert \\nHis holy eyes; resolving from thenceforth \\nTo leave them to their own polluted ways; \\nAnd one peculiar nation to select \\nFrom all the rest, of whom to be invoked, \\nA nation from one faithful man to spring: \\nHim on this side Euphrates yet residing, \\nBred up in idol-worship:  O, that men \\n(Canst thou believe?) should be so stupid grown, \\nWhile yet the patriarch lived, who \\'scaped the flood, \\nAs to forsake the living God, and fall \\nTo worship their own work in wood and stone \\nFor Gods!  Yet him God the Most High vouchsafes \\nTo call by vision, from his father\\'s house, \\nHis kindred, and false Gods, into a land \\nWhich he will show him; and from him will raise \\nA mighty nation; and upon him shower \\nHis benediction so, that in his seed \\nAll nations shall be blest: he straight obeys; \\nNot knowing to what land, yet firm believes: \\nI see him, but thou canst not, with what faith \\nHe leaves his Gods, his friends, and native soil, \\nUr of Chaldaea, passing now the ford \\nTo Haran; after him a cumbrous train \\nOf herds and flocks, and numerous servitude; \\nNot wandering poor, but trusting all his wealth \\nWith God, who called him, in a land unknown. \\nCanaan he now attains; I see his tents \\nPitched about Sechem, and the neighbouring plain \\nOf Moreh; there by promise he receives \\nGift to his progeny of all that land, \\nFrom Hameth northward to the Desart south; \\n(Things by their names I call, though yet unnamed;) \\nFrom Hermon east to the great western Sea; \\nMount Hermon, yonder sea; each place behold \\nIn prospect, as I point them; on the shore \\nMount Carmel; here, the double-founted stream, \\nJordan, true limit eastward; but his sons \\nShall dwell to Senir, that long ridge of hills. \\nThis ponder, that all nations of the earth \\nShall in his seed be blessed:  By that seed \\nIs meant thy great Deliverer, who shall bruise \\nThe Serpent\\'s head; whereof to thee anon \\nPlainlier shall be revealed.  This patriarch blest, \\nWhom faithful Abraham due time shall call, \\nA son, and of his son a grand-child, leaves; \\nLike him in faith, in wisdom, and renown: \\nThe grandchild, with twelve sons increased, departs \\nFrom Canaan to a land hereafter called \\nEgypt, divided by the river Nile \\nSee where it flows, disgorging at seven mouths \\nInto the sea. To sojourn in that land \\nHe comes, invited by a younger son \\nIn time of dearth, a son whose worthy deeds \\nRaise him to be the second in that realm \\nOf Pharaoh. There he dies, and leaves his race \\nGrowing into a nation, and now grown \\nSuspected to a sequent king, who seeks \\nTo stop their overgrowth, as inmate guests \\nToo numerous; whence of guests he makes them slaves \\nInhospitably, and kills their infant males: \\nTill by two brethren (these two brethren call \\nMoses and Aaron) sent from God to claim \\nHis people from enthralment, they return, \\nWith glory and spoil, back to their promised land. \\nBut first, the lawless tyrant, who denies \\nTo know their God, or message to regard, \\nMust be compelled by signs and judgements dire; \\nTo blood unshed the rivers must be turned; \\nFrogs, lice, and flies, must all his palace fill \\nWith loathed intrusion, and fill all the land; \\nHis cattle must of rot and murren die; \\nBotches and blains must all his flesh emboss, \\nAnd all his people; thunder mixed with hail, \\nHail mixed with fire, must rend the Egyptians sky, \\nAnd wheel on the earth, devouring where it rolls; \\nWhat it devours not, herb, or fruit, or grain, \\nA darksome cloud of locusts swarming down \\nMust eat, and on the ground leave nothing green; \\nDarkness must overshadow all his bounds, \\nPalpable darkness, and blot out three days; \\nLast, with one midnight stroke, all the first-born \\nOf Egypt must lie dead.  Thus with ten wounds \\nThe river-dragon tamed at length submits \\nTo let his sojourners depart, and oft \\nHumbles his stubborn heart; but still, as ice \\nMore hardened after thaw; till, in his rage \\nPursuing whom he late dismissed, the sea \\nSwallows him with his host; but them lets pass, \\nAs on dry land, between two crystal walls; \\nAwed by the rod of Moses so to stand \\nDivided, till his rescued gain their shore: \\nSuch wondrous power God to his saint will lend, \\nThough present in his Angel; who shall go \\nBefore them in a cloud, and pillar of fire; \\nBy day a cloud, by night a pillar of fire; \\nTo guide them in their journey, and remove \\nBehind them, while the obdurate king pursues: \\nAll night he will pursue; but his approach \\nDarkness defends between till morning watch; \\nThen through the fiery pillar, and the cloud, \\nGod looking forth will trouble all his host, \\nAnd craze their chariot-wheels: when by command \\nMoses once more his potent rod extends \\nOver the sea; the sea his rod obeys; \\nOn their embattled ranks the waves return, \\nAnd overwhelm their war:  The race elect \\nSafe toward Canaan from the shore advance \\nThrough the wild Desart, not the readiest way; \\nLest, entering on the Canaanite alarmed, \\nWar terrify them inexpert, and fear \\nReturn them back to Egypt, choosing rather \\nInglorious life with servitude; for life \\nTo noble and ignoble is more sweet \\nUntrained in arms, where rashness leads not on. \\nThis also shall they gain by their delay \\nIn the wide wilderness; there they shall found \\nTheir government, and their great senate choose \\nThrough the twelve tribes, to rule by laws ordained: \\nGod from the mount of Sinai, whose gray top \\nShall tremble, he descending, will himself \\nIn thunder, lightning, and loud trumpets\\' sound, \\nOrdain them laws; part, such as appertain \\nTo civil justice; part, religious rites \\nOf sacrifice; informing them, by types \\nAnd shadows, of that destined Seed to bruise \\nThe Serpent, by what means he shall achieve \\nMankind\\'s deliverance.  But the voice of God \\nTo mortal ear is dreadful:  They beseech \\nThat Moses might report to them his will, \\nAnd terrour cease; he grants what they besought, \\nInstructed that to God is no access \\nWithout Mediator, whose high office now \\nMoses in figure bears; to introduce \\nOne greater, of whose day he shall foretel, \\nAnd all the Prophets in their age the times \\nOf great Messiah shall sing.  Thus, laws and rites \\nEstablished, such delight hath God in Men \\nObedient to his will, that he vouchsafes \\nAmong them to set up his tabernacle; \\nThe Holy One with mortal Men to dwell: \\nBy his prescript a sanctuary is framed \\nOf cedar, overlaid with gold; therein \\nAn ark, and in the ark his testimony, \\nThe records of his covenant; over these \\nA mercy-seat of gold, between the wings \\nOf two bright Cherubim; before him burn \\nSeven lamps as in a zodiack representing \\nThe heavenly fires; over the tent a cloud \\nShall rest by day, a fiery gleam by night; \\nSave when they journey, and at length they come, \\nConducted by his Angel, to the land \\nPromised to Abraham and his seed:--The rest \\nWere long to tell; how many battles fought \\nHow many kings destroyed; and kingdoms won; \\nOr how the sun shall in mid Heaven stand still \\nA day entire, and night\\'s due course adjourn, \\nMan\\'s voice commanding, \\'Sun, in Gibeon stand, \\n\\'And thou moon in the vale of Aialon, \\n\\'Till Israel overcome! so call the third \\nFrom Abraham, son of Isaac; and from him \\nHis whole descent, who thus shall Canaan win. \\nHere Adam interposed.  O sent from Heaven, \\nEnlightener of my darkness, gracious things \\nThou hast revealed; those chiefly, which concern \\nJust Abraham and his seed: now first I find \\nMine eyes true-opening, and my heart much eased; \\nErewhile perplexed with thoughts, what would become \\nOf me and all mankind:  But now I see \\nHis day, in whom all nations shall be blest; \\nFavour unmerited by me, who sought \\nForbidden knowledge by forbidden means. \\nThis yet I apprehend not, why to those \\nAmong whom God will deign to dwell on earth \\nSo many and so various laws are given; \\nSo many laws argue so many sins \\nAmong them; how can God with such reside? \\nTo whom thus Michael.  Doubt not but that sin \\nWill reign among them, as of thee begot; \\nAnd therefore was law given them, to evince \\nTheir natural pravity, by stirring up \\nSin against law to fight: that when they see \\nLaw can discover sin, but not remove, \\nSave by those shadowy expiations weak, \\nThe blood of bulls and goats, they may conclude \\nSome blood more precious must be paid for Man; \\nJust for unjust; that, in such righteousness \\nTo them by faith imputed, they may find \\nJustification towards God, and peace \\nOf conscience; which the law by ceremonies \\nCannot appease; nor Man the mortal part \\nPerform; and, not performing, cannot live. \\nSo law appears imperfect; and but given \\nWith purpose to resign them, in full time, \\nUp to a better covenant; disciplined \\nFrom shadowy types to truth; from flesh to spirit; \\nFrom imposition of strict laws to free \\nAcceptance of large grace; from servile fear \\nTo filial; works of law to works of faith. \\nAnd therefore shall not Moses, though of God \\nHighly beloved, being but the minister \\nOf law, his people into Canaan lead; \\nBut Joshua, whom the Gentiles Jesus call, \\nHis name and office bearing, who shall quell \\nThe adversary-Serpent, and bring back \\nThrough the world\\'s wilderness long-wandered Man \\nSafe to eternal Paradise of rest. \\nMean while they, in their earthly Canaan placed, \\nLong time shall dwell and prosper, but when sins \\nNational interrupt their publick peace, \\nProvoking God to raise them enemies; \\nFrom whom as oft he saves them penitent \\nBy Judges first, then under Kings; of whom \\nThe second, both for piety renowned \\nAnd puissant deeds, a promise shall receive \\nIrrevocable, that his regal throne \\nFor ever shall endure; the like shall sing \\nAll Prophecy, that of the royal stock \\nOf David (so I name this king) shall rise \\nA Son, the Woman\\'s seed to thee foretold, \\nForetold to Abraham, as in whom shall trust \\nAll nations; and to kings foretold, of kings \\nThe last; for of his reign shall be no end. \\nBut first, a long succession must ensue; \\nAnd his next son, for wealth and wisdom famed, \\nThe clouded ark of God, till then in tents \\nWandering, shall in a glorious temple enshrine. \\nSuch follow him, as shall be registered \\nPart good, part bad; of bad the longer scroll; \\nWhose foul idolatries, and other faults \\nHeaped to the popular sum, will so incense \\nGod, as to leave them, and expose their land, \\nTheir city, his temple, and his holy ark, \\nWith all his sacred things, a scorn and prey \\nTo that proud city, whose high walls thou sawest \\nLeft in confusion; Babylon thence called. \\nThere in captivity he lets them dwell \\nThe space of seventy years; then brings them back, \\nRemembering mercy, and his covenant sworn \\nTo David, stablished as the days of Heaven. \\nReturned from Babylon by leave of kings \\nTheir lords, whom God disposed, the house of God \\nThey first re-edify; and for a while \\nIn mean estate live moderate; till, grown \\nIn wealth and multitude, factious they grow; \\nBut first among the priests dissention springs, \\nMen who attend the altar, and should most \\nEndeavour peace: their strife pollution brings \\nUpon the temple itself: at last they seise \\nThe scepter, and regard not David\\'s sons; \\nThen lose it to a stranger, that the true \\nAnointed King Messiah might be born \\nBarred of his right; yet at his birth a star, \\nUnseen before in Heaven, proclaims him come; \\nAnd guides the eastern sages, who inquire \\nHis place, to offer incense, myrrh, and gold: \\nHis place of birth a solemn Angel tells \\nTo simple shepherds, keeping watch by night; \\nThey gladly thither haste, and by a quire \\nOf squadroned Angels hear his carol sung. \\nA virgin is his mother, but his sire \\nThe power of the Most High:  He shall ascend \\nThe throne hereditary, and bound his reign \\nWith Earth\\'s wide bounds, his glory with the Heavens. \\nHe ceased, discerning Adam with such joy \\nSurcharged, as had like grief been dewed in tears, \\nWithout the vent of words; which these he breathed. \\nO prophet of glad tidings, finisher \\nOf utmost hope! now clear I understand \\nWhat oft my steadiest thoughts have searched in vain; \\nWhy our great Expectation should be called \\nThe seed of Woman:  Virgin Mother, hail, \\nHigh in the love of Heaven; yet from my loins \\nThou shalt proceed, and from thy womb the Son \\nOf God Most High: so God with Man unites! \\nNeeds must the Serpent now his capital bruise \\nExpect with mortal pain:  Say where and when \\nTheir fight, what stroke shall bruise the victor\\'s heel. \\nTo whom thus Michael.  Dream not of their fight, \\nAs of a duel, or the local wounds \\nOf head or heel:  Not therefore joins the Son \\nManhood to Godhead, with more strength to foil \\nThy enemy; nor so is overcome \\nSatan, whose fall from Heaven, a deadlier bruise, \\nDisabled, not to give thee thy death\\'s wound: \\nWhich he, who comes thy Saviour, shall recure, \\nNot by destroying Satan, but his works \\nIn thee, and in thy seed:  Nor can this be, \\nBut by fulfilling that which thou didst want, \\nObedience to the law of God, imposed \\nOn penalty of death, and suffering death; \\nThe penalty to thy transgression due, \\nAnd due to theirs which out of thine will grow: \\nSo only can high Justice rest appaid. \\nThe law of God exact he shall fulfil \\nBoth by obedience and by love, though love \\nAlone fulfil the law; thy punishment \\nHe shall endure, by coming in the flesh \\nTo a reproachful life, and cursed death; \\nProclaiming life to all who shall believe \\nIn his redemption; and that his obedience, \\nImputed, becomes theirs by faith; his merits \\nTo save them, not their own, though legal, works. \\nFor this he shall live hated, be blasphemed, \\nSeised on by force, judged, and to death condemned \\nA shameful and accursed, nailed to the cross \\nBy his own nation; slain for bringing life: \\nBut to the cross he nails thy enemies, \\nThe law that is against thee, and the sins \\nOf all mankind, with him there crucified, \\nNever to hurt them more who rightly trust \\nIn this his satisfaction; so he dies, \\nBut soon revives; Death over him no power \\nShall long usurp; ere the third dawning light \\nReturn, the stars of morn shall see him rise \\nOut of his grave, fresh as the dawning light, \\nThy ransom paid, which Man from death redeems, \\nHis death for Man, as many as offered life \\nNeglect not, and the benefit embrace \\nBy faith not void of works:  This God-like act \\nAnnuls thy doom, the death thou shouldest have died, \\nIn sin for ever lost from life; this act \\nShall bruise the head of Satan, crush his strength, \\nDefeating Sin and Death, his two main arms; \\nAnd fix far deeper in his head their stings \\nThan temporal death shall bruise the victor\\'s heel, \\nOr theirs whom he redeems; a death, like sleep, \\nA gentle wafting to immortal life. \\nNor after resurrection shall he stay \\nLonger on earth, than certain times to appear \\nTo his disciples, men who in his life \\nStill followed him; to them shall leave in charge \\nTo teach all nations what of him they learned \\nAnd his salvation; them who shall believe \\nBaptizing in the profluent stream, the sign \\nOf washing them from guilt of sin to life \\nPure, and in mind prepared, if so befall, \\nFor death, like that which the Redeemer died. \\nAll nations they shall teach; for, from that day, \\nNot only to the sons of Abraham\\'s loins \\nSalvation shall be preached, but to the sons \\nOf Abraham\\'s faith wherever through the world; \\nSo in his seed all nations shall be blest. \\nThen to the Heaven of Heavens he shall ascend \\nWith victory, triumphing through the air \\nOver his foes and thine; there shall surprise \\nThe Serpent, prince of air, and drag in chains \\nThrough all his realm, and there confounded leave; \\nThen enter into glory, and resume \\nHis seat at God\\'s right hand, exalted high \\nAbove all names in Heaven; and thence shall come, \\nWhen this world\\'s dissolution shall be ripe, \\nWith glory and power to judge both quick and dead; \\nTo judge the unfaithful dead, but to reward \\nHis faithful, and receive them into bliss, \\nWhether in Heaven or Earth; for then the Earth \\nShall all be Paradise, far happier place \\nThan this of Eden, and far happier days. \\nSo spake the Arch-Angel Michael; then paused, \\nAs at the world\\'s great period; and our sire, \\nReplete with joy and wonder, thus replied. \\nO Goodness infinite, Goodness immense! \\nThat all this good of evil shall produce, \\nAnd evil turn to good; more wonderful \\nThan that which by creation first brought forth \\nLight out of darkness!  Full of doubt I stand, \\nWhether I should repent me now of sin \\nBy me done, and occasioned; or rejoice \\nMuch more, that much more good thereof shall spring; \\nTo God more glory, more good-will to Men \\nFrom God, and over wrath grace shall abound. \\nBut say, if our Deliverer up to Heaven \\nMust re-ascend, what will betide the few \\nHis faithful, left among the unfaithful herd, \\nThe enemies of truth?  Who then shall guide \\nHis people, who defend?  Will they not deal \\nWorse with his followers than with him they dealt? \\nBe sure they will, said the Angel; but from Heaven \\nHe to his own a Comforter will send, \\nThe promise of the Father, who shall dwell \\nHis Spirit within them; and the law of faith, \\nWorking through love, upon their hearts shall write, \\nTo guide them in all truth; and also arm \\nWith spiritual armour, able to resist \\nSatan\\'s assaults, and quench his fiery darts; \\nWhat man can do against them, not afraid, \\nThough to the death; against such cruelties \\nWith inward consolations recompensed, \\nAnd oft supported so as shall amaze \\nTheir proudest persecutors:  For the Spirit, \\nPoured first on his Apostles, whom he sends \\nTo evangelize the nations, then on all \\nBaptized, shall them with wonderous gifts endue \\nTo speak all tongues, and do all miracles, \\nAs did their Lord before them.  Thus they win \\nGreat numbers of each nation to receive \\nWith joy the tidings brought from Heaven:  At length \\nTheir ministry performed, and race well run, \\nTheir doctrine and their story written left, \\nThey die; but in their room, as they forewarn, \\nWolves shall succeed for teachers, grievous wolves, \\nWho all the sacred mysteries of Heaven \\nTo their own vile advantages shall turn \\nOf lucre and ambition; and the truth \\nWith superstitions and traditions taint, \\nLeft only in those written records pure, \\nThough not but by the Spirit understood. \\nThen shall they seek to avail themselves of names, \\nPlaces, and titles, and with these to join \\nSecular power; though feigning still to act \\nBy spiritual, to themselves appropriating \\nThe Spirit of God, promised alike and given \\nTo all believers; and, from that pretence, \\nSpiritual laws by carnal power shall force \\nOn every conscience; laws which none shall find \\nLeft them inrolled, or what the Spirit within \\nShall on the heart engrave.  What will they then \\nBut force the Spirit of Grace itself, and bind \\nHis consort Liberty? what, but unbuild \\nHis living temples, built by faith to stand, \\nTheir own faith, not another\\'s? for, on earth, \\nWho against faith and conscience can be heard \\nInfallible? yet many will presume: \\nWhence heavy persecution shall arise \\nOn all, who in the worship persevere \\nOf spirit and truth; the rest, far greater part, \\nWill deem in outward rites and specious forms \\nReligion satisfied; Truth shall retire \\nBestuck with slanderous darts, and works of faith \\nRarely be found:  So shall the world go on, \\nTo good malignant, to bad men benign; \\nUnder her own weight groaning; till the day \\nAppear of respiration to the just, \\nAnd vengeance to the wicked, at return \\nOf him so lately promised to thy aid, \\nThe Woman\\'s Seed; obscurely then foretold, \\nNow ampler known thy Saviour and thy Lord; \\nLast, in the clouds, from Heaven to be revealed \\nIn glory of the Father, to dissolve \\nSatan with his perverted world; then raise \\nFrom the conflagrant mass, purged and refined, \\nNew Heavens, new Earth, ages of endless date, \\nFounded in righteousness, and peace, and love; \\nTo bring forth fruits, joy and eternal bliss. \\nHe ended; and thus Adam last replied. \\nHow soon hath thy prediction, Seer blest, \\nMeasured this transient world, the race of time, \\nTill time stand fixed!  Beyond is all abyss, \\nEternity, whose end no eye can reach. \\nGreatly-instructed I shall hence depart; \\nGreatly in peace of thought; and have my fill \\nOf knowledge, what this vessel can contain; \\nBeyond which was my folly to aspire. \\nHenceforth I learn, that to obey is best, \\nAnd love with fear the only God; to walk \\nAs in his presence; ever to observe \\nHis providence; and on him sole depend, \\nMerciful over all his works, with good \\nStill overcoming evil, and by small \\nAccomplishing great things, by things deemed weak \\nSubverting worldly strong, and worldly wise \\nBy simply meek: that suffering for truth\\'s sake \\nIs fortitude to highest victory, \\nAnd, to the faithful, death the gate of life; \\nTaught this by his example, whom I now \\nAcknowledge my Redeemer ever blest. \\nTo whom thus also the Angel last replied. \\nThis having learned, thou hast attained the sum \\nOf wisdom; hope no higher, though all the stars \\nThou knewest by name, and all the ethereal powers, \\nAll secrets of the deep, all Nature\\'s works, \\nOr works of God in Heaven, air, earth, or sea, \\nAnd all the riches of this world enjoyedst, \\nAnd all the rule, one empire; only add \\nDeeds to thy knowledge answerable; add faith, \\nAdd virtue, patience, temperance; add love, \\nBy name to come called charity, the soul \\nOf all the rest: then wilt thou not be loth \\nTo leave this Paradise, but shalt possess \\nA Paradise within thee, happier far.-- \\nLet us descend now therefore from this top \\nOf speculation; for the hour precise \\nExacts our parting hence; and see!the guards, \\nBy me encamped on yonder hill, expect \\nTheir motion; at whose front a flaming sword, \\nIn signal of remove, waves fiercely round: \\nWe may no longer stay: go, waken Eve; \\nHer also I with gentle dreams have calmed \\nPortending good, and all her spirits composed \\nTo meek submission: thou, at season fit, \\nLet her with thee partake what thou hast heard; \\nChiefly what may concern her faith to know, \\nThe great deliverance by her seed to come \\n(For by the Woman\\'s seed) on all mankind: \\nThat ye may live, which will be many days, \\nBoth in one faith unanimous, though sad, \\nWith cause, for evils past; yet much more cheered \\nWith meditation on the happy end. \\nHe ended, and they both descend the hill; \\nDescended, Adam to the bower, where Eve \\nLay sleeping, ran before; but found her waked; \\nAnd thus with words not sad she him received. \\nWhence thou returnest, and whither wentest, I know; \\nFor God is also in sleep; and dreams advise, \\nWhich he hath sent propitious, some great good \\nPresaging, since with sorrow and heart\\'s distress \\nWearied I fell asleep:  But now lead on; \\nIn me is no delay; with thee to go, \\nIs to stay here; without thee here to stay, \\nIs to go hence unwilling; thou to me \\nArt all things under $Heaven, all places thou, \\nWho for my wilful crime art banished hence. \\nThis further consolation yet secure \\nI carry hence; though all by me is lost, \\nSuch favour I unworthy am vouchsafed, \\nBy me the Promised Seed shall all restore. \\nSo spake our mother Eve; and Adam heard \\nWell pleased, but answered not:  For now, too nigh \\nThe Arch-Angel stood; and, from the other hill \\nTo their fixed station, all in bright array \\nThe Cherubim descended; on the ground \\nGliding meteorous, as evening-mist \\nRisen from a river o\\'er the marish glides, \\nAnd gathers ground fast at the labourer\\'s heel \\nHomeward returning.  High in front advanced, \\nThe brandished sword of God before them blazed, \\nFierce as a comet; which with torrid heat, \\nAnd vapour as the Libyan air adust, \\nBegan to parch that temperate clime; whereat \\nIn either hand the hastening Angel caught \\nOur lingering parents, and to the eastern gate \\nLed them direct, and down the cliff as fast \\nTo the subjected plain; then disappeared. \\nThey, looking back, all the eastern side beheld \\nOf Paradise, so late their happy seat, \\nWaved over by that flaming brand; the gate \\nWith dreadful faces thronged, and fiery arms: \\nSome natural tears they dropt, but wiped them soon; \\nThe world was all before them, where to choose \\nTheir place of rest, and Providence their guide: \\nThey, hand in hand, with wandering steps and slow, \\nThrough Eden took their solitary way. \\n \\n[The End]\\x1a\\x1a\\n'"
      ]
     },
     "execution_count": 25,
     "metadata": {},
     "output_type": "execute_result"
    }
   ],
   "source": [
    "gutenberg.raw('milton-paradise.txt')"
   ]
  },
  {
   "cell_type": "code",
   "execution_count": 33,
   "metadata": {},
   "outputs": [
    {
     "name": "stdout",
     "output_type": "stream",
     "text": [
      "4 24 26 austen-emma.txt\n",
      "4 26 16 austen-persuasion.txt\n",
      "4 28 22 austen-sense.txt\n",
      "4 33 79 bible-kjv.txt\n",
      "4 19 5 blake-poems.txt\n",
      "4 19 14 bryant-stories.txt\n",
      "4 17 12 burgess-busterbrown.txt\n",
      "4 20 12 carroll-alice.txt\n",
      "4 20 11 chesterton-ball.txt\n",
      "4 22 11 chesterton-brown.txt\n",
      "4 18 10 chesterton-thursday.txt\n",
      "4 20 24 edgeworth-parents.txt\n",
      "4 25 15 melville-moby_dick.txt\n",
      "4 52 10 milton-paradise.txt\n",
      "4 11 8 shakespeare-caesar.txt\n",
      "4 12 7 shakespeare-hamlet.txt\n",
      "4 12 6 shakespeare-macbeth.txt\n",
      "4 36 12 whitman-leaves.txt\n"
     ]
    }
   ],
   "source": [
    "for x in gutenberg.fileids():\n",
    "    num_char = len(gutenberg.raw(x))\n",
    "    num_word = len(gutenberg.words(x))\n",
    "    num_sents = len(gutenberg.sents(x))\n",
    "    num_vocab = len(set([w.lower() for w in gutenberg.words(x)]))\n",
    "    print(int(num_char/num_word),int(num_word/num_sents),int(num_word/num_vocab),x)"
   ]
  },
  {
   "cell_type": "code",
   "execution_count": 35,
   "metadata": {},
   "outputs": [
    {
     "data": {
      "text/plain": [
       "4332554"
      ]
     },
     "execution_count": 35,
     "metadata": {},
     "output_type": "execute_result"
    }
   ],
   "source": [
    "len(gutenberg.raw('bible-kjv.txt'))"
   ]
  },
  {
   "cell_type": "markdown",
   "metadata": {},
   "source": [
    "### Web and Chat Text"
   ]
  },
  {
   "cell_type": "code",
   "execution_count": 36,
   "metadata": {},
   "outputs": [],
   "source": [
    "from nltk.corpus import webtext"
   ]
  },
  {
   "cell_type": "code",
   "execution_count": 37,
   "metadata": {},
   "outputs": [
    {
     "name": "stdout",
     "output_type": "stream",
     "text": [
      "firefox.txt Cookie Manager: \"Don\n",
      "grail.txt SCENE 1: [wind] [clo\n",
      "overheard.txt White guy: So, do yo\n",
      "pirates.txt PIRATES OF THE CARRI\n",
      "singles.txt 25 SEXY MALE, seeks \n",
      "wine.txt Lovely delicate, fra\n"
     ]
    }
   ],
   "source": [
    "for x in webtext.fileids():\n",
    "    print(x , webtext.raw(x)[:20])"
   ]
  },
  {
   "cell_type": "code",
   "execution_count": 58,
   "metadata": {},
   "outputs": [
    {
     "data": {
      "text/plain": [
       "['10-19-20s_706posts.xml',\n",
       " '10-19-30s_705posts.xml',\n",
       " '10-19-40s_686posts.xml',\n",
       " '10-19-adults_706posts.xml',\n",
       " '10-24-40s_706posts.xml',\n",
       " '10-26-teens_706posts.xml',\n",
       " '11-06-adults_706posts.xml',\n",
       " '11-08-20s_705posts.xml',\n",
       " '11-08-40s_706posts.xml',\n",
       " '11-08-adults_705posts.xml',\n",
       " '11-08-teens_706posts.xml',\n",
       " '11-09-20s_706posts.xml',\n",
       " '11-09-40s_706posts.xml',\n",
       " '11-09-adults_706posts.xml',\n",
       " '11-09-teens_706posts.xml']"
      ]
     },
     "execution_count": 58,
     "metadata": {},
     "output_type": "execute_result"
    }
   ],
   "source": [
    "from nltk.corpus import nps_chat\n",
    "nps_chat.fileids()\n"
   ]
  },
  {
   "cell_type": "code",
   "execution_count": 66,
   "metadata": {},
   "outputs": [
    {
     "data": {
      "text/plain": [
       "['any', 'hot', 'guys', 'wanna', 'chat', '22', '-', '30']"
      ]
     },
     "execution_count": 66,
     "metadata": {},
     "output_type": "execute_result"
    }
   ],
   "source": [
    "chatroom = nps_chat.posts('10-19-20s_706posts.xml')\n",
    "chatroom[555]"
   ]
  },
  {
   "cell_type": "markdown",
   "metadata": {},
   "source": [
    "# Brown Corpus"
   ]
  },
  {
   "cell_type": "code",
   "execution_count": 2,
   "metadata": {},
   "outputs": [],
   "source": [
    "import nltk\n",
    "from nltk.corpus import brown"
   ]
  },
  {
   "cell_type": "code",
   "execution_count": 3,
   "metadata": {},
   "outputs": [
    {
     "data": {
      "text/plain": [
       "['adventure',\n",
       " 'belles_lettres',\n",
       " 'editorial',\n",
       " 'fiction',\n",
       " 'government',\n",
       " 'hobbies',\n",
       " 'humor',\n",
       " 'learned',\n",
       " 'lore',\n",
       " 'mystery',\n",
       " 'news',\n",
       " 'religion',\n",
       " 'reviews',\n",
       " 'romance',\n",
       " 'science_fiction']"
      ]
     },
     "execution_count": 3,
     "metadata": {},
     "output_type": "execute_result"
    }
   ],
   "source": [
    "brown.categories()"
   ]
  },
  {
   "cell_type": "code",
   "execution_count": 4,
   "metadata": {},
   "outputs": [
    {
     "data": {
      "text/plain": [
       "['The', 'Fulton', 'County', 'Grand', 'Jury', 'said', ...]"
      ]
     },
     "execution_count": 4,
     "metadata": {},
     "output_type": "execute_result"
    }
   ],
   "source": [
    "brown.words()"
   ]
  },
  {
   "cell_type": "code",
   "execution_count": 5,
   "metadata": {},
   "outputs": [
    {
     "data": {
      "text/plain": [
       "[['The', 'Fulton', 'County', 'Grand', 'Jury', 'said', 'Friday', 'an', 'investigation', 'of', \"Atlanta's\", 'recent', 'primary', 'election', 'produced', '``', 'no', 'evidence', \"''\", 'that', 'any', 'irregularities', 'took', 'place', '.'], ['The', 'jury', 'further', 'said', 'in', 'term-end', 'presentments', 'that', 'the', 'City', 'Executive', 'Committee', ',', 'which', 'had', 'over-all', 'charge', 'of', 'the', 'election', ',', '``', 'deserves', 'the', 'praise', 'and', 'thanks', 'of', 'the', 'City', 'of', 'Atlanta', \"''\", 'for', 'the', 'manner', 'in', 'which', 'the', 'election', 'was', 'conducted', '.'], ...]"
      ]
     },
     "execution_count": 5,
     "metadata": {},
     "output_type": "execute_result"
    }
   ],
   "source": [
    "brown.sents(categories='news')"
   ]
  },
  {
   "cell_type": "code",
   "execution_count": 6,
   "metadata": {},
   "outputs": [
    {
     "data": {
      "text/plain": [
       "['The', 'Fulton', 'County', 'Grand', 'Jury', 'said', ...]"
      ]
     },
     "execution_count": 6,
     "metadata": {},
     "output_type": "execute_result"
    }
   ],
   "source": [
    "brown.words(categories=['news', 'editorial', 'reviews'])"
   ]
  },
  {
   "cell_type": "code",
   "execution_count": 7,
   "metadata": {},
   "outputs": [
    {
     "data": {
      "text/plain": [
       "['They', 'neither', 'liked', 'nor', 'disliked', 'the', ...]"
      ]
     },
     "execution_count": 7,
     "metadata": {},
     "output_type": "execute_result"
    }
   ],
   "source": [
    "romance_text=brown.words(categories='romance')\n",
    "romance_text"
   ]
  },
  {
   "cell_type": "code",
   "execution_count": 8,
   "metadata": {},
   "outputs": [
    {
     "data": {
      "text/plain": [
       "70022"
      ]
     },
     "execution_count": 8,
     "metadata": {},
     "output_type": "execute_result"
    }
   ],
   "source": [
    "len(romance_text)"
   ]
  },
  {
   "cell_type": "code",
   "execution_count": 9,
   "metadata": {},
   "outputs": [],
   "source": [
    "fdist=nltk.FreqDist([w.lower() for w in romance_text])"
   ]
  },
  {
   "cell_type": "code",
   "execution_count": 10,
   "metadata": {},
   "outputs": [
    {
     "data": {
      "text/plain": [
       "FreqDist({',': 3899, '.': 3736, 'the': 2988, 'and': 1905, 'to': 1517, 'a': 1383, 'of': 1202, 'he': 1068, '``': 1045, \"''\": 1044, ...})"
      ]
     },
     "execution_count": 10,
     "metadata": {},
     "output_type": "execute_result"
    }
   ],
   "source": [
    "fdist"
   ]
  },
  {
   "cell_type": "code",
   "execution_count": 11,
   "metadata": {},
   "outputs": [
    {
     "data": {
      "text/plain": [
       "36"
      ]
     },
     "execution_count": 11,
     "metadata": {},
     "output_type": "execute_result"
    }
   ],
   "source": [
    "fdist['love']\n",
    "#number of occurance word 'love'"
   ]
  },
  {
   "cell_type": "code",
   "execution_count": 12,
   "metadata": {},
   "outputs": [
    {
     "name": "stdout",
     "output_type": "stream",
     "text": [
      "can : 79\n",
      "may : 11\n",
      "would : 247\n",
      "might : 51\n",
      "must : 46\n",
      "will : 49\n"
     ]
    }
   ],
   "source": [
    "models = ['can','may','would','might','must','will']\n",
    "for m in models:\n",
    "    print(m,':', fdist[m])"
   ]
  },
  {
   "cell_type": "code",
   "execution_count": 13,
   "metadata": {},
   "outputs": [
    {
     "name": "stdout",
     "output_type": "stream",
     "text": [
      "when : 68\n",
      "which : 265\n",
      "where : 48\n",
      "what : 58\n",
      "why : 6\n",
      "who : 77\n"
     ]
    }
   ],
   "source": [
    "wh_words = ['when','which','where','what','why','who']\n",
    "gov_text=brown.words(categories='government')\n",
    "fdist1=nltk.FreqDist([w.lower() for w in gov_text])\n",
    "for wh in wh_words:\n",
    "    print(wh,':',fdist1[wh])"
   ]
  },
  {
   "cell_type": "code",
   "execution_count": 14,
   "metadata": {},
   "outputs": [],
   "source": [
    "cfd = nltk.ConditionalFreqDist((genre,word)\n",
    "                               for genre in brown.categories()\n",
    "                               for word in brown.words(categories=genre))"
   ]
  },
  {
   "cell_type": "code",
   "execution_count": 13,
   "metadata": {},
   "outputs": [
    {
     "name": "stdout",
     "output_type": "stream",
     "text": [
      "                 what  when   why   who where which \n",
      "           news    76   128     9   268    58   244 \n",
      "       religion    64    53    14   100    20   202 \n",
      "        hobbies    78   119    10   103    72   252 \n",
      "science_fiction    27    21     4    13    10    32 \n",
      "        romance   121   126    34    89    54   104 \n",
      "          humor    36    52     9    48    15    62 \n"
     ]
    }
   ],
   "source": [
    "genres = ['news','religion','hobbies','science_fiction','romance','humor']\n",
    "modals=['what','when','why','who','where','which']\n",
    "cfd.tabulate(conditions=genres,samples=modals)"
   ]
  },
  {
   "cell_type": "markdown",
   "metadata": {},
   "source": [
    "## Done by Mohammad Zahrawi __ eng.moh.zahrawi@gmail.com __ +971544625185"
   ]
  },
  {
   "cell_type": "code",
   "execution_count": null,
   "metadata": {},
   "outputs": [],
   "source": []
  },
  {
   "cell_type": "code",
   "execution_count": null,
   "metadata": {},
   "outputs": [],
   "source": []
  }
 ],
 "metadata": {
  "kernelspec": {
   "display_name": "Python 3",
   "language": "python",
   "name": "python3"
  },
  "language_info": {
   "codemirror_mode": {
    "name": "ipython",
    "version": 3
   },
   "file_extension": ".py",
   "mimetype": "text/x-python",
   "name": "python",
   "nbconvert_exporter": "python",
   "pygments_lexer": "ipython3",
   "version": "3.7.6"
  }
 },
 "nbformat": 4,
 "nbformat_minor": 4
}
