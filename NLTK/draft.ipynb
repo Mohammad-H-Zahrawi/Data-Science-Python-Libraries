{
 "cells": [
  {
   "cell_type": "code",
   "execution_count": null,
   "metadata": {},
   "outputs": [],
   "source": [
    "def answer_one():\n",
    "    \n",
    "    \n",
    "    return (len(set(nltk.word_tokenize(moby_raw)))/len(nltk.word_tokenize(moby_raw)))\n",
    "\n",
    "answer_one()"
   ]
  },
  {
   "cell_type": "code",
   "execution_count": null,
   "metadata": {},
   "outputs": [],
   "source": [
    "def answer_two():\n",
    "    \n",
    "    \n",
    "    return (len([w for w in nltk.word_tokenize(moby_raw) if w.lower()=='whale'])*100/len(nltk.word_tokenize(moby_raw)))\n",
    "\n",
    "answer_two()"
   ]
  },
  {
   "cell_type": "code",
   "execution_count": null,
   "metadata": {},
   "outputs": [],
   "source": [
    "def answer_three():\n",
    "    \n",
    "    \n",
    "    return (token for token in nltk.FreqDist(nltk.word_tokenize(moby_raw)).most_common(20))\n",
    "\n",
    "answer_three()"
   ]
  },
  {
   "cell_type": "code",
   "execution_count": null,
   "metadata": {},
   "outputs": [],
   "source": [
    "def answer_four():\n",
    "    \n",
    "    \n",
    "    return (tolen for token in nltk.FreqDist(nltk.word_tokenize(moby_raw)).keys() if len(token)>5 and nltk.FreqDist(nltk.word_tokenize(moby_raw)[token]>150) )\n",
    "\n",
    "answer_four()"
   ]
  },
  {
   "cell_type": "code",
   "execution_count": null,
   "metadata": {},
   "outputs": [],
   "source": [
    "def answer_five():\n",
    "    maxx = 0\n",
    "    max_word=' '\n",
    "    for word in nltk.word_tokenize(moby_raw):\n",
    "        if len(word)>maxx:\n",
    "            maxx=len(word)\n",
    "            max_word=word\n",
    "    \n",
    "    return (max_word,maxx)\n",
    "\n",
    "answer_five()"
   ]
  },
  {
   "cell_type": "code",
   "execution_count": null,
   "metadata": {},
   "outputs": [],
   "source": [
    "def answer_six():\n",
    "    \n",
    "    \n",
    "    return set([word for word in nltk.word_tokenize(moby_raw) if word.isalpha() and nltk.FreqDist(li)[word]>2000])\n",
    "\n",
    "answer_six()"
   ]
  },
  {
   "cell_type": "code",
   "execution_count": null,
   "metadata": {},
   "outputs": [],
   "source": [
    "def answer_seven():\n",
    "    \n",
    "    \n",
    "    return (len(nltk.word_tokenize(moby_raw))/len(nltk.sent_tokenize(moby_raw)))\n",
    "\n",
    "answer_seven()"
   ]
  },
  {
   "cell_type": "code",
   "execution_count": null,
   "metadata": {},
   "outputs": [],
   "source": [
    "def answer_eight():\n",
    "    pos=[]\n",
    "    for word,freq in text:\n",
    "        pos.append(freq)\n",
    "    fd=nltk.FreqDist(pos)\n",
    "\n",
    "    \n",
    "    return (fd.most_common(5))\n",
    "\n",
    "answer_eight()"
   ]
  },
  {
   "cell_type": "code",
   "execution_count": null,
   "metadata": {},
   "outputs": [],
   "source": []
  },
  {
   "cell_type": "code",
   "execution_count": null,
   "metadata": {},
   "outputs": [],
   "source": []
  },
  {
   "cell_type": "code",
   "execution_count": null,
   "metadata": {},
   "outputs": [],
   "source": []
  },
  {
   "cell_type": "code",
   "execution_count": null,
   "metadata": {},
   "outputs": [],
   "source": []
  }
 ],
 "metadata": {
  "kernelspec": {
   "display_name": "Python 3",
   "language": "python",
   "name": "python3"
  },
  "language_info": {
   "codemirror_mode": {
    "name": "ipython",
    "version": 3
   },
   "file_extension": ".py",
   "mimetype": "text/x-python",
   "name": "python",
   "nbconvert_exporter": "python",
   "pygments_lexer": "ipython3",
   "version": "3.7.6"
  }
 },
 "nbformat": 4,
 "nbformat_minor": 4
}
